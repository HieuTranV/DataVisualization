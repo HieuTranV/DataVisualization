{
 "cells": [
  {
   "cell_type": "markdown",
   "metadata": {},
   "source": [
    "Họ và tên: Võ Thị Hiếu \\\n",
    "ID: 18120379"
   ]
  },
  {
   "cell_type": "markdown",
   "metadata": {},
   "source": [
    "# *PYTHON*"
   ]
  },
  {
   "cell_type": "markdown",
   "metadata": {},
   "source": [
    "## Basic data types"
   ]
  },
  {
   "cell_type": "code",
   "execution_count": 1,
   "metadata": {},
   "outputs": [
    {
     "name": "stdout",
     "output_type": "stream",
     "text": [
      "x =  3\n",
      "y =  4.566778\n",
      "z =  2.6\n",
      "type of x: <class 'int'>\n",
      "type of y: <class 'float'>\n",
      "type of x/y: <class 'float'>\n",
      "type of x^2: <class 'int'>\n"
     ]
    }
   ],
   "source": [
    "    #Number \n",
    "x = 3\n",
    "y =4.566778\n",
    "z = 13/5\n",
    "print(f\"x = \", x)\n",
    "print(f\"y = \", y)\n",
    "print(f\"z = \", z)\n",
    "print(f\"type of x:\", type(x))\n",
    "print(f\"type of y:\", type(y))\n",
    "print(f\"type of x/y:\", type(x/y))\n",
    "print(f\"type of x^2:\", type(x**2))"
   ]
  },
  {
   "cell_type": "code",
   "execution_count": 2,
   "metadata": {},
   "outputs": [
    {
     "name": "stdout",
     "output_type": "stream",
     "text": [
      "False\n"
     ]
    }
   ],
   "source": [
    "    #Booleans\n",
    "T= True\n",
    "F = False\n",
    "x = 4\n",
    "y = 5-2\n",
    "print(x==y)"
   ]
  },
  {
   "cell_type": "code",
   "execution_count": 3,
   "metadata": {},
   "outputs": [
    {
     "name": "stdout",
     "output_type": "stream",
     "text": [
      "My full name is Vo Thi Hieu\n"
     ]
    }
   ],
   "source": [
    "    #Strings\n",
    "first_name = \"Hieu\"\n",
    "middle_name = \"Thi\"\n",
    "last_name = \"Vo\"\n",
    "full_name = last_name + \" \" + middle_name + \" \"+ first_name\n",
    "print(f\"My full name is\", full_name)"
   ]
  },
  {
   "cell_type": "markdown",
   "metadata": {},
   "source": [
    "## Container "
   ]
  },
  {
   "cell_type": "code",
   "execution_count": 4,
   "metadata": {},
   "outputs": [
    {
     "name": "stdout",
     "output_type": "stream",
     "text": [
      "All elements of list: [32, 67, 56, 57, 12]\n",
      "Second element of list: 67\n",
      "Last element: 12\n",
      "List after adding a new element: [32, 67, 56, 57, 12, 34]\n",
      "Two first elements in list: [32, 67]\n",
      "cat\n",
      "dog\n",
      "bird\n",
      "turle\n"
     ]
    }
   ],
   "source": [
    "# List\n",
    "list_ex = [32, 67,56, 57,12]\n",
    "print(f\"All elements of list:\",list_ex)\n",
    "print(f\"Second element of list:\", list_ex[1])\n",
    "print(\"Last element:\", list_ex[-1])\n",
    "list_ex.append(34)\n",
    "print(\"List after adding a new element:\", list_ex)\n",
    "print(f\"Two first elements in list:\", list_ex[:2])\n",
    "\n",
    "animals = [\"cat\", \"dog\", \"bird\", \"turle\"]\n",
    "for animal in animals:\n",
    "    print(animal)"
   ]
  },
  {
   "cell_type": "code",
   "execution_count": 5,
   "metadata": {},
   "outputs": [
    {
     "name": "stdout",
     "output_type": "stream",
     "text": [
      "Vo\n",
      "Add a new element: {'a': 1, 'c': 3, 'last_name': 'Vo', 'first_name': 'Hieu'}\n",
      "a : 1\n",
      "c : 3\n",
      "last_name : Vo\n",
      "first_name : Hieu\n"
     ]
    }
   ],
   "source": [
    "# Dictionaries\n",
    "dic = {'a':1, 'c':3, 'last_name':'Vo'}\n",
    "print(dic['last_name'])\n",
    "dic['first_name']= 'Hieu'\n",
    "print(f\"Add a new element:\", dic)\n",
    "for each in list(dic.keys()):\n",
    "    print(each, \":\", dic[each])"
   ]
  },
  {
   "cell_type": "code",
   "execution_count": 6,
   "metadata": {},
   "outputs": [
    {
     "name": "stdout",
     "output_type": "stream",
     "text": [
      "{'bird', 'cat', 'turle', 'dog', 'monkey'}\n",
      "{'bird', 'cat', 'turle', 'monkey'}\n"
     ]
    }
   ],
   "source": [
    "#Set\n",
    "animals = {\"cat\", \"dog\", \"bird\", \"turle\"}\n",
    "animals.add(\"monkey\")\n",
    "print(animals)\n",
    "animals.remove(\"dog\")\n",
    "print(animals)"
   ]
  },
  {
   "cell_type": "code",
   "execution_count": 7,
   "metadata": {},
   "outputs": [
    {
     "name": "stdout",
     "output_type": "stream",
     "text": [
      "<class 'tuple'>\n",
      "5\n",
      "1\n"
     ]
    }
   ],
   "source": [
    "# Tuples\n",
    "d = {(x, x + 1): x for x in range(10)}\n",
    "t = (5, 6)\n",
    "print(type(t))\n",
    "print(d[t])\n",
    "print(d[(1, 2)]) "
   ]
  },
  {
   "cell_type": "markdown",
   "metadata": {},
   "source": [
    "## Function"
   ]
  },
  {
   "cell_type": "code",
   "execution_count": 8,
   "metadata": {},
   "outputs": [],
   "source": [
    "import random\n",
    "def rolling():\n",
    "    \"\"\"\n",
    "    return value after rolling a single dice\n",
    "    \"\"\"\n",
    "    return random.randint(1, 6)\n",
    "def prob(npres, value):\n",
    "    \"\"\"\n",
    "    return probability roll a dice getting number 'value'\n",
    "    \"\"\"\n",
    "    return sum(value == S for S in (rolling() for i in range(npres)))/npres"
   ]
  },
  {
   "cell_type": "code",
   "execution_count": 9,
   "metadata": {},
   "outputs": [
    {
     "data": {
      "text/plain": [
       "0.14"
      ]
     },
     "execution_count": 9,
     "metadata": {},
     "output_type": "execute_result"
    }
   ],
   "source": [
    "prob(100, 3)"
   ]
  },
  {
   "cell_type": "markdown",
   "metadata": {},
   "source": [
    "# *Numpy*"
   ]
  },
  {
   "cell_type": "markdown",
   "metadata": {},
   "source": [
    "## Array"
   ]
  },
  {
   "cell_type": "code",
   "execution_count": 10,
   "metadata": {},
   "outputs": [],
   "source": [
    "import numpy as np"
   ]
  },
  {
   "cell_type": "code",
   "execution_count": 11,
   "metadata": {},
   "outputs": [
    {
     "name": "stdout",
     "output_type": "stream",
     "text": [
      "[1 2 3]\n",
      "1\n",
      "3\n",
      "(3,)\n"
     ]
    }
   ],
   "source": [
    "ar1D = np.array([1,2,3])\n",
    "print(ar1D)\n",
    "print(ar1D[0])\n",
    "print(ar1D[-1])\n",
    "print(ar1D.shape)"
   ]
  },
  {
   "cell_type": "code",
   "execution_count": 12,
   "metadata": {},
   "outputs": [
    {
     "name": "stdout",
     "output_type": "stream",
     "text": [
      "(2, 3)\n",
      "[1. 1. 1.]\n"
     ]
    },
    {
     "ename": "NameError",
     "evalue": "name 'arZero' is not defined",
     "output_type": "error",
     "traceback": [
      "\u001b[0;31m---------------------------------------------------------------------------\u001b[0m",
      "\u001b[0;31mNameError\u001b[0m                                 Traceback (most recent call last)",
      "\u001b[0;32m<ipython-input-12-47bc232aa89d>\u001b[0m in \u001b[0;36m<module>\u001b[0;34m\u001b[0m\n\u001b[1;32m      6\u001b[0m \u001b[0;34m\u001b[0m\u001b[0m\n\u001b[1;32m      7\u001b[0m \u001b[0marZeros\u001b[0m \u001b[0;34m=\u001b[0m \u001b[0mnp\u001b[0m\u001b[0;34m.\u001b[0m\u001b[0mzeros\u001b[0m\u001b[0;34m(\u001b[0m\u001b[0;36m3\u001b[0m\u001b[0;34m)\u001b[0m\u001b[0;34m\u001b[0m\u001b[0;34m\u001b[0m\u001b[0m\n\u001b[0;32m----> 8\u001b[0;31m \u001b[0mprint\u001b[0m\u001b[0;34m(\u001b[0m\u001b[0marZero\u001b[0m\u001b[0;34m)\u001b[0m\u001b[0;34m\u001b[0m\u001b[0;34m\u001b[0m\u001b[0m\n\u001b[0m\u001b[1;32m      9\u001b[0m \u001b[0;34m\u001b[0m\u001b[0m\n\u001b[1;32m     10\u001b[0m \u001b[0mA\u001b[0m \u001b[0;34m=\u001b[0m \u001b[0mnp\u001b[0m\u001b[0;34m.\u001b[0m\u001b[0mconcatenate\u001b[0m\u001b[0;34m(\u001b[0m\u001b[0;34m(\u001b[0m\u001b[0mar2D\u001b[0m\u001b[0;34m,\u001b[0m \u001b[0;34m[\u001b[0m\u001b[0marOnes\u001b[0m\u001b[0;34m]\u001b[0m\u001b[0;34m)\u001b[0m\u001b[0;34m,\u001b[0m \u001b[0maxis\u001b[0m\u001b[0;34m=\u001b[0m\u001b[0;36m0\u001b[0m\u001b[0;34m)\u001b[0m\u001b[0;34m\u001b[0m\u001b[0;34m\u001b[0m\u001b[0m\n",
      "\u001b[0;31mNameError\u001b[0m: name 'arZero' is not defined"
     ]
    }
   ],
   "source": [
    "ar2D = np.array([[1,2,3],[4,5,6]])\n",
    "print(ar2D.shape)\n",
    "\n",
    "arOnes= np.ones(3)\n",
    "print(arOnes)\n",
    "\n",
    "arZeros = np.zeros(3)\n",
    "print(arZeros)\n",
    "\n",
    "A = np.concatenate((ar2D, [arOnes]), axis=0)\n",
    "print(\"\\n\")\n",
    "print(A)"
   ]
  },
  {
   "cell_type": "code",
   "execution_count": null,
   "metadata": {},
   "outputs": [],
   "source": [
    "A-A**2"
   ]
  },
  {
   "cell_type": "markdown",
   "metadata": {},
   "source": [
    "## Broadcasting"
   ]
  },
  {
   "cell_type": "code",
   "execution_count": null,
   "metadata": {},
   "outputs": [],
   "source": [
    "x = np.array([[1,2,3], [4,5,6], [7,8,9], [10, 11, 12]])\n",
    "v = np.array([1, 0, 1])\n",
    "y = x + v \n",
    "y.T"
   ]
  },
  {
   "cell_type": "markdown",
   "metadata": {},
   "source": [
    "# *Matplotlib*"
   ]
  },
  {
   "cell_type": "markdown",
   "metadata": {},
   "source": [
    "## Ploting"
   ]
  },
  {
   "cell_type": "code",
   "execution_count": null,
   "metadata": {},
   "outputs": [],
   "source": [
    "import matplotlib.pyplot as plt"
   ]
  },
  {
   "cell_type": "code",
   "execution_count": null,
   "metadata": {},
   "outputs": [],
   "source": [
    "x = np.arange(0, 3*np.log(2), 0.1)\n",
    "y = np.sin(x)\n",
    "plt.plot(x, y)\n",
    "plt.show()"
   ]
  },
  {
   "cell_type": "markdown",
   "metadata": {},
   "source": [
    "## Subplots"
   ]
  },
  {
   "cell_type": "code",
   "execution_count": null,
   "metadata": {},
   "outputs": [],
   "source": [
    "x = np.arange(0, 3*np.log(2), 0.1)\n",
    "y = np.sin(x)\n",
    "plt.subplot(2,1,1)\n",
    "plt.plot(x, y)\n",
    "plt.subplot(2,1,2)\n",
    "plt.plot(x, x-y)\n",
    "plt.show()"
   ]
  },
  {
   "cell_type": "markdown",
   "metadata": {},
   "source": [
    "## Images"
   ]
  },
  {
   "cell_type": "code",
   "execution_count": null,
   "metadata": {},
   "outputs": [],
   "source": [
    "import imageio"
   ]
  },
  {
   "cell_type": "code",
   "execution_count": null,
   "metadata": {},
   "outputs": [],
   "source": [
    "img = imageio.imread('../data/165201891_1109054359561633_7292998510848418201_n.jpg')"
   ]
  },
  {
   "cell_type": "code",
   "execution_count": null,
   "metadata": {},
   "outputs": [],
   "source": [
    "plt.imshow(img)"
   ]
  },
  {
   "cell_type": "code",
   "execution_count": null,
   "metadata": {},
   "outputs": [],
   "source": []
  }
 ],
 "metadata": {
  "kernelspec": {
   "display_name": "Python 3",
   "language": "python",
   "name": "python3"
  },
  "language_info": {
   "codemirror_mode": {
    "name": "ipython",
    "version": 3
   },
   "file_extension": ".py",
   "mimetype": "text/x-python",
   "name": "python",
   "nbconvert_exporter": "python",
   "pygments_lexer": "ipython3",
   "version": "3.8.5"
  }
 },
 "nbformat": 4,
 "nbformat_minor": 4
}
