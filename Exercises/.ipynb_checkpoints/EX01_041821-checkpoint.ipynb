{
 "cells": [
  {
   "cell_type": "markdown",
   "metadata": {},
   "source": [
    "Họ và Tên: Võ Thị Hiếu \\\n",
    "MSSV: 18120379"
   ]
  },
  {
   "cell_type": "code",
   "execution_count": 1,
   "metadata": {},
   "outputs": [],
   "source": [
    "import pandas as pd\n",
    "import numpy as np\n",
    "import matplotlib.pyplot as plt\n",
    "import seaborn as sns"
   ]
  },
  {
   "cell_type": "code",
   "execution_count": 2,
   "metadata": {},
   "outputs": [
    {
     "data": {
      "text/html": [
       "<div>\n",
       "<style scoped>\n",
       "    .dataframe tbody tr th:only-of-type {\n",
       "        vertical-align: middle;\n",
       "    }\n",
       "\n",
       "    .dataframe tbody tr th {\n",
       "        vertical-align: top;\n",
       "    }\n",
       "\n",
       "    .dataframe thead th {\n",
       "        text-align: right;\n",
       "    }\n",
       "</style>\n",
       "<table border=\"1\" class=\"dataframe\">\n",
       "  <thead>\n",
       "    <tr style=\"text-align: right;\">\n",
       "      <th></th>\n",
       "      <th>Tier</th>\n",
       "      <th># of Accounts</th>\n",
       "      <th>% Accounts</th>\n",
       "      <th>Revenue ($M)</th>\n",
       "      <th>% Revenue</th>\n",
       "    </tr>\n",
       "  </thead>\n",
       "  <tbody>\n",
       "    <tr>\n",
       "      <th>0</th>\n",
       "      <td>A</td>\n",
       "      <td>77</td>\n",
       "      <td>7.08</td>\n",
       "      <td>4.68</td>\n",
       "      <td>25</td>\n",
       "    </tr>\n",
       "    <tr>\n",
       "      <th>1</th>\n",
       "      <td>A+</td>\n",
       "      <td>19</td>\n",
       "      <td>1.75</td>\n",
       "      <td>3.93</td>\n",
       "      <td>21</td>\n",
       "    </tr>\n",
       "    <tr>\n",
       "      <th>2</th>\n",
       "      <td>B</td>\n",
       "      <td>338</td>\n",
       "      <td>31.07</td>\n",
       "      <td>5.98</td>\n",
       "      <td>32</td>\n",
       "    </tr>\n",
       "    <tr>\n",
       "      <th>3</th>\n",
       "      <td>C</td>\n",
       "      <td>425</td>\n",
       "      <td>39.06</td>\n",
       "      <td>2.81</td>\n",
       "      <td>15</td>\n",
       "    </tr>\n",
       "    <tr>\n",
       "      <th>4</th>\n",
       "      <td>D</td>\n",
       "      <td>24</td>\n",
       "      <td>2.21</td>\n",
       "      <td>0.37</td>\n",
       "      <td>2</td>\n",
       "    </tr>\n",
       "  </tbody>\n",
       "</table>\n",
       "</div>"
      ],
      "text/plain": [
       "  Tier  # of Accounts  % Accounts  Revenue ($M)  % Revenue\n",
       "0    A             77        7.08          4.68         25\n",
       "1   A+             19        1.75          3.93         21\n",
       "2    B            338       31.07          5.98         32\n",
       "3    C            425       39.06          2.81         15\n",
       "4    D             24        2.21          0.37          2"
      ]
     },
     "execution_count": 2,
     "metadata": {},
     "output_type": "execute_result"
    }
   ],
   "source": [
    "data=pd.read_excel(\"../data/EX21-new client tier share.xlsx\")\n",
    "data"
   ]
  },
  {
   "cell_type": "code",
   "execution_count": 3,
   "metadata": {},
   "outputs": [
    {
     "data": {
      "text/plain": [
       "Tier              object\n",
       "# of Accounts      int64\n",
       "% Accounts       float64\n",
       "Revenue ($M)     float64\n",
       "% Revenue          int64\n",
       "dtype: object"
      ]
     },
     "execution_count": 3,
     "metadata": {},
     "output_type": "execute_result"
    }
   ],
   "source": [
    "data.dtypes"
   ]
  },
  {
   "cell_type": "code",
   "execution_count": 4,
   "metadata": {},
   "outputs": [],
   "source": [
    "# data.iloc[:,2] = data.iloc[:,2].map('{:,.2f}%'.format)\n",
    "# data.iloc[:,3] = data.iloc[:,3].map('${:,.2f}'.format)\n",
    "# data.iloc[:,4] = data.iloc[:, 4].map('{:,.0f}%'.format)\n",
    "# data"
   ]
  },
  {
   "cell_type": "markdown",
   "metadata": {},
   "source": [
    "## STEP 1"
   ]
  },
  {
   "cell_type": "markdown",
   "metadata": {},
   "source": [
    "- Dữ liệu gồm 4 thuộc tính nếu chọn cột \"Tier\" làm index\n",
    "- Cột \"# of Accounts\" thể hiện giá trị của Tier\n",
    "- Cột \"Accounts\" thể hiện tỉ lệ phần trăm của tier ứng với \"# of Accounts\"\n",
    "- Cột \"Revenue (\\$M)\" thể hiện doanh thu của Tier, đơn vị là million dolar\n",
    "- Cột \"% Revenue\" thể hiện tỉ lệ tương ứng với cột \"Revenue ($M)\"\n",
    "- \"# of Accounts\" tỉ lệ thuận với \"% Accounts\"\n",
    "- \"Revenue (\\$M)\" tỉ lệ thuận với \"%Revenue\""
   ]
  },
  {
   "cell_type": "markdown",
   "metadata": {},
   "source": [
    "# STEP 2"
   ]
  },
  {
   "cell_type": "code",
   "execution_count": 5,
   "metadata": {},
   "outputs": [
    {
     "data": {
      "text/plain": [
       "Tier             AA+BCD\n",
       "# of Accounts       883\n",
       "% Accounts        81.17\n",
       "Revenue ($M)      17.77\n",
       "% Revenue            95\n",
       "dtype: object"
      ]
     },
     "execution_count": 5,
     "metadata": {},
     "output_type": "execute_result"
    }
   ],
   "source": [
    "data.sum()"
   ]
  },
  {
   "cell_type": "markdown",
   "metadata": {},
   "source": [
    "- Thêm sample \"Others\" để đảm bảo tổng các Tier là 100% ở cột \"% Revenue\" và \"%Accounts\"\n",
    "- Ta dễ dàng tính được giá trị cột \"# of Accounts\" và \"Revenue ($M) ứng với Others\""
   ]
  },
  {
   "cell_type": "code",
   "execution_count": 6,
   "metadata": {},
   "outputs": [],
   "source": [
    "new_row=pd.array([\"Others\", 205,18.83,0.925,5])\n",
    "data.loc[len(data),:] = new_row\n",
    "data.set_index(\"Tier\", inplace=True)"
   ]
  },
  {
   "cell_type": "code",
   "execution_count": 7,
   "metadata": {},
   "outputs": [
    {
     "data": {
      "text/plain": [
       "# of Accounts    1088.000\n",
       "% Accounts        100.000\n",
       "Revenue ($M)       18.695\n",
       "% Revenue         100.000\n",
       "dtype: float64"
      ]
     },
     "execution_count": 7,
     "metadata": {},
     "output_type": "execute_result"
    }
   ],
   "source": [
    "data=data.apply(lambda x:pd.to_numeric(x, errors='ignore'))\n",
    "data.sum()"
   ]
  },
  {
   "cell_type": "code",
   "execution_count": 8,
   "metadata": {},
   "outputs": [
    {
     "data": {
      "text/html": [
       "<div>\n",
       "<style scoped>\n",
       "    .dataframe tbody tr th:only-of-type {\n",
       "        vertical-align: middle;\n",
       "    }\n",
       "\n",
       "    .dataframe tbody tr th {\n",
       "        vertical-align: top;\n",
       "    }\n",
       "\n",
       "    .dataframe thead th {\n",
       "        text-align: right;\n",
       "    }\n",
       "</style>\n",
       "<table border=\"1\" class=\"dataframe\">\n",
       "  <thead>\n",
       "    <tr style=\"text-align: right;\">\n",
       "      <th></th>\n",
       "      <th># of Accounts</th>\n",
       "      <th>% Accounts</th>\n",
       "      <th>Revenue ($M)</th>\n",
       "      <th>% Revenue</th>\n",
       "    </tr>\n",
       "  </thead>\n",
       "  <tbody>\n",
       "    <tr>\n",
       "      <th>count</th>\n",
       "      <td>6.000000</td>\n",
       "      <td>6.000000</td>\n",
       "      <td>6.000000</td>\n",
       "      <td>6.000000</td>\n",
       "    </tr>\n",
       "    <tr>\n",
       "      <th>mean</th>\n",
       "      <td>181.333333</td>\n",
       "      <td>16.666667</td>\n",
       "      <td>3.115833</td>\n",
       "      <td>16.666667</td>\n",
       "    </tr>\n",
       "    <tr>\n",
       "      <th>std</th>\n",
       "      <td>171.154511</td>\n",
       "      <td>15.728978</td>\n",
       "      <td>2.179258</td>\n",
       "      <td>11.639015</td>\n",
       "    </tr>\n",
       "    <tr>\n",
       "      <th>min</th>\n",
       "      <td>19.000000</td>\n",
       "      <td>1.750000</td>\n",
       "      <td>0.370000</td>\n",
       "      <td>2.000000</td>\n",
       "    </tr>\n",
       "    <tr>\n",
       "      <th>25%</th>\n",
       "      <td>37.250000</td>\n",
       "      <td>3.427500</td>\n",
       "      <td>1.396250</td>\n",
       "      <td>7.500000</td>\n",
       "    </tr>\n",
       "    <tr>\n",
       "      <th>50%</th>\n",
       "      <td>141.000000</td>\n",
       "      <td>12.955000</td>\n",
       "      <td>3.370000</td>\n",
       "      <td>18.000000</td>\n",
       "    </tr>\n",
       "    <tr>\n",
       "      <th>75%</th>\n",
       "      <td>304.750000</td>\n",
       "      <td>28.010000</td>\n",
       "      <td>4.492500</td>\n",
       "      <td>24.000000</td>\n",
       "    </tr>\n",
       "    <tr>\n",
       "      <th>max</th>\n",
       "      <td>425.000000</td>\n",
       "      <td>39.060000</td>\n",
       "      <td>5.980000</td>\n",
       "      <td>32.000000</td>\n",
       "    </tr>\n",
       "  </tbody>\n",
       "</table>\n",
       "</div>"
      ],
      "text/plain": [
       "       # of Accounts  % Accounts  Revenue ($M)  % Revenue\n",
       "count       6.000000    6.000000      6.000000   6.000000\n",
       "mean      181.333333   16.666667      3.115833  16.666667\n",
       "std       171.154511   15.728978      2.179258  11.639015\n",
       "min        19.000000    1.750000      0.370000   2.000000\n",
       "25%        37.250000    3.427500      1.396250   7.500000\n",
       "50%       141.000000   12.955000      3.370000  18.000000\n",
       "75%       304.750000   28.010000      4.492500  24.000000\n",
       "max       425.000000   39.060000      5.980000  32.000000"
      ]
     },
     "execution_count": 8,
     "metadata": {},
     "output_type": "execute_result"
    }
   ],
   "source": [
    "data._get_numeric_data().describe()"
   ]
  },
  {
   "cell_type": "markdown",
   "metadata": {},
   "source": [
    "### Bảng dữ liệu mới"
   ]
  },
  {
   "cell_type": "code",
   "execution_count": 9,
   "metadata": {},
   "outputs": [
    {
     "data": {
      "text/html": [
       "<div>\n",
       "<style scoped>\n",
       "    .dataframe tbody tr th:only-of-type {\n",
       "        vertical-align: middle;\n",
       "    }\n",
       "\n",
       "    .dataframe tbody tr th {\n",
       "        vertical-align: top;\n",
       "    }\n",
       "\n",
       "    .dataframe thead th {\n",
       "        text-align: right;\n",
       "    }\n",
       "</style>\n",
       "<table border=\"1\" class=\"dataframe\">\n",
       "  <thead>\n",
       "    <tr style=\"text-align: right;\">\n",
       "      <th></th>\n",
       "      <th># of Accounts</th>\n",
       "      <th>% Accounts</th>\n",
       "      <th>Revenue ($M)</th>\n",
       "      <th>% Revenue</th>\n",
       "    </tr>\n",
       "    <tr>\n",
       "      <th>Tier</th>\n",
       "      <th></th>\n",
       "      <th></th>\n",
       "      <th></th>\n",
       "      <th></th>\n",
       "    </tr>\n",
       "  </thead>\n",
       "  <tbody>\n",
       "    <tr>\n",
       "      <th>A</th>\n",
       "      <td>77.0</td>\n",
       "      <td>7.08</td>\n",
       "      <td>4.680</td>\n",
       "      <td>25.0</td>\n",
       "    </tr>\n",
       "    <tr>\n",
       "      <th>A+</th>\n",
       "      <td>19.0</td>\n",
       "      <td>1.75</td>\n",
       "      <td>3.930</td>\n",
       "      <td>21.0</td>\n",
       "    </tr>\n",
       "    <tr>\n",
       "      <th>B</th>\n",
       "      <td>338.0</td>\n",
       "      <td>31.07</td>\n",
       "      <td>5.980</td>\n",
       "      <td>32.0</td>\n",
       "    </tr>\n",
       "    <tr>\n",
       "      <th>C</th>\n",
       "      <td>425.0</td>\n",
       "      <td>39.06</td>\n",
       "      <td>2.810</td>\n",
       "      <td>15.0</td>\n",
       "    </tr>\n",
       "    <tr>\n",
       "      <th>D</th>\n",
       "      <td>24.0</td>\n",
       "      <td>2.21</td>\n",
       "      <td>0.370</td>\n",
       "      <td>2.0</td>\n",
       "    </tr>\n",
       "    <tr>\n",
       "      <th>Others</th>\n",
       "      <td>205.0</td>\n",
       "      <td>18.83</td>\n",
       "      <td>0.925</td>\n",
       "      <td>5.0</td>\n",
       "    </tr>\n",
       "  </tbody>\n",
       "</table>\n",
       "</div>"
      ],
      "text/plain": [
       "        # of Accounts  % Accounts  Revenue ($M)  % Revenue\n",
       "Tier                                                      \n",
       "A                77.0        7.08         4.680       25.0\n",
       "A+               19.0        1.75         3.930       21.0\n",
       "B               338.0       31.07         5.980       32.0\n",
       "C               425.0       39.06         2.810       15.0\n",
       "D                24.0        2.21         0.370        2.0\n",
       "Others          205.0       18.83         0.925        5.0"
      ]
     },
     "execution_count": 9,
     "metadata": {},
     "output_type": "execute_result"
    }
   ],
   "source": [
    "data"
   ]
  },
  {
   "cell_type": "markdown",
   "metadata": {},
   "source": [
    "# STEP 3"
   ]
  },
  {
   "cell_type": "code",
   "execution_count": 88,
   "metadata": {},
   "outputs": [
    {
     "data": {
      "image/png": "[encoded data removed]",
      "text/plain": [
       "<Figure size 864x576 with 2 Axes>"
      ]
     },
     "metadata": {},
     "output_type": "display_data"
    }
   ],
   "source": [
    "fig, axs = plt.subplots(1, 2)\n",
    "data[\"% Accounts\"].plot(kind='pie', autopct=\"%.2f%%\", figsize=(12,8), explode=[0.025]*data.shape[0], title=\"% of Accounts\", labels=None, ylabel=\"\", ax=axs[0])\n",
    "data[\"% Revenue\"].plot(kind='pie', autopct=\"%.2f%%\", figsize=(12,8), explode=[0.025]*data.shape[0], title=\"% of Revenue\", labels=None, ylabel=\"\",ax=axs[1])\n",
    "plt.legend(labels = data.index, loc='best')\n",
    "plt.show()"
   ]
  },
  {
   "cell_type": "markdown",
   "metadata": {},
   "source": [
    "- Tier B và C chiếm tỉ trọng lớn nhất trong biểu đồ % of Accounts\n",
    "- Tier A, A+ và B chiếm tỉ trọng lớn nhất trong biểu đồ % of Revenue"
   ]
  },
  {
   "cell_type": "code",
   "execution_count": 92,
   "metadata": {},
   "outputs": [
    {
     "data": {
      "text/plain": [
       "<AxesSubplot:ylabel='Tier'>"
      ]
     },
     "execution_count": 92,
     "metadata": {},
     "output_type": "execute_result"
    },
    {
     "data": {
      "image/png": "[encoded data removed]",
      "text/plain": [
       "<Figure size 432x288 with 1 Axes>"
      ]
     },
     "metadata": {
      "needs_background": "light"
     },
     "output_type": "display_data"
    }
   ],
   "source": [
    "data[[\"% Accounts\", \"% Revenue\"]].plot(kind='barh')"
   ]
  },
  {
   "cell_type": "markdown",
   "metadata": {},
   "source": [
    "Thể hiện so sánh giữa \"% Account\" và \"% Revenue\"\n",
    "- Ta nhận thấy % Account càng lớn nhưng chưa chắc doanh thu mang lại sẽ lớn\n",
    "- Tier A và A+ có % Revenue lớn hơn nhiều so với % Account\n",
    "- Tier C có % Account lớn hơn nhiều so với % Revenue"
   ]
  },
  {
   "cell_type": "code",
   "execution_count": null,
   "metadata": {},
   "outputs": [],
   "source": []
  }
 ],
 "metadata": {
  "kernelspec": {
   "display_name": "Python 3",
   "language": "python",
   "name": "python3"
  },
  "language_info": {
   "codemirror_mode": {
    "name": "ipython",
    "version": 3
   },
   "file_extension": ".py",
   "mimetype": "text/x-python",
   "name": "python",
   "nbconvert_exporter": "python",
   "pygments_lexer": "ipython3",
   "version": "3.8.5"
  }
 },
 "nbformat": 4,
 "nbformat_minor": 4
}
