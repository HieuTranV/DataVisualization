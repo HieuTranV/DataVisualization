{
 "cells": [
  {
   "cell_type": "code",
   "execution_count": 1,
   "metadata": {},
   "outputs": [],
   "source": [
    "import pandas as pd\n",
    "import numpy as np\n",
    "import matplotlib.pyplot as plt\n",
    "import seaborn as sns"
   ]
  },
  {
   "cell_type": "code",
   "execution_count": 2,
   "metadata": {},
   "outputs": [
    {
     "data": {
      "text/html": [
       "<div>\n",
       "<style scoped>\n",
       "    .dataframe tbody tr th:only-of-type {\n",
       "        vertical-align: middle;\n",
       "    }\n",
       "\n",
       "    .dataframe tbody tr th {\n",
       "        vertical-align: top;\n",
       "    }\n",
       "\n",
       "    .dataframe thead th {\n",
       "        text-align: right;\n",
       "    }\n",
       "</style>\n",
       "<table border=\"1\" class=\"dataframe\">\n",
       "  <thead>\n",
       "    <tr style=\"text-align: right;\">\n",
       "      <th></th>\n",
       "      <th>MAKE THE STORY UNMISTAKABLE</th>\n",
       "      <th>Unnamed: 1</th>\n",
       "      <th>Unnamed: 2</th>\n",
       "      <th>Unnamed: 3</th>\n",
       "      <th>Unnamed: 4</th>\n",
       "      <th>Unnamed: 5</th>\n",
       "    </tr>\n",
       "  </thead>\n",
       "  <tbody>\n",
       "    <tr>\n",
       "      <th>0</th>\n",
       "      <td>NaN</td>\n",
       "      <td>NaN</td>\n",
       "      <td>NaN</td>\n",
       "      <td>NaN</td>\n",
       "      <td>NaN</td>\n",
       "      <td>NaN</td>\n",
       "    </tr>\n",
       "    <tr>\n",
       "      <th>1</th>\n",
       "      <td>NaN</td>\n",
       "      <td>DATA TO GRAPH</td>\n",
       "      <td>NaN</td>\n",
       "      <td>NaN</td>\n",
       "      <td>NaN</td>\n",
       "      <td>NaN</td>\n",
       "    </tr>\n",
       "    <tr>\n",
       "      <th>2</th>\n",
       "      <td>NaN</td>\n",
       "      <td>NaN</td>\n",
       "      <td>NaN</td>\n",
       "      <td>NaN</td>\n",
       "      <td>NaN</td>\n",
       "      <td>NaN</td>\n",
       "    </tr>\n",
       "    <tr>\n",
       "      <th>3</th>\n",
       "      <td>NaN</td>\n",
       "      <td>NaN</td>\n",
       "      <td>2016.0</td>\n",
       "      <td>2017.0</td>\n",
       "      <td>2018.0</td>\n",
       "      <td>2019.0</td>\n",
       "    </tr>\n",
       "    <tr>\n",
       "      <th>4</th>\n",
       "      <td>NaN</td>\n",
       "      <td>Credit Card</td>\n",
       "      <td>92.1</td>\n",
       "      <td>89.4</td>\n",
       "      <td>94.0</td>\n",
       "      <td>97.1</td>\n",
       "    </tr>\n",
       "    <tr>\n",
       "      <th>5</th>\n",
       "      <td>NaN</td>\n",
       "      <td>Home Equity Line of Credit</td>\n",
       "      <td>5.6</td>\n",
       "      <td>12.7</td>\n",
       "      <td>47.5</td>\n",
       "      <td>65.0</td>\n",
       "    </tr>\n",
       "    <tr>\n",
       "      <th>6</th>\n",
       "      <td>NaN</td>\n",
       "      <td>Fixed-Term Loan</td>\n",
       "      <td>48.2</td>\n",
       "      <td>53.8</td>\n",
       "      <td>61.9</td>\n",
       "      <td>53.7</td>\n",
       "    </tr>\n",
       "    <tr>\n",
       "      <th>7</th>\n",
       "      <td>NaN</td>\n",
       "      <td>Total</td>\n",
       "      <td>58.9</td>\n",
       "      <td>47.6</td>\n",
       "      <td>78.4</td>\n",
       "      <td>75.6</td>\n",
       "    </tr>\n",
       "    <tr>\n",
       "      <th>8</th>\n",
       "      <td>NaN</td>\n",
       "      <td>L Credit Card</td>\n",
       "      <td>100.0</td>\n",
       "      <td>100.0</td>\n",
       "      <td>100.0</td>\n",
       "      <td>100.0</td>\n",
       "    </tr>\n",
       "    <tr>\n",
       "      <th>9</th>\n",
       "      <td>NaN</td>\n",
       "      <td>L Home Equity Line of Credit</td>\n",
       "      <td>100.0</td>\n",
       "      <td>100.0</td>\n",
       "      <td>100.0</td>\n",
       "      <td>100.0</td>\n",
       "    </tr>\n",
       "    <tr>\n",
       "      <th>10</th>\n",
       "      <td>NaN</td>\n",
       "      <td>L Fixed-Term Loan</td>\n",
       "      <td>100.0</td>\n",
       "      <td>100.0</td>\n",
       "      <td>100.0</td>\n",
       "      <td>100.0</td>\n",
       "    </tr>\n",
       "    <tr>\n",
       "      <th>11</th>\n",
       "      <td>NaN</td>\n",
       "      <td>L Total</td>\n",
       "      <td>100.0</td>\n",
       "      <td>100.0</td>\n",
       "      <td>100.0</td>\n",
       "      <td>100.0</td>\n",
       "    </tr>\n",
       "    <tr>\n",
       "      <th>12</th>\n",
       "      <td>NaN</td>\n",
       "      <td>CC R</td>\n",
       "      <td>7.9</td>\n",
       "      <td>10.6</td>\n",
       "      <td>6.0</td>\n",
       "      <td>2.9</td>\n",
       "    </tr>\n",
       "    <tr>\n",
       "      <th>13</th>\n",
       "      <td>NaN</td>\n",
       "      <td>HELOC R</td>\n",
       "      <td>94.4</td>\n",
       "      <td>87.3</td>\n",
       "      <td>52.5</td>\n",
       "      <td>35.0</td>\n",
       "    </tr>\n",
       "    <tr>\n",
       "      <th>14</th>\n",
       "      <td>NaN</td>\n",
       "      <td>FTL R</td>\n",
       "      <td>51.8</td>\n",
       "      <td>46.2</td>\n",
       "      <td>38.1</td>\n",
       "      <td>46.3</td>\n",
       "    </tr>\n",
       "    <tr>\n",
       "      <th>15</th>\n",
       "      <td>NaN</td>\n",
       "      <td>Total R</td>\n",
       "      <td>41.1</td>\n",
       "      <td>52.4</td>\n",
       "      <td>21.6</td>\n",
       "      <td>24.4</td>\n",
       "    </tr>\n",
       "    <tr>\n",
       "      <th>16</th>\n",
       "      <td>NaN</td>\n",
       "      <td>NaN</td>\n",
       "      <td>NaN</td>\n",
       "      <td>NaN</td>\n",
       "      <td>NaN</td>\n",
       "      <td>NaN</td>\n",
       "    </tr>\n",
       "    <tr>\n",
       "      <th>17</th>\n",
       "      <td>NaN</td>\n",
       "      <td>NaN</td>\n",
       "      <td>NaN</td>\n",
       "      <td>NaN</td>\n",
       "      <td>NaN</td>\n",
       "      <td>NaN</td>\n",
       "    </tr>\n",
       "    <tr>\n",
       "      <th>18</th>\n",
       "      <td>NaN</td>\n",
       "      <td>NaN</td>\n",
       "      <td>NaN</td>\n",
       "      <td>NaN</td>\n",
       "      <td>NaN</td>\n",
       "      <td>NaN</td>\n",
       "    </tr>\n",
       "    <tr>\n",
       "      <th>19</th>\n",
       "      <td>NaN</td>\n",
       "      <td>BASELINE GRAPH OPTIONS</td>\n",
       "      <td>NaN</td>\n",
       "      <td>NaN</td>\n",
       "      <td>NaN</td>\n",
       "      <td>NaN</td>\n",
       "    </tr>\n",
       "  </tbody>\n",
       "</table>\n",
       "</div>"
      ],
      "text/plain": [
       "    MAKE THE STORY UNMISTAKABLE                    Unnamed: 1  Unnamed: 2  \\\n",
       "0                           NaN                           NaN         NaN   \n",
       "1                           NaN                 DATA TO GRAPH         NaN   \n",
       "2                           NaN                           NaN         NaN   \n",
       "3                           NaN                           NaN      2016.0   \n",
       "4                           NaN                   Credit Card        92.1   \n",
       "5                           NaN    Home Equity Line of Credit         5.6   \n",
       "6                           NaN               Fixed-Term Loan        48.2   \n",
       "7                           NaN                         Total        58.9   \n",
       "8                           NaN                 L Credit Card       100.0   \n",
       "9                           NaN  L Home Equity Line of Credit       100.0   \n",
       "10                          NaN             L Fixed-Term Loan       100.0   \n",
       "11                          NaN                       L Total       100.0   \n",
       "12                          NaN                          CC R         7.9   \n",
       "13                          NaN                       HELOC R        94.4   \n",
       "14                          NaN                         FTL R        51.8   \n",
       "15                          NaN                       Total R        41.1   \n",
       "16                          NaN                           NaN         NaN   \n",
       "17                          NaN                           NaN         NaN   \n",
       "18                          NaN                           NaN         NaN   \n",
       "19                          NaN        BASELINE GRAPH OPTIONS         NaN   \n",
       "\n",
       "    Unnamed: 3  Unnamed: 4  Unnamed: 5  \n",
       "0          NaN         NaN         NaN  \n",
       "1          NaN         NaN         NaN  \n",
       "2          NaN         NaN         NaN  \n",
       "3       2017.0      2018.0      2019.0  \n",
       "4         89.4        94.0        97.1  \n",
       "5         12.7        47.5        65.0  \n",
       "6         53.8        61.9        53.7  \n",
       "7         47.6        78.4        75.6  \n",
       "8        100.0       100.0       100.0  \n",
       "9        100.0       100.0       100.0  \n",
       "10       100.0       100.0       100.0  \n",
       "11       100.0       100.0       100.0  \n",
       "12        10.6         6.0         2.9  \n",
       "13        87.3        52.5        35.0  \n",
       "14        46.2        38.1        46.3  \n",
       "15        52.4        21.6        24.4  \n",
       "16         NaN         NaN         NaN  \n",
       "17         NaN         NaN         NaN  \n",
       "18         NaN         NaN         NaN  \n",
       "19         NaN         NaN         NaN  "
      ]
     },
     "execution_count": 2,
     "metadata": {},
     "output_type": "execute_result"
    }
   ],
   "source": [
    "data=pd.read_excel(\"./data/make_the_story_unmistakable.xlsx\")\n",
    "data"
   ]
  },
  {
   "cell_type": "code",
   "execution_count": 3,
   "metadata": {
    "scrolled": true
   },
   "outputs": [
    {
     "data": {
      "text/html": [
       "<div>\n",
       "<style scoped>\n",
       "    .dataframe tbody tr th:only-of-type {\n",
       "        vertical-align: middle;\n",
       "    }\n",
       "\n",
       "    .dataframe tbody tr th {\n",
       "        vertical-align: top;\n",
       "    }\n",
       "\n",
       "    .dataframe thead th {\n",
       "        text-align: right;\n",
       "    }\n",
       "</style>\n",
       "<table border=\"1\" class=\"dataframe\">\n",
       "  <thead>\n",
       "    <tr style=\"text-align: right;\">\n",
       "      <th></th>\n",
       "      <th>2016.0</th>\n",
       "      <th>2017.0</th>\n",
       "      <th>2018.0</th>\n",
       "      <th>2019.0</th>\n",
       "    </tr>\n",
       "  </thead>\n",
       "  <tbody>\n",
       "    <tr>\n",
       "      <th>Credit Card</th>\n",
       "      <td>92.1</td>\n",
       "      <td>89.4</td>\n",
       "      <td>94.0</td>\n",
       "      <td>97.1</td>\n",
       "    </tr>\n",
       "    <tr>\n",
       "      <th>Home Equity Line of Credit</th>\n",
       "      <td>5.6</td>\n",
       "      <td>12.7</td>\n",
       "      <td>47.5</td>\n",
       "      <td>65.0</td>\n",
       "    </tr>\n",
       "    <tr>\n",
       "      <th>Fixed-Term Loan</th>\n",
       "      <td>48.2</td>\n",
       "      <td>53.8</td>\n",
       "      <td>61.9</td>\n",
       "      <td>53.7</td>\n",
       "    </tr>\n",
       "    <tr>\n",
       "      <th>Total</th>\n",
       "      <td>58.9</td>\n",
       "      <td>47.6</td>\n",
       "      <td>78.4</td>\n",
       "      <td>75.6</td>\n",
       "    </tr>\n",
       "    <tr>\n",
       "      <th>L Credit Card</th>\n",
       "      <td>100.0</td>\n",
       "      <td>100.0</td>\n",
       "      <td>100.0</td>\n",
       "      <td>100.0</td>\n",
       "    </tr>\n",
       "    <tr>\n",
       "      <th>L Home Equity Line of Credit</th>\n",
       "      <td>100.0</td>\n",
       "      <td>100.0</td>\n",
       "      <td>100.0</td>\n",
       "      <td>100.0</td>\n",
       "    </tr>\n",
       "    <tr>\n",
       "      <th>L Fixed-Term Loan</th>\n",
       "      <td>100.0</td>\n",
       "      <td>100.0</td>\n",
       "      <td>100.0</td>\n",
       "      <td>100.0</td>\n",
       "    </tr>\n",
       "    <tr>\n",
       "      <th>L Total</th>\n",
       "      <td>100.0</td>\n",
       "      <td>100.0</td>\n",
       "      <td>100.0</td>\n",
       "      <td>100.0</td>\n",
       "    </tr>\n",
       "    <tr>\n",
       "      <th>CC R</th>\n",
       "      <td>7.9</td>\n",
       "      <td>10.6</td>\n",
       "      <td>6.0</td>\n",
       "      <td>2.9</td>\n",
       "    </tr>\n",
       "    <tr>\n",
       "      <th>HELOC R</th>\n",
       "      <td>94.4</td>\n",
       "      <td>87.3</td>\n",
       "      <td>52.5</td>\n",
       "      <td>35.0</td>\n",
       "    </tr>\n",
       "    <tr>\n",
       "      <th>FTL R</th>\n",
       "      <td>51.8</td>\n",
       "      <td>46.2</td>\n",
       "      <td>38.1</td>\n",
       "      <td>46.3</td>\n",
       "    </tr>\n",
       "    <tr>\n",
       "      <th>Total R</th>\n",
       "      <td>41.1</td>\n",
       "      <td>52.4</td>\n",
       "      <td>21.6</td>\n",
       "      <td>24.4</td>\n",
       "    </tr>\n",
       "  </tbody>\n",
       "</table>\n",
       "</div>"
      ],
      "text/plain": [
       "                              2016.0  2017.0  2018.0  2019.0\n",
       "Credit Card                     92.1    89.4    94.0    97.1\n",
       "Home Equity Line of Credit       5.6    12.7    47.5    65.0\n",
       "Fixed-Term Loan                 48.2    53.8    61.9    53.7\n",
       "Total                           58.9    47.6    78.4    75.6\n",
       "L Credit Card                  100.0   100.0   100.0   100.0\n",
       "L Home Equity Line of Credit   100.0   100.0   100.0   100.0\n",
       "L Fixed-Term Loan              100.0   100.0   100.0   100.0\n",
       "L Total                        100.0   100.0   100.0   100.0\n",
       "CC R                             7.9    10.6     6.0     2.9\n",
       "HELOC R                         94.4    87.3    52.5    35.0\n",
       "FTL R                           51.8    46.2    38.1    46.3\n",
       "Total R                         41.1    52.4    21.6    24.4"
      ]
     },
     "execution_count": 3,
     "metadata": {},
     "output_type": "execute_result"
    }
   ],
   "source": [
    "df = data.iloc[4:16, 1:]\n",
    "df.columns = list(data.iloc[3,1:].apply(str))\n",
    "# df.columns=columns\n",
    "df.set_index(\"nan\", inplace=True)\n",
    "df.index.name=None\n",
    "df"
   ]
  },
  {
   "cell_type": "code",
   "execution_count": 4,
   "metadata": {},
   "outputs": [
    {
     "data": {
      "image/png": "[encoded data removed]",
      "text/plain": [
       "<Figure size 720x360 with 1 Axes>"
      ]
     },
     "metadata": {
      "needs_background": "light"
     },
     "output_type": "display_data"
    }
   ],
   "source": [
    "plt.figure(figsize=(10,5))\n",
    "plt.plot(df.iloc[:4].T)\n",
    "plt.ylabel(\"Enrolled %\")\n",
    "plt.legend(df.iloc[:4].T.columns)\n",
    "plt.show()"
   ]
  },
  {
   "cell_type": "markdown",
   "metadata": {},
   "source": [
    "## STEP 1"
   ]
  },
  {
   "cell_type": "markdown",
   "metadata": {},
   "source": [
    "- Nên chỉ ra sự tốc độ tăng trưởng của hình thức thanh toán auto-pay theo từng năm hoặc cơ cấu các hình thức thanh toán theo từng năm\n",
    "- Nên chọn biểu đồ D, thể /hiện dầy đủ tốc độ tăng tưởng của các hình thức thanh toán theo từng thời kỳ hoặc biểu đồ B để thể hiện rõ tỉ lệ của các đối "
   ]
  },
  {
   "cell_type": "markdown",
   "metadata": {},
   "source": [
    "## STEP 2"
   ]
  },
  {
   "cell_type": "markdown",
   "metadata": {},
   "source": [
    "Nếu chọn biểu đồ cơ cấu. ta có thể sử dụng biểu đồ cột chồng cơ cấu các hình thức thanh toán theo từng năm"
   ]
  },
  {
   "cell_type": "code",
   "execution_count": 5,
   "metadata": {},
   "outputs": [
    {
     "data": {
      "text/html": [
       "<div>\n",
       "<style scoped>\n",
       "    .dataframe tbody tr th:only-of-type {\n",
       "        vertical-align: middle;\n",
       "    }\n",
       "\n",
       "    .dataframe tbody tr th {\n",
       "        vertical-align: top;\n",
       "    }\n",
       "\n",
       "    .dataframe thead th {\n",
       "        text-align: right;\n",
       "    }\n",
       "</style>\n",
       "<table border=\"1\" class=\"dataframe\">\n",
       "  <thead>\n",
       "    <tr style=\"text-align: right;\">\n",
       "      <th></th>\n",
       "      <th>2016.0</th>\n",
       "      <th>2017.0</th>\n",
       "      <th>2018.0</th>\n",
       "      <th>2019.0</th>\n",
       "      <th>class</th>\n",
       "    </tr>\n",
       "  </thead>\n",
       "  <tbody>\n",
       "    <tr>\n",
       "      <th>Credit Card</th>\n",
       "      <td>92.1</td>\n",
       "      <td>89.4</td>\n",
       "      <td>94.0</td>\n",
       "      <td>97.1</td>\n",
       "      <td>0</td>\n",
       "    </tr>\n",
       "    <tr>\n",
       "      <th>Home Equity Line of Credit</th>\n",
       "      <td>5.6</td>\n",
       "      <td>12.7</td>\n",
       "      <td>47.5</td>\n",
       "      <td>65.0</td>\n",
       "      <td>1</td>\n",
       "    </tr>\n",
       "    <tr>\n",
       "      <th>Fixed-Term Loan</th>\n",
       "      <td>48.2</td>\n",
       "      <td>53.8</td>\n",
       "      <td>61.9</td>\n",
       "      <td>53.7</td>\n",
       "      <td>2</td>\n",
       "    </tr>\n",
       "    <tr>\n",
       "      <th>Total</th>\n",
       "      <td>58.9</td>\n",
       "      <td>47.6</td>\n",
       "      <td>78.4</td>\n",
       "      <td>75.6</td>\n",
       "      <td>3</td>\n",
       "    </tr>\n",
       "    <tr>\n",
       "      <th>CC R</th>\n",
       "      <td>7.9</td>\n",
       "      <td>10.6</td>\n",
       "      <td>6.0</td>\n",
       "      <td>2.9</td>\n",
       "      <td>0</td>\n",
       "    </tr>\n",
       "    <tr>\n",
       "      <th>HELOC R</th>\n",
       "      <td>94.4</td>\n",
       "      <td>87.3</td>\n",
       "      <td>52.5</td>\n",
       "      <td>35.0</td>\n",
       "      <td>1</td>\n",
       "    </tr>\n",
       "    <tr>\n",
       "      <th>FTL R</th>\n",
       "      <td>51.8</td>\n",
       "      <td>46.2</td>\n",
       "      <td>38.1</td>\n",
       "      <td>46.3</td>\n",
       "      <td>2</td>\n",
       "    </tr>\n",
       "    <tr>\n",
       "      <th>Total R</th>\n",
       "      <td>41.1</td>\n",
       "      <td>52.4</td>\n",
       "      <td>21.6</td>\n",
       "      <td>24.4</td>\n",
       "      <td>3</td>\n",
       "    </tr>\n",
       "  </tbody>\n",
       "</table>\n",
       "</div>"
      ],
      "text/plain": [
       "                            2016.0  2017.0  2018.0  2019.0  class\n",
       "Credit Card                   92.1    89.4    94.0    97.1      0\n",
       "Home Equity Line of Credit     5.6    12.7    47.5    65.0      1\n",
       "Fixed-Term Loan               48.2    53.8    61.9    53.7      2\n",
       "Total                         58.9    47.6    78.4    75.6      3\n",
       "CC R                           7.9    10.6     6.0     2.9      0\n",
       "HELOC R                       94.4    87.3    52.5    35.0      1\n",
       "FTL R                         51.8    46.2    38.1    46.3      2\n",
       "Total R                       41.1    52.4    21.6    24.4      3"
      ]
     },
     "execution_count": 5,
     "metadata": {},
     "output_type": "execute_result"
    }
   ],
   "source": [
    "new_df = df.drop(df.iloc[4:8].index)\n",
    "class_ = np.tile(np.arange(0, 4), 2)\n",
    "new_df[\"class\"]= np.array(class_)\n",
    "new_df"
   ]
  },
  {
   "cell_type": "code",
   "execution_count": 6,
   "metadata": {},
   "outputs": [
    {
     "data": {
      "text/plain": [
       "<Figure size 576x288 with 0 Axes>"
      ]
     },
     "metadata": {},
     "output_type": "display_data"
    },
    {
     "data": {
      "image/png": "[encoded data removed]",
      "text/plain": [
       "<Figure size 432x288 with 1 Axes>"
      ]
     },
     "metadata": {
      "needs_background": "light"
     },
     "output_type": "display_data"
    },
    {
     "data": {
      "image/png": "[encoded data removed]",
      "text/plain": [
       "<Figure size 432x288 with 1 Axes>"
      ]
     },
     "metadata": {
      "needs_background": "light"
     },
     "output_type": "display_data"
    },
    {
     "data": {
      "image/png": "[encoded data removed]",
      "text/plain": [
       "<Figure size 432x288 with 1 Axes>"
      ]
     },
     "metadata": {
      "needs_background": "light"
     },
     "output_type": "display_data"
    },
    {
     "data": {
      "image/png": "[encoded data removed]",
      "text/plain": [
       "<Figure size 432x288 with 1 Axes>"
      ]
     },
     "metadata": {
      "needs_background": "light"
     },
     "output_type": "display_data"
    }
   ],
   "source": [
    "plt.figure(figsize=(8,4))\n",
    "for i in range(0, 4):\n",
    "    new_df[new_df[\"class\"]==i].iloc[:,:-1].T.plot(kind=\"barh\", stacked=True)"
   ]
  },
  {
   "cell_type": "markdown",
   "metadata": {},
   "source": [
    "Biểu đồ D đã làm tương đối tốt công việc của mình, thể hiện được tốc độ tăng trưởng của các hình thức theo từng năm, nên ở đây k có idea nào mới"
   ]
  },
  {
   "cell_type": "markdown",
   "metadata": {},
   "source": [
    "## STEP 3"
   ]
  },
  {
   "cell_type": "markdown",
   "metadata": {},
   "source": [
    "- Thực hiện phân loại các phương thức thanh toán bằng cách thêm một thuộc tính class\n",
    "- Thực hiện loại bỏ các dữ liệu có tên \"L*\"\n",
    "- Thực hiện vẽ biểu đồ cột chồng bằng thư viện có sẵn"
   ]
  },
  {
   "cell_type": "markdown",
   "metadata": {},
   "source": [
    "Dựa vào việc quan sát biểu đồ cột nằm ngang, ta có thể  thấy rõ được tỉ lệ của hình thức thay toán trong cùng một nhóm theo từng thời kỳ. Ngoài ra cũng có thể thấy được sự chuyển dịch cơ cấu của các đối tượng trong biểu đồ"
   ]
  },
  {
   "cell_type": "markdown",
   "metadata": {},
   "source": [
    "## STEP 4"
   ]
  },
  {
   "cell_type": "code",
   "execution_count": null,
   "metadata": {},
   "outputs": [],
   "source": []
  }
 ],
 "metadata": {
  "kernelspec": {
   "display_name": "Python 3",
   "language": "python",
   "name": "python3"
  },
  "language_info": {
   "codemirror_mode": {
    "name": "ipython",
    "version": 3
   },
   "file_extension": ".py",
   "mimetype": "text/x-python",
   "name": "python",
   "nbconvert_exporter": "python",
   "pygments_lexer": "ipython3",
   "version": "3.8.5"
  }
 },
 "nbformat": 4,
 "nbformat_minor": 4
}
