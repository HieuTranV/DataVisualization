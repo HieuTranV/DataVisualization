{
 "cells": [
  {
   "cell_type": "markdown",
   "metadata": {
    "colab_type": "text",
    "id": "view-in-github"
   },
   "source": [
    "<a href=\"https://colab.research.google.com/github/HieuTranV/DataVisualization/blob/dev/LabCK/Preprocessing.ipynb\" target=\"_parent\"><img src=\"https://colab.research.google.com/assets/colab-badge.svg\" alt=\"Open In Colab\"/></a>"
   ]
  },
  {
   "cell_type": "code",
   "execution_count": 1,
   "metadata": {
    "id": "KmGZw1xsHUZR"
   },
   "outputs": [],
   "source": [
    "import pandas as pd\n",
    "import numpy as np\n",
    "import matplotlib.pyplot as plt\n",
    "import seaborn as sns\n",
    "import warnings\n",
    "import re\n",
    "import scipy.stats\n",
    "warnings.filterwarnings('ignore') "
   ]
  },
  {
   "cell_type": "code",
   "execution_count": 2,
   "metadata": {
    "colab": {
     "base_uri": "https://localhost:8080/"
    },
    "id": "0VrNXCEkYKyI",
    "outputId": "2e70dd55-91b1-4727-85d1-27079cf7c820"
   },
   "outputs": [
    {
     "name": "stdout",
     "output_type": "stream",
     "text": [
      "Requirement already up-to-date: scikit-learn in d:\\devtools\\anaconda\\anaconda\\lib\\site-packages (0.24.2)\n",
      "Requirement already satisfied, skipping upgrade: numpy>=1.13.3 in d:\\devtools\\anaconda\\anaconda\\lib\\site-packages (from scikit-learn) (1.19.2)\n",
      "Requirement already satisfied, skipping upgrade: threadpoolctl>=2.0.0 in d:\\devtools\\anaconda\\anaconda\\lib\\site-packages (from scikit-learn) (2.1.0)\n",
      "Requirement already satisfied, skipping upgrade: scipy>=0.19.1 in d:\\devtools\\anaconda\\anaconda\\lib\\site-packages (from scikit-learn) (1.6.2)\n",
      "Requirement already satisfied, skipping upgrade: joblib>=0.11 in d:\\devtools\\anaconda\\anaconda\\lib\\site-packages (from scikit-learn) (0.17.0)\n",
      "Requirement already satisfied: category_encoders in d:\\devtools\\anaconda\\anaconda\\lib\\site-packages (2.2.2)\n",
      "Requirement already satisfied: numpy>=1.14.0 in d:\\devtools\\anaconda\\anaconda\\lib\\site-packages (from category_encoders) (1.19.2)\n",
      "Requirement already satisfied: statsmodels>=0.9.0 in d:\\devtools\\anaconda\\anaconda\\lib\\site-packages (from category_encoders) (0.12.0)\n",
      "Requirement already satisfied: pandas>=0.21.1 in d:\\devtools\\anaconda\\anaconda\\lib\\site-packages (from category_encoders) (1.1.3)\n",
      "Requirement already satisfied: scikit-learn>=0.20.0 in d:\\devtools\\anaconda\\anaconda\\lib\\site-packages (from category_encoders) (0.24.2)\n",
      "Requirement already satisfied: scipy>=1.0.0 in d:\\devtools\\anaconda\\anaconda\\lib\\site-packages (from category_encoders) (1.6.2)\n",
      "Requirement already satisfied: patsy>=0.5.1 in d:\\devtools\\anaconda\\anaconda\\lib\\site-packages (from category_encoders) (0.5.1)\n",
      "Requirement already satisfied: pytz>=2017.2 in d:\\devtools\\anaconda\\anaconda\\lib\\site-packages (from pandas>=0.21.1->category_encoders) (2020.1)\n",
      "Requirement already satisfied: python-dateutil>=2.7.3 in d:\\devtools\\anaconda\\anaconda\\lib\\site-packages (from pandas>=0.21.1->category_encoders) (2.8.1)\n",
      "Requirement already satisfied: threadpoolctl>=2.0.0 in d:\\devtools\\anaconda\\anaconda\\lib\\site-packages (from scikit-learn>=0.20.0->category_encoders) (2.1.0)\n",
      "Requirement already satisfied: joblib>=0.11 in d:\\devtools\\anaconda\\anaconda\\lib\\site-packages (from scikit-learn>=0.20.0->category_encoders) (0.17.0)\n",
      "Requirement already satisfied: six in d:\\devtools\\anaconda\\anaconda\\lib\\site-packages (from patsy>=0.5.1->category_encoders) (1.15.0)\n"
     ]
    }
   ],
   "source": [
    "!pip install --upgrade scikit-learn\n",
    "!pip install category_encoders"
   ]
  },
  {
   "cell_type": "code",
   "execution_count": 3,
   "metadata": {
    "id": "RYChCcR7hrzQ"
   },
   "outputs": [],
   "source": [
    "from sklearn.impute import SimpleImputer\n",
    "from sklearn.preprocessing import OneHotEncoder, LabelEncoder, StandardScaler\n",
    "from sklearn.compose import ColumnTransformer\n",
    "from sklearn.pipeline import Pipeline\n",
    "from sklearn.pipeline import FeatureUnion\n",
    "from sklearn import set_config\n",
    "set_config(display='diagram') # Để trực quan hóa pipeline"
   ]
  },
  {
   "cell_type": "code",
   "execution_count": 4,
   "metadata": {
    "id": "39TVoL1crI8y"
   },
   "outputs": [],
   "source": [
    "from sklearn.linear_model import LinearRegression\n",
    "from sklearn.model_selection import train_test_split"
   ]
  },
  {
   "cell_type": "code",
   "execution_count": 5,
   "metadata": {
    "id": "UbkKypQnHUZW"
   },
   "outputs": [],
   "source": [
    "data = pd.read_csv('data_update.csv')"
   ]
  },
  {
   "cell_type": "code",
   "execution_count": 6,
   "metadata": {
    "colab": {
     "base_uri": "https://localhost:8080/",
     "height": 419
    },
    "id": "P2T1hY-hHUZX",
    "outputId": "b995849f-5ddb-47cb-ad03-14537b1f0c6f"
   },
   "outputs": [
    {
     "data": {
      "text/html": [
       "<div>\n",
       "<style scoped>\n",
       "    .dataframe tbody tr th:only-of-type {\n",
       "        vertical-align: middle;\n",
       "    }\n",
       "\n",
       "    .dataframe tbody tr th {\n",
       "        vertical-align: top;\n",
       "    }\n",
       "\n",
       "    .dataframe thead th {\n",
       "        text-align: right;\n",
       "    }\n",
       "</style>\n",
       "<table border=\"1\" class=\"dataframe\">\n",
       "  <thead>\n",
       "    <tr style=\"text-align: right;\">\n",
       "      <th></th>\n",
       "      <th>Price</th>\n",
       "      <th>Location</th>\n",
       "      <th>Area</th>\n",
       "      <th>Street</th>\n",
       "      <th>Facade</th>\n",
       "      <th>Direction</th>\n",
       "      <th>Saler</th>\n",
       "      <th>Type</th>\n",
       "      <th>Floor</th>\n",
       "      <th>Bathrooms</th>\n",
       "      <th>Bedrooms</th>\n",
       "      <th>Legal Doc</th>\n",
       "    </tr>\n",
       "  </thead>\n",
       "  <tbody>\n",
       "    <tr>\n",
       "      <th>0</th>\n",
       "      <td>4.75 Tỷ - 52.78 Triệu/m²</td>\n",
       "      <td>Quận Sơn Trà, Thành phố Đà Nẵng</td>\n",
       "      <td>90 m²</td>\n",
       "      <td>Mặt phố - Mặt đường</td>\n",
       "      <td>5m</td>\n",
       "      <td>Đông Bắc</td>\n",
       "      <td>Nhà môi giới</td>\n",
       "      <td>Nhà ở</td>\n",
       "      <td>---</td>\n",
       "      <td>---</td>\n",
       "      <td>2</td>\n",
       "      <td>---</td>\n",
       "    </tr>\n",
       "    <tr>\n",
       "      <th>1</th>\n",
       "      <td>Thương lượng</td>\n",
       "      <td>Thị xã Phổ Yên, Tỉnh Thái Nguyên</td>\n",
       "      <td>120 m²</td>\n",
       "      <td>Mặt phố - Mặt đường</td>\n",
       "      <td>8.5m</td>\n",
       "      <td>---</td>\n",
       "      <td>Sàn bất động sản</td>\n",
       "      <td>Đất - Đất nền - Nhà như đất</td>\n",
       "      <td>---</td>\n",
       "      <td>---</td>\n",
       "      <td>---</td>\n",
       "      <td>Giấy CN QSDĐ - Sổ đỏ - Sổ hồng</td>\n",
       "    </tr>\n",
       "    <tr>\n",
       "      <th>2</th>\n",
       "      <td>2.2 Tỷ - 56.41 Triệu/m²</td>\n",
       "      <td>Huyện Hoài Đức, Thành phố Hà Nội</td>\n",
       "      <td>39 m²</td>\n",
       "      <td>Ngõ 1 ô tô</td>\n",
       "      <td>3.5m</td>\n",
       "      <td>Tây</td>\n",
       "      <td>Chính chủ</td>\n",
       "      <td>Đất - Đất nền - Nhà như đất</td>\n",
       "      <td>---</td>\n",
       "      <td>---</td>\n",
       "      <td>---</td>\n",
       "      <td>Giấy CN QSDĐ - Sổ đỏ - Sổ hồng</td>\n",
       "    </tr>\n",
       "    <tr>\n",
       "      <th>3</th>\n",
       "      <td>770 Triệu - 14 Triệu/m²</td>\n",
       "      <td>Quận Thanh Xuân, Thành phố Hà Nội</td>\n",
       "      <td>55 m²</td>\n",
       "      <td>Ngõ 1 ô tô</td>\n",
       "      <td>---</td>\n",
       "      <td>---</td>\n",
       "      <td>Chính chủ</td>\n",
       "      <td>Chung cư, Chung cư mini</td>\n",
       "      <td>---</td>\n",
       "      <td>---</td>\n",
       "      <td>---</td>\n",
       "      <td>Giấy CN QSDĐ - Sổ đỏ - Sổ hồng, Hợp đồng mua bán</td>\n",
       "    </tr>\n",
       "    <tr>\n",
       "      <th>4</th>\n",
       "      <td>890 Triệu - 8.9 Triệu/m²</td>\n",
       "      <td>Huyện Bàu Bàng, Tỉnh Bình Dương</td>\n",
       "      <td>100 m²</td>\n",
       "      <td>Ngõ 4 ô tô trở lên</td>\n",
       "      <td>5m</td>\n",
       "      <td>Tây</td>\n",
       "      <td>Nhà môi giới</td>\n",
       "      <td>Đất - Đất nền - Nhà như đất</td>\n",
       "      <td>---</td>\n",
       "      <td>---</td>\n",
       "      <td>---</td>\n",
       "      <td>Giấy CN QSDĐ - Sổ đỏ - Sổ hồng</td>\n",
       "    </tr>\n",
       "    <tr>\n",
       "      <th>...</th>\n",
       "      <td>...</td>\n",
       "      <td>...</td>\n",
       "      <td>...</td>\n",
       "      <td>...</td>\n",
       "      <td>...</td>\n",
       "      <td>...</td>\n",
       "      <td>...</td>\n",
       "      <td>...</td>\n",
       "      <td>...</td>\n",
       "      <td>...</td>\n",
       "      <td>...</td>\n",
       "      <td>...</td>\n",
       "    </tr>\n",
       "    <tr>\n",
       "      <th>11934</th>\n",
       "      <td>2.25 Tỷ - 52.33 Triệu/m²</td>\n",
       "      <td>Quận Ninh Kiều, Thành phố Cần Thơ</td>\n",
       "      <td>43 m²</td>\n",
       "      <td>Ngõ 1 ô tô</td>\n",
       "      <td>6m</td>\n",
       "      <td>Tây Nam</td>\n",
       "      <td>Nhà môi giới</td>\n",
       "      <td>Nhà ở</td>\n",
       "      <td>---</td>\n",
       "      <td>2</td>\n",
       "      <td>2</td>\n",
       "      <td>Giấy CN QSDĐ - Sổ đỏ - Sổ hồng</td>\n",
       "    </tr>\n",
       "    <tr>\n",
       "      <th>11935</th>\n",
       "      <td>1.1 Tỷ - 33.33 Triệu/m²</td>\n",
       "      <td>Quận Hà Đông, Thành phố Hà Nội</td>\n",
       "      <td>33 m²</td>\n",
       "      <td>Ngõ 2 ô tô tránh</td>\n",
       "      <td>---</td>\n",
       "      <td>---</td>\n",
       "      <td>Chính chủ</td>\n",
       "      <td>Nhà ở</td>\n",
       "      <td>---</td>\n",
       "      <td>---</td>\n",
       "      <td>---</td>\n",
       "      <td>Giấy CN QSDĐ - Sổ đỏ - Sổ hồng</td>\n",
       "    </tr>\n",
       "    <tr>\n",
       "      <th>11936</th>\n",
       "      <td>1 Tỷ - 10 Triệu/m²</td>\n",
       "      <td>Huyện Lục Yên, Tỉnh Yên Bái</td>\n",
       "      <td>100 m²</td>\n",
       "      <td>Mặt phố - Mặt đường</td>\n",
       "      <td>---</td>\n",
       "      <td>---</td>\n",
       "      <td>Nhà môi giới</td>\n",
       "      <td>Đất - Đất nền - Nhà như đất</td>\n",
       "      <td>---</td>\n",
       "      <td>---</td>\n",
       "      <td>---</td>\n",
       "      <td>Giấy CN QSDĐ - Sổ đỏ - Sổ hồng</td>\n",
       "    </tr>\n",
       "    <tr>\n",
       "      <th>11937</th>\n",
       "      <td>25 Tỷ - 50 Triệu/m²</td>\n",
       "      <td>Thành phố Vũng Tàu, Tỉnh Bà Rịa - Vũng Tàu</td>\n",
       "      <td>500 m²</td>\n",
       "      <td>Mặt phố - Mặt đường</td>\n",
       "      <td>---</td>\n",
       "      <td>Đông Nam</td>\n",
       "      <td>Nhà môi giới</td>\n",
       "      <td>Đất - Đất nền - Nhà như đất</td>\n",
       "      <td>---</td>\n",
       "      <td>---</td>\n",
       "      <td>---</td>\n",
       "      <td>---</td>\n",
       "    </tr>\n",
       "    <tr>\n",
       "      <th>11938</th>\n",
       "      <td>8.5 Tỷ - 184.78 Triệu/m²</td>\n",
       "      <td>Quận Hà Đông, Thành phố Hà Nội</td>\n",
       "      <td>46 m²</td>\n",
       "      <td>Ngõ 2 ô tô tránh</td>\n",
       "      <td>4m</td>\n",
       "      <td>---</td>\n",
       "      <td>Nhà môi giới</td>\n",
       "      <td>Nhà ở</td>\n",
       "      <td>---</td>\n",
       "      <td>3</td>\n",
       "      <td>4</td>\n",
       "      <td>Giấy CN QSDĐ - Sổ đỏ - Sổ hồng</td>\n",
       "    </tr>\n",
       "  </tbody>\n",
       "</table>\n",
       "<p>11939 rows × 12 columns</p>\n",
       "</div>"
      ],
      "text/plain": [
       "                          Price                                    Location  \\\n",
       "0      4.75 Tỷ - 52.78 Triệu/m²             Quận Sơn Trà, Thành phố Đà Nẵng   \n",
       "1                  Thương lượng            Thị xã Phổ Yên, Tỉnh Thái Nguyên   \n",
       "2       2.2 Tỷ - 56.41 Triệu/m²            Huyện Hoài Đức, Thành phố Hà Nội   \n",
       "3       770 Triệu - 14 Triệu/m²           Quận Thanh Xuân, Thành phố Hà Nội   \n",
       "4      890 Triệu - 8.9 Triệu/m²             Huyện Bàu Bàng, Tỉnh Bình Dương   \n",
       "...                         ...                                         ...   \n",
       "11934  2.25 Tỷ - 52.33 Triệu/m²           Quận Ninh Kiều, Thành phố Cần Thơ   \n",
       "11935   1.1 Tỷ - 33.33 Triệu/m²              Quận Hà Đông, Thành phố Hà Nội   \n",
       "11936        1 Tỷ - 10 Triệu/m²                 Huyện Lục Yên, Tỉnh Yên Bái   \n",
       "11937       25 Tỷ - 50 Triệu/m²  Thành phố Vũng Tàu, Tỉnh Bà Rịa - Vũng Tàu   \n",
       "11938  8.5 Tỷ - 184.78 Triệu/m²              Quận Hà Đông, Thành phố Hà Nội   \n",
       "\n",
       "         Area               Street Facade Direction             Saler  \\\n",
       "0       90 m²  Mặt phố - Mặt đường     5m  Đông Bắc      Nhà môi giới   \n",
       "1      120 m²  Mặt phố - Mặt đường   8.5m       ---  Sàn bất động sản   \n",
       "2       39 m²           Ngõ 1 ô tô   3.5m       Tây         Chính chủ   \n",
       "3       55 m²           Ngõ 1 ô tô    ---       ---         Chính chủ   \n",
       "4      100 m²   Ngõ 4 ô tô trở lên     5m       Tây      Nhà môi giới   \n",
       "...       ...                  ...    ...       ...               ...   \n",
       "11934   43 m²           Ngõ 1 ô tô     6m   Tây Nam      Nhà môi giới   \n",
       "11935   33 m²     Ngõ 2 ô tô tránh    ---       ---         Chính chủ   \n",
       "11936  100 m²  Mặt phố - Mặt đường    ---       ---      Nhà môi giới   \n",
       "11937  500 m²  Mặt phố - Mặt đường    ---  Đông Nam      Nhà môi giới   \n",
       "11938   46 m²     Ngõ 2 ô tô tránh     4m       ---      Nhà môi giới   \n",
       "\n",
       "                              Type Floor Bathrooms Bedrooms  \\\n",
       "0                            Nhà ở   ---       ---        2   \n",
       "1      Đất - Đất nền - Nhà như đất   ---       ---      ---   \n",
       "2      Đất - Đất nền - Nhà như đất   ---       ---      ---   \n",
       "3          Chung cư, Chung cư mini   ---       ---      ---   \n",
       "4      Đất - Đất nền - Nhà như đất   ---       ---      ---   \n",
       "...                            ...   ...       ...      ...   \n",
       "11934                        Nhà ở   ---         2        2   \n",
       "11935                        Nhà ở   ---       ---      ---   \n",
       "11936  Đất - Đất nền - Nhà như đất   ---       ---      ---   \n",
       "11937  Đất - Đất nền - Nhà như đất   ---       ---      ---   \n",
       "11938                        Nhà ở   ---         3        4   \n",
       "\n",
       "                                              Legal Doc  \n",
       "0                                                   ---  \n",
       "1                        Giấy CN QSDĐ - Sổ đỏ - Sổ hồng  \n",
       "2                        Giấy CN QSDĐ - Sổ đỏ - Sổ hồng  \n",
       "3      Giấy CN QSDĐ - Sổ đỏ - Sổ hồng, Hợp đồng mua bán  \n",
       "4                        Giấy CN QSDĐ - Sổ đỏ - Sổ hồng  \n",
       "...                                                 ...  \n",
       "11934                    Giấy CN QSDĐ - Sổ đỏ - Sổ hồng  \n",
       "11935                    Giấy CN QSDĐ - Sổ đỏ - Sổ hồng  \n",
       "11936                    Giấy CN QSDĐ - Sổ đỏ - Sổ hồng  \n",
       "11937                                               ---  \n",
       "11938                    Giấy CN QSDĐ - Sổ đỏ - Sổ hồng  \n",
       "\n",
       "[11939 rows x 12 columns]"
      ]
     },
     "execution_count": 6,
     "metadata": {},
     "output_type": "execute_result"
    }
   ],
   "source": [
    "data"
   ]
  },
  {
   "cell_type": "code",
   "execution_count": 7,
   "metadata": {
    "colab": {
     "base_uri": "https://localhost:8080/"
    },
    "id": "a9yNG5h9HUZZ",
    "outputId": "5f296de7-e084-486c-80e1-b1755ec16135"
   },
   "outputs": [
    {
     "data": {
      "text/plain": [
       "Price                     5 Tỷ - 47.62 Triệu/m²\n",
       "Location     Thành phố Hạ Long, Tỉnh Quảng Ninh\n",
       "Area                                     105 m²\n",
       "Street                         Ngõ 2 ô tô tránh\n",
       "Facade                                       6m\n",
       "Direction                                   ---\n",
       "Saler                              Nhà môi giới\n",
       "Type              Biệt thự - Song lập - Đơn lập\n",
       "Floor                                       ---\n",
       "Bathrooms                                   ---\n",
       "Bedrooms                                     10\n",
       "Legal Doc        Giấy CN QSDĐ - Sổ đỏ - Sổ hồng\n",
       "Name: 5294, dtype: object"
      ]
     },
     "execution_count": 7,
     "metadata": {},
     "output_type": "execute_result"
    }
   ],
   "source": [
    "data.iloc[5294]"
   ]
  },
  {
   "cell_type": "code",
   "execution_count": 8,
   "metadata": {
    "id": "VkkN4fyIHUZa"
   },
   "outputs": [],
   "source": [
    "# data = data.drop([5294,7581])"
   ]
  },
  {
   "cell_type": "code",
   "execution_count": 9,
   "metadata": {
    "colab": {
     "base_uri": "https://localhost:8080/"
    },
    "id": "AUsDzi-AHUZb",
    "outputId": "68d6e065-fe7a-47b3-8547-2b553bc88925"
   },
   "outputs": [
    {
     "data": {
      "text/plain": [
       "Price                                  4.04 Tỷ - 2.5 Triệu/m²\n",
       "Location                       Huyện Lương Sơn, Tỉnh Hoà Bình\n",
       "Area                                                 1,616 m²\n",
       "Street                                        Ngõ ô tô đỗ cửa\n",
       "Facade                                                    ---\n",
       "Direction                                                 ---\n",
       "Saler                                            Nhà môi giới\n",
       "Type                              Đất - Đất nền - Nhà như đất\n",
       "Floor                                                     ---\n",
       "Bathrooms                                                 ---\n",
       "Bedrooms                                                  ---\n",
       "Legal Doc    Giấy CN QSDĐ - Sổ đỏ - Sổ hồng, Hợp đồng mua bán\n",
       "Name: 6837, dtype: object"
      ]
     },
     "execution_count": 9,
     "metadata": {},
     "output_type": "execute_result"
    }
   ],
   "source": [
    "data.iloc[6837]"
   ]
  },
  {
   "cell_type": "code",
   "execution_count": 10,
   "metadata": {
    "id": "yFN77kVvHUZc"
   },
   "outputs": [],
   "source": [
    "for name in data.columns:\n",
    "    data[name].replace('---', np.NaN, inplace=True)"
   ]
  },
  {
   "cell_type": "code",
   "execution_count": 11,
   "metadata": {
    "colab": {
     "base_uri": "https://localhost:8080/"
    },
    "id": "sIuFbws0HUZd",
    "outputId": "7ece9e14-3c5e-4bd3-d0f9-3454f33a7199"
   },
   "outputs": [
    {
     "data": {
      "text/plain": [
       "1185"
      ]
     },
     "execution_count": 11,
     "metadata": {},
     "output_type": "execute_result"
    }
   ],
   "source": [
    "num_row_dup = data.duplicated().sum()\n",
    "num_row_dup"
   ]
  },
  {
   "cell_type": "code",
   "execution_count": 12,
   "metadata": {
    "colab": {
     "base_uri": "https://localhost:8080/"
    },
    "id": "RmKNbVQ3HUZe",
    "outputId": "a7a7c7ba-6e57-411f-b123-9a742923e3e6"
   },
   "outputs": [
    {
     "name": "stdout",
     "output_type": "stream",
     "text": [
      "<class 'pandas.core.frame.DataFrame'>\n",
      "Int64Index: 10754 entries, 0 to 11938\n",
      "Data columns (total 12 columns):\n",
      " #   Column     Non-Null Count  Dtype \n",
      "---  ------     --------------  ----- \n",
      " 0   Price      10754 non-null  object\n",
      " 1   Location   10754 non-null  object\n",
      " 2   Area       10647 non-null  object\n",
      " 3   Street     9624 non-null   object\n",
      " 4   Facade     5688 non-null   object\n",
      " 5   Direction  1948 non-null   object\n",
      " 6   Saler      10754 non-null  object\n",
      " 7   Type       10752 non-null  object\n",
      " 8   Floor      474 non-null    object\n",
      " 9   Bathrooms  2063 non-null   object\n",
      " 10  Bedrooms   4747 non-null   object\n",
      " 11  Legal Doc  9098 non-null   object\n",
      "dtypes: object(12)\n",
      "memory usage: 1.1+ MB\n"
     ]
    }
   ],
   "source": [
    "new_data = data.drop_duplicates()\n",
    "new_data.info()"
   ]
  },
  {
   "cell_type": "code",
   "execution_count": 13,
   "metadata": {
    "colab": {
     "base_uri": "https://localhost:8080/",
     "height": 419
    },
    "id": "YQnx9rpZHUZf",
    "outputId": "8b5c7006-2827-4229-80c6-51de6494f6a2"
   },
   "outputs": [
    {
     "data": {
      "text/html": [
       "<div>\n",
       "<style scoped>\n",
       "    .dataframe tbody tr th:only-of-type {\n",
       "        vertical-align: middle;\n",
       "    }\n",
       "\n",
       "    .dataframe tbody tr th {\n",
       "        vertical-align: top;\n",
       "    }\n",
       "\n",
       "    .dataframe thead th {\n",
       "        text-align: right;\n",
       "    }\n",
       "</style>\n",
       "<table border=\"1\" class=\"dataframe\">\n",
       "  <thead>\n",
       "    <tr style=\"text-align: right;\">\n",
       "      <th></th>\n",
       "      <th>Price</th>\n",
       "      <th>Location</th>\n",
       "      <th>Area</th>\n",
       "      <th>Street</th>\n",
       "      <th>Facade</th>\n",
       "      <th>Direction</th>\n",
       "      <th>Saler</th>\n",
       "      <th>Type</th>\n",
       "      <th>Floor</th>\n",
       "      <th>Bathrooms</th>\n",
       "      <th>Bedrooms</th>\n",
       "      <th>Legal Doc</th>\n",
       "    </tr>\n",
       "  </thead>\n",
       "  <tbody>\n",
       "    <tr>\n",
       "      <th>0</th>\n",
       "      <td>4.75 Tỷ - 52.78 Triệu/m²</td>\n",
       "      <td>Quận Sơn Trà, Thành phố Đà Nẵng</td>\n",
       "      <td>90 m²</td>\n",
       "      <td>Mặt phố - Mặt đường</td>\n",
       "      <td>5m</td>\n",
       "      <td>Đông Bắc</td>\n",
       "      <td>Nhà môi giới</td>\n",
       "      <td>Nhà ở</td>\n",
       "      <td>NaN</td>\n",
       "      <td>NaN</td>\n",
       "      <td>2</td>\n",
       "      <td>NaN</td>\n",
       "    </tr>\n",
       "    <tr>\n",
       "      <th>2</th>\n",
       "      <td>2.2 Tỷ - 56.41 Triệu/m²</td>\n",
       "      <td>Huyện Hoài Đức, Thành phố Hà Nội</td>\n",
       "      <td>39 m²</td>\n",
       "      <td>Ngõ 1 ô tô</td>\n",
       "      <td>3.5m</td>\n",
       "      <td>Tây</td>\n",
       "      <td>Chính chủ</td>\n",
       "      <td>Đất - Đất nền - Nhà như đất</td>\n",
       "      <td>NaN</td>\n",
       "      <td>NaN</td>\n",
       "      <td>NaN</td>\n",
       "      <td>Giấy CN QSDĐ - Sổ đỏ - Sổ hồng</td>\n",
       "    </tr>\n",
       "    <tr>\n",
       "      <th>3</th>\n",
       "      <td>770 Triệu - 14 Triệu/m²</td>\n",
       "      <td>Quận Thanh Xuân, Thành phố Hà Nội</td>\n",
       "      <td>55 m²</td>\n",
       "      <td>Ngõ 1 ô tô</td>\n",
       "      <td>NaN</td>\n",
       "      <td>NaN</td>\n",
       "      <td>Chính chủ</td>\n",
       "      <td>Chung cư, Chung cư mini</td>\n",
       "      <td>NaN</td>\n",
       "      <td>NaN</td>\n",
       "      <td>NaN</td>\n",
       "      <td>Giấy CN QSDĐ - Sổ đỏ - Sổ hồng, Hợp đồng mua bán</td>\n",
       "    </tr>\n",
       "    <tr>\n",
       "      <th>4</th>\n",
       "      <td>890 Triệu - 8.9 Triệu/m²</td>\n",
       "      <td>Huyện Bàu Bàng, Tỉnh Bình Dương</td>\n",
       "      <td>100 m²</td>\n",
       "      <td>Ngõ 4 ô tô trở lên</td>\n",
       "      <td>5m</td>\n",
       "      <td>Tây</td>\n",
       "      <td>Nhà môi giới</td>\n",
       "      <td>Đất - Đất nền - Nhà như đất</td>\n",
       "      <td>NaN</td>\n",
       "      <td>NaN</td>\n",
       "      <td>NaN</td>\n",
       "      <td>Giấy CN QSDĐ - Sổ đỏ - Sổ hồng</td>\n",
       "    </tr>\n",
       "    <tr>\n",
       "      <th>5</th>\n",
       "      <td>800 Triệu - 19.51 Triệu/m²</td>\n",
       "      <td>Huyện Gia Lâm, Thành phố Hà Nội</td>\n",
       "      <td>41 m²</td>\n",
       "      <td>Ngõ ngách</td>\n",
       "      <td>3.6m</td>\n",
       "      <td>NaN</td>\n",
       "      <td>Nhà môi giới</td>\n",
       "      <td>Đất - Đất nền - Nhà như đất</td>\n",
       "      <td>NaN</td>\n",
       "      <td>NaN</td>\n",
       "      <td>NaN</td>\n",
       "      <td>Giấy CN QSDĐ - Sổ đỏ - Sổ hồng</td>\n",
       "    </tr>\n",
       "    <tr>\n",
       "      <th>...</th>\n",
       "      <td>...</td>\n",
       "      <td>...</td>\n",
       "      <td>...</td>\n",
       "      <td>...</td>\n",
       "      <td>...</td>\n",
       "      <td>...</td>\n",
       "      <td>...</td>\n",
       "      <td>...</td>\n",
       "      <td>...</td>\n",
       "      <td>...</td>\n",
       "      <td>...</td>\n",
       "      <td>...</td>\n",
       "    </tr>\n",
       "    <tr>\n",
       "      <th>11934</th>\n",
       "      <td>2.25 Tỷ - 52.33 Triệu/m²</td>\n",
       "      <td>Quận Ninh Kiều, Thành phố Cần Thơ</td>\n",
       "      <td>43 m²</td>\n",
       "      <td>Ngõ 1 ô tô</td>\n",
       "      <td>6m</td>\n",
       "      <td>Tây Nam</td>\n",
       "      <td>Nhà môi giới</td>\n",
       "      <td>Nhà ở</td>\n",
       "      <td>NaN</td>\n",
       "      <td>2</td>\n",
       "      <td>2</td>\n",
       "      <td>Giấy CN QSDĐ - Sổ đỏ - Sổ hồng</td>\n",
       "    </tr>\n",
       "    <tr>\n",
       "      <th>11935</th>\n",
       "      <td>1.1 Tỷ - 33.33 Triệu/m²</td>\n",
       "      <td>Quận Hà Đông, Thành phố Hà Nội</td>\n",
       "      <td>33 m²</td>\n",
       "      <td>Ngõ 2 ô tô tránh</td>\n",
       "      <td>NaN</td>\n",
       "      <td>NaN</td>\n",
       "      <td>Chính chủ</td>\n",
       "      <td>Nhà ở</td>\n",
       "      <td>NaN</td>\n",
       "      <td>NaN</td>\n",
       "      <td>NaN</td>\n",
       "      <td>Giấy CN QSDĐ - Sổ đỏ - Sổ hồng</td>\n",
       "    </tr>\n",
       "    <tr>\n",
       "      <th>11936</th>\n",
       "      <td>1 Tỷ - 10 Triệu/m²</td>\n",
       "      <td>Huyện Lục Yên, Tỉnh Yên Bái</td>\n",
       "      <td>100 m²</td>\n",
       "      <td>Mặt phố - Mặt đường</td>\n",
       "      <td>NaN</td>\n",
       "      <td>NaN</td>\n",
       "      <td>Nhà môi giới</td>\n",
       "      <td>Đất - Đất nền - Nhà như đất</td>\n",
       "      <td>NaN</td>\n",
       "      <td>NaN</td>\n",
       "      <td>NaN</td>\n",
       "      <td>Giấy CN QSDĐ - Sổ đỏ - Sổ hồng</td>\n",
       "    </tr>\n",
       "    <tr>\n",
       "      <th>11937</th>\n",
       "      <td>25 Tỷ - 50 Triệu/m²</td>\n",
       "      <td>Thành phố Vũng Tàu, Tỉnh Bà Rịa - Vũng Tàu</td>\n",
       "      <td>500 m²</td>\n",
       "      <td>Mặt phố - Mặt đường</td>\n",
       "      <td>NaN</td>\n",
       "      <td>Đông Nam</td>\n",
       "      <td>Nhà môi giới</td>\n",
       "      <td>Đất - Đất nền - Nhà như đất</td>\n",
       "      <td>NaN</td>\n",
       "      <td>NaN</td>\n",
       "      <td>NaN</td>\n",
       "      <td>NaN</td>\n",
       "    </tr>\n",
       "    <tr>\n",
       "      <th>11938</th>\n",
       "      <td>8.5 Tỷ - 184.78 Triệu/m²</td>\n",
       "      <td>Quận Hà Đông, Thành phố Hà Nội</td>\n",
       "      <td>46 m²</td>\n",
       "      <td>Ngõ 2 ô tô tránh</td>\n",
       "      <td>4m</td>\n",
       "      <td>NaN</td>\n",
       "      <td>Nhà môi giới</td>\n",
       "      <td>Nhà ở</td>\n",
       "      <td>NaN</td>\n",
       "      <td>3</td>\n",
       "      <td>4</td>\n",
       "      <td>Giấy CN QSDĐ - Sổ đỏ - Sổ hồng</td>\n",
       "    </tr>\n",
       "  </tbody>\n",
       "</table>\n",
       "<p>10040 rows × 12 columns</p>\n",
       "</div>"
      ],
      "text/plain": [
       "                            Price                                    Location  \\\n",
       "0        4.75 Tỷ - 52.78 Triệu/m²             Quận Sơn Trà, Thành phố Đà Nẵng   \n",
       "2         2.2 Tỷ - 56.41 Triệu/m²            Huyện Hoài Đức, Thành phố Hà Nội   \n",
       "3         770 Triệu - 14 Triệu/m²           Quận Thanh Xuân, Thành phố Hà Nội   \n",
       "4        890 Triệu - 8.9 Triệu/m²             Huyện Bàu Bàng, Tỉnh Bình Dương   \n",
       "5      800 Triệu - 19.51 Triệu/m²             Huyện Gia Lâm, Thành phố Hà Nội   \n",
       "...                           ...                                         ...   \n",
       "11934    2.25 Tỷ - 52.33 Triệu/m²           Quận Ninh Kiều, Thành phố Cần Thơ   \n",
       "11935     1.1 Tỷ - 33.33 Triệu/m²              Quận Hà Đông, Thành phố Hà Nội   \n",
       "11936          1 Tỷ - 10 Triệu/m²                 Huyện Lục Yên, Tỉnh Yên Bái   \n",
       "11937         25 Tỷ - 50 Triệu/m²  Thành phố Vũng Tàu, Tỉnh Bà Rịa - Vũng Tàu   \n",
       "11938    8.5 Tỷ - 184.78 Triệu/m²              Quận Hà Đông, Thành phố Hà Nội   \n",
       "\n",
       "         Area               Street Facade Direction         Saler  \\\n",
       "0       90 m²  Mặt phố - Mặt đường     5m  Đông Bắc  Nhà môi giới   \n",
       "2       39 m²           Ngõ 1 ô tô   3.5m       Tây     Chính chủ   \n",
       "3       55 m²           Ngõ 1 ô tô    NaN       NaN     Chính chủ   \n",
       "4      100 m²   Ngõ 4 ô tô trở lên     5m       Tây  Nhà môi giới   \n",
       "5       41 m²            Ngõ ngách   3.6m       NaN  Nhà môi giới   \n",
       "...       ...                  ...    ...       ...           ...   \n",
       "11934   43 m²           Ngõ 1 ô tô     6m   Tây Nam  Nhà môi giới   \n",
       "11935   33 m²     Ngõ 2 ô tô tránh    NaN       NaN     Chính chủ   \n",
       "11936  100 m²  Mặt phố - Mặt đường    NaN       NaN  Nhà môi giới   \n",
       "11937  500 m²  Mặt phố - Mặt đường    NaN  Đông Nam  Nhà môi giới   \n",
       "11938   46 m²     Ngõ 2 ô tô tránh     4m       NaN  Nhà môi giới   \n",
       "\n",
       "                              Type Floor Bathrooms Bedrooms  \\\n",
       "0                            Nhà ở   NaN       NaN        2   \n",
       "2      Đất - Đất nền - Nhà như đất   NaN       NaN      NaN   \n",
       "3          Chung cư, Chung cư mini   NaN       NaN      NaN   \n",
       "4      Đất - Đất nền - Nhà như đất   NaN       NaN      NaN   \n",
       "5      Đất - Đất nền - Nhà như đất   NaN       NaN      NaN   \n",
       "...                            ...   ...       ...      ...   \n",
       "11934                        Nhà ở   NaN         2        2   \n",
       "11935                        Nhà ở   NaN       NaN      NaN   \n",
       "11936  Đất - Đất nền - Nhà như đất   NaN       NaN      NaN   \n",
       "11937  Đất - Đất nền - Nhà như đất   NaN       NaN      NaN   \n",
       "11938                        Nhà ở   NaN         3        4   \n",
       "\n",
       "                                              Legal Doc  \n",
       "0                                                   NaN  \n",
       "2                        Giấy CN QSDĐ - Sổ đỏ - Sổ hồng  \n",
       "3      Giấy CN QSDĐ - Sổ đỏ - Sổ hồng, Hợp đồng mua bán  \n",
       "4                        Giấy CN QSDĐ - Sổ đỏ - Sổ hồng  \n",
       "5                        Giấy CN QSDĐ - Sổ đỏ - Sổ hồng  \n",
       "...                                                 ...  \n",
       "11934                    Giấy CN QSDĐ - Sổ đỏ - Sổ hồng  \n",
       "11935                    Giấy CN QSDĐ - Sổ đỏ - Sổ hồng  \n",
       "11936                    Giấy CN QSDĐ - Sổ đỏ - Sổ hồng  \n",
       "11937                                               NaN  \n",
       "11938                    Giấy CN QSDĐ - Sổ đỏ - Sổ hồng  \n",
       "\n",
       "[10040 rows x 12 columns]"
      ]
     },
     "execution_count": 13,
     "metadata": {},
     "output_type": "execute_result"
    }
   ],
   "source": [
    "new_data = new_data[new_data.Price != 'Thương lượng']\n",
    "new_data"
   ]
  },
  {
   "cell_type": "code",
   "execution_count": 14,
   "metadata": {
    "colab": {
     "base_uri": "https://localhost:8080/",
     "height": 80
    },
    "id": "ohnH1wNOHUZg",
    "outputId": "222d722e-1082-445e-becd-6d49ec593195"
   },
   "outputs": [
    {
     "data": {
      "text/html": [
       "<div>\n",
       "<style scoped>\n",
       "    .dataframe tbody tr th:only-of-type {\n",
       "        vertical-align: middle;\n",
       "    }\n",
       "\n",
       "    .dataframe tbody tr th {\n",
       "        vertical-align: top;\n",
       "    }\n",
       "\n",
       "    .dataframe thead th {\n",
       "        text-align: right;\n",
       "    }\n",
       "</style>\n",
       "<table border=\"1\" class=\"dataframe\">\n",
       "  <thead>\n",
       "    <tr style=\"text-align: right;\">\n",
       "      <th></th>\n",
       "      <th>Price</th>\n",
       "      <th>Location</th>\n",
       "      <th>Area</th>\n",
       "      <th>Street</th>\n",
       "      <th>Facade</th>\n",
       "      <th>Direction</th>\n",
       "      <th>Saler</th>\n",
       "      <th>Type</th>\n",
       "      <th>Floor</th>\n",
       "      <th>Bathrooms</th>\n",
       "      <th>Bedrooms</th>\n",
       "      <th>Legal Doc</th>\n",
       "    </tr>\n",
       "  </thead>\n",
       "  <tbody>\n",
       "    <tr>\n",
       "      <th>7579</th>\n",
       "      <td>2,260,000 Tỷ - 29,736.84 Tỷ/m²</td>\n",
       "      <td>Thành phố Vũng Tàu, Tỉnh Bà Rịa - Vũng Tàu</td>\n",
       "      <td>76 m²</td>\n",
       "      <td>NaN</td>\n",
       "      <td>NaN</td>\n",
       "      <td>NaN</td>\n",
       "      <td>Nhà môi giới</td>\n",
       "      <td>Chung cư</td>\n",
       "      <td>NaN</td>\n",
       "      <td>NaN</td>\n",
       "      <td>NaN</td>\n",
       "      <td>NaN</td>\n",
       "    </tr>\n",
       "  </tbody>\n",
       "</table>\n",
       "</div>"
      ],
      "text/plain": [
       "                               Price  \\\n",
       "7579  2,260,000 Tỷ - 29,736.84 Tỷ/m²   \n",
       "\n",
       "                                        Location   Area Street Facade  \\\n",
       "7579  Thành phố Vũng Tàu, Tỉnh Bà Rịa - Vũng Tàu  76 m²    NaN    NaN   \n",
       "\n",
       "     Direction         Saler      Type Floor Bathrooms Bedrooms Legal Doc  \n",
       "7579       NaN  Nhà môi giới  Chung cư   NaN       NaN      NaN       NaN  "
      ]
     },
     "execution_count": 14,
     "metadata": {},
     "output_type": "execute_result"
    }
   ],
   "source": [
    "new_data[new_data['Price'] == '2,260,000 Tỷ - 29,736.84 Tỷ/m²']"
   ]
  },
  {
   "cell_type": "code",
   "execution_count": 15,
   "metadata": {
    "colab": {
     "base_uri": "https://localhost:8080/"
    },
    "id": "-04JneiNHUZg",
    "outputId": "d2b38614-f761-4e1b-84bc-95ec21386c65"
   },
   "outputs": [
    {
     "data": {
      "text/plain": [
       "[('1,500,000', 'Tỷ', '10,714.29', 'Tỷ/m²')]"
      ]
     },
     "execution_count": 15,
     "metadata": {},
     "output_type": "execute_result"
    }
   ],
   "source": [
    "regexp = re.compile(r'(\\d+[.,]?\\d*[,.]?\\d*)\\s(\\w+)\\s?-?\\s?(\\d+[.,]?\\d*[,.]?\\d*)?\\s?(\\w+\\W\\w+)?')\n",
    "row = '1,500,000 Tỷ - 10,714.29 Tỷ/m²'\n",
    "matches = regexp.findall(row)\n",
    "matches"
   ]
  },
  {
   "cell_type": "code",
   "execution_count": 16,
   "metadata": {
    "id": "l8KJ6TpKHUZh"
   },
   "outputs": [],
   "source": [
    "def convert_Price_col(prices):\n",
    "    list_price = []\n",
    "    list_price_per_squarem = []\n",
    "    weird_index = []\n",
    "    \n",
    "    for index, price in enumerate(prices):\n",
    "        pr = float(regexp.sub(r'\\1', price).replace(\",\",\"\"))\n",
    "        if regexp.sub(r'\\2', price) == 'Triệu':\n",
    "            pr /= 1e3\n",
    "        pp = regexp.sub(r'\\3', price).replace(\",\",\"\")\n",
    "        p_unit = regexp.sub(r'\\4', price)\n",
    "        if pp == '':\n",
    "            pp = np.NaN\n",
    "        if p_unit != 'Triệu/m²':\n",
    "            weird_index.append(index)\n",
    "            if p_unit == 'Tỷ/m²':\n",
    "                pp = float(pp)*1e3\n",
    "            elif p_unit == 'Nghìn/m²':\n",
    "                pp = float(pp)/1e6\n",
    "        list_price.append(pr)\n",
    "        list_price_per_squarem.append(float(pp)) \n",
    "    return list_price, list_price_per_squarem, weird_index\n",
    "\n",
    "list_price, list_price_per_squarem, weird_index = convert_Price_col(list(new_data['Price']))"
   ]
  },
  {
   "cell_type": "code",
   "execution_count": 17,
   "metadata": {
    "colab": {
     "base_uri": "https://localhost:8080/"
    },
    "id": "aShOSlgbHUZi",
    "outputId": "89755675-99b8-4c39-b275-04faa3cbb69c"
   },
   "outputs": [
    {
     "data": {
      "text/plain": [
       "342"
      ]
     },
     "execution_count": 17,
     "metadata": {},
     "output_type": "execute_result"
    }
   ],
   "source": [
    "len(weird_index)"
   ]
  },
  {
   "cell_type": "code",
   "execution_count": 18,
   "metadata": {
    "id": "w4_1MHgLHUZj"
   },
   "outputs": [],
   "source": [
    "# for idx in weird_index:\n",
    "#     print(new_data.iloc[idx]['Price'])"
   ]
  },
  {
   "cell_type": "code",
   "execution_count": 19,
   "metadata": {
    "id": "xbqkaJGOHUZj"
   },
   "outputs": [],
   "source": [
    "new_data['Price(million/m_square)'] = list_price_per_squarem\n",
    "new_data['Price'] = list_price"
   ]
  },
  {
   "cell_type": "code",
   "execution_count": 20,
   "metadata": {
    "id": "cDSkorAsHUZj"
   },
   "outputs": [],
   "source": [
    "def convert_Area_col(row):\n",
    "    return float(row[:row.find('m²')].strip().replace(\",\",\"\"))\n",
    "\n",
    "new_data['Area'] = new_data['Area'].apply(lambda x : convert_Area_col(x) if x == x else x) \n",
    "new_data['Facade'] = new_data['Facade'].apply(lambda x : convert_Area_col(x) if x == x else x) "
   ]
  },
  {
   "cell_type": "markdown",
   "metadata": {
    "id": "iqhWvsPeHUZk"
   },
   "source": [
    "- Price: đơn vị tỷ"
   ]
  },
  {
   "cell_type": "code",
   "execution_count": 21,
   "metadata": {
    "colab": {
     "base_uri": "https://localhost:8080/",
     "height": 204
    },
    "id": "5UnGP_1oHUZk",
    "outputId": "2415d722-d8aa-4596-e2e1-c5c6476e9d76"
   },
   "outputs": [
    {
     "data": {
      "text/html": [
       "<div>\n",
       "<style scoped>\n",
       "    .dataframe tbody tr th:only-of-type {\n",
       "        vertical-align: middle;\n",
       "    }\n",
       "\n",
       "    .dataframe tbody tr th {\n",
       "        vertical-align: top;\n",
       "    }\n",
       "\n",
       "    .dataframe thead th {\n",
       "        text-align: right;\n",
       "    }\n",
       "</style>\n",
       "<table border=\"1\" class=\"dataframe\">\n",
       "  <thead>\n",
       "    <tr style=\"text-align: right;\">\n",
       "      <th></th>\n",
       "      <th>Price</th>\n",
       "      <th>Location</th>\n",
       "      <th>Area</th>\n",
       "      <th>Street</th>\n",
       "      <th>Facade</th>\n",
       "      <th>Direction</th>\n",
       "      <th>Saler</th>\n",
       "      <th>Type</th>\n",
       "      <th>Floor</th>\n",
       "      <th>Bathrooms</th>\n",
       "      <th>Bedrooms</th>\n",
       "      <th>Legal Doc</th>\n",
       "      <th>Price(million/m_square)</th>\n",
       "    </tr>\n",
       "  </thead>\n",
       "  <tbody>\n",
       "    <tr>\n",
       "      <th>11934</th>\n",
       "      <td>2.25</td>\n",
       "      <td>Quận Ninh Kiều, Thành phố Cần Thơ</td>\n",
       "      <td>43.0</td>\n",
       "      <td>Ngõ 1 ô tô</td>\n",
       "      <td>6.0</td>\n",
       "      <td>Tây Nam</td>\n",
       "      <td>Nhà môi giới</td>\n",
       "      <td>Nhà ở</td>\n",
       "      <td>NaN</td>\n",
       "      <td>2</td>\n",
       "      <td>2</td>\n",
       "      <td>Giấy CN QSDĐ - Sổ đỏ - Sổ hồng</td>\n",
       "      <td>52.33</td>\n",
       "    </tr>\n",
       "    <tr>\n",
       "      <th>11935</th>\n",
       "      <td>1.10</td>\n",
       "      <td>Quận Hà Đông, Thành phố Hà Nội</td>\n",
       "      <td>33.0</td>\n",
       "      <td>Ngõ 2 ô tô tránh</td>\n",
       "      <td>NaN</td>\n",
       "      <td>NaN</td>\n",
       "      <td>Chính chủ</td>\n",
       "      <td>Nhà ở</td>\n",
       "      <td>NaN</td>\n",
       "      <td>NaN</td>\n",
       "      <td>NaN</td>\n",
       "      <td>Giấy CN QSDĐ - Sổ đỏ - Sổ hồng</td>\n",
       "      <td>33.33</td>\n",
       "    </tr>\n",
       "    <tr>\n",
       "      <th>11936</th>\n",
       "      <td>1.00</td>\n",
       "      <td>Huyện Lục Yên, Tỉnh Yên Bái</td>\n",
       "      <td>100.0</td>\n",
       "      <td>Mặt phố - Mặt đường</td>\n",
       "      <td>NaN</td>\n",
       "      <td>NaN</td>\n",
       "      <td>Nhà môi giới</td>\n",
       "      <td>Đất - Đất nền - Nhà như đất</td>\n",
       "      <td>NaN</td>\n",
       "      <td>NaN</td>\n",
       "      <td>NaN</td>\n",
       "      <td>Giấy CN QSDĐ - Sổ đỏ - Sổ hồng</td>\n",
       "      <td>10.00</td>\n",
       "    </tr>\n",
       "    <tr>\n",
       "      <th>11937</th>\n",
       "      <td>25.00</td>\n",
       "      <td>Thành phố Vũng Tàu, Tỉnh Bà Rịa - Vũng Tàu</td>\n",
       "      <td>500.0</td>\n",
       "      <td>Mặt phố - Mặt đường</td>\n",
       "      <td>NaN</td>\n",
       "      <td>Đông Nam</td>\n",
       "      <td>Nhà môi giới</td>\n",
       "      <td>Đất - Đất nền - Nhà như đất</td>\n",
       "      <td>NaN</td>\n",
       "      <td>NaN</td>\n",
       "      <td>NaN</td>\n",
       "      <td>NaN</td>\n",
       "      <td>50.00</td>\n",
       "    </tr>\n",
       "    <tr>\n",
       "      <th>11938</th>\n",
       "      <td>8.50</td>\n",
       "      <td>Quận Hà Đông, Thành phố Hà Nội</td>\n",
       "      <td>46.0</td>\n",
       "      <td>Ngõ 2 ô tô tránh</td>\n",
       "      <td>4.0</td>\n",
       "      <td>NaN</td>\n",
       "      <td>Nhà môi giới</td>\n",
       "      <td>Nhà ở</td>\n",
       "      <td>NaN</td>\n",
       "      <td>3</td>\n",
       "      <td>4</td>\n",
       "      <td>Giấy CN QSDĐ - Sổ đỏ - Sổ hồng</td>\n",
       "      <td>184.78</td>\n",
       "    </tr>\n",
       "  </tbody>\n",
       "</table>\n",
       "</div>"
      ],
      "text/plain": [
       "       Price                                    Location   Area  \\\n",
       "11934   2.25           Quận Ninh Kiều, Thành phố Cần Thơ   43.0   \n",
       "11935   1.10              Quận Hà Đông, Thành phố Hà Nội   33.0   \n",
       "11936   1.00                 Huyện Lục Yên, Tỉnh Yên Bái  100.0   \n",
       "11937  25.00  Thành phố Vũng Tàu, Tỉnh Bà Rịa - Vũng Tàu  500.0   \n",
       "11938   8.50              Quận Hà Đông, Thành phố Hà Nội   46.0   \n",
       "\n",
       "                    Street  Facade Direction         Saler  \\\n",
       "11934           Ngõ 1 ô tô     6.0   Tây Nam  Nhà môi giới   \n",
       "11935     Ngõ 2 ô tô tránh     NaN       NaN     Chính chủ   \n",
       "11936  Mặt phố - Mặt đường     NaN       NaN  Nhà môi giới   \n",
       "11937  Mặt phố - Mặt đường     NaN  Đông Nam  Nhà môi giới   \n",
       "11938     Ngõ 2 ô tô tránh     4.0       NaN  Nhà môi giới   \n",
       "\n",
       "                              Type Floor Bathrooms Bedrooms  \\\n",
       "11934                        Nhà ở   NaN         2        2   \n",
       "11935                        Nhà ở   NaN       NaN      NaN   \n",
       "11936  Đất - Đất nền - Nhà như đất   NaN       NaN      NaN   \n",
       "11937  Đất - Đất nền - Nhà như đất   NaN       NaN      NaN   \n",
       "11938                        Nhà ở   NaN         3        4   \n",
       "\n",
       "                            Legal Doc  Price(million/m_square)  \n",
       "11934  Giấy CN QSDĐ - Sổ đỏ - Sổ hồng                    52.33  \n",
       "11935  Giấy CN QSDĐ - Sổ đỏ - Sổ hồng                    33.33  \n",
       "11936  Giấy CN QSDĐ - Sổ đỏ - Sổ hồng                    10.00  \n",
       "11937                             NaN                    50.00  \n",
       "11938  Giấy CN QSDĐ - Sổ đỏ - Sổ hồng                   184.78  "
      ]
     },
     "execution_count": 21,
     "metadata": {},
     "output_type": "execute_result"
    }
   ],
   "source": [
    "new_data.tail(5)"
   ]
  },
  {
   "cell_type": "code",
   "execution_count": 22,
   "metadata": {
    "id": "NdC9SYnpHUZk"
   },
   "outputs": [],
   "source": [
    "new_data['Floor'] = new_data['Floor'].astype(float)\n",
    "new_data['Bedrooms'] = new_data['Bedrooms'].astype(float)\n",
    "new_data['Bathrooms'] = new_data['Bathrooms'].astype(float)"
   ]
  },
  {
   "cell_type": "code",
   "execution_count": 23,
   "metadata": {
    "colab": {
     "base_uri": "https://localhost:8080/"
    },
    "id": "NoxwdsliHUZl",
    "outputId": "ec4d2b07-3035-4314-c020-cfc74e8e5956"
   },
   "outputs": [
    {
     "name": "stdout",
     "output_type": "stream",
     "text": [
      "<class 'pandas.core.frame.DataFrame'>\n",
      "Int64Index: 10040 entries, 0 to 11938\n",
      "Data columns (total 13 columns):\n",
      " #   Column                   Non-Null Count  Dtype  \n",
      "---  ------                   --------------  -----  \n",
      " 0   Price                    10040 non-null  float64\n",
      " 1   Location                 10040 non-null  object \n",
      " 2   Area                     10007 non-null  float64\n",
      " 3   Street                   9026 non-null   object \n",
      " 4   Facade                   5417 non-null   float64\n",
      " 5   Direction                1845 non-null   object \n",
      " 6   Saler                    10040 non-null  object \n",
      " 7   Type                     10040 non-null  object \n",
      " 8   Floor                    465 non-null    float64\n",
      " 9   Bathrooms                1996 non-null   float64\n",
      " 10  Bedrooms                 4579 non-null   float64\n",
      " 11  Legal Doc                8541 non-null   object \n",
      " 12  Price(million/m_square)  10007 non-null  float64\n",
      "dtypes: float64(7), object(6)\n",
      "memory usage: 1.1+ MB\n"
     ]
    }
   ],
   "source": [
    "new_data.info()"
   ]
  },
  {
   "cell_type": "code",
   "execution_count": 24,
   "metadata": {
    "colab": {
     "base_uri": "https://localhost:8080/",
     "height": 261
    },
    "id": "Lvin_I_zHUZl",
    "outputId": "eec1f63a-225f-4f03-9f59-473d38eb892e"
   },
   "outputs": [
    {
     "data": {
      "text/html": [
       "<div>\n",
       "<style scoped>\n",
       "    .dataframe tbody tr th:only-of-type {\n",
       "        vertical-align: middle;\n",
       "    }\n",
       "\n",
       "    .dataframe tbody tr th {\n",
       "        vertical-align: top;\n",
       "    }\n",
       "\n",
       "    .dataframe thead th {\n",
       "        text-align: right;\n",
       "    }\n",
       "</style>\n",
       "<table border=\"1\" class=\"dataframe\">\n",
       "  <thead>\n",
       "    <tr style=\"text-align: right;\">\n",
       "      <th></th>\n",
       "      <th>Location</th>\n",
       "      <th>Street</th>\n",
       "      <th>Direction</th>\n",
       "      <th>Saler</th>\n",
       "      <th>Type</th>\n",
       "      <th>Legal Doc</th>\n",
       "    </tr>\n",
       "  </thead>\n",
       "  <tbody>\n",
       "    <tr>\n",
       "      <th>missing_ratio</th>\n",
       "      <td>0</td>\n",
       "      <td>10.0996</td>\n",
       "      <td>81.6235</td>\n",
       "      <td>0</td>\n",
       "      <td>0</td>\n",
       "      <td>14.9303</td>\n",
       "    </tr>\n",
       "    <tr>\n",
       "      <th>nunique</th>\n",
       "      <td>300</td>\n",
       "      <td>8</td>\n",
       "      <td>37</td>\n",
       "      <td>8</td>\n",
       "      <td>194</td>\n",
       "      <td>15</td>\n",
       "    </tr>\n",
       "    <tr>\n",
       "      <th>top10_value_counts</th>\n",
       "      <td>{'Quận Hà Đông, Thành phố Hà Nội': 630, 'Quận Đống Đa, Thành phố Hà Nội': 562, 'Quận Thanh Xuân, Thành phố Hà Nội': 513, 'Quận Cầu Giấy, Thành phố Hà Nội': 434, 'Quận Hoàng Mai, Thành phố Hà Nội': 361, 'Quận Bắc Từ Liêm, Thành phố Hà Nội': 354, 'Quận Hai Bà Trưng, Thành phố Hà Nội': 304, 'Quận Long Biên, Thành phố Hà Nội': 292, 'Thành phố Vũng Tàu, Tỉnh Bà Rịa - Vũng Tàu': 272, 'Quận Tây Hồ, Thành phố Hà Nội': 267}</td>\n",
       "      <td>{'Mặt phố - Mặt đường': 3329, 'Ngõ ô tô đỗ cửa': 1497, 'Ngõ 2 ô tô tránh': 1454, 'Ngõ ngách': 1445, 'Ngõ 1 ô tô': 1062, 'Ngõ 3 ô tô tránh': 174, 'Ngõ 4 ô tô trở lên': 45, 'Ngõ 4 ô tô tránh': 20}</td>\n",
       "      <td>{'Đông Nam': 365, 'Đông Bắc': 234, 'Tây Nam': 224, 'Tây Bắc': 221, 'Nam': 179, 'Đông': 136, 'Bắc': 117, 'Đông Tứ Trạch': 108, 'Tây Tứ Trạch': 81, 'Tây': 75}</td>\n",
       "      <td>{'Nhà môi giới': 7752, 'Chính chủ': 1839, 'Khách vãng lai': 181, 'Sàn bất động sản': 105, 'Chủ đầu tư': 98, 'Quảng cáo': 37, 'Nhà đầu tư': 27, 'Ngân Hàng': 1}</td>\n",
       "      <td>{'Nhà ở': 4719, 'Đất - Đất nền - Nhà như đất': 2684, 'Chung cư': 814, 'Biệt thự - Song lập - Đơn lập': 276, 'Nhà liền kề - Song lập - Đơn lập': 181, 'Shophouse - Nhà phố': 125, 'Nhà cấp 4': 120, 'Chung cư mini': 102, 'Nhà ở, Nhà liền kề - Song lập - Đơn lập': 51, 'Nhà ở, Đất - Đất nền - Nhà như đất': 48}</td>\n",
       "      <td>{'Giấy CN QSDĐ - Sổ đỏ - Sổ hồng': 8050, 'Giấy CN QSDĐ - Sổ đỏ - Sổ hồng, Hợp đồng mua bán': 314, 'Hợp đồng mua bán': 145, 'Đang làm giấy CN QSDĐ': 6, 'Đã có giấy hẹn lấy số': 5, 'Giấy CN QSDĐ - Sổ đỏ - Sổ hồng, Hợp đồng mua bán, Giấy tờ chứng minh nguồn gốc': 5, 'Hợp đồng góp vốn': 4, 'Giấy CN QSDĐ - Sổ đỏ - Sổ hồng, Hợp đồng mua bán, Hợp đồng góp vốn': 3, 'Giấy CN QSDĐ - Sổ đỏ - Sổ hồng, Giấy tờ chứng minh nguồn gốc': 2, 'Đất giao - Đất phân': 2}</td>\n",
       "    </tr>\n",
       "  </tbody>\n",
       "</table>\n",
       "</div>"
      ],
      "text/plain": [
       "                                                                                                                                                                                                                                                                                                                                                                                                                                              Location  \\\n",
       "missing_ratio                                                                                                                                                                                                                                                                                                                                                                                                                                        0   \n",
       "nunique                                                                                                                                                                                                                                                                                                                                                                                                                                            300   \n",
       "top10_value_counts  {'Quận Hà Đông, Thành phố Hà Nội': 630, 'Quận Đống Đa, Thành phố Hà Nội': 562, 'Quận Thanh Xuân, Thành phố Hà Nội': 513, 'Quận Cầu Giấy, Thành phố Hà Nội': 434, 'Quận Hoàng Mai, Thành phố Hà Nội': 361, 'Quận Bắc Từ Liêm, Thành phố Hà Nội': 354, 'Quận Hai Bà Trưng, Thành phố Hà Nội': 304, 'Quận Long Biên, Thành phố Hà Nội': 292, 'Thành phố Vũng Tàu, Tỉnh Bà Rịa - Vũng Tàu': 272, 'Quận Tây Hồ, Thành phố Hà Nội': 267}   \n",
       "\n",
       "                                                                                                                                                                                                                Street  \\\n",
       "missing_ratio                                                                                                                                                                                                  10.0996   \n",
       "nunique                                                                                                                                                                                                              8   \n",
       "top10_value_counts  {'Mặt phố - Mặt đường': 3329, 'Ngõ ô tô đỗ cửa': 1497, 'Ngõ 2 ô tô tránh': 1454, 'Ngõ ngách': 1445, 'Ngõ 1 ô tô': 1062, 'Ngõ 3 ô tô tránh': 174, 'Ngõ 4 ô tô trở lên': 45, 'Ngõ 4 ô tô tránh': 20}   \n",
       "\n",
       "                                                                                                                                                                       Direction  \\\n",
       "missing_ratio                                                                                                                                                            81.6235   \n",
       "nunique                                                                                                                                                                       37   \n",
       "top10_value_counts  {'Đông Nam': 365, 'Đông Bắc': 234, 'Tây Nam': 224, 'Tây Bắc': 221, 'Nam': 179, 'Đông': 136, 'Bắc': 117, 'Đông Tứ Trạch': 108, 'Tây Tứ Trạch': 81, 'Tây': 75}   \n",
       "\n",
       "                                                                                                                                                                             Saler  \\\n",
       "missing_ratio                                                                                                                                                                    0   \n",
       "nunique                                                                                                                                                                          8   \n",
       "top10_value_counts  {'Nhà môi giới': 7752, 'Chính chủ': 1839, 'Khách vãng lai': 181, 'Sàn bất động sản': 105, 'Chủ đầu tư': 98, 'Quảng cáo': 37, 'Nhà đầu tư': 27, 'Ngân Hàng': 1}   \n",
       "\n",
       "                                                                                                                                                                                                                                                                                                                                 Type  \\\n",
       "missing_ratio                                                                                                                                                                                                                                                                                                                       0   \n",
       "nunique                                                                                                                                                                                                                                                                                                                           194   \n",
       "top10_value_counts  {'Nhà ở': 4719, 'Đất - Đất nền - Nhà như đất': 2684, 'Chung cư': 814, 'Biệt thự - Song lập - Đơn lập': 276, 'Nhà liền kề - Song lập - Đơn lập': 181, 'Shophouse - Nhà phố': 125, 'Nhà cấp 4': 120, 'Chung cư mini': 102, 'Nhà ở, Nhà liền kề - Song lập - Đơn lập': 51, 'Nhà ở, Đất - Đất nền - Nhà như đất': 48}   \n",
       "\n",
       "                                                                                                                                                                                                                                                                                                                                                                                                                                                                               Legal Doc  \n",
       "missing_ratio                                                                                                                                                                                                                                                                                                                                                                                                                                                                    14.9303  \n",
       "nunique                                                                                                                                                                                                                                                                                                                                                                                                                                                                               15  \n",
       "top10_value_counts  {'Giấy CN QSDĐ - Sổ đỏ - Sổ hồng': 8050, 'Giấy CN QSDĐ - Sổ đỏ - Sổ hồng, Hợp đồng mua bán': 314, 'Hợp đồng mua bán': 145, 'Đang làm giấy CN QSDĐ': 6, 'Đã có giấy hẹn lấy số': 5, 'Giấy CN QSDĐ - Sổ đỏ - Sổ hồng, Hợp đồng mua bán, Giấy tờ chứng minh nguồn gốc': 5, 'Hợp đồng góp vốn': 4, 'Giấy CN QSDĐ - Sổ đỏ - Sổ hồng, Hợp đồng mua bán, Hợp đồng góp vốn': 3, 'Giấy CN QSDĐ - Sổ đỏ - Sổ hồng, Giấy tờ chứng minh nguồn gốc': 2, 'Đất giao - Đất phân': 2}  "
      ]
     },
     "execution_count": 24,
     "metadata": {},
     "output_type": "execute_result"
    }
   ],
   "source": [
    "cat_col_df = new_data.select_dtypes(include='object')\n",
    "\n",
    "def missing_ratio(col):\n",
    "    return col.isna().mean()*100\n",
    "\n",
    "def top10_value_counts(col):\n",
    "    return dict(col.value_counts()[:10])\n",
    "\n",
    "category_stat = cat_col_df.agg([missing_ratio, pd.Series.nunique, top10_value_counts])\n",
    "pd.set_option('display.max_colwidth', 1000)\n",
    "category_stat"
   ]
  },
  {
   "cell_type": "code",
   "execution_count": 25,
   "metadata": {
    "colab": {
     "base_uri": "https://localhost:8080/",
     "height": 235
    },
    "id": "Mifp0XPpHUZl",
    "outputId": "32740541-36ce-4eaf-d8b8-59d57c4a57a7"
   },
   "outputs": [
    {
     "data": {
      "text/html": [
       "<div>\n",
       "<style scoped>\n",
       "    .dataframe tbody tr th:only-of-type {\n",
       "        vertical-align: middle;\n",
       "    }\n",
       "\n",
       "    .dataframe tbody tr th {\n",
       "        vertical-align: top;\n",
       "    }\n",
       "\n",
       "    .dataframe thead th {\n",
       "        text-align: right;\n",
       "    }\n",
       "</style>\n",
       "<table border=\"1\" class=\"dataframe\">\n",
       "  <thead>\n",
       "    <tr style=\"text-align: right;\">\n",
       "      <th></th>\n",
       "      <th>Price</th>\n",
       "      <th>Area</th>\n",
       "      <th>Facade</th>\n",
       "      <th>Floor</th>\n",
       "      <th>Bathrooms</th>\n",
       "      <th>Bedrooms</th>\n",
       "      <th>Price(million/m_square)</th>\n",
       "    </tr>\n",
       "  </thead>\n",
       "  <tbody>\n",
       "    <tr>\n",
       "      <th>missing_ratio</th>\n",
       "      <td>0.000000e+00</td>\n",
       "      <td>0.328685</td>\n",
       "      <td>46.045817</td>\n",
       "      <td>95.368526</td>\n",
       "      <td>80.119522</td>\n",
       "      <td>54.39243</td>\n",
       "      <td>3.286853e-01</td>\n",
       "    </tr>\n",
       "    <tr>\n",
       "      <th>min</th>\n",
       "      <td>1.000000e-03</td>\n",
       "      <td>1.200000</td>\n",
       "      <td>1.000000</td>\n",
       "      <td>1.000000</td>\n",
       "      <td>1.000000</td>\n",
       "      <td>1.00000</td>\n",
       "      <td>1.280000e-06</td>\n",
       "    </tr>\n",
       "    <tr>\n",
       "      <th>median</th>\n",
       "      <td>3.600000e+00</td>\n",
       "      <td>72.000000</td>\n",
       "      <td>5.000000</td>\n",
       "      <td>4.000000</td>\n",
       "      <td>3.000000</td>\n",
       "      <td>3.00000</td>\n",
       "      <td>6.650000e+01</td>\n",
       "    </tr>\n",
       "    <tr>\n",
       "      <th>lower_quantile</th>\n",
       "      <td>1.870000e+00</td>\n",
       "      <td>46.000000</td>\n",
       "      <td>4.000000</td>\n",
       "      <td>3.000000</td>\n",
       "      <td>2.000000</td>\n",
       "      <td>2.00000</td>\n",
       "      <td>1.900000e+01</td>\n",
       "    </tr>\n",
       "    <tr>\n",
       "      <th>upper_quantile</th>\n",
       "      <td>6.500000e+00</td>\n",
       "      <td>118.000000</td>\n",
       "      <td>6.000000</td>\n",
       "      <td>5.000000</td>\n",
       "      <td>4.000000</td>\n",
       "      <td>4.00000</td>\n",
       "      <td>1.095050e+02</td>\n",
       "    </tr>\n",
       "    <tr>\n",
       "      <th>max</th>\n",
       "      <td>1.130000e+09</td>\n",
       "      <td>500000.000000</td>\n",
       "      <td>613.000000</td>\n",
       "      <td>50.000000</td>\n",
       "      <td>50.000000</td>\n",
       "      <td>111.00000</td>\n",
       "      <td>1.113000e+08</td>\n",
       "    </tr>\n",
       "  </tbody>\n",
       "</table>\n",
       "</div>"
      ],
      "text/plain": [
       "                       Price           Area      Facade      Floor  Bathrooms  \\\n",
       "missing_ratio   0.000000e+00       0.328685   46.045817  95.368526  80.119522   \n",
       "min             1.000000e-03       1.200000    1.000000   1.000000   1.000000   \n",
       "median          3.600000e+00      72.000000    5.000000   4.000000   3.000000   \n",
       "lower_quantile  1.870000e+00      46.000000    4.000000   3.000000   2.000000   \n",
       "upper_quantile  6.500000e+00     118.000000    6.000000   5.000000   4.000000   \n",
       "max             1.130000e+09  500000.000000  613.000000  50.000000  50.000000   \n",
       "\n",
       "                 Bedrooms  Price(million/m_square)  \n",
       "missing_ratio    54.39243             3.286853e-01  \n",
       "min               1.00000             1.280000e-06  \n",
       "median            3.00000             6.650000e+01  \n",
       "lower_quantile    2.00000             1.900000e+01  \n",
       "upper_quantile    4.00000             1.095050e+02  \n",
       "max             111.00000             1.113000e+08  "
      ]
     },
     "execution_count": 25,
     "metadata": {},
     "output_type": "execute_result"
    }
   ],
   "source": [
    "numeric_cols_df = new_data.select_dtypes(exclude='object')\n",
    "\n",
    "def median(col):\n",
    "    return col.quantile(0.5)\n",
    "\n",
    "def lower_quantile(col):\n",
    "    return col.quantile(0.25)\n",
    "\n",
    "def upper_quantile(col):\n",
    "    return col.quantile(0.75)\n",
    "\n",
    "numeric_cols_df.agg([missing_ratio, min, median, lower_quantile, upper_quantile,max])"
   ]
  },
  {
   "cell_type": "code",
   "execution_count": 26,
   "metadata": {
    "id": "fQnEs_TdHUZm"
   },
   "outputs": [],
   "source": [
    "# new_data.drop(new_data.index[new_data['Price'] == 3.750000e+09], inplace = True)"
   ]
  },
  {
   "cell_type": "code",
   "execution_count": 27,
   "metadata": {
    "colab": {
     "base_uri": "https://localhost:8080/"
    },
    "id": "pxTrRb08HUZm",
    "outputId": "2d26773f-b9bb-4960-fb18-ca73c5da9574"
   },
   "outputs": [
    {
     "data": {
      "text/plain": [
       "(10040, 13)"
      ]
     },
     "execution_count": 27,
     "metadata": {},
     "output_type": "execute_result"
    }
   ],
   "source": [
    "new_data.shape"
   ]
  },
  {
   "cell_type": "code",
   "execution_count": 28,
   "metadata": {
    "colab": {
     "base_uri": "https://localhost:8080/"
    },
    "id": "H_GAAba5HUZm",
    "outputId": "f0d3c9d3-c2ae-4a2b-b6bd-cc167dc10547"
   },
   "outputs": [
    {
     "name": "stdout",
     "output_type": "stream",
     "text": [
      "<class 'pandas.core.frame.DataFrame'>\n",
      "Int64Index: 10040 entries, 0 to 11938\n",
      "Data columns (total 13 columns):\n",
      " #   Column                   Non-Null Count  Dtype  \n",
      "---  ------                   --------------  -----  \n",
      " 0   Price                    10040 non-null  float64\n",
      " 1   Location                 10040 non-null  object \n",
      " 2   Area                     10007 non-null  float64\n",
      " 3   Street                   9026 non-null   object \n",
      " 4   Facade                   5417 non-null   float64\n",
      " 5   Direction                1845 non-null   object \n",
      " 6   Saler                    10040 non-null  object \n",
      " 7   Type                     10040 non-null  object \n",
      " 8   Floor                    465 non-null    float64\n",
      " 9   Bathrooms                1996 non-null   float64\n",
      " 10  Bedrooms                 4579 non-null   float64\n",
      " 11  Legal Doc                8541 non-null   object \n",
      " 12  Price(million/m_square)  10007 non-null  float64\n",
      "dtypes: float64(7), object(6)\n",
      "memory usage: 1.1+ MB\n"
     ]
    }
   ],
   "source": [
    "new_data.info()"
   ]
  },
  {
   "cell_type": "code",
   "execution_count": 29,
   "metadata": {
    "colab": {
     "base_uri": "https://localhost:8080/",
     "height": 480
    },
    "id": "3lyRjo0kHUZm",
    "outputId": "b5cf44c8-f1ac-40f2-ab48-c353633c9717"
   },
   "outputs": [
    {
     "data": {
      "image/png": "[encoded data removed]",
      "text/plain": [
       "<Figure size 1152x504 with 2 Axes>"
      ]
     },
     "metadata": {
      "needs_background": "light"
     },
     "output_type": "display_data"
    }
   ],
   "source": [
    "fig, ax = plt.subplots(1,2,figsize=(16,7))\n",
    "sns.barplot(x=new_data['Street'].dropna().unique(),y =new_data['Street'].value_counts(), ax=ax[0])\n",
    "ax[0].set_xticklabels(ax[0].get_xticklabels(),rotation=30)\n",
    "sns.barplot(x=new_data['Saler'].dropna().unique(),y =new_data['Saler'].value_counts(), ax=ax[1])\n",
    "ax[1].set_xticklabels(ax[1].get_xticklabels(),rotation=30)\n",
    "plt.show()"
   ]
  },
  {
   "cell_type": "code",
   "execution_count": 30,
   "metadata": {
    "colab": {
     "base_uri": "https://localhost:8080/"
    },
    "id": "zzLqyUAIHUZn",
    "outputId": "7d8cd84e-76da-4fe5-d71d-a9370bcbed48"
   },
   "outputs": [
    {
     "data": {
      "text/plain": [
       "Mặt phố - Mặt đường    3329\n",
       "Ngõ ô tô đỗ cửa        1497\n",
       "Ngõ 2 ô tô tránh       1454\n",
       "Ngõ ngách              1445\n",
       "Ngõ 1 ô tô             1062\n",
       "Ngõ 3 ô tô tránh        174\n",
       "Ngõ 4 ô tô trở lên       45\n",
       "Ngõ 4 ô tô tránh         20\n",
       "Name: Street, dtype: int64"
      ]
     },
     "execution_count": 30,
     "metadata": {},
     "output_type": "execute_result"
    }
   ],
   "source": [
    "new_data['Street'].value_counts()"
   ]
  },
  {
   "cell_type": "code",
   "execution_count": 31,
   "metadata": {
    "id": "SgoHM7L2HUZn"
   },
   "outputs": [],
   "source": [
    "# dict(new_data['Type'].value_counts())"
   ]
  },
  {
   "cell_type": "code",
   "execution_count": 32,
   "metadata": {
    "id": "62eyZ2T1HUZn"
   },
   "outputs": [],
   "source": [
    "new_data.Type.replace(['Chung cư, Chung cư mini', 'Chung cư, Chung cư mini', 'Biệt thự - Song lập - Đơn lập','Biệt thự du lịch','Nhà cấp 4'],\\\n",
    "                        ['Chung cư mini','Chung cư mini', 'Biệt thự','Biệt thự','Nhà ở' ],inplace=True)"
   ]
  },
  {
   "cell_type": "code",
   "execution_count": 33,
   "metadata": {
    "id": "9Na_6dBKHUZn"
   },
   "outputs": [],
   "source": [
    "list_type = list(new_data['Type'])\n",
    "for i in range(len(list_type)):\n",
    "    list_type[i] = list_type[i].split(',')[0]"
   ]
  },
  {
   "cell_type": "code",
   "execution_count": 34,
   "metadata": {
    "id": "lPtdguEAHUZn"
   },
   "outputs": [],
   "source": [
    "new_data['Type'] = list_type"
   ]
  },
  {
   "cell_type": "code",
   "execution_count": 35,
   "metadata": {
    "colab": {
     "base_uri": "https://localhost:8080/"
    },
    "id": "TDW8j2CrHUZn",
    "outputId": "c8f0c5c4-a5b7-4bf8-c2fe-508a5457cd95"
   },
   "outputs": [
    {
     "data": {
      "text/plain": [
       "25"
      ]
     },
     "execution_count": 35,
     "metadata": {},
     "output_type": "execute_result"
    }
   ],
   "source": [
    "len(new_data['Type'].value_counts())"
   ]
  },
  {
   "cell_type": "code",
   "execution_count": 36,
   "metadata": {
    "colab": {
     "base_uri": "https://localhost:8080/"
    },
    "id": "hdOWcMXSHUZo",
    "outputId": "3a22e6ef-c7f4-4f31-88b5-c25c250296a4"
   },
   "outputs": [
    {
     "data": {
      "text/plain": [
       "{'Nhà ở': 5263,\n",
       " 'Đất - Đất nền - Nhà như đất': 2786,\n",
       " 'Chung cư': 856,\n",
       " 'Biệt thự': 276,\n",
       " 'Nhà liền kề - Song lập - Đơn lập': 191,\n",
       " 'Chung cư mini': 155,\n",
       " 'Shophouse - Nhà phố': 137,\n",
       " 'Biệt thự - Song lập - Đơn lập': 83,\n",
       " 'Nhà cấp 4': 71,\n",
       " 'Khách sạn - Nhà nghỉ': 34,\n",
       " 'Bất động sản khác': 33,\n",
       " 'Phòng trọ/ Nhà trọ': 29,\n",
       " 'Dự án BĐS - Khu nghỉ dưỡng - Resort': 23,\n",
       " 'Mặt bằng thương mại': 21,\n",
       " 'Toà nhà văn phòng': 18,\n",
       " 'Căn hộ du lịch - Condotel': 14,\n",
       " 'Kho bãi - Nhà xưởng': 10,\n",
       " 'Tập thể': 9,\n",
       " 'Căn hộ cho thuê': 9,\n",
       " 'Nhà hàng - Cửa hàng - Ki ốt': 6,\n",
       " 'Căn hộ dịch vụ - Homestay': 5,\n",
       " 'Trang trại': 5,\n",
       " 'Biệt thự du lịch': 3,\n",
       " 'Sàn văn phòng': 2,\n",
       " 'Karaoke': 1}"
      ]
     },
     "execution_count": 36,
     "metadata": {},
     "output_type": "execute_result"
    }
   ],
   "source": [
    "dict(new_data['Type'].value_counts())"
   ]
  },
  {
   "cell_type": "code",
   "execution_count": 37,
   "metadata": {
    "colab": {
     "base_uri": "https://localhost:8080/",
     "height": 589
    },
    "id": "PwAEjdjPHUZo",
    "outputId": "1cc86002-28b4-47c5-da02-017a2c948114"
   },
   "outputs": [
    {
     "data": {
      "text/html": [
       "<div>\n",
       "<style scoped>\n",
       "    .dataframe tbody tr th:only-of-type {\n",
       "        vertical-align: middle;\n",
       "    }\n",
       "\n",
       "    .dataframe tbody tr th {\n",
       "        vertical-align: top;\n",
       "    }\n",
       "\n",
       "    .dataframe thead th {\n",
       "        text-align: right;\n",
       "    }\n",
       "</style>\n",
       "<table border=\"1\" class=\"dataframe\">\n",
       "  <thead>\n",
       "    <tr style=\"text-align: right;\">\n",
       "      <th></th>\n",
       "      <th>Price</th>\n",
       "      <th>Location</th>\n",
       "      <th>Area</th>\n",
       "      <th>Street</th>\n",
       "      <th>Facade</th>\n",
       "      <th>Direction</th>\n",
       "      <th>Saler</th>\n",
       "      <th>Type</th>\n",
       "      <th>Floor</th>\n",
       "      <th>Bathrooms</th>\n",
       "      <th>Bedrooms</th>\n",
       "      <th>Legal Doc</th>\n",
       "      <th>Price(million/m_square)</th>\n",
       "    </tr>\n",
       "  </thead>\n",
       "  <tbody>\n",
       "    <tr>\n",
       "      <th>182</th>\n",
       "      <td>31.000</td>\n",
       "      <td>Quận Tây Hồ, Thành phố Hà Nội</td>\n",
       "      <td>140.0</td>\n",
       "      <td>Mặt phố - Mặt đường</td>\n",
       "      <td>NaN</td>\n",
       "      <td>NaN</td>\n",
       "      <td>Nhà môi giới</td>\n",
       "      <td>Biệt thự - Song lập - Đơn lập</td>\n",
       "      <td>NaN</td>\n",
       "      <td>NaN</td>\n",
       "      <td>NaN</td>\n",
       "      <td>Giấy CN QSDĐ - Sổ đỏ - Sổ hồng</td>\n",
       "      <td>221.43</td>\n",
       "    </tr>\n",
       "    <tr>\n",
       "      <th>297</th>\n",
       "      <td>11.600</td>\n",
       "      <td>Huyện Đông Anh, Thành phố Hà Nội</td>\n",
       "      <td>108.0</td>\n",
       "      <td>Mặt phố - Mặt đường</td>\n",
       "      <td>NaN</td>\n",
       "      <td>NaN</td>\n",
       "      <td>Nhà môi giới</td>\n",
       "      <td>Biệt thự - Song lập - Đơn lập</td>\n",
       "      <td>NaN</td>\n",
       "      <td>NaN</td>\n",
       "      <td>NaN</td>\n",
       "      <td>Giấy CN QSDĐ - Sổ đỏ - Sổ hồng</td>\n",
       "      <td>107.41</td>\n",
       "    </tr>\n",
       "    <tr>\n",
       "      <th>357</th>\n",
       "      <td>2.400</td>\n",
       "      <td>Thành phố Bến Tre, Tỉnh Bến Tre</td>\n",
       "      <td>90.0</td>\n",
       "      <td>Mặt phố - Mặt đường</td>\n",
       "      <td>4.5</td>\n",
       "      <td>NaN</td>\n",
       "      <td>Nhà môi giới</td>\n",
       "      <td>Biệt thự - Song lập - Đơn lập</td>\n",
       "      <td>NaN</td>\n",
       "      <td>NaN</td>\n",
       "      <td>NaN</td>\n",
       "      <td>Giấy CN QSDĐ - Sổ đỏ - Sổ hồng</td>\n",
       "      <td>26.67</td>\n",
       "    </tr>\n",
       "    <tr>\n",
       "      <th>363</th>\n",
       "      <td>0.724</td>\n",
       "      <td>Thành phố Bến Tre, Tỉnh Bến Tre</td>\n",
       "      <td>50.0</td>\n",
       "      <td>Mặt phố - Mặt đường</td>\n",
       "      <td>NaN</td>\n",
       "      <td>NaN</td>\n",
       "      <td>Nhà môi giới</td>\n",
       "      <td>Biệt thự - Song lập - Đơn lập</td>\n",
       "      <td>NaN</td>\n",
       "      <td>NaN</td>\n",
       "      <td>2.0</td>\n",
       "      <td>Giấy CN QSDĐ - Sổ đỏ - Sổ hồng</td>\n",
       "      <td>14.48</td>\n",
       "    </tr>\n",
       "    <tr>\n",
       "      <th>399</th>\n",
       "      <td>4.200</td>\n",
       "      <td>Huyện Hoài Đức, Thành phố Hà Nội</td>\n",
       "      <td>100.0</td>\n",
       "      <td>Ngõ 2 ô tô tránh</td>\n",
       "      <td>NaN</td>\n",
       "      <td>NaN</td>\n",
       "      <td>Nhà môi giới</td>\n",
       "      <td>Biệt thự - Song lập - Đơn lập</td>\n",
       "      <td>NaN</td>\n",
       "      <td>NaN</td>\n",
       "      <td>NaN</td>\n",
       "      <td>Giấy CN QSDĐ - Sổ đỏ - Sổ hồng</td>\n",
       "      <td>42.00</td>\n",
       "    </tr>\n",
       "    <tr>\n",
       "      <th>...</th>\n",
       "      <td>...</td>\n",
       "      <td>...</td>\n",
       "      <td>...</td>\n",
       "      <td>...</td>\n",
       "      <td>...</td>\n",
       "      <td>...</td>\n",
       "      <td>...</td>\n",
       "      <td>...</td>\n",
       "      <td>...</td>\n",
       "      <td>...</td>\n",
       "      <td>...</td>\n",
       "      <td>...</td>\n",
       "      <td>...</td>\n",
       "    </tr>\n",
       "    <tr>\n",
       "      <th>11088</th>\n",
       "      <td>6.800</td>\n",
       "      <td>Quận Đống Đa, Thành phố Hà Nội</td>\n",
       "      <td>80.0</td>\n",
       "      <td>Ngõ ngách</td>\n",
       "      <td>4.0</td>\n",
       "      <td>Đông Bắc</td>\n",
       "      <td>Nhà môi giới</td>\n",
       "      <td>Biệt thự - Song lập - Đơn lập</td>\n",
       "      <td>NaN</td>\n",
       "      <td>3.0</td>\n",
       "      <td>4.0</td>\n",
       "      <td>Giấy CN QSDĐ - Sổ đỏ - Sổ hồng</td>\n",
       "      <td>85.00</td>\n",
       "    </tr>\n",
       "    <tr>\n",
       "      <th>11228</th>\n",
       "      <td>3.500</td>\n",
       "      <td>Thành phố Sóc Trăng, Tỉnh Sóc Trăng</td>\n",
       "      <td>270.0</td>\n",
       "      <td>Mặt phố - Mặt đường</td>\n",
       "      <td>NaN</td>\n",
       "      <td>NaN</td>\n",
       "      <td>Nhà môi giới</td>\n",
       "      <td>Biệt thự - Song lập - Đơn lập</td>\n",
       "      <td>NaN</td>\n",
       "      <td>NaN</td>\n",
       "      <td>NaN</td>\n",
       "      <td>Giấy CN QSDĐ - Sổ đỏ - Sổ hồng</td>\n",
       "      <td>12.96</td>\n",
       "    </tr>\n",
       "    <tr>\n",
       "      <th>11251</th>\n",
       "      <td>28.000</td>\n",
       "      <td>Quận Thanh Xuân, Thành phố Hà Nội</td>\n",
       "      <td>157.0</td>\n",
       "      <td>Ngõ 3 ô tô tránh</td>\n",
       "      <td>NaN</td>\n",
       "      <td>NaN</td>\n",
       "      <td>Nhà môi giới</td>\n",
       "      <td>Biệt thự - Song lập - Đơn lập</td>\n",
       "      <td>NaN</td>\n",
       "      <td>8.0</td>\n",
       "      <td>6.0</td>\n",
       "      <td>Giấy CN QSDĐ - Sổ đỏ - Sổ hồng</td>\n",
       "      <td>178.34</td>\n",
       "    </tr>\n",
       "    <tr>\n",
       "      <th>11291</th>\n",
       "      <td>3.500</td>\n",
       "      <td>Thị xã Thái Hòa, Tỉnh Nghệ An</td>\n",
       "      <td>138.0</td>\n",
       "      <td>Ngõ 2 ô tô tránh</td>\n",
       "      <td>NaN</td>\n",
       "      <td>NaN</td>\n",
       "      <td>Chính chủ</td>\n",
       "      <td>Biệt thự - Song lập - Đơn lập</td>\n",
       "      <td>NaN</td>\n",
       "      <td>NaN</td>\n",
       "      <td>NaN</td>\n",
       "      <td>NaN</td>\n",
       "      <td>25.36</td>\n",
       "    </tr>\n",
       "    <tr>\n",
       "      <th>11399</th>\n",
       "      <td>8.000</td>\n",
       "      <td>Thành phố Vinh, Tỉnh Nghệ An</td>\n",
       "      <td>240.0</td>\n",
       "      <td>Mặt phố - Mặt đường</td>\n",
       "      <td>14.0</td>\n",
       "      <td>Đông Tứ Trạch, Tây Tứ Trạch</td>\n",
       "      <td>Chủ đầu tư</td>\n",
       "      <td>Biệt thự - Song lập - Đơn lập</td>\n",
       "      <td>NaN</td>\n",
       "      <td>NaN</td>\n",
       "      <td>4.0</td>\n",
       "      <td>Giấy CN QSDĐ - Sổ đỏ - Sổ hồng, Hợp đồng mua bán</td>\n",
       "      <td>33.33</td>\n",
       "    </tr>\n",
       "  </tbody>\n",
       "</table>\n",
       "<p>83 rows × 13 columns</p>\n",
       "</div>"
      ],
      "text/plain": [
       "        Price                             Location   Area  \\\n",
       "182    31.000        Quận Tây Hồ, Thành phố Hà Nội  140.0   \n",
       "297    11.600     Huyện Đông Anh, Thành phố Hà Nội  108.0   \n",
       "357     2.400      Thành phố Bến Tre, Tỉnh Bến Tre   90.0   \n",
       "363     0.724      Thành phố Bến Tre, Tỉnh Bến Tre   50.0   \n",
       "399     4.200     Huyện Hoài Đức, Thành phố Hà Nội  100.0   \n",
       "...       ...                                  ...    ...   \n",
       "11088   6.800       Quận Đống Đa, Thành phố Hà Nội   80.0   \n",
       "11228   3.500  Thành phố Sóc Trăng, Tỉnh Sóc Trăng  270.0   \n",
       "11251  28.000    Quận Thanh Xuân, Thành phố Hà Nội  157.0   \n",
       "11291   3.500        Thị xã Thái Hòa, Tỉnh Nghệ An  138.0   \n",
       "11399   8.000         Thành phố Vinh, Tỉnh Nghệ An  240.0   \n",
       "\n",
       "                    Street  Facade                    Direction         Saler  \\\n",
       "182    Mặt phố - Mặt đường     NaN                          NaN  Nhà môi giới   \n",
       "297    Mặt phố - Mặt đường     NaN                          NaN  Nhà môi giới   \n",
       "357    Mặt phố - Mặt đường     4.5                          NaN  Nhà môi giới   \n",
       "363    Mặt phố - Mặt đường     NaN                          NaN  Nhà môi giới   \n",
       "399       Ngõ 2 ô tô tránh     NaN                          NaN  Nhà môi giới   \n",
       "...                    ...     ...                          ...           ...   \n",
       "11088            Ngõ ngách     4.0                     Đông Bắc  Nhà môi giới   \n",
       "11228  Mặt phố - Mặt đường     NaN                          NaN  Nhà môi giới   \n",
       "11251     Ngõ 3 ô tô tránh     NaN                          NaN  Nhà môi giới   \n",
       "11291     Ngõ 2 ô tô tránh     NaN                          NaN     Chính chủ   \n",
       "11399  Mặt phố - Mặt đường    14.0  Đông Tứ Trạch, Tây Tứ Trạch    Chủ đầu tư   \n",
       "\n",
       "                                Type  Floor  Bathrooms  Bedrooms  \\\n",
       "182    Biệt thự - Song lập - Đơn lập    NaN        NaN       NaN   \n",
       "297    Biệt thự - Song lập - Đơn lập    NaN        NaN       NaN   \n",
       "357    Biệt thự - Song lập - Đơn lập    NaN        NaN       NaN   \n",
       "363    Biệt thự - Song lập - Đơn lập    NaN        NaN       2.0   \n",
       "399    Biệt thự - Song lập - Đơn lập    NaN        NaN       NaN   \n",
       "...                              ...    ...        ...       ...   \n",
       "11088  Biệt thự - Song lập - Đơn lập    NaN        3.0       4.0   \n",
       "11228  Biệt thự - Song lập - Đơn lập    NaN        NaN       NaN   \n",
       "11251  Biệt thự - Song lập - Đơn lập    NaN        8.0       6.0   \n",
       "11291  Biệt thự - Song lập - Đơn lập    NaN        NaN       NaN   \n",
       "11399  Biệt thự - Song lập - Đơn lập    NaN        NaN       4.0   \n",
       "\n",
       "                                              Legal Doc  \\\n",
       "182                      Giấy CN QSDĐ - Sổ đỏ - Sổ hồng   \n",
       "297                      Giấy CN QSDĐ - Sổ đỏ - Sổ hồng   \n",
       "357                      Giấy CN QSDĐ - Sổ đỏ - Sổ hồng   \n",
       "363                      Giấy CN QSDĐ - Sổ đỏ - Sổ hồng   \n",
       "399                      Giấy CN QSDĐ - Sổ đỏ - Sổ hồng   \n",
       "...                                                 ...   \n",
       "11088                    Giấy CN QSDĐ - Sổ đỏ - Sổ hồng   \n",
       "11228                    Giấy CN QSDĐ - Sổ đỏ - Sổ hồng   \n",
       "11251                    Giấy CN QSDĐ - Sổ đỏ - Sổ hồng   \n",
       "11291                                               NaN   \n",
       "11399  Giấy CN QSDĐ - Sổ đỏ - Sổ hồng, Hợp đồng mua bán   \n",
       "\n",
       "       Price(million/m_square)  \n",
       "182                     221.43  \n",
       "297                     107.41  \n",
       "357                      26.67  \n",
       "363                      14.48  \n",
       "399                      42.00  \n",
       "...                        ...  \n",
       "11088                    85.00  \n",
       "11228                    12.96  \n",
       "11251                   178.34  \n",
       "11291                    25.36  \n",
       "11399                    33.33  \n",
       "\n",
       "[83 rows x 13 columns]"
      ]
     },
     "execution_count": 37,
     "metadata": {},
     "output_type": "execute_result"
    }
   ],
   "source": [
    "new_data[new_data['Type']=='Biệt thự - Song lập - Đơn lập']"
   ]
  },
  {
   "cell_type": "markdown",
   "metadata": {
    "id": "3Tgko16gHUZo"
   },
   "source": [
    "1 - Chung cư thường phân bổ ở những tỉnh thành nào? giải thích? <br>\n",
    "2 - Các chung cư có nhiều phòng ngủ sẽ có giá cao hơn đúng không? <br>\n",
    "3 - Diện tích các căn chung cư 1 phòng ngủ thường dưới 50 mét vuông đúng không? <br>\n",
    "4 - Nhà ở TP Hồ Chí Minh được bán nhiều hơn bởi Nhà môi giới hay chính chủ hay thông qua sàn giao dịch?<br>\n",
    "5 - Giá chung cư chưa có giấy tờ sẽ thấp hơn chung cư dã có giấy tờ?<br>\n",
    "6 - Nhà được bán bởi chính chú thường có giá thấp hơn nhà bán bởi nhà môi giới?<br>\n",
    "7 - Tại sao số bất động sản ở TP Hồ Chí Minh/Hà Nội lại nhiều hơn các tỉnh khác?<br>\n",
    "8 - Đất nền hay chugn cư có giá cao hơn?<br>\n",
    "9 - Những hơi nhiều đất nền thì ít chung cư và ngược lại đúng không ? Giải thích?<br>\n",
    "10 - Diện tích nhà ở trung bình của TP HCM nhỏ hơn Hà Nội đúng không?<br>\n",
    "11 - Phần lớn BĐS rao bán ở các TP?<br>\n",
    "12 - Giá trung bình biệt thự là bao nhiêu?<br>\n",
    "13 - Biệt thự thường tập trung ở các khu vực nào? Tại sao?<br>\n",
    "14 - Nhà ở ở đường lớn có giá cao hơn nhà ở trong ngõ?<br>\n",
    "15 - Nhà ở mặt phố thường có diện tích lớn hơn nhà ở trong ngõ?<br>\n",
    "16 - Nhà có nhiều phòng ngủ sẽ có nhiều nhà vệ sinh?<br>\n",
    "17 - Tại sao các tỉnh thành xung quanh TPHCM/HN thường bán nhà hoặc đất nền ? Giải thích?<br>\n",
    "18 - Tỉ lệ thành phần các loại bất động sản ở HCM, HN, ĐN<br>\n",
    "19 - Mỗi loại bất động sản ở quận 10, tphcm có giá trị tầm bn??<br>\n",
    "20 - Giá trị trung bình chung cư 2 phòng ngủ giữa các quận ở HCM<br>\n",
    "21 - Nơi nào ở hcm có nhu cầu giao dịch bất động sản nhiều nhất? lí giải<br>\n",
    "22 - Mặt tiền ở thành phố bảo lộc (có thể dùng để mở cửa hàng) có giá trị bn?<br>\n",
    "23 - Bạn có khoảng 5 tỷ ở SG, và bạn quyết tâm về quê chăn gà, và bạn quyết tâm về tây nguyên start up, nên mua đất nền ở đâu<br>"
   ]
  },
  {
   "cell_type": "markdown",
   "metadata": {
    "id": "RLGmkeGZbdKD"
   },
   "source": [
    "# Trả  lời một số câu hỏi bằng trực quan hóa"
   ]
  },
  {
   "cell_type": "markdown",
   "metadata": {
    "id": "kFb0q43DbV99"
   },
   "source": [
    " ### Tỉ lệ thành phần các loại bất động sản ở HCM, HN, ĐN"
   ]
  },
  {
   "cell_type": "code",
   "execution_count": 38,
   "metadata": {
    "id": "k_-nz_WmHUZp"
   },
   "outputs": [],
   "source": [
    "hn_df = new_data.loc[(new_data['Location'].str.contains('Hà Nội'))]\n",
    "replace_type = hn_df['Type'].value_counts().keys()[6:]\n",
    "\n",
    "for val in replace_type:\n",
    "    hn_df.loc[hn_df['Type'] == val, :] = 'Bất động sản khác'"
   ]
  },
  {
   "cell_type": "code",
   "execution_count": 39,
   "metadata": {
    "id": "B2rUJ_pcIp_O"
   },
   "outputs": [],
   "source": [
    "dn_df = new_data.loc[(new_data['Location'].str.contains('Đà Nẵng'))]\n",
    "replace_type = dn_df['Type'].value_counts().keys()[6:]\n",
    "\n",
    "for val in replace_type:\n",
    "    dn_df.loc[dn_df['Type'] == val, :] = 'Bất động sản khác'"
   ]
  },
  {
   "cell_type": "code",
   "execution_count": 40,
   "metadata": {
    "id": "Q7QGlIwXKqA_"
   },
   "outputs": [],
   "source": [
    "hcm_df = new_data.loc[(new_data['Location'].str.contains('Hồ Chí Minh'))]\n",
    "replace_type = hcm_df['Type'].value_counts().keys()[6:]\n",
    "\n",
    "for val in replace_type:\n",
    "    hcm_df.loc[hcm_df['Type'] == val, :] = 'Bất động sản khác'"
   ]
  },
  {
   "cell_type": "code",
   "execution_count": 41,
   "metadata": {
    "colab": {
     "base_uri": "https://localhost:8080/",
     "height": 650
    },
    "id": "jy46xEbvO326",
    "outputId": "d5cf95ae-d46f-42d8-cc39-ad8dbff157bb"
   },
   "outputs": [],
   "source": [
    "# fig, axs = plt.subplots(1,3, figsize=(30,10))\n",
    "# explode = (0.1, 0.05, 0.05, 0.05, 0.05, 0.05, 0.05)\n",
    "# labels = pd.Series(hn_df['Type'].unique() + hcm_df['Type'].unique()+ dn_df['Type'].unique()).unique()\n",
    "\n",
    "# hn_df['Type'].value_counts().plot.pie(labels=None, autopct='%1.2f%%', ax=axs[0], explode=explode, title='Hà Nội', ylabel='')\n",
    "# dn_df['Type'].value_counts().plot.pie(labels=None, autopct='%1.2f%%', ax=axs[1], explode=explode, title='Đà Nẵng', ylabel='')\n",
    "# hcm_df['Type'].value_counts().plot.pie(labels=None, autopct='%1.2f%%', ax=axs[2], explode=explode, title='Hồ Chí Minh', ylabel='')\n",
    "# fig.legend(labels)\n",
    "# fig.suptitle(\"Tỉ lệ bất động sản ở một số thành phố lớn\")\n",
    "# plt.show()"
   ]
  },
  {
   "cell_type": "markdown",
   "metadata": {
    "id": "i8I9MS1Jb3v7"
   },
   "source": [
    "## Nhà có nhiều phòng ngủ sẽ có nhiều nhà tắm?"
   ]
  },
  {
   "cell_type": "code",
   "execution_count": 42,
   "metadata": {
    "colab": {
     "base_uri": "https://localhost:8080/",
     "height": 419
    },
    "id": "57G6C4yUYnGz",
    "outputId": "9c650344-12e6-4224-ea42-dbd422de9cdf"
   },
   "outputs": [
    {
     "data": {
      "text/html": [
       "<div>\n",
       "<style scoped>\n",
       "    .dataframe tbody tr th:only-of-type {\n",
       "        vertical-align: middle;\n",
       "    }\n",
       "\n",
       "    .dataframe tbody tr th {\n",
       "        vertical-align: top;\n",
       "    }\n",
       "\n",
       "    .dataframe thead th {\n",
       "        text-align: right;\n",
       "    }\n",
       "</style>\n",
       "<table border=\"1\" class=\"dataframe\">\n",
       "  <thead>\n",
       "    <tr style=\"text-align: right;\">\n",
       "      <th></th>\n",
       "      <th>Bathrooms</th>\n",
       "      <th>Bedrooms</th>\n",
       "      <th>Price(million/m_square)</th>\n",
       "    </tr>\n",
       "  </thead>\n",
       "  <tbody>\n",
       "    <tr>\n",
       "      <th>0</th>\n",
       "      <td>3.517982</td>\n",
       "      <td>2.000000</td>\n",
       "      <td>52.78</td>\n",
       "    </tr>\n",
       "    <tr>\n",
       "      <th>3</th>\n",
       "      <td>3.517982</td>\n",
       "      <td>3.990226</td>\n",
       "      <td>14.00</td>\n",
       "    </tr>\n",
       "    <tr>\n",
       "      <th>6</th>\n",
       "      <td>3.517982</td>\n",
       "      <td>3.990226</td>\n",
       "      <td>37.25</td>\n",
       "    </tr>\n",
       "    <tr>\n",
       "      <th>9</th>\n",
       "      <td>3.517982</td>\n",
       "      <td>3.990226</td>\n",
       "      <td>11.79</td>\n",
       "    </tr>\n",
       "    <tr>\n",
       "      <th>10</th>\n",
       "      <td>4.000000</td>\n",
       "      <td>3.000000</td>\n",
       "      <td>86.67</td>\n",
       "    </tr>\n",
       "    <tr>\n",
       "      <th>...</th>\n",
       "      <td>...</td>\n",
       "      <td>...</td>\n",
       "      <td>...</td>\n",
       "    </tr>\n",
       "    <tr>\n",
       "      <th>11932</th>\n",
       "      <td>3.000000</td>\n",
       "      <td>2.000000</td>\n",
       "      <td>99.09</td>\n",
       "    </tr>\n",
       "    <tr>\n",
       "      <th>11933</th>\n",
       "      <td>3.517982</td>\n",
       "      <td>3.000000</td>\n",
       "      <td>47.67</td>\n",
       "    </tr>\n",
       "    <tr>\n",
       "      <th>11934</th>\n",
       "      <td>2.000000</td>\n",
       "      <td>2.000000</td>\n",
       "      <td>52.33</td>\n",
       "    </tr>\n",
       "    <tr>\n",
       "      <th>11935</th>\n",
       "      <td>3.517982</td>\n",
       "      <td>3.990226</td>\n",
       "      <td>33.33</td>\n",
       "    </tr>\n",
       "    <tr>\n",
       "      <th>11938</th>\n",
       "      <td>3.000000</td>\n",
       "      <td>4.000000</td>\n",
       "      <td>184.78</td>\n",
       "    </tr>\n",
       "  </tbody>\n",
       "</table>\n",
       "<p>6274 rows × 3 columns</p>\n",
       "</div>"
      ],
      "text/plain": [
       "       Bathrooms  Bedrooms  Price(million/m_square)\n",
       "0       3.517982  2.000000                    52.78\n",
       "3       3.517982  3.990226                    14.00\n",
       "6       3.517982  3.990226                    37.25\n",
       "9       3.517982  3.990226                    11.79\n",
       "10      4.000000  3.000000                    86.67\n",
       "...          ...       ...                      ...\n",
       "11932   3.000000  2.000000                    99.09\n",
       "11933   3.517982  3.000000                    47.67\n",
       "11934   2.000000  2.000000                    52.33\n",
       "11935   3.517982  3.990226                    33.33\n",
       "11938   3.000000  4.000000                   184.78\n",
       "\n",
       "[6274 rows x 3 columns]"
      ]
     },
     "execution_count": 42,
     "metadata": {},
     "output_type": "execute_result"
    }
   ],
   "source": [
    "df = new_data.loc[(new_data['Type'].str.contains('Nhà ở')) | (new_data['Type'].str.contains('Chung cư')), ('Bathrooms', 'Bedrooms', 'Price(million/m_square)')]\n",
    "df.fillna(df.mean(), inplace=True)\n",
    "df"
   ]
  },
  {
   "cell_type": "code",
   "execution_count": 43,
   "metadata": {
    "id": "JSzisUCipDyT"
   },
   "outputs": [],
   "source": [
    "def corr(x,y):\n",
    "    slope, intercept, r,p, stderr = scipy.stats.linregress(x, y)\n",
    "    line = f'Regression line: y={intercept:.2f}+{slope:.2f}x,r={r:.2f}'\n",
    "    print(scipy.stats.kendalltau(x, y))\n",
    "    fig, ax=plt.subplots(figsize=(8, 6))\n",
    "    ax.plot(x,y,linewidth=0, marker='s', label='Data points')\n",
    "    ax.plot(x, intercept + slope * x,label=line)\n",
    "    ax.set_xlabel(x.name)\n",
    "    ax.set_ylabel(y.name)\n",
    "    ax.legend(facecolor='white')\n",
    "    plt.show()\n"
   ]
  },
  {
   "cell_type": "code",
   "execution_count": 44,
   "metadata": {
    "colab": {
     "base_uri": "https://localhost:8080/",
     "height": 405
    },
    "id": "aoiB-4RTsPbr",
    "outputId": "75f5509f-960c-4255-e49b-03de3ffc98cb"
   },
   "outputs": [
    {
     "name": "stdout",
     "output_type": "stream",
     "text": [
      "KendalltauResult(correlation=0.3404736179589722, pvalue=5.2841829154121684e-226)\n"
     ]
    },
    {
     "data": {
      "image/png": "[encoded data removed]",
      "text/plain": [
       "<Figure size 576x432 with 1 Axes>"
      ]
     },
     "metadata": {
      "needs_background": "light"
     },
     "output_type": "display_data"
    }
   ],
   "source": [
    "corr(df['Bathrooms'], df['Bedrooms'])"
   ]
  },
  {
   "cell_type": "code",
   "execution_count": 45,
   "metadata": {
    "colab": {
     "base_uri": "https://localhost:8080/"
    },
    "id": "hHaYdc3VvYSq",
    "outputId": "3b0f6dd6-5f99-4806-e572-d89c80ba60f7"
   },
   "outputs": [
    {
     "data": {
      "text/plain": [
       "Price                         0\n",
       "Location                      0\n",
       "Area                         33\n",
       "Street                     1014\n",
       "Facade                     4623\n",
       "Direction                  8195\n",
       "Saler                         0\n",
       "Type                          0\n",
       "Floor                      9575\n",
       "Bathrooms                  8044\n",
       "Bedrooms                   5461\n",
       "Legal Doc                  1499\n",
       "Price(million/m_square)      33\n",
       "dtype: int64"
      ]
     },
     "execution_count": 45,
     "metadata": {},
     "output_type": "execute_result"
    }
   ],
   "source": [
    "new_data.isna().sum()"
   ]
  },
  {
   "cell_type": "markdown",
   "metadata": {},
   "source": [
    "# So sánh giá bất động sản ở Hà Nội và TP Hồ Chí Minh. "
   ]
  },
  {
   "cell_type": "code",
   "execution_count": 46,
   "metadata": {},
   "outputs": [
    {
     "data": {
      "image/png": "[encoded data removed]",
      "text/plain": [
       "<Figure size 1152x504 with 2 Axes>"
      ]
     },
     "metadata": {
      "needs_background": "light"
     },
     "output_type": "display_data"
    }
   ],
   "source": [
    "data_hanoi = new_data[new_data['Location'].str.contains(\"Hà Nội\")]\n",
    "data_hcm = new_data[new_data['Location'].str.contains(\"Hồ Chí Minh\")]\n",
    "data_hanoi['City'] = 'Hà Nội'\n",
    "data_hcm['City'] = 'TP Hồ Chí Minh'\n",
    "frames = [data_hanoi, data_hcm]\n",
    "result_df = pd.concat(frames)\n",
    "\n",
    "fig, ax = plt.subplots(1,2,figsize=(16,7))\n",
    "sns.barplot(x=result_df['City'].dropna().unique(),y =result_df.groupby(['City']).mean()['Price'], ax=ax[0]).set_title('Giá trung bình mỗi bất động sản')\n",
    "sns.barplot(x=result_df['City'].dropna().unique(),y =result_df.groupby(['City']).mean()['Price(million/m_square)'], ax=ax[1]).set_title('Giá trung bình mét vuông')\n",
    "plt.show()"
   ]
  },
  {
   "cell_type": "markdown",
   "metadata": {},
   "source": [
    "Giá nhà trung bình ở thành phố Hồ Chí Minh rẻ hơn so với Hà Nội. Mức giá trung bình mỗi bất động sản ở Hà Nội và Thành phố Hồ Chí Minh không có sự chênh lệch nhiều. Nhưng giá tiền trên mỗi mét vuông ở Hà Nội cao hơn TP Hồ Chí Minh khá nhiều"
   ]
  },
  {
   "cell_type": "markdown",
   "metadata": {},
   "source": [
    "# So sánh nhà ở ở Hà Nội và TP Hồ Chí Minh."
   ]
  },
  {
   "cell_type": "code",
   "execution_count": 47,
   "metadata": {},
   "outputs": [
    {
     "data": {
      "image/png": "[encoded data removed]",
      "text/plain": [
       "<Figure size 1152x1152 with 4 Axes>"
      ]
     },
     "metadata": {
      "needs_background": "light"
     },
     "output_type": "display_data"
    }
   ],
   "source": [
    "data_hanoi = new_data[new_data['Location'].str.contains(\"Hà Nội\")]\n",
    "data_hanoi = data_hanoi[new_data['Type'] == 'Nhà ở']\n",
    "data_hcm = new_data[new_data['Location'].str.contains(\"Hồ Chí Minh\")]\n",
    "data_hcm = data_hcm[new_data['Type'] == 'Nhà ở']\n",
    "data_hanoi['City'] = 'Hà Nội'\n",
    "data_hcm['City'] = 'TP Hồ Chí Minh'\n",
    "frames = [data_hanoi, data_hcm]\n",
    "result_df = pd.concat(frames)\n",
    "\n",
    "fig, ax = plt.subplots(2,2,figsize=(16,16))\n",
    "sns.barplot(x=result_df['City'].unique(),y =result_df['City'].value_counts(), ax=ax[0][0]).set_title('Số lượng nhà ở')\n",
    "sns.barplot(x=result_df['City'].unique(),y =result_df.groupby(['City']).mean()['Price(million/m_square)'], ax=ax[0][1]).set_title('Giá trung bình mỗi met vuông')\n",
    "sns.barplot(x=result_df['City'].unique(),y =result_df.groupby(['City']).mean()['Price'], ax=ax[1][0]).set_title('Giá trung bình mỗi căn nhà')\n",
    "sns.barplot(x=result_df['City'].unique(),y =result_df.groupby(['City']).mean()['Area'], ax=ax[1][1]).set_title('Diện tích trung bình mỗi căn nhà')\n",
    "plt.show()"
   ]
  },
  {
   "cell_type": "code",
   "execution_count": null,
   "metadata": {},
   "outputs": [],
   "source": []
  },
  {
   "cell_type": "markdown",
   "metadata": {},
   "source": [
    "# So sánh căn hộ ở Hà Nội và TP Hồ Chí Minh."
   ]
  },
  {
   "cell_type": "code",
   "execution_count": 48,
   "metadata": {
    "scrolled": false
   },
   "outputs": [
    {
     "data": {
      "image/png": "[encoded data removed]",
      "text/plain": [
       "<Figure size 1152x1152 with 4 Axes>"
      ]
     },
     "metadata": {
      "needs_background": "light"
     },
     "output_type": "display_data"
    },
    {
     "data": {
      "text/html": [
       "<div>\n",
       "<style scoped>\n",
       "    .dataframe tbody tr th:only-of-type {\n",
       "        vertical-align: middle;\n",
       "    }\n",
       "\n",
       "    .dataframe tbody tr th {\n",
       "        vertical-align: top;\n",
       "    }\n",
       "\n",
       "    .dataframe thead th {\n",
       "        text-align: right;\n",
       "    }\n",
       "</style>\n",
       "<table border=\"1\" class=\"dataframe\">\n",
       "  <thead>\n",
       "    <tr style=\"text-align: right;\">\n",
       "      <th></th>\n",
       "      <th>Price</th>\n",
       "      <th>Location</th>\n",
       "      <th>Area</th>\n",
       "      <th>Street</th>\n",
       "      <th>Facade</th>\n",
       "      <th>Direction</th>\n",
       "      <th>Saler</th>\n",
       "      <th>Type</th>\n",
       "      <th>Floor</th>\n",
       "      <th>Bathrooms</th>\n",
       "      <th>Bedrooms</th>\n",
       "      <th>Legal Doc</th>\n",
       "      <th>Price(million/m_square)</th>\n",
       "      <th>City</th>\n",
       "    </tr>\n",
       "  </thead>\n",
       "  <tbody>\n",
       "  </tbody>\n",
       "</table>\n",
       "</div>"
      ],
      "text/plain": [
       "Empty DataFrame\n",
       "Columns: [Price, Location, Area, Street, Facade, Direction, Saler, Type, Floor, Bathrooms, Bedrooms, Legal Doc, Price(million/m_square), City]\n",
       "Index: []"
      ]
     },
     "execution_count": 48,
     "metadata": {},
     "output_type": "execute_result"
    }
   ],
   "source": [
    "data_hanoi = new_data[new_data['Location'].str.contains(\"Hà Nội\")]\n",
    "data_hanoi = data_hanoi[new_data['Type'] == 'Chung cư']\n",
    "data_hcm = new_data[new_data['Location'].str.contains(\"Hồ Chí Minh\")]\n",
    "data_hcm = data_hcm[new_data['Type'] == 'Chung cư']\n",
    "data_hanoi['City'] = 'Hà Nội'\n",
    "data_hcm['City'] = 'TP Hồ Chí Minh'\n",
    "frames = [data_hanoi, data_hcm]\n",
    "result_df = pd.concat(frames)\n",
    "\n",
    "fig, ax = plt.subplots(2,2,figsize=(16,16))\n",
    "sns.barplot(x=result_df['City'].unique(),y =result_df['City'].value_counts(), ax=ax[0][0]).set_title('Số lượng chung cư')\n",
    "sns.barplot(x=result_df['City'].unique(),y =result_df.groupby(['City']).mean()['Price(million/m_square)'], ax=ax[0][1]).set_title('Giá trung bình mỗi met vuông')\n",
    "sns.barplot(x=result_df['City'].unique(),y =result_df.groupby(['City']).mean()['Price'], ax=ax[1][0]).set_title('Giá trung bình mỗi căn hộ')\n",
    "sns.barplot(x=result_df['City'].unique(),y =result_df.groupby(['City']).mean()['Area'], ax=ax[1][1]).set_title('Diện tích trung bình mỗi căn hộ')\n",
    "plt.show()\n",
    "data_hcm[new_data['Area']> 300]"
   ]
  },
  {
   "cell_type": "markdown",
   "metadata": {},
   "source": [
    "# So sánh bất động sản ở trung tâm Hà Nội và trung tâm TP Hồ Chí Minh"
   ]
  },
  {
   "cell_type": "markdown",
   "metadata": {},
   "source": [
    "Các quận trung tâm ở Hà Nội: quận Hoàn Kiếm, quận Ba Đình, quận Đống Đa, quận Hai Bà Trưng\n",
    "Các quận trung tam ở TP Hồ Chí Minh: Quận 1, quận 3, quận 4, quận 5, quận Bình Thạnh, quận Tân Bình"
   ]
  },
  {
   "cell_type": "code",
   "execution_count": 49,
   "metadata": {
    "scrolled": false
   },
   "outputs": [
    {
     "data": {
      "image/png": "[encoded data removed]",
      "text/plain": [
       "<Figure size 1728x1152 with 4 Axes>"
      ]
     },
     "metadata": {
      "needs_background": "light"
     },
     "output_type": "display_data"
    }
   ],
   "source": [
    "data_hoankiem = new_data[new_data['Location'].str.contains(\"Hoàn Kiếm\")]\n",
    "data_badinh = new_data[new_data['Location'].str.contains(\"Ba Đình\")]\n",
    "data_dongda = new_data[new_data['Location'].str.contains(\"Đống Đa\")]\n",
    "data_haibatrung = new_data[new_data['Location'].str.contains(\"Hai Bà Trưng\")]\n",
    "\n",
    "data_quan1 = new_data[new_data['Location'].str.contains(\"Quận 1,\")]\n",
    "data_quan3 = new_data[new_data['Location'].str.contains(\"Quận 3,\")]\n",
    "data_quan4 = new_data[new_data['Location'].str.contains(\"Quận 4,\")]\n",
    "data_quan5 = new_data[new_data['Location'].str.contains(\"Quận 5,\")]\n",
    "data_binhthanh = new_data[new_data['Location'].str.contains(\"Bình Thạnh\")]\n",
    "data_tanbinh = new_data[new_data['Location'].str.contains(\"Tân Bình\")]\n",
    "\n",
    "data_hoankiem['City'] ='Hà Nội'\n",
    "data_badinh['City'] ='Hà Nội'\n",
    "data_dongda['City'] ='Hà Nội'\n",
    "data_haibatrung['City'] ='Hà Nội'\n",
    "\n",
    "data_quan1['City'] = 'TP Hồ Chí Minh'\n",
    "data_quan3['City'] = 'TP Hồ Chí Minh'\n",
    "data_quan4['City'] = 'TP Hồ Chí Minh'\n",
    "data_quan5['City'] = 'TP Hồ Chí Minh'\n",
    "data_binhthanh['City'] = 'TP Hồ Chí Minh'\n",
    "data_tanbinh['City'] = 'TP Hồ Chí Minh'\n",
    "\n",
    "frames = [data_hoankiem, data_badinh, data_dongda, data_haibatrung, data_quan1, data_quan3, data_quan4, data_quan5, data_binhthanh, data_tanbinh]\n",
    "result_df = pd.concat(frames)\n",
    "\n",
    "frames_hanoi = [data_hoankiem, data_badinh, data_dongda, data_haibatrung];\n",
    "df_hanoi = pd.concat(frames_hanoi)\n",
    "frames_hcm = [data_quan1, data_quan3, data_quan4, data_quan5, data_binhthanh, data_tanbinh]\n",
    "df_hcm = pd.concat(frames_hcm)\n",
    "\n",
    "fig, ax = plt.subplots(2,2,figsize=(24,16))\n",
    "sns.barplot(x=result_df['City'].unique(),y =result_df['City'].value_counts(), ax=ax[0][0]).set_title('Số lượng bất dộng sản')\n",
    "sns.barplot(x=result_df['City'].unique(),y =result_df.groupby(['City']).mean()['Price(million/m_square)'], ax=ax[0][1]).set_title('Giá trung bình mỗi met vuông')\n",
    "sns.barplot(x=result_df['City'].unique(),y =result_df.groupby(['City']).mean()['Price'], ax=ax[1][0]).set_title('Giá trung bình mỗi bất động sản')\n",
    "sns.barplot(x=result_df['City'].unique(),y =result_df.groupby(['City']).mean()['Area'], ax=ax[1][1]).set_title('Diện tích trung bình mỗi bất động sản')\n",
    "plt.show()\n"
   ]
  },
  {
   "cell_type": "code",
   "execution_count": 50,
   "metadata": {},
   "outputs": [
    {
     "data": {
      "image/png": "[encoded data removed]",
      "text/plain": [
       "<Figure size 1152x1152 with 2 Axes>"
      ]
     },
     "metadata": {
      "needs_background": "light"
     },
     "output_type": "display_data"
    }
   ],
   "source": [
    "fig, ax = plt.subplots(2,1,figsize=(16,16))\n",
    "sns.barplot(x=df_hanoi['Type'].dropna().unique(),y =df_hanoi['Type'].value_counts(), ax=ax[0]).set_title('Các loại bất động sản ở Hà Nội')\n",
    "ax[0].set_xticklabels(ax[0].get_xticklabels(),rotation=60)\n",
    "sns.barplot(x=df_hcm['Type'].dropna().unique(),y =df_hcm['Type'].value_counts(), ax=ax[1]).set_title('Các loại bất động sản ở TP Hồ Chí Minh')\n",
    "ax[1].set_xticklabels(ax[1].get_xticklabels(),rotation=60)\n",
    "plt.tight_layout()\n",
    "plt.show()"
   ]
  },
  {
   "cell_type": "markdown",
   "metadata": {},
   "source": [
    "# So sánh bất động sản ở vùng ven Hà Nội và vùng ven TP Hồ Chí Minh"
   ]
  },
  {
   "cell_type": "markdown",
   "metadata": {},
   "source": [
    "Các quận trung tâm ở Hà Nội: Nam Từ Liêm, Bắc Từ Liêm, Hà Đông, Hoàng Mai, Long Biên\n",
    "Các quận trung tam ở TP Hồ Chí Minh: Quận 2, quận 7, quận 9, quận 12, quận Bình Tân, quận Thủ Đức"
   ]
  },
  {
   "cell_type": "code",
   "execution_count": 58,
   "metadata": {
    "scrolled": false
   },
   "outputs": [
    {
     "data": {
      "image/png": "[encoded data removed]",
      "text/plain": [
       "<Figure size 1728x1152 with 4 Axes>"
      ]
     },
     "metadata": {
      "needs_background": "light"
     },
     "output_type": "display_data"
    }
   ],
   "source": [
    "data_namtuliem = new_data[new_data['Location'].str.contains(\"Nam Từ Liêm\")]\n",
    "data_bactuliem = new_data[new_data['Location'].str.contains(\"Bắc Từ Liêm\")]\n",
    "data_hadong = new_data[new_data['Location'].str.contains(\"Hà Đông\")]\n",
    "data_hoangmai = new_data[new_data['Location'].str.contains(\"Hoàng Mai\")]\n",
    "data_longbien = new_data[new_data['Location'].str.contains(\"Long Biên\")]\n",
    "\n",
    "data_quan2 = new_data[new_data['Location'].str.contains(\"Quận 2,\")]\n",
    "data_quan7 = new_data[new_data['Location'].str.contains(\"Quận 7,\")]\n",
    "data_quan9 = new_data[new_data['Location'].str.contains(\"Quận 9,\")]\n",
    "data_quan12 = new_data[new_data['Location'].str.contains(\"Quận 12,\")]\n",
    "data_binhtan = new_data[new_data['Location'].str.contains(\"Bình Tân\")]\n",
    "data_thuduc = new_data[new_data['Location'].str.contains(\"Thủ Đức\")]\n",
    "\n",
    "data_namtuliem['City'] ='Hà Nội'\n",
    "data_bactuliem['City'] ='Hà Nội'\n",
    "data_hadong['City'] ='Hà Nội'\n",
    "data_hoangmai['City'] ='Hà Nội'\n",
    "data_longbien['City'] ='Hà Nội'\n",
    "\n",
    "data_quan2['City'] = 'TP Hồ Chí Minh'\n",
    "data_quan7['City'] = 'TP Hồ Chí Minh'\n",
    "data_quan9['City'] = 'TP Hồ Chí Minh'\n",
    "data_quan12['City'] = 'TP Hồ Chí Minh'\n",
    "data_binhtan['City'] = 'TP Hồ Chí Minh'\n",
    "data_thuduc['City'] = 'TP Hồ Chí Minh'\n",
    "\n",
    "frames = [data_namtuliem, data_bactuliem, data_hadong, data_hoangmai, data_longbien, data_quan2, data_quan7, data_quan9, data_quan12, data_binhtan, data_thuduc]\n",
    "result_df = pd.concat(frames)\n",
    "\n",
    "frames_hanoi = [data_namtuliem, data_bactuliem, data_hadong, data_hoangmai, data_longbien];\n",
    "df_hanoi = pd.concat(frames_hanoi)\n",
    "frames_hcm = [data_quan2, data_quan7, data_quan9, data_quan12, data_binhtan, data_thuduc];\n",
    "df_hcm = pd.concat(frames_hcm)\n",
    "\n",
    "fig, ax = plt.subplots(2,2,figsize=(24,16))\n",
    "sns.barplot(x=result_df['City'].dropna().unique(),y =result_df['City'].value_counts(), ax=ax[0][0]).set_title('Số lượng bất dộng sản')\n",
    "sns.barplot(x=result_df['City'].dropna().unique(),y =result_df.groupby(['City']).mean()['Price(million/m_square)'], ax=ax[0][1]).set_title('Giá trung bình mỗi met vuông')\n",
    "sns.barplot(x=result_df['City'].dropna().unique(),y =result_df.groupby(['City']).mean()['Price'], ax=ax[1][0]).set_title('Giá trung bình mỗi bất động sản')\n",
    "sns.barplot(x=result_df['City'].dropna().unique(),y =result_df.groupby(['City']).mean()['Area'], ax=ax[1][1]).set_title('Diện tích trung bình mỗi bất động sản')\n",
    "plt.show()"
   ]
  },
  {
   "cell_type": "code",
   "execution_count": 57,
   "metadata": {},
   "outputs": [
    {
     "data": {
      "image/png": "[encoded data removed]",
      "text/plain": [
       "<Figure size 1152x1152 with 2 Axes>"
      ]
     },
     "metadata": {
      "needs_background": "light"
     },
     "output_type": "display_data"
    }
   ],
   "source": [
    "fig, ax = plt.subplots(2,1,figsize=(16,16))\n",
    "sns.barplot(x=df_hanoi['Type'].dropna().unique(),y =df_hanoi['Type'].value_counts(), ax=ax[0]).set_title('Các loại bất động sản ở Hà Nội')\n",
    "ax[0].set_xticklabels(ax[0].get_xticklabels(),rotation=60)\n",
    "sns.barplot(x=df_hcm['Type'].dropna().unique(),y =df_hcm['Type'].value_counts(), ax=ax[1]).set_title('Các loại bất động sản ở TP Hồ Chí Minh')\n",
    "ax[1].set_xticklabels(ax[1].get_xticklabels(),rotation=60)\n",
    "plt.tight_layout()\n",
    "plt.show()"
   ]
  },
  {
   "cell_type": "markdown",
   "metadata": {
    "id": "eb5USkWwmJEv"
   },
   "source": [
    "# Phân tích hồi quy tuyến tính đơn "
   ]
  },
  {
   "cell_type": "markdown",
   "metadata": {
    "id": "eyOyaJ87b-h8"
   },
   "source": [
    "*Từ phần này ta chỉ áp dụng với dữ liệu là nhà ở, chung cư, chung cư mini, nhà cấp 4*"
   ]
  },
  {
   "cell_type": "code",
   "execution_count": null,
   "metadata": {},
   "outputs": [],
   "source": [
    "# location_list = new_data['Location']\n",
    "# districts = []\n",
    "# cities = []\n",
    "# for place in location_list:\n",
    "#     seperate = place.split(',')\n",
    "#     districts.append(seperate[0])\n",
    "#     cities.append(seperate[1])\n",
    "# new_data['District'] = districts\n",
    "# new_data['City'] = cities\n",
    "# new_data.drop(['Location'], axis=1, inplace=True)"
   ]
  },
  {
   "cell_type": "code",
   "execution_count": null,
   "metadata": {
    "colab": {
     "base_uri": "https://localhost:8080/",
     "height": 369
    },
    "id": "vxUOCebbX6a8",
    "outputId": "036c0bbe-4572-42b5-f7d5-68c480a70416"
   },
   "outputs": [],
   "source": [
    "types = ['Nhà ở', 'Chung cư', 'Chung cư mini', 'Nhà cấp 4']\n",
    "house = new_data.loc[(new_data['Type']).isin(types)]\n",
    "house.drop(['Price(million/m_square)', 'Saler'], axis=1, inplace=True)\n",
    "house.head(2)"
   ]
  },
  {
   "cell_type": "code",
   "execution_count": null,
   "metadata": {},
   "outputs": [],
   "source": [
    "# types = ['Nhà ở', 'Chung cư', 'Chung cư mini', 'Nhà cấp 4']\n",
    "# house = new_data.loc[(new_data['Type']).isin(types)]\n",
    "# house.drop(['Price(million/m_square)'], axis=1, inplace=True)\n",
    "# house.head(2)"
   ]
  },
  {
   "cell_type": "code",
   "execution_count": null,
   "metadata": {},
   "outputs": [],
   "source": [
    "numeric_cols_df = house.select_dtypes(exclude='object')\n",
    "\n",
    "def median(col):\n",
    "    return col.quantile(0.5)\n",
    "\n",
    "def lower_quantile(col):\n",
    "    return col.quantile(0.25)\n",
    "\n",
    "def upper_quantile(col):\n",
    "    return col.quantile(0.75)\n",
    "\n",
    "numeric_cols_df.agg([missing_ratio, min, median, lower_quantile, upper_quantile,max])"
   ]
  },
  {
   "cell_type": "code",
   "execution_count": null,
   "metadata": {},
   "outputs": [],
   "source": [
    "house.drop(['Floor', 'Bathrooms'], axis=1, inplace=True)"
   ]
  },
  {
   "cell_type": "code",
   "execution_count": null,
   "metadata": {},
   "outputs": [],
   "source": [
    "house[house['Price'] > 1000]"
   ]
  },
  {
   "cell_type": "code",
   "execution_count": null,
   "metadata": {},
   "outputs": [],
   "source": [
    "house.drop([5294,7581,7358,7449], inplace=True)"
   ]
  },
  {
   "cell_type": "code",
   "execution_count": null,
   "metadata": {},
   "outputs": [],
   "source": [
    "cat_col_df = house.select_dtypes(include='object')\n",
    "\n",
    "def missing_ratio(col):\n",
    "    return col.isna().mean()*100\n",
    "\n",
    "def top10_value_counts(col):\n",
    "    return dict(col.value_counts()[:10])\n",
    "\n",
    "category_stat = cat_col_df.agg([missing_ratio, pd.Series.nunique, top10_value_counts])\n",
    "pd.set_option('display.max_colwidth', 1000)\n",
    "category_stat"
   ]
  },
  {
   "cell_type": "code",
   "execution_count": null,
   "metadata": {},
   "outputs": [],
   "source": [
    "house.drop(['Direction'], axis=1, inplace=True)"
   ]
  },
  {
   "cell_type": "code",
   "execution_count": null,
   "metadata": {
    "id": "30-HSPTTHtX9"
   },
   "outputs": [],
   "source": [
    "# num_col = ['Area', 'Facade', 'Bedrooms', 'Price(million/m_square)']\n",
    "# cate_col = ['Location', 'Street', 'Direction', 'Type', 'Legal Doc']"
   ]
  },
  {
   "cell_type": "code",
   "execution_count": null,
   "metadata": {},
   "outputs": [],
   "source": [
    "num_col = ['Area', 'Facade', 'Bedrooms', 'Price']\n",
    "cate_col = ['Location', 'Street', 'Type', 'Legal Doc']"
   ]
  },
  {
   "cell_type": "code",
   "execution_count": null,
   "metadata": {
    "id": "ukApXqMaZb5G"
   },
   "outputs": [],
   "source": [
    "class MyLEncoder():\n",
    "    def __init__(self, key=[]):\n",
    "        self.key = []\n",
    "        self.size= (0,0)\n",
    "    def transform(self, X, y=None, **fit_params):\n",
    "        new_X = X.copy().reshape(-1)\n",
    "        enc = LabelEncoder()\n",
    "        self.fit(X, y, **fit_params)\n",
    "        enc = enc.fit(new_X)\n",
    "        self.classes=enc.classes_\n",
    "        \n",
    "        return enc.transform(new_X).reshape(self.size)\n",
    "\n",
    "    def fit_transform(self, X, y=None, **fit_params):\n",
    "        self.fit(X, y, **fit_params)\n",
    "        return self.transform(X)\n",
    "\n",
    "    def fit(self, X, y=None, **fit_params):\n",
    "        # self.key = list(X.columns)\n",
    "        self.size=X.shape        \n",
    "        return self\n"
   ]
  },
  {
   "cell_type": "code",
   "execution_count": null,
   "metadata": {
    "id": "1v1VSnvkHYx0"
   },
   "outputs": [],
   "source": [
    "# num_imputer= SimpleImputer(missing_values=np.nan, strategy='mean')\n",
    "cate_imputer=Pipeline(steps=[('imputer', SimpleImputer(missing_values=np.nan, strategy='most_frequent')), ('encoder', MyLEncoder())])\n",
    "rem_num_col = list(set(num_col) - set(['Floor', 'Bathrooms', 'Bedrooms']))"
   ]
  },
  {
   "cell_type": "code",
   "execution_count": null,
   "metadata": {
    "colab": {
     "base_uri": "https://localhost:8080/",
     "height": 133
    },
    "id": "xlwCiU67Jkm7",
    "outputId": "4c89dd67-993e-4d3f-f4e4-2e82c4dc1b7b"
   },
   "outputs": [],
   "source": [
    "# transfer = ColumnTransformer([('num', SimpleImputer(missing_values=np.nan, strategy='constant', fill_value=0), ['Floor', 'Bathrooms',\t'Bedrooms']),\n",
    "#                               ('other', SimpleImputer(missing_values=np.nan, strategy='mean'), rem_num_col),\n",
    "#                               ('cate', cate_imputer, cate_col)], remainder='drop')\n",
    "# transfer"
   ]
  },
  {
   "cell_type": "code",
   "execution_count": null,
   "metadata": {},
   "outputs": [],
   "source": [
    "transfer = ColumnTransformer([\n",
    "                              ('other', SimpleImputer(missing_values=np.nan, strategy='mean'), num_col),\n",
    "                              ('cate', cate_imputer, cate_col)], remainder='drop')\n",
    "transfer"
   ]
  },
  {
   "cell_type": "code",
   "execution_count": null,
   "metadata": {
    "colab": {
     "base_uri": "https://localhost:8080/",
     "height": 164
    },
    "id": "IxcWWJ76LSmr",
    "outputId": "e163609e-1c47-44bf-d0c7-f5c054d91f50"
   },
   "outputs": [],
   "source": [
    "# p = Pipeline(steps=[('transfer', transfer), ('scale', StandardScaler())])\n",
    "p = Pipeline(steps=[('transfer', transfer)])\n",
    "p"
   ]
  },
  {
   "cell_type": "code",
   "execution_count": null,
   "metadata": {
    "colab": {
     "base_uri": "https://localhost:8080/",
     "height": 456
    },
    "id": "rTJAf68YhlUr",
    "outputId": "fbc19070-76f7-4a87-9913-6fb9ba86ce4f"
   },
   "outputs": [],
   "source": [
    "a = p.fit_transform(house).round(4)\n",
    "scale_df = pd.DataFrame(a, columns = ['Bedroom'] + rem_num_col+ cate_col)\n",
    "scale_df"
   ]
  },
  {
   "cell_type": "code",
   "execution_count": null,
   "metadata": {
    "id": "fWYARzaPlOgV"
   },
   "outputs": [],
   "source": [
    "y = scale_df['Price']\n",
    "# yy = scale_df['Price']\n",
    "scale_df.drop(['Price'], axis=1, inplace=True)"
   ]
  },
  {
   "cell_type": "code",
   "execution_count": null,
   "metadata": {
    "id": "AFPKL8YUi7Pp"
   },
   "outputs": [],
   "source": [
    "import statsmodels.api as sm\n",
    "import statsmodels.formula.api as smf"
   ]
  },
  {
   "cell_type": "code",
   "execution_count": null,
   "metadata": {
    "colab": {
     "base_uri": "https://localhost:8080/"
    },
    "id": "LbwgwbXAjCGI",
    "outputId": "f93c4006-f046-45b1-b8d2-7ebd03165336"
   },
   "outputs": [],
   "source": [
    "X = sm.add_constant(scale_df)\n",
    "X.shape"
   ]
  },
  {
   "cell_type": "code",
   "execution_count": null,
   "metadata": {
    "id": "HxgNsSS3k_qp"
   },
   "outputs": [],
   "source": [
    "result = sm.OLS(y, X).fit()"
   ]
  },
  {
   "cell_type": "code",
   "execution_count": null,
   "metadata": {
    "colab": {
     "base_uri": "https://localhost:8080/",
     "height": 667
    },
    "id": "EFRCJCFOlE3y",
    "outputId": "c91c299f-d8b5-4158-acba-356cdbf33729"
   },
   "outputs": [],
   "source": [
    "result.summary()"
   ]
  },
  {
   "cell_type": "markdown",
   "metadata": {
    "id": "yXGFoxRRpq3F"
   },
   "source": [
    "$\\rightarrow$ Dựa vào bảng trên, ta không thấy có biến nào có mỗi tương quan với biến phụ thuộc là **Price(million/m_square)**"
   ]
  },
  {
   "cell_type": "markdown",
   "metadata": {
    "id": "a3tjmg85qOV6"
   },
   "source": [
    "# Dự đoán giá nhà ở, chung cư bằng mô hình Linear Regression"
   ]
  },
  {
   "cell_type": "code",
   "execution_count": null,
   "metadata": {},
   "outputs": [],
   "source": [
    "X_train, X_test, y_train, y_test = train_test_split(scale_df, y, test_size=0.33, random_state=2200)"
   ]
  },
  {
   "cell_type": "code",
   "execution_count": null,
   "metadata": {
    "colab": {
     "base_uri": "https://localhost:8080/"
    },
    "id": "Cc-kS4xgrpPC",
    "outputId": "e3840a1a-2f40-49b8-fc2c-cfd8ee2898e3"
   },
   "outputs": [],
   "source": [
    "X_train.shape"
   ]
  },
  {
   "cell_type": "code",
   "execution_count": null,
   "metadata": {
    "colab": {
     "base_uri": "https://localhost:8080/"
    },
    "id": "w1-IOngprva8",
    "outputId": "31841a15-864e-47d6-de05-5f3f334cec52"
   },
   "outputs": [],
   "source": [
    "X_test.shape"
   ]
  },
  {
   "cell_type": "code",
   "execution_count": null,
   "metadata": {
    "colab": {
     "base_uri": "https://localhost:8080/"
    },
    "id": "OycR4Si9rx4q",
    "outputId": "7efee217-d5b2-41e2-d558-5069671a5b7f"
   },
   "outputs": [],
   "source": [
    "y_train.shape"
   ]
  },
  {
   "cell_type": "code",
   "execution_count": null,
   "metadata": {
    "colab": {
     "base_uri": "https://localhost:8080/"
    },
    "id": "jSa_V63nr0F_",
    "outputId": "70930e27-0659-4991-9ad4-71e6fd25cb78"
   },
   "outputs": [],
   "source": [
    "y_test.shape"
   ]
  },
  {
   "cell_type": "code",
   "execution_count": null,
   "metadata": {
    "colab": {
     "base_uri": "https://localhost:8080/",
     "height": 71
    },
    "id": "yKEAQUn5r1fh",
    "outputId": "0f014c3e-0f79-4ed1-a6fd-1d12d50bd364"
   },
   "outputs": [],
   "source": [
    "model = LinearRegression()\n",
    "model.fit(X_train, y_train)"
   ]
  },
  {
   "cell_type": "code",
   "execution_count": null,
   "metadata": {
    "colab": {
     "base_uri": "https://localhost:8080/"
    },
    "id": "laD42M0oZ6FQ",
    "outputId": "a8d52294-a532-4224-cdf4-ce0a45fa530d"
   },
   "outputs": [],
   "source": [
    "model.score(X_test, y_test)"
   ]
  },
  {
   "cell_type": "code",
   "execution_count": null,
   "metadata": {},
   "outputs": [],
   "source": [
    "from sklearn.decomposition import PCA\n",
    "pca = PCA(n_components=1)\n",
    "X_train_pca = pca.fit_transform(X_train)\n",
    "X_test_pca = pca.fit_transform(X_test)"
   ]
  },
  {
   "cell_type": "code",
   "execution_count": null,
   "metadata": {},
   "outputs": [],
   "source": [
    "model.fit(X_train_pca, y_train)\n",
    "model.score(X_test_pca, y_test)"
   ]
  },
  {
   "cell_type": "code",
   "execution_count": null,
   "metadata": {},
   "outputs": [],
   "source": [
    "plt.scatter(X_test_pca, y_test)\n",
    "plt.plot(X_test_pca, model.predict(X_test_pca), color='red')\n",
    "plt.show()"
   ]
  },
  {
   "cell_type": "code",
   "execution_count": null,
   "metadata": {},
   "outputs": [],
   "source": [
    "# from sklearn.neighbors import LocalOutlierFactor\n",
    "# lof = LocalOutlierFactor()\n",
    "# yhat = lof.fit_predict(X_train)\n",
    "# mask = yhat != -1\n",
    "# X_train_new, y_train_new = X_train.iloc[mask, :], y_train[mask]"
   ]
  },
  {
   "cell_type": "code",
   "execution_count": null,
   "metadata": {},
   "outputs": [],
   "source": [
    "# model.fit(X_train_new, y_train_new)\n",
    "# model.score(X_test, y_test)"
   ]
  },
  {
   "cell_type": "code",
   "execution_count": null,
   "metadata": {},
   "outputs": [],
   "source": []
  }
 ],
 "metadata": {
  "colab": {
   "collapsed_sections": [],
   "include_colab_link": true,
   "name": "Preprocessing.ipynb",
   "provenance": []
  },
  "kernelspec": {
   "display_name": "Python 3",
   "language": "python",
   "name": "python3"
  },
  "language_info": {
   "codemirror_mode": {
    "name": "ipython",
    "version": 3
   },
   "file_extension": ".py",
   "mimetype": "text/x-python",
   "name": "python",
   "nbconvert_exporter": "python",
   "pygments_lexer": "ipython3",
   "version": "3.8.5"
  }
 },
 "nbformat": 4,
 "nbformat_minor": 1
}
