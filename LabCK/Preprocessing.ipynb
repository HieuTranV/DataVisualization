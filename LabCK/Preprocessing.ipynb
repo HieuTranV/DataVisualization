{
 "cells": [
  {
   "cell_type": "markdown",
   "metadata": {
    "colab_type": "text",
    "id": "view-in-github"
   },
   "source": [
    "<a href=\"https://colab.research.google.com/github/HieuTranV/DataVisualization/blob/dev/LabCK/Preprocessing.ipynb\" target=\"_parent\"><img src=\"https://colab.research.google.com/assets/colab-badge.svg\" alt=\"Open In Colab\"/></a>"
   ]
  },
  {
   "cell_type": "code",
   "execution_count": 1,
   "metadata": {
    "id": "KmGZw1xsHUZR"
   },
   "outputs": [],
   "source": [
    "import pandas as pd\n",
    "import numpy as np\n",
    "import matplotlib.pyplot as plt\n",
    "import seaborn as sns\n",
    "import warnings\n",
    "import re\n",
    "import scipy.stats\n",
    "warnings.filterwarnings('ignore') "
   ]
  },
  {
   "cell_type": "code",
   "execution_count": 2,
   "metadata": {
    "colab": {
     "base_uri": "https://localhost:8080/"
    },
    "id": "0VrNXCEkYKyI",
    "outputId": "2e70dd55-91b1-4727-85d1-27079cf7c820"
   },
   "outputs": [
    {
     "name": "stdout",
     "output_type": "stream",
     "text": [
      "Requirement already up-to-date: scikit-learn in g:\\anaconda\\lib\\site-packages (0.24.2)\n",
      "Requirement already satisfied, skipping upgrade: numpy>=1.13.3 in g:\\anaconda\\lib\\site-packages (from scikit-learn) (1.18.5)\n",
      "Requirement already satisfied, skipping upgrade: joblib>=0.11 in g:\\anaconda\\lib\\site-packages (from scikit-learn) (0.16.0)\n",
      "Requirement already satisfied, skipping upgrade: threadpoolctl>=2.0.0 in g:\\anaconda\\lib\\site-packages (from scikit-learn) (2.1.0)\n",
      "Requirement already satisfied, skipping upgrade: scipy>=0.19.1 in g:\\anaconda\\lib\\site-packages (from scikit-learn) (1.5.0)\n",
      "Requirement already satisfied: category_encoders in g:\\anaconda\\lib\\site-packages (2.2.2)\n",
      "Requirement already satisfied: pandas>=0.21.1 in g:\\anaconda\\lib\\site-packages (from category_encoders) (1.0.5)\n",
      "Requirement already satisfied: scikit-learn>=0.20.0 in g:\\anaconda\\lib\\site-packages (from category_encoders) (0.24.2)\n",
      "Requirement already satisfied: statsmodels>=0.9.0 in g:\\anaconda\\lib\\site-packages (from category_encoders) (0.11.1)\n",
      "Requirement already satisfied: scipy>=1.0.0 in g:\\anaconda\\lib\\site-packages (from category_encoders) (1.5.0)\n",
      "Requirement already satisfied: numpy>=1.14.0 in g:\\anaconda\\lib\\site-packages (from category_encoders) (1.18.5)\n",
      "Requirement already satisfied: patsy>=0.5.1 in g:\\anaconda\\lib\\site-packages (from category_encoders) (0.5.1)\n",
      "Requirement already satisfied: python-dateutil>=2.6.1 in g:\\anaconda\\lib\\site-packages (from pandas>=0.21.1->category_encoders) (2.8.1)\n",
      "Requirement already satisfied: pytz>=2017.2 in g:\\anaconda\\lib\\site-packages (from pandas>=0.21.1->category_encoders) (2020.1)\n",
      "Requirement already satisfied: joblib>=0.11 in g:\\anaconda\\lib\\site-packages (from scikit-learn>=0.20.0->category_encoders) (0.16.0)\n",
      "Requirement already satisfied: threadpoolctl>=2.0.0 in g:\\anaconda\\lib\\site-packages (from scikit-learn>=0.20.0->category_encoders) (2.1.0)\n",
      "Requirement already satisfied: six in g:\\anaconda\\lib\\site-packages (from patsy>=0.5.1->category_encoders) (1.15.0)\n"
     ]
    }
   ],
   "source": [
    "!pip install --upgrade scikit-learn\n",
    "!pip install category_encoders"
   ]
  },
  {
   "cell_type": "code",
   "execution_count": 3,
   "metadata": {
    "id": "RYChCcR7hrzQ"
   },
   "outputs": [],
   "source": [
    "from sklearn.impute import SimpleImputer\n",
    "from sklearn.preprocessing import OneHotEncoder, LabelEncoder, StandardScaler\n",
    "from sklearn.compose import ColumnTransformer\n",
    "from sklearn.pipeline import Pipeline\n",
    "from sklearn.pipeline import FeatureUnion\n",
    "from sklearn import set_config\n",
    "set_config(display='diagram') # Để trực quan hóa pipeline"
   ]
  },
  {
   "cell_type": "code",
   "execution_count": 4,
   "metadata": {
    "id": "39TVoL1crI8y"
   },
   "outputs": [],
   "source": [
    "from sklearn.linear_model import LinearRegression\n",
    "from sklearn.model_selection import train_test_split"
   ]
  },
  {
   "cell_type": "code",
   "execution_count": 5,
   "metadata": {
    "id": "UbkKypQnHUZW"
   },
   "outputs": [],
   "source": [
    "data = pd.read_csv('data_update.csv')"
   ]
  },
  {
   "cell_type": "code",
   "execution_count": 6,
   "metadata": {
    "colab": {
     "base_uri": "https://localhost:8080/",
     "height": 419
    },
    "id": "P2T1hY-hHUZX",
    "outputId": "b995849f-5ddb-47cb-ad03-14537b1f0c6f"
   },
   "outputs": [
    {
     "data": {
      "text/html": [
       "<div>\n",
       "<style scoped>\n",
       "    .dataframe tbody tr th:only-of-type {\n",
       "        vertical-align: middle;\n",
       "    }\n",
       "\n",
       "    .dataframe tbody tr th {\n",
       "        vertical-align: top;\n",
       "    }\n",
       "\n",
       "    .dataframe thead th {\n",
       "        text-align: right;\n",
       "    }\n",
       "</style>\n",
       "<table border=\"1\" class=\"dataframe\">\n",
       "  <thead>\n",
       "    <tr style=\"text-align: right;\">\n",
       "      <th></th>\n",
       "      <th>Price</th>\n",
       "      <th>Location</th>\n",
       "      <th>Area</th>\n",
       "      <th>Street</th>\n",
       "      <th>Facade</th>\n",
       "      <th>Direction</th>\n",
       "      <th>Saler</th>\n",
       "      <th>Type</th>\n",
       "      <th>Floor</th>\n",
       "      <th>Bathrooms</th>\n",
       "      <th>Bedrooms</th>\n",
       "      <th>Legal Doc</th>\n",
       "    </tr>\n",
       "  </thead>\n",
       "  <tbody>\n",
       "    <tr>\n",
       "      <th>0</th>\n",
       "      <td>4.75 Tỷ - 52.78 Triệu/m²</td>\n",
       "      <td>Quận Sơn Trà, Thành phố Đà Nẵng</td>\n",
       "      <td>90 m²</td>\n",
       "      <td>Mặt phố - Mặt đường</td>\n",
       "      <td>5m</td>\n",
       "      <td>Đông Bắc</td>\n",
       "      <td>Nhà môi giới</td>\n",
       "      <td>Nhà ở</td>\n",
       "      <td>---</td>\n",
       "      <td>---</td>\n",
       "      <td>2</td>\n",
       "      <td>---</td>\n",
       "    </tr>\n",
       "    <tr>\n",
       "      <th>1</th>\n",
       "      <td>Thương lượng</td>\n",
       "      <td>Thị xã Phổ Yên, Tỉnh Thái Nguyên</td>\n",
       "      <td>120 m²</td>\n",
       "      <td>Mặt phố - Mặt đường</td>\n",
       "      <td>8.5m</td>\n",
       "      <td>---</td>\n",
       "      <td>Sàn bất động sản</td>\n",
       "      <td>Đất - Đất nền - Nhà như đất</td>\n",
       "      <td>---</td>\n",
       "      <td>---</td>\n",
       "      <td>---</td>\n",
       "      <td>Giấy CN QSDĐ - Sổ đỏ - Sổ hồng</td>\n",
       "    </tr>\n",
       "    <tr>\n",
       "      <th>2</th>\n",
       "      <td>2.2 Tỷ - 56.41 Triệu/m²</td>\n",
       "      <td>Huyện Hoài Đức, Thành phố Hà Nội</td>\n",
       "      <td>39 m²</td>\n",
       "      <td>Ngõ 1 ô tô</td>\n",
       "      <td>3.5m</td>\n",
       "      <td>Tây</td>\n",
       "      <td>Chính chủ</td>\n",
       "      <td>Đất - Đất nền - Nhà như đất</td>\n",
       "      <td>---</td>\n",
       "      <td>---</td>\n",
       "      <td>---</td>\n",
       "      <td>Giấy CN QSDĐ - Sổ đỏ - Sổ hồng</td>\n",
       "    </tr>\n",
       "    <tr>\n",
       "      <th>3</th>\n",
       "      <td>770 Triệu - 14 Triệu/m²</td>\n",
       "      <td>Quận Thanh Xuân, Thành phố Hà Nội</td>\n",
       "      <td>55 m²</td>\n",
       "      <td>Ngõ 1 ô tô</td>\n",
       "      <td>---</td>\n",
       "      <td>---</td>\n",
       "      <td>Chính chủ</td>\n",
       "      <td>Chung cư, Chung cư mini</td>\n",
       "      <td>---</td>\n",
       "      <td>---</td>\n",
       "      <td>---</td>\n",
       "      <td>Giấy CN QSDĐ - Sổ đỏ - Sổ hồng, Hợp đồng mua bán</td>\n",
       "    </tr>\n",
       "    <tr>\n",
       "      <th>4</th>\n",
       "      <td>890 Triệu - 8.9 Triệu/m²</td>\n",
       "      <td>Huyện Bàu Bàng, Tỉnh Bình Dương</td>\n",
       "      <td>100 m²</td>\n",
       "      <td>Ngõ 4 ô tô trở lên</td>\n",
       "      <td>5m</td>\n",
       "      <td>Tây</td>\n",
       "      <td>Nhà môi giới</td>\n",
       "      <td>Đất - Đất nền - Nhà như đất</td>\n",
       "      <td>---</td>\n",
       "      <td>---</td>\n",
       "      <td>---</td>\n",
       "      <td>Giấy CN QSDĐ - Sổ đỏ - Sổ hồng</td>\n",
       "    </tr>\n",
       "    <tr>\n",
       "      <th>...</th>\n",
       "      <td>...</td>\n",
       "      <td>...</td>\n",
       "      <td>...</td>\n",
       "      <td>...</td>\n",
       "      <td>...</td>\n",
       "      <td>...</td>\n",
       "      <td>...</td>\n",
       "      <td>...</td>\n",
       "      <td>...</td>\n",
       "      <td>...</td>\n",
       "      <td>...</td>\n",
       "      <td>...</td>\n",
       "    </tr>\n",
       "    <tr>\n",
       "      <th>11936</th>\n",
       "      <td>2.25 Tỷ - 52.33 Triệu/m²</td>\n",
       "      <td>Quận Ninh Kiều, Thành phố Cần Thơ</td>\n",
       "      <td>43 m²</td>\n",
       "      <td>Ngõ 1 ô tô</td>\n",
       "      <td>6m</td>\n",
       "      <td>Tây Nam</td>\n",
       "      <td>Nhà môi giới</td>\n",
       "      <td>Nhà ở</td>\n",
       "      <td>---</td>\n",
       "      <td>2</td>\n",
       "      <td>2</td>\n",
       "      <td>Giấy CN QSDĐ - Sổ đỏ - Sổ hồng</td>\n",
       "    </tr>\n",
       "    <tr>\n",
       "      <th>11937</th>\n",
       "      <td>1.1 Tỷ - 33.33 Triệu/m²</td>\n",
       "      <td>Quận Hà Đông, Thành phố Hà Nội</td>\n",
       "      <td>33 m²</td>\n",
       "      <td>Ngõ 2 ô tô tránh</td>\n",
       "      <td>---</td>\n",
       "      <td>---</td>\n",
       "      <td>Chính chủ</td>\n",
       "      <td>Nhà ở</td>\n",
       "      <td>---</td>\n",
       "      <td>---</td>\n",
       "      <td>---</td>\n",
       "      <td>Giấy CN QSDĐ - Sổ đỏ - Sổ hồng</td>\n",
       "    </tr>\n",
       "    <tr>\n",
       "      <th>11938</th>\n",
       "      <td>1 Tỷ - 10 Triệu/m²</td>\n",
       "      <td>Huyện Lục Yên, Tỉnh Yên Bái</td>\n",
       "      <td>100 m²</td>\n",
       "      <td>Mặt phố - Mặt đường</td>\n",
       "      <td>---</td>\n",
       "      <td>---</td>\n",
       "      <td>Nhà môi giới</td>\n",
       "      <td>Đất - Đất nền - Nhà như đất</td>\n",
       "      <td>---</td>\n",
       "      <td>---</td>\n",
       "      <td>---</td>\n",
       "      <td>Giấy CN QSDĐ - Sổ đỏ - Sổ hồng</td>\n",
       "    </tr>\n",
       "    <tr>\n",
       "      <th>11939</th>\n",
       "      <td>25 Tỷ - 50 Triệu/m²</td>\n",
       "      <td>Thành phố Vũng Tàu, Tỉnh Bà Rịa - Vũng Tàu</td>\n",
       "      <td>500 m²</td>\n",
       "      <td>Mặt phố - Mặt đường</td>\n",
       "      <td>---</td>\n",
       "      <td>Đông Nam</td>\n",
       "      <td>Nhà môi giới</td>\n",
       "      <td>Đất - Đất nền - Nhà như đất</td>\n",
       "      <td>---</td>\n",
       "      <td>---</td>\n",
       "      <td>---</td>\n",
       "      <td>---</td>\n",
       "    </tr>\n",
       "    <tr>\n",
       "      <th>11940</th>\n",
       "      <td>8.5 Tỷ - 184.78 Triệu/m²</td>\n",
       "      <td>Quận Hà Đông, Thành phố Hà Nội</td>\n",
       "      <td>46 m²</td>\n",
       "      <td>Ngõ 2 ô tô tránh</td>\n",
       "      <td>4m</td>\n",
       "      <td>---</td>\n",
       "      <td>Nhà môi giới</td>\n",
       "      <td>Nhà ở</td>\n",
       "      <td>---</td>\n",
       "      <td>3</td>\n",
       "      <td>4</td>\n",
       "      <td>Giấy CN QSDĐ - Sổ đỏ - Sổ hồng</td>\n",
       "    </tr>\n",
       "  </tbody>\n",
       "</table>\n",
       "<p>11941 rows × 12 columns</p>\n",
       "</div>"
      ],
      "text/plain": [
       "                          Price                                    Location  \\\n",
       "0      4.75 Tỷ - 52.78 Triệu/m²             Quận Sơn Trà, Thành phố Đà Nẵng   \n",
       "1                  Thương lượng            Thị xã Phổ Yên, Tỉnh Thái Nguyên   \n",
       "2       2.2 Tỷ - 56.41 Triệu/m²            Huyện Hoài Đức, Thành phố Hà Nội   \n",
       "3       770 Triệu - 14 Triệu/m²           Quận Thanh Xuân, Thành phố Hà Nội   \n",
       "4      890 Triệu - 8.9 Triệu/m²             Huyện Bàu Bàng, Tỉnh Bình Dương   \n",
       "...                         ...                                         ...   \n",
       "11936  2.25 Tỷ - 52.33 Triệu/m²           Quận Ninh Kiều, Thành phố Cần Thơ   \n",
       "11937   1.1 Tỷ - 33.33 Triệu/m²              Quận Hà Đông, Thành phố Hà Nội   \n",
       "11938        1 Tỷ - 10 Triệu/m²                 Huyện Lục Yên, Tỉnh Yên Bái   \n",
       "11939       25 Tỷ - 50 Triệu/m²  Thành phố Vũng Tàu, Tỉnh Bà Rịa - Vũng Tàu   \n",
       "11940  8.5 Tỷ - 184.78 Triệu/m²              Quận Hà Đông, Thành phố Hà Nội   \n",
       "\n",
       "         Area               Street Facade Direction             Saler  \\\n",
       "0       90 m²  Mặt phố - Mặt đường     5m  Đông Bắc      Nhà môi giới   \n",
       "1      120 m²  Mặt phố - Mặt đường   8.5m       ---  Sàn bất động sản   \n",
       "2       39 m²           Ngõ 1 ô tô   3.5m       Tây         Chính chủ   \n",
       "3       55 m²           Ngõ 1 ô tô    ---       ---         Chính chủ   \n",
       "4      100 m²   Ngõ 4 ô tô trở lên     5m       Tây      Nhà môi giới   \n",
       "...       ...                  ...    ...       ...               ...   \n",
       "11936   43 m²           Ngõ 1 ô tô     6m   Tây Nam      Nhà môi giới   \n",
       "11937   33 m²     Ngõ 2 ô tô tránh    ---       ---         Chính chủ   \n",
       "11938  100 m²  Mặt phố - Mặt đường    ---       ---      Nhà môi giới   \n",
       "11939  500 m²  Mặt phố - Mặt đường    ---  Đông Nam      Nhà môi giới   \n",
       "11940   46 m²     Ngõ 2 ô tô tránh     4m       ---      Nhà môi giới   \n",
       "\n",
       "                              Type Floor Bathrooms Bedrooms  \\\n",
       "0                            Nhà ở   ---       ---        2   \n",
       "1      Đất - Đất nền - Nhà như đất   ---       ---      ---   \n",
       "2      Đất - Đất nền - Nhà như đất   ---       ---      ---   \n",
       "3          Chung cư, Chung cư mini   ---       ---      ---   \n",
       "4      Đất - Đất nền - Nhà như đất   ---       ---      ---   \n",
       "...                            ...   ...       ...      ...   \n",
       "11936                        Nhà ở   ---         2        2   \n",
       "11937                        Nhà ở   ---       ---      ---   \n",
       "11938  Đất - Đất nền - Nhà như đất   ---       ---      ---   \n",
       "11939  Đất - Đất nền - Nhà như đất   ---       ---      ---   \n",
       "11940                        Nhà ở   ---         3        4   \n",
       "\n",
       "                                              Legal Doc  \n",
       "0                                                   ---  \n",
       "1                        Giấy CN QSDĐ - Sổ đỏ - Sổ hồng  \n",
       "2                        Giấy CN QSDĐ - Sổ đỏ - Sổ hồng  \n",
       "3      Giấy CN QSDĐ - Sổ đỏ - Sổ hồng, Hợp đồng mua bán  \n",
       "4                        Giấy CN QSDĐ - Sổ đỏ - Sổ hồng  \n",
       "...                                                 ...  \n",
       "11936                    Giấy CN QSDĐ - Sổ đỏ - Sổ hồng  \n",
       "11937                    Giấy CN QSDĐ - Sổ đỏ - Sổ hồng  \n",
       "11938                    Giấy CN QSDĐ - Sổ đỏ - Sổ hồng  \n",
       "11939                                               ---  \n",
       "11940                    Giấy CN QSDĐ - Sổ đỏ - Sổ hồng  \n",
       "\n",
       "[11941 rows x 12 columns]"
      ]
     },
     "execution_count": 6,
     "metadata": {},
     "output_type": "execute_result"
    }
   ],
   "source": [
    "data"
   ]
  },
  {
   "cell_type": "code",
   "execution_count": 7,
   "metadata": {
    "colab": {
     "base_uri": "https://localhost:8080/"
    },
    "id": "a9yNG5h9HUZZ",
    "outputId": "5f296de7-e084-486c-80e1-b1755ec16135"
   },
   "outputs": [
    {
     "data": {
      "text/plain": [
       "Price                     3,750,000,000 Tỷ - 93,750,000 Tỷ/m²\n",
       "Location                   Quận Nam Từ Liêm, Thành phố Hà Nội\n",
       "Area                                                    40 m²\n",
       "Street                                       Ngõ 2 ô tô tránh\n",
       "Facade                                                    ---\n",
       "Direction                                                 ---\n",
       "Saler                                            Nhà môi giới\n",
       "Type                                                    Nhà ở\n",
       "Floor                                                     ---\n",
       "Bathrooms                                                   6\n",
       "Bedrooms                                                    6\n",
       "Legal Doc    Giấy CN QSDĐ - Sổ đỏ - Sổ hồng, Hợp đồng mua bán\n",
       "Name: 5294, dtype: object"
      ]
     },
     "execution_count": 7,
     "metadata": {},
     "output_type": "execute_result"
    }
   ],
   "source": [
    "data.iloc[5294]"
   ]
  },
  {
   "cell_type": "code",
   "execution_count": 8,
   "metadata": {
    "id": "VkkN4fyIHUZa"
   },
   "outputs": [],
   "source": [
    "# data = data.drop([5294,7581])"
   ]
  },
  {
   "cell_type": "code",
   "execution_count": 9,
   "metadata": {
    "colab": {
     "base_uri": "https://localhost:8080/"
    },
    "id": "AUsDzi-AHUZb",
    "outputId": "68d6e065-fe7a-47b3-8547-2b553bc88925"
   },
   "outputs": [
    {
     "data": {
      "text/plain": [
       "Price               17.5 Tỷ - 35 Nghìn/m²\n",
       "Location     Huyện Tân Lạc, Tỉnh Hoà Bình\n",
       "Area                           500,000 m²\n",
       "Street                                ---\n",
       "Facade                                ---\n",
       "Direction                             ---\n",
       "Saler                        Nhà môi giới\n",
       "Type          Đất - Đất nền - Nhà như đất\n",
       "Floor                                 ---\n",
       "Bathrooms                             ---\n",
       "Bedrooms                              ---\n",
       "Legal Doc                             ---\n",
       "Name: 6837, dtype: object"
      ]
     },
     "execution_count": 9,
     "metadata": {},
     "output_type": "execute_result"
    }
   ],
   "source": [
    "data.iloc[6837]"
   ]
  },
  {
   "cell_type": "code",
   "execution_count": 10,
   "metadata": {
    "id": "yFN77kVvHUZc"
   },
   "outputs": [],
   "source": [
    "for name in data.columns:\n",
    "    data[name].replace('---', np.NaN, inplace=True)"
   ]
  },
  {
   "cell_type": "code",
   "execution_count": 11,
   "metadata": {
    "colab": {
     "base_uri": "https://localhost:8080/"
    },
    "id": "sIuFbws0HUZd",
    "outputId": "7ece9e14-3c5e-4bd3-d0f9-3454f33a7199"
   },
   "outputs": [
    {
     "data": {
      "text/plain": [
       "1185"
      ]
     },
     "execution_count": 11,
     "metadata": {},
     "output_type": "execute_result"
    }
   ],
   "source": [
    "num_row_dup = data.duplicated().sum()\n",
    "num_row_dup"
   ]
  },
  {
   "cell_type": "code",
   "execution_count": 12,
   "metadata": {
    "colab": {
     "base_uri": "https://localhost:8080/"
    },
    "id": "RmKNbVQ3HUZe",
    "outputId": "a7a7c7ba-6e57-411f-b123-9a742923e3e6"
   },
   "outputs": [
    {
     "name": "stdout",
     "output_type": "stream",
     "text": [
      "<class 'pandas.core.frame.DataFrame'>\n",
      "Int64Index: 10756 entries, 0 to 11940\n",
      "Data columns (total 12 columns):\n",
      " #   Column     Non-Null Count  Dtype \n",
      "---  ------     --------------  ----- \n",
      " 0   Price      10756 non-null  object\n",
      " 1   Location   10756 non-null  object\n",
      " 2   Area       10649 non-null  object\n",
      " 3   Street     9625 non-null   object\n",
      " 4   Facade     5688 non-null   object\n",
      " 5   Direction  1948 non-null   object\n",
      " 6   Saler      10756 non-null  object\n",
      " 7   Type       10754 non-null  object\n",
      " 8   Floor      474 non-null    object\n",
      " 9   Bathrooms  2064 non-null   object\n",
      " 10  Bedrooms   4748 non-null   object\n",
      " 11  Legal Doc  9099 non-null   object\n",
      "dtypes: object(12)\n",
      "memory usage: 1.1+ MB\n"
     ]
    }
   ],
   "source": [
    "new_data = data.drop_duplicates()\n",
    "new_data.info()"
   ]
  },
  {
   "cell_type": "code",
   "execution_count": 13,
   "metadata": {
    "colab": {
     "base_uri": "https://localhost:8080/",
     "height": 419
    },
    "id": "YQnx9rpZHUZf",
    "outputId": "8b5c7006-2827-4229-80c6-51de6494f6a2"
   },
   "outputs": [
    {
     "data": {
      "text/html": [
       "<div>\n",
       "<style scoped>\n",
       "    .dataframe tbody tr th:only-of-type {\n",
       "        vertical-align: middle;\n",
       "    }\n",
       "\n",
       "    .dataframe tbody tr th {\n",
       "        vertical-align: top;\n",
       "    }\n",
       "\n",
       "    .dataframe thead th {\n",
       "        text-align: right;\n",
       "    }\n",
       "</style>\n",
       "<table border=\"1\" class=\"dataframe\">\n",
       "  <thead>\n",
       "    <tr style=\"text-align: right;\">\n",
       "      <th></th>\n",
       "      <th>Price</th>\n",
       "      <th>Location</th>\n",
       "      <th>Area</th>\n",
       "      <th>Street</th>\n",
       "      <th>Facade</th>\n",
       "      <th>Direction</th>\n",
       "      <th>Saler</th>\n",
       "      <th>Type</th>\n",
       "      <th>Floor</th>\n",
       "      <th>Bathrooms</th>\n",
       "      <th>Bedrooms</th>\n",
       "      <th>Legal Doc</th>\n",
       "    </tr>\n",
       "  </thead>\n",
       "  <tbody>\n",
       "    <tr>\n",
       "      <th>0</th>\n",
       "      <td>4.75 Tỷ - 52.78 Triệu/m²</td>\n",
       "      <td>Quận Sơn Trà, Thành phố Đà Nẵng</td>\n",
       "      <td>90 m²</td>\n",
       "      <td>Mặt phố - Mặt đường</td>\n",
       "      <td>5m</td>\n",
       "      <td>Đông Bắc</td>\n",
       "      <td>Nhà môi giới</td>\n",
       "      <td>Nhà ở</td>\n",
       "      <td>NaN</td>\n",
       "      <td>NaN</td>\n",
       "      <td>2</td>\n",
       "      <td>NaN</td>\n",
       "    </tr>\n",
       "    <tr>\n",
       "      <th>2</th>\n",
       "      <td>2.2 Tỷ - 56.41 Triệu/m²</td>\n",
       "      <td>Huyện Hoài Đức, Thành phố Hà Nội</td>\n",
       "      <td>39 m²</td>\n",
       "      <td>Ngõ 1 ô tô</td>\n",
       "      <td>3.5m</td>\n",
       "      <td>Tây</td>\n",
       "      <td>Chính chủ</td>\n",
       "      <td>Đất - Đất nền - Nhà như đất</td>\n",
       "      <td>NaN</td>\n",
       "      <td>NaN</td>\n",
       "      <td>NaN</td>\n",
       "      <td>Giấy CN QSDĐ - Sổ đỏ - Sổ hồng</td>\n",
       "    </tr>\n",
       "    <tr>\n",
       "      <th>3</th>\n",
       "      <td>770 Triệu - 14 Triệu/m²</td>\n",
       "      <td>Quận Thanh Xuân, Thành phố Hà Nội</td>\n",
       "      <td>55 m²</td>\n",
       "      <td>Ngõ 1 ô tô</td>\n",
       "      <td>NaN</td>\n",
       "      <td>NaN</td>\n",
       "      <td>Chính chủ</td>\n",
       "      <td>Chung cư, Chung cư mini</td>\n",
       "      <td>NaN</td>\n",
       "      <td>NaN</td>\n",
       "      <td>NaN</td>\n",
       "      <td>Giấy CN QSDĐ - Sổ đỏ - Sổ hồng, Hợp đồng mua bán</td>\n",
       "    </tr>\n",
       "    <tr>\n",
       "      <th>4</th>\n",
       "      <td>890 Triệu - 8.9 Triệu/m²</td>\n",
       "      <td>Huyện Bàu Bàng, Tỉnh Bình Dương</td>\n",
       "      <td>100 m²</td>\n",
       "      <td>Ngõ 4 ô tô trở lên</td>\n",
       "      <td>5m</td>\n",
       "      <td>Tây</td>\n",
       "      <td>Nhà môi giới</td>\n",
       "      <td>Đất - Đất nền - Nhà như đất</td>\n",
       "      <td>NaN</td>\n",
       "      <td>NaN</td>\n",
       "      <td>NaN</td>\n",
       "      <td>Giấy CN QSDĐ - Sổ đỏ - Sổ hồng</td>\n",
       "    </tr>\n",
       "    <tr>\n",
       "      <th>5</th>\n",
       "      <td>800 Triệu - 19.51 Triệu/m²</td>\n",
       "      <td>Huyện Gia Lâm, Thành phố Hà Nội</td>\n",
       "      <td>41 m²</td>\n",
       "      <td>Ngõ ngách</td>\n",
       "      <td>3.6m</td>\n",
       "      <td>NaN</td>\n",
       "      <td>Nhà môi giới</td>\n",
       "      <td>Đất - Đất nền - Nhà như đất</td>\n",
       "      <td>NaN</td>\n",
       "      <td>NaN</td>\n",
       "      <td>NaN</td>\n",
       "      <td>Giấy CN QSDĐ - Sổ đỏ - Sổ hồng</td>\n",
       "    </tr>\n",
       "    <tr>\n",
       "      <th>...</th>\n",
       "      <td>...</td>\n",
       "      <td>...</td>\n",
       "      <td>...</td>\n",
       "      <td>...</td>\n",
       "      <td>...</td>\n",
       "      <td>...</td>\n",
       "      <td>...</td>\n",
       "      <td>...</td>\n",
       "      <td>...</td>\n",
       "      <td>...</td>\n",
       "      <td>...</td>\n",
       "      <td>...</td>\n",
       "    </tr>\n",
       "    <tr>\n",
       "      <th>11936</th>\n",
       "      <td>2.25 Tỷ - 52.33 Triệu/m²</td>\n",
       "      <td>Quận Ninh Kiều, Thành phố Cần Thơ</td>\n",
       "      <td>43 m²</td>\n",
       "      <td>Ngõ 1 ô tô</td>\n",
       "      <td>6m</td>\n",
       "      <td>Tây Nam</td>\n",
       "      <td>Nhà môi giới</td>\n",
       "      <td>Nhà ở</td>\n",
       "      <td>NaN</td>\n",
       "      <td>2</td>\n",
       "      <td>2</td>\n",
       "      <td>Giấy CN QSDĐ - Sổ đỏ - Sổ hồng</td>\n",
       "    </tr>\n",
       "    <tr>\n",
       "      <th>11937</th>\n",
       "      <td>1.1 Tỷ - 33.33 Triệu/m²</td>\n",
       "      <td>Quận Hà Đông, Thành phố Hà Nội</td>\n",
       "      <td>33 m²</td>\n",
       "      <td>Ngõ 2 ô tô tránh</td>\n",
       "      <td>NaN</td>\n",
       "      <td>NaN</td>\n",
       "      <td>Chính chủ</td>\n",
       "      <td>Nhà ở</td>\n",
       "      <td>NaN</td>\n",
       "      <td>NaN</td>\n",
       "      <td>NaN</td>\n",
       "      <td>Giấy CN QSDĐ - Sổ đỏ - Sổ hồng</td>\n",
       "    </tr>\n",
       "    <tr>\n",
       "      <th>11938</th>\n",
       "      <td>1 Tỷ - 10 Triệu/m²</td>\n",
       "      <td>Huyện Lục Yên, Tỉnh Yên Bái</td>\n",
       "      <td>100 m²</td>\n",
       "      <td>Mặt phố - Mặt đường</td>\n",
       "      <td>NaN</td>\n",
       "      <td>NaN</td>\n",
       "      <td>Nhà môi giới</td>\n",
       "      <td>Đất - Đất nền - Nhà như đất</td>\n",
       "      <td>NaN</td>\n",
       "      <td>NaN</td>\n",
       "      <td>NaN</td>\n",
       "      <td>Giấy CN QSDĐ - Sổ đỏ - Sổ hồng</td>\n",
       "    </tr>\n",
       "    <tr>\n",
       "      <th>11939</th>\n",
       "      <td>25 Tỷ - 50 Triệu/m²</td>\n",
       "      <td>Thành phố Vũng Tàu, Tỉnh Bà Rịa - Vũng Tàu</td>\n",
       "      <td>500 m²</td>\n",
       "      <td>Mặt phố - Mặt đường</td>\n",
       "      <td>NaN</td>\n",
       "      <td>Đông Nam</td>\n",
       "      <td>Nhà môi giới</td>\n",
       "      <td>Đất - Đất nền - Nhà như đất</td>\n",
       "      <td>NaN</td>\n",
       "      <td>NaN</td>\n",
       "      <td>NaN</td>\n",
       "      <td>NaN</td>\n",
       "    </tr>\n",
       "    <tr>\n",
       "      <th>11940</th>\n",
       "      <td>8.5 Tỷ - 184.78 Triệu/m²</td>\n",
       "      <td>Quận Hà Đông, Thành phố Hà Nội</td>\n",
       "      <td>46 m²</td>\n",
       "      <td>Ngõ 2 ô tô tránh</td>\n",
       "      <td>4m</td>\n",
       "      <td>NaN</td>\n",
       "      <td>Nhà môi giới</td>\n",
       "      <td>Nhà ở</td>\n",
       "      <td>NaN</td>\n",
       "      <td>3</td>\n",
       "      <td>4</td>\n",
       "      <td>Giấy CN QSDĐ - Sổ đỏ - Sổ hồng</td>\n",
       "    </tr>\n",
       "  </tbody>\n",
       "</table>\n",
       "<p>10042 rows × 12 columns</p>\n",
       "</div>"
      ],
      "text/plain": [
       "                            Price                                    Location  \\\n",
       "0        4.75 Tỷ - 52.78 Triệu/m²             Quận Sơn Trà, Thành phố Đà Nẵng   \n",
       "2         2.2 Tỷ - 56.41 Triệu/m²            Huyện Hoài Đức, Thành phố Hà Nội   \n",
       "3         770 Triệu - 14 Triệu/m²           Quận Thanh Xuân, Thành phố Hà Nội   \n",
       "4        890 Triệu - 8.9 Triệu/m²             Huyện Bàu Bàng, Tỉnh Bình Dương   \n",
       "5      800 Triệu - 19.51 Triệu/m²             Huyện Gia Lâm, Thành phố Hà Nội   \n",
       "...                           ...                                         ...   \n",
       "11936    2.25 Tỷ - 52.33 Triệu/m²           Quận Ninh Kiều, Thành phố Cần Thơ   \n",
       "11937     1.1 Tỷ - 33.33 Triệu/m²              Quận Hà Đông, Thành phố Hà Nội   \n",
       "11938          1 Tỷ - 10 Triệu/m²                 Huyện Lục Yên, Tỉnh Yên Bái   \n",
       "11939         25 Tỷ - 50 Triệu/m²  Thành phố Vũng Tàu, Tỉnh Bà Rịa - Vũng Tàu   \n",
       "11940    8.5 Tỷ - 184.78 Triệu/m²              Quận Hà Đông, Thành phố Hà Nội   \n",
       "\n",
       "         Area               Street Facade Direction         Saler  \\\n",
       "0       90 m²  Mặt phố - Mặt đường     5m  Đông Bắc  Nhà môi giới   \n",
       "2       39 m²           Ngõ 1 ô tô   3.5m       Tây     Chính chủ   \n",
       "3       55 m²           Ngõ 1 ô tô    NaN       NaN     Chính chủ   \n",
       "4      100 m²   Ngõ 4 ô tô trở lên     5m       Tây  Nhà môi giới   \n",
       "5       41 m²            Ngõ ngách   3.6m       NaN  Nhà môi giới   \n",
       "...       ...                  ...    ...       ...           ...   \n",
       "11936   43 m²           Ngõ 1 ô tô     6m   Tây Nam  Nhà môi giới   \n",
       "11937   33 m²     Ngõ 2 ô tô tránh    NaN       NaN     Chính chủ   \n",
       "11938  100 m²  Mặt phố - Mặt đường    NaN       NaN  Nhà môi giới   \n",
       "11939  500 m²  Mặt phố - Mặt đường    NaN  Đông Nam  Nhà môi giới   \n",
       "11940   46 m²     Ngõ 2 ô tô tránh     4m       NaN  Nhà môi giới   \n",
       "\n",
       "                              Type Floor Bathrooms Bedrooms  \\\n",
       "0                            Nhà ở   NaN       NaN        2   \n",
       "2      Đất - Đất nền - Nhà như đất   NaN       NaN      NaN   \n",
       "3          Chung cư, Chung cư mini   NaN       NaN      NaN   \n",
       "4      Đất - Đất nền - Nhà như đất   NaN       NaN      NaN   \n",
       "5      Đất - Đất nền - Nhà như đất   NaN       NaN      NaN   \n",
       "...                            ...   ...       ...      ...   \n",
       "11936                        Nhà ở   NaN         2        2   \n",
       "11937                        Nhà ở   NaN       NaN      NaN   \n",
       "11938  Đất - Đất nền - Nhà như đất   NaN       NaN      NaN   \n",
       "11939  Đất - Đất nền - Nhà như đất   NaN       NaN      NaN   \n",
       "11940                        Nhà ở   NaN         3        4   \n",
       "\n",
       "                                              Legal Doc  \n",
       "0                                                   NaN  \n",
       "2                        Giấy CN QSDĐ - Sổ đỏ - Sổ hồng  \n",
       "3      Giấy CN QSDĐ - Sổ đỏ - Sổ hồng, Hợp đồng mua bán  \n",
       "4                        Giấy CN QSDĐ - Sổ đỏ - Sổ hồng  \n",
       "5                        Giấy CN QSDĐ - Sổ đỏ - Sổ hồng  \n",
       "...                                                 ...  \n",
       "11936                    Giấy CN QSDĐ - Sổ đỏ - Sổ hồng  \n",
       "11937                    Giấy CN QSDĐ - Sổ đỏ - Sổ hồng  \n",
       "11938                    Giấy CN QSDĐ - Sổ đỏ - Sổ hồng  \n",
       "11939                                               NaN  \n",
       "11940                    Giấy CN QSDĐ - Sổ đỏ - Sổ hồng  \n",
       "\n",
       "[10042 rows x 12 columns]"
      ]
     },
     "execution_count": 13,
     "metadata": {},
     "output_type": "execute_result"
    }
   ],
   "source": [
    "new_data = new_data[new_data.Price != 'Thương lượng']\n",
    "new_data"
   ]
  },
  {
   "cell_type": "code",
   "execution_count": 14,
   "metadata": {
    "colab": {
     "base_uri": "https://localhost:8080/",
     "height": 80
    },
    "id": "ohnH1wNOHUZg",
    "outputId": "222d722e-1082-445e-becd-6d49ec593195"
   },
   "outputs": [
    {
     "data": {
      "text/html": [
       "<div>\n",
       "<style scoped>\n",
       "    .dataframe tbody tr th:only-of-type {\n",
       "        vertical-align: middle;\n",
       "    }\n",
       "\n",
       "    .dataframe tbody tr th {\n",
       "        vertical-align: top;\n",
       "    }\n",
       "\n",
       "    .dataframe thead th {\n",
       "        text-align: right;\n",
       "    }\n",
       "</style>\n",
       "<table border=\"1\" class=\"dataframe\">\n",
       "  <thead>\n",
       "    <tr style=\"text-align: right;\">\n",
       "      <th></th>\n",
       "      <th>Price</th>\n",
       "      <th>Location</th>\n",
       "      <th>Area</th>\n",
       "      <th>Street</th>\n",
       "      <th>Facade</th>\n",
       "      <th>Direction</th>\n",
       "      <th>Saler</th>\n",
       "      <th>Type</th>\n",
       "      <th>Floor</th>\n",
       "      <th>Bathrooms</th>\n",
       "      <th>Bedrooms</th>\n",
       "      <th>Legal Doc</th>\n",
       "    </tr>\n",
       "  </thead>\n",
       "  <tbody>\n",
       "    <tr>\n",
       "      <th>7581</th>\n",
       "      <td>2,260,000 Tỷ - 29,736.84 Tỷ/m²</td>\n",
       "      <td>Thành phố Vũng Tàu, Tỉnh Bà Rịa - Vũng Tàu</td>\n",
       "      <td>76 m²</td>\n",
       "      <td>NaN</td>\n",
       "      <td>NaN</td>\n",
       "      <td>NaN</td>\n",
       "      <td>Nhà môi giới</td>\n",
       "      <td>Chung cư</td>\n",
       "      <td>NaN</td>\n",
       "      <td>NaN</td>\n",
       "      <td>NaN</td>\n",
       "      <td>NaN</td>\n",
       "    </tr>\n",
       "  </tbody>\n",
       "</table>\n",
       "</div>"
      ],
      "text/plain": [
       "                               Price  \\\n",
       "7581  2,260,000 Tỷ - 29,736.84 Tỷ/m²   \n",
       "\n",
       "                                        Location   Area Street Facade  \\\n",
       "7581  Thành phố Vũng Tàu, Tỉnh Bà Rịa - Vũng Tàu  76 m²    NaN    NaN   \n",
       "\n",
       "     Direction         Saler      Type Floor Bathrooms Bedrooms Legal Doc  \n",
       "7581       NaN  Nhà môi giới  Chung cư   NaN       NaN      NaN       NaN  "
      ]
     },
     "execution_count": 14,
     "metadata": {},
     "output_type": "execute_result"
    }
   ],
   "source": [
    "new_data[new_data['Price'] == '2,260,000 Tỷ - 29,736.84 Tỷ/m²']"
   ]
  },
  {
   "cell_type": "code",
   "execution_count": 15,
   "metadata": {
    "colab": {
     "base_uri": "https://localhost:8080/"
    },
    "id": "-04JneiNHUZg",
    "outputId": "d2b38614-f761-4e1b-84bc-95ec21386c65"
   },
   "outputs": [
    {
     "data": {
      "text/plain": [
       "[('1,500,000', 'Tỷ', '10,714.29', 'Tỷ/m²')]"
      ]
     },
     "execution_count": 15,
     "metadata": {},
     "output_type": "execute_result"
    }
   ],
   "source": [
    "regexp = re.compile(r'(\\d+[.,]?\\d*[,.]?\\d*)\\s(\\w+)\\s?-?\\s?(\\d+[.,]?\\d*[,.]?\\d*)?\\s?(\\w+\\W\\w+)?')\n",
    "row = '1,500,000 Tỷ - 10,714.29 Tỷ/m²'\n",
    "matches = regexp.findall(row)\n",
    "matches"
   ]
  },
  {
   "cell_type": "code",
   "execution_count": 16,
   "metadata": {
    "id": "l8KJ6TpKHUZh"
   },
   "outputs": [],
   "source": [
    "def convert_Price_col(prices):\n",
    "    list_price = []\n",
    "    list_price_per_squarem = []\n",
    "    weird_index = []\n",
    "    \n",
    "    for index, price in enumerate(prices):\n",
    "        pr = float(regexp.sub(r'\\1', price).replace(\",\",\"\"))\n",
    "        if regexp.sub(r'\\2', price) == 'Triệu':\n",
    "            pr /= 1e3\n",
    "        pp = regexp.sub(r'\\3', price).replace(\",\",\"\")\n",
    "        p_unit = regexp.sub(r'\\4', price)\n",
    "        if pp == '':\n",
    "            pp = np.NaN\n",
    "        if p_unit != 'Triệu/m²':\n",
    "            weird_index.append(index)\n",
    "            if p_unit == 'Tỷ/m²':\n",
    "                pp = float(pp)*1e3\n",
    "            elif p_unit == 'Nghìn/m²':\n",
    "                pp = float(pp)/1e6\n",
    "        list_price.append(pr)\n",
    "        list_price_per_squarem.append(float(pp)) \n",
    "    return list_price, list_price_per_squarem, weird_index\n",
    "\n",
    "list_price, list_price_per_squarem, weird_index = convert_Price_col(list(new_data['Price']))"
   ]
  },
  {
   "cell_type": "code",
   "execution_count": 17,
   "metadata": {
    "colab": {
     "base_uri": "https://localhost:8080/"
    },
    "id": "aShOSlgbHUZi",
    "outputId": "89755675-99b8-4c39-b275-04faa3cbb69c"
   },
   "outputs": [
    {
     "data": {
      "text/plain": [
       "344"
      ]
     },
     "execution_count": 17,
     "metadata": {},
     "output_type": "execute_result"
    }
   ],
   "source": [
    "len(weird_index)"
   ]
  },
  {
   "cell_type": "code",
   "execution_count": 18,
   "metadata": {
    "id": "w4_1MHgLHUZj"
   },
   "outputs": [],
   "source": [
    "# for idx in weird_index:\n",
    "#     print(new_data.iloc[idx]['Price'])"
   ]
  },
  {
   "cell_type": "code",
   "execution_count": 19,
   "metadata": {
    "id": "xbqkaJGOHUZj"
   },
   "outputs": [],
   "source": [
    "new_data['Price(million/m_square)'] = list_price_per_squarem\n",
    "new_data['Price'] = list_price"
   ]
  },
  {
   "cell_type": "code",
   "execution_count": 20,
   "metadata": {
    "id": "cDSkorAsHUZj"
   },
   "outputs": [],
   "source": [
    "def convert_Area_col(row):\n",
    "    return float(row[:row.find('m²')].strip().replace(\",\",\"\"))\n",
    "\n",
    "new_data['Area'] = new_data['Area'].apply(lambda x : convert_Area_col(x) if x == x else x) \n",
    "new_data['Facade'] = new_data['Facade'].apply(lambda x : convert_Area_col(x) if x == x else x) "
   ]
  },
  {
   "cell_type": "markdown",
   "metadata": {
    "id": "iqhWvsPeHUZk"
   },
   "source": [
    "- Price: đơn vị tỷ"
   ]
  },
  {
   "cell_type": "code",
   "execution_count": 21,
   "metadata": {
    "colab": {
     "base_uri": "https://localhost:8080/",
     "height": 204
    },
    "id": "5UnGP_1oHUZk",
    "outputId": "2415d722-d8aa-4596-e2e1-c5c6476e9d76"
   },
   "outputs": [
    {
     "data": {
      "text/html": [
       "<div>\n",
       "<style scoped>\n",
       "    .dataframe tbody tr th:only-of-type {\n",
       "        vertical-align: middle;\n",
       "    }\n",
       "\n",
       "    .dataframe tbody tr th {\n",
       "        vertical-align: top;\n",
       "    }\n",
       "\n",
       "    .dataframe thead th {\n",
       "        text-align: right;\n",
       "    }\n",
       "</style>\n",
       "<table border=\"1\" class=\"dataframe\">\n",
       "  <thead>\n",
       "    <tr style=\"text-align: right;\">\n",
       "      <th></th>\n",
       "      <th>Price</th>\n",
       "      <th>Location</th>\n",
       "      <th>Area</th>\n",
       "      <th>Street</th>\n",
       "      <th>Facade</th>\n",
       "      <th>Direction</th>\n",
       "      <th>Saler</th>\n",
       "      <th>Type</th>\n",
       "      <th>Floor</th>\n",
       "      <th>Bathrooms</th>\n",
       "      <th>Bedrooms</th>\n",
       "      <th>Legal Doc</th>\n",
       "      <th>Price(million/m_square)</th>\n",
       "    </tr>\n",
       "  </thead>\n",
       "  <tbody>\n",
       "    <tr>\n",
       "      <th>11936</th>\n",
       "      <td>2.25</td>\n",
       "      <td>Quận Ninh Kiều, Thành phố Cần Thơ</td>\n",
       "      <td>43.0</td>\n",
       "      <td>Ngõ 1 ô tô</td>\n",
       "      <td>6.0</td>\n",
       "      <td>Tây Nam</td>\n",
       "      <td>Nhà môi giới</td>\n",
       "      <td>Nhà ở</td>\n",
       "      <td>NaN</td>\n",
       "      <td>2</td>\n",
       "      <td>2</td>\n",
       "      <td>Giấy CN QSDĐ - Sổ đỏ - Sổ hồng</td>\n",
       "      <td>52.33</td>\n",
       "    </tr>\n",
       "    <tr>\n",
       "      <th>11937</th>\n",
       "      <td>1.10</td>\n",
       "      <td>Quận Hà Đông, Thành phố Hà Nội</td>\n",
       "      <td>33.0</td>\n",
       "      <td>Ngõ 2 ô tô tránh</td>\n",
       "      <td>NaN</td>\n",
       "      <td>NaN</td>\n",
       "      <td>Chính chủ</td>\n",
       "      <td>Nhà ở</td>\n",
       "      <td>NaN</td>\n",
       "      <td>NaN</td>\n",
       "      <td>NaN</td>\n",
       "      <td>Giấy CN QSDĐ - Sổ đỏ - Sổ hồng</td>\n",
       "      <td>33.33</td>\n",
       "    </tr>\n",
       "    <tr>\n",
       "      <th>11938</th>\n",
       "      <td>1.00</td>\n",
       "      <td>Huyện Lục Yên, Tỉnh Yên Bái</td>\n",
       "      <td>100.0</td>\n",
       "      <td>Mặt phố - Mặt đường</td>\n",
       "      <td>NaN</td>\n",
       "      <td>NaN</td>\n",
       "      <td>Nhà môi giới</td>\n",
       "      <td>Đất - Đất nền - Nhà như đất</td>\n",
       "      <td>NaN</td>\n",
       "      <td>NaN</td>\n",
       "      <td>NaN</td>\n",
       "      <td>Giấy CN QSDĐ - Sổ đỏ - Sổ hồng</td>\n",
       "      <td>10.00</td>\n",
       "    </tr>\n",
       "    <tr>\n",
       "      <th>11939</th>\n",
       "      <td>25.00</td>\n",
       "      <td>Thành phố Vũng Tàu, Tỉnh Bà Rịa - Vũng Tàu</td>\n",
       "      <td>500.0</td>\n",
       "      <td>Mặt phố - Mặt đường</td>\n",
       "      <td>NaN</td>\n",
       "      <td>Đông Nam</td>\n",
       "      <td>Nhà môi giới</td>\n",
       "      <td>Đất - Đất nền - Nhà như đất</td>\n",
       "      <td>NaN</td>\n",
       "      <td>NaN</td>\n",
       "      <td>NaN</td>\n",
       "      <td>NaN</td>\n",
       "      <td>50.00</td>\n",
       "    </tr>\n",
       "    <tr>\n",
       "      <th>11940</th>\n",
       "      <td>8.50</td>\n",
       "      <td>Quận Hà Đông, Thành phố Hà Nội</td>\n",
       "      <td>46.0</td>\n",
       "      <td>Ngõ 2 ô tô tránh</td>\n",
       "      <td>4.0</td>\n",
       "      <td>NaN</td>\n",
       "      <td>Nhà môi giới</td>\n",
       "      <td>Nhà ở</td>\n",
       "      <td>NaN</td>\n",
       "      <td>3</td>\n",
       "      <td>4</td>\n",
       "      <td>Giấy CN QSDĐ - Sổ đỏ - Sổ hồng</td>\n",
       "      <td>184.78</td>\n",
       "    </tr>\n",
       "  </tbody>\n",
       "</table>\n",
       "</div>"
      ],
      "text/plain": [
       "       Price                                    Location   Area  \\\n",
       "11936   2.25           Quận Ninh Kiều, Thành phố Cần Thơ   43.0   \n",
       "11937   1.10              Quận Hà Đông, Thành phố Hà Nội   33.0   \n",
       "11938   1.00                 Huyện Lục Yên, Tỉnh Yên Bái  100.0   \n",
       "11939  25.00  Thành phố Vũng Tàu, Tỉnh Bà Rịa - Vũng Tàu  500.0   \n",
       "11940   8.50              Quận Hà Đông, Thành phố Hà Nội   46.0   \n",
       "\n",
       "                    Street  Facade Direction         Saler  \\\n",
       "11936           Ngõ 1 ô tô     6.0   Tây Nam  Nhà môi giới   \n",
       "11937     Ngõ 2 ô tô tránh     NaN       NaN     Chính chủ   \n",
       "11938  Mặt phố - Mặt đường     NaN       NaN  Nhà môi giới   \n",
       "11939  Mặt phố - Mặt đường     NaN  Đông Nam  Nhà môi giới   \n",
       "11940     Ngõ 2 ô tô tránh     4.0       NaN  Nhà môi giới   \n",
       "\n",
       "                              Type Floor Bathrooms Bedrooms  \\\n",
       "11936                        Nhà ở   NaN         2        2   \n",
       "11937                        Nhà ở   NaN       NaN      NaN   \n",
       "11938  Đất - Đất nền - Nhà như đất   NaN       NaN      NaN   \n",
       "11939  Đất - Đất nền - Nhà như đất   NaN       NaN      NaN   \n",
       "11940                        Nhà ở   NaN         3        4   \n",
       "\n",
       "                            Legal Doc  Price(million/m_square)  \n",
       "11936  Giấy CN QSDĐ - Sổ đỏ - Sổ hồng                    52.33  \n",
       "11937  Giấy CN QSDĐ - Sổ đỏ - Sổ hồng                    33.33  \n",
       "11938  Giấy CN QSDĐ - Sổ đỏ - Sổ hồng                    10.00  \n",
       "11939                             NaN                    50.00  \n",
       "11940  Giấy CN QSDĐ - Sổ đỏ - Sổ hồng                   184.78  "
      ]
     },
     "execution_count": 21,
     "metadata": {},
     "output_type": "execute_result"
    }
   ],
   "source": [
    "new_data.tail(5)"
   ]
  },
  {
   "cell_type": "code",
   "execution_count": 22,
   "metadata": {
    "id": "NdC9SYnpHUZk"
   },
   "outputs": [],
   "source": [
    "new_data['Floor'] = new_data['Floor'].astype(float)\n",
    "new_data['Bedrooms'] = new_data['Bedrooms'].astype(float)\n",
    "new_data['Bathrooms'] = new_data['Bathrooms'].astype(float)"
   ]
  },
  {
   "cell_type": "code",
   "execution_count": 23,
   "metadata": {
    "colab": {
     "base_uri": "https://localhost:8080/"
    },
    "id": "NoxwdsliHUZl",
    "outputId": "ec4d2b07-3035-4314-c020-cfc74e8e5956"
   },
   "outputs": [
    {
     "name": "stdout",
     "output_type": "stream",
     "text": [
      "<class 'pandas.core.frame.DataFrame'>\n",
      "Int64Index: 10042 entries, 0 to 11940\n",
      "Data columns (total 13 columns):\n",
      " #   Column                   Non-Null Count  Dtype  \n",
      "---  ------                   --------------  -----  \n",
      " 0   Price                    10042 non-null  float64\n",
      " 1   Location                 10042 non-null  object \n",
      " 2   Area                     10009 non-null  float64\n",
      " 3   Street                   9027 non-null   object \n",
      " 4   Facade                   5417 non-null   float64\n",
      " 5   Direction                1845 non-null   object \n",
      " 6   Saler                    10042 non-null  object \n",
      " 7   Type                     10042 non-null  object \n",
      " 8   Floor                    465 non-null    float64\n",
      " 9   Bathrooms                1997 non-null   float64\n",
      " 10  Bedrooms                 4580 non-null   float64\n",
      " 11  Legal Doc                8542 non-null   object \n",
      " 12  Price(million/m_square)  10009 non-null  float64\n",
      "dtypes: float64(7), object(6)\n",
      "memory usage: 1.1+ MB\n"
     ]
    }
   ],
   "source": [
    "new_data.info()"
   ]
  },
  {
   "cell_type": "code",
   "execution_count": 24,
   "metadata": {
    "colab": {
     "base_uri": "https://localhost:8080/",
     "height": 261
    },
    "id": "Lvin_I_zHUZl",
    "outputId": "eec1f63a-225f-4f03-9f59-473d38eb892e"
   },
   "outputs": [
    {
     "data": {
      "text/html": [
       "<div>\n",
       "<style scoped>\n",
       "    .dataframe tbody tr th:only-of-type {\n",
       "        vertical-align: middle;\n",
       "    }\n",
       "\n",
       "    .dataframe tbody tr th {\n",
       "        vertical-align: top;\n",
       "    }\n",
       "\n",
       "    .dataframe thead th {\n",
       "        text-align: right;\n",
       "    }\n",
       "</style>\n",
       "<table border=\"1\" class=\"dataframe\">\n",
       "  <thead>\n",
       "    <tr style=\"text-align: right;\">\n",
       "      <th></th>\n",
       "      <th>Location</th>\n",
       "      <th>Street</th>\n",
       "      <th>Direction</th>\n",
       "      <th>Saler</th>\n",
       "      <th>Type</th>\n",
       "      <th>Legal Doc</th>\n",
       "    </tr>\n",
       "  </thead>\n",
       "  <tbody>\n",
       "    <tr>\n",
       "      <th>missing_ratio</th>\n",
       "      <td>0</td>\n",
       "      <td>10.1075</td>\n",
       "      <td>81.6272</td>\n",
       "      <td>0</td>\n",
       "      <td>0</td>\n",
       "      <td>14.9373</td>\n",
       "    </tr>\n",
       "    <tr>\n",
       "      <th>nunique</th>\n",
       "      <td>300</td>\n",
       "      <td>8</td>\n",
       "      <td>37</td>\n",
       "      <td>8</td>\n",
       "      <td>194</td>\n",
       "      <td>15</td>\n",
       "    </tr>\n",
       "    <tr>\n",
       "      <th>top10_value_counts</th>\n",
       "      <td>{'Quận Hà Đông, Thành phố Hà Nội': 630, 'Quận Đống Đa, Thành phố Hà Nội': 562, 'Quận Thanh Xuân, Thành phố Hà Nội': 513, 'Quận Cầu Giấy, Thành phố Hà Nội': 434, 'Quận Hoàng Mai, Thành phố Hà Nội': 361, 'Quận Bắc Từ Liêm, Thành phố Hà Nội': 354, 'Quận Hai Bà Trưng, Thành phố Hà Nội': 304, 'Quận Long Biên, Thành phố Hà Nội': 292, 'Thành phố Vũng Tàu, Tỉnh Bà Rịa - Vũng Tàu': 272, 'Quận Tây Hồ, Thành phố Hà Nội': 267}</td>\n",
       "      <td>{'Mặt phố - Mặt đường': 3329, 'Ngõ ô tô đỗ cửa': 1497, 'Ngõ 2 ô tô tránh': 1455, 'Ngõ ngách': 1445, 'Ngõ 1 ô tô': 1062, 'Ngõ 3 ô tô tránh': 174, 'Ngõ 4 ô tô trở lên': 45, 'Ngõ 4 ô tô tránh': 20}</td>\n",
       "      <td>{'Đông Nam': 365, 'Đông Bắc': 234, 'Tây Nam': 224, 'Tây Bắc': 221, 'Nam': 179, 'Đông': 136, 'Bắc': 117, 'Đông Tứ Trạch': 108, 'Tây Tứ Trạch': 81, 'Tây': 75}</td>\n",
       "      <td>{'Nhà môi giới': 7754, 'Chính chủ': 1839, 'Khách vãng lai': 181, 'Sàn bất động sản': 105, 'Chủ đầu tư': 98, 'Quảng cáo': 37, 'Nhà đầu tư': 27, 'Ngân Hàng': 1}</td>\n",
       "      <td>{'Nhà ở': 4720, 'Đất - Đất nền - Nhà như đất': 2684, 'Chung cư': 815, 'Biệt thự - Song lập - Đơn lập': 276, 'Nhà liền kề - Song lập - Đơn lập': 181, 'Shophouse - Nhà phố': 125, 'Nhà cấp 4': 120, 'Chung cư mini': 102, 'Nhà ở, Nhà liền kề - Song lập - Đơn lập': 51, 'Nhà ở, Đất - Đất nền - Nhà như đất': 48}</td>\n",
       "      <td>{'Giấy CN QSDĐ - Sổ đỏ - Sổ hồng': 8050, 'Giấy CN QSDĐ - Sổ đỏ - Sổ hồng, Hợp đồng mua bán': 315, 'Hợp đồng mua bán': 145, 'Đang làm giấy CN QSDĐ': 6, 'Giấy CN QSDĐ - Sổ đỏ - Sổ hồng, Hợp đồng mua bán, Giấy tờ chứng minh nguồn gốc': 5, 'Đã có giấy hẹn lấy số': 5, 'Hợp đồng góp vốn': 4, 'Giấy CN QSDĐ - Sổ đỏ - Sổ hồng, Hợp đồng mua bán, Hợp đồng góp vốn': 3, 'Giấy CN QSDĐ - Sổ đỏ - Sổ hồng, Giấy tờ chứng minh nguồn gốc': 2, 'Đất giao - Đất phân': 2}</td>\n",
       "    </tr>\n",
       "  </tbody>\n",
       "</table>\n",
       "</div>"
      ],
      "text/plain": [
       "                                                                                                                                                                                                                                                                                                                                                                                                                                              Location  \\\n",
       "missing_ratio                                                                                                                                                                                                                                                                                                                                                                                                                                        0   \n",
       "nunique                                                                                                                                                                                                                                                                                                                                                                                                                                            300   \n",
       "top10_value_counts  {'Quận Hà Đông, Thành phố Hà Nội': 630, 'Quận Đống Đa, Thành phố Hà Nội': 562, 'Quận Thanh Xuân, Thành phố Hà Nội': 513, 'Quận Cầu Giấy, Thành phố Hà Nội': 434, 'Quận Hoàng Mai, Thành phố Hà Nội': 361, 'Quận Bắc Từ Liêm, Thành phố Hà Nội': 354, 'Quận Hai Bà Trưng, Thành phố Hà Nội': 304, 'Quận Long Biên, Thành phố Hà Nội': 292, 'Thành phố Vũng Tàu, Tỉnh Bà Rịa - Vũng Tàu': 272, 'Quận Tây Hồ, Thành phố Hà Nội': 267}   \n",
       "\n",
       "                                                                                                                                                                                                                Street  \\\n",
       "missing_ratio                                                                                                                                                                                                  10.1075   \n",
       "nunique                                                                                                                                                                                                              8   \n",
       "top10_value_counts  {'Mặt phố - Mặt đường': 3329, 'Ngõ ô tô đỗ cửa': 1497, 'Ngõ 2 ô tô tránh': 1455, 'Ngõ ngách': 1445, 'Ngõ 1 ô tô': 1062, 'Ngõ 3 ô tô tránh': 174, 'Ngõ 4 ô tô trở lên': 45, 'Ngõ 4 ô tô tránh': 20}   \n",
       "\n",
       "                                                                                                                                                                       Direction  \\\n",
       "missing_ratio                                                                                                                                                            81.6272   \n",
       "nunique                                                                                                                                                                       37   \n",
       "top10_value_counts  {'Đông Nam': 365, 'Đông Bắc': 234, 'Tây Nam': 224, 'Tây Bắc': 221, 'Nam': 179, 'Đông': 136, 'Bắc': 117, 'Đông Tứ Trạch': 108, 'Tây Tứ Trạch': 81, 'Tây': 75}   \n",
       "\n",
       "                                                                                                                                                                             Saler  \\\n",
       "missing_ratio                                                                                                                                                                    0   \n",
       "nunique                                                                                                                                                                          8   \n",
       "top10_value_counts  {'Nhà môi giới': 7754, 'Chính chủ': 1839, 'Khách vãng lai': 181, 'Sàn bất động sản': 105, 'Chủ đầu tư': 98, 'Quảng cáo': 37, 'Nhà đầu tư': 27, 'Ngân Hàng': 1}   \n",
       "\n",
       "                                                                                                                                                                                                                                                                                                                                 Type  \\\n",
       "missing_ratio                                                                                                                                                                                                                                                                                                                       0   \n",
       "nunique                                                                                                                                                                                                                                                                                                                           194   \n",
       "top10_value_counts  {'Nhà ở': 4720, 'Đất - Đất nền - Nhà như đất': 2684, 'Chung cư': 815, 'Biệt thự - Song lập - Đơn lập': 276, 'Nhà liền kề - Song lập - Đơn lập': 181, 'Shophouse - Nhà phố': 125, 'Nhà cấp 4': 120, 'Chung cư mini': 102, 'Nhà ở, Nhà liền kề - Song lập - Đơn lập': 51, 'Nhà ở, Đất - Đất nền - Nhà như đất': 48}   \n",
       "\n",
       "                                                                                                                                                                                                                                                                                                                                                                                                                                                                               Legal Doc  \n",
       "missing_ratio                                                                                                                                                                                                                                                                                                                                                                                                                                                                    14.9373  \n",
       "nunique                                                                                                                                                                                                                                                                                                                                                                                                                                                                               15  \n",
       "top10_value_counts  {'Giấy CN QSDĐ - Sổ đỏ - Sổ hồng': 8050, 'Giấy CN QSDĐ - Sổ đỏ - Sổ hồng, Hợp đồng mua bán': 315, 'Hợp đồng mua bán': 145, 'Đang làm giấy CN QSDĐ': 6, 'Giấy CN QSDĐ - Sổ đỏ - Sổ hồng, Hợp đồng mua bán, Giấy tờ chứng minh nguồn gốc': 5, 'Đã có giấy hẹn lấy số': 5, 'Hợp đồng góp vốn': 4, 'Giấy CN QSDĐ - Sổ đỏ - Sổ hồng, Hợp đồng mua bán, Hợp đồng góp vốn': 3, 'Giấy CN QSDĐ - Sổ đỏ - Sổ hồng, Giấy tờ chứng minh nguồn gốc': 2, 'Đất giao - Đất phân': 2}  "
      ]
     },
     "execution_count": 24,
     "metadata": {},
     "output_type": "execute_result"
    }
   ],
   "source": [
    "cat_col_df = new_data.select_dtypes(include='object')\n",
    "\n",
    "def missing_ratio(col):\n",
    "    return col.isna().mean()*100\n",
    "\n",
    "def top10_value_counts(col):\n",
    "    return dict(col.value_counts()[:10])\n",
    "\n",
    "category_stat = cat_col_df.agg([missing_ratio, pd.Series.nunique, top10_value_counts])\n",
    "pd.set_option('display.max_colwidth', 1000)\n",
    "category_stat"
   ]
  },
  {
   "cell_type": "code",
   "execution_count": 25,
   "metadata": {
    "colab": {
     "base_uri": "https://localhost:8080/",
     "height": 235
    },
    "id": "Mifp0XPpHUZl",
    "outputId": "32740541-36ce-4eaf-d8b8-59d57c4a57a7"
   },
   "outputs": [
    {
     "data": {
      "text/html": [
       "<div>\n",
       "<style scoped>\n",
       "    .dataframe tbody tr th:only-of-type {\n",
       "        vertical-align: middle;\n",
       "    }\n",
       "\n",
       "    .dataframe tbody tr th {\n",
       "        vertical-align: top;\n",
       "    }\n",
       "\n",
       "    .dataframe thead th {\n",
       "        text-align: right;\n",
       "    }\n",
       "</style>\n",
       "<table border=\"1\" class=\"dataframe\">\n",
       "  <thead>\n",
       "    <tr style=\"text-align: right;\">\n",
       "      <th></th>\n",
       "      <th>Price</th>\n",
       "      <th>Area</th>\n",
       "      <th>Facade</th>\n",
       "      <th>Floor</th>\n",
       "      <th>Bathrooms</th>\n",
       "      <th>Bedrooms</th>\n",
       "      <th>Price(million/m_square)</th>\n",
       "    </tr>\n",
       "  </thead>\n",
       "  <tbody>\n",
       "    <tr>\n",
       "      <th>missing_ratio</th>\n",
       "      <td>0.000000e+00</td>\n",
       "      <td>0.32862</td>\n",
       "      <td>46.056562</td>\n",
       "      <td>95.369448</td>\n",
       "      <td>80.113523</td>\n",
       "      <td>54.391555</td>\n",
       "      <td>3.286198e-01</td>\n",
       "    </tr>\n",
       "    <tr>\n",
       "      <th>min</th>\n",
       "      <td>1.000000e-03</td>\n",
       "      <td>1.20000</td>\n",
       "      <td>1.000000</td>\n",
       "      <td>1.000000</td>\n",
       "      <td>1.000000</td>\n",
       "      <td>1.000000</td>\n",
       "      <td>1.280000e-06</td>\n",
       "    </tr>\n",
       "    <tr>\n",
       "      <th>median</th>\n",
       "      <td>3.600000e+00</td>\n",
       "      <td>72.00000</td>\n",
       "      <td>5.000000</td>\n",
       "      <td>4.000000</td>\n",
       "      <td>3.000000</td>\n",
       "      <td>3.000000</td>\n",
       "      <td>6.650000e+01</td>\n",
       "    </tr>\n",
       "    <tr>\n",
       "      <th>lower_quantile</th>\n",
       "      <td>1.870000e+00</td>\n",
       "      <td>46.00000</td>\n",
       "      <td>4.000000</td>\n",
       "      <td>3.000000</td>\n",
       "      <td>2.000000</td>\n",
       "      <td>2.000000</td>\n",
       "      <td>1.900000e+01</td>\n",
       "    </tr>\n",
       "    <tr>\n",
       "      <th>upper_quantile</th>\n",
       "      <td>6.500000e+00</td>\n",
       "      <td>118.00000</td>\n",
       "      <td>6.000000</td>\n",
       "      <td>5.000000</td>\n",
       "      <td>4.000000</td>\n",
       "      <td>4.000000</td>\n",
       "      <td>1.095200e+02</td>\n",
       "    </tr>\n",
       "    <tr>\n",
       "      <th>max</th>\n",
       "      <td>3.750000e+09</td>\n",
       "      <td>500000.00000</td>\n",
       "      <td>613.000000</td>\n",
       "      <td>50.000000</td>\n",
       "      <td>50.000000</td>\n",
       "      <td>111.000000</td>\n",
       "      <td>3.937500e+08</td>\n",
       "    </tr>\n",
       "  </tbody>\n",
       "</table>\n",
       "</div>"
      ],
      "text/plain": [
       "                       Price          Area      Facade      Floor  Bathrooms  \\\n",
       "missing_ratio   0.000000e+00       0.32862   46.056562  95.369448  80.113523   \n",
       "min             1.000000e-03       1.20000    1.000000   1.000000   1.000000   \n",
       "median          3.600000e+00      72.00000    5.000000   4.000000   3.000000   \n",
       "lower_quantile  1.870000e+00      46.00000    4.000000   3.000000   2.000000   \n",
       "upper_quantile  6.500000e+00     118.00000    6.000000   5.000000   4.000000   \n",
       "max             3.750000e+09  500000.00000  613.000000  50.000000  50.000000   \n",
       "\n",
       "                  Bedrooms  Price(million/m_square)  \n",
       "missing_ratio    54.391555             3.286198e-01  \n",
       "min               1.000000             1.280000e-06  \n",
       "median            3.000000             6.650000e+01  \n",
       "lower_quantile    2.000000             1.900000e+01  \n",
       "upper_quantile    4.000000             1.095200e+02  \n",
       "max             111.000000             3.937500e+08  "
      ]
     },
     "execution_count": 25,
     "metadata": {},
     "output_type": "execute_result"
    }
   ],
   "source": [
    "numeric_cols_df = new_data.select_dtypes(exclude='object')\n",
    "\n",
    "def median(col):\n",
    "    return col.quantile(0.5)\n",
    "\n",
    "def lower_quantile(col):\n",
    "    return col.quantile(0.25)\n",
    "\n",
    "def upper_quantile(col):\n",
    "    return col.quantile(0.75)\n",
    "\n",
    "numeric_cols_df.agg([missing_ratio, min, median, lower_quantile, upper_quantile,max])"
   ]
  },
  {
   "cell_type": "code",
   "execution_count": 26,
   "metadata": {
    "id": "fQnEs_TdHUZm"
   },
   "outputs": [],
   "source": [
    "# new_data.drop(new_data.index[new_data['Price'] == 3.750000e+09], inplace = True)"
   ]
  },
  {
   "cell_type": "code",
   "execution_count": 27,
   "metadata": {
    "colab": {
     "base_uri": "https://localhost:8080/"
    },
    "id": "pxTrRb08HUZm",
    "outputId": "2d26773f-b9bb-4960-fb18-ca73c5da9574"
   },
   "outputs": [
    {
     "data": {
      "text/plain": [
       "(10042, 13)"
      ]
     },
     "execution_count": 27,
     "metadata": {},
     "output_type": "execute_result"
    }
   ],
   "source": [
    "new_data.shape"
   ]
  },
  {
   "cell_type": "code",
   "execution_count": 28,
   "metadata": {
    "colab": {
     "base_uri": "https://localhost:8080/"
    },
    "id": "H_GAAba5HUZm",
    "outputId": "f0d3c9d3-c2ae-4a2b-b6bd-cc167dc10547"
   },
   "outputs": [
    {
     "name": "stdout",
     "output_type": "stream",
     "text": [
      "<class 'pandas.core.frame.DataFrame'>\n",
      "Int64Index: 10042 entries, 0 to 11940\n",
      "Data columns (total 13 columns):\n",
      " #   Column                   Non-Null Count  Dtype  \n",
      "---  ------                   --------------  -----  \n",
      " 0   Price                    10042 non-null  float64\n",
      " 1   Location                 10042 non-null  object \n",
      " 2   Area                     10009 non-null  float64\n",
      " 3   Street                   9027 non-null   object \n",
      " 4   Facade                   5417 non-null   float64\n",
      " 5   Direction                1845 non-null   object \n",
      " 6   Saler                    10042 non-null  object \n",
      " 7   Type                     10042 non-null  object \n",
      " 8   Floor                    465 non-null    float64\n",
      " 9   Bathrooms                1997 non-null   float64\n",
      " 10  Bedrooms                 4580 non-null   float64\n",
      " 11  Legal Doc                8542 non-null   object \n",
      " 12  Price(million/m_square)  10009 non-null  float64\n",
      "dtypes: float64(7), object(6)\n",
      "memory usage: 1.1+ MB\n"
     ]
    }
   ],
   "source": [
    "new_data.info()"
   ]
  },
  {
   "cell_type": "code",
   "execution_count": 29,
   "metadata": {
    "colab": {
     "base_uri": "https://localhost:8080/",
     "height": 480
    },
    "id": "3lyRjo0kHUZm",
    "outputId": "b5cf44c8-f1ac-40f2-ab48-c353633c9717"
   },
   "outputs": [
    {
     "data": {
      "image/png": "[encoded data removed]",
      "text/plain": [
       "<Figure size 1152x504 with 2 Axes>"
      ]
     },
     "metadata": {
      "needs_background": "light"
     },
     "output_type": "display_data"
    }
   ],
   "source": [
    "fig, ax = plt.subplots(1,2,figsize=(16,7))\n",
    "sns.barplot(x=new_data['Street'].dropna().unique(),y =new_data['Street'].value_counts(), ax=ax[0])\n",
    "ax[0].set_xticklabels(ax[0].get_xticklabels(),rotation=30)\n",
    "sns.barplot(x=new_data['Saler'].dropna().unique(),y =new_data['Saler'].value_counts(), ax=ax[1])\n",
    "ax[1].set_xticklabels(ax[1].get_xticklabels(),rotation=30)\n",
    "plt.show()"
   ]
  },
  {
   "cell_type": "code",
   "execution_count": 30,
   "metadata": {
    "colab": {
     "base_uri": "https://localhost:8080/"
    },
    "id": "zzLqyUAIHUZn",
    "outputId": "7d8cd84e-76da-4fe5-d71d-a9370bcbed48"
   },
   "outputs": [
    {
     "data": {
      "text/plain": [
       "Mặt phố - Mặt đường    3329\n",
       "Ngõ ô tô đỗ cửa        1497\n",
       "Ngõ 2 ô tô tránh       1455\n",
       "Ngõ ngách              1445\n",
       "Ngõ 1 ô tô             1062\n",
       "Ngõ 3 ô tô tránh        174\n",
       "Ngõ 4 ô tô trở lên       45\n",
       "Ngõ 4 ô tô tránh         20\n",
       "Name: Street, dtype: int64"
      ]
     },
     "execution_count": 30,
     "metadata": {},
     "output_type": "execute_result"
    }
   ],
   "source": [
    "new_data['Street'].value_counts()"
   ]
  },
  {
   "cell_type": "code",
   "execution_count": 31,
   "metadata": {
    "id": "SgoHM7L2HUZn"
   },
   "outputs": [],
   "source": [
    "# dict(new_data['Type'].value_counts())"
   ]
  },
  {
   "cell_type": "code",
   "execution_count": 32,
   "metadata": {
    "id": "62eyZ2T1HUZn"
   },
   "outputs": [],
   "source": [
    "new_data.Type.replace(['Chung cư, Chung cư mini', 'Chung cư, Chung cư mini', 'Biệt thự - Song lập - Đơn lập','Biệt thự du lịch','Nhà cấp 4'],\\\n",
    "                        ['Chung cư mini','Chung cư mini', 'Biệt thự','Biệt thự','Nhà ở' ],inplace=True)"
   ]
  },
  {
   "cell_type": "code",
   "execution_count": 33,
   "metadata": {
    "id": "9Na_6dBKHUZn"
   },
   "outputs": [],
   "source": [
    "list_type = list(new_data['Type'])\n",
    "for i in range(len(list_type)):\n",
    "    list_type[i] = list_type[i].split(',')[0]"
   ]
  },
  {
   "cell_type": "code",
   "execution_count": 34,
   "metadata": {
    "id": "lPtdguEAHUZn"
   },
   "outputs": [],
   "source": [
    "new_data['Type'] = list_type"
   ]
  },
  {
   "cell_type": "code",
   "execution_count": 35,
   "metadata": {
    "colab": {
     "base_uri": "https://localhost:8080/"
    },
    "id": "TDW8j2CrHUZn",
    "outputId": "c8f0c5c4-a5b7-4bf8-c2fe-508a5457cd95"
   },
   "outputs": [
    {
     "data": {
      "text/plain": [
       "25"
      ]
     },
     "execution_count": 35,
     "metadata": {},
     "output_type": "execute_result"
    }
   ],
   "source": [
    "len(new_data['Type'].value_counts())"
   ]
  },
  {
   "cell_type": "code",
   "execution_count": 36,
   "metadata": {
    "colab": {
     "base_uri": "https://localhost:8080/"
    },
    "id": "hdOWcMXSHUZo",
    "outputId": "3a22e6ef-c7f4-4f31-88b5-c25c250296a4"
   },
   "outputs": [
    {
     "data": {
      "text/plain": [
       "{'Nhà ở': 5264,\n",
       " 'Đất - Đất nền - Nhà như đất': 2786,\n",
       " 'Chung cư': 857,\n",
       " 'Biệt thự': 276,\n",
       " 'Nhà liền kề - Song lập - Đơn lập': 191,\n",
       " 'Chung cư mini': 155,\n",
       " 'Shophouse - Nhà phố': 137,\n",
       " 'Biệt thự - Song lập - Đơn lập': 83,\n",
       " 'Nhà cấp 4': 71,\n",
       " 'Khách sạn - Nhà nghỉ': 34,\n",
       " 'Bất động sản khác': 33,\n",
       " 'Phòng trọ/ Nhà trọ': 29,\n",
       " 'Dự án BĐS - Khu nghỉ dưỡng - Resort': 23,\n",
       " 'Mặt bằng thương mại': 21,\n",
       " 'Toà nhà văn phòng': 18,\n",
       " 'Căn hộ du lịch - Condotel': 14,\n",
       " 'Kho bãi - Nhà xưởng': 10,\n",
       " 'Tập thể': 9,\n",
       " 'Căn hộ cho thuê': 9,\n",
       " 'Nhà hàng - Cửa hàng - Ki ốt': 6,\n",
       " 'Căn hộ dịch vụ - Homestay': 5,\n",
       " 'Trang trại': 5,\n",
       " 'Biệt thự du lịch': 3,\n",
       " 'Sàn văn phòng': 2,\n",
       " 'Karaoke': 1}"
      ]
     },
     "execution_count": 36,
     "metadata": {},
     "output_type": "execute_result"
    }
   ],
   "source": [
    "dict(new_data['Type'].value_counts())"
   ]
  },
  {
   "cell_type": "code",
   "execution_count": 37,
   "metadata": {
    "colab": {
     "base_uri": "https://localhost:8080/",
     "height": 589
    },
    "id": "PwAEjdjPHUZo",
    "outputId": "1cc86002-28b4-47c5-da02-017a2c948114"
   },
   "outputs": [
    {
     "data": {
      "text/html": [
       "<div>\n",
       "<style scoped>\n",
       "    .dataframe tbody tr th:only-of-type {\n",
       "        vertical-align: middle;\n",
       "    }\n",
       "\n",
       "    .dataframe tbody tr th {\n",
       "        vertical-align: top;\n",
       "    }\n",
       "\n",
       "    .dataframe thead th {\n",
       "        text-align: right;\n",
       "    }\n",
       "</style>\n",
       "<table border=\"1\" class=\"dataframe\">\n",
       "  <thead>\n",
       "    <tr style=\"text-align: right;\">\n",
       "      <th></th>\n",
       "      <th>Price</th>\n",
       "      <th>Location</th>\n",
       "      <th>Area</th>\n",
       "      <th>Street</th>\n",
       "      <th>Facade</th>\n",
       "      <th>Direction</th>\n",
       "      <th>Saler</th>\n",
       "      <th>Type</th>\n",
       "      <th>Floor</th>\n",
       "      <th>Bathrooms</th>\n",
       "      <th>Bedrooms</th>\n",
       "      <th>Legal Doc</th>\n",
       "      <th>Price(million/m_square)</th>\n",
       "    </tr>\n",
       "  </thead>\n",
       "  <tbody>\n",
       "    <tr>\n",
       "      <th>182</th>\n",
       "      <td>31.000</td>\n",
       "      <td>Quận Tây Hồ, Thành phố Hà Nội</td>\n",
       "      <td>140.0</td>\n",
       "      <td>Mặt phố - Mặt đường</td>\n",
       "      <td>NaN</td>\n",
       "      <td>NaN</td>\n",
       "      <td>Nhà môi giới</td>\n",
       "      <td>Biệt thự - Song lập - Đơn lập</td>\n",
       "      <td>NaN</td>\n",
       "      <td>NaN</td>\n",
       "      <td>NaN</td>\n",
       "      <td>Giấy CN QSDĐ - Sổ đỏ - Sổ hồng</td>\n",
       "      <td>221.43</td>\n",
       "    </tr>\n",
       "    <tr>\n",
       "      <th>297</th>\n",
       "      <td>11.600</td>\n",
       "      <td>Huyện Đông Anh, Thành phố Hà Nội</td>\n",
       "      <td>108.0</td>\n",
       "      <td>Mặt phố - Mặt đường</td>\n",
       "      <td>NaN</td>\n",
       "      <td>NaN</td>\n",
       "      <td>Nhà môi giới</td>\n",
       "      <td>Biệt thự - Song lập - Đơn lập</td>\n",
       "      <td>NaN</td>\n",
       "      <td>NaN</td>\n",
       "      <td>NaN</td>\n",
       "      <td>Giấy CN QSDĐ - Sổ đỏ - Sổ hồng</td>\n",
       "      <td>107.41</td>\n",
       "    </tr>\n",
       "    <tr>\n",
       "      <th>357</th>\n",
       "      <td>2.400</td>\n",
       "      <td>Thành phố Bến Tre, Tỉnh Bến Tre</td>\n",
       "      <td>90.0</td>\n",
       "      <td>Mặt phố - Mặt đường</td>\n",
       "      <td>4.5</td>\n",
       "      <td>NaN</td>\n",
       "      <td>Nhà môi giới</td>\n",
       "      <td>Biệt thự - Song lập - Đơn lập</td>\n",
       "      <td>NaN</td>\n",
       "      <td>NaN</td>\n",
       "      <td>NaN</td>\n",
       "      <td>Giấy CN QSDĐ - Sổ đỏ - Sổ hồng</td>\n",
       "      <td>26.67</td>\n",
       "    </tr>\n",
       "    <tr>\n",
       "      <th>363</th>\n",
       "      <td>0.724</td>\n",
       "      <td>Thành phố Bến Tre, Tỉnh Bến Tre</td>\n",
       "      <td>50.0</td>\n",
       "      <td>Mặt phố - Mặt đường</td>\n",
       "      <td>NaN</td>\n",
       "      <td>NaN</td>\n",
       "      <td>Nhà môi giới</td>\n",
       "      <td>Biệt thự - Song lập - Đơn lập</td>\n",
       "      <td>NaN</td>\n",
       "      <td>NaN</td>\n",
       "      <td>2.0</td>\n",
       "      <td>Giấy CN QSDĐ - Sổ đỏ - Sổ hồng</td>\n",
       "      <td>14.48</td>\n",
       "    </tr>\n",
       "    <tr>\n",
       "      <th>399</th>\n",
       "      <td>4.200</td>\n",
       "      <td>Huyện Hoài Đức, Thành phố Hà Nội</td>\n",
       "      <td>100.0</td>\n",
       "      <td>Ngõ 2 ô tô tránh</td>\n",
       "      <td>NaN</td>\n",
       "      <td>NaN</td>\n",
       "      <td>Nhà môi giới</td>\n",
       "      <td>Biệt thự - Song lập - Đơn lập</td>\n",
       "      <td>NaN</td>\n",
       "      <td>NaN</td>\n",
       "      <td>NaN</td>\n",
       "      <td>Giấy CN QSDĐ - Sổ đỏ - Sổ hồng</td>\n",
       "      <td>42.00</td>\n",
       "    </tr>\n",
       "    <tr>\n",
       "      <th>...</th>\n",
       "      <td>...</td>\n",
       "      <td>...</td>\n",
       "      <td>...</td>\n",
       "      <td>...</td>\n",
       "      <td>...</td>\n",
       "      <td>...</td>\n",
       "      <td>...</td>\n",
       "      <td>...</td>\n",
       "      <td>...</td>\n",
       "      <td>...</td>\n",
       "      <td>...</td>\n",
       "      <td>...</td>\n",
       "      <td>...</td>\n",
       "    </tr>\n",
       "    <tr>\n",
       "      <th>11090</th>\n",
       "      <td>6.800</td>\n",
       "      <td>Quận Đống Đa, Thành phố Hà Nội</td>\n",
       "      <td>80.0</td>\n",
       "      <td>Ngõ ngách</td>\n",
       "      <td>4.0</td>\n",
       "      <td>Đông Bắc</td>\n",
       "      <td>Nhà môi giới</td>\n",
       "      <td>Biệt thự - Song lập - Đơn lập</td>\n",
       "      <td>NaN</td>\n",
       "      <td>3.0</td>\n",
       "      <td>4.0</td>\n",
       "      <td>Giấy CN QSDĐ - Sổ đỏ - Sổ hồng</td>\n",
       "      <td>85.00</td>\n",
       "    </tr>\n",
       "    <tr>\n",
       "      <th>11230</th>\n",
       "      <td>3.500</td>\n",
       "      <td>Thành phố Sóc Trăng, Tỉnh Sóc Trăng</td>\n",
       "      <td>270.0</td>\n",
       "      <td>Mặt phố - Mặt đường</td>\n",
       "      <td>NaN</td>\n",
       "      <td>NaN</td>\n",
       "      <td>Nhà môi giới</td>\n",
       "      <td>Biệt thự - Song lập - Đơn lập</td>\n",
       "      <td>NaN</td>\n",
       "      <td>NaN</td>\n",
       "      <td>NaN</td>\n",
       "      <td>Giấy CN QSDĐ - Sổ đỏ - Sổ hồng</td>\n",
       "      <td>12.96</td>\n",
       "    </tr>\n",
       "    <tr>\n",
       "      <th>11253</th>\n",
       "      <td>28.000</td>\n",
       "      <td>Quận Thanh Xuân, Thành phố Hà Nội</td>\n",
       "      <td>157.0</td>\n",
       "      <td>Ngõ 3 ô tô tránh</td>\n",
       "      <td>NaN</td>\n",
       "      <td>NaN</td>\n",
       "      <td>Nhà môi giới</td>\n",
       "      <td>Biệt thự - Song lập - Đơn lập</td>\n",
       "      <td>NaN</td>\n",
       "      <td>8.0</td>\n",
       "      <td>6.0</td>\n",
       "      <td>Giấy CN QSDĐ - Sổ đỏ - Sổ hồng</td>\n",
       "      <td>178.34</td>\n",
       "    </tr>\n",
       "    <tr>\n",
       "      <th>11293</th>\n",
       "      <td>3.500</td>\n",
       "      <td>Thị xã Thái Hòa, Tỉnh Nghệ An</td>\n",
       "      <td>138.0</td>\n",
       "      <td>Ngõ 2 ô tô tránh</td>\n",
       "      <td>NaN</td>\n",
       "      <td>NaN</td>\n",
       "      <td>Chính chủ</td>\n",
       "      <td>Biệt thự - Song lập - Đơn lập</td>\n",
       "      <td>NaN</td>\n",
       "      <td>NaN</td>\n",
       "      <td>NaN</td>\n",
       "      <td>NaN</td>\n",
       "      <td>25.36</td>\n",
       "    </tr>\n",
       "    <tr>\n",
       "      <th>11401</th>\n",
       "      <td>8.000</td>\n",
       "      <td>Thành phố Vinh, Tỉnh Nghệ An</td>\n",
       "      <td>240.0</td>\n",
       "      <td>Mặt phố - Mặt đường</td>\n",
       "      <td>14.0</td>\n",
       "      <td>Đông Tứ Trạch, Tây Tứ Trạch</td>\n",
       "      <td>Chủ đầu tư</td>\n",
       "      <td>Biệt thự - Song lập - Đơn lập</td>\n",
       "      <td>NaN</td>\n",
       "      <td>NaN</td>\n",
       "      <td>4.0</td>\n",
       "      <td>Giấy CN QSDĐ - Sổ đỏ - Sổ hồng, Hợp đồng mua bán</td>\n",
       "      <td>33.33</td>\n",
       "    </tr>\n",
       "  </tbody>\n",
       "</table>\n",
       "<p>83 rows × 13 columns</p>\n",
       "</div>"
      ],
      "text/plain": [
       "        Price                             Location   Area  \\\n",
       "182    31.000        Quận Tây Hồ, Thành phố Hà Nội  140.0   \n",
       "297    11.600     Huyện Đông Anh, Thành phố Hà Nội  108.0   \n",
       "357     2.400      Thành phố Bến Tre, Tỉnh Bến Tre   90.0   \n",
       "363     0.724      Thành phố Bến Tre, Tỉnh Bến Tre   50.0   \n",
       "399     4.200     Huyện Hoài Đức, Thành phố Hà Nội  100.0   \n",
       "...       ...                                  ...    ...   \n",
       "11090   6.800       Quận Đống Đa, Thành phố Hà Nội   80.0   \n",
       "11230   3.500  Thành phố Sóc Trăng, Tỉnh Sóc Trăng  270.0   \n",
       "11253  28.000    Quận Thanh Xuân, Thành phố Hà Nội  157.0   \n",
       "11293   3.500        Thị xã Thái Hòa, Tỉnh Nghệ An  138.0   \n",
       "11401   8.000         Thành phố Vinh, Tỉnh Nghệ An  240.0   \n",
       "\n",
       "                    Street  Facade                    Direction         Saler  \\\n",
       "182    Mặt phố - Mặt đường     NaN                          NaN  Nhà môi giới   \n",
       "297    Mặt phố - Mặt đường     NaN                          NaN  Nhà môi giới   \n",
       "357    Mặt phố - Mặt đường     4.5                          NaN  Nhà môi giới   \n",
       "363    Mặt phố - Mặt đường     NaN                          NaN  Nhà môi giới   \n",
       "399       Ngõ 2 ô tô tránh     NaN                          NaN  Nhà môi giới   \n",
       "...                    ...     ...                          ...           ...   \n",
       "11090            Ngõ ngách     4.0                     Đông Bắc  Nhà môi giới   \n",
       "11230  Mặt phố - Mặt đường     NaN                          NaN  Nhà môi giới   \n",
       "11253     Ngõ 3 ô tô tránh     NaN                          NaN  Nhà môi giới   \n",
       "11293     Ngõ 2 ô tô tránh     NaN                          NaN     Chính chủ   \n",
       "11401  Mặt phố - Mặt đường    14.0  Đông Tứ Trạch, Tây Tứ Trạch    Chủ đầu tư   \n",
       "\n",
       "                                Type  Floor  Bathrooms  Bedrooms  \\\n",
       "182    Biệt thự - Song lập - Đơn lập    NaN        NaN       NaN   \n",
       "297    Biệt thự - Song lập - Đơn lập    NaN        NaN       NaN   \n",
       "357    Biệt thự - Song lập - Đơn lập    NaN        NaN       NaN   \n",
       "363    Biệt thự - Song lập - Đơn lập    NaN        NaN       2.0   \n",
       "399    Biệt thự - Song lập - Đơn lập    NaN        NaN       NaN   \n",
       "...                              ...    ...        ...       ...   \n",
       "11090  Biệt thự - Song lập - Đơn lập    NaN        3.0       4.0   \n",
       "11230  Biệt thự - Song lập - Đơn lập    NaN        NaN       NaN   \n",
       "11253  Biệt thự - Song lập - Đơn lập    NaN        8.0       6.0   \n",
       "11293  Biệt thự - Song lập - Đơn lập    NaN        NaN       NaN   \n",
       "11401  Biệt thự - Song lập - Đơn lập    NaN        NaN       4.0   \n",
       "\n",
       "                                              Legal Doc  \\\n",
       "182                      Giấy CN QSDĐ - Sổ đỏ - Sổ hồng   \n",
       "297                      Giấy CN QSDĐ - Sổ đỏ - Sổ hồng   \n",
       "357                      Giấy CN QSDĐ - Sổ đỏ - Sổ hồng   \n",
       "363                      Giấy CN QSDĐ - Sổ đỏ - Sổ hồng   \n",
       "399                      Giấy CN QSDĐ - Sổ đỏ - Sổ hồng   \n",
       "...                                                 ...   \n",
       "11090                    Giấy CN QSDĐ - Sổ đỏ - Sổ hồng   \n",
       "11230                    Giấy CN QSDĐ - Sổ đỏ - Sổ hồng   \n",
       "11253                    Giấy CN QSDĐ - Sổ đỏ - Sổ hồng   \n",
       "11293                                               NaN   \n",
       "11401  Giấy CN QSDĐ - Sổ đỏ - Sổ hồng, Hợp đồng mua bán   \n",
       "\n",
       "       Price(million/m_square)  \n",
       "182                     221.43  \n",
       "297                     107.41  \n",
       "357                      26.67  \n",
       "363                      14.48  \n",
       "399                      42.00  \n",
       "...                        ...  \n",
       "11090                    85.00  \n",
       "11230                    12.96  \n",
       "11253                   178.34  \n",
       "11293                    25.36  \n",
       "11401                    33.33  \n",
       "\n",
       "[83 rows x 13 columns]"
      ]
     },
     "execution_count": 37,
     "metadata": {},
     "output_type": "execute_result"
    }
   ],
   "source": [
    "new_data[new_data['Type']=='Biệt thự - Song lập - Đơn lập']"
   ]
  },
  {
   "cell_type": "markdown",
   "metadata": {
    "id": "3Tgko16gHUZo"
   },
   "source": [
    "1 - Chung cư thường phân bổ ở những tỉnh thành nào? giải thích? <br>\n",
    "2 - Các chung cư có nhiều phòng ngủ sẽ có giá cao hơn đúng không? <br>\n",
    "3 - Diện tích các căn chung cư 1 phòng ngủ thường dưới 50 mét vuông đúng không? <br>\n",
    "4 - Nhà ở TP Hồ Chí Minh được bán nhiều hơn bởi Nhà môi giới hay chính chủ hay thông qua sàn giao dịch?<br>\n",
    "5 - Giá chung cư chưa có giấy tờ sẽ thấp hơn chung cư dã có giấy tờ?<br>\n",
    "6 - Nhà được bán bởi chính chú thường có giá thấp hơn nhà bán bởi nhà môi giới?<br>\n",
    "7 - Tại sao số bất động sản ở TP Hồ Chí Minh/Hà Nội lại nhiều hơn các tỉnh khác?<br>\n",
    "8 - Đất nền hay chugn cư có giá cao hơn?<br>\n",
    "9 - Những hơi nhiều đất nền thì ít chung cư và ngược lại đúng không ? Giải thích?<br>\n",
    "10 - Diện tích nhà ở trung bình của TP HCM nhỏ hơn Hà Nội đúng không?<br>\n",
    "11 - Phần lớn BĐS rao bán ở các TP?<br>\n",
    "12 - Giá trung bình biệt thự là bao nhiêu?<br>\n",
    "13 - Biệt thự thường tập trung ở các khu vực nào? Tại sao?<br>\n",
    "14 - Nhà ở ở đường lớn có giá cao hơn nhà ở trong ngõ?<br>\n",
    "15 - Nhà ở mặt phố thường có diện tích lớn hơn nhà ở trong ngõ?<br>\n",
    "16 - Nhà có nhiều phòng ngủ sẽ có nhiều nhà vệ sinh?<br>\n",
    "17 - Tại sao các tỉnh thành xung quanh TPHCM/HN thường bán nhà hoặc đất nền ? Giải thích?<br>\n",
    "18 - Tỉ lệ thành phần các loại bất động sản ở HCM, HN, ĐN<br>\n",
    "19 - Mỗi loại bất động sản ở quận 10, tphcm có giá trị tầm bn??<br>\n",
    "20 - Giá trị trung bình chung cư 2 phòng ngủ giữa các quận ở HCM<br>\n",
    "21 - Nơi nào ở hcm có nhu cầu giao dịch bất động sản nhiều nhất? lí giải<br>\n",
    "22 - Mặt tiền ở thành phố bảo lộc (có thể dùng để mở cửa hàng) có giá trị bn?<br>\n",
    "23 - Bạn có khoảng 5 tỷ ở SG, và bạn quyết tâm về quê chăn gà, và bạn quyết tâm về tây nguyên start up, nên mua đất nền ở đâu<br>"
   ]
  },
  {
   "cell_type": "markdown",
   "metadata": {
    "id": "RLGmkeGZbdKD"
   },
   "source": [
    "# Trả  lời một số câu hỏi bằng trực quan hóa"
   ]
  },
  {
   "cell_type": "markdown",
   "metadata": {
    "id": "kFb0q43DbV99"
   },
   "source": [
    " ### Tỉ lệ thành phần các loại bất động sản ở HCM, HN, ĐN"
   ]
  },
  {
   "cell_type": "code",
   "execution_count": 38,
   "metadata": {
    "id": "k_-nz_WmHUZp"
   },
   "outputs": [],
   "source": [
    "hn_df = new_data.loc[(new_data['Location'].str.contains('Hà Nội'))]\n",
    "replace_type = hn_df['Type'].value_counts().keys()[6:]\n",
    "\n",
    "for val in replace_type:\n",
    "    hn_df.loc[hn_df['Type'] == val, :] = 'Bất động sản khác'"
   ]
  },
  {
   "cell_type": "code",
   "execution_count": 39,
   "metadata": {
    "id": "B2rUJ_pcIp_O"
   },
   "outputs": [],
   "source": [
    "dn_df = new_data.loc[(new_data['Location'].str.contains('Đà Nẵng'))]\n",
    "replace_type = dn_df['Type'].value_counts().keys()[6:]\n",
    "\n",
    "for val in replace_type:\n",
    "    dn_df.loc[dn_df['Type'] == val, :] = 'Bất động sản khác'"
   ]
  },
  {
   "cell_type": "code",
   "execution_count": 40,
   "metadata": {
    "id": "Q7QGlIwXKqA_"
   },
   "outputs": [],
   "source": [
    "hcm_df = new_data.loc[(new_data['Location'].str.contains('Hồ Chí Minh'))]\n",
    "replace_type = hcm_df['Type'].value_counts().keys()[6:]\n",
    "\n",
    "for val in replace_type:\n",
    "    hcm_df.loc[hcm_df['Type'] == val, :] = 'Bất động sản khác'"
   ]
  },
  {
   "cell_type": "code",
   "execution_count": 41,
   "metadata": {
    "colab": {
     "base_uri": "https://localhost:8080/",
     "height": 650
    },
    "id": "jy46xEbvO326",
    "outputId": "d5cf95ae-d46f-42d8-cc39-ad8dbff157bb"
   },
   "outputs": [],
   "source": [
    "# fig, axs = plt.subplots(1,3, figsize=(30,10))\n",
    "# explode = (0.1, 0.05, 0.05, 0.05, 0.05, 0.05, 0.05)\n",
    "# labels = pd.Series(hn_df['Type'].unique() + hcm_df['Type'].unique()+ dn_df['Type'].unique()).unique()\n",
    "\n",
    "# hn_df['Type'].value_counts().plot.pie(labels=None, autopct='%1.2f%%', ax=axs[0], explode=explode, title='Hà Nội', ylabel='')\n",
    "# dn_df['Type'].value_counts().plot.pie(labels=None, autopct='%1.2f%%', ax=axs[1], explode=explode, title='Đà Nẵng', ylabel='')\n",
    "# hcm_df['Type'].value_counts().plot.pie(labels=None, autopct='%1.2f%%', ax=axs[2], explode=explode, title='Hồ Chí Minh', ylabel='')\n",
    "# fig.legend(labels)\n",
    "# fig.suptitle(\"Tỉ lệ bất động sản ở một số thành phố lớn\")\n",
    "# plt.show()"
   ]
  },
  {
   "cell_type": "markdown",
   "metadata": {
    "id": "i8I9MS1Jb3v7"
   },
   "source": [
    "## Nhà có nhiều phòng ngủ sẽ có nhiều nhà tắm?"
   ]
  },
  {
   "cell_type": "code",
   "execution_count": 42,
   "metadata": {
    "colab": {
     "base_uri": "https://localhost:8080/",
     "height": 419
    },
    "id": "57G6C4yUYnGz",
    "outputId": "9c650344-12e6-4224-ea42-dbd422de9cdf"
   },
   "outputs": [
    {
     "data": {
      "text/html": [
       "<div>\n",
       "<style scoped>\n",
       "    .dataframe tbody tr th:only-of-type {\n",
       "        vertical-align: middle;\n",
       "    }\n",
       "\n",
       "    .dataframe tbody tr th {\n",
       "        vertical-align: top;\n",
       "    }\n",
       "\n",
       "    .dataframe thead th {\n",
       "        text-align: right;\n",
       "    }\n",
       "</style>\n",
       "<table border=\"1\" class=\"dataframe\">\n",
       "  <thead>\n",
       "    <tr style=\"text-align: right;\">\n",
       "      <th></th>\n",
       "      <th>Bathrooms</th>\n",
       "      <th>Bedrooms</th>\n",
       "      <th>Price(million/m_square)</th>\n",
       "    </tr>\n",
       "  </thead>\n",
       "  <tbody>\n",
       "    <tr>\n",
       "      <th>0</th>\n",
       "      <td>3.519313</td>\n",
       "      <td>2.000000</td>\n",
       "      <td>52.78</td>\n",
       "    </tr>\n",
       "    <tr>\n",
       "      <th>3</th>\n",
       "      <td>3.519313</td>\n",
       "      <td>3.990705</td>\n",
       "      <td>14.00</td>\n",
       "    </tr>\n",
       "    <tr>\n",
       "      <th>6</th>\n",
       "      <td>3.519313</td>\n",
       "      <td>3.990705</td>\n",
       "      <td>37.25</td>\n",
       "    </tr>\n",
       "    <tr>\n",
       "      <th>9</th>\n",
       "      <td>3.519313</td>\n",
       "      <td>3.990705</td>\n",
       "      <td>11.79</td>\n",
       "    </tr>\n",
       "    <tr>\n",
       "      <th>10</th>\n",
       "      <td>4.000000</td>\n",
       "      <td>3.000000</td>\n",
       "      <td>86.67</td>\n",
       "    </tr>\n",
       "    <tr>\n",
       "      <th>...</th>\n",
       "      <td>...</td>\n",
       "      <td>...</td>\n",
       "      <td>...</td>\n",
       "    </tr>\n",
       "    <tr>\n",
       "      <th>11934</th>\n",
       "      <td>3.000000</td>\n",
       "      <td>2.000000</td>\n",
       "      <td>99.09</td>\n",
       "    </tr>\n",
       "    <tr>\n",
       "      <th>11935</th>\n",
       "      <td>3.519313</td>\n",
       "      <td>3.000000</td>\n",
       "      <td>47.67</td>\n",
       "    </tr>\n",
       "    <tr>\n",
       "      <th>11936</th>\n",
       "      <td>2.000000</td>\n",
       "      <td>2.000000</td>\n",
       "      <td>52.33</td>\n",
       "    </tr>\n",
       "    <tr>\n",
       "      <th>11937</th>\n",
       "      <td>3.519313</td>\n",
       "      <td>3.990705</td>\n",
       "      <td>33.33</td>\n",
       "    </tr>\n",
       "    <tr>\n",
       "      <th>11940</th>\n",
       "      <td>3.000000</td>\n",
       "      <td>4.000000</td>\n",
       "      <td>184.78</td>\n",
       "    </tr>\n",
       "  </tbody>\n",
       "</table>\n",
       "<p>6276 rows × 3 columns</p>\n",
       "</div>"
      ],
      "text/plain": [
       "       Bathrooms  Bedrooms  Price(million/m_square)\n",
       "0       3.519313  2.000000                    52.78\n",
       "3       3.519313  3.990705                    14.00\n",
       "6       3.519313  3.990705                    37.25\n",
       "9       3.519313  3.990705                    11.79\n",
       "10      4.000000  3.000000                    86.67\n",
       "...          ...       ...                      ...\n",
       "11934   3.000000  2.000000                    99.09\n",
       "11935   3.519313  3.000000                    47.67\n",
       "11936   2.000000  2.000000                    52.33\n",
       "11937   3.519313  3.990705                    33.33\n",
       "11940   3.000000  4.000000                   184.78\n",
       "\n",
       "[6276 rows x 3 columns]"
      ]
     },
     "execution_count": 42,
     "metadata": {},
     "output_type": "execute_result"
    }
   ],
   "source": [
    "df = new_data.loc[(new_data['Type'].str.contains('Nhà ở')) | (new_data['Type'].str.contains('Chung cư')), ('Bathrooms', 'Bedrooms', 'Price(million/m_square)')]\n",
    "df.fillna(df.mean(), inplace=True)\n",
    "df"
   ]
  },
  {
   "cell_type": "code",
   "execution_count": 43,
   "metadata": {
    "id": "JSzisUCipDyT"
   },
   "outputs": [],
   "source": [
    "def corr(x,y):\n",
    "    slope, intercept, r,p, stderr = scipy.stats.linregress(x, y)\n",
    "    line = f'Regression line: y={intercept:.2f}+{slope:.2f}x,r={r:.2f}'\n",
    "    print(scipy.stats.kendalltau(x, y))\n",
    "    fig, ax=plt.subplots(figsize=(8, 6))\n",
    "    ax.plot(x,y,linewidth=0, marker='s', label='Data points')\n",
    "    ax.plot(x, intercept + slope * x,label=line)\n",
    "    ax.set_xlabel(x.name)\n",
    "    ax.set_ylabel(y.name)\n",
    "    ax.legend(facecolor='white')\n",
    "    plt.show()\n"
   ]
  },
  {
   "cell_type": "code",
   "execution_count": 44,
   "metadata": {
    "colab": {
     "base_uri": "https://localhost:8080/",
     "height": 405
    },
    "id": "aoiB-4RTsPbr",
    "outputId": "75f5509f-960c-4255-e49b-03de3ffc98cb"
   },
   "outputs": [
    {
     "name": "stdout",
     "output_type": "stream",
     "text": [
      "KendalltauResult(correlation=0.34074805149731274, pvalue=1.8755518164659913e-226)\n"
     ]
    },
    {
     "data": {
      "image/png": "[encoded data removed]",
      "text/plain": [
       "<Figure size 576x432 with 1 Axes>"
      ]
     },
     "metadata": {
      "needs_background": "light"
     },
     "output_type": "display_data"
    }
   ],
   "source": [
    "corr(df['Bathrooms'], df['Bedrooms'])"
   ]
  },
  {
   "cell_type": "code",
   "execution_count": 45,
   "metadata": {
    "colab": {
     "base_uri": "https://localhost:8080/"
    },
    "id": "hHaYdc3VvYSq",
    "outputId": "3b0f6dd6-5f99-4806-e572-d89c80ba60f7"
   },
   "outputs": [
    {
     "data": {
      "text/plain": [
       "Price                         0\n",
       "Location                      0\n",
       "Area                         33\n",
       "Street                     1015\n",
       "Facade                     4625\n",
       "Direction                  8197\n",
       "Saler                         0\n",
       "Type                          0\n",
       "Floor                      9577\n",
       "Bathrooms                  8045\n",
       "Bedrooms                   5462\n",
       "Legal Doc                  1500\n",
       "Price(million/m_square)      33\n",
       "dtype: int64"
      ]
     },
     "execution_count": 45,
     "metadata": {},
     "output_type": "execute_result"
    }
   ],
   "source": [
    "new_data.isna().sum()"
   ]
  },
  {
   "cell_type": "markdown",
   "metadata": {
    "id": "eb5USkWwmJEv"
   },
   "source": [
    "# Phân tích hồi quy tuyến tính đơn "
   ]
  },
  {
   "cell_type": "markdown",
   "metadata": {
    "id": "eyOyaJ87b-h8"
   },
   "source": [
    "*Từ phần này ta chỉ áp dụng với dữ liệu là nhà ở, chung cư, chung cư mini, nhà cấp 4*"
   ]
  },
  {
   "cell_type": "code",
   "execution_count": 46,
   "metadata": {},
   "outputs": [],
   "source": [
    "# location_list = new_data['Location']\n",
    "# districts = []\n",
    "# cities = []\n",
    "# for place in location_list:\n",
    "#     seperate = place.split(',')\n",
    "#     districts.append(seperate[0])\n",
    "#     cities.append(seperate[1])\n",
    "# new_data['District'] = districts\n",
    "# new_data['City'] = cities\n",
    "# new_data.drop(['Location'], axis=1, inplace=True)"
   ]
  },
  {
   "cell_type": "code",
   "execution_count": 48,
   "metadata": {
    "colab": {
     "base_uri": "https://localhost:8080/",
     "height": 369
    },
    "id": "vxUOCebbX6a8",
    "outputId": "036c0bbe-4572-42b5-f7d5-68c480a70416"
   },
   "outputs": [
    {
     "data": {
      "text/html": [
       "<div>\n",
       "<style scoped>\n",
       "    .dataframe tbody tr th:only-of-type {\n",
       "        vertical-align: middle;\n",
       "    }\n",
       "\n",
       "    .dataframe tbody tr th {\n",
       "        vertical-align: top;\n",
       "    }\n",
       "\n",
       "    .dataframe thead th {\n",
       "        text-align: right;\n",
       "    }\n",
       "</style>\n",
       "<table border=\"1\" class=\"dataframe\">\n",
       "  <thead>\n",
       "    <tr style=\"text-align: right;\">\n",
       "      <th></th>\n",
       "      <th>Price</th>\n",
       "      <th>Location</th>\n",
       "      <th>Area</th>\n",
       "      <th>Street</th>\n",
       "      <th>Facade</th>\n",
       "      <th>Direction</th>\n",
       "      <th>Type</th>\n",
       "      <th>Floor</th>\n",
       "      <th>Bathrooms</th>\n",
       "      <th>Bedrooms</th>\n",
       "      <th>Legal Doc</th>\n",
       "    </tr>\n",
       "  </thead>\n",
       "  <tbody>\n",
       "    <tr>\n",
       "      <th>0</th>\n",
       "      <td>4.75</td>\n",
       "      <td>Quận Sơn Trà, Thành phố Đà Nẵng</td>\n",
       "      <td>90.0</td>\n",
       "      <td>Mặt phố - Mặt đường</td>\n",
       "      <td>5.0</td>\n",
       "      <td>Đông Bắc</td>\n",
       "      <td>Nhà ở</td>\n",
       "      <td>NaN</td>\n",
       "      <td>NaN</td>\n",
       "      <td>2.0</td>\n",
       "      <td>NaN</td>\n",
       "    </tr>\n",
       "    <tr>\n",
       "      <th>3</th>\n",
       "      <td>0.77</td>\n",
       "      <td>Quận Thanh Xuân, Thành phố Hà Nội</td>\n",
       "      <td>55.0</td>\n",
       "      <td>Ngõ 1 ô tô</td>\n",
       "      <td>NaN</td>\n",
       "      <td>NaN</td>\n",
       "      <td>Chung cư mini</td>\n",
       "      <td>NaN</td>\n",
       "      <td>NaN</td>\n",
       "      <td>NaN</td>\n",
       "      <td>Giấy CN QSDĐ - Sổ đỏ - Sổ hồng, Hợp đồng mua bán</td>\n",
       "    </tr>\n",
       "  </tbody>\n",
       "</table>\n",
       "</div>"
      ],
      "text/plain": [
       "   Price                           Location  Area               Street  \\\n",
       "0   4.75    Quận Sơn Trà, Thành phố Đà Nẵng  90.0  Mặt phố - Mặt đường   \n",
       "3   0.77  Quận Thanh Xuân, Thành phố Hà Nội  55.0           Ngõ 1 ô tô   \n",
       "\n",
       "   Facade Direction           Type  Floor  Bathrooms  Bedrooms  \\\n",
       "0     5.0  Đông Bắc          Nhà ở    NaN        NaN       2.0   \n",
       "3     NaN       NaN  Chung cư mini    NaN        NaN       NaN   \n",
       "\n",
       "                                          Legal Doc  \n",
       "0                                               NaN  \n",
       "3  Giấy CN QSDĐ - Sổ đỏ - Sổ hồng, Hợp đồng mua bán  "
      ]
     },
     "execution_count": 48,
     "metadata": {},
     "output_type": "execute_result"
    }
   ],
   "source": [
    "types = ['Nhà ở', 'Chung cư', 'Chung cư mini', 'Nhà cấp 4']\n",
    "house = new_data.loc[(new_data['Type']).isin(types)]\n",
    "house.drop(['Price(million/m_square)', 'Saler'], axis=1, inplace=True)\n",
    "house.head(2)"
   ]
  },
  {
   "cell_type": "code",
   "execution_count": 49,
   "metadata": {},
   "outputs": [],
   "source": [
    "# types = ['Nhà ở', 'Chung cư', 'Chung cư mini', 'Nhà cấp 4']\n",
    "# house = new_data.loc[(new_data['Type']).isin(types)]\n",
    "# house.drop(['Price(million/m_square)'], axis=1, inplace=True)\n",
    "# house.head(2)"
   ]
  },
  {
   "cell_type": "code",
   "execution_count": 50,
   "metadata": {},
   "outputs": [
    {
     "data": {
      "text/html": [
       "<div>\n",
       "<style scoped>\n",
       "    .dataframe tbody tr th:only-of-type {\n",
       "        vertical-align: middle;\n",
       "    }\n",
       "\n",
       "    .dataframe tbody tr th {\n",
       "        vertical-align: top;\n",
       "    }\n",
       "\n",
       "    .dataframe thead th {\n",
       "        text-align: right;\n",
       "    }\n",
       "</style>\n",
       "<table border=\"1\" class=\"dataframe\">\n",
       "  <thead>\n",
       "    <tr style=\"text-align: right;\">\n",
       "      <th></th>\n",
       "      <th>Price</th>\n",
       "      <th>Area</th>\n",
       "      <th>Facade</th>\n",
       "      <th>Floor</th>\n",
       "      <th>Bathrooms</th>\n",
       "      <th>Bedrooms</th>\n",
       "    </tr>\n",
       "  </thead>\n",
       "  <tbody>\n",
       "    <tr>\n",
       "      <th>missing_ratio</th>\n",
       "      <td>0.000000e+00</td>\n",
       "      <td>0.425398</td>\n",
       "      <td>45.848432</td>\n",
       "      <td>93.682055</td>\n",
       "      <td>70.600284</td>\n",
       "      <td>33.622184</td>\n",
       "    </tr>\n",
       "    <tr>\n",
       "      <th>min</th>\n",
       "      <td>1.100000e-03</td>\n",
       "      <td>7.000000</td>\n",
       "      <td>1.000000</td>\n",
       "      <td>1.000000</td>\n",
       "      <td>1.000000</td>\n",
       "      <td>1.000000</td>\n",
       "    </tr>\n",
       "    <tr>\n",
       "      <th>median</th>\n",
       "      <td>4.150000e+00</td>\n",
       "      <td>54.000000</td>\n",
       "      <td>4.500000</td>\n",
       "      <td>4.000000</td>\n",
       "      <td>3.000000</td>\n",
       "      <td>3.000000</td>\n",
       "    </tr>\n",
       "    <tr>\n",
       "      <th>lower_quantile</th>\n",
       "      <td>2.700000e+00</td>\n",
       "      <td>40.000000</td>\n",
       "      <td>4.000000</td>\n",
       "      <td>3.000000</td>\n",
       "      <td>2.000000</td>\n",
       "      <td>2.000000</td>\n",
       "    </tr>\n",
       "    <tr>\n",
       "      <th>upper_quantile</th>\n",
       "      <td>6.600000e+00</td>\n",
       "      <td>76.625000</td>\n",
       "      <td>5.300000</td>\n",
       "      <td>5.000000</td>\n",
       "      <td>4.000000</td>\n",
       "      <td>4.000000</td>\n",
       "    </tr>\n",
       "    <tr>\n",
       "      <th>max</th>\n",
       "      <td>3.750000e+09</td>\n",
       "      <td>70783.000000</td>\n",
       "      <td>313.600000</td>\n",
       "      <td>50.000000</td>\n",
       "      <td>50.000000</td>\n",
       "      <td>111.000000</td>\n",
       "    </tr>\n",
       "  </tbody>\n",
       "</table>\n",
       "</div>"
      ],
      "text/plain": [
       "                       Price          Area      Facade      Floor  Bathrooms  \\\n",
       "missing_ratio   0.000000e+00      0.425398   45.848432  93.682055  70.600284   \n",
       "min             1.100000e-03      7.000000    1.000000   1.000000   1.000000   \n",
       "median          4.150000e+00     54.000000    4.500000   4.000000   3.000000   \n",
       "lower_quantile  2.700000e+00     40.000000    4.000000   3.000000   2.000000   \n",
       "upper_quantile  6.600000e+00     76.625000    5.300000   5.000000   4.000000   \n",
       "max             3.750000e+09  70783.000000  313.600000  50.000000  50.000000   \n",
       "\n",
       "                  Bedrooms  \n",
       "missing_ratio    33.622184  \n",
       "min               1.000000  \n",
       "median            3.000000  \n",
       "lower_quantile    2.000000  \n",
       "upper_quantile    4.000000  \n",
       "max             111.000000  "
      ]
     },
     "execution_count": 50,
     "metadata": {},
     "output_type": "execute_result"
    }
   ],
   "source": [
    "numeric_cols_df = house.select_dtypes(exclude='object')\n",
    "\n",
    "def median(col):\n",
    "    return col.quantile(0.5)\n",
    "\n",
    "def lower_quantile(col):\n",
    "    return col.quantile(0.25)\n",
    "\n",
    "def upper_quantile(col):\n",
    "    return col.quantile(0.75)\n",
    "\n",
    "numeric_cols_df.agg([missing_ratio, min, median, lower_quantile, upper_quantile,max])"
   ]
  },
  {
   "cell_type": "code",
   "execution_count": 52,
   "metadata": {},
   "outputs": [],
   "source": [
    "house.drop(['Floor', 'Bathrooms'], axis=1, inplace=True)"
   ]
  },
  {
   "cell_type": "code",
   "execution_count": 53,
   "metadata": {},
   "outputs": [
    {
     "data": {
      "text/html": [
       "<div>\n",
       "<style scoped>\n",
       "    .dataframe tbody tr th:only-of-type {\n",
       "        vertical-align: middle;\n",
       "    }\n",
       "\n",
       "    .dataframe tbody tr th {\n",
       "        vertical-align: top;\n",
       "    }\n",
       "\n",
       "    .dataframe thead th {\n",
       "        text-align: right;\n",
       "    }\n",
       "</style>\n",
       "<table border=\"1\" class=\"dataframe\">\n",
       "  <thead>\n",
       "    <tr style=\"text-align: right;\">\n",
       "      <th></th>\n",
       "      <th>Price</th>\n",
       "      <th>Location</th>\n",
       "      <th>Area</th>\n",
       "      <th>Street</th>\n",
       "      <th>Facade</th>\n",
       "      <th>Direction</th>\n",
       "      <th>Type</th>\n",
       "      <th>Bedrooms</th>\n",
       "      <th>Legal Doc</th>\n",
       "    </tr>\n",
       "  </thead>\n",
       "  <tbody>\n",
       "    <tr>\n",
       "      <th>5294</th>\n",
       "      <td>3.750000e+09</td>\n",
       "      <td>Quận Nam Từ Liêm, Thành phố Hà Nội</td>\n",
       "      <td>40.0</td>\n",
       "      <td>Ngõ 2 ô tô tránh</td>\n",
       "      <td>NaN</td>\n",
       "      <td>NaN</td>\n",
       "      <td>Nhà ở</td>\n",
       "      <td>6.0</td>\n",
       "      <td>Giấy CN QSDĐ - Sổ đỏ - Sổ hồng, Hợp đồng mua bán</td>\n",
       "    </tr>\n",
       "    <tr>\n",
       "      <th>7358</th>\n",
       "      <td>1.800000e+03</td>\n",
       "      <td>Thành phố Thủ Dầu Một, Tỉnh Bình Dương</td>\n",
       "      <td>49.0</td>\n",
       "      <td>NaN</td>\n",
       "      <td>NaN</td>\n",
       "      <td>NaN</td>\n",
       "      <td>Chung cư</td>\n",
       "      <td>NaN</td>\n",
       "      <td>NaN</td>\n",
       "    </tr>\n",
       "    <tr>\n",
       "      <th>7449</th>\n",
       "      <td>1.820000e+03</td>\n",
       "      <td>Huyện Thới Lai, Thành phố Cần Thơ</td>\n",
       "      <td>84.0</td>\n",
       "      <td>NaN</td>\n",
       "      <td>NaN</td>\n",
       "      <td>NaN</td>\n",
       "      <td>Nhà ở</td>\n",
       "      <td>NaN</td>\n",
       "      <td>NaN</td>\n",
       "    </tr>\n",
       "    <tr>\n",
       "      <th>7581</th>\n",
       "      <td>2.260000e+06</td>\n",
       "      <td>Thành phố Vũng Tàu, Tỉnh Bà Rịa - Vũng Tàu</td>\n",
       "      <td>76.0</td>\n",
       "      <td>NaN</td>\n",
       "      <td>NaN</td>\n",
       "      <td>NaN</td>\n",
       "      <td>Chung cư</td>\n",
       "      <td>NaN</td>\n",
       "      <td>NaN</td>\n",
       "    </tr>\n",
       "  </tbody>\n",
       "</table>\n",
       "</div>"
      ],
      "text/plain": [
       "             Price                                    Location  Area  \\\n",
       "5294  3.750000e+09          Quận Nam Từ Liêm, Thành phố Hà Nội  40.0   \n",
       "7358  1.800000e+03      Thành phố Thủ Dầu Một, Tỉnh Bình Dương  49.0   \n",
       "7449  1.820000e+03           Huyện Thới Lai, Thành phố Cần Thơ  84.0   \n",
       "7581  2.260000e+06  Thành phố Vũng Tàu, Tỉnh Bà Rịa - Vũng Tàu  76.0   \n",
       "\n",
       "                Street  Facade Direction      Type  Bedrooms  \\\n",
       "5294  Ngõ 2 ô tô tránh     NaN       NaN     Nhà ở       6.0   \n",
       "7358               NaN     NaN       NaN  Chung cư       NaN   \n",
       "7449               NaN     NaN       NaN     Nhà ở       NaN   \n",
       "7581               NaN     NaN       NaN  Chung cư       NaN   \n",
       "\n",
       "                                             Legal Doc  \n",
       "5294  Giấy CN QSDĐ - Sổ đỏ - Sổ hồng, Hợp đồng mua bán  \n",
       "7358                                               NaN  \n",
       "7449                                               NaN  \n",
       "7581                                               NaN  "
      ]
     },
     "execution_count": 53,
     "metadata": {},
     "output_type": "execute_result"
    }
   ],
   "source": [
    "house[house['Price'] > 1000]"
   ]
  },
  {
   "cell_type": "code",
   "execution_count": 54,
   "metadata": {},
   "outputs": [],
   "source": [
    "house.drop([5294,7581,7358,7449], inplace=True)"
   ]
  },
  {
   "cell_type": "code",
   "execution_count": 55,
   "metadata": {},
   "outputs": [
    {
     "data": {
      "text/html": [
       "<div>\n",
       "<style scoped>\n",
       "    .dataframe tbody tr th:only-of-type {\n",
       "        vertical-align: middle;\n",
       "    }\n",
       "\n",
       "    .dataframe tbody tr th {\n",
       "        vertical-align: top;\n",
       "    }\n",
       "\n",
       "    .dataframe thead th {\n",
       "        text-align: right;\n",
       "    }\n",
       "</style>\n",
       "<table border=\"1\" class=\"dataframe\">\n",
       "  <thead>\n",
       "    <tr style=\"text-align: right;\">\n",
       "      <th></th>\n",
       "      <th>Location</th>\n",
       "      <th>Street</th>\n",
       "      <th>Direction</th>\n",
       "      <th>Type</th>\n",
       "      <th>Legal Doc</th>\n",
       "    </tr>\n",
       "  </thead>\n",
       "  <tbody>\n",
       "    <tr>\n",
       "      <th>missing_ratio</th>\n",
       "      <td>0</td>\n",
       "      <td>9.99527</td>\n",
       "      <td>83.4306</td>\n",
       "      <td>0</td>\n",
       "      <td>12.6596</td>\n",
       "    </tr>\n",
       "    <tr>\n",
       "      <th>nunique</th>\n",
       "      <td>163</td>\n",
       "      <td>8</td>\n",
       "      <td>30</td>\n",
       "      <td>4</td>\n",
       "      <td>12</td>\n",
       "    </tr>\n",
       "    <tr>\n",
       "      <th>top10_value_counts</th>\n",
       "      <td>{'Quận Hà Đông, Thành phố Hà Nội': 543, 'Quận Đống Đa, Thành phố Hà Nội': 526, 'Quận Thanh Xuân, Thành phố Hà Nội': 482, 'Quận Cầu Giấy, Thành phố Hà Nội': 399, 'Quận Hoàng Mai, Thành phố Hà Nội': 336, 'Quận Bắc Từ Liêm, Thành phố Hà Nội': 286, 'Quận Hai Bà Trưng, Thành phố Hà Nội': 282, 'Quận Gò Vấp, Thành phố Hồ Chí Minh': 245, 'Quận Long Biên, Thành phố Hà Nội': 227, 'Quận Nam Từ Liêm, Thành phố Hà Nội': 227}</td>\n",
       "      <td>{'Ngõ ngách': 1321, 'Mặt phố - Mặt đường': 1306, 'Ngõ ô tô đỗ cửa': 1234, 'Ngõ 2 ô tô tránh': 899, 'Ngõ 1 ô tô': 816, 'Ngõ 3 ô tô tránh': 113, 'Ngõ 4 ô tô trở lên': 14, 'Ngõ 4 ô tô tránh': 6}</td>\n",
       "      <td>{'Đông Nam': 229, 'Tây Bắc': 148, 'Đông Bắc': 139, 'Tây Nam': 124, 'Nam': 92, 'Đông Tứ Trạch': 67, 'Bắc': 62, 'Đông': 59, 'Tây Tứ Trạch': 52, 'Tây': 37}</td>\n",
       "      <td>{'Nhà ở': 5262, 'Chung cư': 855, 'Chung cư mini': 155, 'Nhà cấp 4': 71}</td>\n",
       "      <td>{'Giấy CN QSDĐ - Sổ đỏ - Sổ hồng': 5171, 'Giấy CN QSDĐ - Sổ đỏ - Sổ hồng, Hợp đồng mua bán': 230, 'Hợp đồng mua bán': 121, 'Giấy CN QSDĐ - Sổ đỏ - Sổ hồng, Hợp đồng mua bán, Giấy tờ chứng minh nguồn gốc': 4, 'Đã có giấy hẹn lấy số': 3, 'Giấy CN QSDĐ - Sổ đỏ - Sổ hồng, Hợp đồng mua bán, Hợp đồng góp vốn': 3, 'Giấy CN QSDĐ - Sổ đỏ - Sổ hồng, Giấy tờ chứng minh nguồn gốc': 2, 'Đang làm giấy CN QSDĐ': 2, 'Đất giao - Đất phân, Giấy tờ chứng minh nguồn gốc': 1, 'Hợp đồng mua bán, Hợp đồng góp vốn': 1}</td>\n",
       "    </tr>\n",
       "  </tbody>\n",
       "</table>\n",
       "</div>"
      ],
      "text/plain": [
       "                                                                                                                                                                                                                                                                                                                                                                                                                                           Location  \\\n",
       "missing_ratio                                                                                                                                                                                                                                                                                                                                                                                                                                     0   \n",
       "nunique                                                                                                                                                                                                                                                                                                                                                                                                                                         163   \n",
       "top10_value_counts  {'Quận Hà Đông, Thành phố Hà Nội': 543, 'Quận Đống Đa, Thành phố Hà Nội': 526, 'Quận Thanh Xuân, Thành phố Hà Nội': 482, 'Quận Cầu Giấy, Thành phố Hà Nội': 399, 'Quận Hoàng Mai, Thành phố Hà Nội': 336, 'Quận Bắc Từ Liêm, Thành phố Hà Nội': 286, 'Quận Hai Bà Trưng, Thành phố Hà Nội': 282, 'Quận Gò Vấp, Thành phố Hồ Chí Minh': 245, 'Quận Long Biên, Thành phố Hà Nội': 227, 'Quận Nam Từ Liêm, Thành phố Hà Nội': 227}   \n",
       "\n",
       "                                                                                                                                                                                                             Street  \\\n",
       "missing_ratio                                                                                                                                                                                               9.99527   \n",
       "nunique                                                                                                                                                                                                           8   \n",
       "top10_value_counts  {'Ngõ ngách': 1321, 'Mặt phố - Mặt đường': 1306, 'Ngõ ô tô đỗ cửa': 1234, 'Ngõ 2 ô tô tránh': 899, 'Ngõ 1 ô tô': 816, 'Ngõ 3 ô tô tránh': 113, 'Ngõ 4 ô tô trở lên': 14, 'Ngõ 4 ô tô tránh': 6}   \n",
       "\n",
       "                                                                                                                                                                   Direction  \\\n",
       "missing_ratio                                                                                                                                                        83.4306   \n",
       "nunique                                                                                                                                                                   30   \n",
       "top10_value_counts  {'Đông Nam': 229, 'Tây Bắc': 148, 'Đông Bắc': 139, 'Tây Nam': 124, 'Nam': 92, 'Đông Tứ Trạch': 67, 'Bắc': 62, 'Đông': 59, 'Tây Tứ Trạch': 52, 'Tây': 37}   \n",
       "\n",
       "                                                                                       Type  \\\n",
       "missing_ratio                                                                             0   \n",
       "nunique                                                                                   4   \n",
       "top10_value_counts  {'Nhà ở': 5262, 'Chung cư': 855, 'Chung cư mini': 155, 'Nhà cấp 4': 71}   \n",
       "\n",
       "                                                                                                                                                                                                                                                                                                                                                                                                                                                                                                                               Legal Doc  \n",
       "missing_ratio                                                                                                                                                                                                                                                                                                                                                                                                                                                                                                                    12.6596  \n",
       "nunique                                                                                                                                                                                                                                                                                                                                                                                                                                                                                                                               12  \n",
       "top10_value_counts  {'Giấy CN QSDĐ - Sổ đỏ - Sổ hồng': 5171, 'Giấy CN QSDĐ - Sổ đỏ - Sổ hồng, Hợp đồng mua bán': 230, 'Hợp đồng mua bán': 121, 'Giấy CN QSDĐ - Sổ đỏ - Sổ hồng, Hợp đồng mua bán, Giấy tờ chứng minh nguồn gốc': 4, 'Đã có giấy hẹn lấy số': 3, 'Giấy CN QSDĐ - Sổ đỏ - Sổ hồng, Hợp đồng mua bán, Hợp đồng góp vốn': 3, 'Giấy CN QSDĐ - Sổ đỏ - Sổ hồng, Giấy tờ chứng minh nguồn gốc': 2, 'Đang làm giấy CN QSDĐ': 2, 'Đất giao - Đất phân, Giấy tờ chứng minh nguồn gốc': 1, 'Hợp đồng mua bán, Hợp đồng góp vốn': 1}  "
      ]
     },
     "execution_count": 55,
     "metadata": {},
     "output_type": "execute_result"
    }
   ],
   "source": [
    "cat_col_df = house.select_dtypes(include='object')\n",
    "\n",
    "def missing_ratio(col):\n",
    "    return col.isna().mean()*100\n",
    "\n",
    "def top10_value_counts(col):\n",
    "    return dict(col.value_counts()[:10])\n",
    "\n",
    "category_stat = cat_col_df.agg([missing_ratio, pd.Series.nunique, top10_value_counts])\n",
    "pd.set_option('display.max_colwidth', 1000)\n",
    "category_stat"
   ]
  },
  {
   "cell_type": "code",
   "execution_count": 56,
   "metadata": {},
   "outputs": [],
   "source": [
    "house.drop(['Direction'], axis=1, inplace=True)"
   ]
  },
  {
   "cell_type": "code",
   "execution_count": 57,
   "metadata": {
    "id": "30-HSPTTHtX9"
   },
   "outputs": [],
   "source": [
    "# num_col = ['Area', 'Facade', 'Bedrooms', 'Price(million/m_square)']\n",
    "# cate_col = ['Location', 'Street', 'Direction', 'Type', 'Legal Doc']"
   ]
  },
  {
   "cell_type": "code",
   "execution_count": 58,
   "metadata": {},
   "outputs": [],
   "source": [
    "num_col = ['Area', 'Facade', 'Bedrooms', 'Price']\n",
    "cate_col = ['Location', 'Street', 'Type', 'Legal Doc']"
   ]
  },
  {
   "cell_type": "code",
   "execution_count": 59,
   "metadata": {
    "id": "ukApXqMaZb5G"
   },
   "outputs": [],
   "source": [
    "class MyLEncoder():\n",
    "    def __init__(self, key=[]):\n",
    "        self.key = []\n",
    "        self.size= (0,0)\n",
    "    def transform(self, X, y=None, **fit_params):\n",
    "        new_X = X.copy().reshape(-1)\n",
    "        enc = LabelEncoder()\n",
    "        self.fit(X, y, **fit_params)\n",
    "        enc = enc.fit(new_X)\n",
    "        self.classes=enc.classes_\n",
    "        \n",
    "        return enc.transform(new_X).reshape(self.size)\n",
    "\n",
    "    def fit_transform(self, X, y=None, **fit_params):\n",
    "        self.fit(X, y, **fit_params)\n",
    "        return self.transform(X)\n",
    "\n",
    "    def fit(self, X, y=None, **fit_params):\n",
    "        # self.key = list(X.columns)\n",
    "        self.size=X.shape        \n",
    "        return self\n"
   ]
  },
  {
   "cell_type": "code",
   "execution_count": 60,
   "metadata": {
    "id": "1v1VSnvkHYx0"
   },
   "outputs": [],
   "source": [
    "# num_imputer= SimpleImputer(missing_values=np.nan, strategy='mean')\n",
    "cate_imputer=Pipeline(steps=[('imputer', SimpleImputer(missing_values=np.nan, strategy='most_frequent')), ('encoder', MyLEncoder())])\n",
    "rem_num_col = list(set(num_col) - set(['Floor', 'Bathrooms', 'Bedrooms']))"
   ]
  },
  {
   "cell_type": "code",
   "execution_count": 61,
   "metadata": {
    "colab": {
     "base_uri": "https://localhost:8080/",
     "height": 133
    },
    "id": "xlwCiU67Jkm7",
    "outputId": "4c89dd67-993e-4d3f-f4e4-2e82c4dc1b7b"
   },
   "outputs": [],
   "source": [
    "# transfer = ColumnTransformer([('num', SimpleImputer(missing_values=np.nan, strategy='constant', fill_value=0), ['Floor', 'Bathrooms',\t'Bedrooms']),\n",
    "#                               ('other', SimpleImputer(missing_values=np.nan, strategy='mean'), rem_num_col),\n",
    "#                               ('cate', cate_imputer, cate_col)], remainder='drop')\n",
    "# transfer"
   ]
  },
  {
   "cell_type": "code",
   "execution_count": 62,
   "metadata": {},
   "outputs": [
    {
     "data": {
      "text/html": [
       "<style>#sk-28723902-36d6-439f-b30f-a1c081f7161e {color: black;background-color: white;}#sk-28723902-36d6-439f-b30f-a1c081f7161e pre{padding: 0;}#sk-28723902-36d6-439f-b30f-a1c081f7161e div.sk-toggleable {background-color: white;}#sk-28723902-36d6-439f-b30f-a1c081f7161e label.sk-toggleable__label {cursor: pointer;display: block;width: 100%;margin-bottom: 0;padding: 0.2em 0.3em;box-sizing: border-box;text-align: center;}#sk-28723902-36d6-439f-b30f-a1c081f7161e div.sk-toggleable__content {max-height: 0;max-width: 0;overflow: hidden;text-align: left;background-color: #f0f8ff;}#sk-28723902-36d6-439f-b30f-a1c081f7161e div.sk-toggleable__content pre {margin: 0.2em;color: black;border-radius: 0.25em;background-color: #f0f8ff;}#sk-28723902-36d6-439f-b30f-a1c081f7161e input.sk-toggleable__control:checked~div.sk-toggleable__content {max-height: 200px;max-width: 100%;overflow: auto;}#sk-28723902-36d6-439f-b30f-a1c081f7161e div.sk-estimator input.sk-toggleable__control:checked~label.sk-toggleable__label {background-color: #d4ebff;}#sk-28723902-36d6-439f-b30f-a1c081f7161e div.sk-label input.sk-toggleable__control:checked~label.sk-toggleable__label {background-color: #d4ebff;}#sk-28723902-36d6-439f-b30f-a1c081f7161e input.sk-hidden--visually {border: 0;clip: rect(1px 1px 1px 1px);clip: rect(1px, 1px, 1px, 1px);height: 1px;margin: -1px;overflow: hidden;padding: 0;position: absolute;width: 1px;}#sk-28723902-36d6-439f-b30f-a1c081f7161e div.sk-estimator {font-family: monospace;background-color: #f0f8ff;margin: 0.25em 0.25em;border: 1px dotted black;border-radius: 0.25em;box-sizing: border-box;}#sk-28723902-36d6-439f-b30f-a1c081f7161e div.sk-estimator:hover {background-color: #d4ebff;}#sk-28723902-36d6-439f-b30f-a1c081f7161e div.sk-parallel-item::after {content: \"\";width: 100%;border-bottom: 1px solid gray;flex-grow: 1;}#sk-28723902-36d6-439f-b30f-a1c081f7161e div.sk-label:hover label.sk-toggleable__label {background-color: #d4ebff;}#sk-28723902-36d6-439f-b30f-a1c081f7161e div.sk-serial::before {content: \"\";position: absolute;border-left: 1px solid gray;box-sizing: border-box;top: 2em;bottom: 0;left: 50%;}#sk-28723902-36d6-439f-b30f-a1c081f7161e div.sk-serial {display: flex;flex-direction: column;align-items: center;background-color: white;}#sk-28723902-36d6-439f-b30f-a1c081f7161e div.sk-item {z-index: 1;}#sk-28723902-36d6-439f-b30f-a1c081f7161e div.sk-parallel {display: flex;align-items: stretch;justify-content: center;background-color: white;}#sk-28723902-36d6-439f-b30f-a1c081f7161e div.sk-parallel-item {display: flex;flex-direction: column;position: relative;background-color: white;}#sk-28723902-36d6-439f-b30f-a1c081f7161e div.sk-parallel-item:first-child::after {align-self: flex-end;width: 50%;}#sk-28723902-36d6-439f-b30f-a1c081f7161e div.sk-parallel-item:last-child::after {align-self: flex-start;width: 50%;}#sk-28723902-36d6-439f-b30f-a1c081f7161e div.sk-parallel-item:only-child::after {width: 0;}#sk-28723902-36d6-439f-b30f-a1c081f7161e div.sk-dashed-wrapped {border: 1px dashed gray;margin: 0.2em;box-sizing: border-box;padding-bottom: 0.1em;background-color: white;position: relative;}#sk-28723902-36d6-439f-b30f-a1c081f7161e div.sk-label label {font-family: monospace;font-weight: bold;background-color: white;display: inline-block;line-height: 1.2em;}#sk-28723902-36d6-439f-b30f-a1c081f7161e div.sk-label-container {position: relative;z-index: 2;text-align: center;}#sk-28723902-36d6-439f-b30f-a1c081f7161e div.sk-container {display: inline-block;position: relative;}</style><div id=\"sk-28723902-36d6-439f-b30f-a1c081f7161e\" class\"sk-top-container\"><div class=\"sk-container\"><div class=\"sk-item sk-dashed-wrapped\"><div class=\"sk-label-container\"><div class=\"sk-label sk-toggleable\"><input class=\"sk-toggleable__control sk-hidden--visually\" id=\"5edb3494-9d9d-4150-ba06-f2ed91885702\" type=\"checkbox\" ><label class=\"sk-toggleable__label\" for=\"5edb3494-9d9d-4150-ba06-f2ed91885702\">ColumnTransformer</label><div class=\"sk-toggleable__content\"><pre>ColumnTransformer(transformers=[('other', SimpleImputer(),\n",
       "                                 ['Area', 'Facade', 'Bedrooms', 'Price']),\n",
       "                                ('cate',\n",
       "                                 Pipeline(steps=[('imputer',\n",
       "                                                  SimpleImputer(strategy='most_frequent')),\n",
       "                                                 ('encoder',\n",
       "                                                  <__main__.MyLEncoder object at 0x000001C0C593FEE0>)]),\n",
       "                                 ['Location', 'Street', 'Type', 'Legal Doc'])])</pre></div></div></div><div class=\"sk-parallel\"><div class=\"sk-parallel-item\"><div class=\"sk-item\"><div class=\"sk-label-container\"><div class=\"sk-label sk-toggleable\"><input class=\"sk-toggleable__control sk-hidden--visually\" id=\"17f946c2-ac47-4f48-af7a-2677639a2a9f\" type=\"checkbox\" ><label class=\"sk-toggleable__label\" for=\"17f946c2-ac47-4f48-af7a-2677639a2a9f\">other</label><div class=\"sk-toggleable__content\"><pre>['Area', 'Facade', 'Bedrooms', 'Price']</pre></div></div></div><div class=\"sk-serial\"><div class=\"sk-item\"><div class=\"sk-estimator sk-toggleable\"><input class=\"sk-toggleable__control sk-hidden--visually\" id=\"4cc106ad-1709-4827-bba2-9d7bbf21be1c\" type=\"checkbox\" ><label class=\"sk-toggleable__label\" for=\"4cc106ad-1709-4827-bba2-9d7bbf21be1c\">SimpleImputer</label><div class=\"sk-toggleable__content\"><pre>SimpleImputer()</pre></div></div></div></div></div></div><div class=\"sk-parallel-item\"><div class=\"sk-item\"><div class=\"sk-label-container\"><div class=\"sk-label sk-toggleable\"><input class=\"sk-toggleable__control sk-hidden--visually\" id=\"eb669197-6af6-42d2-887b-4d34d2d1ed73\" type=\"checkbox\" ><label class=\"sk-toggleable__label\" for=\"eb669197-6af6-42d2-887b-4d34d2d1ed73\">cate</label><div class=\"sk-toggleable__content\"><pre>['Location', 'Street', 'Type', 'Legal Doc']</pre></div></div></div><div class=\"sk-serial\"><div class=\"sk-item\"><div class=\"sk-serial\"><div class=\"sk-item\"><div class=\"sk-estimator sk-toggleable\"><input class=\"sk-toggleable__control sk-hidden--visually\" id=\"457991d4-d13b-431e-86be-dd3ebf81cddb\" type=\"checkbox\" ><label class=\"sk-toggleable__label\" for=\"457991d4-d13b-431e-86be-dd3ebf81cddb\">SimpleImputer</label><div class=\"sk-toggleable__content\"><pre>SimpleImputer(strategy='most_frequent')</pre></div></div></div><div class=\"sk-item\"><div class=\"sk-estimator sk-toggleable\"><input class=\"sk-toggleable__control sk-hidden--visually\" id=\"8a40de08-a980-4819-b36f-355b63c1c3b8\" type=\"checkbox\" ><label class=\"sk-toggleable__label\" for=\"8a40de08-a980-4819-b36f-355b63c1c3b8\">MyLEncoder</label><div class=\"sk-toggleable__content\"><pre><__main__.MyLEncoder object at 0x000001C0C593FEE0></pre></div></div></div></div></div></div></div></div></div></div></div></div>"
      ],
      "text/plain": [
       "ColumnTransformer(transformers=[('other', SimpleImputer(),\n",
       "                                 ['Area', 'Facade', 'Bedrooms', 'Price']),\n",
       "                                ('cate',\n",
       "                                 Pipeline(steps=[('imputer',\n",
       "                                                  SimpleImputer(strategy='most_frequent')),\n",
       "                                                 ('encoder',\n",
       "                                                  <__main__.MyLEncoder object at 0x000001C0C593FEE0>)]),\n",
       "                                 ['Location', 'Street', 'Type', 'Legal Doc'])])"
      ]
     },
     "execution_count": 62,
     "metadata": {},
     "output_type": "execute_result"
    }
   ],
   "source": [
    "transfer = ColumnTransformer([\n",
    "                              ('other', SimpleImputer(missing_values=np.nan, strategy='mean'), num_col),\n",
    "                              ('cate', cate_imputer, cate_col)], remainder='drop')\n",
    "transfer"
   ]
  },
  {
   "cell_type": "code",
   "execution_count": 63,
   "metadata": {
    "colab": {
     "base_uri": "https://localhost:8080/",
     "height": 164
    },
    "id": "IxcWWJ76LSmr",
    "outputId": "e163609e-1c47-44bf-d0c7-f5c054d91f50"
   },
   "outputs": [
    {
     "data": {
      "text/html": [
       "<style>#sk-5d0ac92d-20be-413d-97f7-d1bf5b45e6d4 {color: black;background-color: white;}#sk-5d0ac92d-20be-413d-97f7-d1bf5b45e6d4 pre{padding: 0;}#sk-5d0ac92d-20be-413d-97f7-d1bf5b45e6d4 div.sk-toggleable {background-color: white;}#sk-5d0ac92d-20be-413d-97f7-d1bf5b45e6d4 label.sk-toggleable__label {cursor: pointer;display: block;width: 100%;margin-bottom: 0;padding: 0.2em 0.3em;box-sizing: border-box;text-align: center;}#sk-5d0ac92d-20be-413d-97f7-d1bf5b45e6d4 div.sk-toggleable__content {max-height: 0;max-width: 0;overflow: hidden;text-align: left;background-color: #f0f8ff;}#sk-5d0ac92d-20be-413d-97f7-d1bf5b45e6d4 div.sk-toggleable__content pre {margin: 0.2em;color: black;border-radius: 0.25em;background-color: #f0f8ff;}#sk-5d0ac92d-20be-413d-97f7-d1bf5b45e6d4 input.sk-toggleable__control:checked~div.sk-toggleable__content {max-height: 200px;max-width: 100%;overflow: auto;}#sk-5d0ac92d-20be-413d-97f7-d1bf5b45e6d4 div.sk-estimator input.sk-toggleable__control:checked~label.sk-toggleable__label {background-color: #d4ebff;}#sk-5d0ac92d-20be-413d-97f7-d1bf5b45e6d4 div.sk-label input.sk-toggleable__control:checked~label.sk-toggleable__label {background-color: #d4ebff;}#sk-5d0ac92d-20be-413d-97f7-d1bf5b45e6d4 input.sk-hidden--visually {border: 0;clip: rect(1px 1px 1px 1px);clip: rect(1px, 1px, 1px, 1px);height: 1px;margin: -1px;overflow: hidden;padding: 0;position: absolute;width: 1px;}#sk-5d0ac92d-20be-413d-97f7-d1bf5b45e6d4 div.sk-estimator {font-family: monospace;background-color: #f0f8ff;margin: 0.25em 0.25em;border: 1px dotted black;border-radius: 0.25em;box-sizing: border-box;}#sk-5d0ac92d-20be-413d-97f7-d1bf5b45e6d4 div.sk-estimator:hover {background-color: #d4ebff;}#sk-5d0ac92d-20be-413d-97f7-d1bf5b45e6d4 div.sk-parallel-item::after {content: \"\";width: 100%;border-bottom: 1px solid gray;flex-grow: 1;}#sk-5d0ac92d-20be-413d-97f7-d1bf5b45e6d4 div.sk-label:hover label.sk-toggleable__label {background-color: #d4ebff;}#sk-5d0ac92d-20be-413d-97f7-d1bf5b45e6d4 div.sk-serial::before {content: \"\";position: absolute;border-left: 1px solid gray;box-sizing: border-box;top: 2em;bottom: 0;left: 50%;}#sk-5d0ac92d-20be-413d-97f7-d1bf5b45e6d4 div.sk-serial {display: flex;flex-direction: column;align-items: center;background-color: white;}#sk-5d0ac92d-20be-413d-97f7-d1bf5b45e6d4 div.sk-item {z-index: 1;}#sk-5d0ac92d-20be-413d-97f7-d1bf5b45e6d4 div.sk-parallel {display: flex;align-items: stretch;justify-content: center;background-color: white;}#sk-5d0ac92d-20be-413d-97f7-d1bf5b45e6d4 div.sk-parallel-item {display: flex;flex-direction: column;position: relative;background-color: white;}#sk-5d0ac92d-20be-413d-97f7-d1bf5b45e6d4 div.sk-parallel-item:first-child::after {align-self: flex-end;width: 50%;}#sk-5d0ac92d-20be-413d-97f7-d1bf5b45e6d4 div.sk-parallel-item:last-child::after {align-self: flex-start;width: 50%;}#sk-5d0ac92d-20be-413d-97f7-d1bf5b45e6d4 div.sk-parallel-item:only-child::after {width: 0;}#sk-5d0ac92d-20be-413d-97f7-d1bf5b45e6d4 div.sk-dashed-wrapped {border: 1px dashed gray;margin: 0.2em;box-sizing: border-box;padding-bottom: 0.1em;background-color: white;position: relative;}#sk-5d0ac92d-20be-413d-97f7-d1bf5b45e6d4 div.sk-label label {font-family: monospace;font-weight: bold;background-color: white;display: inline-block;line-height: 1.2em;}#sk-5d0ac92d-20be-413d-97f7-d1bf5b45e6d4 div.sk-label-container {position: relative;z-index: 2;text-align: center;}#sk-5d0ac92d-20be-413d-97f7-d1bf5b45e6d4 div.sk-container {display: inline-block;position: relative;}</style><div id=\"sk-5d0ac92d-20be-413d-97f7-d1bf5b45e6d4\" class\"sk-top-container\"><div class=\"sk-container\"><div class=\"sk-item sk-dashed-wrapped\"><div class=\"sk-label-container\"><div class=\"sk-label sk-toggleable\"><input class=\"sk-toggleable__control sk-hidden--visually\" id=\"4302bfb1-46b0-46a9-b17a-0efc2f3b73a6\" type=\"checkbox\" ><label class=\"sk-toggleable__label\" for=\"4302bfb1-46b0-46a9-b17a-0efc2f3b73a6\">Pipeline</label><div class=\"sk-toggleable__content\"><pre>Pipeline(steps=[('transfer',\n",
       "                 ColumnTransformer(transformers=[('other', SimpleImputer(),\n",
       "                                                  ['Area', 'Facade', 'Bedrooms',\n",
       "                                                   'Price']),\n",
       "                                                 ('cate',\n",
       "                                                  Pipeline(steps=[('imputer',\n",
       "                                                                   SimpleImputer(strategy='most_frequent')),\n",
       "                                                                  ('encoder',\n",
       "                                                                   <__main__.MyLEncoder object at 0x000001C0C593FEE0>)]),\n",
       "                                                  ['Location', 'Street', 'Type',\n",
       "                                                   'Legal Doc'])]))])</pre></div></div></div><div class=\"sk-serial\"><div class=\"sk-item sk-dashed-wrapped\"><div class=\"sk-label-container\"><div class=\"sk-label sk-toggleable\"><input class=\"sk-toggleable__control sk-hidden--visually\" id=\"9edea3d4-1865-48cd-a12e-c8afca7739ed\" type=\"checkbox\" ><label class=\"sk-toggleable__label\" for=\"9edea3d4-1865-48cd-a12e-c8afca7739ed\">transfer: ColumnTransformer</label><div class=\"sk-toggleable__content\"><pre>ColumnTransformer(transformers=[('other', SimpleImputer(),\n",
       "                                 ['Area', 'Facade', 'Bedrooms', 'Price']),\n",
       "                                ('cate',\n",
       "                                 Pipeline(steps=[('imputer',\n",
       "                                                  SimpleImputer(strategy='most_frequent')),\n",
       "                                                 ('encoder',\n",
       "                                                  <__main__.MyLEncoder object at 0x000001C0C593FEE0>)]),\n",
       "                                 ['Location', 'Street', 'Type', 'Legal Doc'])])</pre></div></div></div><div class=\"sk-parallel\"><div class=\"sk-parallel-item\"><div class=\"sk-item\"><div class=\"sk-label-container\"><div class=\"sk-label sk-toggleable\"><input class=\"sk-toggleable__control sk-hidden--visually\" id=\"ae0dac79-301c-43d8-88f9-58e41a3fd5d5\" type=\"checkbox\" ><label class=\"sk-toggleable__label\" for=\"ae0dac79-301c-43d8-88f9-58e41a3fd5d5\">other</label><div class=\"sk-toggleable__content\"><pre>['Area', 'Facade', 'Bedrooms', 'Price']</pre></div></div></div><div class=\"sk-serial\"><div class=\"sk-item\"><div class=\"sk-estimator sk-toggleable\"><input class=\"sk-toggleable__control sk-hidden--visually\" id=\"a3b90ca1-6c41-4ae9-a892-b8c8d85e7ef3\" type=\"checkbox\" ><label class=\"sk-toggleable__label\" for=\"a3b90ca1-6c41-4ae9-a892-b8c8d85e7ef3\">SimpleImputer</label><div class=\"sk-toggleable__content\"><pre>SimpleImputer()</pre></div></div></div></div></div></div><div class=\"sk-parallel-item\"><div class=\"sk-item\"><div class=\"sk-label-container\"><div class=\"sk-label sk-toggleable\"><input class=\"sk-toggleable__control sk-hidden--visually\" id=\"1b443c24-203e-4752-a511-ff0ad8608479\" type=\"checkbox\" ><label class=\"sk-toggleable__label\" for=\"1b443c24-203e-4752-a511-ff0ad8608479\">cate</label><div class=\"sk-toggleable__content\"><pre>['Location', 'Street', 'Type', 'Legal Doc']</pre></div></div></div><div class=\"sk-serial\"><div class=\"sk-item\"><div class=\"sk-serial\"><div class=\"sk-item\"><div class=\"sk-estimator sk-toggleable\"><input class=\"sk-toggleable__control sk-hidden--visually\" id=\"5c404cec-03b0-448c-af14-43dba95ccdd7\" type=\"checkbox\" ><label class=\"sk-toggleable__label\" for=\"5c404cec-03b0-448c-af14-43dba95ccdd7\">SimpleImputer</label><div class=\"sk-toggleable__content\"><pre>SimpleImputer(strategy='most_frequent')</pre></div></div></div><div class=\"sk-item\"><div class=\"sk-estimator sk-toggleable\"><input class=\"sk-toggleable__control sk-hidden--visually\" id=\"d00b4bce-ea3a-44d8-82c7-9a31a3f9e1a8\" type=\"checkbox\" ><label class=\"sk-toggleable__label\" for=\"d00b4bce-ea3a-44d8-82c7-9a31a3f9e1a8\">MyLEncoder</label><div class=\"sk-toggleable__content\"><pre><__main__.MyLEncoder object at 0x000001C0C593FEE0></pre></div></div></div></div></div></div></div></div></div></div></div></div></div></div>"
      ],
      "text/plain": [
       "Pipeline(steps=[('transfer',\n",
       "                 ColumnTransformer(transformers=[('other', SimpleImputer(),\n",
       "                                                  ['Area', 'Facade', 'Bedrooms',\n",
       "                                                   'Price']),\n",
       "                                                 ('cate',\n",
       "                                                  Pipeline(steps=[('imputer',\n",
       "                                                                   SimpleImputer(strategy='most_frequent')),\n",
       "                                                                  ('encoder',\n",
       "                                                                   <__main__.MyLEncoder object at 0x000001C0C593FEE0>)]),\n",
       "                                                  ['Location', 'Street', 'Type',\n",
       "                                                   'Legal Doc'])]))])"
      ]
     },
     "execution_count": 63,
     "metadata": {},
     "output_type": "execute_result"
    }
   ],
   "source": [
    "# p = Pipeline(steps=[('transfer', transfer), ('scale', StandardScaler())])\n",
    "p = Pipeline(steps=[('transfer', transfer)])\n",
    "p"
   ]
  },
  {
   "cell_type": "code",
   "execution_count": 64,
   "metadata": {
    "colab": {
     "base_uri": "https://localhost:8080/",
     "height": 456
    },
    "id": "rTJAf68YhlUr",
    "outputId": "fbc19070-76f7-4a87-9913-6fb9ba86ce4f"
   },
   "outputs": [
    {
     "data": {
      "text/html": [
       "<div>\n",
       "<style scoped>\n",
       "    .dataframe tbody tr th:only-of-type {\n",
       "        vertical-align: middle;\n",
       "    }\n",
       "\n",
       "    .dataframe tbody tr th {\n",
       "        vertical-align: top;\n",
       "    }\n",
       "\n",
       "    .dataframe thead th {\n",
       "        text-align: right;\n",
       "    }\n",
       "</style>\n",
       "<table border=\"1\" class=\"dataframe\">\n",
       "  <thead>\n",
       "    <tr style=\"text-align: right;\">\n",
       "      <th></th>\n",
       "      <th>Bedroom</th>\n",
       "      <th>Facade</th>\n",
       "      <th>Area</th>\n",
       "      <th>Price</th>\n",
       "      <th>Location</th>\n",
       "      <th>Street</th>\n",
       "      <th>Type</th>\n",
       "      <th>Legal Doc</th>\n",
       "    </tr>\n",
       "  </thead>\n",
       "  <tbody>\n",
       "    <tr>\n",
       "      <th>0</th>\n",
       "      <td>90.0</td>\n",
       "      <td>5.0000</td>\n",
       "      <td>2.000</td>\n",
       "      <td>4.75</td>\n",
       "      <td>125.0</td>\n",
       "      <td>77.0</td>\n",
       "      <td>86.0</td>\n",
       "      <td>2.0</td>\n",
       "    </tr>\n",
       "    <tr>\n",
       "      <th>1</th>\n",
       "      <td>55.0</td>\n",
       "      <td>5.2923</td>\n",
       "      <td>4.004</td>\n",
       "      <td>0.77</td>\n",
       "      <td>127.0</td>\n",
       "      <td>78.0</td>\n",
       "      <td>1.0</td>\n",
       "      <td>5.0</td>\n",
       "    </tr>\n",
       "    <tr>\n",
       "      <th>2</th>\n",
       "      <td>51.0</td>\n",
       "      <td>5.2923</td>\n",
       "      <td>4.004</td>\n",
       "      <td>1.90</td>\n",
       "      <td>180.0</td>\n",
       "      <td>77.0</td>\n",
       "      <td>0.0</td>\n",
       "      <td>2.0</td>\n",
       "    </tr>\n",
       "    <tr>\n",
       "      <th>3</th>\n",
       "      <td>56.0</td>\n",
       "      <td>5.2923</td>\n",
       "      <td>4.004</td>\n",
       "      <td>0.66</td>\n",
       "      <td>132.0</td>\n",
       "      <td>78.0</td>\n",
       "      <td>1.0</td>\n",
       "      <td>5.0</td>\n",
       "    </tr>\n",
       "    <tr>\n",
       "      <th>4</th>\n",
       "      <td>30.0</td>\n",
       "      <td>5.2923</td>\n",
       "      <td>3.000</td>\n",
       "      <td>2.60</td>\n",
       "      <td>120.0</td>\n",
       "      <td>83.0</td>\n",
       "      <td>86.0</td>\n",
       "      <td>2.0</td>\n",
       "    </tr>\n",
       "    <tr>\n",
       "      <th>...</th>\n",
       "      <td>...</td>\n",
       "      <td>...</td>\n",
       "      <td>...</td>\n",
       "      <td>...</td>\n",
       "      <td>...</td>\n",
       "      <td>...</td>\n",
       "      <td>...</td>\n",
       "      <td>...</td>\n",
       "    </tr>\n",
       "    <tr>\n",
       "      <th>6338</th>\n",
       "      <td>55.0</td>\n",
       "      <td>3.5000</td>\n",
       "      <td>2.000</td>\n",
       "      <td>5.45</td>\n",
       "      <td>108.0</td>\n",
       "      <td>78.0</td>\n",
       "      <td>86.0</td>\n",
       "      <td>2.0</td>\n",
       "    </tr>\n",
       "    <tr>\n",
       "      <th>6339</th>\n",
       "      <td>90.0</td>\n",
       "      <td>4.5000</td>\n",
       "      <td>3.000</td>\n",
       "      <td>4.29</td>\n",
       "      <td>123.0</td>\n",
       "      <td>77.0</td>\n",
       "      <td>86.0</td>\n",
       "      <td>2.0</td>\n",
       "    </tr>\n",
       "    <tr>\n",
       "      <th>6340</th>\n",
       "      <td>43.0</td>\n",
       "      <td>6.0000</td>\n",
       "      <td>2.000</td>\n",
       "      <td>2.25</td>\n",
       "      <td>123.0</td>\n",
       "      <td>78.0</td>\n",
       "      <td>86.0</td>\n",
       "      <td>2.0</td>\n",
       "    </tr>\n",
       "    <tr>\n",
       "      <th>6341</th>\n",
       "      <td>33.0</td>\n",
       "      <td>5.2923</td>\n",
       "      <td>4.004</td>\n",
       "      <td>1.10</td>\n",
       "      <td>112.0</td>\n",
       "      <td>79.0</td>\n",
       "      <td>86.0</td>\n",
       "      <td>2.0</td>\n",
       "    </tr>\n",
       "    <tr>\n",
       "      <th>6342</th>\n",
       "      <td>46.0</td>\n",
       "      <td>4.0000</td>\n",
       "      <td>4.000</td>\n",
       "      <td>8.50</td>\n",
       "      <td>112.0</td>\n",
       "      <td>79.0</td>\n",
       "      <td>86.0</td>\n",
       "      <td>2.0</td>\n",
       "    </tr>\n",
       "  </tbody>\n",
       "</table>\n",
       "<p>6343 rows × 8 columns</p>\n",
       "</div>"
      ],
      "text/plain": [
       "      Bedroom  Facade   Area  Price  Location  Street  Type  Legal Doc\n",
       "0        90.0  5.0000  2.000   4.75     125.0    77.0  86.0        2.0\n",
       "1        55.0  5.2923  4.004   0.77     127.0    78.0   1.0        5.0\n",
       "2        51.0  5.2923  4.004   1.90     180.0    77.0   0.0        2.0\n",
       "3        56.0  5.2923  4.004   0.66     132.0    78.0   1.0        5.0\n",
       "4        30.0  5.2923  3.000   2.60     120.0    83.0  86.0        2.0\n",
       "...       ...     ...    ...    ...       ...     ...   ...        ...\n",
       "6338     55.0  3.5000  2.000   5.45     108.0    78.0  86.0        2.0\n",
       "6339     90.0  4.5000  3.000   4.29     123.0    77.0  86.0        2.0\n",
       "6340     43.0  6.0000  2.000   2.25     123.0    78.0  86.0        2.0\n",
       "6341     33.0  5.2923  4.004   1.10     112.0    79.0  86.0        2.0\n",
       "6342     46.0  4.0000  4.000   8.50     112.0    79.0  86.0        2.0\n",
       "\n",
       "[6343 rows x 8 columns]"
      ]
     },
     "execution_count": 64,
     "metadata": {},
     "output_type": "execute_result"
    }
   ],
   "source": [
    "a = p.fit_transform(house).round(4)\n",
    "scale_df = pd.DataFrame(a, columns = ['Bedroom'] + rem_num_col+ cate_col)\n",
    "scale_df"
   ]
  },
  {
   "cell_type": "code",
   "execution_count": 65,
   "metadata": {
    "id": "fWYARzaPlOgV"
   },
   "outputs": [],
   "source": [
    "y = scale_df['Price']\n",
    "# yy = scale_df['Price']\n",
    "scale_df.drop(['Price'], axis=1, inplace=True)"
   ]
  },
  {
   "cell_type": "code",
   "execution_count": 66,
   "metadata": {
    "id": "AFPKL8YUi7Pp"
   },
   "outputs": [],
   "source": [
    "import statsmodels.api as sm\n",
    "import statsmodels.formula.api as smf"
   ]
  },
  {
   "cell_type": "code",
   "execution_count": 67,
   "metadata": {
    "colab": {
     "base_uri": "https://localhost:8080/"
    },
    "id": "LbwgwbXAjCGI",
    "outputId": "f93c4006-f046-45b1-b8d2-7ebd03165336"
   },
   "outputs": [
    {
     "data": {
      "text/plain": [
       "(6343, 8)"
      ]
     },
     "execution_count": 67,
     "metadata": {},
     "output_type": "execute_result"
    }
   ],
   "source": [
    "X = sm.add_constant(scale_df)\n",
    "X.shape"
   ]
  },
  {
   "cell_type": "code",
   "execution_count": 68,
   "metadata": {
    "id": "HxgNsSS3k_qp"
   },
   "outputs": [],
   "source": [
    "result = sm.OLS(y, X).fit()"
   ]
  },
  {
   "cell_type": "code",
   "execution_count": 69,
   "metadata": {
    "colab": {
     "base_uri": "https://localhost:8080/",
     "height": 667
    },
    "id": "EFRCJCFOlE3y",
    "outputId": "c91c299f-d8b5-4158-acba-356cdbf33729"
   },
   "outputs": [
    {
     "data": {
      "text/html": [
       "<table class=\"simpletable\">\n",
       "<caption>OLS Regression Results</caption>\n",
       "<tr>\n",
       "  <th>Dep. Variable:</th>          <td>Price</td>      <th>  R-squared:         </th> <td>   0.098</td> \n",
       "</tr>\n",
       "<tr>\n",
       "  <th>Model:</th>                   <td>OLS</td>       <th>  Adj. R-squared:    </th> <td>   0.097</td> \n",
       "</tr>\n",
       "<tr>\n",
       "  <th>Method:</th>             <td>Least Squares</td>  <th>  F-statistic:       </th> <td>   98.55</td> \n",
       "</tr>\n",
       "<tr>\n",
       "  <th>Date:</th>             <td>Thu, 08 Jul 2021</td> <th>  Prob (F-statistic):</th> <td>3.34e-137</td>\n",
       "</tr>\n",
       "<tr>\n",
       "  <th>Time:</th>                 <td>16:42:34</td>     <th>  Log-Likelihood:    </th> <td> -24585.</td> \n",
       "</tr>\n",
       "<tr>\n",
       "  <th>No. Observations:</th>      <td>  6343</td>      <th>  AIC:               </th> <td>4.919e+04</td>\n",
       "</tr>\n",
       "<tr>\n",
       "  <th>Df Residuals:</th>          <td>  6335</td>      <th>  BIC:               </th> <td>4.924e+04</td>\n",
       "</tr>\n",
       "<tr>\n",
       "  <th>Df Model:</th>              <td>     7</td>      <th>                     </th>     <td> </td>    \n",
       "</tr>\n",
       "<tr>\n",
       "  <th>Covariance Type:</th>      <td>nonrobust</td>    <th>                     </th>     <td> </td>    \n",
       "</tr>\n",
       "</table>\n",
       "<table class=\"simpletable\">\n",
       "<tr>\n",
       "      <td></td>         <th>coef</th>     <th>std err</th>      <th>t</th>      <th>P>|t|</th>  <th>[0.025</th>    <th>0.975]</th>  \n",
       "</tr>\n",
       "<tr>\n",
       "  <th>const</th>     <td>   57.6768</td> <td>    4.321</td> <td>   13.348</td> <td> 0.000</td> <td>   49.206</td> <td>   66.147</td>\n",
       "</tr>\n",
       "<tr>\n",
       "  <th>Bedroom</th>   <td>    0.0001</td> <td>    0.000</td> <td>    0.867</td> <td> 0.386</td> <td>   -0.000</td> <td>    0.000</td>\n",
       "</tr>\n",
       "<tr>\n",
       "  <th>Facade</th>    <td>    0.1781</td> <td>    0.033</td> <td>    5.438</td> <td> 0.000</td> <td>    0.114</td> <td>    0.242</td>\n",
       "</tr>\n",
       "<tr>\n",
       "  <th>Area</th>      <td>    0.7815</td> <td>    0.045</td> <td>   17.249</td> <td> 0.000</td> <td>    0.693</td> <td>    0.870</td>\n",
       "</tr>\n",
       "<tr>\n",
       "  <th>Location</th>  <td>    0.0031</td> <td>    0.005</td> <td>    0.565</td> <td> 0.572</td> <td>   -0.008</td> <td>    0.014</td>\n",
       "</tr>\n",
       "<tr>\n",
       "  <th>Street</th>    <td>   -0.7404</td> <td>    0.053</td> <td>  -13.990</td> <td> 0.000</td> <td>   -0.844</td> <td>   -0.637</td>\n",
       "</tr>\n",
       "<tr>\n",
       "  <th>Type</th>      <td>    0.0587</td> <td>    0.005</td> <td>   11.934</td> <td> 0.000</td> <td>    0.049</td> <td>    0.068</td>\n",
       "</tr>\n",
       "<tr>\n",
       "  <th>Legal Doc</th> <td>   -0.0037</td> <td>    0.013</td> <td>   -0.280</td> <td> 0.780</td> <td>   -0.030</td> <td>    0.022</td>\n",
       "</tr>\n",
       "</table>\n",
       "<table class=\"simpletable\">\n",
       "<tr>\n",
       "  <th>Omnibus:</th>       <td>13240.151</td> <th>  Durbin-Watson:     </th>   <td>   1.933</td>  \n",
       "</tr>\n",
       "<tr>\n",
       "  <th>Prob(Omnibus):</th>  <td> 0.000</td>   <th>  Jarque-Bera (JB):  </th> <td>77506320.294</td>\n",
       "</tr>\n",
       "<tr>\n",
       "  <th>Skew:</th>           <td>17.602</td>   <th>  Prob(JB):          </th>   <td>    0.00</td>  \n",
       "</tr>\n",
       "<tr>\n",
       "  <th>Kurtosis:</th>       <td>543.390</td>  <th>  Cond. No.          </th>   <td>2.91e+04</td>  \n",
       "</tr>\n",
       "</table><br/><br/>Warnings:<br/>[1] Standard Errors assume that the covariance matrix of the errors is correctly specified.<br/>[2] The condition number is large, 2.91e+04. This might indicate that there are<br/>strong multicollinearity or other numerical problems."
      ],
      "text/plain": [
       "<class 'statsmodels.iolib.summary.Summary'>\n",
       "\"\"\"\n",
       "                            OLS Regression Results                            \n",
       "==============================================================================\n",
       "Dep. Variable:                  Price   R-squared:                       0.098\n",
       "Model:                            OLS   Adj. R-squared:                  0.097\n",
       "Method:                 Least Squares   F-statistic:                     98.55\n",
       "Date:                Thu, 08 Jul 2021   Prob (F-statistic):          3.34e-137\n",
       "Time:                        16:42:34   Log-Likelihood:                -24585.\n",
       "No. Observations:                6343   AIC:                         4.919e+04\n",
       "Df Residuals:                    6335   BIC:                         4.924e+04\n",
       "Df Model:                           7                                         \n",
       "Covariance Type:            nonrobust                                         \n",
       "==============================================================================\n",
       "                 coef    std err          t      P>|t|      [0.025      0.975]\n",
       "------------------------------------------------------------------------------\n",
       "const         57.6768      4.321     13.348      0.000      49.206      66.147\n",
       "Bedroom        0.0001      0.000      0.867      0.386      -0.000       0.000\n",
       "Facade         0.1781      0.033      5.438      0.000       0.114       0.242\n",
       "Area           0.7815      0.045     17.249      0.000       0.693       0.870\n",
       "Location       0.0031      0.005      0.565      0.572      -0.008       0.014\n",
       "Street        -0.7404      0.053    -13.990      0.000      -0.844      -0.637\n",
       "Type           0.0587      0.005     11.934      0.000       0.049       0.068\n",
       "Legal Doc     -0.0037      0.013     -0.280      0.780      -0.030       0.022\n",
       "==============================================================================\n",
       "Omnibus:                    13240.151   Durbin-Watson:                   1.933\n",
       "Prob(Omnibus):                  0.000   Jarque-Bera (JB):         77506320.294\n",
       "Skew:                          17.602   Prob(JB):                         0.00\n",
       "Kurtosis:                     543.390   Cond. No.                     2.91e+04\n",
       "==============================================================================\n",
       "\n",
       "Warnings:\n",
       "[1] Standard Errors assume that the covariance matrix of the errors is correctly specified.\n",
       "[2] The condition number is large, 2.91e+04. This might indicate that there are\n",
       "strong multicollinearity or other numerical problems.\n",
       "\"\"\""
      ]
     },
     "execution_count": 69,
     "metadata": {},
     "output_type": "execute_result"
    }
   ],
   "source": [
    "result.summary()"
   ]
  },
  {
   "cell_type": "markdown",
   "metadata": {
    "id": "yXGFoxRRpq3F"
   },
   "source": [
    "$\\rightarrow$ Dựa vào bảng trên, ta không thấy có biến nào có mỗi tương quan với biến phụ thuộc là **Price(million/m_square)**"
   ]
  },
  {
   "cell_type": "markdown",
   "metadata": {
    "id": "a3tjmg85qOV6"
   },
   "source": [
    "# Dự đoán giá nhà ở, chung cư bằng mô hình Linear Regression"
   ]
  },
  {
   "cell_type": "code",
   "execution_count": 70,
   "metadata": {},
   "outputs": [],
   "source": [
    "X_train, X_test, y_train, y_test = train_test_split(scale_df, y, test_size=0.33, random_state=2200)"
   ]
  },
  {
   "cell_type": "code",
   "execution_count": 71,
   "metadata": {
    "colab": {
     "base_uri": "https://localhost:8080/"
    },
    "id": "Cc-kS4xgrpPC",
    "outputId": "e3840a1a-2f40-49b8-fc2c-cfd8ee2898e3"
   },
   "outputs": [
    {
     "data": {
      "text/plain": [
       "(4249, 7)"
      ]
     },
     "execution_count": 71,
     "metadata": {},
     "output_type": "execute_result"
    }
   ],
   "source": [
    "X_train.shape"
   ]
  },
  {
   "cell_type": "code",
   "execution_count": 72,
   "metadata": {
    "colab": {
     "base_uri": "https://localhost:8080/"
    },
    "id": "w1-IOngprva8",
    "outputId": "31841a15-864e-47d6-de05-5f3f334cec52"
   },
   "outputs": [
    {
     "data": {
      "text/plain": [
       "(2094, 7)"
      ]
     },
     "execution_count": 72,
     "metadata": {},
     "output_type": "execute_result"
    }
   ],
   "source": [
    "X_test.shape"
   ]
  },
  {
   "cell_type": "code",
   "execution_count": 73,
   "metadata": {
    "colab": {
     "base_uri": "https://localhost:8080/"
    },
    "id": "OycR4Si9rx4q",
    "outputId": "7efee217-d5b2-41e2-d558-5069671a5b7f"
   },
   "outputs": [
    {
     "data": {
      "text/plain": [
       "(4249,)"
      ]
     },
     "execution_count": 73,
     "metadata": {},
     "output_type": "execute_result"
    }
   ],
   "source": [
    "y_train.shape"
   ]
  },
  {
   "cell_type": "code",
   "execution_count": 74,
   "metadata": {
    "colab": {
     "base_uri": "https://localhost:8080/"
    },
    "id": "jSa_V63nr0F_",
    "outputId": "70930e27-0659-4991-9ad4-71e6fd25cb78"
   },
   "outputs": [
    {
     "data": {
      "text/plain": [
       "(2094,)"
      ]
     },
     "execution_count": 74,
     "metadata": {},
     "output_type": "execute_result"
    }
   ],
   "source": [
    "y_test.shape"
   ]
  },
  {
   "cell_type": "code",
   "execution_count": 123,
   "metadata": {
    "colab": {
     "base_uri": "https://localhost:8080/",
     "height": 71
    },
    "id": "yKEAQUn5r1fh",
    "outputId": "0f014c3e-0f79-4ed1-a6fd-1d12d50bd364"
   },
   "outputs": [
    {
     "data": {
      "text/html": [
       "<style>#sk-95832cba-6bd3-4b4e-9311-5934e05573c8 {color: black;background-color: white;}#sk-95832cba-6bd3-4b4e-9311-5934e05573c8 pre{padding: 0;}#sk-95832cba-6bd3-4b4e-9311-5934e05573c8 div.sk-toggleable {background-color: white;}#sk-95832cba-6bd3-4b4e-9311-5934e05573c8 label.sk-toggleable__label {cursor: pointer;display: block;width: 100%;margin-bottom: 0;padding: 0.2em 0.3em;box-sizing: border-box;text-align: center;}#sk-95832cba-6bd3-4b4e-9311-5934e05573c8 div.sk-toggleable__content {max-height: 0;max-width: 0;overflow: hidden;text-align: left;background-color: #f0f8ff;}#sk-95832cba-6bd3-4b4e-9311-5934e05573c8 div.sk-toggleable__content pre {margin: 0.2em;color: black;border-radius: 0.25em;background-color: #f0f8ff;}#sk-95832cba-6bd3-4b4e-9311-5934e05573c8 input.sk-toggleable__control:checked~div.sk-toggleable__content {max-height: 200px;max-width: 100%;overflow: auto;}#sk-95832cba-6bd3-4b4e-9311-5934e05573c8 div.sk-estimator input.sk-toggleable__control:checked~label.sk-toggleable__label {background-color: #d4ebff;}#sk-95832cba-6bd3-4b4e-9311-5934e05573c8 div.sk-label input.sk-toggleable__control:checked~label.sk-toggleable__label {background-color: #d4ebff;}#sk-95832cba-6bd3-4b4e-9311-5934e05573c8 input.sk-hidden--visually {border: 0;clip: rect(1px 1px 1px 1px);clip: rect(1px, 1px, 1px, 1px);height: 1px;margin: -1px;overflow: hidden;padding: 0;position: absolute;width: 1px;}#sk-95832cba-6bd3-4b4e-9311-5934e05573c8 div.sk-estimator {font-family: monospace;background-color: #f0f8ff;margin: 0.25em 0.25em;border: 1px dotted black;border-radius: 0.25em;box-sizing: border-box;}#sk-95832cba-6bd3-4b4e-9311-5934e05573c8 div.sk-estimator:hover {background-color: #d4ebff;}#sk-95832cba-6bd3-4b4e-9311-5934e05573c8 div.sk-parallel-item::after {content: \"\";width: 100%;border-bottom: 1px solid gray;flex-grow: 1;}#sk-95832cba-6bd3-4b4e-9311-5934e05573c8 div.sk-label:hover label.sk-toggleable__label {background-color: #d4ebff;}#sk-95832cba-6bd3-4b4e-9311-5934e05573c8 div.sk-serial::before {content: \"\";position: absolute;border-left: 1px solid gray;box-sizing: border-box;top: 2em;bottom: 0;left: 50%;}#sk-95832cba-6bd3-4b4e-9311-5934e05573c8 div.sk-serial {display: flex;flex-direction: column;align-items: center;background-color: white;}#sk-95832cba-6bd3-4b4e-9311-5934e05573c8 div.sk-item {z-index: 1;}#sk-95832cba-6bd3-4b4e-9311-5934e05573c8 div.sk-parallel {display: flex;align-items: stretch;justify-content: center;background-color: white;}#sk-95832cba-6bd3-4b4e-9311-5934e05573c8 div.sk-parallel-item {display: flex;flex-direction: column;position: relative;background-color: white;}#sk-95832cba-6bd3-4b4e-9311-5934e05573c8 div.sk-parallel-item:first-child::after {align-self: flex-end;width: 50%;}#sk-95832cba-6bd3-4b4e-9311-5934e05573c8 div.sk-parallel-item:last-child::after {align-self: flex-start;width: 50%;}#sk-95832cba-6bd3-4b4e-9311-5934e05573c8 div.sk-parallel-item:only-child::after {width: 0;}#sk-95832cba-6bd3-4b4e-9311-5934e05573c8 div.sk-dashed-wrapped {border: 1px dashed gray;margin: 0.2em;box-sizing: border-box;padding-bottom: 0.1em;background-color: white;position: relative;}#sk-95832cba-6bd3-4b4e-9311-5934e05573c8 div.sk-label label {font-family: monospace;font-weight: bold;background-color: white;display: inline-block;line-height: 1.2em;}#sk-95832cba-6bd3-4b4e-9311-5934e05573c8 div.sk-label-container {position: relative;z-index: 2;text-align: center;}#sk-95832cba-6bd3-4b4e-9311-5934e05573c8 div.sk-container {display: inline-block;position: relative;}</style><div id=\"sk-95832cba-6bd3-4b4e-9311-5934e05573c8\" class\"sk-top-container\"><div class=\"sk-container\"><div class=\"sk-item\"><div class=\"sk-estimator sk-toggleable\"><input class=\"sk-toggleable__control sk-hidden--visually\" id=\"5d98f818-a340-4a57-978f-ced06af2e495\" type=\"checkbox\" checked><label class=\"sk-toggleable__label\" for=\"5d98f818-a340-4a57-978f-ced06af2e495\">LinearRegression</label><div class=\"sk-toggleable__content\"><pre>LinearRegression()</pre></div></div></div></div></div>"
      ],
      "text/plain": [
       "LinearRegression()"
      ]
     },
     "execution_count": 123,
     "metadata": {},
     "output_type": "execute_result"
    }
   ],
   "source": [
    "model = LinearRegression()\n",
    "model.fit(X_train, y_train)"
   ]
  },
  {
   "cell_type": "code",
   "execution_count": 76,
   "metadata": {
    "colab": {
     "base_uri": "https://localhost:8080/"
    },
    "id": "laD42M0oZ6FQ",
    "outputId": "a8d52294-a532-4224-cdf4-ce0a45fa530d"
   },
   "outputs": [
    {
     "data": {
      "text/plain": [
       "0.05850627313941992"
      ]
     },
     "execution_count": 76,
     "metadata": {},
     "output_type": "execute_result"
    }
   ],
   "source": [
    "model.score(X_test, y_test)"
   ]
  },
  {
   "cell_type": "code",
   "execution_count": 118,
   "metadata": {},
   "outputs": [],
   "source": [
    "from sklearn.decomposition import PCA\n",
    "pca = PCA(n_components=1)\n",
    "X_train_pca = pca.fit_transform(X_train)\n",
    "X_test_pca = pca.fit_transform(X_test)"
   ]
  },
  {
   "cell_type": "code",
   "execution_count": 125,
   "metadata": {},
   "outputs": [
    {
     "data": {
      "text/plain": [
       "0.00027129008308290903"
      ]
     },
     "execution_count": 125,
     "metadata": {},
     "output_type": "execute_result"
    }
   ],
   "source": [
    "model.fit(X_train_pca, y_train)\n",
    "model.score(X_test_pca, y_test)"
   ]
  },
  {
   "cell_type": "code",
   "execution_count": 126,
   "metadata": {},
   "outputs": [
    {
     "data": {
      "image/png": "[encoded data removed]",
      "text/plain": [
       "<Figure size 432x288 with 1 Axes>"
      ]
     },
     "metadata": {
      "needs_background": "light"
     },
     "output_type": "display_data"
    }
   ],
   "source": [
    "plt.scatter(X_test_pca, y_test)\n",
    "plt.plot(X_test_pca, model.predict(X_test_pca), color='red')\n",
    "plt.show()"
   ]
  },
  {
   "cell_type": "code",
   "execution_count": 90,
   "metadata": {},
   "outputs": [],
   "source": [
    "# from sklearn.neighbors import LocalOutlierFactor\n",
    "# lof = LocalOutlierFactor()\n",
    "# yhat = lof.fit_predict(X_train)\n",
    "# mask = yhat != -1\n",
    "# X_train_new, y_train_new = X_train.iloc[mask, :], y_train[mask]"
   ]
  },
  {
   "cell_type": "code",
   "execution_count": 122,
   "metadata": {},
   "outputs": [],
   "source": [
    "# model.fit(X_train_new, y_train_new)\n",
    "# model.score(X_test, y_test)"
   ]
  },
  {
   "cell_type": "code",
   "execution_count": null,
   "metadata": {},
   "outputs": [],
   "source": []
  }
 ],
 "metadata": {
  "colab": {
   "collapsed_sections": [],
   "include_colab_link": true,
   "name": "Preprocessing.ipynb",
   "provenance": []
  },
  "kernelspec": {
   "display_name": "Python 3",
   "language": "python",
   "name": "python3"
  },
  "language_info": {
   "codemirror_mode": {
    "name": "ipython",
    "version": 3
   },
   "file_extension": ".py",
   "mimetype": "text/x-python",
   "name": "python",
   "nbconvert_exporter": "python",
   "pygments_lexer": "ipython3",
   "version": "3.8.3"
  }
 },
 "nbformat": 4,
 "nbformat_minor": 1
}
