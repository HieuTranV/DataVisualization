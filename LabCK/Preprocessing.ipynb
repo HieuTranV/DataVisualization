{
  "nbformat": 4,
  "nbformat_minor": 0,
  "metadata": {
    "kernelspec": {
      "display_name": "Python 3",
      "language": "python",
      "name": "python3"
    },
    "language_info": {
      "codemirror_mode": {
        "name": "ipython",
        "version": 3
      },
      "file_extension": ".py",
      "mimetype": "text/x-python",
      "name": "python",
      "nbconvert_exporter": "python",
      "pygments_lexer": "ipython3",
      "version": "3.8.3"
    },
    "colab": {
      "name": "Preprocessing.ipynb",
      "provenance": [],
      "collapsed_sections": [],
      "include_colab_link": true
    }
  },
  "cells": [
    {
      "cell_type": "markdown",
      "metadata": {
        "id": "view-in-github",
        "colab_type": "text"
      },
      "source": [
        "<a href=\"https://colab.research.google.com/github/HieuTranV/DataVisualization/blob/dev/LabCK/Preprocessing.ipynb\" target=\"_parent\"><img src=\"https://colab.research.google.com/assets/colab-badge.svg\" alt=\"Open In Colab\"/></a>"
      ]
    },
    {
      "cell_type": "code",
      "metadata": {
        "id": "KmGZw1xsHUZR"
      },
      "source": [
        "import pandas as pd\n",
        "import numpy as np\n",
        "import matplotlib.pyplot as plt\n",
        "import seaborn as sns\n",
        "import warnings\n",
        "import re\n",
        "import scipy.stats\n",
        "warnings.filterwarnings('ignore') "
      ],
      "execution_count": null,
      "outputs": []
    },
    {
      "cell_type": "code",
      "metadata": {
        "id": "UbkKypQnHUZW"
      },
      "source": [
        "data = pd.read_csv('data_update.csv')"
      ],
      "execution_count": null,
      "outputs": []
    },
    {
      "cell_type": "code",
      "metadata": {
        "id": "P2T1hY-hHUZX",
        "colab": {
          "base_uri": "https://localhost:8080/",
          "height": 419
        },
        "outputId": "3c174848-3e51-483b-e768-63ba5b40b770"
      },
      "source": [
        "data"
      ],
      "execution_count": null,
      "outputs": [
        {
          "output_type": "execute_result",
          "data": {
            "text/html": [
              "<div>\n",
              "<style scoped>\n",
              "    .dataframe tbody tr th:only-of-type {\n",
              "        vertical-align: middle;\n",
              "    }\n",
              "\n",
              "    .dataframe tbody tr th {\n",
              "        vertical-align: top;\n",
              "    }\n",
              "\n",
              "    .dataframe thead th {\n",
              "        text-align: right;\n",
              "    }\n",
              "</style>\n",
              "<table border=\"1\" class=\"dataframe\">\n",
              "  <thead>\n",
              "    <tr style=\"text-align: right;\">\n",
              "      <th></th>\n",
              "      <th>Price</th>\n",
              "      <th>Location</th>\n",
              "      <th>Area</th>\n",
              "      <th>Street</th>\n",
              "      <th>Facade</th>\n",
              "      <th>Direction</th>\n",
              "      <th>Saler</th>\n",
              "      <th>Type</th>\n",
              "      <th>Floor</th>\n",
              "      <th>Bathrooms</th>\n",
              "      <th>Bedrooms</th>\n",
              "      <th>Legal Doc</th>\n",
              "    </tr>\n",
              "  </thead>\n",
              "  <tbody>\n",
              "    <tr>\n",
              "      <th>0</th>\n",
              "      <td>4.75 Tỷ - 52.78 Triệu/m²</td>\n",
              "      <td>Quận Sơn Trà, Thành phố Đà Nẵng</td>\n",
              "      <td>90 m²</td>\n",
              "      <td>Mặt phố - Mặt đường</td>\n",
              "      <td>5m</td>\n",
              "      <td>Đông Bắc</td>\n",
              "      <td>Nhà môi giới</td>\n",
              "      <td>Nhà ở</td>\n",
              "      <td>---</td>\n",
              "      <td>---</td>\n",
              "      <td>2</td>\n",
              "      <td>---</td>\n",
              "    </tr>\n",
              "    <tr>\n",
              "      <th>1</th>\n",
              "      <td>Thương lượng</td>\n",
              "      <td>Thị xã Phổ Yên, Tỉnh Thái Nguyên</td>\n",
              "      <td>120 m²</td>\n",
              "      <td>Mặt phố - Mặt đường</td>\n",
              "      <td>8.5m</td>\n",
              "      <td>---</td>\n",
              "      <td>Sàn bất động sản</td>\n",
              "      <td>Đất - Đất nền - Nhà như đất</td>\n",
              "      <td>---</td>\n",
              "      <td>---</td>\n",
              "      <td>---</td>\n",
              "      <td>Giấy CN QSDĐ - Sổ đỏ - Sổ hồng</td>\n",
              "    </tr>\n",
              "    <tr>\n",
              "      <th>2</th>\n",
              "      <td>2.2 Tỷ - 56.41 Triệu/m²</td>\n",
              "      <td>Huyện Hoài Đức, Thành phố Hà Nội</td>\n",
              "      <td>39 m²</td>\n",
              "      <td>Ngõ 1 ô tô</td>\n",
              "      <td>3.5m</td>\n",
              "      <td>Tây</td>\n",
              "      <td>Chính chủ</td>\n",
              "      <td>Đất - Đất nền - Nhà như đất</td>\n",
              "      <td>---</td>\n",
              "      <td>---</td>\n",
              "      <td>---</td>\n",
              "      <td>Giấy CN QSDĐ - Sổ đỏ - Sổ hồng</td>\n",
              "    </tr>\n",
              "    <tr>\n",
              "      <th>3</th>\n",
              "      <td>770 Triệu - 14 Triệu/m²</td>\n",
              "      <td>Quận Thanh Xuân, Thành phố Hà Nội</td>\n",
              "      <td>55 m²</td>\n",
              "      <td>Ngõ 1 ô tô</td>\n",
              "      <td>---</td>\n",
              "      <td>---</td>\n",
              "      <td>Chính chủ</td>\n",
              "      <td>Chung cư, Chung cư mini</td>\n",
              "      <td>---</td>\n",
              "      <td>---</td>\n",
              "      <td>---</td>\n",
              "      <td>Giấy CN QSDĐ - Sổ đỏ - Sổ hồng, Hợp đồng mua bán</td>\n",
              "    </tr>\n",
              "    <tr>\n",
              "      <th>4</th>\n",
              "      <td>890 Triệu - 8.9 Triệu/m²</td>\n",
              "      <td>Huyện Bàu Bàng, Tỉnh Bình Dương</td>\n",
              "      <td>100 m²</td>\n",
              "      <td>Ngõ 4 ô tô trở lên</td>\n",
              "      <td>5m</td>\n",
              "      <td>Tây</td>\n",
              "      <td>Nhà môi giới</td>\n",
              "      <td>Đất - Đất nền - Nhà như đất</td>\n",
              "      <td>---</td>\n",
              "      <td>---</td>\n",
              "      <td>---</td>\n",
              "      <td>Giấy CN QSDĐ - Sổ đỏ - Sổ hồng</td>\n",
              "    </tr>\n",
              "    <tr>\n",
              "      <th>...</th>\n",
              "      <td>...</td>\n",
              "      <td>...</td>\n",
              "      <td>...</td>\n",
              "      <td>...</td>\n",
              "      <td>...</td>\n",
              "      <td>...</td>\n",
              "      <td>...</td>\n",
              "      <td>...</td>\n",
              "      <td>...</td>\n",
              "      <td>...</td>\n",
              "      <td>...</td>\n",
              "      <td>...</td>\n",
              "    </tr>\n",
              "    <tr>\n",
              "      <th>11936</th>\n",
              "      <td>2.25 Tỷ - 52.33 Triệu/m²</td>\n",
              "      <td>Quận Ninh Kiều, Thành phố Cần Thơ</td>\n",
              "      <td>43 m²</td>\n",
              "      <td>Ngõ 1 ô tô</td>\n",
              "      <td>6m</td>\n",
              "      <td>Tây Nam</td>\n",
              "      <td>Nhà môi giới</td>\n",
              "      <td>Nhà ở</td>\n",
              "      <td>---</td>\n",
              "      <td>2</td>\n",
              "      <td>2</td>\n",
              "      <td>Giấy CN QSDĐ - Sổ đỏ - Sổ hồng</td>\n",
              "    </tr>\n",
              "    <tr>\n",
              "      <th>11937</th>\n",
              "      <td>1.1 Tỷ - 33.33 Triệu/m²</td>\n",
              "      <td>Quận Hà Đông, Thành phố Hà Nội</td>\n",
              "      <td>33 m²</td>\n",
              "      <td>Ngõ 2 ô tô tránh</td>\n",
              "      <td>---</td>\n",
              "      <td>---</td>\n",
              "      <td>Chính chủ</td>\n",
              "      <td>Nhà ở</td>\n",
              "      <td>---</td>\n",
              "      <td>---</td>\n",
              "      <td>---</td>\n",
              "      <td>Giấy CN QSDĐ - Sổ đỏ - Sổ hồng</td>\n",
              "    </tr>\n",
              "    <tr>\n",
              "      <th>11938</th>\n",
              "      <td>1 Tỷ - 10 Triệu/m²</td>\n",
              "      <td>Huyện Lục Yên, Tỉnh Yên Bái</td>\n",
              "      <td>100 m²</td>\n",
              "      <td>Mặt phố - Mặt đường</td>\n",
              "      <td>---</td>\n",
              "      <td>---</td>\n",
              "      <td>Nhà môi giới</td>\n",
              "      <td>Đất - Đất nền - Nhà như đất</td>\n",
              "      <td>---</td>\n",
              "      <td>---</td>\n",
              "      <td>---</td>\n",
              "      <td>Giấy CN QSDĐ - Sổ đỏ - Sổ hồng</td>\n",
              "    </tr>\n",
              "    <tr>\n",
              "      <th>11939</th>\n",
              "      <td>25 Tỷ - 50 Triệu/m²</td>\n",
              "      <td>Thành phố Vũng Tàu, Tỉnh Bà Rịa - Vũng Tàu</td>\n",
              "      <td>500 m²</td>\n",
              "      <td>Mặt phố - Mặt đường</td>\n",
              "      <td>---</td>\n",
              "      <td>Đông Nam</td>\n",
              "      <td>Nhà môi giới</td>\n",
              "      <td>Đất - Đất nền - Nhà như đất</td>\n",
              "      <td>---</td>\n",
              "      <td>---</td>\n",
              "      <td>---</td>\n",
              "      <td>---</td>\n",
              "    </tr>\n",
              "    <tr>\n",
              "      <th>11940</th>\n",
              "      <td>8.5 Tỷ - 184.78 Triệu/m²</td>\n",
              "      <td>Quận Hà Đông, Thành phố Hà Nội</td>\n",
              "      <td>46 m²</td>\n",
              "      <td>Ngõ 2 ô tô tránh</td>\n",
              "      <td>4m</td>\n",
              "      <td>---</td>\n",
              "      <td>Nhà môi giới</td>\n",
              "      <td>Nhà ở</td>\n",
              "      <td>---</td>\n",
              "      <td>3</td>\n",
              "      <td>4</td>\n",
              "      <td>Giấy CN QSDĐ - Sổ đỏ - Sổ hồng</td>\n",
              "    </tr>\n",
              "  </tbody>\n",
              "</table>\n",
              "<p>11941 rows × 12 columns</p>\n",
              "</div>"
            ],
            "text/plain": [
              "                          Price  ...                                         Legal Doc\n",
              "0      4.75 Tỷ - 52.78 Triệu/m²  ...                                               ---\n",
              "1                  Thương lượng  ...                    Giấy CN QSDĐ - Sổ đỏ - Sổ hồng\n",
              "2       2.2 Tỷ - 56.41 Triệu/m²  ...                    Giấy CN QSDĐ - Sổ đỏ - Sổ hồng\n",
              "3       770 Triệu - 14 Triệu/m²  ...  Giấy CN QSDĐ - Sổ đỏ - Sổ hồng, Hợp đồng mua bán\n",
              "4      890 Triệu - 8.9 Triệu/m²  ...                    Giấy CN QSDĐ - Sổ đỏ - Sổ hồng\n",
              "...                         ...  ...                                               ...\n",
              "11936  2.25 Tỷ - 52.33 Triệu/m²  ...                    Giấy CN QSDĐ - Sổ đỏ - Sổ hồng\n",
              "11937   1.1 Tỷ - 33.33 Triệu/m²  ...                    Giấy CN QSDĐ - Sổ đỏ - Sổ hồng\n",
              "11938        1 Tỷ - 10 Triệu/m²  ...                    Giấy CN QSDĐ - Sổ đỏ - Sổ hồng\n",
              "11939       25 Tỷ - 50 Triệu/m²  ...                                               ---\n",
              "11940  8.5 Tỷ - 184.78 Triệu/m²  ...                    Giấy CN QSDĐ - Sổ đỏ - Sổ hồng\n",
              "\n",
              "[11941 rows x 12 columns]"
            ]
          },
          "metadata": {
            "tags": []
          },
          "execution_count": 3
        }
      ]
    },
    {
      "cell_type": "code",
      "metadata": {
        "id": "a9yNG5h9HUZZ",
        "colab": {
          "base_uri": "https://localhost:8080/"
        },
        "outputId": "28554ef3-cedc-4177-fe61-ea672e3f1713"
      },
      "source": [
        "data.iloc[5294]"
      ],
      "execution_count": null,
      "outputs": [
        {
          "output_type": "execute_result",
          "data": {
            "text/plain": [
              "Price                     3,750,000,000 Tỷ - 93,750,000 Tỷ/m²\n",
              "Location                   Quận Nam Từ Liêm, Thành phố Hà Nội\n",
              "Area                                                    40 m²\n",
              "Street                                       Ngõ 2 ô tô tránh\n",
              "Facade                                                    ---\n",
              "Direction                                                 ---\n",
              "Saler                                            Nhà môi giới\n",
              "Type                                                    Nhà ở\n",
              "Floor                                                     ---\n",
              "Bathrooms                                                   6\n",
              "Bedrooms                                                    6\n",
              "Legal Doc    Giấy CN QSDĐ - Sổ đỏ - Sổ hồng, Hợp đồng mua bán\n",
              "Name: 5294, dtype: object"
            ]
          },
          "metadata": {
            "tags": []
          },
          "execution_count": 4
        }
      ]
    },
    {
      "cell_type": "code",
      "metadata": {
        "id": "VkkN4fyIHUZa"
      },
      "source": [
        "# data = data.drop([5294,7581])"
      ],
      "execution_count": null,
      "outputs": []
    },
    {
      "cell_type": "code",
      "metadata": {
        "id": "AUsDzi-AHUZb",
        "colab": {
          "base_uri": "https://localhost:8080/"
        },
        "outputId": "065fcb5a-4b8b-46df-c1e8-2b40a9920e60"
      },
      "source": [
        "data.iloc[6837]"
      ],
      "execution_count": null,
      "outputs": [
        {
          "output_type": "execute_result",
          "data": {
            "text/plain": [
              "Price               17.5 Tỷ - 35 Nghìn/m²\n",
              "Location     Huyện Tân Lạc, Tỉnh Hoà Bình\n",
              "Area                           500,000 m²\n",
              "Street                                ---\n",
              "Facade                                ---\n",
              "Direction                             ---\n",
              "Saler                        Nhà môi giới\n",
              "Type          Đất - Đất nền - Nhà như đất\n",
              "Floor                                 ---\n",
              "Bathrooms                             ---\n",
              "Bedrooms                              ---\n",
              "Legal Doc                             ---\n",
              "Name: 6837, dtype: object"
            ]
          },
          "metadata": {
            "tags": []
          },
          "execution_count": 6
        }
      ]
    },
    {
      "cell_type": "code",
      "metadata": {
        "id": "yFN77kVvHUZc"
      },
      "source": [
        "for name in data.columns:\n",
        "    data[name].replace('---', np.NaN, inplace=True)"
      ],
      "execution_count": null,
      "outputs": []
    },
    {
      "cell_type": "code",
      "metadata": {
        "id": "sIuFbws0HUZd",
        "colab": {
          "base_uri": "https://localhost:8080/"
        },
        "outputId": "192367e6-f686-4aca-df03-6559e1b7c4ef"
      },
      "source": [
        "num_row_dup = data.duplicated().sum()\n",
        "num_row_dup"
      ],
      "execution_count": null,
      "outputs": [
        {
          "output_type": "execute_result",
          "data": {
            "text/plain": [
              "1185"
            ]
          },
          "metadata": {
            "tags": []
          },
          "execution_count": 8
        }
      ]
    },
    {
      "cell_type": "code",
      "metadata": {
        "id": "RmKNbVQ3HUZe",
        "colab": {
          "base_uri": "https://localhost:8080/"
        },
        "outputId": "f1890f0c-0537-441e-c4b0-685edcf03428"
      },
      "source": [
        "new_data = data.drop_duplicates()\n",
        "new_data.info()"
      ],
      "execution_count": null,
      "outputs": [
        {
          "output_type": "stream",
          "text": [
            "<class 'pandas.core.frame.DataFrame'>\n",
            "Int64Index: 10756 entries, 0 to 11940\n",
            "Data columns (total 12 columns):\n",
            " #   Column     Non-Null Count  Dtype \n",
            "---  ------     --------------  ----- \n",
            " 0   Price      10756 non-null  object\n",
            " 1   Location   10756 non-null  object\n",
            " 2   Area       10649 non-null  object\n",
            " 3   Street     9625 non-null   object\n",
            " 4   Facade     5688 non-null   object\n",
            " 5   Direction  1948 non-null   object\n",
            " 6   Saler      10756 non-null  object\n",
            " 7   Type       10754 non-null  object\n",
            " 8   Floor      474 non-null    object\n",
            " 9   Bathrooms  2064 non-null   object\n",
            " 10  Bedrooms   4748 non-null   object\n",
            " 11  Legal Doc  9099 non-null   object\n",
            "dtypes: object(12)\n",
            "memory usage: 1.1+ MB\n"
          ],
          "name": "stdout"
        }
      ]
    },
    {
      "cell_type": "code",
      "metadata": {
        "id": "YQnx9rpZHUZf",
        "colab": {
          "base_uri": "https://localhost:8080/",
          "height": 419
        },
        "outputId": "25e6871a-916e-4dfa-fc2a-6b4bb380c1da"
      },
      "source": [
        "new_data = new_data[new_data.Price != 'Thương lượng']\n",
        "new_data"
      ],
      "execution_count": null,
      "outputs": [
        {
          "output_type": "execute_result",
          "data": {
            "text/html": [
              "<div>\n",
              "<style scoped>\n",
              "    .dataframe tbody tr th:only-of-type {\n",
              "        vertical-align: middle;\n",
              "    }\n",
              "\n",
              "    .dataframe tbody tr th {\n",
              "        vertical-align: top;\n",
              "    }\n",
              "\n",
              "    .dataframe thead th {\n",
              "        text-align: right;\n",
              "    }\n",
              "</style>\n",
              "<table border=\"1\" class=\"dataframe\">\n",
              "  <thead>\n",
              "    <tr style=\"text-align: right;\">\n",
              "      <th></th>\n",
              "      <th>Price</th>\n",
              "      <th>Location</th>\n",
              "      <th>Area</th>\n",
              "      <th>Street</th>\n",
              "      <th>Facade</th>\n",
              "      <th>Direction</th>\n",
              "      <th>Saler</th>\n",
              "      <th>Type</th>\n",
              "      <th>Floor</th>\n",
              "      <th>Bathrooms</th>\n",
              "      <th>Bedrooms</th>\n",
              "      <th>Legal Doc</th>\n",
              "    </tr>\n",
              "  </thead>\n",
              "  <tbody>\n",
              "    <tr>\n",
              "      <th>0</th>\n",
              "      <td>4.75 Tỷ - 52.78 Triệu/m²</td>\n",
              "      <td>Quận Sơn Trà, Thành phố Đà Nẵng</td>\n",
              "      <td>90 m²</td>\n",
              "      <td>Mặt phố - Mặt đường</td>\n",
              "      <td>5m</td>\n",
              "      <td>Đông Bắc</td>\n",
              "      <td>Nhà môi giới</td>\n",
              "      <td>Nhà ở</td>\n",
              "      <td>NaN</td>\n",
              "      <td>NaN</td>\n",
              "      <td>2</td>\n",
              "      <td>NaN</td>\n",
              "    </tr>\n",
              "    <tr>\n",
              "      <th>2</th>\n",
              "      <td>2.2 Tỷ - 56.41 Triệu/m²</td>\n",
              "      <td>Huyện Hoài Đức, Thành phố Hà Nội</td>\n",
              "      <td>39 m²</td>\n",
              "      <td>Ngõ 1 ô tô</td>\n",
              "      <td>3.5m</td>\n",
              "      <td>Tây</td>\n",
              "      <td>Chính chủ</td>\n",
              "      <td>Đất - Đất nền - Nhà như đất</td>\n",
              "      <td>NaN</td>\n",
              "      <td>NaN</td>\n",
              "      <td>NaN</td>\n",
              "      <td>Giấy CN QSDĐ - Sổ đỏ - Sổ hồng</td>\n",
              "    </tr>\n",
              "    <tr>\n",
              "      <th>3</th>\n",
              "      <td>770 Triệu - 14 Triệu/m²</td>\n",
              "      <td>Quận Thanh Xuân, Thành phố Hà Nội</td>\n",
              "      <td>55 m²</td>\n",
              "      <td>Ngõ 1 ô tô</td>\n",
              "      <td>NaN</td>\n",
              "      <td>NaN</td>\n",
              "      <td>Chính chủ</td>\n",
              "      <td>Chung cư, Chung cư mini</td>\n",
              "      <td>NaN</td>\n",
              "      <td>NaN</td>\n",
              "      <td>NaN</td>\n",
              "      <td>Giấy CN QSDĐ - Sổ đỏ - Sổ hồng, Hợp đồng mua bán</td>\n",
              "    </tr>\n",
              "    <tr>\n",
              "      <th>4</th>\n",
              "      <td>890 Triệu - 8.9 Triệu/m²</td>\n",
              "      <td>Huyện Bàu Bàng, Tỉnh Bình Dương</td>\n",
              "      <td>100 m²</td>\n",
              "      <td>Ngõ 4 ô tô trở lên</td>\n",
              "      <td>5m</td>\n",
              "      <td>Tây</td>\n",
              "      <td>Nhà môi giới</td>\n",
              "      <td>Đất - Đất nền - Nhà như đất</td>\n",
              "      <td>NaN</td>\n",
              "      <td>NaN</td>\n",
              "      <td>NaN</td>\n",
              "      <td>Giấy CN QSDĐ - Sổ đỏ - Sổ hồng</td>\n",
              "    </tr>\n",
              "    <tr>\n",
              "      <th>5</th>\n",
              "      <td>800 Triệu - 19.51 Triệu/m²</td>\n",
              "      <td>Huyện Gia Lâm, Thành phố Hà Nội</td>\n",
              "      <td>41 m²</td>\n",
              "      <td>Ngõ ngách</td>\n",
              "      <td>3.6m</td>\n",
              "      <td>NaN</td>\n",
              "      <td>Nhà môi giới</td>\n",
              "      <td>Đất - Đất nền - Nhà như đất</td>\n",
              "      <td>NaN</td>\n",
              "      <td>NaN</td>\n",
              "      <td>NaN</td>\n",
              "      <td>Giấy CN QSDĐ - Sổ đỏ - Sổ hồng</td>\n",
              "    </tr>\n",
              "    <tr>\n",
              "      <th>...</th>\n",
              "      <td>...</td>\n",
              "      <td>...</td>\n",
              "      <td>...</td>\n",
              "      <td>...</td>\n",
              "      <td>...</td>\n",
              "      <td>...</td>\n",
              "      <td>...</td>\n",
              "      <td>...</td>\n",
              "      <td>...</td>\n",
              "      <td>...</td>\n",
              "      <td>...</td>\n",
              "      <td>...</td>\n",
              "    </tr>\n",
              "    <tr>\n",
              "      <th>11936</th>\n",
              "      <td>2.25 Tỷ - 52.33 Triệu/m²</td>\n",
              "      <td>Quận Ninh Kiều, Thành phố Cần Thơ</td>\n",
              "      <td>43 m²</td>\n",
              "      <td>Ngõ 1 ô tô</td>\n",
              "      <td>6m</td>\n",
              "      <td>Tây Nam</td>\n",
              "      <td>Nhà môi giới</td>\n",
              "      <td>Nhà ở</td>\n",
              "      <td>NaN</td>\n",
              "      <td>2</td>\n",
              "      <td>2</td>\n",
              "      <td>Giấy CN QSDĐ - Sổ đỏ - Sổ hồng</td>\n",
              "    </tr>\n",
              "    <tr>\n",
              "      <th>11937</th>\n",
              "      <td>1.1 Tỷ - 33.33 Triệu/m²</td>\n",
              "      <td>Quận Hà Đông, Thành phố Hà Nội</td>\n",
              "      <td>33 m²</td>\n",
              "      <td>Ngõ 2 ô tô tránh</td>\n",
              "      <td>NaN</td>\n",
              "      <td>NaN</td>\n",
              "      <td>Chính chủ</td>\n",
              "      <td>Nhà ở</td>\n",
              "      <td>NaN</td>\n",
              "      <td>NaN</td>\n",
              "      <td>NaN</td>\n",
              "      <td>Giấy CN QSDĐ - Sổ đỏ - Sổ hồng</td>\n",
              "    </tr>\n",
              "    <tr>\n",
              "      <th>11938</th>\n",
              "      <td>1 Tỷ - 10 Triệu/m²</td>\n",
              "      <td>Huyện Lục Yên, Tỉnh Yên Bái</td>\n",
              "      <td>100 m²</td>\n",
              "      <td>Mặt phố - Mặt đường</td>\n",
              "      <td>NaN</td>\n",
              "      <td>NaN</td>\n",
              "      <td>Nhà môi giới</td>\n",
              "      <td>Đất - Đất nền - Nhà như đất</td>\n",
              "      <td>NaN</td>\n",
              "      <td>NaN</td>\n",
              "      <td>NaN</td>\n",
              "      <td>Giấy CN QSDĐ - Sổ đỏ - Sổ hồng</td>\n",
              "    </tr>\n",
              "    <tr>\n",
              "      <th>11939</th>\n",
              "      <td>25 Tỷ - 50 Triệu/m²</td>\n",
              "      <td>Thành phố Vũng Tàu, Tỉnh Bà Rịa - Vũng Tàu</td>\n",
              "      <td>500 m²</td>\n",
              "      <td>Mặt phố - Mặt đường</td>\n",
              "      <td>NaN</td>\n",
              "      <td>Đông Nam</td>\n",
              "      <td>Nhà môi giới</td>\n",
              "      <td>Đất - Đất nền - Nhà như đất</td>\n",
              "      <td>NaN</td>\n",
              "      <td>NaN</td>\n",
              "      <td>NaN</td>\n",
              "      <td>NaN</td>\n",
              "    </tr>\n",
              "    <tr>\n",
              "      <th>11940</th>\n",
              "      <td>8.5 Tỷ - 184.78 Triệu/m²</td>\n",
              "      <td>Quận Hà Đông, Thành phố Hà Nội</td>\n",
              "      <td>46 m²</td>\n",
              "      <td>Ngõ 2 ô tô tránh</td>\n",
              "      <td>4m</td>\n",
              "      <td>NaN</td>\n",
              "      <td>Nhà môi giới</td>\n",
              "      <td>Nhà ở</td>\n",
              "      <td>NaN</td>\n",
              "      <td>3</td>\n",
              "      <td>4</td>\n",
              "      <td>Giấy CN QSDĐ - Sổ đỏ - Sổ hồng</td>\n",
              "    </tr>\n",
              "  </tbody>\n",
              "</table>\n",
              "<p>10042 rows × 12 columns</p>\n",
              "</div>"
            ],
            "text/plain": [
              "                            Price  ...                                         Legal Doc\n",
              "0        4.75 Tỷ - 52.78 Triệu/m²  ...                                               NaN\n",
              "2         2.2 Tỷ - 56.41 Triệu/m²  ...                    Giấy CN QSDĐ - Sổ đỏ - Sổ hồng\n",
              "3         770 Triệu - 14 Triệu/m²  ...  Giấy CN QSDĐ - Sổ đỏ - Sổ hồng, Hợp đồng mua bán\n",
              "4        890 Triệu - 8.9 Triệu/m²  ...                    Giấy CN QSDĐ - Sổ đỏ - Sổ hồng\n",
              "5      800 Triệu - 19.51 Triệu/m²  ...                    Giấy CN QSDĐ - Sổ đỏ - Sổ hồng\n",
              "...                           ...  ...                                               ...\n",
              "11936    2.25 Tỷ - 52.33 Triệu/m²  ...                    Giấy CN QSDĐ - Sổ đỏ - Sổ hồng\n",
              "11937     1.1 Tỷ - 33.33 Triệu/m²  ...                    Giấy CN QSDĐ - Sổ đỏ - Sổ hồng\n",
              "11938          1 Tỷ - 10 Triệu/m²  ...                    Giấy CN QSDĐ - Sổ đỏ - Sổ hồng\n",
              "11939         25 Tỷ - 50 Triệu/m²  ...                                               NaN\n",
              "11940    8.5 Tỷ - 184.78 Triệu/m²  ...                    Giấy CN QSDĐ - Sổ đỏ - Sổ hồng\n",
              "\n",
              "[10042 rows x 12 columns]"
            ]
          },
          "metadata": {
            "tags": []
          },
          "execution_count": 10
        }
      ]
    },
    {
      "cell_type": "code",
      "metadata": {
        "id": "ohnH1wNOHUZg",
        "colab": {
          "base_uri": "https://localhost:8080/",
          "height": 80
        },
        "outputId": "34aa58c9-894b-4e54-af46-90985d277bbb"
      },
      "source": [
        "new_data[new_data['Price'] == '2,260,000 Tỷ - 29,736.84 Tỷ/m²']"
      ],
      "execution_count": null,
      "outputs": [
        {
          "output_type": "execute_result",
          "data": {
            "text/html": [
              "<div>\n",
              "<style scoped>\n",
              "    .dataframe tbody tr th:only-of-type {\n",
              "        vertical-align: middle;\n",
              "    }\n",
              "\n",
              "    .dataframe tbody tr th {\n",
              "        vertical-align: top;\n",
              "    }\n",
              "\n",
              "    .dataframe thead th {\n",
              "        text-align: right;\n",
              "    }\n",
              "</style>\n",
              "<table border=\"1\" class=\"dataframe\">\n",
              "  <thead>\n",
              "    <tr style=\"text-align: right;\">\n",
              "      <th></th>\n",
              "      <th>Price</th>\n",
              "      <th>Location</th>\n",
              "      <th>Area</th>\n",
              "      <th>Street</th>\n",
              "      <th>Facade</th>\n",
              "      <th>Direction</th>\n",
              "      <th>Saler</th>\n",
              "      <th>Type</th>\n",
              "      <th>Floor</th>\n",
              "      <th>Bathrooms</th>\n",
              "      <th>Bedrooms</th>\n",
              "      <th>Legal Doc</th>\n",
              "    </tr>\n",
              "  </thead>\n",
              "  <tbody>\n",
              "    <tr>\n",
              "      <th>7581</th>\n",
              "      <td>2,260,000 Tỷ - 29,736.84 Tỷ/m²</td>\n",
              "      <td>Thành phố Vũng Tàu, Tỉnh Bà Rịa - Vũng Tàu</td>\n",
              "      <td>76 m²</td>\n",
              "      <td>NaN</td>\n",
              "      <td>NaN</td>\n",
              "      <td>NaN</td>\n",
              "      <td>Nhà môi giới</td>\n",
              "      <td>Chung cư</td>\n",
              "      <td>NaN</td>\n",
              "      <td>NaN</td>\n",
              "      <td>NaN</td>\n",
              "      <td>NaN</td>\n",
              "    </tr>\n",
              "  </tbody>\n",
              "</table>\n",
              "</div>"
            ],
            "text/plain": [
              "                               Price  ... Legal Doc\n",
              "7581  2,260,000 Tỷ - 29,736.84 Tỷ/m²  ...       NaN\n",
              "\n",
              "[1 rows x 12 columns]"
            ]
          },
          "metadata": {
            "tags": []
          },
          "execution_count": 11
        }
      ]
    },
    {
      "cell_type": "code",
      "metadata": {
        "id": "-04JneiNHUZg",
        "colab": {
          "base_uri": "https://localhost:8080/"
        },
        "outputId": "ad24c84e-984f-417c-fae6-f6c2ef22585d"
      },
      "source": [
        "regexp = re.compile(r'(\\d+[.,]?\\d*[,.]?\\d*)\\s(\\w+)\\s?-?\\s?(\\d+[.,]?\\d*[,.]?\\d*)?\\s?(\\w+\\W\\w+)?')\n",
        "row = '1,500,000 Tỷ - 10,714.29 Tỷ/m²'\n",
        "matches = regexp.findall(row)\n",
        "matches"
      ],
      "execution_count": null,
      "outputs": [
        {
          "output_type": "execute_result",
          "data": {
            "text/plain": [
              "[('1,500,000', 'Tỷ', '10,714.29', 'Tỷ/m²')]"
            ]
          },
          "metadata": {
            "tags": []
          },
          "execution_count": 12
        }
      ]
    },
    {
      "cell_type": "code",
      "metadata": {
        "id": "l8KJ6TpKHUZh"
      },
      "source": [
        "def convert_Price_col(prices):\n",
        "    list_price = []\n",
        "    list_price_per_squarem = []\n",
        "    weird_index = []\n",
        "    \n",
        "    for index, price in enumerate(prices):\n",
        "        pr = float(regexp.sub(r'\\1', price).replace(\",\",\"\"))\n",
        "        if regexp.sub(r'\\2', price) == 'Triệu':\n",
        "            pr /= 1e3\n",
        "        pp = regexp.sub(r'\\3', price).replace(\",\",\"\")\n",
        "        p_unit = regexp.sub(r'\\4', price)\n",
        "        if pp == '':\n",
        "            pp = np.NaN\n",
        "        if p_unit != 'Triệu/m²':\n",
        "            weird_index.append(index)\n",
        "            if p_unit == 'Tỷ/m²':\n",
        "                pp = float(pp)*1e3\n",
        "            elif p_unit == 'Nghìn/m²':\n",
        "                pp = float(pp)/1e6\n",
        "        list_price.append(pr)\n",
        "        list_price_per_squarem.append(float(pp)) \n",
        "    return list_price, list_price_per_squarem, weird_index\n",
        "\n",
        "list_price, list_price_per_squarem, weird_index = convert_Price_col(list(new_data['Price']))"
      ],
      "execution_count": null,
      "outputs": []
    },
    {
      "cell_type": "code",
      "metadata": {
        "id": "aShOSlgbHUZi",
        "colab": {
          "base_uri": "https://localhost:8080/"
        },
        "outputId": "c576772f-2b23-4d15-90e9-ddb6c5dd48d3"
      },
      "source": [
        "len(weird_index)"
      ],
      "execution_count": null,
      "outputs": [
        {
          "output_type": "execute_result",
          "data": {
            "text/plain": [
              "344"
            ]
          },
          "metadata": {
            "tags": []
          },
          "execution_count": 14
        }
      ]
    },
    {
      "cell_type": "code",
      "metadata": {
        "id": "w4_1MHgLHUZj"
      },
      "source": [
        "# for idx in weird_index:\n",
        "#     print([idx])"
      ],
      "execution_count": null,
      "outputs": []
    },
    {
      "cell_type": "code",
      "metadata": {
        "id": "xbqkaJGOHUZj"
      },
      "source": [
        "new_data['Price(million/m_square)'] = list_price_per_squarem\n",
        "new_data['Price'] = list_price"
      ],
      "execution_count": null,
      "outputs": []
    },
    {
      "cell_type": "code",
      "metadata": {
        "id": "cDSkorAsHUZj"
      },
      "source": [
        "def convert_Area_col(row):\n",
        "    return float(row[:row.find('m²')].strip().replace(\",\",\"\"))\n",
        "\n",
        "new_data['Area'] = new_data['Area'].apply(lambda x : convert_Area_col(x) if x == x else x) \n",
        "new_data['Facade'] = new_data['Facade'].apply(lambda x : convert_Area_col(x) if x == x else x) "
      ],
      "execution_count": null,
      "outputs": []
    },
    {
      "cell_type": "markdown",
      "metadata": {
        "id": "iqhWvsPeHUZk"
      },
      "source": [
        "- Price: đơn vị tỷ"
      ]
    },
    {
      "cell_type": "code",
      "metadata": {
        "id": "5UnGP_1oHUZk",
        "colab": {
          "base_uri": "https://localhost:8080/",
          "height": 204
        },
        "outputId": "6d0f28ed-048d-48c0-98ee-2a4bb5975df2"
      },
      "source": [
        "new_data.tail(5)"
      ],
      "execution_count": null,
      "outputs": [
        {
          "output_type": "execute_result",
          "data": {
            "text/html": [
              "<div>\n",
              "<style scoped>\n",
              "    .dataframe tbody tr th:only-of-type {\n",
              "        vertical-align: middle;\n",
              "    }\n",
              "\n",
              "    .dataframe tbody tr th {\n",
              "        vertical-align: top;\n",
              "    }\n",
              "\n",
              "    .dataframe thead th {\n",
              "        text-align: right;\n",
              "    }\n",
              "</style>\n",
              "<table border=\"1\" class=\"dataframe\">\n",
              "  <thead>\n",
              "    <tr style=\"text-align: right;\">\n",
              "      <th></th>\n",
              "      <th>Price</th>\n",
              "      <th>Location</th>\n",
              "      <th>Area</th>\n",
              "      <th>Street</th>\n",
              "      <th>Facade</th>\n",
              "      <th>Direction</th>\n",
              "      <th>Saler</th>\n",
              "      <th>Type</th>\n",
              "      <th>Floor</th>\n",
              "      <th>Bathrooms</th>\n",
              "      <th>Bedrooms</th>\n",
              "      <th>Legal Doc</th>\n",
              "      <th>Price(million/m_square)</th>\n",
              "    </tr>\n",
              "  </thead>\n",
              "  <tbody>\n",
              "    <tr>\n",
              "      <th>11936</th>\n",
              "      <td>2.25</td>\n",
              "      <td>Quận Ninh Kiều, Thành phố Cần Thơ</td>\n",
              "      <td>43.0</td>\n",
              "      <td>Ngõ 1 ô tô</td>\n",
              "      <td>6.0</td>\n",
              "      <td>Tây Nam</td>\n",
              "      <td>Nhà môi giới</td>\n",
              "      <td>Nhà ở</td>\n",
              "      <td>NaN</td>\n",
              "      <td>2</td>\n",
              "      <td>2</td>\n",
              "      <td>Giấy CN QSDĐ - Sổ đỏ - Sổ hồng</td>\n",
              "      <td>52.33</td>\n",
              "    </tr>\n",
              "    <tr>\n",
              "      <th>11937</th>\n",
              "      <td>1.10</td>\n",
              "      <td>Quận Hà Đông, Thành phố Hà Nội</td>\n",
              "      <td>33.0</td>\n",
              "      <td>Ngõ 2 ô tô tránh</td>\n",
              "      <td>NaN</td>\n",
              "      <td>NaN</td>\n",
              "      <td>Chính chủ</td>\n",
              "      <td>Nhà ở</td>\n",
              "      <td>NaN</td>\n",
              "      <td>NaN</td>\n",
              "      <td>NaN</td>\n",
              "      <td>Giấy CN QSDĐ - Sổ đỏ - Sổ hồng</td>\n",
              "      <td>33.33</td>\n",
              "    </tr>\n",
              "    <tr>\n",
              "      <th>11938</th>\n",
              "      <td>1.00</td>\n",
              "      <td>Huyện Lục Yên, Tỉnh Yên Bái</td>\n",
              "      <td>100.0</td>\n",
              "      <td>Mặt phố - Mặt đường</td>\n",
              "      <td>NaN</td>\n",
              "      <td>NaN</td>\n",
              "      <td>Nhà môi giới</td>\n",
              "      <td>Đất - Đất nền - Nhà như đất</td>\n",
              "      <td>NaN</td>\n",
              "      <td>NaN</td>\n",
              "      <td>NaN</td>\n",
              "      <td>Giấy CN QSDĐ - Sổ đỏ - Sổ hồng</td>\n",
              "      <td>10.00</td>\n",
              "    </tr>\n",
              "    <tr>\n",
              "      <th>11939</th>\n",
              "      <td>25.00</td>\n",
              "      <td>Thành phố Vũng Tàu, Tỉnh Bà Rịa - Vũng Tàu</td>\n",
              "      <td>500.0</td>\n",
              "      <td>Mặt phố - Mặt đường</td>\n",
              "      <td>NaN</td>\n",
              "      <td>Đông Nam</td>\n",
              "      <td>Nhà môi giới</td>\n",
              "      <td>Đất - Đất nền - Nhà như đất</td>\n",
              "      <td>NaN</td>\n",
              "      <td>NaN</td>\n",
              "      <td>NaN</td>\n",
              "      <td>NaN</td>\n",
              "      <td>50.00</td>\n",
              "    </tr>\n",
              "    <tr>\n",
              "      <th>11940</th>\n",
              "      <td>8.50</td>\n",
              "      <td>Quận Hà Đông, Thành phố Hà Nội</td>\n",
              "      <td>46.0</td>\n",
              "      <td>Ngõ 2 ô tô tránh</td>\n",
              "      <td>4.0</td>\n",
              "      <td>NaN</td>\n",
              "      <td>Nhà môi giới</td>\n",
              "      <td>Nhà ở</td>\n",
              "      <td>NaN</td>\n",
              "      <td>3</td>\n",
              "      <td>4</td>\n",
              "      <td>Giấy CN QSDĐ - Sổ đỏ - Sổ hồng</td>\n",
              "      <td>184.78</td>\n",
              "    </tr>\n",
              "  </tbody>\n",
              "</table>\n",
              "</div>"
            ],
            "text/plain": [
              "       Price  ... Price(million/m_square)\n",
              "11936   2.25  ...                   52.33\n",
              "11937   1.10  ...                   33.33\n",
              "11938   1.00  ...                   10.00\n",
              "11939  25.00  ...                   50.00\n",
              "11940   8.50  ...                  184.78\n",
              "\n",
              "[5 rows x 13 columns]"
            ]
          },
          "metadata": {
            "tags": []
          },
          "execution_count": 18
        }
      ]
    },
    {
      "cell_type": "code",
      "metadata": {
        "id": "NdC9SYnpHUZk"
      },
      "source": [
        "new_data['Floor'] = new_data['Floor'].astype(float)\n",
        "new_data['Bedrooms'] = new_data['Bedrooms'].astype(float)\n",
        "new_data['Bathrooms'] = new_data['Bathrooms'].astype(float)"
      ],
      "execution_count": null,
      "outputs": []
    },
    {
      "cell_type": "code",
      "metadata": {
        "id": "NoxwdsliHUZl",
        "colab": {
          "base_uri": "https://localhost:8080/"
        },
        "outputId": "60e93d6b-ed18-453e-f7a5-dc8cb7600b66"
      },
      "source": [
        "new_data.info()"
      ],
      "execution_count": null,
      "outputs": [
        {
          "output_type": "stream",
          "text": [
            "<class 'pandas.core.frame.DataFrame'>\n",
            "Int64Index: 10042 entries, 0 to 11940\n",
            "Data columns (total 13 columns):\n",
            " #   Column                   Non-Null Count  Dtype  \n",
            "---  ------                   --------------  -----  \n",
            " 0   Price                    10042 non-null  float64\n",
            " 1   Location                 10042 non-null  object \n",
            " 2   Area                     10009 non-null  float64\n",
            " 3   Street                   9027 non-null   object \n",
            " 4   Facade                   5417 non-null   float64\n",
            " 5   Direction                1845 non-null   object \n",
            " 6   Saler                    10042 non-null  object \n",
            " 7   Type                     10042 non-null  object \n",
            " 8   Floor                    465 non-null    float64\n",
            " 9   Bathrooms                1997 non-null   float64\n",
            " 10  Bedrooms                 4580 non-null   float64\n",
            " 11  Legal Doc                8542 non-null   object \n",
            " 12  Price(million/m_square)  10009 non-null  float64\n",
            "dtypes: float64(7), object(6)\n",
            "memory usage: 1.1+ MB\n"
          ],
          "name": "stdout"
        }
      ]
    },
    {
      "cell_type": "code",
      "metadata": {
        "id": "Lvin_I_zHUZl",
        "colab": {
          "base_uri": "https://localhost:8080/",
          "height": 261
        },
        "outputId": "5bc009ca-4577-40b9-c84f-ab9c0ec036ac"
      },
      "source": [
        "cat_col_df = new_data.select_dtypes(include='object')\n",
        "\n",
        "def missing_ratio(col):\n",
        "    return col.isna().mean()*100\n",
        "\n",
        "def top10_value_counts(col):\n",
        "    return dict(col.value_counts()[:10])\n",
        "\n",
        "category_stat = cat_col_df.agg([missing_ratio, pd.Series.nunique, top10_value_counts])\n",
        "pd.set_option('display.max_colwidth', 1000)\n",
        "category_stat"
      ],
      "execution_count": null,
      "outputs": [
        {
          "output_type": "execute_result",
          "data": {
            "text/html": [
              "<div>\n",
              "<style scoped>\n",
              "    .dataframe tbody tr th:only-of-type {\n",
              "        vertical-align: middle;\n",
              "    }\n",
              "\n",
              "    .dataframe tbody tr th {\n",
              "        vertical-align: top;\n",
              "    }\n",
              "\n",
              "    .dataframe thead th {\n",
              "        text-align: right;\n",
              "    }\n",
              "</style>\n",
              "<table border=\"1\" class=\"dataframe\">\n",
              "  <thead>\n",
              "    <tr style=\"text-align: right;\">\n",
              "      <th></th>\n",
              "      <th>Location</th>\n",
              "      <th>Street</th>\n",
              "      <th>Direction</th>\n",
              "      <th>Saler</th>\n",
              "      <th>Type</th>\n",
              "      <th>Legal Doc</th>\n",
              "    </tr>\n",
              "  </thead>\n",
              "  <tbody>\n",
              "    <tr>\n",
              "      <th>missing_ratio</th>\n",
              "      <td>0</td>\n",
              "      <td>10.1075</td>\n",
              "      <td>81.6272</td>\n",
              "      <td>0</td>\n",
              "      <td>0</td>\n",
              "      <td>14.9373</td>\n",
              "    </tr>\n",
              "    <tr>\n",
              "      <th>nunique</th>\n",
              "      <td>300</td>\n",
              "      <td>8</td>\n",
              "      <td>37</td>\n",
              "      <td>8</td>\n",
              "      <td>194</td>\n",
              "      <td>15</td>\n",
              "    </tr>\n",
              "    <tr>\n",
              "      <th>top10_value_counts</th>\n",
              "      <td>{'Quận Hà Đông, Thành phố Hà Nội': 630, 'Quận Đống Đa, Thành phố Hà Nội': 562, 'Quận Thanh Xuân, Thành phố Hà Nội': 513, 'Quận Cầu Giấy, Thành phố Hà Nội': 434, 'Quận Hoàng Mai, Thành phố Hà Nội': 361, 'Quận Bắc Từ Liêm, Thành phố Hà Nội': 354, 'Quận Hai Bà Trưng, Thành phố Hà Nội': 304, 'Quận Long Biên, Thành phố Hà Nội': 292, 'Thành phố Vũng Tàu, Tỉnh Bà Rịa - Vũng Tàu': 272, 'Quận Tây Hồ, Thành phố Hà Nội': 267}</td>\n",
              "      <td>{'Mặt phố - Mặt đường': 3329, 'Ngõ ô tô đỗ cửa': 1497, 'Ngõ 2 ô tô tránh': 1455, 'Ngõ ngách': 1445, 'Ngõ 1 ô tô': 1062, 'Ngõ 3 ô tô tránh': 174, 'Ngõ 4 ô tô trở lên': 45, 'Ngõ 4 ô tô tránh': 20}</td>\n",
              "      <td>{'Đông Nam': 365, 'Đông Bắc': 234, 'Tây Nam': 224, 'Tây Bắc': 221, 'Nam': 179, 'Đông': 136, 'Bắc': 117, 'Đông Tứ Trạch': 108, 'Tây Tứ Trạch': 81, 'Tây': 75}</td>\n",
              "      <td>{'Nhà môi giới': 7754, 'Chính chủ': 1839, 'Khách vãng lai': 181, 'Sàn bất động sản': 105, 'Chủ đầu tư': 98, 'Quảng cáo': 37, 'Nhà đầu tư': 27, 'Ngân Hàng': 1}</td>\n",
              "      <td>{'Nhà ở': 4720, 'Đất - Đất nền - Nhà như đất': 2684, 'Chung cư': 815, 'Biệt thự - Song lập - Đơn lập': 276, 'Nhà liền kề - Song lập - Đơn lập': 181, 'Shophouse - Nhà phố': 125, 'Nhà cấp 4': 120, 'Chung cư mini': 102, 'Nhà ở, Nhà liền kề - Song lập - Đơn lập': 51, 'Nhà ở, Đất - Đất nền - Nhà như đất': 48}</td>\n",
              "      <td>{'Giấy CN QSDĐ - Sổ đỏ - Sổ hồng': 8050, 'Giấy CN QSDĐ - Sổ đỏ - Sổ hồng, Hợp đồng mua bán': 315, 'Hợp đồng mua bán': 145, 'Đang làm giấy CN QSDĐ': 6, 'Đã có giấy hẹn lấy số': 5, 'Giấy CN QSDĐ - Sổ đỏ - Sổ hồng, Hợp đồng mua bán, Giấy tờ chứng minh nguồn gốc': 5, 'Hợp đồng góp vốn': 4, 'Giấy CN QSDĐ - Sổ đỏ - Sổ hồng, Hợp đồng mua bán, Hợp đồng góp vốn': 3, 'Giấy CN QSDĐ - Sổ đỏ - Sổ hồng, Giấy tờ chứng minh nguồn gốc': 2, 'Đất giao - Đất phân': 2}</td>\n",
              "    </tr>\n",
              "  </tbody>\n",
              "</table>\n",
              "</div>"
            ],
            "text/plain": [
              "                                                                                                                                                                                                                                                                                                                                                                                                                                              Location  ...                                                                                                                                                                                                                                                                                                                                                                                                                                                             Legal Doc\n",
              "missing_ratio                                                                                                                                                                                                                                                                                                                                                                                                                                        0  ...                                                                                                                                                                                                                                                                                                                                                                                                                                                               14.9373\n",
              "nunique                                                                                                                                                                                                                                                                                                                                                                                                                                            300  ...                                                                                                                                                                                                                                                                                                                                                                                                                                                                    15\n",
              "top10_value_counts  {'Quận Hà Đông, Thành phố Hà Nội': 630, 'Quận Đống Đa, Thành phố Hà Nội': 562, 'Quận Thanh Xuân, Thành phố Hà Nội': 513, 'Quận Cầu Giấy, Thành phố Hà Nội': 434, 'Quận Hoàng Mai, Thành phố Hà Nội': 361, 'Quận Bắc Từ Liêm, Thành phố Hà Nội': 354, 'Quận Hai Bà Trưng, Thành phố Hà Nội': 304, 'Quận Long Biên, Thành phố Hà Nội': 292, 'Thành phố Vũng Tàu, Tỉnh Bà Rịa - Vũng Tàu': 272, 'Quận Tây Hồ, Thành phố Hà Nội': 267}  ...  {'Giấy CN QSDĐ - Sổ đỏ - Sổ hồng': 8050, 'Giấy CN QSDĐ - Sổ đỏ - Sổ hồng, Hợp đồng mua bán': 315, 'Hợp đồng mua bán': 145, 'Đang làm giấy CN QSDĐ': 6, 'Đã có giấy hẹn lấy số': 5, 'Giấy CN QSDĐ - Sổ đỏ - Sổ hồng, Hợp đồng mua bán, Giấy tờ chứng minh nguồn gốc': 5, 'Hợp đồng góp vốn': 4, 'Giấy CN QSDĐ - Sổ đỏ - Sổ hồng, Hợp đồng mua bán, Hợp đồng góp vốn': 3, 'Giấy CN QSDĐ - Sổ đỏ - Sổ hồng, Giấy tờ chứng minh nguồn gốc': 2, 'Đất giao - Đất phân': 2}\n",
              "\n",
              "[3 rows x 6 columns]"
            ]
          },
          "metadata": {
            "tags": []
          },
          "execution_count": 21
        }
      ]
    },
    {
      "cell_type": "code",
      "metadata": {
        "id": "Mifp0XPpHUZl",
        "colab": {
          "base_uri": "https://localhost:8080/",
          "height": 235
        },
        "outputId": "8a325f2b-599a-418d-96db-aada1106ee34"
      },
      "source": [
        "numeric_cols_df = new_data.select_dtypes(exclude='object')\n",
        "\n",
        "def median(col):\n",
        "    return col.quantile(0.5)\n",
        "\n",
        "def lower_quantile(col):\n",
        "    return col.quantile(0.25)\n",
        "\n",
        "def upper_quantile(col):\n",
        "    return col.quantile(0.75)\n",
        "\n",
        "numeric_cols_df.agg([missing_ratio, min, median, lower_quantile, upper_quantile,max])"
      ],
      "execution_count": null,
      "outputs": [
        {
          "output_type": "execute_result",
          "data": {
            "text/html": [
              "<div>\n",
              "<style scoped>\n",
              "    .dataframe tbody tr th:only-of-type {\n",
              "        vertical-align: middle;\n",
              "    }\n",
              "\n",
              "    .dataframe tbody tr th {\n",
              "        vertical-align: top;\n",
              "    }\n",
              "\n",
              "    .dataframe thead th {\n",
              "        text-align: right;\n",
              "    }\n",
              "</style>\n",
              "<table border=\"1\" class=\"dataframe\">\n",
              "  <thead>\n",
              "    <tr style=\"text-align: right;\">\n",
              "      <th></th>\n",
              "      <th>Price</th>\n",
              "      <th>Area</th>\n",
              "      <th>Facade</th>\n",
              "      <th>Floor</th>\n",
              "      <th>Bathrooms</th>\n",
              "      <th>Bedrooms</th>\n",
              "      <th>Price(million/m_square)</th>\n",
              "    </tr>\n",
              "  </thead>\n",
              "  <tbody>\n",
              "    <tr>\n",
              "      <th>missing_ratio</th>\n",
              "      <td>0.000000e+00</td>\n",
              "      <td>0.32862</td>\n",
              "      <td>46.056562</td>\n",
              "      <td>95.369448</td>\n",
              "      <td>80.113523</td>\n",
              "      <td>54.391555</td>\n",
              "      <td>3.286198e-01</td>\n",
              "    </tr>\n",
              "    <tr>\n",
              "      <th>min</th>\n",
              "      <td>1.000000e-03</td>\n",
              "      <td>1.20000</td>\n",
              "      <td>1.000000</td>\n",
              "      <td>1.000000</td>\n",
              "      <td>1.000000</td>\n",
              "      <td>1.000000</td>\n",
              "      <td>1.280000e-06</td>\n",
              "    </tr>\n",
              "    <tr>\n",
              "      <th>median</th>\n",
              "      <td>3.600000e+00</td>\n",
              "      <td>72.00000</td>\n",
              "      <td>5.000000</td>\n",
              "      <td>4.000000</td>\n",
              "      <td>3.000000</td>\n",
              "      <td>3.000000</td>\n",
              "      <td>6.650000e+01</td>\n",
              "    </tr>\n",
              "    <tr>\n",
              "      <th>lower_quantile</th>\n",
              "      <td>1.870000e+00</td>\n",
              "      <td>46.00000</td>\n",
              "      <td>4.000000</td>\n",
              "      <td>3.000000</td>\n",
              "      <td>2.000000</td>\n",
              "      <td>2.000000</td>\n",
              "      <td>1.900000e+01</td>\n",
              "    </tr>\n",
              "    <tr>\n",
              "      <th>upper_quantile</th>\n",
              "      <td>6.500000e+00</td>\n",
              "      <td>118.00000</td>\n",
              "      <td>6.000000</td>\n",
              "      <td>5.000000</td>\n",
              "      <td>4.000000</td>\n",
              "      <td>4.000000</td>\n",
              "      <td>1.095200e+02</td>\n",
              "    </tr>\n",
              "    <tr>\n",
              "      <th>max</th>\n",
              "      <td>3.750000e+09</td>\n",
              "      <td>500000.00000</td>\n",
              "      <td>613.000000</td>\n",
              "      <td>50.000000</td>\n",
              "      <td>50.000000</td>\n",
              "      <td>111.000000</td>\n",
              "      <td>3.937500e+08</td>\n",
              "    </tr>\n",
              "  </tbody>\n",
              "</table>\n",
              "</div>"
            ],
            "text/plain": [
              "                       Price          Area  ...    Bedrooms  Price(million/m_square)\n",
              "missing_ratio   0.000000e+00       0.32862  ...   54.391555             3.286198e-01\n",
              "min             1.000000e-03       1.20000  ...    1.000000             1.280000e-06\n",
              "median          3.600000e+00      72.00000  ...    3.000000             6.650000e+01\n",
              "lower_quantile  1.870000e+00      46.00000  ...    2.000000             1.900000e+01\n",
              "upper_quantile  6.500000e+00     118.00000  ...    4.000000             1.095200e+02\n",
              "max             3.750000e+09  500000.00000  ...  111.000000             3.937500e+08\n",
              "\n",
              "[6 rows x 7 columns]"
            ]
          },
          "metadata": {
            "tags": []
          },
          "execution_count": 22
        }
      ]
    },
    {
      "cell_type": "code",
      "metadata": {
        "id": "fQnEs_TdHUZm"
      },
      "source": [
        "# new_data.drop(new_data.index[new_data['Price'] == 3.750000e+09], inplace = True)"
      ],
      "execution_count": null,
      "outputs": []
    },
    {
      "cell_type": "code",
      "metadata": {
        "id": "pxTrRb08HUZm",
        "colab": {
          "base_uri": "https://localhost:8080/"
        },
        "outputId": "dc24025e-0b23-4794-9262-79783f72fbcd"
      },
      "source": [
        "new_data.shape"
      ],
      "execution_count": null,
      "outputs": [
        {
          "output_type": "execute_result",
          "data": {
            "text/plain": [
              "(10042, 13)"
            ]
          },
          "metadata": {
            "tags": []
          },
          "execution_count": 24
        }
      ]
    },
    {
      "cell_type": "code",
      "metadata": {
        "id": "H_GAAba5HUZm",
        "colab": {
          "base_uri": "https://localhost:8080/"
        },
        "outputId": "2128d235-414e-422f-8b26-72f99ff85faa"
      },
      "source": [
        "new_data.info()"
      ],
      "execution_count": null,
      "outputs": [
        {
          "output_type": "stream",
          "text": [
            "<class 'pandas.core.frame.DataFrame'>\n",
            "Int64Index: 10042 entries, 0 to 11940\n",
            "Data columns (total 13 columns):\n",
            " #   Column                   Non-Null Count  Dtype  \n",
            "---  ------                   --------------  -----  \n",
            " 0   Price                    10042 non-null  float64\n",
            " 1   Location                 10042 non-null  object \n",
            " 2   Area                     10009 non-null  float64\n",
            " 3   Street                   9027 non-null   object \n",
            " 4   Facade                   5417 non-null   float64\n",
            " 5   Direction                1845 non-null   object \n",
            " 6   Saler                    10042 non-null  object \n",
            " 7   Type                     10042 non-null  object \n",
            " 8   Floor                    465 non-null    float64\n",
            " 9   Bathrooms                1997 non-null   float64\n",
            " 10  Bedrooms                 4580 non-null   float64\n",
            " 11  Legal Doc                8542 non-null   object \n",
            " 12  Price(million/m_square)  10009 non-null  float64\n",
            "dtypes: float64(7), object(6)\n",
            "memory usage: 1.1+ MB\n"
          ],
          "name": "stdout"
        }
      ]
    },
    {
      "cell_type": "code",
      "metadata": {
        "id": "3lyRjo0kHUZm",
        "colab": {
          "base_uri": "https://localhost:8080/",
          "height": 480
        },
        "outputId": "9a80d638-417c-418f-a313-31d948ddf99c"
      },
      "source": [
        "fig, ax = plt.subplots(1,2,figsize=(16,7))\n",
        "sns.barplot(x=new_data['Street'].dropna().unique(),y =new_data['Street'].value_counts(), ax=ax[0])\n",
        "ax[0].set_xticklabels(ax[0].get_xticklabels(),rotation=30)\n",
        "sns.barplot(x=new_data['Saler'].dropna().unique(),y =new_data['Saler'].value_counts(), ax=ax[1])\n",
        "ax[1].set_xticklabels(ax[1].get_xticklabels(),rotation=30)\n",
        "plt.show()"
      ],
      "execution_count": null,
      "outputs": [
        {
          "output_type": "display_data",
          "data": {
            "image/png": "[encoded data removed]",
            "text/plain": [
              "<Figure size 1152x504 with 2 Axes>"
            ]
          },
          "metadata": {
            "tags": [],
            "needs_background": "light"
          }
        }
      ]
    },
    {
      "cell_type": "code",
      "metadata": {
        "id": "zzLqyUAIHUZn",
        "colab": {
          "base_uri": "https://localhost:8080/"
        },
        "outputId": "4498b875-5a28-44e9-b906-6091d9953b71"
      },
      "source": [
        "new_data['Street'].value_counts()"
      ],
      "execution_count": null,
      "outputs": [
        {
          "output_type": "execute_result",
          "data": {
            "text/plain": [
              "Mặt phố - Mặt đường    3329\n",
              "Ngõ ô tô đỗ cửa        1497\n",
              "Ngõ 2 ô tô tránh       1455\n",
              "Ngõ ngách              1445\n",
              "Ngõ 1 ô tô             1062\n",
              "Ngõ 3 ô tô tránh        174\n",
              "Ngõ 4 ô tô trở lên       45\n",
              "Ngõ 4 ô tô tránh         20\n",
              "Name: Street, dtype: int64"
            ]
          },
          "metadata": {
            "tags": []
          },
          "execution_count": 27
        }
      ]
    },
    {
      "cell_type": "code",
      "metadata": {
        "id": "SgoHM7L2HUZn"
      },
      "source": [
        "# dict(new_data['Type'].value_counts())"
      ],
      "execution_count": null,
      "outputs": []
    },
    {
      "cell_type": "code",
      "metadata": {
        "id": "62eyZ2T1HUZn"
      },
      "source": [
        "new_data.Type.replace(['Chung cư, Chung cư mini', 'Chung cư, Chung cư mini', 'Biệt thự - Song lập - Đơn lập','Biệt thự du lịch','Nhà cấp 4'],\\\n",
        "                        ['Chung cư mini','Chung cư mini', 'Biệt thự','Biệt thự','Nhà ở' ],inplace=True)"
      ],
      "execution_count": null,
      "outputs": []
    },
    {
      "cell_type": "code",
      "metadata": {
        "id": "9Na_6dBKHUZn"
      },
      "source": [
        "list_type = list(new_data['Type'])\n",
        "for i in range(len(list_type)):\n",
        "    list_type[i] = list_type[i].split(',')[0]"
      ],
      "execution_count": null,
      "outputs": []
    },
    {
      "cell_type": "code",
      "metadata": {
        "id": "lPtdguEAHUZn"
      },
      "source": [
        "new_data['Type'] = list_type"
      ],
      "execution_count": null,
      "outputs": []
    },
    {
      "cell_type": "code",
      "metadata": {
        "id": "TDW8j2CrHUZn",
        "colab": {
          "base_uri": "https://localhost:8080/"
        },
        "outputId": "938fe60e-ec30-41c5-8a17-e24c56006174"
      },
      "source": [
        "len(new_data['Type'].value_counts())"
      ],
      "execution_count": null,
      "outputs": [
        {
          "output_type": "execute_result",
          "data": {
            "text/plain": [
              "25"
            ]
          },
          "metadata": {
            "tags": []
          },
          "execution_count": 32
        }
      ]
    },
    {
      "cell_type": "code",
      "metadata": {
        "id": "hdOWcMXSHUZo",
        "colab": {
          "base_uri": "https://localhost:8080/"
        },
        "outputId": "f80aeb85-ed1b-4754-ac0b-38f42ca12970"
      },
      "source": [
        "dict(new_data['Type'].value_counts())"
      ],
      "execution_count": null,
      "outputs": [
        {
          "output_type": "execute_result",
          "data": {
            "text/plain": [
              "{'Biệt thự': 276,\n",
              " 'Biệt thự - Song lập - Đơn lập': 83,\n",
              " 'Biệt thự du lịch': 3,\n",
              " 'Bất động sản khác': 33,\n",
              " 'Chung cư': 857,\n",
              " 'Chung cư mini': 155,\n",
              " 'Căn hộ cho thuê': 9,\n",
              " 'Căn hộ du lịch - Condotel': 14,\n",
              " 'Căn hộ dịch vụ - Homestay': 5,\n",
              " 'Dự án BĐS - Khu nghỉ dưỡng - Resort': 23,\n",
              " 'Karaoke': 1,\n",
              " 'Kho bãi - Nhà xưởng': 10,\n",
              " 'Khách sạn - Nhà nghỉ': 34,\n",
              " 'Mặt bằng thương mại': 21,\n",
              " 'Nhà cấp 4': 71,\n",
              " 'Nhà hàng - Cửa hàng - Ki ốt': 6,\n",
              " 'Nhà liền kề - Song lập - Đơn lập': 191,\n",
              " 'Nhà ở': 5264,\n",
              " 'Phòng trọ/ Nhà trọ': 29,\n",
              " 'Shophouse - Nhà phố': 137,\n",
              " 'Sàn văn phòng': 2,\n",
              " 'Toà nhà văn phòng': 18,\n",
              " 'Trang trại': 5,\n",
              " 'Tập thể': 9,\n",
              " 'Đất - Đất nền - Nhà như đất': 2786}"
            ]
          },
          "metadata": {
            "tags": []
          },
          "execution_count": 33
        }
      ]
    },
    {
      "cell_type": "code",
      "metadata": {
        "id": "PwAEjdjPHUZo",
        "colab": {
          "base_uri": "https://localhost:8080/",
          "height": 589
        },
        "outputId": "27865d34-1b65-45ca-bcd7-18679671dd2a"
      },
      "source": [
        "new_data[new_data['Type']=='Biệt thự - Song lập - Đơn lập']"
      ],
      "execution_count": null,
      "outputs": [
        {
          "output_type": "execute_result",
          "data": {
            "text/html": [
              "<div>\n",
              "<style scoped>\n",
              "    .dataframe tbody tr th:only-of-type {\n",
              "        vertical-align: middle;\n",
              "    }\n",
              "\n",
              "    .dataframe tbody tr th {\n",
              "        vertical-align: top;\n",
              "    }\n",
              "\n",
              "    .dataframe thead th {\n",
              "        text-align: right;\n",
              "    }\n",
              "</style>\n",
              "<table border=\"1\" class=\"dataframe\">\n",
              "  <thead>\n",
              "    <tr style=\"text-align: right;\">\n",
              "      <th></th>\n",
              "      <th>Price</th>\n",
              "      <th>Location</th>\n",
              "      <th>Area</th>\n",
              "      <th>Street</th>\n",
              "      <th>Facade</th>\n",
              "      <th>Direction</th>\n",
              "      <th>Saler</th>\n",
              "      <th>Type</th>\n",
              "      <th>Floor</th>\n",
              "      <th>Bathrooms</th>\n",
              "      <th>Bedrooms</th>\n",
              "      <th>Legal Doc</th>\n",
              "      <th>Price(million/m_square)</th>\n",
              "    </tr>\n",
              "  </thead>\n",
              "  <tbody>\n",
              "    <tr>\n",
              "      <th>182</th>\n",
              "      <td>31.000</td>\n",
              "      <td>Quận Tây Hồ, Thành phố Hà Nội</td>\n",
              "      <td>140.0</td>\n",
              "      <td>Mặt phố - Mặt đường</td>\n",
              "      <td>NaN</td>\n",
              "      <td>NaN</td>\n",
              "      <td>Nhà môi giới</td>\n",
              "      <td>Biệt thự - Song lập - Đơn lập</td>\n",
              "      <td>NaN</td>\n",
              "      <td>NaN</td>\n",
              "      <td>NaN</td>\n",
              "      <td>Giấy CN QSDĐ - Sổ đỏ - Sổ hồng</td>\n",
              "      <td>221.43</td>\n",
              "    </tr>\n",
              "    <tr>\n",
              "      <th>297</th>\n",
              "      <td>11.600</td>\n",
              "      <td>Huyện Đông Anh, Thành phố Hà Nội</td>\n",
              "      <td>108.0</td>\n",
              "      <td>Mặt phố - Mặt đường</td>\n",
              "      <td>NaN</td>\n",
              "      <td>NaN</td>\n",
              "      <td>Nhà môi giới</td>\n",
              "      <td>Biệt thự - Song lập - Đơn lập</td>\n",
              "      <td>NaN</td>\n",
              "      <td>NaN</td>\n",
              "      <td>NaN</td>\n",
              "      <td>Giấy CN QSDĐ - Sổ đỏ - Sổ hồng</td>\n",
              "      <td>107.41</td>\n",
              "    </tr>\n",
              "    <tr>\n",
              "      <th>357</th>\n",
              "      <td>2.400</td>\n",
              "      <td>Thành phố Bến Tre, Tỉnh Bến Tre</td>\n",
              "      <td>90.0</td>\n",
              "      <td>Mặt phố - Mặt đường</td>\n",
              "      <td>4.5</td>\n",
              "      <td>NaN</td>\n",
              "      <td>Nhà môi giới</td>\n",
              "      <td>Biệt thự - Song lập - Đơn lập</td>\n",
              "      <td>NaN</td>\n",
              "      <td>NaN</td>\n",
              "      <td>NaN</td>\n",
              "      <td>Giấy CN QSDĐ - Sổ đỏ - Sổ hồng</td>\n",
              "      <td>26.67</td>\n",
              "    </tr>\n",
              "    <tr>\n",
              "      <th>363</th>\n",
              "      <td>0.724</td>\n",
              "      <td>Thành phố Bến Tre, Tỉnh Bến Tre</td>\n",
              "      <td>50.0</td>\n",
              "      <td>Mặt phố - Mặt đường</td>\n",
              "      <td>NaN</td>\n",
              "      <td>NaN</td>\n",
              "      <td>Nhà môi giới</td>\n",
              "      <td>Biệt thự - Song lập - Đơn lập</td>\n",
              "      <td>NaN</td>\n",
              "      <td>NaN</td>\n",
              "      <td>2.0</td>\n",
              "      <td>Giấy CN QSDĐ - Sổ đỏ - Sổ hồng</td>\n",
              "      <td>14.48</td>\n",
              "    </tr>\n",
              "    <tr>\n",
              "      <th>399</th>\n",
              "      <td>4.200</td>\n",
              "      <td>Huyện Hoài Đức, Thành phố Hà Nội</td>\n",
              "      <td>100.0</td>\n",
              "      <td>Ngõ 2 ô tô tránh</td>\n",
              "      <td>NaN</td>\n",
              "      <td>NaN</td>\n",
              "      <td>Nhà môi giới</td>\n",
              "      <td>Biệt thự - Song lập - Đơn lập</td>\n",
              "      <td>NaN</td>\n",
              "      <td>NaN</td>\n",
              "      <td>NaN</td>\n",
              "      <td>Giấy CN QSDĐ - Sổ đỏ - Sổ hồng</td>\n",
              "      <td>42.00</td>\n",
              "    </tr>\n",
              "    <tr>\n",
              "      <th>...</th>\n",
              "      <td>...</td>\n",
              "      <td>...</td>\n",
              "      <td>...</td>\n",
              "      <td>...</td>\n",
              "      <td>...</td>\n",
              "      <td>...</td>\n",
              "      <td>...</td>\n",
              "      <td>...</td>\n",
              "      <td>...</td>\n",
              "      <td>...</td>\n",
              "      <td>...</td>\n",
              "      <td>...</td>\n",
              "      <td>...</td>\n",
              "    </tr>\n",
              "    <tr>\n",
              "      <th>11090</th>\n",
              "      <td>6.800</td>\n",
              "      <td>Quận Đống Đa, Thành phố Hà Nội</td>\n",
              "      <td>80.0</td>\n",
              "      <td>Ngõ ngách</td>\n",
              "      <td>4.0</td>\n",
              "      <td>Đông Bắc</td>\n",
              "      <td>Nhà môi giới</td>\n",
              "      <td>Biệt thự - Song lập - Đơn lập</td>\n",
              "      <td>NaN</td>\n",
              "      <td>3.0</td>\n",
              "      <td>4.0</td>\n",
              "      <td>Giấy CN QSDĐ - Sổ đỏ - Sổ hồng</td>\n",
              "      <td>85.00</td>\n",
              "    </tr>\n",
              "    <tr>\n",
              "      <th>11230</th>\n",
              "      <td>3.500</td>\n",
              "      <td>Thành phố Sóc Trăng, Tỉnh Sóc Trăng</td>\n",
              "      <td>270.0</td>\n",
              "      <td>Mặt phố - Mặt đường</td>\n",
              "      <td>NaN</td>\n",
              "      <td>NaN</td>\n",
              "      <td>Nhà môi giới</td>\n",
              "      <td>Biệt thự - Song lập - Đơn lập</td>\n",
              "      <td>NaN</td>\n",
              "      <td>NaN</td>\n",
              "      <td>NaN</td>\n",
              "      <td>Giấy CN QSDĐ - Sổ đỏ - Sổ hồng</td>\n",
              "      <td>12.96</td>\n",
              "    </tr>\n",
              "    <tr>\n",
              "      <th>11253</th>\n",
              "      <td>28.000</td>\n",
              "      <td>Quận Thanh Xuân, Thành phố Hà Nội</td>\n",
              "      <td>157.0</td>\n",
              "      <td>Ngõ 3 ô tô tránh</td>\n",
              "      <td>NaN</td>\n",
              "      <td>NaN</td>\n",
              "      <td>Nhà môi giới</td>\n",
              "      <td>Biệt thự - Song lập - Đơn lập</td>\n",
              "      <td>NaN</td>\n",
              "      <td>8.0</td>\n",
              "      <td>6.0</td>\n",
              "      <td>Giấy CN QSDĐ - Sổ đỏ - Sổ hồng</td>\n",
              "      <td>178.34</td>\n",
              "    </tr>\n",
              "    <tr>\n",
              "      <th>11293</th>\n",
              "      <td>3.500</td>\n",
              "      <td>Thị xã Thái Hòa, Tỉnh Nghệ An</td>\n",
              "      <td>138.0</td>\n",
              "      <td>Ngõ 2 ô tô tránh</td>\n",
              "      <td>NaN</td>\n",
              "      <td>NaN</td>\n",
              "      <td>Chính chủ</td>\n",
              "      <td>Biệt thự - Song lập - Đơn lập</td>\n",
              "      <td>NaN</td>\n",
              "      <td>NaN</td>\n",
              "      <td>NaN</td>\n",
              "      <td>NaN</td>\n",
              "      <td>25.36</td>\n",
              "    </tr>\n",
              "    <tr>\n",
              "      <th>11401</th>\n",
              "      <td>8.000</td>\n",
              "      <td>Thành phố Vinh, Tỉnh Nghệ An</td>\n",
              "      <td>240.0</td>\n",
              "      <td>Mặt phố - Mặt đường</td>\n",
              "      <td>14.0</td>\n",
              "      <td>Đông Tứ Trạch, Tây Tứ Trạch</td>\n",
              "      <td>Chủ đầu tư</td>\n",
              "      <td>Biệt thự - Song lập - Đơn lập</td>\n",
              "      <td>NaN</td>\n",
              "      <td>NaN</td>\n",
              "      <td>4.0</td>\n",
              "      <td>Giấy CN QSDĐ - Sổ đỏ - Sổ hồng, Hợp đồng mua bán</td>\n",
              "      <td>33.33</td>\n",
              "    </tr>\n",
              "  </tbody>\n",
              "</table>\n",
              "<p>83 rows × 13 columns</p>\n",
              "</div>"
            ],
            "text/plain": [
              "        Price  ... Price(million/m_square)\n",
              "182    31.000  ...                  221.43\n",
              "297    11.600  ...                  107.41\n",
              "357     2.400  ...                   26.67\n",
              "363     0.724  ...                   14.48\n",
              "399     4.200  ...                   42.00\n",
              "...       ...  ...                     ...\n",
              "11090   6.800  ...                   85.00\n",
              "11230   3.500  ...                   12.96\n",
              "11253  28.000  ...                  178.34\n",
              "11293   3.500  ...                   25.36\n",
              "11401   8.000  ...                   33.33\n",
              "\n",
              "[83 rows x 13 columns]"
            ]
          },
          "metadata": {
            "tags": []
          },
          "execution_count": 34
        }
      ]
    },
    {
      "cell_type": "markdown",
      "metadata": {
        "id": "3Tgko16gHUZo"
      },
      "source": [
        "1 - Chung cư thường phân bổ ở những tỉnh thành nào? giải thích? <br>\n",
        "2 - Các chung cư có nhiều phòng ngủ sẽ có giá cao hơn đúng không? <br>\n",
        "3 - Diện tích các căn chung cư 1 phòng ngủ thường dưới 50 mét vuông đúng không? <br>\n",
        "4 - Nhà ở TP Hồ Chí Minh được bán nhiều hơn bởi Nhà môi giới hay chính chủ hay thông qua sàn giao dịch?<br>\n",
        "5 - Giá chung cư chưa có giấy tờ sẽ thấp hơn chung cư dã có giấy tờ?<br>\n",
        "6 - Nhà được bán bởi chính chú thường có giá thấp hơn nhà bán bởi nhà môi giới?<br>\n",
        "7 - Tại sao số bất động sản ở TP Hồ Chí Minh/Hà Nội lại nhiều hơn các tỉnh khác?<br>\n",
        "8 - Đất nền hay chugn cư có giá cao hơn?<br>\n",
        "9 - Những hơi nhiều đất nền thì ít chung cư và ngược lại đúng không ? Giải thích?<br>\n",
        "10 - Diện tích nhà ở trung bình của TP HCM nhỏ hơn Hà Nội đúng không?<br>\n",
        "11 - Phần lớn BĐS rao bán ở các TP?<br>\n",
        "12 - Giá trung bình biệt thự là bao nhiêu?<br>\n",
        "13 - Biệt thự thường tập trung ở các khu vực nào? Tại sao?<br>\n",
        "14 - Nhà ở ở đường lớn có giá cao hơn nhà ở trong ngõ?<br>\n",
        "15 - Nhà ở mặt phố thường có diện tích lớn hơn nhà ở trong ngõ?<br>\n",
        "16 - Nhà có nhiều phòng ngủ sẽ có nhiều nhà vệ sinh?<br>\n",
        "17 - Tại sao các tỉnh thành xung quanh TPHCM/HN thường bán nhà hoặc đất nền ? Giải thích?<br>\n",
        "18 - Tỉ lệ thành phần các loại bất động sản ở HCM, HN, ĐN<br>\n",
        "19 - Mỗi loại bất động sản ở quận 10, tphcm có giá trị tầm bn??<br>\n",
        "20 - Giá trị trung bình chung cư 2 phòng ngủ giữa các quận ở HCM<br>\n",
        "21 - Nơi nào ở hcm có nhu cầu giao dịch bất động sản nhiều nhất? lí giải<br>\n",
        "22 - Mặt tiền ở thành phố bảo lộc (có thể dùng để mở cửa hàng) có giá trị bn?<br>\n",
        "23 - Bạn có khoảng 5 tỷ ở SG, và bạn quyết tâm về quê chăn gà, và bạn quyết tâm về tây nguyên start up, nên mua đất nền ở đâu<br>"
      ]
    },
    {
      "cell_type": "markdown",
      "metadata": {
        "id": "RLGmkeGZbdKD"
      },
      "source": [
        "# Trả  lời một số câu hỏi bằng trực quan hóa"
      ]
    },
    {
      "cell_type": "markdown",
      "metadata": {
        "id": "kFb0q43DbV99"
      },
      "source": [
        " ### Tỉ lệ thành phần các loại bất động sản ở HCM, HN, ĐN"
      ]
    },
    {
      "cell_type": "code",
      "metadata": {
        "id": "k_-nz_WmHUZp"
      },
      "source": [
        "hn_df = new_data.loc[(new_data['Location'].str.contains('Hà Nội'))]\n",
        "replace_type = hn_df['Type'].value_counts().keys()[6:]\n",
        "\n",
        "for val in replace_type:\n",
        "    hn_df.loc[hn_df['Type'] == val, :] = 'Bất động sản khác'"
      ],
      "execution_count": null,
      "outputs": []
    },
    {
      "cell_type": "code",
      "metadata": {
        "id": "B2rUJ_pcIp_O"
      },
      "source": [
        "dn_df = new_data.loc[(new_data['Location'].str.contains('Đà Nẵng'))]\n",
        "replace_type = dn_df['Type'].value_counts().keys()[6:]\n",
        "\n",
        "for val in replace_type:\n",
        "    dn_df.loc[dn_df['Type'] == val, :] = 'Bất động sản khác'"
      ],
      "execution_count": null,
      "outputs": []
    },
    {
      "cell_type": "code",
      "metadata": {
        "id": "Q7QGlIwXKqA_"
      },
      "source": [
        "hcm_df = new_data.loc[(new_data['Location'].str.contains('Hồ Chí Minh'))]\n",
        "replace_type = hcm_df['Type'].value_counts().keys()[6:]\n",
        "\n",
        "for val in replace_type:\n",
        "    hcm_df.loc[hcm_df['Type'] == val, :] = 'Bất động sản khác'"
      ],
      "execution_count": null,
      "outputs": []
    },
    {
      "cell_type": "code",
      "metadata": {
        "colab": {
          "base_uri": "https://localhost:8080/",
          "height": 577
        },
        "id": "jy46xEbvO326",
        "outputId": "4dafbf43-2f18-4415-d3cd-b1bc7b95ea12"
      },
      "source": [
        "fig, axs = plt.subplots(1,3, figsize=(30,10))\n",
        "explode = (0.1, 0.05, 0.05, 0.05, 0.05, 0.05, 0.05)\n",
        "labels = pd.Series(hn_df['Type'].unique() + hcm_df['Type'].unique()+ dn_df['Type'].unique()).unique()\n",
        "\n",
        "hn_df['Type'].value_counts().plot.pie(labels=None, autopct='%1.2f%%', ax=axs[0], explode=explode, title='Hà Nội', ylabel='')\n",
        "dn_df['Type'].value_counts().plot.pie(labels=None, autopct='%1.2f%%', ax=axs[1], explode=explode, title='Đà Nẵng', ylabel='')\n",
        "hcm_df['Type'].value_counts().plot.pie(labels=None, autopct='%1.2f%%', ax=axs[2], explode=explode, title='Hồ Chí Minh', ylabel='')\n",
        "fig.legend(labels)\n",
        "fig.suptitle(\"Tỉ lệ bất động sản ở một số thành phố lớn\")\n",
        "plt.show()"
      ],
      "execution_count": null,
      "outputs": [
        {
          "output_type": "display_data",
          "data": {
            "image/png": "[encoded data removed]",
            "text/plain": [
              "<Figure size 2160x720 with 3 Axes>"
            ]
          },
          "metadata": {
            "tags": []
          }
        }
      ]
    },
    {
      "cell_type": "markdown",
      "metadata": {
        "id": "i8I9MS1Jb3v7"
      },
      "source": [
        "## Nhà có nhiều phòng ngủ sẽ có nhiều nhà tắm?"
      ]
    },
    {
      "cell_type": "code",
      "metadata": {
        "colab": {
          "base_uri": "https://localhost:8080/",
          "height": 419
        },
        "id": "57G6C4yUYnGz",
        "outputId": "8e141cf5-8445-44a5-89a6-651ec53004cb"
      },
      "source": [
        "df = new_data.loc[(new_data['Type'].str.contains('Nhà ở')) | (new_data['Type'].str.contains('Chung cư')), ('Bathrooms', 'Bedrooms', 'Price(million/m_square)')]\n",
        "df.fillna(df.mean(), inplace=True)\n",
        "df"
      ],
      "execution_count": null,
      "outputs": [
        {
          "output_type": "execute_result",
          "data": {
            "text/html": [
              "<div>\n",
              "<style scoped>\n",
              "    .dataframe tbody tr th:only-of-type {\n",
              "        vertical-align: middle;\n",
              "    }\n",
              "\n",
              "    .dataframe tbody tr th {\n",
              "        vertical-align: top;\n",
              "    }\n",
              "\n",
              "    .dataframe thead th {\n",
              "        text-align: right;\n",
              "    }\n",
              "</style>\n",
              "<table border=\"1\" class=\"dataframe\">\n",
              "  <thead>\n",
              "    <tr style=\"text-align: right;\">\n",
              "      <th></th>\n",
              "      <th>Bathrooms</th>\n",
              "      <th>Bedrooms</th>\n",
              "      <th>Price(million/m_square)</th>\n",
              "    </tr>\n",
              "  </thead>\n",
              "  <tbody>\n",
              "    <tr>\n",
              "      <th>0</th>\n",
              "      <td>3.519313</td>\n",
              "      <td>2.000000</td>\n",
              "      <td>52.78</td>\n",
              "    </tr>\n",
              "    <tr>\n",
              "      <th>3</th>\n",
              "      <td>3.519313</td>\n",
              "      <td>3.990705</td>\n",
              "      <td>14.00</td>\n",
              "    </tr>\n",
              "    <tr>\n",
              "      <th>6</th>\n",
              "      <td>3.519313</td>\n",
              "      <td>3.990705</td>\n",
              "      <td>37.25</td>\n",
              "    </tr>\n",
              "    <tr>\n",
              "      <th>9</th>\n",
              "      <td>3.519313</td>\n",
              "      <td>3.990705</td>\n",
              "      <td>11.79</td>\n",
              "    </tr>\n",
              "    <tr>\n",
              "      <th>10</th>\n",
              "      <td>4.000000</td>\n",
              "      <td>3.000000</td>\n",
              "      <td>86.67</td>\n",
              "    </tr>\n",
              "    <tr>\n",
              "      <th>...</th>\n",
              "      <td>...</td>\n",
              "      <td>...</td>\n",
              "      <td>...</td>\n",
              "    </tr>\n",
              "    <tr>\n",
              "      <th>11934</th>\n",
              "      <td>3.000000</td>\n",
              "      <td>2.000000</td>\n",
              "      <td>99.09</td>\n",
              "    </tr>\n",
              "    <tr>\n",
              "      <th>11935</th>\n",
              "      <td>3.519313</td>\n",
              "      <td>3.000000</td>\n",
              "      <td>47.67</td>\n",
              "    </tr>\n",
              "    <tr>\n",
              "      <th>11936</th>\n",
              "      <td>2.000000</td>\n",
              "      <td>2.000000</td>\n",
              "      <td>52.33</td>\n",
              "    </tr>\n",
              "    <tr>\n",
              "      <th>11937</th>\n",
              "      <td>3.519313</td>\n",
              "      <td>3.990705</td>\n",
              "      <td>33.33</td>\n",
              "    </tr>\n",
              "    <tr>\n",
              "      <th>11940</th>\n",
              "      <td>3.000000</td>\n",
              "      <td>4.000000</td>\n",
              "      <td>184.78</td>\n",
              "    </tr>\n",
              "  </tbody>\n",
              "</table>\n",
              "<p>6276 rows × 3 columns</p>\n",
              "</div>"
            ],
            "text/plain": [
              "       Bathrooms  Bedrooms  Price(million/m_square)\n",
              "0       3.519313  2.000000                    52.78\n",
              "3       3.519313  3.990705                    14.00\n",
              "6       3.519313  3.990705                    37.25\n",
              "9       3.519313  3.990705                    11.79\n",
              "10      4.000000  3.000000                    86.67\n",
              "...          ...       ...                      ...\n",
              "11934   3.000000  2.000000                    99.09\n",
              "11935   3.519313  3.000000                    47.67\n",
              "11936   2.000000  2.000000                    52.33\n",
              "11937   3.519313  3.990705                    33.33\n",
              "11940   3.000000  4.000000                   184.78\n",
              "\n",
              "[6276 rows x 3 columns]"
            ]
          },
          "metadata": {
            "tags": []
          },
          "execution_count": 329
        }
      ]
    },
    {
      "cell_type": "code",
      "metadata": {
        "id": "JSzisUCipDyT"
      },
      "source": [
        "def corr(x,y):\n",
        "    slope, intercept, r,p, stderr = scipy.stats.linregress(x, y)\n",
        "    line = f'Regression line: y={intercept:.2f}+{slope:.2f}x,r={r:.2f}'\n",
        "    print(scipy.stats.kendalltau(x, y))\n",
        "    fig, ax=plt.subplots(figsize=(8, 6))\n",
        "    ax.plot(x,y,linewidth=0, marker='s', label='Data points')\n",
        "    ax.plot(x, intercept + slope * x,label=line)\n",
        "    ax.set_xlabel(x.name)\n",
        "    ax.set_ylabel(y.name)\n",
        "    ax.legend(facecolor='white')\n",
        "    plt.show()\n"
      ],
      "execution_count": null,
      "outputs": []
    },
    {
      "cell_type": "code",
      "metadata": {
        "colab": {
          "base_uri": "https://localhost:8080/",
          "height": 405
        },
        "id": "aoiB-4RTsPbr",
        "outputId": "99719a2e-150f-447c-8f1a-148c0798ddbd"
      },
      "source": [
        "corr(df['Bathrooms'], df['Bedrooms'])"
      ],
      "execution_count": null,
      "outputs": [
        {
          "output_type": "stream",
          "text": [
            "KendalltauResult(correlation=0.34074805149731274, pvalue=1.8755518164659913e-226)\n"
          ],
          "name": "stdout"
        },
        {
          "output_type": "display_data",
          "data": {
            "image/png": "[encoded data removed]",
            "text/plain": [
              "<Figure size 576x432 with 1 Axes>"
            ]
          },
          "metadata": {
            "tags": [],
            "needs_background": "light"
          }
        }
      ]
    },
    {
      "cell_type": "code",
      "metadata": {
        "id": "hHaYdc3VvYSq"
      },
      "source": [
        ""
      ],
      "execution_count": null,
      "outputs": []
    }
  ]
}