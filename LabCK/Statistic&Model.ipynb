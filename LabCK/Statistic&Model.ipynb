{
  "nbformat": 4,
  "nbformat_minor": 0,
  "metadata": {
    "colab": {
      "name": "Statistic&Model.ipynb",
      "provenance": [],
      "collapsed_sections": [],
      "toc_visible": true,
      "include_colab_link": true
    },
    "kernelspec": {
      "display_name": "Python 3",
      "language": "python",
      "name": "python3"
    },
    "language_info": {
      "codemirror_mode": {
        "name": "ipython",
        "version": 3
      },
      "file_extension": ".py",
      "mimetype": "text/x-python",
      "name": "python",
      "nbconvert_exporter": "python",
      "pygments_lexer": "ipython3",
      "version": "3.8.3"
    }
  },
  "cells": [
    {
      "cell_type": "markdown",
      "metadata": {
        "id": "view-in-github",
        "colab_type": "text"
      },
      "source": [
        "<a href=\"https://colab.research.google.com/github/HieuTranV/DataVisualization/blob/dev/LabCK/Statistic%26Model.ipynb\" target=\"_parent\"><img src=\"https://colab.research.google.com/assets/colab-badge.svg\" alt=\"Open In Colab\"/></a>"
      ]
    },
    {
      "cell_type": "markdown",
      "metadata": {
        "id": "DtF-1hOsPf61"
      },
      "source": [
        "# Tải thư viện và dữ liệu"
      ]
    },
    {
      "cell_type": "code",
      "metadata": {
        "id": "0VrNXCEkYKyI"
      },
      "source": [
        "!pip install -q --upgrade scikit-learn category_encoders"
      ],
      "execution_count": null,
      "outputs": []
    },
    {
      "cell_type": "code",
      "metadata": {
        "id": "KmGZw1xsHUZR"
      },
      "source": [
        "import pandas as pd\n",
        "import numpy as np\n",
        "import matplotlib.pyplot as plt\n",
        "import seaborn as sns\n",
        "import warnings\n",
        "import re\n",
        "import scipy.stats\n",
        "from typing import Tuple\n",
        "warnings.filterwarnings('ignore') "
      ],
      "execution_count": null,
      "outputs": []
    },
    {
      "cell_type": "code",
      "metadata": {
        "id": "RYChCcR7hrzQ"
      },
      "source": [
        "from sklearn.impute import SimpleImputer\n",
        "from sklearn.preprocessing import OneHotEncoder, LabelEncoder, StandardScaler\n",
        "from sklearn.compose import ColumnTransformer\n",
        "from sklearn.pipeline import Pipeline\n",
        "from sklearn.pipeline import FeatureUnion\n",
        "from sklearn.model_selection import train_test_split\n",
        "from sklearn.base import BaseEstimator, TransformerMixin\n",
        "\n",
        "from sklearn import set_config\n",
        "set_config(display='diagram') # Để trực quan hóa pipeline"
      ],
      "execution_count": null,
      "outputs": []
    },
    {
      "cell_type": "code",
      "metadata": {
        "id": "39TVoL1crI8y"
      },
      "source": [
        "import statsmodels.api as sm\n",
        "import statsmodels.formula.api as smf\n",
        "from sklearn.svm import SVR\n",
        "from sklearn.linear_model import LinearRegression\n",
        "from sklearn.neural_network import MLPRegressor\n",
        "import xgboost as xgb\n"
      ],
      "execution_count": null,
      "outputs": []
    },
    {
      "cell_type": "code",
      "metadata": {
        "id": "UbkKypQnHUZW"
      },
      "source": [
        "data = pd.read_csv('data_update.csv')"
      ],
      "execution_count": null,
      "outputs": []
    },
    {
      "cell_type": "code",
      "metadata": {
        "colab": {
          "base_uri": "https://localhost:8080/",
          "height": 1000
        },
        "id": "P2T1hY-hHUZX",
        "outputId": "4b58aa48-d0e1-4596-fe43-57e726df5534"
      },
      "source": [
        "data"
      ],
      "execution_count": null,
      "outputs": [
        {
          "output_type": "execute_result",
          "data": {
            "text/html": [
              "<div>\n",
              "<style scoped>\n",
              "    .dataframe tbody tr th:only-of-type {\n",
              "        vertical-align: middle;\n",
              "    }\n",
              "\n",
              "    .dataframe tbody tr th {\n",
              "        vertical-align: top;\n",
              "    }\n",
              "\n",
              "    .dataframe thead th {\n",
              "        text-align: right;\n",
              "    }\n",
              "</style>\n",
              "<table border=\"1\" class=\"dataframe\">\n",
              "  <thead>\n",
              "    <tr style=\"text-align: right;\">\n",
              "      <th></th>\n",
              "      <th>Price</th>\n",
              "      <th>Location</th>\n",
              "      <th>Area</th>\n",
              "      <th>Street</th>\n",
              "      <th>Facade</th>\n",
              "      <th>Direction</th>\n",
              "      <th>Saler</th>\n",
              "      <th>Type</th>\n",
              "      <th>Floor</th>\n",
              "      <th>Bathrooms</th>\n",
              "      <th>Bedrooms</th>\n",
              "      <th>Legal Doc</th>\n",
              "    </tr>\n",
              "  </thead>\n",
              "  <tbody>\n",
              "    <tr>\n",
              "      <th>0</th>\n",
              "      <td>4.75 Tỷ - 52.78 Triệu/m²</td>\n",
              "      <td>Quận Sơn Trà, Thành phố Đà Nẵng</td>\n",
              "      <td>90 m²</td>\n",
              "      <td>Mặt phố - Mặt đường</td>\n",
              "      <td>5m</td>\n",
              "      <td>Đông Bắc</td>\n",
              "      <td>Nhà môi giới</td>\n",
              "      <td>Nhà ở</td>\n",
              "      <td>---</td>\n",
              "      <td>---</td>\n",
              "      <td>2</td>\n",
              "      <td>---</td>\n",
              "    </tr>\n",
              "    <tr>\n",
              "      <th>1</th>\n",
              "      <td>Thương lượng</td>\n",
              "      <td>Thị xã Phổ Yên, Tỉnh Thái Nguyên</td>\n",
              "      <td>120 m²</td>\n",
              "      <td>Mặt phố - Mặt đường</td>\n",
              "      <td>8.5m</td>\n",
              "      <td>---</td>\n",
              "      <td>Sàn bất động sản</td>\n",
              "      <td>Đất - Đất nền - Nhà như đất</td>\n",
              "      <td>---</td>\n",
              "      <td>---</td>\n",
              "      <td>---</td>\n",
              "      <td>Giấy CN QSDĐ - Sổ đỏ - Sổ hồng</td>\n",
              "    </tr>\n",
              "    <tr>\n",
              "      <th>2</th>\n",
              "      <td>2.2 Tỷ - 56.41 Triệu/m²</td>\n",
              "      <td>Huyện Hoài Đức, Thành phố Hà Nội</td>\n",
              "      <td>39 m²</td>\n",
              "      <td>Ngõ 1 ô tô</td>\n",
              "      <td>3.5m</td>\n",
              "      <td>Tây</td>\n",
              "      <td>Chính chủ</td>\n",
              "      <td>Đất - Đất nền - Nhà như đất</td>\n",
              "      <td>---</td>\n",
              "      <td>---</td>\n",
              "      <td>---</td>\n",
              "      <td>Giấy CN QSDĐ - Sổ đỏ - Sổ hồng</td>\n",
              "    </tr>\n",
              "    <tr>\n",
              "      <th>3</th>\n",
              "      <td>770 Triệu - 14 Triệu/m²</td>\n",
              "      <td>Quận Thanh Xuân, Thành phố Hà Nội</td>\n",
              "      <td>55 m²</td>\n",
              "      <td>Ngõ 1 ô tô</td>\n",
              "      <td>---</td>\n",
              "      <td>---</td>\n",
              "      <td>Chính chủ</td>\n",
              "      <td>Chung cư, Chung cư mini</td>\n",
              "      <td>---</td>\n",
              "      <td>---</td>\n",
              "      <td>---</td>\n",
              "      <td>Giấy CN QSDĐ - Sổ đỏ - Sổ hồng, Hợp đồng mua bán</td>\n",
              "    </tr>\n",
              "    <tr>\n",
              "      <th>4</th>\n",
              "      <td>890 Triệu - 8.9 Triệu/m²</td>\n",
              "      <td>Huyện Bàu Bàng, Tỉnh Bình Dương</td>\n",
              "      <td>100 m²</td>\n",
              "      <td>Ngõ 4 ô tô trở lên</td>\n",
              "      <td>5m</td>\n",
              "      <td>Tây</td>\n",
              "      <td>Nhà môi giới</td>\n",
              "      <td>Đất - Đất nền - Nhà như đất</td>\n",
              "      <td>---</td>\n",
              "      <td>---</td>\n",
              "      <td>---</td>\n",
              "      <td>Giấy CN QSDĐ - Sổ đỏ - Sổ hồng</td>\n",
              "    </tr>\n",
              "    <tr>\n",
              "      <th>...</th>\n",
              "      <td>...</td>\n",
              "      <td>...</td>\n",
              "      <td>...</td>\n",
              "      <td>...</td>\n",
              "      <td>...</td>\n",
              "      <td>...</td>\n",
              "      <td>...</td>\n",
              "      <td>...</td>\n",
              "      <td>...</td>\n",
              "      <td>...</td>\n",
              "      <td>...</td>\n",
              "      <td>...</td>\n",
              "    </tr>\n",
              "    <tr>\n",
              "      <th>11936</th>\n",
              "      <td>2.25 Tỷ - 52.33 Triệu/m²</td>\n",
              "      <td>Quận Ninh Kiều, Thành phố Cần Thơ</td>\n",
              "      <td>43 m²</td>\n",
              "      <td>Ngõ 1 ô tô</td>\n",
              "      <td>6m</td>\n",
              "      <td>Tây Nam</td>\n",
              "      <td>Nhà môi giới</td>\n",
              "      <td>Nhà ở</td>\n",
              "      <td>---</td>\n",
              "      <td>2</td>\n",
              "      <td>2</td>\n",
              "      <td>Giấy CN QSDĐ - Sổ đỏ - Sổ hồng</td>\n",
              "    </tr>\n",
              "    <tr>\n",
              "      <th>11937</th>\n",
              "      <td>1.1 Tỷ - 33.33 Triệu/m²</td>\n",
              "      <td>Quận Hà Đông, Thành phố Hà Nội</td>\n",
              "      <td>33 m²</td>\n",
              "      <td>Ngõ 2 ô tô tránh</td>\n",
              "      <td>---</td>\n",
              "      <td>---</td>\n",
              "      <td>Chính chủ</td>\n",
              "      <td>Nhà ở</td>\n",
              "      <td>---</td>\n",
              "      <td>---</td>\n",
              "      <td>---</td>\n",
              "      <td>Giấy CN QSDĐ - Sổ đỏ - Sổ hồng</td>\n",
              "    </tr>\n",
              "    <tr>\n",
              "      <th>11938</th>\n",
              "      <td>1 Tỷ - 10 Triệu/m²</td>\n",
              "      <td>Huyện Lục Yên, Tỉnh Yên Bái</td>\n",
              "      <td>100 m²</td>\n",
              "      <td>Mặt phố - Mặt đường</td>\n",
              "      <td>---</td>\n",
              "      <td>---</td>\n",
              "      <td>Nhà môi giới</td>\n",
              "      <td>Đất - Đất nền - Nhà như đất</td>\n",
              "      <td>---</td>\n",
              "      <td>---</td>\n",
              "      <td>---</td>\n",
              "      <td>Giấy CN QSDĐ - Sổ đỏ - Sổ hồng</td>\n",
              "    </tr>\n",
              "    <tr>\n",
              "      <th>11939</th>\n",
              "      <td>25 Tỷ - 50 Triệu/m²</td>\n",
              "      <td>Thành phố Vũng Tàu, Tỉnh Bà Rịa - Vũng Tàu</td>\n",
              "      <td>500 m²</td>\n",
              "      <td>Mặt phố - Mặt đường</td>\n",
              "      <td>---</td>\n",
              "      <td>Đông Nam</td>\n",
              "      <td>Nhà môi giới</td>\n",
              "      <td>Đất - Đất nền - Nhà như đất</td>\n",
              "      <td>---</td>\n",
              "      <td>---</td>\n",
              "      <td>---</td>\n",
              "      <td>---</td>\n",
              "    </tr>\n",
              "    <tr>\n",
              "      <th>11940</th>\n",
              "      <td>8.5 Tỷ - 184.78 Triệu/m²</td>\n",
              "      <td>Quận Hà Đông, Thành phố Hà Nội</td>\n",
              "      <td>46 m²</td>\n",
              "      <td>Ngõ 2 ô tô tránh</td>\n",
              "      <td>4m</td>\n",
              "      <td>---</td>\n",
              "      <td>Nhà môi giới</td>\n",
              "      <td>Nhà ở</td>\n",
              "      <td>---</td>\n",
              "      <td>3</td>\n",
              "      <td>4</td>\n",
              "      <td>Giấy CN QSDĐ - Sổ đỏ - Sổ hồng</td>\n",
              "    </tr>\n",
              "  </tbody>\n",
              "</table>\n",
              "<p>11941 rows × 12 columns</p>\n",
              "</div>"
            ],
            "text/plain": [
              "                          Price  ...                                         Legal Doc\n",
              "0      4.75 Tỷ - 52.78 Triệu/m²  ...                                               ---\n",
              "1                  Thương lượng  ...                    Giấy CN QSDĐ - Sổ đỏ - Sổ hồng\n",
              "2       2.2 Tỷ - 56.41 Triệu/m²  ...                    Giấy CN QSDĐ - Sổ đỏ - Sổ hồng\n",
              "3       770 Triệu - 14 Triệu/m²  ...  Giấy CN QSDĐ - Sổ đỏ - Sổ hồng, Hợp đồng mua bán\n",
              "4      890 Triệu - 8.9 Triệu/m²  ...                    Giấy CN QSDĐ - Sổ đỏ - Sổ hồng\n",
              "...                         ...  ...                                               ...\n",
              "11936  2.25 Tỷ - 52.33 Triệu/m²  ...                    Giấy CN QSDĐ - Sổ đỏ - Sổ hồng\n",
              "11937   1.1 Tỷ - 33.33 Triệu/m²  ...                    Giấy CN QSDĐ - Sổ đỏ - Sổ hồng\n",
              "11938        1 Tỷ - 10 Triệu/m²  ...                    Giấy CN QSDĐ - Sổ đỏ - Sổ hồng\n",
              "11939       25 Tỷ - 50 Triệu/m²  ...                                               ---\n",
              "11940  8.5 Tỷ - 184.78 Triệu/m²  ...                    Giấy CN QSDĐ - Sổ đỏ - Sổ hồng\n",
              "\n",
              "[11941 rows x 12 columns]"
            ]
          },
          "metadata": {
            "tags": []
          },
          "execution_count": 6
        }
      ]
    },
    {
      "cell_type": "markdown",
      "metadata": {
        "id": "YyevXwvbPmhT"
      },
      "source": [
        "# Khám phá và tiền xử lý cơ bản"
      ]
    },
    {
      "cell_type": "code",
      "metadata": {
        "colab": {
          "base_uri": "https://localhost:8080/"
        },
        "id": "a9yNG5h9HUZZ",
        "outputId": "df54b04c-6e3d-4c6e-ee9e-d5b62a129a0a"
      },
      "source": [
        "data.iloc[5294]"
      ],
      "execution_count": null,
      "outputs": [
        {
          "output_type": "execute_result",
          "data": {
            "text/plain": [
              "Price                     3,750,000,000 Tỷ - 93,750,000 Tỷ/m²\n",
              "Location                   Quận Nam Từ Liêm, Thành phố Hà Nội\n",
              "Area                                                    40 m²\n",
              "Street                                       Ngõ 2 ô tô tránh\n",
              "Facade                                                    ---\n",
              "Direction                                                 ---\n",
              "Saler                                            Nhà môi giới\n",
              "Type                                                    Nhà ở\n",
              "Floor                                                     ---\n",
              "Bathrooms                                                   6\n",
              "Bedrooms                                                    6\n",
              "Legal Doc    Giấy CN QSDĐ - Sổ đỏ - Sổ hồng, Hợp đồng mua bán\n",
              "Name: 5294, dtype: object"
            ]
          },
          "metadata": {
            "tags": []
          },
          "execution_count": 7
        }
      ]
    },
    {
      "cell_type": "code",
      "metadata": {
        "id": "VkkN4fyIHUZa"
      },
      "source": [
        "# data = data.drop([5294,7581])"
      ],
      "execution_count": null,
      "outputs": []
    },
    {
      "cell_type": "code",
      "metadata": {
        "colab": {
          "base_uri": "https://localhost:8080/"
        },
        "id": "AUsDzi-AHUZb",
        "outputId": "f3bdfc58-ed59-48df-b140-00e4ecc6027d"
      },
      "source": [
        "data.iloc[6837]"
      ],
      "execution_count": null,
      "outputs": [
        {
          "output_type": "execute_result",
          "data": {
            "text/plain": [
              "Price               17.5 Tỷ - 35 Nghìn/m²\n",
              "Location     Huyện Tân Lạc, Tỉnh Hoà Bình\n",
              "Area                           500,000 m²\n",
              "Street                                ---\n",
              "Facade                                ---\n",
              "Direction                             ---\n",
              "Saler                        Nhà môi giới\n",
              "Type          Đất - Đất nền - Nhà như đất\n",
              "Floor                                 ---\n",
              "Bathrooms                             ---\n",
              "Bedrooms                              ---\n",
              "Legal Doc                             ---\n",
              "Name: 6837, dtype: object"
            ]
          },
          "metadata": {
            "tags": []
          },
          "execution_count": 9
        }
      ]
    },
    {
      "cell_type": "code",
      "metadata": {
        "id": "yFN77kVvHUZc"
      },
      "source": [
        "for name in data.columns:\n",
        "    data[name].replace('---', np.NaN, inplace=True)"
      ],
      "execution_count": null,
      "outputs": []
    },
    {
      "cell_type": "code",
      "metadata": {
        "colab": {
          "base_uri": "https://localhost:8080/"
        },
        "id": "sIuFbws0HUZd",
        "outputId": "4d08ff8c-7c97-4b3c-c155-8f7280750f31"
      },
      "source": [
        "num_row_dup = data.duplicated().sum()\n",
        "num_row_dup"
      ],
      "execution_count": null,
      "outputs": [
        {
          "output_type": "execute_result",
          "data": {
            "text/plain": [
              "1185"
            ]
          },
          "metadata": {
            "tags": []
          },
          "execution_count": 11
        }
      ]
    },
    {
      "cell_type": "code",
      "metadata": {
        "colab": {
          "base_uri": "https://localhost:8080/"
        },
        "id": "RmKNbVQ3HUZe",
        "outputId": "f1afb65f-063a-403f-f72a-71ff6212fc76"
      },
      "source": [
        "new_data = data.drop_duplicates()\n",
        "new_data.info()"
      ],
      "execution_count": null,
      "outputs": [
        {
          "output_type": "stream",
          "text": [
            "<class 'pandas.core.frame.DataFrame'>\n",
            "Int64Index: 10756 entries, 0 to 11940\n",
            "Data columns (total 12 columns):\n",
            " #   Column     Non-Null Count  Dtype \n",
            "---  ------     --------------  ----- \n",
            " 0   Price      10756 non-null  object\n",
            " 1   Location   10756 non-null  object\n",
            " 2   Area       10649 non-null  object\n",
            " 3   Street     9625 non-null   object\n",
            " 4   Facade     5688 non-null   object\n",
            " 5   Direction  1948 non-null   object\n",
            " 6   Saler      10756 non-null  object\n",
            " 7   Type       10754 non-null  object\n",
            " 8   Floor      474 non-null    object\n",
            " 9   Bathrooms  2064 non-null   object\n",
            " 10  Bedrooms   4748 non-null   object\n",
            " 11  Legal Doc  9099 non-null   object\n",
            "dtypes: object(12)\n",
            "memory usage: 1.1+ MB\n"
          ],
          "name": "stdout"
        }
      ]
    },
    {
      "cell_type": "code",
      "metadata": {
        "colab": {
          "base_uri": "https://localhost:8080/",
          "height": 1000
        },
        "id": "YQnx9rpZHUZf",
        "outputId": "e7b2b31a-fc7f-4370-f6a6-35bb20fbb0af"
      },
      "source": [
        "new_data = new_data[new_data.Price != 'Thương lượng']\n",
        "new_data"
      ],
      "execution_count": null,
      "outputs": [
        {
          "output_type": "execute_result",
          "data": {
            "text/html": [
              "<div>\n",
              "<style scoped>\n",
              "    .dataframe tbody tr th:only-of-type {\n",
              "        vertical-align: middle;\n",
              "    }\n",
              "\n",
              "    .dataframe tbody tr th {\n",
              "        vertical-align: top;\n",
              "    }\n",
              "\n",
              "    .dataframe thead th {\n",
              "        text-align: right;\n",
              "    }\n",
              "</style>\n",
              "<table border=\"1\" class=\"dataframe\">\n",
              "  <thead>\n",
              "    <tr style=\"text-align: right;\">\n",
              "      <th></th>\n",
              "      <th>Price</th>\n",
              "      <th>Location</th>\n",
              "      <th>Area</th>\n",
              "      <th>Street</th>\n",
              "      <th>Facade</th>\n",
              "      <th>Direction</th>\n",
              "      <th>Saler</th>\n",
              "      <th>Type</th>\n",
              "      <th>Floor</th>\n",
              "      <th>Bathrooms</th>\n",
              "      <th>Bedrooms</th>\n",
              "      <th>Legal Doc</th>\n",
              "    </tr>\n",
              "  </thead>\n",
              "  <tbody>\n",
              "    <tr>\n",
              "      <th>0</th>\n",
              "      <td>4.75 Tỷ - 52.78 Triệu/m²</td>\n",
              "      <td>Quận Sơn Trà, Thành phố Đà Nẵng</td>\n",
              "      <td>90 m²</td>\n",
              "      <td>Mặt phố - Mặt đường</td>\n",
              "      <td>5m</td>\n",
              "      <td>Đông Bắc</td>\n",
              "      <td>Nhà môi giới</td>\n",
              "      <td>Nhà ở</td>\n",
              "      <td>NaN</td>\n",
              "      <td>NaN</td>\n",
              "      <td>2</td>\n",
              "      <td>NaN</td>\n",
              "    </tr>\n",
              "    <tr>\n",
              "      <th>2</th>\n",
              "      <td>2.2 Tỷ - 56.41 Triệu/m²</td>\n",
              "      <td>Huyện Hoài Đức, Thành phố Hà Nội</td>\n",
              "      <td>39 m²</td>\n",
              "      <td>Ngõ 1 ô tô</td>\n",
              "      <td>3.5m</td>\n",
              "      <td>Tây</td>\n",
              "      <td>Chính chủ</td>\n",
              "      <td>Đất - Đất nền - Nhà như đất</td>\n",
              "      <td>NaN</td>\n",
              "      <td>NaN</td>\n",
              "      <td>NaN</td>\n",
              "      <td>Giấy CN QSDĐ - Sổ đỏ - Sổ hồng</td>\n",
              "    </tr>\n",
              "    <tr>\n",
              "      <th>3</th>\n",
              "      <td>770 Triệu - 14 Triệu/m²</td>\n",
              "      <td>Quận Thanh Xuân, Thành phố Hà Nội</td>\n",
              "      <td>55 m²</td>\n",
              "      <td>Ngõ 1 ô tô</td>\n",
              "      <td>NaN</td>\n",
              "      <td>NaN</td>\n",
              "      <td>Chính chủ</td>\n",
              "      <td>Chung cư, Chung cư mini</td>\n",
              "      <td>NaN</td>\n",
              "      <td>NaN</td>\n",
              "      <td>NaN</td>\n",
              "      <td>Giấy CN QSDĐ - Sổ đỏ - Sổ hồng, Hợp đồng mua bán</td>\n",
              "    </tr>\n",
              "    <tr>\n",
              "      <th>4</th>\n",
              "      <td>890 Triệu - 8.9 Triệu/m²</td>\n",
              "      <td>Huyện Bàu Bàng, Tỉnh Bình Dương</td>\n",
              "      <td>100 m²</td>\n",
              "      <td>Ngõ 4 ô tô trở lên</td>\n",
              "      <td>5m</td>\n",
              "      <td>Tây</td>\n",
              "      <td>Nhà môi giới</td>\n",
              "      <td>Đất - Đất nền - Nhà như đất</td>\n",
              "      <td>NaN</td>\n",
              "      <td>NaN</td>\n",
              "      <td>NaN</td>\n",
              "      <td>Giấy CN QSDĐ - Sổ đỏ - Sổ hồng</td>\n",
              "    </tr>\n",
              "    <tr>\n",
              "      <th>5</th>\n",
              "      <td>800 Triệu - 19.51 Triệu/m²</td>\n",
              "      <td>Huyện Gia Lâm, Thành phố Hà Nội</td>\n",
              "      <td>41 m²</td>\n",
              "      <td>Ngõ ngách</td>\n",
              "      <td>3.6m</td>\n",
              "      <td>NaN</td>\n",
              "      <td>Nhà môi giới</td>\n",
              "      <td>Đất - Đất nền - Nhà như đất</td>\n",
              "      <td>NaN</td>\n",
              "      <td>NaN</td>\n",
              "      <td>NaN</td>\n",
              "      <td>Giấy CN QSDĐ - Sổ đỏ - Sổ hồng</td>\n",
              "    </tr>\n",
              "    <tr>\n",
              "      <th>...</th>\n",
              "      <td>...</td>\n",
              "      <td>...</td>\n",
              "      <td>...</td>\n",
              "      <td>...</td>\n",
              "      <td>...</td>\n",
              "      <td>...</td>\n",
              "      <td>...</td>\n",
              "      <td>...</td>\n",
              "      <td>...</td>\n",
              "      <td>...</td>\n",
              "      <td>...</td>\n",
              "      <td>...</td>\n",
              "    </tr>\n",
              "    <tr>\n",
              "      <th>11936</th>\n",
              "      <td>2.25 Tỷ - 52.33 Triệu/m²</td>\n",
              "      <td>Quận Ninh Kiều, Thành phố Cần Thơ</td>\n",
              "      <td>43 m²</td>\n",
              "      <td>Ngõ 1 ô tô</td>\n",
              "      <td>6m</td>\n",
              "      <td>Tây Nam</td>\n",
              "      <td>Nhà môi giới</td>\n",
              "      <td>Nhà ở</td>\n",
              "      <td>NaN</td>\n",
              "      <td>2</td>\n",
              "      <td>2</td>\n",
              "      <td>Giấy CN QSDĐ - Sổ đỏ - Sổ hồng</td>\n",
              "    </tr>\n",
              "    <tr>\n",
              "      <th>11937</th>\n",
              "      <td>1.1 Tỷ - 33.33 Triệu/m²</td>\n",
              "      <td>Quận Hà Đông, Thành phố Hà Nội</td>\n",
              "      <td>33 m²</td>\n",
              "      <td>Ngõ 2 ô tô tránh</td>\n",
              "      <td>NaN</td>\n",
              "      <td>NaN</td>\n",
              "      <td>Chính chủ</td>\n",
              "      <td>Nhà ở</td>\n",
              "      <td>NaN</td>\n",
              "      <td>NaN</td>\n",
              "      <td>NaN</td>\n",
              "      <td>Giấy CN QSDĐ - Sổ đỏ - Sổ hồng</td>\n",
              "    </tr>\n",
              "    <tr>\n",
              "      <th>11938</th>\n",
              "      <td>1 Tỷ - 10 Triệu/m²</td>\n",
              "      <td>Huyện Lục Yên, Tỉnh Yên Bái</td>\n",
              "      <td>100 m²</td>\n",
              "      <td>Mặt phố - Mặt đường</td>\n",
              "      <td>NaN</td>\n",
              "      <td>NaN</td>\n",
              "      <td>Nhà môi giới</td>\n",
              "      <td>Đất - Đất nền - Nhà như đất</td>\n",
              "      <td>NaN</td>\n",
              "      <td>NaN</td>\n",
              "      <td>NaN</td>\n",
              "      <td>Giấy CN QSDĐ - Sổ đỏ - Sổ hồng</td>\n",
              "    </tr>\n",
              "    <tr>\n",
              "      <th>11939</th>\n",
              "      <td>25 Tỷ - 50 Triệu/m²</td>\n",
              "      <td>Thành phố Vũng Tàu, Tỉnh Bà Rịa - Vũng Tàu</td>\n",
              "      <td>500 m²</td>\n",
              "      <td>Mặt phố - Mặt đường</td>\n",
              "      <td>NaN</td>\n",
              "      <td>Đông Nam</td>\n",
              "      <td>Nhà môi giới</td>\n",
              "      <td>Đất - Đất nền - Nhà như đất</td>\n",
              "      <td>NaN</td>\n",
              "      <td>NaN</td>\n",
              "      <td>NaN</td>\n",
              "      <td>NaN</td>\n",
              "    </tr>\n",
              "    <tr>\n",
              "      <th>11940</th>\n",
              "      <td>8.5 Tỷ - 184.78 Triệu/m²</td>\n",
              "      <td>Quận Hà Đông, Thành phố Hà Nội</td>\n",
              "      <td>46 m²</td>\n",
              "      <td>Ngõ 2 ô tô tránh</td>\n",
              "      <td>4m</td>\n",
              "      <td>NaN</td>\n",
              "      <td>Nhà môi giới</td>\n",
              "      <td>Nhà ở</td>\n",
              "      <td>NaN</td>\n",
              "      <td>3</td>\n",
              "      <td>4</td>\n",
              "      <td>Giấy CN QSDĐ - Sổ đỏ - Sổ hồng</td>\n",
              "    </tr>\n",
              "  </tbody>\n",
              "</table>\n",
              "<p>10042 rows × 12 columns</p>\n",
              "</div>"
            ],
            "text/plain": [
              "                            Price  ...                                         Legal Doc\n",
              "0        4.75 Tỷ - 52.78 Triệu/m²  ...                                               NaN\n",
              "2         2.2 Tỷ - 56.41 Triệu/m²  ...                    Giấy CN QSDĐ - Sổ đỏ - Sổ hồng\n",
              "3         770 Triệu - 14 Triệu/m²  ...  Giấy CN QSDĐ - Sổ đỏ - Sổ hồng, Hợp đồng mua bán\n",
              "4        890 Triệu - 8.9 Triệu/m²  ...                    Giấy CN QSDĐ - Sổ đỏ - Sổ hồng\n",
              "5      800 Triệu - 19.51 Triệu/m²  ...                    Giấy CN QSDĐ - Sổ đỏ - Sổ hồng\n",
              "...                           ...  ...                                               ...\n",
              "11936    2.25 Tỷ - 52.33 Triệu/m²  ...                    Giấy CN QSDĐ - Sổ đỏ - Sổ hồng\n",
              "11937     1.1 Tỷ - 33.33 Triệu/m²  ...                    Giấy CN QSDĐ - Sổ đỏ - Sổ hồng\n",
              "11938          1 Tỷ - 10 Triệu/m²  ...                    Giấy CN QSDĐ - Sổ đỏ - Sổ hồng\n",
              "11939         25 Tỷ - 50 Triệu/m²  ...                                               NaN\n",
              "11940    8.5 Tỷ - 184.78 Triệu/m²  ...                    Giấy CN QSDĐ - Sổ đỏ - Sổ hồng\n",
              "\n",
              "[10042 rows x 12 columns]"
            ]
          },
          "metadata": {
            "tags": []
          },
          "execution_count": 13
        }
      ]
    },
    {
      "cell_type": "code",
      "metadata": {
        "colab": {
          "base_uri": "https://localhost:8080/",
          "height": 185
        },
        "id": "ohnH1wNOHUZg",
        "outputId": "cc7443e9-b892-4cc0-c91a-b778a2fd6ba0"
      },
      "source": [
        "new_data[new_data['Price'] == '2,260,000 Tỷ - 29,736.84 Tỷ/m²']"
      ],
      "execution_count": null,
      "outputs": [
        {
          "output_type": "execute_result",
          "data": {
            "text/html": [
              "<div>\n",
              "<style scoped>\n",
              "    .dataframe tbody tr th:only-of-type {\n",
              "        vertical-align: middle;\n",
              "    }\n",
              "\n",
              "    .dataframe tbody tr th {\n",
              "        vertical-align: top;\n",
              "    }\n",
              "\n",
              "    .dataframe thead th {\n",
              "        text-align: right;\n",
              "    }\n",
              "</style>\n",
              "<table border=\"1\" class=\"dataframe\">\n",
              "  <thead>\n",
              "    <tr style=\"text-align: right;\">\n",
              "      <th></th>\n",
              "      <th>Price</th>\n",
              "      <th>Location</th>\n",
              "      <th>Area</th>\n",
              "      <th>Street</th>\n",
              "      <th>Facade</th>\n",
              "      <th>Direction</th>\n",
              "      <th>Saler</th>\n",
              "      <th>Type</th>\n",
              "      <th>Floor</th>\n",
              "      <th>Bathrooms</th>\n",
              "      <th>Bedrooms</th>\n",
              "      <th>Legal Doc</th>\n",
              "    </tr>\n",
              "  </thead>\n",
              "  <tbody>\n",
              "    <tr>\n",
              "      <th>7581</th>\n",
              "      <td>2,260,000 Tỷ - 29,736.84 Tỷ/m²</td>\n",
              "      <td>Thành phố Vũng Tàu, Tỉnh Bà Rịa - Vũng Tàu</td>\n",
              "      <td>76 m²</td>\n",
              "      <td>NaN</td>\n",
              "      <td>NaN</td>\n",
              "      <td>NaN</td>\n",
              "      <td>Nhà môi giới</td>\n",
              "      <td>Chung cư</td>\n",
              "      <td>NaN</td>\n",
              "      <td>NaN</td>\n",
              "      <td>NaN</td>\n",
              "      <td>NaN</td>\n",
              "    </tr>\n",
              "  </tbody>\n",
              "</table>\n",
              "</div>"
            ],
            "text/plain": [
              "                               Price  ... Legal Doc\n",
              "7581  2,260,000 Tỷ - 29,736.84 Tỷ/m²  ...       NaN\n",
              "\n",
              "[1 rows x 12 columns]"
            ]
          },
          "metadata": {
            "tags": []
          },
          "execution_count": 14
        }
      ]
    },
    {
      "cell_type": "code",
      "metadata": {
        "colab": {
          "base_uri": "https://localhost:8080/"
        },
        "id": "-04JneiNHUZg",
        "outputId": "fdbf713a-6f47-44e1-8299-6821e73d66d4"
      },
      "source": [
        "regexp = re.compile(r'(\\d+[.,]?\\d*[,.]?\\d*)\\s(\\w+)\\s?-?\\s?(\\d+[.,]?\\d*[,.]?\\d*)?\\s?(\\w+\\W\\w+)?')\n",
        "row = '1,500,000 Tỷ - 10,714.29 Tỷ/m²'\n",
        "matches = regexp.findall(row)\n",
        "matches"
      ],
      "execution_count": null,
      "outputs": [
        {
          "output_type": "execute_result",
          "data": {
            "text/plain": [
              "[('1,500,000', 'Tỷ', '10,714.29', 'Tỷ/m²')]"
            ]
          },
          "metadata": {
            "tags": []
          },
          "execution_count": 15
        }
      ]
    },
    {
      "cell_type": "code",
      "metadata": {
        "id": "l8KJ6TpKHUZh"
      },
      "source": [
        "def convert_Price_col(prices):\n",
        "    list_price = []\n",
        "    list_price_per_squarem = []\n",
        "    weird_index = []\n",
        "    \n",
        "    for index, price in enumerate(prices):\n",
        "        pr = float(regexp.sub(r'\\1', price).replace(\",\",\"\"))\n",
        "        if regexp.sub(r'\\2', price) == 'Triệu':\n",
        "            pr /= 1e3\n",
        "        pp = regexp.sub(r'\\3', price).replace(\",\",\"\")\n",
        "        p_unit = regexp.sub(r'\\4', price)\n",
        "        if pp == '':\n",
        "            pp = np.NaN\n",
        "        if p_unit != 'Triệu/m²':\n",
        "            weird_index.append(index)\n",
        "            if p_unit == 'Tỷ/m²':\n",
        "                pp = float(pp)*1e3\n",
        "            elif p_unit == 'Nghìn/m²':\n",
        "                pp = float(pp)/1e6\n",
        "        list_price.append(pr)\n",
        "        list_price_per_squarem.append(float(pp)) \n",
        "    return list_price, list_price_per_squarem, weird_index\n",
        "\n",
        "list_price, list_price_per_squarem, weird_index = convert_Price_col(list(new_data['Price']))"
      ],
      "execution_count": null,
      "outputs": []
    },
    {
      "cell_type": "code",
      "metadata": {
        "colab": {
          "base_uri": "https://localhost:8080/"
        },
        "id": "aShOSlgbHUZi",
        "outputId": "5f958de5-d029-4526-cf73-16decb03efca"
      },
      "source": [
        "len(weird_index)"
      ],
      "execution_count": null,
      "outputs": [
        {
          "output_type": "execute_result",
          "data": {
            "text/plain": [
              "344"
            ]
          },
          "metadata": {
            "tags": []
          },
          "execution_count": 17
        }
      ]
    },
    {
      "cell_type": "code",
      "metadata": {
        "id": "w4_1MHgLHUZj"
      },
      "source": [
        "# for idx in weird_index:\n",
        "#     print(new_data.iloc[idx]['Price'])"
      ],
      "execution_count": null,
      "outputs": []
    },
    {
      "cell_type": "code",
      "metadata": {
        "id": "xbqkaJGOHUZj"
      },
      "source": [
        "new_data['Price(million/m_square)'] = list_price_per_squarem\n",
        "new_data['Price'] = list_price"
      ],
      "execution_count": null,
      "outputs": []
    },
    {
      "cell_type": "code",
      "metadata": {
        "id": "cDSkorAsHUZj"
      },
      "source": [
        "def convert_Area_col(row):\n",
        "    return float(row[:row.find('m²')].strip().replace(\",\",\"\"))\n",
        "\n",
        "new_data['Area'] = new_data['Area'].apply(lambda x : convert_Area_col(x) if x == x else x) \n",
        "new_data['Facade'] = new_data['Facade'].apply(lambda x : convert_Area_col(x) if x == x else x) "
      ],
      "execution_count": null,
      "outputs": []
    },
    {
      "cell_type": "markdown",
      "metadata": {
        "id": "iqhWvsPeHUZk"
      },
      "source": [
        "- Price: đơn vị tỷ"
      ]
    },
    {
      "cell_type": "code",
      "metadata": {
        "colab": {
          "base_uri": "https://localhost:8080/",
          "height": 734
        },
        "id": "5UnGP_1oHUZk",
        "outputId": "17b71f6f-bdcb-4509-a5df-c5f0bb0de08f"
      },
      "source": [
        "new_data.tail(5)"
      ],
      "execution_count": null,
      "outputs": [
        {
          "output_type": "execute_result",
          "data": {
            "text/html": [
              "<div>\n",
              "<style scoped>\n",
              "    .dataframe tbody tr th:only-of-type {\n",
              "        vertical-align: middle;\n",
              "    }\n",
              "\n",
              "    .dataframe tbody tr th {\n",
              "        vertical-align: top;\n",
              "    }\n",
              "\n",
              "    .dataframe thead th {\n",
              "        text-align: right;\n",
              "    }\n",
              "</style>\n",
              "<table border=\"1\" class=\"dataframe\">\n",
              "  <thead>\n",
              "    <tr style=\"text-align: right;\">\n",
              "      <th></th>\n",
              "      <th>Price</th>\n",
              "      <th>Location</th>\n",
              "      <th>Area</th>\n",
              "      <th>Street</th>\n",
              "      <th>Facade</th>\n",
              "      <th>Direction</th>\n",
              "      <th>Saler</th>\n",
              "      <th>Type</th>\n",
              "      <th>Floor</th>\n",
              "      <th>Bathrooms</th>\n",
              "      <th>Bedrooms</th>\n",
              "      <th>Legal Doc</th>\n",
              "      <th>Price(million/m_square)</th>\n",
              "    </tr>\n",
              "  </thead>\n",
              "  <tbody>\n",
              "    <tr>\n",
              "      <th>11936</th>\n",
              "      <td>2.25</td>\n",
              "      <td>Quận Ninh Kiều, Thành phố Cần Thơ</td>\n",
              "      <td>43.0</td>\n",
              "      <td>Ngõ 1 ô tô</td>\n",
              "      <td>6.0</td>\n",
              "      <td>Tây Nam</td>\n",
              "      <td>Nhà môi giới</td>\n",
              "      <td>Nhà ở</td>\n",
              "      <td>NaN</td>\n",
              "      <td>2</td>\n",
              "      <td>2</td>\n",
              "      <td>Giấy CN QSDĐ - Sổ đỏ - Sổ hồng</td>\n",
              "      <td>52.33</td>\n",
              "    </tr>\n",
              "    <tr>\n",
              "      <th>11937</th>\n",
              "      <td>1.10</td>\n",
              "      <td>Quận Hà Đông, Thành phố Hà Nội</td>\n",
              "      <td>33.0</td>\n",
              "      <td>Ngõ 2 ô tô tránh</td>\n",
              "      <td>NaN</td>\n",
              "      <td>NaN</td>\n",
              "      <td>Chính chủ</td>\n",
              "      <td>Nhà ở</td>\n",
              "      <td>NaN</td>\n",
              "      <td>NaN</td>\n",
              "      <td>NaN</td>\n",
              "      <td>Giấy CN QSDĐ - Sổ đỏ - Sổ hồng</td>\n",
              "      <td>33.33</td>\n",
              "    </tr>\n",
              "    <tr>\n",
              "      <th>11938</th>\n",
              "      <td>1.00</td>\n",
              "      <td>Huyện Lục Yên, Tỉnh Yên Bái</td>\n",
              "      <td>100.0</td>\n",
              "      <td>Mặt phố - Mặt đường</td>\n",
              "      <td>NaN</td>\n",
              "      <td>NaN</td>\n",
              "      <td>Nhà môi giới</td>\n",
              "      <td>Đất - Đất nền - Nhà như đất</td>\n",
              "      <td>NaN</td>\n",
              "      <td>NaN</td>\n",
              "      <td>NaN</td>\n",
              "      <td>Giấy CN QSDĐ - Sổ đỏ - Sổ hồng</td>\n",
              "      <td>10.00</td>\n",
              "    </tr>\n",
              "    <tr>\n",
              "      <th>11939</th>\n",
              "      <td>25.00</td>\n",
              "      <td>Thành phố Vũng Tàu, Tỉnh Bà Rịa - Vũng Tàu</td>\n",
              "      <td>500.0</td>\n",
              "      <td>Mặt phố - Mặt đường</td>\n",
              "      <td>NaN</td>\n",
              "      <td>Đông Nam</td>\n",
              "      <td>Nhà môi giới</td>\n",
              "      <td>Đất - Đất nền - Nhà như đất</td>\n",
              "      <td>NaN</td>\n",
              "      <td>NaN</td>\n",
              "      <td>NaN</td>\n",
              "      <td>NaN</td>\n",
              "      <td>50.00</td>\n",
              "    </tr>\n",
              "    <tr>\n",
              "      <th>11940</th>\n",
              "      <td>8.50</td>\n",
              "      <td>Quận Hà Đông, Thành phố Hà Nội</td>\n",
              "      <td>46.0</td>\n",
              "      <td>Ngõ 2 ô tô tránh</td>\n",
              "      <td>4.0</td>\n",
              "      <td>NaN</td>\n",
              "      <td>Nhà môi giới</td>\n",
              "      <td>Nhà ở</td>\n",
              "      <td>NaN</td>\n",
              "      <td>3</td>\n",
              "      <td>4</td>\n",
              "      <td>Giấy CN QSDĐ - Sổ đỏ - Sổ hồng</td>\n",
              "      <td>184.78</td>\n",
              "    </tr>\n",
              "  </tbody>\n",
              "</table>\n",
              "</div>"
            ],
            "text/plain": [
              "       Price  ... Price(million/m_square)\n",
              "11936   2.25  ...                   52.33\n",
              "11937   1.10  ...                   33.33\n",
              "11938   1.00  ...                   10.00\n",
              "11939  25.00  ...                   50.00\n",
              "11940   8.50  ...                  184.78\n",
              "\n",
              "[5 rows x 13 columns]"
            ]
          },
          "metadata": {
            "tags": []
          },
          "execution_count": 21
        }
      ]
    },
    {
      "cell_type": "code",
      "metadata": {
        "id": "NdC9SYnpHUZk"
      },
      "source": [
        "new_data['Floor'] = new_data['Floor'].astype(float)\n",
        "new_data['Bedrooms'] = new_data['Bedrooms'].astype(float)\n",
        "new_data['Bathrooms'] = new_data['Bathrooms'].astype(float)"
      ],
      "execution_count": null,
      "outputs": []
    },
    {
      "cell_type": "code",
      "metadata": {
        "colab": {
          "base_uri": "https://localhost:8080/"
        },
        "id": "NoxwdsliHUZl",
        "outputId": "a70c8ebd-0a53-4067-d09a-b5c8fbeaa4aa"
      },
      "source": [
        "new_data.info()"
      ],
      "execution_count": null,
      "outputs": [
        {
          "output_type": "stream",
          "text": [
            "<class 'pandas.core.frame.DataFrame'>\n",
            "Int64Index: 10042 entries, 0 to 11940\n",
            "Data columns (total 13 columns):\n",
            " #   Column                   Non-Null Count  Dtype  \n",
            "---  ------                   --------------  -----  \n",
            " 0   Price                    10042 non-null  float64\n",
            " 1   Location                 10042 non-null  object \n",
            " 2   Area                     10009 non-null  float64\n",
            " 3   Street                   9027 non-null   object \n",
            " 4   Facade                   5417 non-null   float64\n",
            " 5   Direction                1845 non-null   object \n",
            " 6   Saler                    10042 non-null  object \n",
            " 7   Type                     10042 non-null  object \n",
            " 8   Floor                    465 non-null    float64\n",
            " 9   Bathrooms                1997 non-null   float64\n",
            " 10  Bedrooms                 4580 non-null   float64\n",
            " 11  Legal Doc                8542 non-null   object \n",
            " 12  Price(million/m_square)  10009 non-null  float64\n",
            "dtypes: float64(7), object(6)\n",
            "memory usage: 1.1+ MB\n"
          ],
          "name": "stdout"
        }
      ]
    },
    {
      "cell_type": "code",
      "metadata": {
        "colab": {
          "base_uri": "https://localhost:8080/",
          "height": 618
        },
        "id": "Lvin_I_zHUZl",
        "outputId": "ff41c145-c50c-4d56-f986-ee25d296c59e"
      },
      "source": [
        "cat_col_df = new_data.select_dtypes(include='object')\n",
        "\n",
        "def missing_ratio(col):\n",
        "    return col.isna().mean()*100\n",
        "\n",
        "def top10_value_counts(col):\n",
        "    return dict(col.value_counts()[:10])\n",
        "\n",
        "category_stat = cat_col_df.agg([missing_ratio, pd.Series.nunique, top10_value_counts])\n",
        "pd.set_option('display.max_colwidth', 1000)\n",
        "category_stat"
      ],
      "execution_count": null,
      "outputs": [
        {
          "output_type": "execute_result",
          "data": {
            "text/html": [
              "<div>\n",
              "<style scoped>\n",
              "    .dataframe tbody tr th:only-of-type {\n",
              "        vertical-align: middle;\n",
              "    }\n",
              "\n",
              "    .dataframe tbody tr th {\n",
              "        vertical-align: top;\n",
              "    }\n",
              "\n",
              "    .dataframe thead th {\n",
              "        text-align: right;\n",
              "    }\n",
              "</style>\n",
              "<table border=\"1\" class=\"dataframe\">\n",
              "  <thead>\n",
              "    <tr style=\"text-align: right;\">\n",
              "      <th></th>\n",
              "      <th>Location</th>\n",
              "      <th>Street</th>\n",
              "      <th>Direction</th>\n",
              "      <th>Saler</th>\n",
              "      <th>Type</th>\n",
              "      <th>Legal Doc</th>\n",
              "    </tr>\n",
              "  </thead>\n",
              "  <tbody>\n",
              "    <tr>\n",
              "      <th>missing_ratio</th>\n",
              "      <td>0</td>\n",
              "      <td>10.1075</td>\n",
              "      <td>81.6272</td>\n",
              "      <td>0</td>\n",
              "      <td>0</td>\n",
              "      <td>14.9373</td>\n",
              "    </tr>\n",
              "    <tr>\n",
              "      <th>nunique</th>\n",
              "      <td>300</td>\n",
              "      <td>8</td>\n",
              "      <td>37</td>\n",
              "      <td>8</td>\n",
              "      <td>194</td>\n",
              "      <td>15</td>\n",
              "    </tr>\n",
              "    <tr>\n",
              "      <th>top10_value_counts</th>\n",
              "      <td>{'Quận Hà Đông, Thành phố Hà Nội': 630, 'Quận Đống Đa, Thành phố Hà Nội': 562, 'Quận Thanh Xuân, Thành phố Hà Nội': 513, 'Quận Cầu Giấy, Thành phố Hà Nội': 434, 'Quận Hoàng Mai, Thành phố Hà Nội': 361, 'Quận Bắc Từ Liêm, Thành phố Hà Nội': 354, 'Quận Hai Bà Trưng, Thành phố Hà Nội': 304, 'Quận Long Biên, Thành phố Hà Nội': 292, 'Thành phố Vũng Tàu, Tỉnh Bà Rịa - Vũng Tàu': 272, 'Quận Tây Hồ, Thành phố Hà Nội': 267}</td>\n",
              "      <td>{'Mặt phố - Mặt đường': 3329, 'Ngõ ô tô đỗ cửa': 1497, 'Ngõ 2 ô tô tránh': 1455, 'Ngõ ngách': 1445, 'Ngõ 1 ô tô': 1062, 'Ngõ 3 ô tô tránh': 174, 'Ngõ 4 ô tô trở lên': 45, 'Ngõ 4 ô tô tránh': 20}</td>\n",
              "      <td>{'Đông Nam': 365, 'Đông Bắc': 234, 'Tây Nam': 224, 'Tây Bắc': 221, 'Nam': 179, 'Đông': 136, 'Bắc': 117, 'Đông Tứ Trạch': 108, 'Tây Tứ Trạch': 81, 'Tây': 75}</td>\n",
              "      <td>{'Nhà môi giới': 7754, 'Chính chủ': 1839, 'Khách vãng lai': 181, 'Sàn bất động sản': 105, 'Chủ đầu tư': 98, 'Quảng cáo': 37, 'Nhà đầu tư': 27, 'Ngân Hàng': 1}</td>\n",
              "      <td>{'Nhà ở': 4720, 'Đất - Đất nền - Nhà như đất': 2684, 'Chung cư': 815, 'Biệt thự - Song lập - Đơn lập': 276, 'Nhà liền kề - Song lập - Đơn lập': 181, 'Shophouse - Nhà phố': 125, 'Nhà cấp 4': 120, 'Chung cư mini': 102, 'Nhà ở, Nhà liền kề - Song lập - Đơn lập': 51, 'Nhà ở, Đất - Đất nền - Nhà như đất': 48}</td>\n",
              "      <td>{'Giấy CN QSDĐ - Sổ đỏ - Sổ hồng': 8050, 'Giấy CN QSDĐ - Sổ đỏ - Sổ hồng, Hợp đồng mua bán': 315, 'Hợp đồng mua bán': 145, 'Đang làm giấy CN QSDĐ': 6, 'Đã có giấy hẹn lấy số': 5, 'Giấy CN QSDĐ - Sổ đỏ - Sổ hồng, Hợp đồng mua bán, Giấy tờ chứng minh nguồn gốc': 5, 'Hợp đồng góp vốn': 4, 'Giấy CN QSDĐ - Sổ đỏ - Sổ hồng, Hợp đồng mua bán, Hợp đồng góp vốn': 3, 'Đất giao - Đất phân': 2, 'Giấy CN QSDĐ - Sổ đỏ - Sổ hồng, Giấy tờ chứng minh nguồn gốc': 2}</td>\n",
              "    </tr>\n",
              "  </tbody>\n",
              "</table>\n",
              "</div>"
            ],
            "text/plain": [
              "                                                                                                                                                                                                                                                                                                                                                                                                                                              Location  ...                                                                                                                                                                                                                                                                                                                                                                                                                                                             Legal Doc\n",
              "missing_ratio                                                                                                                                                                                                                                                                                                                                                                                                                                        0  ...                                                                                                                                                                                                                                                                                                                                                                                                                                                               14.9373\n",
              "nunique                                                                                                                                                                                                                                                                                                                                                                                                                                            300  ...                                                                                                                                                                                                                                                                                                                                                                                                                                                                    15\n",
              "top10_value_counts  {'Quận Hà Đông, Thành phố Hà Nội': 630, 'Quận Đống Đa, Thành phố Hà Nội': 562, 'Quận Thanh Xuân, Thành phố Hà Nội': 513, 'Quận Cầu Giấy, Thành phố Hà Nội': 434, 'Quận Hoàng Mai, Thành phố Hà Nội': 361, 'Quận Bắc Từ Liêm, Thành phố Hà Nội': 354, 'Quận Hai Bà Trưng, Thành phố Hà Nội': 304, 'Quận Long Biên, Thành phố Hà Nội': 292, 'Thành phố Vũng Tàu, Tỉnh Bà Rịa - Vũng Tàu': 272, 'Quận Tây Hồ, Thành phố Hà Nội': 267}  ...  {'Giấy CN QSDĐ - Sổ đỏ - Sổ hồng': 8050, 'Giấy CN QSDĐ - Sổ đỏ - Sổ hồng, Hợp đồng mua bán': 315, 'Hợp đồng mua bán': 145, 'Đang làm giấy CN QSDĐ': 6, 'Đã có giấy hẹn lấy số': 5, 'Giấy CN QSDĐ - Sổ đỏ - Sổ hồng, Hợp đồng mua bán, Giấy tờ chứng minh nguồn gốc': 5, 'Hợp đồng góp vốn': 4, 'Giấy CN QSDĐ - Sổ đỏ - Sổ hồng, Hợp đồng mua bán, Hợp đồng góp vốn': 3, 'Đất giao - Đất phân': 2, 'Giấy CN QSDĐ - Sổ đỏ - Sổ hồng, Giấy tờ chứng minh nguồn gốc': 2}\n",
              "\n",
              "[3 rows x 6 columns]"
            ]
          },
          "metadata": {
            "tags": []
          },
          "execution_count": 24
        }
      ]
    },
    {
      "cell_type": "code",
      "metadata": {
        "colab": {
          "base_uri": "https://localhost:8080/",
          "height": 255
        },
        "id": "Mifp0XPpHUZl",
        "outputId": "e0c5f7e3-6f0b-4940-e2a4-f288292e61d0"
      },
      "source": [
        "numeric_cols_df = new_data.select_dtypes(exclude='object')\n",
        "\n",
        "def median(col):\n",
        "    return col.quantile(0.5)\n",
        "\n",
        "def lower_quantile(col):\n",
        "    return col.quantile(0.25)\n",
        "\n",
        "def upper_quantile(col):\n",
        "    return col.quantile(0.75)\n",
        "\n",
        "numeric_cols_df.agg([missing_ratio, min, median, lower_quantile, upper_quantile,max])"
      ],
      "execution_count": null,
      "outputs": [
        {
          "output_type": "execute_result",
          "data": {
            "text/html": [
              "<div>\n",
              "<style scoped>\n",
              "    .dataframe tbody tr th:only-of-type {\n",
              "        vertical-align: middle;\n",
              "    }\n",
              "\n",
              "    .dataframe tbody tr th {\n",
              "        vertical-align: top;\n",
              "    }\n",
              "\n",
              "    .dataframe thead th {\n",
              "        text-align: right;\n",
              "    }\n",
              "</style>\n",
              "<table border=\"1\" class=\"dataframe\">\n",
              "  <thead>\n",
              "    <tr style=\"text-align: right;\">\n",
              "      <th></th>\n",
              "      <th>Price</th>\n",
              "      <th>Area</th>\n",
              "      <th>Facade</th>\n",
              "      <th>Floor</th>\n",
              "      <th>Bathrooms</th>\n",
              "      <th>Bedrooms</th>\n",
              "      <th>Price(million/m_square)</th>\n",
              "    </tr>\n",
              "  </thead>\n",
              "  <tbody>\n",
              "    <tr>\n",
              "      <th>missing_ratio</th>\n",
              "      <td>0.000000e+00</td>\n",
              "      <td>0.32862</td>\n",
              "      <td>46.056562</td>\n",
              "      <td>95.369448</td>\n",
              "      <td>80.113523</td>\n",
              "      <td>54.391555</td>\n",
              "      <td>3.286198e-01</td>\n",
              "    </tr>\n",
              "    <tr>\n",
              "      <th>min</th>\n",
              "      <td>1.000000e-03</td>\n",
              "      <td>1.20000</td>\n",
              "      <td>1.000000</td>\n",
              "      <td>1.000000</td>\n",
              "      <td>1.000000</td>\n",
              "      <td>1.000000</td>\n",
              "      <td>1.280000e-06</td>\n",
              "    </tr>\n",
              "    <tr>\n",
              "      <th>median</th>\n",
              "      <td>3.600000e+00</td>\n",
              "      <td>72.00000</td>\n",
              "      <td>5.000000</td>\n",
              "      <td>4.000000</td>\n",
              "      <td>3.000000</td>\n",
              "      <td>3.000000</td>\n",
              "      <td>6.650000e+01</td>\n",
              "    </tr>\n",
              "    <tr>\n",
              "      <th>lower_quantile</th>\n",
              "      <td>1.870000e+00</td>\n",
              "      <td>46.00000</td>\n",
              "      <td>4.000000</td>\n",
              "      <td>3.000000</td>\n",
              "      <td>2.000000</td>\n",
              "      <td>2.000000</td>\n",
              "      <td>1.900000e+01</td>\n",
              "    </tr>\n",
              "    <tr>\n",
              "      <th>upper_quantile</th>\n",
              "      <td>6.500000e+00</td>\n",
              "      <td>118.00000</td>\n",
              "      <td>6.000000</td>\n",
              "      <td>5.000000</td>\n",
              "      <td>4.000000</td>\n",
              "      <td>4.000000</td>\n",
              "      <td>1.095200e+02</td>\n",
              "    </tr>\n",
              "    <tr>\n",
              "      <th>max</th>\n",
              "      <td>3.750000e+09</td>\n",
              "      <td>500000.00000</td>\n",
              "      <td>613.000000</td>\n",
              "      <td>50.000000</td>\n",
              "      <td>50.000000</td>\n",
              "      <td>111.000000</td>\n",
              "      <td>3.937500e+08</td>\n",
              "    </tr>\n",
              "  </tbody>\n",
              "</table>\n",
              "</div>"
            ],
            "text/plain": [
              "                       Price          Area  ...    Bedrooms  Price(million/m_square)\n",
              "missing_ratio   0.000000e+00       0.32862  ...   54.391555             3.286198e-01\n",
              "min             1.000000e-03       1.20000  ...    1.000000             1.280000e-06\n",
              "median          3.600000e+00      72.00000  ...    3.000000             6.650000e+01\n",
              "lower_quantile  1.870000e+00      46.00000  ...    2.000000             1.900000e+01\n",
              "upper_quantile  6.500000e+00     118.00000  ...    4.000000             1.095200e+02\n",
              "max             3.750000e+09  500000.00000  ...  111.000000             3.937500e+08\n",
              "\n",
              "[6 rows x 7 columns]"
            ]
          },
          "metadata": {
            "tags": []
          },
          "execution_count": 25
        }
      ]
    },
    {
      "cell_type": "code",
      "metadata": {
        "id": "fQnEs_TdHUZm"
      },
      "source": [
        "# new_data.drop(new_data.index[new_data['Price'] == 3.750000e+09], inplace = True)"
      ],
      "execution_count": null,
      "outputs": []
    },
    {
      "cell_type": "code",
      "metadata": {
        "colab": {
          "base_uri": "https://localhost:8080/"
        },
        "id": "pxTrRb08HUZm",
        "outputId": "baa2f7e9-0bdd-4d30-96aa-9632e40cdeca"
      },
      "source": [
        "new_data.shape"
      ],
      "execution_count": null,
      "outputs": [
        {
          "output_type": "execute_result",
          "data": {
            "text/plain": [
              "(10042, 13)"
            ]
          },
          "metadata": {
            "tags": []
          },
          "execution_count": 27
        }
      ]
    },
    {
      "cell_type": "code",
      "metadata": {
        "colab": {
          "base_uri": "https://localhost:8080/"
        },
        "id": "H_GAAba5HUZm",
        "outputId": "2799f9a4-41ac-49a8-c76f-ea764076405b"
      },
      "source": [
        "new_data.info()"
      ],
      "execution_count": null,
      "outputs": [
        {
          "output_type": "stream",
          "text": [
            "<class 'pandas.core.frame.DataFrame'>\n",
            "Int64Index: 10042 entries, 0 to 11940\n",
            "Data columns (total 13 columns):\n",
            " #   Column                   Non-Null Count  Dtype  \n",
            "---  ------                   --------------  -----  \n",
            " 0   Price                    10042 non-null  float64\n",
            " 1   Location                 10042 non-null  object \n",
            " 2   Area                     10009 non-null  float64\n",
            " 3   Street                   9027 non-null   object \n",
            " 4   Facade                   5417 non-null   float64\n",
            " 5   Direction                1845 non-null   object \n",
            " 6   Saler                    10042 non-null  object \n",
            " 7   Type                     10042 non-null  object \n",
            " 8   Floor                    465 non-null    float64\n",
            " 9   Bathrooms                1997 non-null   float64\n",
            " 10  Bedrooms                 4580 non-null   float64\n",
            " 11  Legal Doc                8542 non-null   object \n",
            " 12  Price(million/m_square)  10009 non-null  float64\n",
            "dtypes: float64(7), object(6)\n",
            "memory usage: 1.1+ MB\n"
          ],
          "name": "stdout"
        }
      ]
    },
    {
      "cell_type": "code",
      "metadata": {
        "colab": {
          "base_uri": "https://localhost:8080/",
          "height": 404
        },
        "id": "3lyRjo0kHUZm",
        "outputId": "87a7a187-4667-44f8-9495-a9f3ef791050"
      },
      "source": [
        "fig, ax = plt.subplots(1,2,figsize=(16,7))\n",
        "sns.barplot(x=new_data['Street'].dropna().unique(),y =new_data['Street'].value_counts(), ax=ax[0])\n",
        "ax[0].set_xticklabels(ax[0].get_xticklabels(),rotation=30)\n",
        "sns.barplot(x=new_data['Saler'].dropna().unique(),y =new_data['Saler'].value_counts(), ax=ax[1])\n",
        "ax[1].set_xticklabels(ax[1].get_xticklabels(),rotation=30)\n",
        "plt.show()"
      ],
      "execution_count": null,
      "outputs": [
        {
          "output_type": "display_data",
          "data": {
            "image/png": "[encoded data removed]",
            "text/plain": [
              "<Figure size 1152x504 with 2 Axes>"
            ]
          },
          "metadata": {
            "tags": [],
            "needs_background": "light"
          }
        }
      ]
    },
    {
      "cell_type": "code",
      "metadata": {
        "colab": {
          "base_uri": "https://localhost:8080/"
        },
        "id": "zzLqyUAIHUZn",
        "outputId": "1c98e9de-21c0-41ec-bf36-aa71a9953182"
      },
      "source": [
        "new_data['Street'].value_counts()"
      ],
      "execution_count": null,
      "outputs": [
        {
          "output_type": "execute_result",
          "data": {
            "text/plain": [
              "Mặt phố - Mặt đường    3329\n",
              "Ngõ ô tô đỗ cửa        1497\n",
              "Ngõ 2 ô tô tránh       1455\n",
              "Ngõ ngách              1445\n",
              "Ngõ 1 ô tô             1062\n",
              "Ngõ 3 ô tô tránh        174\n",
              "Ngõ 4 ô tô trở lên       45\n",
              "Ngõ 4 ô tô tránh         20\n",
              "Name: Street, dtype: int64"
            ]
          },
          "metadata": {
            "tags": []
          },
          "execution_count": 30
        }
      ]
    },
    {
      "cell_type": "code",
      "metadata": {
        "id": "SgoHM7L2HUZn"
      },
      "source": [
        "# dict(new_data['Type'].value_counts())"
      ],
      "execution_count": null,
      "outputs": []
    },
    {
      "cell_type": "code",
      "metadata": {
        "id": "62eyZ2T1HUZn"
      },
      "source": [
        "new_data.Type.replace(['Chung cư, Chung cư mini', 'Chung cư, Chung cư mini', 'Biệt thự - Song lập - Đơn lập','Biệt thự du lịch','Nhà cấp 4'],\\\n",
        "                        ['Chung cư mini','Chung cư mini', 'Biệt thự','Biệt thự','Nhà ở' ],inplace=True)"
      ],
      "execution_count": null,
      "outputs": []
    },
    {
      "cell_type": "code",
      "metadata": {
        "id": "9Na_6dBKHUZn"
      },
      "source": [
        "list_type = list(new_data['Type'])\n",
        "for i in range(len(list_type)):\n",
        "    list_type[i] = list_type[i].split(',')[0]"
      ],
      "execution_count": null,
      "outputs": []
    },
    {
      "cell_type": "code",
      "metadata": {
        "id": "lPtdguEAHUZn"
      },
      "source": [
        "new_data['Type'] = list_type"
      ],
      "execution_count": null,
      "outputs": []
    },
    {
      "cell_type": "code",
      "metadata": {
        "colab": {
          "base_uri": "https://localhost:8080/"
        },
        "id": "TDW8j2CrHUZn",
        "outputId": "a3a923e8-6522-460b-ab72-6435347e5f93"
      },
      "source": [
        "len(new_data['Type'].value_counts())"
      ],
      "execution_count": null,
      "outputs": [
        {
          "output_type": "execute_result",
          "data": {
            "text/plain": [
              "25"
            ]
          },
          "metadata": {
            "tags": []
          },
          "execution_count": 35
        }
      ]
    },
    {
      "cell_type": "code",
      "metadata": {
        "colab": {
          "base_uri": "https://localhost:8080/"
        },
        "id": "hdOWcMXSHUZo",
        "outputId": "734ab1be-3fa9-4174-cd7a-ba2a60828b05"
      },
      "source": [
        "dict(new_data['Type'].value_counts())"
      ],
      "execution_count": null,
      "outputs": [
        {
          "output_type": "execute_result",
          "data": {
            "text/plain": [
              "{'Biệt thự': 276,\n",
              " 'Biệt thự - Song lập - Đơn lập': 83,\n",
              " 'Biệt thự du lịch': 3,\n",
              " 'Bất động sản khác': 33,\n",
              " 'Chung cư': 857,\n",
              " 'Chung cư mini': 155,\n",
              " 'Căn hộ cho thuê': 9,\n",
              " 'Căn hộ du lịch - Condotel': 14,\n",
              " 'Căn hộ dịch vụ - Homestay': 5,\n",
              " 'Dự án BĐS - Khu nghỉ dưỡng - Resort': 23,\n",
              " 'Karaoke': 1,\n",
              " 'Kho bãi - Nhà xưởng': 10,\n",
              " 'Khách sạn - Nhà nghỉ': 34,\n",
              " 'Mặt bằng thương mại': 21,\n",
              " 'Nhà cấp 4': 71,\n",
              " 'Nhà hàng - Cửa hàng - Ki ốt': 6,\n",
              " 'Nhà liền kề - Song lập - Đơn lập': 191,\n",
              " 'Nhà ở': 5264,\n",
              " 'Phòng trọ/ Nhà trọ': 29,\n",
              " 'Shophouse - Nhà phố': 137,\n",
              " 'Sàn văn phòng': 2,\n",
              " 'Toà nhà văn phòng': 18,\n",
              " 'Trang trại': 5,\n",
              " 'Tập thể': 9,\n",
              " 'Đất - Đất nền - Nhà như đất': 2786}"
            ]
          },
          "metadata": {
            "tags": []
          },
          "execution_count": 36
        }
      ]
    },
    {
      "cell_type": "code",
      "metadata": {
        "colab": {
          "base_uri": "https://localhost:8080/",
          "height": 1000
        },
        "id": "PwAEjdjPHUZo",
        "outputId": "8638a6f1-590a-499d-bb45-e4f05221520d"
      },
      "source": [
        "new_data[new_data['Type']=='Biệt thự - Song lập - Đơn lập']"
      ],
      "execution_count": null,
      "outputs": [
        {
          "output_type": "execute_result",
          "data": {
            "text/html": [
              "<div>\n",
              "<style scoped>\n",
              "    .dataframe tbody tr th:only-of-type {\n",
              "        vertical-align: middle;\n",
              "    }\n",
              "\n",
              "    .dataframe tbody tr th {\n",
              "        vertical-align: top;\n",
              "    }\n",
              "\n",
              "    .dataframe thead th {\n",
              "        text-align: right;\n",
              "    }\n",
              "</style>\n",
              "<table border=\"1\" class=\"dataframe\">\n",
              "  <thead>\n",
              "    <tr style=\"text-align: right;\">\n",
              "      <th></th>\n",
              "      <th>Price</th>\n",
              "      <th>Location</th>\n",
              "      <th>Area</th>\n",
              "      <th>Street</th>\n",
              "      <th>Facade</th>\n",
              "      <th>Direction</th>\n",
              "      <th>Saler</th>\n",
              "      <th>Type</th>\n",
              "      <th>Floor</th>\n",
              "      <th>Bathrooms</th>\n",
              "      <th>Bedrooms</th>\n",
              "      <th>Legal Doc</th>\n",
              "      <th>Price(million/m_square)</th>\n",
              "    </tr>\n",
              "  </thead>\n",
              "  <tbody>\n",
              "    <tr>\n",
              "      <th>182</th>\n",
              "      <td>31.000</td>\n",
              "      <td>Quận Tây Hồ, Thành phố Hà Nội</td>\n",
              "      <td>140.0</td>\n",
              "      <td>Mặt phố - Mặt đường</td>\n",
              "      <td>NaN</td>\n",
              "      <td>NaN</td>\n",
              "      <td>Nhà môi giới</td>\n",
              "      <td>Biệt thự - Song lập - Đơn lập</td>\n",
              "      <td>NaN</td>\n",
              "      <td>NaN</td>\n",
              "      <td>NaN</td>\n",
              "      <td>Giấy CN QSDĐ - Sổ đỏ - Sổ hồng</td>\n",
              "      <td>221.43</td>\n",
              "    </tr>\n",
              "    <tr>\n",
              "      <th>297</th>\n",
              "      <td>11.600</td>\n",
              "      <td>Huyện Đông Anh, Thành phố Hà Nội</td>\n",
              "      <td>108.0</td>\n",
              "      <td>Mặt phố - Mặt đường</td>\n",
              "      <td>NaN</td>\n",
              "      <td>NaN</td>\n",
              "      <td>Nhà môi giới</td>\n",
              "      <td>Biệt thự - Song lập - Đơn lập</td>\n",
              "      <td>NaN</td>\n",
              "      <td>NaN</td>\n",
              "      <td>NaN</td>\n",
              "      <td>Giấy CN QSDĐ - Sổ đỏ - Sổ hồng</td>\n",
              "      <td>107.41</td>\n",
              "    </tr>\n",
              "    <tr>\n",
              "      <th>357</th>\n",
              "      <td>2.400</td>\n",
              "      <td>Thành phố Bến Tre, Tỉnh Bến Tre</td>\n",
              "      <td>90.0</td>\n",
              "      <td>Mặt phố - Mặt đường</td>\n",
              "      <td>4.5</td>\n",
              "      <td>NaN</td>\n",
              "      <td>Nhà môi giới</td>\n",
              "      <td>Biệt thự - Song lập - Đơn lập</td>\n",
              "      <td>NaN</td>\n",
              "      <td>NaN</td>\n",
              "      <td>NaN</td>\n",
              "      <td>Giấy CN QSDĐ - Sổ đỏ - Sổ hồng</td>\n",
              "      <td>26.67</td>\n",
              "    </tr>\n",
              "    <tr>\n",
              "      <th>363</th>\n",
              "      <td>0.724</td>\n",
              "      <td>Thành phố Bến Tre, Tỉnh Bến Tre</td>\n",
              "      <td>50.0</td>\n",
              "      <td>Mặt phố - Mặt đường</td>\n",
              "      <td>NaN</td>\n",
              "      <td>NaN</td>\n",
              "      <td>Nhà môi giới</td>\n",
              "      <td>Biệt thự - Song lập - Đơn lập</td>\n",
              "      <td>NaN</td>\n",
              "      <td>NaN</td>\n",
              "      <td>2.0</td>\n",
              "      <td>Giấy CN QSDĐ - Sổ đỏ - Sổ hồng</td>\n",
              "      <td>14.48</td>\n",
              "    </tr>\n",
              "    <tr>\n",
              "      <th>399</th>\n",
              "      <td>4.200</td>\n",
              "      <td>Huyện Hoài Đức, Thành phố Hà Nội</td>\n",
              "      <td>100.0</td>\n",
              "      <td>Ngõ 2 ô tô tránh</td>\n",
              "      <td>NaN</td>\n",
              "      <td>NaN</td>\n",
              "      <td>Nhà môi giới</td>\n",
              "      <td>Biệt thự - Song lập - Đơn lập</td>\n",
              "      <td>NaN</td>\n",
              "      <td>NaN</td>\n",
              "      <td>NaN</td>\n",
              "      <td>Giấy CN QSDĐ - Sổ đỏ - Sổ hồng</td>\n",
              "      <td>42.00</td>\n",
              "    </tr>\n",
              "    <tr>\n",
              "      <th>...</th>\n",
              "      <td>...</td>\n",
              "      <td>...</td>\n",
              "      <td>...</td>\n",
              "      <td>...</td>\n",
              "      <td>...</td>\n",
              "      <td>...</td>\n",
              "      <td>...</td>\n",
              "      <td>...</td>\n",
              "      <td>...</td>\n",
              "      <td>...</td>\n",
              "      <td>...</td>\n",
              "      <td>...</td>\n",
              "      <td>...</td>\n",
              "    </tr>\n",
              "    <tr>\n",
              "      <th>11090</th>\n",
              "      <td>6.800</td>\n",
              "      <td>Quận Đống Đa, Thành phố Hà Nội</td>\n",
              "      <td>80.0</td>\n",
              "      <td>Ngõ ngách</td>\n",
              "      <td>4.0</td>\n",
              "      <td>Đông Bắc</td>\n",
              "      <td>Nhà môi giới</td>\n",
              "      <td>Biệt thự - Song lập - Đơn lập</td>\n",
              "      <td>NaN</td>\n",
              "      <td>3.0</td>\n",
              "      <td>4.0</td>\n",
              "      <td>Giấy CN QSDĐ - Sổ đỏ - Sổ hồng</td>\n",
              "      <td>85.00</td>\n",
              "    </tr>\n",
              "    <tr>\n",
              "      <th>11230</th>\n",
              "      <td>3.500</td>\n",
              "      <td>Thành phố Sóc Trăng, Tỉnh Sóc Trăng</td>\n",
              "      <td>270.0</td>\n",
              "      <td>Mặt phố - Mặt đường</td>\n",
              "      <td>NaN</td>\n",
              "      <td>NaN</td>\n",
              "      <td>Nhà môi giới</td>\n",
              "      <td>Biệt thự - Song lập - Đơn lập</td>\n",
              "      <td>NaN</td>\n",
              "      <td>NaN</td>\n",
              "      <td>NaN</td>\n",
              "      <td>Giấy CN QSDĐ - Sổ đỏ - Sổ hồng</td>\n",
              "      <td>12.96</td>\n",
              "    </tr>\n",
              "    <tr>\n",
              "      <th>11253</th>\n",
              "      <td>28.000</td>\n",
              "      <td>Quận Thanh Xuân, Thành phố Hà Nội</td>\n",
              "      <td>157.0</td>\n",
              "      <td>Ngõ 3 ô tô tránh</td>\n",
              "      <td>NaN</td>\n",
              "      <td>NaN</td>\n",
              "      <td>Nhà môi giới</td>\n",
              "      <td>Biệt thự - Song lập - Đơn lập</td>\n",
              "      <td>NaN</td>\n",
              "      <td>8.0</td>\n",
              "      <td>6.0</td>\n",
              "      <td>Giấy CN QSDĐ - Sổ đỏ - Sổ hồng</td>\n",
              "      <td>178.34</td>\n",
              "    </tr>\n",
              "    <tr>\n",
              "      <th>11293</th>\n",
              "      <td>3.500</td>\n",
              "      <td>Thị xã Thái Hòa, Tỉnh Nghệ An</td>\n",
              "      <td>138.0</td>\n",
              "      <td>Ngõ 2 ô tô tránh</td>\n",
              "      <td>NaN</td>\n",
              "      <td>NaN</td>\n",
              "      <td>Chính chủ</td>\n",
              "      <td>Biệt thự - Song lập - Đơn lập</td>\n",
              "      <td>NaN</td>\n",
              "      <td>NaN</td>\n",
              "      <td>NaN</td>\n",
              "      <td>NaN</td>\n",
              "      <td>25.36</td>\n",
              "    </tr>\n",
              "    <tr>\n",
              "      <th>11401</th>\n",
              "      <td>8.000</td>\n",
              "      <td>Thành phố Vinh, Tỉnh Nghệ An</td>\n",
              "      <td>240.0</td>\n",
              "      <td>Mặt phố - Mặt đường</td>\n",
              "      <td>14.0</td>\n",
              "      <td>Đông Tứ Trạch, Tây Tứ Trạch</td>\n",
              "      <td>Chủ đầu tư</td>\n",
              "      <td>Biệt thự - Song lập - Đơn lập</td>\n",
              "      <td>NaN</td>\n",
              "      <td>NaN</td>\n",
              "      <td>4.0</td>\n",
              "      <td>Giấy CN QSDĐ - Sổ đỏ - Sổ hồng, Hợp đồng mua bán</td>\n",
              "      <td>33.33</td>\n",
              "    </tr>\n",
              "  </tbody>\n",
              "</table>\n",
              "<p>83 rows × 13 columns</p>\n",
              "</div>"
            ],
            "text/plain": [
              "        Price  ... Price(million/m_square)\n",
              "182    31.000  ...                  221.43\n",
              "297    11.600  ...                  107.41\n",
              "357     2.400  ...                   26.67\n",
              "363     0.724  ...                   14.48\n",
              "399     4.200  ...                   42.00\n",
              "...       ...  ...                     ...\n",
              "11090   6.800  ...                   85.00\n",
              "11230   3.500  ...                   12.96\n",
              "11253  28.000  ...                  178.34\n",
              "11293   3.500  ...                   25.36\n",
              "11401   8.000  ...                   33.33\n",
              "\n",
              "[83 rows x 13 columns]"
            ]
          },
          "metadata": {
            "tags": []
          },
          "execution_count": 37
        }
      ]
    },
    {
      "cell_type": "markdown",
      "metadata": {
        "id": "3Tgko16gHUZo"
      },
      "source": [
        "1 - Chung cư thường phân bổ ở những tỉnh thành nào? giải thích? <br>\n",
        "2 - Các chung cư có nhiều phòng ngủ sẽ có giá cao hơn đúng không? <br>\n",
        "3 - Diện tích các căn chung cư 1 phòng ngủ thường dưới 50 mét vuông đúng không? <br>\n",
        "4 - Nhà ở TP Hồ Chí Minh được bán nhiều hơn bởi Nhà môi giới hay chính chủ hay thông qua sàn giao dịch?<br>\n",
        "5 - Giá chung cư chưa có giấy tờ sẽ thấp hơn chung cư dã có giấy tờ?<br>\n",
        "6 - Nhà được bán bởi chính chú thường có giá thấp hơn nhà bán bởi nhà môi giới?<br>\n",
        "7 - Tại sao số bất động sản ở TP Hồ Chí Minh/Hà Nội lại nhiều hơn các tỉnh khác?<br>\n",
        "8 - Đất nền hay chugn cư có giá cao hơn?<br>\n",
        "9 - Những hơi nhiều đất nền thì ít chung cư và ngược lại đúng không ? Giải thích?<br>\n",
        "10 - Diện tích nhà ở trung bình của TP HCM nhỏ hơn Hà Nội đúng không?<br>\n",
        "11 - Phần lớn BĐS rao bán ở các TP?<br>\n",
        "12 - Giá trung bình biệt thự là bao nhiêu?<br>\n",
        "13 - Biệt thự thường tập trung ở các khu vực nào? Tại sao?<br>\n",
        "14 - Nhà ở ở đường lớn có giá cao hơn nhà ở trong ngõ?<br>\n",
        "15 - Nhà ở mặt phố thường có diện tích lớn hơn nhà ở trong ngõ?<br>\n",
        "16 - Nhà có nhiều phòng ngủ sẽ có nhiều nhà vệ sinh?<br>\n",
        "17 - Tại sao các tỉnh thành xung quanh TPHCM/HN thường bán nhà hoặc đất nền ? Giải thích?<br>\n",
        "18 - Tỉ lệ thành phần các loại bất động sản ở HCM, HN, ĐN<br>\n",
        "19 - Mỗi loại bất động sản ở quận 10, tphcm có giá trị tầm bn??<br>\n",
        "20 - Giá trị trung bình chung cư 2 phòng ngủ giữa các quận ở HCM<br>\n",
        "21 - Nơi nào ở hcm có nhu cầu giao dịch bất động sản nhiều nhất? lí giải<br>\n",
        "22 - Mặt tiền ở thành phố bảo lộc (có thể dùng để mở cửa hàng) có giá trị bn?<br>\n",
        "23 - Bạn có khoảng 5 tỷ ở SG, và bạn quyết tâm về quê chăn gà, và bạn quyết tâm về tây nguyên start up, nên mua đất nền ở đâu<br>"
      ]
    },
    {
      "cell_type": "markdown",
      "metadata": {
        "id": "RLGmkeGZbdKD"
      },
      "source": [
        "# Trả  lời một số câu hỏi bằng trực quan hóa"
      ]
    },
    {
      "cell_type": "markdown",
      "metadata": {
        "id": "kFb0q43DbV99"
      },
      "source": [
        " ### Tỉ lệ thành phần các loại bất động sản ở HCM, HN, ĐN"
      ]
    },
    {
      "cell_type": "code",
      "metadata": {
        "id": "k_-nz_WmHUZp"
      },
      "source": [
        "hn_df = new_data.loc[(new_data['Location'].str.contains('Hà Nội'))]\n",
        "replace_type = hn_df['Type'].value_counts().keys()[6:]\n",
        "\n",
        "for val in replace_type:\n",
        "    hn_df.loc[hn_df['Type'] == val, :] = 'Bất động sản khác'"
      ],
      "execution_count": null,
      "outputs": []
    },
    {
      "cell_type": "code",
      "metadata": {
        "id": "B2rUJ_pcIp_O"
      },
      "source": [
        "dn_df = new_data.loc[(new_data['Location'].str.contains('Đà Nẵng'))]\n",
        "replace_type = dn_df['Type'].value_counts().keys()[6:]\n",
        "\n",
        "for val in replace_type:\n",
        "    dn_df.loc[dn_df['Type'] == val, :] = 'Bất động sản khác'"
      ],
      "execution_count": null,
      "outputs": []
    },
    {
      "cell_type": "code",
      "metadata": {
        "id": "Q7QGlIwXKqA_"
      },
      "source": [
        "hcm_df = new_data.loc[(new_data['Location'].str.contains('Hồ Chí Minh'))]\n",
        "replace_type = hcm_df['Type'].value_counts().keys()[6:]\n",
        "\n",
        "for val in replace_type:\n",
        "    hcm_df.loc[hcm_df['Type'] == val, :] = 'Bất động sản khác'"
      ],
      "execution_count": null,
      "outputs": []
    },
    {
      "cell_type": "code",
      "metadata": {
        "id": "jy46xEbvO326",
        "colab": {
          "base_uri": "https://localhost:8080/",
          "height": 273
        },
        "outputId": "643eb516-55f2-434a-9077-9db83ad5db09"
      },
      "source": [
        "fig, axs = plt.subplots(1,3, figsize=(30,10))\n",
        "explode = (0.1, 0.05, 0.05, 0.05, 0.05, 0.05, 0.05)\n",
        "labels = pd.Series(hn_df['Type'].unique() + hcm_df['Type'].unique()+ dn_df['Type'].unique()).unique()\n",
        "\n",
        "hn_df['Type'].value_counts().plot.pie(labels=None, autopct='%1.2f%%', ax=axs[0], explode=explode, title='Hà Nội')\n",
        "dn_df['Type'].value_counts().plot.pie(labels=None, autopct='%1.2f%%', ax=axs[1], explode=explode, title='Đà Nẵng')\n",
        "hcm_df['Type'].value_counts().plot.pie(labels=None, autopct='%1.2f%%', ax=axs[2], explode=explode, title='Hồ Chí Minh')\n",
        "fig.legend(labels)\n",
        "fig.suptitle(\"Tỉ lệ bất động sản ở một số thành phố lớn\")\n",
        "plt.show()"
      ],
      "execution_count": null,
      "outputs": [
        {
          "output_type": "display_data",
          "data": {
            "image/png": "[encoded data removed]",
            "text/plain": [
              "<Figure size 2160x720 with 3 Axes>"
            ]
          },
          "metadata": {
            "tags": []
          }
        }
      ]
    },
    {
      "cell_type": "markdown",
      "metadata": {
        "id": "i8I9MS1Jb3v7"
      },
      "source": [
        "## Nhà có nhiều phòng ngủ sẽ có nhiều nhà tắm?"
      ]
    },
    {
      "cell_type": "code",
      "metadata": {
        "colab": {
          "base_uri": "https://localhost:8080/",
          "height": 419
        },
        "id": "57G6C4yUYnGz",
        "outputId": "72840c22-1a29-45ba-9652-182986564f83"
      },
      "source": [
        "df = new_data.loc[(new_data['Type'].str.contains('Nhà ở')) | (new_data['Type'].str.contains('Chung cư')), ('Bathrooms', 'Bedrooms', 'Price(million/m_square)')]\n",
        "df.fillna(df.mean(), inplace=True)\n",
        "df"
      ],
      "execution_count": null,
      "outputs": [
        {
          "output_type": "execute_result",
          "data": {
            "text/html": [
              "<div>\n",
              "<style scoped>\n",
              "    .dataframe tbody tr th:only-of-type {\n",
              "        vertical-align: middle;\n",
              "    }\n",
              "\n",
              "    .dataframe tbody tr th {\n",
              "        vertical-align: top;\n",
              "    }\n",
              "\n",
              "    .dataframe thead th {\n",
              "        text-align: right;\n",
              "    }\n",
              "</style>\n",
              "<table border=\"1\" class=\"dataframe\">\n",
              "  <thead>\n",
              "    <tr style=\"text-align: right;\">\n",
              "      <th></th>\n",
              "      <th>Bathrooms</th>\n",
              "      <th>Bedrooms</th>\n",
              "      <th>Price(million/m_square)</th>\n",
              "    </tr>\n",
              "  </thead>\n",
              "  <tbody>\n",
              "    <tr>\n",
              "      <th>0</th>\n",
              "      <td>3.519313</td>\n",
              "      <td>2.000000</td>\n",
              "      <td>52.78</td>\n",
              "    </tr>\n",
              "    <tr>\n",
              "      <th>3</th>\n",
              "      <td>3.519313</td>\n",
              "      <td>3.990705</td>\n",
              "      <td>14.00</td>\n",
              "    </tr>\n",
              "    <tr>\n",
              "      <th>6</th>\n",
              "      <td>3.519313</td>\n",
              "      <td>3.990705</td>\n",
              "      <td>37.25</td>\n",
              "    </tr>\n",
              "    <tr>\n",
              "      <th>9</th>\n",
              "      <td>3.519313</td>\n",
              "      <td>3.990705</td>\n",
              "      <td>11.79</td>\n",
              "    </tr>\n",
              "    <tr>\n",
              "      <th>10</th>\n",
              "      <td>4.000000</td>\n",
              "      <td>3.000000</td>\n",
              "      <td>86.67</td>\n",
              "    </tr>\n",
              "    <tr>\n",
              "      <th>...</th>\n",
              "      <td>...</td>\n",
              "      <td>...</td>\n",
              "      <td>...</td>\n",
              "    </tr>\n",
              "    <tr>\n",
              "      <th>11934</th>\n",
              "      <td>3.000000</td>\n",
              "      <td>2.000000</td>\n",
              "      <td>99.09</td>\n",
              "    </tr>\n",
              "    <tr>\n",
              "      <th>11935</th>\n",
              "      <td>3.519313</td>\n",
              "      <td>3.000000</td>\n",
              "      <td>47.67</td>\n",
              "    </tr>\n",
              "    <tr>\n",
              "      <th>11936</th>\n",
              "      <td>2.000000</td>\n",
              "      <td>2.000000</td>\n",
              "      <td>52.33</td>\n",
              "    </tr>\n",
              "    <tr>\n",
              "      <th>11937</th>\n",
              "      <td>3.519313</td>\n",
              "      <td>3.990705</td>\n",
              "      <td>33.33</td>\n",
              "    </tr>\n",
              "    <tr>\n",
              "      <th>11940</th>\n",
              "      <td>3.000000</td>\n",
              "      <td>4.000000</td>\n",
              "      <td>184.78</td>\n",
              "    </tr>\n",
              "  </tbody>\n",
              "</table>\n",
              "<p>6276 rows × 3 columns</p>\n",
              "</div>"
            ],
            "text/plain": [
              "       Bathrooms  Bedrooms  Price(million/m_square)\n",
              "0       3.519313  2.000000                    52.78\n",
              "3       3.519313  3.990705                    14.00\n",
              "6       3.519313  3.990705                    37.25\n",
              "9       3.519313  3.990705                    11.79\n",
              "10      4.000000  3.000000                    86.67\n",
              "...          ...       ...                      ...\n",
              "11934   3.000000  2.000000                    99.09\n",
              "11935   3.519313  3.000000                    47.67\n",
              "11936   2.000000  2.000000                    52.33\n",
              "11937   3.519313  3.990705                    33.33\n",
              "11940   3.000000  4.000000                   184.78\n",
              "\n",
              "[6276 rows x 3 columns]"
            ]
          },
          "metadata": {
            "tags": []
          },
          "execution_count": 42
        }
      ]
    },
    {
      "cell_type": "code",
      "metadata": {
        "id": "JSzisUCipDyT"
      },
      "source": [
        "def corr(x,y):\n",
        "    slope, intercept, r,p, stderr = scipy.stats.linregress(x, y)\n",
        "    line = f'Regression line: y={intercept:.2f}+{slope:.2f}x,r={r:.2f}'\n",
        "    print(scipy.stats.kendalltau(x, y))\n",
        "    fig, ax=plt.subplots(figsize=(8, 6))\n",
        "    ax.plot(x,y,linewidth=0, marker='s', label='Data points')\n",
        "    ax.plot(x, intercept + slope * x,label=line)\n",
        "    ax.set_xlabel(x.name)\n",
        "    ax.set_ylabel(y.name)\n",
        "    ax.legend(facecolor='white')\n",
        "    plt.show()\n"
      ],
      "execution_count": null,
      "outputs": []
    },
    {
      "cell_type": "code",
      "metadata": {
        "colab": {
          "base_uri": "https://localhost:8080/",
          "height": 405
        },
        "id": "aoiB-4RTsPbr",
        "outputId": "411c91c2-79c2-4818-e0e4-343c78cc11ef"
      },
      "source": [
        "corr(df['Bathrooms'], df['Bedrooms'])"
      ],
      "execution_count": null,
      "outputs": [
        {
          "output_type": "stream",
          "text": [
            "KendalltauResult(correlation=0.34074805149731274, pvalue=1.8755518164659913e-226)\n"
          ],
          "name": "stdout"
        },
        {
          "output_type": "display_data",
          "data": {
            "image/png": "[encoded data removed]",
            "text/plain": [
              "<Figure size 576x432 with 1 Axes>"
            ]
          },
          "metadata": {
            "tags": [],
            "needs_background": "light"
          }
        }
      ]
    },
    {
      "cell_type": "markdown",
      "metadata": {
        "id": "5fu6_G4GEOzF"
      },
      "source": [
        "$\\rightarrow$ Dựa vào kết quả trên, ta có thể kết luận hai biến trên có mối quan hệ tương quan ở mức trung bình, không đủ để kết luận quan điểm ở trên."
      ]
    },
    {
      "cell_type": "code",
      "metadata": {
        "colab": {
          "base_uri": "https://localhost:8080/"
        },
        "id": "hHaYdc3VvYSq",
        "outputId": "edb3c304-3173-49ce-fae5-00c15105afcd"
      },
      "source": [
        "new_data.isna().sum()"
      ],
      "execution_count": null,
      "outputs": [
        {
          "output_type": "execute_result",
          "data": {
            "text/plain": [
              "Price                         0\n",
              "Location                      0\n",
              "Area                         33\n",
              "Street                     1015\n",
              "Facade                     4625\n",
              "Direction                  8197\n",
              "Saler                         0\n",
              "Type                          0\n",
              "Floor                      9577\n",
              "Bathrooms                  8045\n",
              "Bedrooms                   5462\n",
              "Legal Doc                  1500\n",
              "Price(million/m_square)      33\n",
              "dtype: int64"
            ]
          },
          "metadata": {
            "tags": []
          },
          "execution_count": 45
        }
      ]
    },
    {
      "cell_type": "markdown",
      "metadata": {
        "id": "-4XGdFbHn7k0"
      },
      "source": [
        "## So sánh giá bất động sản ở Hà Nội và TP Hồ Chí Minh. "
      ]
    },
    {
      "cell_type": "code",
      "metadata": {
        "colab": {
          "base_uri": "https://localhost:8080/",
          "height": 372
        },
        "id": "rvx8LZj_n7k0",
        "outputId": "d6a7ae13-988b-4103-fdb9-a0d8ee930af7"
      },
      "source": [
        "data_hanoi = new_data[new_data['Location'].str.contains(\"Hà Nội\")]\n",
        "data_hcm = new_data[new_data['Location'].str.contains(\"Hồ Chí Minh\")]\n",
        "data_hanoi['City'] = 'Hà Nội'\n",
        "data_hcm['City'] = 'TP Hồ Chí Minh'\n",
        "frames = [data_hanoi, data_hcm]\n",
        "result_df = pd.concat(frames)\n",
        "\n",
        "fig, ax = plt.subplots(1,2,figsize=(16,7))\n",
        "sns.barplot(x=result_df['City'].dropna().unique(),y =result_df.groupby(['City']).mean()['Price'], ax=ax[0]).set_title('Giá trung bình mỗi bất động sản')\n",
        "sns.barplot(x=result_df['City'].dropna().unique(),y =result_df.groupby(['City']).mean()['Price(million/m_square)'], ax=ax[1]).set_title('Giá trung bình mét vuông')\n",
        "plt.show()"
      ],
      "execution_count": null,
      "outputs": [
        {
          "output_type": "display_data",
          "data": {
            "image/png": "[encoded data removed]",
            "text/plain": [
              "<Figure size 1152x504 with 2 Axes>"
            ]
          },
          "metadata": {
            "tags": [],
            "needs_background": "light"
          }
        }
      ]
    },
    {
      "cell_type": "markdown",
      "metadata": {
        "id": "sYRiCwHXn7k0"
      },
      "source": [
        "Giá nhà trung bình ở thành phố Hồ Chí Minh rẻ hơn so với Hà Nội. Mức giá trung bình mỗi bất động sản ở Hà Nội và Thành phố Hồ Chí Minh không có sự chênh lệch nhiều. Nhưng giá tiền trên mỗi mét vuông ở Hà Nội cao hơn TP Hồ Chí Minh khá nhiều"
      ]
    },
    {
      "cell_type": "markdown",
      "metadata": {
        "id": "PhEhmyc5n7k1"
      },
      "source": [
        "## So sánh nhà ở ở Hà Nội và TP Hồ Chí Minh."
      ]
    },
    {
      "cell_type": "code",
      "metadata": {
        "colab": {
          "base_uri": "https://localhost:8080/",
          "height": 609
        },
        "id": "wOc2IiDQn7k1",
        "outputId": "b79f9732-da43-45e6-8cae-f5d4a156646c"
      },
      "source": [
        "data_hanoi = new_data[new_data['Location'].str.contains(\"Hà Nội\")]\n",
        "data_hanoi = data_hanoi[new_data['Type'] == 'Nhà ở']\n",
        "data_hcm = new_data[new_data['Location'].str.contains(\"Hồ Chí Minh\")]\n",
        "data_hcm = data_hcm[new_data['Type'] == 'Nhà ở']\n",
        "data_hanoi['City'] = 'Hà Nội'\n",
        "data_hcm['City'] = 'TP Hồ Chí Minh'\n",
        "frames = [data_hanoi, data_hcm]\n",
        "result_df = pd.concat(frames)\n",
        "\n",
        "fig, ax = plt.subplots(2,2,figsize=(10,10))\n",
        "sns.barplot(x=result_df['City'].unique(),y =result_df['City'].value_counts(), ax=ax[0][0]).set_title('Số lượng nhà ở')\n",
        "sns.barplot(x=result_df['City'].unique(),y =result_df.groupby(['City']).mean()['Price(million/m_square)'], ax=ax[0][1]).set_title('Giá trung bình mỗi met vuông')\n",
        "sns.barplot(x=result_df['City'].unique(),y =result_df.groupby(['City']).mean()['Price'], ax=ax[1][0]).set_title('Giá trung bình mỗi căn nhà')\n",
        "sns.barplot(x=result_df['City'].unique(),y =result_df.groupby(['City']).mean()['Area'], ax=ax[1][1]).set_title('Diện tích trung bình mỗi căn nhà')\n",
        "plt.show()"
      ],
      "execution_count": null,
      "outputs": [
        {
          "output_type": "display_data",
          "data": {
            "image/png": "[encoded data removed]",
            "text/plain": [
              "<Figure size 720x720 with 4 Axes>"
            ]
          },
          "metadata": {
            "tags": [],
            "needs_background": "light"
          }
        }
      ]
    },
    {
      "cell_type": "markdown",
      "metadata": {
        "id": "tk5qWiRFn7k1"
      },
      "source": [
        "- Số bất động sản nhà ở ở Hà Nội cao hon rất nhiều so với TP Hồ Chí Minh. \n",
        "- Giá nhà trung bình ở TP Hồ Chí Minh cũng rẻ hơn khá nhiều so với Hà Nội.\n",
        "- Giá trung bình mỗi căn nhà ở Hà Nội cao hơn TP Hồ Chí Minh\n",
        "- Diện tích mỗi căn nhà ở Hà Nội nhỏ hơn TP Hồ Chí Minh\n",
        "==> Kết luận: Giá nhà ở ở Hà Nội khá cao và cao hơn TP Hồ Chí Minh. Điều này khiến các nhà ở có diện tích nhỏ hơn được cung cấp để tiếp cận đến đối tượng khách có nguồn tài chính hạn chế hơn.\n"
      ]
    },
    {
      "cell_type": "markdown",
      "metadata": {
        "id": "gavRSxIyn7k1"
      },
      "source": [
        "## So sánh căn hộ ở Hà Nội và TP Hồ Chí Minh."
      ]
    },
    {
      "cell_type": "code",
      "metadata": {
        "colab": {
          "base_uri": "https://localhost:8080/",
          "height": 760
        },
        "id": "cx6kP9ckn7k1",
        "scrolled": false,
        "outputId": "96a2d564-43e3-4ddc-d321-6ea546a15547"
      },
      "source": [
        "data_hanoi = new_data[new_data['Location'].str.contains(\"Hà Nội\")]\n",
        "data_hanoi = data_hanoi[new_data['Type'] == 'Chung cư']\n",
        "data_hcm = new_data[new_data['Location'].str.contains(\"Hồ Chí Minh\")]\n",
        "data_hcm = data_hcm[new_data['Type'] == 'Chung cư']\n",
        "data_hanoi['City'] = 'Hà Nội'\n",
        "data_hcm['City'] = 'TP Hồ Chí Minh'\n",
        "frames = [data_hanoi, data_hcm]\n",
        "result_df = pd.concat(frames)\n",
        "\n",
        "fig, ax = plt.subplots(2,2,figsize=(10,10))\n",
        "sns.barplot(x=result_df['City'].unique(),y =result_df['City'].value_counts(), ax=ax[0][0]).set_title('Số lượng chung cư')\n",
        "sns.barplot(x=result_df['City'].unique(),y =result_df.groupby(['City']).mean()['Price(million/m_square)'], ax=ax[0][1]).set_title('Giá trung bình mỗi met vuông')\n",
        "sns.barplot(x=result_df['City'].unique(),y =result_df.groupby(['City']).mean()['Price'], ax=ax[1][0]).set_title('Giá trung bình mỗi căn hộ')\n",
        "sns.barplot(x=result_df['City'].unique(),y =result_df.groupby(['City']).mean()['Area'], ax=ax[1][1]).set_title('Diện tích trung bình mỗi căn hộ')\n",
        "plt.show()\n",
        "data_hcm[new_data['Area']> 300]"
      ],
      "execution_count": null,
      "outputs": [
        {
          "output_type": "display_data",
          "data": {
            "image/png": "[encoded data removed]",
            "text/plain": [
              "<Figure size 720x720 with 4 Axes>"
            ]
          },
          "metadata": {
            "tags": [],
            "needs_background": "light"
          }
        },
        {
          "output_type": "execute_result",
          "data": {
            "text/html": [
              "<div>\n",
              "<style scoped>\n",
              "    .dataframe tbody tr th:only-of-type {\n",
              "        vertical-align: middle;\n",
              "    }\n",
              "\n",
              "    .dataframe tbody tr th {\n",
              "        vertical-align: top;\n",
              "    }\n",
              "\n",
              "    .dataframe thead th {\n",
              "        text-align: right;\n",
              "    }\n",
              "</style>\n",
              "<table border=\"1\" class=\"dataframe\">\n",
              "  <thead>\n",
              "    <tr style=\"text-align: right;\">\n",
              "      <th></th>\n",
              "      <th>Price</th>\n",
              "      <th>Location</th>\n",
              "      <th>Area</th>\n",
              "      <th>Street</th>\n",
              "      <th>Facade</th>\n",
              "      <th>Direction</th>\n",
              "      <th>Saler</th>\n",
              "      <th>Type</th>\n",
              "      <th>Floor</th>\n",
              "      <th>Bathrooms</th>\n",
              "      <th>Bedrooms</th>\n",
              "      <th>Legal Doc</th>\n",
              "      <th>Price(million/m_square)</th>\n",
              "      <th>City</th>\n",
              "    </tr>\n",
              "  </thead>\n",
              "  <tbody>\n",
              "    <tr>\n",
              "      <th>3250</th>\n",
              "      <td>3.9</td>\n",
              "      <td>Quận 9, Thành phố Hồ Chí Minh</td>\n",
              "      <td>70783.0</td>\n",
              "      <td>NaN</td>\n",
              "      <td>NaN</td>\n",
              "      <td>NaN</td>\n",
              "      <td>Nhà môi giới</td>\n",
              "      <td>Chung cư</td>\n",
              "      <td>NaN</td>\n",
              "      <td>NaN</td>\n",
              "      <td>NaN</td>\n",
              "      <td>NaN</td>\n",
              "      <td>0.000055</td>\n",
              "      <td>TP Hồ Chí Minh</td>\n",
              "    </tr>\n",
              "  </tbody>\n",
              "</table>\n",
              "</div>"
            ],
            "text/plain": [
              "      Price  ...            City\n",
              "3250    3.9  ...  TP Hồ Chí Minh\n",
              "\n",
              "[1 rows x 14 columns]"
            ]
          },
          "metadata": {
            "tags": []
          },
          "execution_count": 48
        }
      ]
    },
    {
      "cell_type": "markdown",
      "metadata": {
        "id": "3nRe6zjjn7k2"
      },
      "source": [
        "- Số căn hộ ở Hà Nội cao hon rất nhiều so với TP Hồ Chí Minh. \n",
        "- Giá nhà trung bình ở TP Hồ Chí Minh cao hơn khá nhiều so với Hà Nội.\n",
        "- Giá trung bình mỗi căn nhà ở Hà Nội và TP Hồ Chí Minh xấp xỉ nhau.\n",
        "- Diện tích mỗi căn nhà ở Hà Nội lớn hơn TP Hồ Chí Minh.\n",
        "\n",
        "\n",
        "+ Kết luận: Thị trường căn hộ ở Hà Nội chưa phát triển bằng TP Hồ Chí Minh dù sở hữu nguồn cung dồi dào hơn. Loại hình căn hộ ở Hà Nội không được yêu thích bằng ở TP Hồ Chí Minh. Điều này khiến giá căn hộ ở Hà Nội thấp hơn. \n",
        "    "
      ]
    },
    {
      "cell_type": "markdown",
      "metadata": {
        "id": "LMCfft1Kn7k2"
      },
      "source": [
        "## So sánh bất động sản ở trung tâm Hà Nội và trung tâm TP Hồ Chí Minh"
      ]
    },
    {
      "cell_type": "markdown",
      "metadata": {
        "id": "cb6F5bo2n7k2"
      },
      "source": [
        "Các quận trung tâm ở Hà Nội: quận Hoàn Kiếm, quận Ba Đình, quận Đống Đa, quận Hai Bà Trưng\n",
        "Các quận trung tam ở TP Hồ Chí Minh: Quận 1, quận 3, quận 4, quận 5, quận Bình Thạnh, quận Tân Bình"
      ]
    },
    {
      "cell_type": "code",
      "metadata": {
        "colab": {
          "base_uri": "https://localhost:8080/",
          "height": 955
        },
        "id": "dCXX4gdQn7k2",
        "scrolled": false,
        "outputId": "32611a58-96ce-40e3-9151-b22e444026a1"
      },
      "source": [
        "data_hoankiem = new_data[new_data['Location'].str.contains(\"Hoàn Kiếm\")]\n",
        "data_badinh = new_data[new_data['Location'].str.contains(\"Ba Đình\")]\n",
        "data_dongda = new_data[new_data['Location'].str.contains(\"Đống Đa\")]\n",
        "data_haibatrung = new_data[new_data['Location'].str.contains(\"Hai Bà Trưng\")]\n",
        "\n",
        "data_quan1 = new_data[new_data['Location'].str.contains(\"Quận 1,\")]\n",
        "data_quan3 = new_data[new_data['Location'].str.contains(\"Quận 3,\")]\n",
        "data_quan4 = new_data[new_data['Location'].str.contains(\"Quận 4,\")]\n",
        "data_quan5 = new_data[new_data['Location'].str.contains(\"Quận 5,\")]\n",
        "data_binhthanh = new_data[new_data['Location'].str.contains(\"Bình Thạnh\")]\n",
        "data_tanbinh = new_data[new_data['Location'].str.contains(\"Tân Bình\")]\n",
        "\n",
        "data_hoankiem['City'] ='Hà Nội'\n",
        "data_badinh['City'] ='Hà Nội'\n",
        "data_dongda['City'] ='Hà Nội'\n",
        "data_haibatrung['City'] ='Hà Nội'\n",
        "\n",
        "data_quan1['City'] = 'TP Hồ Chí Minh'\n",
        "data_quan3['City'] = 'TP Hồ Chí Minh'\n",
        "data_quan4['City'] = 'TP Hồ Chí Minh'\n",
        "data_quan5['City'] = 'TP Hồ Chí Minh'\n",
        "data_binhthanh['City'] = 'TP Hồ Chí Minh'\n",
        "data_tanbinh['City'] = 'TP Hồ Chí Minh'\n",
        "\n",
        "frames = [data_hoankiem, data_badinh, data_dongda, data_haibatrung, data_quan1, data_quan3, data_quan4, data_quan5, data_binhthanh, data_tanbinh]\n",
        "result_df = pd.concat(frames)\n",
        "\n",
        "frames_hanoi = [data_hoankiem, data_badinh, data_dongda, data_haibatrung];\n",
        "df_hanoi = pd.concat(frames_hanoi)\n",
        "frames_hcm = [data_quan1, data_quan3, data_quan4, data_quan5, data_binhthanh, data_tanbinh]\n",
        "df_hcm = pd.concat(frames_hcm)\n",
        "\n",
        "fig, ax = plt.subplots(2,2,figsize=(24,16))\n",
        "sns.barplot(x=result_df['City'].unique(),y =result_df['City'].value_counts(), ax=ax[0][0]).set_title('Số lượng bất dộng sản')\n",
        "sns.barplot(x=result_df['City'].unique(),y =result_df.groupby(['City']).mean()['Price(million/m_square)'], ax=ax[0][1]).set_title('Giá trung bình mỗi met vuông')\n",
        "sns.barplot(x=result_df['City'].unique(),y =result_df.groupby(['City']).mean()['Price'], ax=ax[1][0]).set_title('Giá trung bình mỗi bất động sản')\n",
        "sns.barplot(x=result_df['City'].unique(),y =result_df.groupby(['City']).mean()['Area'], ax=ax[1][1]).set_title('Diện tích trung bình mỗi bất động sản')\n",
        "plt.show()\n"
      ],
      "execution_count": null,
      "outputs": [
        {
          "output_type": "display_data",
          "data": {
            "image/png": "[encoded data removed]",
            "text/plain": [
              "<Figure size 1728x1152 with 4 Axes>"
            ]
          },
          "metadata": {
            "tags": [],
            "needs_background": "light"
          }
        }
      ]
    },
    {
      "cell_type": "code",
      "metadata": {
        "colab": {
          "base_uri": "https://localhost:8080/",
          "height": 729
        },
        "id": "UJRKlzm7n7k2",
        "outputId": "bd9220a4-37af-4a35-adb8-a83385434a1b"
      },
      "source": [
        "fig, ax = plt.subplots(2,1,figsize=(10,10))\n",
        "sns.barplot(x=df_hanoi['Type'].dropna().value_counts().index.tolist(),y =df_hanoi['Type'].value_counts(), ax=ax[0]).set_title('Các loại bất động sản ở Hà Nội')\n",
        "ax[0].set_xticklabels(ax[0].get_xticklabels(),rotation=60)\n",
        "sns.barplot(x=df_hcm['Type'].dropna().value_counts().index.tolist(),y =df_hcm['Type'].value_counts(), ax=ax[1]).set_title('Các loại bất động sản ở TP Hồ Chí Minh')\n",
        "ax[1].set_xticklabels(ax[1].get_xticklabels(),rotation=60)\n",
        "plt.tight_layout()\n",
        "plt.show()"
      ],
      "execution_count": null,
      "outputs": [
        {
          "output_type": "display_data",
          "data": {
            "image/png": "[encoded data removed]",
            "text/plain": [
              "<Figure size 720x720 with 2 Axes>"
            ]
          },
          "metadata": {
            "tags": [],
            "needs_background": "light"
          }
        }
      ]
    },
    {
      "cell_type": "markdown",
      "metadata": {
        "id": "OXQck8Itn7k2"
      },
      "source": [
        "- Số bất động sản ở Hà Nội cao hơn rất nhiều so với TP Hồ Chí Minh. \n",
        "- Giá BĐS trung bình ở trung tâm Hà Nội cao hơn không đáng kể so với trung tâm TP Hồ Chí Minh.\n",
        "- Giá trung bình mỗi BĐS ở trung tâm Hà Nội cao hơn.\n",
        "- Diện tích mỗi căn nhà ở Hà Nội lớn hơn TP Hồ Chí Minh.\n",
        "\n",
        "\n",
        "+ Kết luận: Thị trường bất động sản ở trung tâm của 2 thành phố đều rất phát triển. Tuy nhiên, bất động sản ở trung tâm Hà Nội phát triển hơn còn trung tâm TP Hồ Chí Minh còn nhiều cơ hội phát triển hơn Hà Nội trong tương lai\n",
        "\n",
        "    "
      ]
    },
    {
      "cell_type": "markdown",
      "metadata": {
        "id": "IToTUr8sn7k3"
      },
      "source": [
        "## So sánh bất động sản ở vùng ven Hà Nội và vùng ven TP Hồ Chí Minh"
      ]
    },
    {
      "cell_type": "markdown",
      "metadata": {
        "id": "jI31uhqtn7k3"
      },
      "source": [
        "Các quận trung tâm ở Hà Nội: Nam Từ Liêm, Bắc Từ Liêm, Hà Đông, Hoàng Mai, Long Biên\n",
        "Các quận trung tam ở TP Hồ Chí Minh: Quận 2, quận 7, quận 9, quận 12, quận Bình Tân, quận Thủ Đức"
      ]
    },
    {
      "cell_type": "code",
      "metadata": {
        "colab": {
          "base_uri": "https://localhost:8080/",
          "height": 541
        },
        "id": "f035tXqSn7k3",
        "scrolled": false,
        "outputId": "39c49233-e0f3-498d-8640-64ec5a1c83aa"
      },
      "source": [
        "data_namtuliem = new_data[new_data['Location'].str.contains(\"Nam Từ Liêm\")]\n",
        "data_bactuliem = new_data[new_data['Location'].str.contains(\"Bắc Từ Liêm\")]\n",
        "data_hadong = new_data[new_data['Location'].str.contains(\"Hà Đông\")]\n",
        "data_hoangmai = new_data[new_data['Location'].str.contains(\"Hoàng Mai\")]\n",
        "data_longbien = new_data[new_data['Location'].str.contains(\"Long Biên\")]\n",
        "\n",
        "data_quan2 = new_data[new_data['Location'].str.contains(\"Quận 2,\")]\n",
        "data_quan7 = new_data[new_data['Location'].str.contains(\"Quận 7,\")]\n",
        "data_quan9 = new_data[new_data['Location'].str.contains(\"Quận 9,\")]\n",
        "data_quan12 = new_data[new_data['Location'].str.contains(\"Quận 12,\")]\n",
        "data_binhtan = new_data[new_data['Location'].str.contains(\"Bình Tân\")]\n",
        "data_thuduc = new_data[new_data['Location'].str.contains(\"Thủ Đức\")]\n",
        "\n",
        "data_namtuliem['City'] ='Hà Nội'\n",
        "data_bactuliem['City'] ='Hà Nội'\n",
        "data_hadong['City'] ='Hà Nội'\n",
        "data_hoangmai['City'] ='Hà Nội'\n",
        "data_longbien['City'] ='Hà Nội'\n",
        "\n",
        "data_quan2['City'] = 'TP Hồ Chí Minh'\n",
        "data_quan7['City'] = 'TP Hồ Chí Minh'\n",
        "data_quan9['City'] = 'TP Hồ Chí Minh'\n",
        "data_quan12['City'] = 'TP Hồ Chí Minh'\n",
        "data_binhtan['City'] = 'TP Hồ Chí Minh'\n",
        "data_thuduc['City'] = 'TP Hồ Chí Minh'\n",
        "\n",
        "frames = [data_namtuliem, data_bactuliem, data_hadong, data_hoangmai, data_longbien, data_quan2, data_quan7, data_quan9, data_quan12, data_binhtan, data_thuduc]\n",
        "result_df = pd.concat(frames)\n",
        "\n",
        "frames_hanoi = [data_namtuliem, data_bactuliem, data_hadong, data_hoangmai, data_longbien];\n",
        "df_hanoi = pd.concat(frames_hanoi)\n",
        "frames_hcm = [data_quan2, data_quan7, data_quan9, data_quan12, data_binhtan, data_thuduc];\n",
        "df_hcm = pd.concat(frames_hcm)\n",
        "\n",
        "fig, ax = plt.subplots(2,2,figsize=(24,16))\n",
        "sns.barplot(x=result_df['City'].dropna().unique(),y =result_df['City'].value_counts(), ax=ax[0][0]).set_title('Số lượng bất dộng sản')\n",
        "sns.barplot(x=result_df['City'].dropna().unique(),y =result_df.groupby(['City']).mean()['Price(million/m_square)'], ax=ax[0][1]).set_title('Giá trung bình mỗi met vuông')\n",
        "sns.barplot(x=result_df['City'].dropna().unique(),y =result_df.groupby(['City']).mean()['Price'], ax=ax[1][0]).set_title('Giá trung bình mỗi bất động sản')\n",
        "sns.barplot(x=result_df['City'].dropna().unique(),y =result_df.groupby(['City']).mean()['Area'], ax=ax[1][1]).set_title('Diện tích trung bình mỗi bất động sản')\n",
        "plt.show()"
      ],
      "execution_count": null,
      "outputs": [
        {
          "output_type": "display_data",
          "data": {
            "image/png": "[encoded data removed]",
            "text/plain": [
              "<Figure size 1728x1152 with 4 Axes>"
            ]
          },
          "metadata": {
            "tags": [],
            "needs_background": "light"
          }
        }
      ]
    },
    {
      "cell_type": "code",
      "metadata": {
        "colab": {
          "base_uri": "https://localhost:8080/",
          "height": 729
        },
        "id": "ePEXnyMAn7k3",
        "outputId": "c6352d6d-f709-4a93-ae17-621709256d5c"
      },
      "source": [
        "fig, ax = plt.subplots(2,1,figsize=(10,10))\n",
        "sns.barplot(x=df_hanoi['Type'].dropna().value_counts().index.tolist(),y =df_hanoi['Type'].value_counts(), ax=ax[0]).set_title('Các loại bất động sản ở Hà Nội')\n",
        "ax[0].set_xticklabels(ax[0].get_xticklabels(),rotation=60)\n",
        "sns.barplot(x=df_hcm['Type'].dropna().value_counts().index.tolist(),y =df_hcm['Type'].value_counts(), ax=ax[1]).set_title('Các loại bất động sản ở TP Hồ Chí Minh')\n",
        "ax[1].set_xticklabels(ax[1].get_xticklabels(),rotation=60)\n",
        "plt.tight_layout()\n",
        "plt.show()"
      ],
      "execution_count": null,
      "outputs": [
        {
          "output_type": "display_data",
          "data": {
            "image/png": "[encoded data removed]",
            "text/plain": [
              "<Figure size 720x720 with 2 Axes>"
            ]
          },
          "metadata": {
            "tags": [],
            "needs_background": "light"
          }
        }
      ]
    },
    {
      "cell_type": "markdown",
      "metadata": {
        "id": "TwAyaQh4n7k3"
      },
      "source": [
        "- Số bất động sản ở Hà Nội cao hơn nhiều so với TP Hồ Chí Minh. \n",
        "- Giá BĐS trung bình ở ngoại thành Hà Nội cao hơn đáng kể so với ngoại thành TP Hồ Chí Minh\n",
        "- Giá trung bình mỗi BĐS ở ngoại thành TP Hồ Chí Minh cao hơn.\n",
        "- Diện tích mỗi BĐS ở Hà Nội nhỏ hơn nhiều so với TP Hồ Chí Minh.\n",
        "\n",
        "\n",
        "+ Kết luận: Thị trường bất động sản ở ngoại thành Hà Nội phát triển hơn TP Hồ Chí Minh nhưng TP HCM có nhiều tiềm năng phát triẻn hơn\n"
      ]
    },
    {
      "cell_type": "markdown",
      "metadata": {
        "id": "-e8midIMn7k3"
      },
      "source": [
        "## Bonus - Phân tích triển vọng phát triển bất động sản ở TP HCM và Hà Nội"
      ]
    },
    {
      "cell_type": "markdown",
      "metadata": {
        "id": "eJXTqXVVn7k3"
      },
      "source": [
        "- Dựa vào các thông tin đã phân tích, ta có thể rút ra các kết luận:\n",
        "    + Hà Nội:\n",
        "    - Thị trường bất động sản đã phát triển tương đối hoàn chỉnh\n",
        "    - Giá khá cao\n",
        "    - Các loại hình bất động sản truyền thống (như nhà ở,...) được yêu thích\n",
        "    - Các bất động sản chưa được quy hoạch tốt để đem lại hiệu quả kinh tế cao nhất\n",
        "    + TP Hồ Chí Minh:\n",
        "    - Trị trường bất động sản đang phát triển nhanh và được quy hoạch tốt\n",
        "    - Chấp nhận các loại hình bất động sản mới phù hợp với tình trạng dân số ngày càng đông\n",
        "    - Các bất động sản có khả năng sinh lời cao vì thị trường còn có thể phát triển và được quy hoạch tốt\n",
        "    - Vùng ven còn nhiều quỹ đất và chưa được quy hoạch \n",
        "    - Nhu cầu mua BĐS để sử dụng cao hơn (loại hình căn hộ được ưa chuộng)\n",
        "- Ta có thể đưa ra các kết luận:\n",
        "    + Thị trường bất động sản ở TP Hồ Chí Minh sẽ phát triển mạnh hơn Hà Nội trong thời gian tới và có thể vượt qua Hà Nội vì quy hoạch hiệu quả cũng như nhu cầu thực tế cao hơn\n",
        "    + Thị trường bất động sản ở các khu trung tâm Hà Nội và TP Hồ Chí Minh tăng trưởng chậm nhưng bền vững. Hình thức bất động sản ở trung tâm trong thời gian tới sẽ là các bất động sản có quy mô lớn (như chung cư, trung tâm thương mại,...) vì hình thức bất động sản này sinh lời nhiều và đáp ứng tốt các nhu cầu sinh hoạt hiện đại.\n",
        "    + Thị trường bất động sản ở vùng ve TP Hồ Chí Minh sẽ phát triển rất mạnh trong thời gian tới vì khu vực trung tâm hết nguồn cung trong khi cầu vẫn còn và các công trình an sinh xã hội đang dần được hoàn thiện. Giá bất động sản ở khu vực vùng ven TP Hồ Chí Minh vì thế cũng sẽ có mức tăng mạnh trong nhiều năm tới.\n",
        "    + Giá nhà ở Hà Nội thời gian tới có thể sẽ không tăng mạnh bằng giá chung cư khi nhu cầu thực ở của người dân Hà Nội cao hơn vì chung cư đáp ứng nhu cầu thực ở tốt và hiện đang có mức giá khá tốt."
      ]
    },
    {
      "cell_type": "markdown",
      "metadata": {
        "id": "JVmMtc7zOMKZ"
      },
      "source": [
        "# Phân tích dữ liệu"
      ]
    },
    {
      "cell_type": "markdown",
      "metadata": {
        "id": "eyOyaJ87b-h8"
      },
      "source": [
        "*Từ phần này ta chỉ áp dụng với dữ liệu là nhà ở, chung cư, chung cư mini, nhà cấp 4*"
      ]
    },
    {
      "cell_type": "code",
      "metadata": {
        "colab": {
          "base_uri": "https://localhost:8080/",
          "height": 369
        },
        "id": "vxUOCebbX6a8",
        "outputId": "1b20a543-8aa2-4d9a-b881-b49165296ed8"
      },
      "source": [
        "types = ['Nhà ở', 'Chung cư', 'Chung cư mini', 'Nhà cấp 4']\n",
        "house = new_data.loc[(new_data['Type']).isin(types)]\n",
        "house.drop(['Price(million/m_square)', 'Saler'], axis=1, inplace=True)\n",
        "house.head(2)"
      ],
      "execution_count": null,
      "outputs": [
        {
          "output_type": "execute_result",
          "data": {
            "text/html": [
              "<div>\n",
              "<style scoped>\n",
              "    .dataframe tbody tr th:only-of-type {\n",
              "        vertical-align: middle;\n",
              "    }\n",
              "\n",
              "    .dataframe tbody tr th {\n",
              "        vertical-align: top;\n",
              "    }\n",
              "\n",
              "    .dataframe thead th {\n",
              "        text-align: right;\n",
              "    }\n",
              "</style>\n",
              "<table border=\"1\" class=\"dataframe\">\n",
              "  <thead>\n",
              "    <tr style=\"text-align: right;\">\n",
              "      <th></th>\n",
              "      <th>Price</th>\n",
              "      <th>Location</th>\n",
              "      <th>Area</th>\n",
              "      <th>Street</th>\n",
              "      <th>Facade</th>\n",
              "      <th>Direction</th>\n",
              "      <th>Type</th>\n",
              "      <th>Floor</th>\n",
              "      <th>Bathrooms</th>\n",
              "      <th>Bedrooms</th>\n",
              "      <th>Legal Doc</th>\n",
              "    </tr>\n",
              "  </thead>\n",
              "  <tbody>\n",
              "    <tr>\n",
              "      <th>0</th>\n",
              "      <td>4.75</td>\n",
              "      <td>Quận Sơn Trà, Thành phố Đà Nẵng</td>\n",
              "      <td>90.0</td>\n",
              "      <td>Mặt phố - Mặt đường</td>\n",
              "      <td>5.0</td>\n",
              "      <td>Đông Bắc</td>\n",
              "      <td>Nhà ở</td>\n",
              "      <td>NaN</td>\n",
              "      <td>NaN</td>\n",
              "      <td>2.0</td>\n",
              "      <td>NaN</td>\n",
              "    </tr>\n",
              "    <tr>\n",
              "      <th>3</th>\n",
              "      <td>0.77</td>\n",
              "      <td>Quận Thanh Xuân, Thành phố Hà Nội</td>\n",
              "      <td>55.0</td>\n",
              "      <td>Ngõ 1 ô tô</td>\n",
              "      <td>NaN</td>\n",
              "      <td>NaN</td>\n",
              "      <td>Chung cư mini</td>\n",
              "      <td>NaN</td>\n",
              "      <td>NaN</td>\n",
              "      <td>NaN</td>\n",
              "      <td>Giấy CN QSDĐ - Sổ đỏ - Sổ hồng, Hợp đồng mua bán</td>\n",
              "    </tr>\n",
              "  </tbody>\n",
              "</table>\n",
              "</div>"
            ],
            "text/plain": [
              "   Price  ...                                         Legal Doc\n",
              "0   4.75  ...                                               NaN\n",
              "3   0.77  ...  Giấy CN QSDĐ - Sổ đỏ - Sổ hồng, Hợp đồng mua bán\n",
              "\n",
              "[2 rows x 11 columns]"
            ]
          },
          "metadata": {
            "tags": []
          },
          "execution_count": 53
        }
      ]
    },
    {
      "cell_type": "markdown",
      "metadata": {
        "id": "EwuLekDuHH4n"
      },
      "source": [
        "## Thống kê mô tả"
      ]
    },
    {
      "cell_type": "markdown",
      "metadata": {
        "id": "fe-iC7oXLUjt"
      },
      "source": [
        "### Bảng mô tả tính chất thuộc tính numeric"
      ]
    },
    {
      "cell_type": "code",
      "metadata": {
        "colab": {
          "base_uri": "https://localhost:8080/",
          "height": 255
        },
        "id": "Cn0V5U16n7k4",
        "outputId": "0d01b025-21e0-4aa0-9639-bbfc89195630"
      },
      "source": [
        "numeric_cols_df = house.select_dtypes(exclude='object')\n",
        "\n",
        "def median(col):\n",
        "    return col.quantile(0.5)\n",
        "\n",
        "def lower_quantile(col):\n",
        "    return col.quantile(0.25)\n",
        "\n",
        "def upper_quantile(col):\n",
        "    return col.quantile(0.75)\n",
        "\n",
        "numeric_cols_df.agg([missing_ratio, min, median, lower_quantile, upper_quantile,max])"
      ],
      "execution_count": null,
      "outputs": [
        {
          "output_type": "execute_result",
          "data": {
            "text/html": [
              "<div>\n",
              "<style scoped>\n",
              "    .dataframe tbody tr th:only-of-type {\n",
              "        vertical-align: middle;\n",
              "    }\n",
              "\n",
              "    .dataframe tbody tr th {\n",
              "        vertical-align: top;\n",
              "    }\n",
              "\n",
              "    .dataframe thead th {\n",
              "        text-align: right;\n",
              "    }\n",
              "</style>\n",
              "<table border=\"1\" class=\"dataframe\">\n",
              "  <thead>\n",
              "    <tr style=\"text-align: right;\">\n",
              "      <th></th>\n",
              "      <th>Price</th>\n",
              "      <th>Area</th>\n",
              "      <th>Facade</th>\n",
              "      <th>Floor</th>\n",
              "      <th>Bathrooms</th>\n",
              "      <th>Bedrooms</th>\n",
              "    </tr>\n",
              "  </thead>\n",
              "  <tbody>\n",
              "    <tr>\n",
              "      <th>missing_ratio</th>\n",
              "      <td>0.000000e+00</td>\n",
              "      <td>0.425398</td>\n",
              "      <td>45.848432</td>\n",
              "      <td>93.682055</td>\n",
              "      <td>70.600284</td>\n",
              "      <td>33.622184</td>\n",
              "    </tr>\n",
              "    <tr>\n",
              "      <th>min</th>\n",
              "      <td>1.100000e-03</td>\n",
              "      <td>7.000000</td>\n",
              "      <td>1.000000</td>\n",
              "      <td>1.000000</td>\n",
              "      <td>1.000000</td>\n",
              "      <td>1.000000</td>\n",
              "    </tr>\n",
              "    <tr>\n",
              "      <th>median</th>\n",
              "      <td>4.150000e+00</td>\n",
              "      <td>54.000000</td>\n",
              "      <td>4.500000</td>\n",
              "      <td>4.000000</td>\n",
              "      <td>3.000000</td>\n",
              "      <td>3.000000</td>\n",
              "    </tr>\n",
              "    <tr>\n",
              "      <th>lower_quantile</th>\n",
              "      <td>2.700000e+00</td>\n",
              "      <td>40.000000</td>\n",
              "      <td>4.000000</td>\n",
              "      <td>3.000000</td>\n",
              "      <td>2.000000</td>\n",
              "      <td>2.000000</td>\n",
              "    </tr>\n",
              "    <tr>\n",
              "      <th>upper_quantile</th>\n",
              "      <td>6.600000e+00</td>\n",
              "      <td>76.625000</td>\n",
              "      <td>5.300000</td>\n",
              "      <td>5.000000</td>\n",
              "      <td>4.000000</td>\n",
              "      <td>4.000000</td>\n",
              "    </tr>\n",
              "    <tr>\n",
              "      <th>max</th>\n",
              "      <td>3.750000e+09</td>\n",
              "      <td>70783.000000</td>\n",
              "      <td>313.600000</td>\n",
              "      <td>50.000000</td>\n",
              "      <td>50.000000</td>\n",
              "      <td>111.000000</td>\n",
              "    </tr>\n",
              "  </tbody>\n",
              "</table>\n",
              "</div>"
            ],
            "text/plain": [
              "                       Price          Area  ...  Bathrooms    Bedrooms\n",
              "missing_ratio   0.000000e+00      0.425398  ...  70.600284   33.622184\n",
              "min             1.100000e-03      7.000000  ...   1.000000    1.000000\n",
              "median          4.150000e+00     54.000000  ...   3.000000    3.000000\n",
              "lower_quantile  2.700000e+00     40.000000  ...   2.000000    2.000000\n",
              "upper_quantile  6.600000e+00     76.625000  ...   4.000000    4.000000\n",
              "max             3.750000e+09  70783.000000  ...  50.000000  111.000000\n",
              "\n",
              "[6 rows x 6 columns]"
            ]
          },
          "metadata": {
            "tags": []
          },
          "execution_count": 54
        }
      ]
    },
    {
      "cell_type": "markdown",
      "metadata": {
        "id": "XqqVmps6HH4o"
      },
      "source": [
        "### Mô tả tính chất của thuộc tính kiểu category"
      ]
    },
    {
      "cell_type": "code",
      "metadata": {
        "id": "20B6i-sqHH4o",
        "colab": {
          "base_uri": "https://localhost:8080/",
          "height": 465
        },
        "outputId": "83ae48b2-8c48-4705-b10b-f433fe9c2caa"
      },
      "source": [
        "cat_col_df = house.select_dtypes(include='object')\n",
        "\n",
        "def missing_ratio(col):\n",
        "    return col.isna().mean()*100\n",
        "\n",
        "def top10_value_counts(col):\n",
        "    return dict(col.value_counts()[:10])\n",
        "\n",
        "category_stat = cat_col_df.agg([missing_ratio, pd.Series.nunique, top10_value_counts])\n",
        "pd.set_option('display.max_colwidth', 1000)\n",
        "category_stat"
      ],
      "execution_count": null,
      "outputs": [
        {
          "output_type": "execute_result",
          "data": {
            "text/html": [
              "<div>\n",
              "<style scoped>\n",
              "    .dataframe tbody tr th:only-of-type {\n",
              "        vertical-align: middle;\n",
              "    }\n",
              "\n",
              "    .dataframe tbody tr th {\n",
              "        vertical-align: top;\n",
              "    }\n",
              "\n",
              "    .dataframe thead th {\n",
              "        text-align: right;\n",
              "    }\n",
              "</style>\n",
              "<table border=\"1\" class=\"dataframe\">\n",
              "  <thead>\n",
              "    <tr style=\"text-align: right;\">\n",
              "      <th></th>\n",
              "      <th>Location</th>\n",
              "      <th>Street</th>\n",
              "      <th>Direction</th>\n",
              "      <th>Type</th>\n",
              "      <th>Legal Doc</th>\n",
              "    </tr>\n",
              "  </thead>\n",
              "  <tbody>\n",
              "    <tr>\n",
              "      <th>missing_ratio</th>\n",
              "      <td>0</td>\n",
              "      <td>10.0362</td>\n",
              "      <td>83.441</td>\n",
              "      <td>0</td>\n",
              "      <td>12.6989</td>\n",
              "    </tr>\n",
              "    <tr>\n",
              "      <th>nunique</th>\n",
              "      <td>163</td>\n",
              "      <td>8</td>\n",
              "      <td>30</td>\n",
              "      <td>4</td>\n",
              "      <td>12</td>\n",
              "    </tr>\n",
              "    <tr>\n",
              "      <th>top10_value_counts</th>\n",
              "      <td>{'Quận Hà Đông, Thành phố Hà Nội': 543, 'Quận Đống Đa, Thành phố Hà Nội': 526, 'Quận Thanh Xuân, Thành phố Hà Nội': 482, 'Quận Cầu Giấy, Thành phố Hà Nội': 399, 'Quận Hoàng Mai, Thành phố Hà Nội': 336, 'Quận Bắc Từ Liêm, Thành phố Hà Nội': 286, 'Quận Hai Bà Trưng, Thành phố Hà Nội': 282, 'Quận Gò Vấp, Thành phố Hồ Chí Minh': 245, 'Quận Nam Từ Liêm, Thành phố Hà Nội': 228, 'Quận Long Biên, Thành phố Hà Nội': 227}</td>\n",
              "      <td>{'Ngõ ngách': 1321, 'Mặt phố - Mặt đường': 1306, 'Ngõ ô tô đỗ cửa': 1234, 'Ngõ 2 ô tô tránh': 900, 'Ngõ 1 ô tô': 816, 'Ngõ 3 ô tô tránh': 113, 'Ngõ 4 ô tô trở lên': 14, 'Ngõ 4 ô tô tránh': 6}</td>\n",
              "      <td>{'Đông Nam': 229, 'Tây Bắc': 148, 'Đông Bắc': 139, 'Tây Nam': 124, 'Nam': 92, 'Đông Tứ Trạch': 67, 'Bắc': 62, 'Đông': 59, 'Tây Tứ Trạch': 52, 'Tây': 37}</td>\n",
              "      <td>{'Nhà ở': 5264, 'Chung cư': 857, 'Chung cư mini': 155, 'Nhà cấp 4': 71}</td>\n",
              "      <td>{'Giấy CN QSDĐ - Sổ đỏ - Sổ hồng': 5171, 'Giấy CN QSDĐ - Sổ đỏ - Sổ hồng, Hợp đồng mua bán': 231, 'Hợp đồng mua bán': 121, 'Giấy CN QSDĐ - Sổ đỏ - Sổ hồng, Hợp đồng mua bán, Giấy tờ chứng minh nguồn gốc': 4, 'Đã có giấy hẹn lấy số': 3, 'Giấy CN QSDĐ - Sổ đỏ - Sổ hồng, Hợp đồng mua bán, Hợp đồng góp vốn': 3, 'Đang làm giấy CN QSDĐ': 2, 'Giấy CN QSDĐ - Sổ đỏ - Sổ hồng, Giấy tờ chứng minh nguồn gốc': 2, 'Đất giao - Đất phân, Giấy tờ chứng minh nguồn gốc': 1, 'Hợp đồng mua bán, Hợp đồng góp vốn': 1}</td>\n",
              "    </tr>\n",
              "  </tbody>\n",
              "</table>\n",
              "</div>"
            ],
            "text/plain": [
              "                                                                                                                                                                                                                                                                                                                                                                                                                                           Location  ...                                                                                                                                                                                                                                                                                                                                                                                                                                                                                                             Legal Doc\n",
              "missing_ratio                                                                                                                                                                                                                                                                                                                                                                                                                                     0  ...                                                                                                                                                                                                                                                                                                                                                                                                                                                                                                               12.6989\n",
              "nunique                                                                                                                                                                                                                                                                                                                                                                                                                                         163  ...                                                                                                                                                                                                                                                                                                                                                                                                                                                                                                                    12\n",
              "top10_value_counts  {'Quận Hà Đông, Thành phố Hà Nội': 543, 'Quận Đống Đa, Thành phố Hà Nội': 526, 'Quận Thanh Xuân, Thành phố Hà Nội': 482, 'Quận Cầu Giấy, Thành phố Hà Nội': 399, 'Quận Hoàng Mai, Thành phố Hà Nội': 336, 'Quận Bắc Từ Liêm, Thành phố Hà Nội': 286, 'Quận Hai Bà Trưng, Thành phố Hà Nội': 282, 'Quận Gò Vấp, Thành phố Hồ Chí Minh': 245, 'Quận Nam Từ Liêm, Thành phố Hà Nội': 228, 'Quận Long Biên, Thành phố Hà Nội': 227}  ...  {'Giấy CN QSDĐ - Sổ đỏ - Sổ hồng': 5171, 'Giấy CN QSDĐ - Sổ đỏ - Sổ hồng, Hợp đồng mua bán': 231, 'Hợp đồng mua bán': 121, 'Giấy CN QSDĐ - Sổ đỏ - Sổ hồng, Hợp đồng mua bán, Giấy tờ chứng minh nguồn gốc': 4, 'Đã có giấy hẹn lấy số': 3, 'Giấy CN QSDĐ - Sổ đỏ - Sổ hồng, Hợp đồng mua bán, Hợp đồng góp vốn': 3, 'Đang làm giấy CN QSDĐ': 2, 'Giấy CN QSDĐ - Sổ đỏ - Sổ hồng, Giấy tờ chứng minh nguồn gốc': 2, 'Đất giao - Đất phân, Giấy tờ chứng minh nguồn gốc': 1, 'Hợp đồng mua bán, Hợp đồng góp vốn': 1}\n",
              "\n",
              "[3 rows x 5 columns]"
            ]
          },
          "metadata": {
            "tags": []
          },
          "execution_count": 55
        }
      ]
    },
    {
      "cell_type": "markdown",
      "metadata": {
        "id": "wU9CHNyYLZjf"
      },
      "source": [
        "- Ta thấy rằng tỉ lệ giá trị thiếu ở các thuộc tính Floor, Bathrooms và Direction là khá lớn nên ta sẽ bỏ các thuộc tính này"
      ]
    },
    {
      "cell_type": "code",
      "metadata": {
        "id": "xeD77k4Xn7k4"
      },
      "source": [
        "house.drop(['Floor', 'Bathrooms', 'Direction'], axis=1, inplace=True)"
      ],
      "execution_count": null,
      "outputs": []
    },
    {
      "cell_type": "markdown",
      "metadata": {
        "id": "_QWZYRGPLtTI"
      },
      "source": [
        "## Trực quan để kiểm tra phân phối của thuộc tính"
      ]
    },
    {
      "cell_type": "code",
      "metadata": {
        "colab": {
          "base_uri": "https://localhost:8080/",
          "height": 714
        },
        "id": "_ITgOMy7z-rA",
        "outputId": "7418cd66-1fa5-41cd-c9cc-01dcefd1248c"
      },
      "source": [
        "fig, ax = plt.subplots(2,2,figsize=(12,12))\n",
        "sns.boxplot(x='Price', data=house, ax=ax[0][0])\n",
        "sns.boxplot(x='Area', data=house, ax=ax[0][1])\n",
        "sns.boxplot(x='Facade', data=house, ax=ax[1][0])\n",
        "sns.boxplot(x='Bedrooms', data=house, ax=ax[1][1])\n",
        "plt.show()"
      ],
      "execution_count": null,
      "outputs": [
        {
          "output_type": "display_data",
          "data": {
            "image/png": "[encoded data removed]",
            "text/plain": [
              "<Figure size 864x864 with 4 Axes>"
            ]
          },
          "metadata": {
            "tags": [],
            "needs_background": "light"
          }
        }
      ]
    },
    {
      "cell_type": "markdown",
      "metadata": {
        "id": "JHRwXbU5HH4o"
      },
      "source": [
        "- Các giá trị ngoại lai làm tập dữ liệu bị lệch phải và điều này sẽ làm ảnh hưởng đến độ chính xác của mô hình"
      ]
    },
    {
      "cell_type": "code",
      "metadata": {
        "colab": {
          "base_uri": "https://localhost:8080/",
          "height": 481
        },
        "id": "BCamQpmQ0ArP",
        "outputId": "77470207-2e22-4d34-c50e-ef8adaf5d782"
      },
      "source": [
        "fig, ax = plt.subplots(1,2,figsize=(15,6))\n",
        "house['Street'].hist(bins=50, ax=ax[0])\n",
        "ax[0].tick_params(axis='x', labelrotation = 45)\n",
        "ax[0].set_title('Street')\n",
        "house['Location'].hist(bins=50, ax=ax[1])\n",
        "ax[1].set_title('Location')\n",
        "ax = plt.gca()\n",
        "ax.axes.xaxis.set_ticklabels([])\n",
        "plt.show()"
      ],
      "execution_count": null,
      "outputs": [
        {
          "output_type": "display_data",
          "data": {
            "image/png": "[encoded data removed]",
            "text/plain": [
              "<Figure size 1080x432 with 2 Axes>"
            ]
          },
          "metadata": {
            "tags": [],
            "needs_background": "light"
          }
        }
      ]
    },
    {
      "cell_type": "code",
      "metadata": {
        "colab": {
          "base_uri": "https://localhost:8080/",
          "height": 410
        },
        "id": "iZuETPYm0CYZ",
        "outputId": "310dd019-3e77-4bb8-8e60-1733e340906d"
      },
      "source": [
        "plt.subplots(figsize=(8,6))\n",
        "# house['Legal Doc'].hist(bins=50)#.set_xticklabels([])\n",
        "house['Legal Doc'].value_counts().plot.barh()\n",
        "plt.title('Legal Doc')\n",
        "plt.show()"
      ],
      "execution_count": null,
      "outputs": [
        {
          "output_type": "display_data",
          "data": {
            "image/png": "[encoded data removed]",
            "text/plain": [
              "<Figure size 576x432 with 1 Axes>"
            ]
          },
          "metadata": {
            "tags": [],
            "needs_background": "light"
          }
        }
      ]
    },
    {
      "cell_type": "markdown",
      "metadata": {
        "id": "2-CMcYWUHH4p"
      },
      "source": [
        "- Trong các thuộc tính Street và Legal Doc, một số giá trị có tần suất xuất hiện khá thấp"
      ]
    },
    {
      "cell_type": "markdown",
      "metadata": {
        "id": "XhY885gGNLo7"
      },
      "source": [
        "## Xây dựng pipeline xử lý dữ liệu"
      ]
    },
    {
      "cell_type": "markdown",
      "metadata": {
        "id": "mjlOnQdhL9Ei"
      },
      "source": [
        "#### Giải thích hàm clipper"
      ]
    },
    {
      "cell_type": "markdown",
      "metadata": {
        "id": "IwbE4vu2HH4p"
      },
      "source": [
        "- Các giá trị ngoại lai ảnh hướng rất lớn đến chất lượng mô hình Machine Learning\n",
        "- Dùng phương pháp chặn trên chặn dưới để xử lý các giá trị ngoại lai\n",
        "- Ta sẽ lấy chặn trên là giá trị maximum của boxplot, chặn dưới là giá trị minimum của boxplot\n",
        "- Sau đó ta sẽ tiến hành clip các giá trị vào [minimum, maximum] (giá trị nhỏ hơn minimum sẽ gán bằng minimum, giá trị lớn hơn maximum sẽ gán bằng maximum)"
      ]
    },
    {
      "cell_type": "code",
      "metadata": {
        "id": "TqG7V3TP0FME"
      },
      "source": [
        "def find_boxplot_boundaries(col: pd.Series, whisker_coeff:float = 1.5) -> Tuple[float, float]:\n",
        "    \"\"\"Findx minimum and maximum in boxplot.\n",
        "\n",
        "    Args:\n",
        "        col: a pandas serires of input.\n",
        "        whisker_coeff: whisker coefficient in box plot\n",
        "    \"\"\"\n",
        "    Q1 = col.quantile(0.25)\n",
        "    Q3 = col.quantile(0.75)\n",
        "    IQR = Q3 - Q1\n",
        "    lower = Q1 - whisker_coeff * IQR\n",
        "    upper = Q3 + whisker_coeff * IQR\n",
        "    return lower, upper\n",
        "\n",
        "\n",
        "class BoxplotOutlierClipper(BaseEstimator, TransformerMixin):\n",
        "# class BoxplotOutlierClipper():\n",
        "    def __init__(self, whisker_coeff:float = 1.5):\n",
        "        self.whisker = whisker_coeff\n",
        "        self.lower = None\n",
        "        self.upper = None\n",
        "\n",
        "    def fit(self, X):\n",
        "        self.lower, self.upper = find_boxplot_boundaries(X, self.whisker)\n",
        "        return self\n",
        "\n",
        "    def transform(self, X):\n",
        "        return X.clip(self.lower, self.upper)\n",
        "  \n",
        "\n",
        "class BoxplotOutlierClipperForDF(BaseEstimator, TransformerMixin):\n",
        "    def __init__(self):\n",
        "        self.boxplot_outliner_clipper = BoxplotOutlierClipper()\n",
        "    def fit(self, X, y=None, **fit_params):\n",
        "        self.keys = list(X._get_numeric_data().columns)\n",
        "        return self\n",
        "    def transform(self, X, y=None, **fit_params):\n",
        "        new_X = X.copy()\n",
        "        \n",
        "        for key in self.keys:\n",
        "            new_X[key] = self.boxplot_outliner_clipper.fit_transform(new_X[key])\n",
        "        \n",
        "        return new_X\n",
        "    "
      ],
      "execution_count": null,
      "outputs": []
    },
    {
      "cell_type": "code",
      "metadata": {
        "colab": {
          "base_uri": "https://localhost:8080/",
          "height": 293
        },
        "id": "Rt-zIWjF0GIt",
        "outputId": "bd537daa-76ee-4c5e-a38b-8c2cf5799359"
      },
      "source": [
        "clipped_price = BoxplotOutlierClipper().fit_transform(house[\"Price\"])\n",
        "\n",
        "fig, axes = plt.subplots(1,2, figsize=(15, 5))\n",
        "clipped_price.hist(bins=50, ax=axes[0])\n",
        "clipped_price.to_frame().boxplot(ax=axes[1], vert=False);"
      ],
      "execution_count": null,
      "outputs": [
        {
          "output_type": "display_data",
          "data": {
            "image/png": "[encoded data removed]",
            "text/plain": [
              "<Figure size 1080x360 with 2 Axes>"
            ]
          },
          "metadata": {
            "tags": [],
            "needs_background": "light"
          }
        }
      ]
    },
    {
      "cell_type": "code",
      "metadata": {
        "colab": {
          "base_uri": "https://localhost:8080/",
          "height": 291
        },
        "id": "xu7HrOlZ0I7g",
        "outputId": "d032948d-233d-4a97-8406-4d340e60c73d"
      },
      "source": [
        "clipped_bedrooms = BoxplotOutlierClipper().fit_transform(house[\"Bedrooms\"])\n",
        "\n",
        "fig, axes = plt.subplots(1,2, figsize=(15, 5))\n",
        "clipped_bedrooms.hist(bins=50, ax=axes[0])\n",
        "clipped_bedrooms.to_frame().boxplot(ax=axes[1], vert=False);"
      ],
      "execution_count": null,
      "outputs": [
        {
          "output_type": "display_data",
          "data": {
            "image/png": "[encoded data removed]",
            "text/plain": [
              "<Figure size 1080x360 with 2 Axes>"
            ]
          },
          "metadata": {
            "tags": [],
            "needs_background": "light"
          }
        }
      ]
    },
    {
      "cell_type": "code",
      "metadata": {
        "colab": {
          "base_uri": "https://localhost:8080/",
          "height": 293
        },
        "id": "_N-i_LgN0KTC",
        "outputId": "626299e4-d2af-44f5-cb19-a9ff873f63f2"
      },
      "source": [
        "clipped_facade = BoxplotOutlierClipper().fit_transform(house[\"Facade\"])\n",
        "\n",
        "fig, axes = plt.subplots(1, 2, figsize=(15, 5))\n",
        "clipped_facade.hist(bins=50, ax=axes[0])\n",
        "clipped_facade.to_frame().boxplot(ax=axes[1], vert=False);"
      ],
      "execution_count": null,
      "outputs": [
        {
          "output_type": "display_data",
          "data": {
            "image/png": "[encoded data removed]",
            "text/plain": [
              "<Figure size 1080x360 with 2 Axes>"
            ]
          },
          "metadata": {
            "tags": [],
            "needs_background": "light"
          }
        }
      ]
    },
    {
      "cell_type": "code",
      "metadata": {
        "colab": {
          "base_uri": "https://localhost:8080/",
          "height": 293
        },
        "id": "RcDSdThP0MUB",
        "outputId": "41122842-dcec-48e8-a9db-d8bfcbee2efe"
      },
      "source": [
        "clipped_area = BoxplotOutlierClipper().fit_transform(house[\"Area\"])\n",
        "\n",
        "fig, axes = plt.subplots(1,2, figsize=(15, 5))\n",
        "clipped_area.hist(bins=50, ax=axes[0])\n",
        "clipped_area.to_frame().boxplot(ax=axes[1], vert=False);"
      ],
      "execution_count": null,
      "outputs": [
        {
          "output_type": "display_data",
          "data": {
            "image/png": "[encoded data removed]",
            "text/plain": [
              "<Figure size 1080x360 with 2 Axes>"
            ]
          },
          "metadata": {
            "tags": [],
            "needs_background": "light"
          }
        }
      ]
    },
    {
      "cell_type": "markdown",
      "metadata": {
        "id": "rHM9k-u_HH4p"
      },
      "source": [
        "- Sau khi clip dữ liệu theo cực tiểu và cực đại của box plot, ta thấy rằng dữ liệu đỡ bị lệch đi. Box plot cũng cho thấy không còn điểm dữ liệu ngoại lệ nào"
      ]
    },
    {
      "cell_type": "markdown",
      "metadata": {
        "id": "t0j248QFMfry"
      },
      "source": [
        "#### Gán lại giá trị đã clip"
      ]
    },
    {
      "cell_type": "code",
      "metadata": {
        "id": "KiNEQFHI0Na1"
      },
      "source": [
        "# house['Price'] = clipped_price\n",
        "# house['Area'] = clipped_area\n",
        "# house['Facade'] = clipped_facade\n",
        "# house['Bedrooms'] = clipped_bedrooms"
      ],
      "execution_count": null,
      "outputs": []
    },
    {
      "cell_type": "code",
      "metadata": {
        "id": "5ERCokag0PPA"
      },
      "source": [
        "# house.describe()"
      ],
      "execution_count": null,
      "outputs": []
    },
    {
      "cell_type": "code",
      "metadata": {
        "id": "DD7XFm6MFOxb"
      },
      "source": [
        "class MyLEncoder():\n",
        "    def __init__(self, key=[]):\n",
        "        self.key = []\n",
        "        self.size= (0,0)\n",
        "    def transform(self, X, y=None, **fit_params):\n",
        "        new_X = X.copy().reshape(-1)\n",
        "        enc = LabelEncoder()\n",
        "        self.fit(X, y, **fit_params)\n",
        "        enc = enc.fit(new_X)\n",
        "        self.classes=enc.classes_\n",
        "        \n",
        "        return enc.transform(new_X).reshape(self.size)\n",
        "\n",
        "    def fit_transform(self, X, y=None, **fit_params):\n",
        "        self.fit(X, y, **fit_params)\n",
        "        return self.transform(X)\n",
        "\n",
        "    def fit(self, X, y=None, **fit_params):\n",
        "        # self.key = list(X.columns)\n",
        "        self.size=X.shape        \n",
        "        return self\n"
      ],
      "execution_count": null,
      "outputs": []
    },
    {
      "cell_type": "code",
      "metadata": {
        "id": "1SYAPVWe1XYv"
      },
      "source": [
        "# get top values with give count\n",
        "\n",
        "class GetTop():\n",
        "    def __init__(self, num_top = 10):\n",
        "        self.num = num_top\n",
        "    def fit(self, X, y=None, **fit_params):\n",
        "        # self.values = X.apply(lambda x:x.value_counts().key())\n",
        "        self.keys = list(X.select_dtypes(include='object').columns)\n",
        "        # self.keys = list(X.columns)\n",
        "        self.keys.remove('Location')\n",
        "        self.top_dict = dict.fromkeys(list(self.keys), None)\n",
        "\n",
        "        for each in self.keys:\n",
        "            count = min(self.num, X[each].nunique())\n",
        "            self.top_dict[each] = list(X[each].value_counts().keys())[:count]\n",
        "\n",
        "        return self\n",
        "\n",
        "    def transform(self, X, y=None, **fit_params):\n",
        "        # self.fit(X, y, **fit_params)\n",
        "        new_X = X.copy()\n",
        "        \n",
        "        for col in self.keys:\n",
        "            new_X.loc[(~new_X[col].isin(self.top_dict[col])) & (new_X[col]!=np.nan), col] ='other'\n",
        "\n",
        "        return pd.DataFrame(new_X)\n",
        "\n",
        "    def fit_transform(self, X, y=None,**fit_params):\n",
        "        self.fit(X, y, **fit_params)\n",
        "        return self.transform(X, y, **fit_params)"
      ],
      "execution_count": null,
      "outputs": []
    },
    {
      "cell_type": "code",
      "metadata": {
        "id": "QQ2Ic2qWn7k5"
      },
      "source": [
        "num_col = ['Area', 'Facade', 'Bedrooms','Price']\n",
        "cate_col = ['Location', 'Street', 'Type', 'Legal Doc']"
      ],
      "execution_count": null,
      "outputs": []
    },
    {
      "cell_type": "code",
      "metadata": {
        "id": "1v1VSnvkHYx0"
      },
      "source": [
        "num_pipeline = Pipeline(steps=[('clipper', BoxplotOutlierClipperForDF()), ('imputer', SimpleImputer(missing_values=np.nan, strategy='mean'))])\n",
        "cate_pipeline=Pipeline(steps=[('imputer', SimpleImputer(missing_values=np.nan, strategy='most_frequent')), ('encoder', MyLEncoder())])\n",
        "rem_num_col = list(set(num_col) - set(['Floor', 'Bathrooms', 'Bedrooms']))"
      ],
      "execution_count": null,
      "outputs": []
    },
    {
      "cell_type": "code",
      "metadata": {
        "id": "QZF5_RXgn7k5"
      },
      "source": [
        "transfer = ColumnTransformer([('num', num_pipeline, num_col),\n",
        "                              ('cate', cate_pipeline, cate_col)], remainder='drop')"
      ],
      "execution_count": null,
      "outputs": []
    },
    {
      "cell_type": "code",
      "metadata": {
        "colab": {
          "base_uri": "https://localhost:8080/",
          "height": 218
        },
        "id": "IxcWWJ76LSmr",
        "outputId": "9d17f4b7-407c-4c61-e38a-88946c74c64c"
      },
      "source": [
        "p = Pipeline(steps=[('transfer', transfer), ('scaler', StandardScaler())])\n",
        "p"
      ],
      "execution_count": null,
      "outputs": [
        {
          "output_type": "execute_result",
          "data": {
            "text/html": [
              "<style>#sk-bb1a10a4-0c1b-4366-8c13-0e33b0680382 {color: black;background-color: white;}#sk-bb1a10a4-0c1b-4366-8c13-0e33b0680382 pre{padding: 0;}#sk-bb1a10a4-0c1b-4366-8c13-0e33b0680382 div.sk-toggleable {background-color: white;}#sk-bb1a10a4-0c1b-4366-8c13-0e33b0680382 label.sk-toggleable__label {cursor: pointer;display: block;width: 100%;margin-bottom: 0;padding: 0.2em 0.3em;box-sizing: border-box;text-align: center;}#sk-bb1a10a4-0c1b-4366-8c13-0e33b0680382 div.sk-toggleable__content {max-height: 0;max-width: 0;overflow: hidden;text-align: left;background-color: #f0f8ff;}#sk-bb1a10a4-0c1b-4366-8c13-0e33b0680382 div.sk-toggleable__content pre {margin: 0.2em;color: black;border-radius: 0.25em;background-color: #f0f8ff;}#sk-bb1a10a4-0c1b-4366-8c13-0e33b0680382 input.sk-toggleable__control:checked~div.sk-toggleable__content {max-height: 200px;max-width: 100%;overflow: auto;}#sk-bb1a10a4-0c1b-4366-8c13-0e33b0680382 div.sk-estimator input.sk-toggleable__control:checked~label.sk-toggleable__label {background-color: #d4ebff;}#sk-bb1a10a4-0c1b-4366-8c13-0e33b0680382 div.sk-label input.sk-toggleable__control:checked~label.sk-toggleable__label {background-color: #d4ebff;}#sk-bb1a10a4-0c1b-4366-8c13-0e33b0680382 input.sk-hidden--visually {border: 0;clip: rect(1px 1px 1px 1px);clip: rect(1px, 1px, 1px, 1px);height: 1px;margin: -1px;overflow: hidden;padding: 0;position: absolute;width: 1px;}#sk-bb1a10a4-0c1b-4366-8c13-0e33b0680382 div.sk-estimator {font-family: monospace;background-color: #f0f8ff;margin: 0.25em 0.25em;border: 1px dotted black;border-radius: 0.25em;box-sizing: border-box;}#sk-bb1a10a4-0c1b-4366-8c13-0e33b0680382 div.sk-estimator:hover {background-color: #d4ebff;}#sk-bb1a10a4-0c1b-4366-8c13-0e33b0680382 div.sk-parallel-item::after {content: \"\";width: 100%;border-bottom: 1px solid gray;flex-grow: 1;}#sk-bb1a10a4-0c1b-4366-8c13-0e33b0680382 div.sk-label:hover label.sk-toggleable__label {background-color: #d4ebff;}#sk-bb1a10a4-0c1b-4366-8c13-0e33b0680382 div.sk-serial::before {content: \"\";position: absolute;border-left: 1px solid gray;box-sizing: border-box;top: 2em;bottom: 0;left: 50%;}#sk-bb1a10a4-0c1b-4366-8c13-0e33b0680382 div.sk-serial {display: flex;flex-direction: column;align-items: center;background-color: white;}#sk-bb1a10a4-0c1b-4366-8c13-0e33b0680382 div.sk-item {z-index: 1;}#sk-bb1a10a4-0c1b-4366-8c13-0e33b0680382 div.sk-parallel {display: flex;align-items: stretch;justify-content: center;background-color: white;}#sk-bb1a10a4-0c1b-4366-8c13-0e33b0680382 div.sk-parallel-item {display: flex;flex-direction: column;position: relative;background-color: white;}#sk-bb1a10a4-0c1b-4366-8c13-0e33b0680382 div.sk-parallel-item:first-child::after {align-self: flex-end;width: 50%;}#sk-bb1a10a4-0c1b-4366-8c13-0e33b0680382 div.sk-parallel-item:last-child::after {align-self: flex-start;width: 50%;}#sk-bb1a10a4-0c1b-4366-8c13-0e33b0680382 div.sk-parallel-item:only-child::after {width: 0;}#sk-bb1a10a4-0c1b-4366-8c13-0e33b0680382 div.sk-dashed-wrapped {border: 1px dashed gray;margin: 0.2em;box-sizing: border-box;padding-bottom: 0.1em;background-color: white;position: relative;}#sk-bb1a10a4-0c1b-4366-8c13-0e33b0680382 div.sk-label label {font-family: monospace;font-weight: bold;background-color: white;display: inline-block;line-height: 1.2em;}#sk-bb1a10a4-0c1b-4366-8c13-0e33b0680382 div.sk-label-container {position: relative;z-index: 2;text-align: center;}#sk-bb1a10a4-0c1b-4366-8c13-0e33b0680382 div.sk-container {display: inline-block;position: relative;}</style><div id=\"sk-bb1a10a4-0c1b-4366-8c13-0e33b0680382\" class\"sk-top-container\"><div class=\"sk-container\"><div class=\"sk-item sk-dashed-wrapped\"><div class=\"sk-label-container\"><div class=\"sk-label sk-toggleable\"><input class=\"sk-toggleable__control sk-hidden--visually\" id=\"52f79fb6-5af2-48df-99c7-021d8c75ee45\" type=\"checkbox\" ><label class=\"sk-toggleable__label\" for=\"52f79fb6-5af2-48df-99c7-021d8c75ee45\">Pipeline</label><div class=\"sk-toggleable__content\"><pre>Pipeline(steps=[('transfer',\n",
              "                 ColumnTransformer(transformers=[('num',\n",
              "                                                  Pipeline(steps=[('clipper',\n",
              "                                                                   BoxplotOutlierClipperForDF()),\n",
              "                                                                  ('imputer',\n",
              "                                                                   SimpleImputer())]),\n",
              "                                                  ['Area', 'Facade', 'Bedrooms',\n",
              "                                                   'Price']),\n",
              "                                                 ('cate',\n",
              "                                                  Pipeline(steps=[('imputer',\n",
              "                                                                   SimpleImputer(strategy='most_frequent')),\n",
              "                                                                  ('encoder',\n",
              "                                                                   <__main__.MyLEncoder object at 0x7f7b580a5350>)]),\n",
              "                                                  ['Location', 'Street', 'Type',\n",
              "                                                   'Legal Doc'])])),\n",
              "                ('scaler', StandardScaler())])</pre></div></div></div><div class=\"sk-serial\"><div class=\"sk-item sk-dashed-wrapped\"><div class=\"sk-label-container\"><div class=\"sk-label sk-toggleable\"><input class=\"sk-toggleable__control sk-hidden--visually\" id=\"27914c6d-bcd0-4960-ade2-02b15f81deab\" type=\"checkbox\" ><label class=\"sk-toggleable__label\" for=\"27914c6d-bcd0-4960-ade2-02b15f81deab\">transfer: ColumnTransformer</label><div class=\"sk-toggleable__content\"><pre>ColumnTransformer(transformers=[('num',\n",
              "                                 Pipeline(steps=[('clipper',\n",
              "                                                  BoxplotOutlierClipperForDF()),\n",
              "                                                 ('imputer', SimpleImputer())]),\n",
              "                                 ['Area', 'Facade', 'Bedrooms', 'Price']),\n",
              "                                ('cate',\n",
              "                                 Pipeline(steps=[('imputer',\n",
              "                                                  SimpleImputer(strategy='most_frequent')),\n",
              "                                                 ('encoder',\n",
              "                                                  <__main__.MyLEncoder object at 0x7f7b580a5350>)]),\n",
              "                                 ['Location', 'Street', 'Type', 'Legal Doc'])])</pre></div></div></div><div class=\"sk-parallel\"><div class=\"sk-parallel-item\"><div class=\"sk-item\"><div class=\"sk-label-container\"><div class=\"sk-label sk-toggleable\"><input class=\"sk-toggleable__control sk-hidden--visually\" id=\"9417a589-355d-439f-8b5d-991619a8ab8a\" type=\"checkbox\" ><label class=\"sk-toggleable__label\" for=\"9417a589-355d-439f-8b5d-991619a8ab8a\">num</label><div class=\"sk-toggleable__content\"><pre>['Area', 'Facade', 'Bedrooms', 'Price']</pre></div></div></div><div class=\"sk-serial\"><div class=\"sk-item\"><div class=\"sk-serial\"><div class=\"sk-item\"><div class=\"sk-estimator sk-toggleable\"><input class=\"sk-toggleable__control sk-hidden--visually\" id=\"52f7b74b-e6c1-4c79-b46e-ef392f7e3d05\" type=\"checkbox\" ><label class=\"sk-toggleable__label\" for=\"52f7b74b-e6c1-4c79-b46e-ef392f7e3d05\">BoxplotOutlierClipperForDF</label><div class=\"sk-toggleable__content\"><pre>BoxplotOutlierClipperForDF()</pre></div></div></div><div class=\"sk-item\"><div class=\"sk-estimator sk-toggleable\"><input class=\"sk-toggleable__control sk-hidden--visually\" id=\"325c98bd-7a24-448d-b5e5-31006e0181ca\" type=\"checkbox\" ><label class=\"sk-toggleable__label\" for=\"325c98bd-7a24-448d-b5e5-31006e0181ca\">SimpleImputer</label><div class=\"sk-toggleable__content\"><pre>SimpleImputer()</pre></div></div></div></div></div></div></div></div><div class=\"sk-parallel-item\"><div class=\"sk-item\"><div class=\"sk-label-container\"><div class=\"sk-label sk-toggleable\"><input class=\"sk-toggleable__control sk-hidden--visually\" id=\"18405c03-ef70-46ea-8ee8-7487c5e0a4c7\" type=\"checkbox\" ><label class=\"sk-toggleable__label\" for=\"18405c03-ef70-46ea-8ee8-7487c5e0a4c7\">cate</label><div class=\"sk-toggleable__content\"><pre>['Location', 'Street', 'Type', 'Legal Doc']</pre></div></div></div><div class=\"sk-serial\"><div class=\"sk-item\"><div class=\"sk-serial\"><div class=\"sk-item\"><div class=\"sk-estimator sk-toggleable\"><input class=\"sk-toggleable__control sk-hidden--visually\" id=\"2e03a876-0d24-4c0e-bd55-277927998bc0\" type=\"checkbox\" ><label class=\"sk-toggleable__label\" for=\"2e03a876-0d24-4c0e-bd55-277927998bc0\">SimpleImputer</label><div class=\"sk-toggleable__content\"><pre>SimpleImputer(strategy='most_frequent')</pre></div></div></div><div class=\"sk-item\"><div class=\"sk-estimator sk-toggleable\"><input class=\"sk-toggleable__control sk-hidden--visually\" id=\"9fd4680f-54da-4e8b-ae8a-96ec9f0b6c5f\" type=\"checkbox\" ><label class=\"sk-toggleable__label\" for=\"9fd4680f-54da-4e8b-ae8a-96ec9f0b6c5f\">MyLEncoder</label><div class=\"sk-toggleable__content\"><pre><__main__.MyLEncoder object at 0x7f7b580a5350></pre></div></div></div></div></div></div></div></div></div></div><div class=\"sk-item\"><div class=\"sk-estimator sk-toggleable\"><input class=\"sk-toggleable__control sk-hidden--visually\" id=\"677f9e57-abee-4e00-8cea-e8a048f39808\" type=\"checkbox\" ><label class=\"sk-toggleable__label\" for=\"677f9e57-abee-4e00-8cea-e8a048f39808\">StandardScaler</label><div class=\"sk-toggleable__content\"><pre>StandardScaler()</pre></div></div></div></div></div></div></div>"
            ],
            "text/plain": [
              "Pipeline(steps=[('transfer',\n",
              "                 ColumnTransformer(transformers=[('num',\n",
              "                                                  Pipeline(steps=[('clipper',\n",
              "                                                                   BoxplotOutlierClipperForDF()),\n",
              "                                                                  ('imputer',\n",
              "                                                                   SimpleImputer())]),\n",
              "                                                  ['Area', 'Facade', 'Bedrooms',\n",
              "                                                   'Price']),\n",
              "                                                 ('cate',\n",
              "                                                  Pipeline(steps=[('imputer',\n",
              "                                                                   SimpleImputer(strategy='most_frequent')),\n",
              "                                                                  ('encoder',\n",
              "                                                                   <__main__.MyLEncoder object at 0x7f7b580a5350>)]),\n",
              "                                                  ['Location', 'Street', 'Type',\n",
              "                                                   'Legal Doc'])])),\n",
              "                ('scaler', StandardScaler())])"
            ]
          },
          "metadata": {
            "tags": []
          },
          "execution_count": 72
        }
      ]
    },
    {
      "cell_type": "code",
      "metadata": {
        "id": "rTJAf68YhlUr"
      },
      "source": [
        "a = p.fit_transform(house).round(4)\n",
        "scale_df = pd.DataFrame(a, columns = num_col+ cate_col)\n"
      ],
      "execution_count": null,
      "outputs": []
    },
    {
      "cell_type": "markdown",
      "metadata": {
        "id": "7PnbQBT3NcQH"
      },
      "source": [
        "## Phân tích hồi quy bằng mô hình OLS"
      ]
    },
    {
      "cell_type": "code",
      "metadata": {
        "id": "fWYARzaPlOgV"
      },
      "source": [
        "y = scale_df['Price'].reset_index(drop=True)\n",
        "scale_df.drop('Price', axis=1, inplace=True)"
      ],
      "execution_count": null,
      "outputs": []
    },
    {
      "cell_type": "code",
      "metadata": {
        "colab": {
          "base_uri": "https://localhost:8080/"
        },
        "id": "LbwgwbXAjCGI",
        "outputId": "125f59be-aafb-4f8f-9313-6fb24b42f503"
      },
      "source": [
        "X = sm.add_constant(scale_df)\n",
        "X.shape"
      ],
      "execution_count": null,
      "outputs": [
        {
          "output_type": "execute_result",
          "data": {
            "text/plain": [
              "(6347, 8)"
            ]
          },
          "metadata": {
            "tags": []
          },
          "execution_count": 75
        }
      ]
    },
    {
      "cell_type": "code",
      "metadata": {
        "id": "HxgNsSS3k_qp"
      },
      "source": [
        "result = sm.OLS(y, X).fit()"
      ],
      "execution_count": null,
      "outputs": []
    },
    {
      "cell_type": "code",
      "metadata": {
        "colab": {
          "base_uri": "https://localhost:8080/",
          "height": 570
        },
        "id": "EFRCJCFOlE3y",
        "outputId": "e7bbdad0-f6c4-48cf-968b-1c2925f1d3df"
      },
      "source": [
        "result.summary()"
      ],
      "execution_count": null,
      "outputs": [
        {
          "output_type": "execute_result",
          "data": {
            "text/html": [
              "<table class=\"simpletable\">\n",
              "<caption>OLS Regression Results</caption>\n",
              "<tr>\n",
              "  <th>Dep. Variable:</th>          <td>Price</td>      <th>  R-squared:         </th> <td>   0.386</td> \n",
              "</tr>\n",
              "<tr>\n",
              "  <th>Model:</th>                   <td>OLS</td>       <th>  Adj. R-squared:    </th> <td>   0.386</td> \n",
              "</tr>\n",
              "<tr>\n",
              "  <th>Method:</th>             <td>Least Squares</td>  <th>  F-statistic:       </th> <td>   570.4</td> \n",
              "</tr>\n",
              "<tr>\n",
              "  <th>Date:</th>             <td>Wed, 14 Jul 2021</td> <th>  Prob (F-statistic):</th>  <td>  0.00</td>  \n",
              "</tr>\n",
              "<tr>\n",
              "  <th>Time:</th>                 <td>06:16:15</td>     <th>  Log-Likelihood:    </th> <td> -7455.7</td> \n",
              "</tr>\n",
              "<tr>\n",
              "  <th>No. Observations:</th>      <td>  6347</td>      <th>  AIC:               </th> <td>1.493e+04</td>\n",
              "</tr>\n",
              "<tr>\n",
              "  <th>Df Residuals:</th>          <td>  6339</td>      <th>  BIC:               </th> <td>1.498e+04</td>\n",
              "</tr>\n",
              "<tr>\n",
              "  <th>Df Model:</th>              <td>     7</td>      <th>                     </th>     <td> </td>    \n",
              "</tr>\n",
              "<tr>\n",
              "  <th>Covariance Type:</th>      <td>nonrobust</td>    <th>                     </th>     <td> </td>    \n",
              "</tr>\n",
              "</table>\n",
              "<table class=\"simpletable\">\n",
              "<tr>\n",
              "      <td></td>         <th>coef</th>     <th>std err</th>      <th>t</th>      <th>P>|t|</th>  <th>[0.025</th>    <th>0.975]</th>  \n",
              "</tr>\n",
              "<tr>\n",
              "  <th>const</th>     <td>-4.127e-06</td> <td>    0.010</td> <td>   -0.000</td> <td> 1.000</td> <td>   -0.019</td> <td>    0.019</td>\n",
              "</tr>\n",
              "<tr>\n",
              "  <th>Area</th>      <td>    0.3370</td> <td>    0.012</td> <td>   29.211</td> <td> 0.000</td> <td>    0.314</td> <td>    0.360</td>\n",
              "</tr>\n",
              "<tr>\n",
              "  <th>Facade</th>    <td>    0.0711</td> <td>    0.011</td> <td>    6.470</td> <td> 0.000</td> <td>    0.050</td> <td>    0.093</td>\n",
              "</tr>\n",
              "<tr>\n",
              "  <th>Bedrooms</th>  <td>    0.2530</td> <td>    0.010</td> <td>   24.200</td> <td> 0.000</td> <td>    0.232</td> <td>    0.273</td>\n",
              "</tr>\n",
              "<tr>\n",
              "  <th>Location</th>  <td>    0.0360</td> <td>    0.010</td> <td>    3.652</td> <td> 0.000</td> <td>    0.017</td> <td>    0.055</td>\n",
              "</tr>\n",
              "<tr>\n",
              "  <th>Street</th>    <td>   -0.1172</td> <td>    0.010</td> <td>  -11.245</td> <td> 0.000</td> <td>   -0.138</td> <td>   -0.097</td>\n",
              "</tr>\n",
              "<tr>\n",
              "  <th>Type</th>      <td>    0.3242</td> <td>    0.011</td> <td>   30.159</td> <td> 0.000</td> <td>    0.303</td> <td>    0.345</td>\n",
              "</tr>\n",
              "<tr>\n",
              "  <th>Legal Doc</th> <td>   -0.0145</td> <td>    0.010</td> <td>   -1.414</td> <td> 0.157</td> <td>   -0.035</td> <td>    0.006</td>\n",
              "</tr>\n",
              "</table>\n",
              "<table class=\"simpletable\">\n",
              "<tr>\n",
              "  <th>Omnibus:</th>       <td>297.780</td> <th>  Durbin-Watson:     </th> <td>   1.914</td> \n",
              "</tr>\n",
              "<tr>\n",
              "  <th>Prob(Omnibus):</th> <td> 0.000</td>  <th>  Jarque-Bera (JB):  </th> <td> 732.215</td> \n",
              "</tr>\n",
              "<tr>\n",
              "  <th>Skew:</th>          <td> 0.267</td>  <th>  Prob(JB):          </th> <td>1.00e-159</td>\n",
              "</tr>\n",
              "<tr>\n",
              "  <th>Kurtosis:</th>      <td> 4.576</td>  <th>  Cond. No.          </th> <td>    1.82</td> \n",
              "</tr>\n",
              "</table><br/><br/>Warnings:<br/>[1] Standard Errors assume that the covariance matrix of the errors is correctly specified."
            ],
            "text/plain": [
              "<class 'statsmodels.iolib.summary.Summary'>\n",
              "\"\"\"\n",
              "                            OLS Regression Results                            \n",
              "==============================================================================\n",
              "Dep. Variable:                  Price   R-squared:                       0.386\n",
              "Model:                            OLS   Adj. R-squared:                  0.386\n",
              "Method:                 Least Squares   F-statistic:                     570.4\n",
              "Date:                Wed, 14 Jul 2021   Prob (F-statistic):               0.00\n",
              "Time:                        06:16:15   Log-Likelihood:                -7455.7\n",
              "No. Observations:                6347   AIC:                         1.493e+04\n",
              "Df Residuals:                    6339   BIC:                         1.498e+04\n",
              "Df Model:                           7                                         \n",
              "Covariance Type:            nonrobust                                         \n",
              "==============================================================================\n",
              "                 coef    std err          t      P>|t|      [0.025      0.975]\n",
              "------------------------------------------------------------------------------\n",
              "const      -4.127e-06      0.010     -0.000      1.000      -0.019       0.019\n",
              "Area           0.3370      0.012     29.211      0.000       0.314       0.360\n",
              "Facade         0.0711      0.011      6.470      0.000       0.050       0.093\n",
              "Bedrooms       0.2530      0.010     24.200      0.000       0.232       0.273\n",
              "Location       0.0360      0.010      3.652      0.000       0.017       0.055\n",
              "Street        -0.1172      0.010    -11.245      0.000      -0.138      -0.097\n",
              "Type           0.3242      0.011     30.159      0.000       0.303       0.345\n",
              "Legal Doc     -0.0145      0.010     -1.414      0.157      -0.035       0.006\n",
              "==============================================================================\n",
              "Omnibus:                      297.780   Durbin-Watson:                   1.914\n",
              "Prob(Omnibus):                  0.000   Jarque-Bera (JB):              732.215\n",
              "Skew:                           0.267   Prob(JB):                    1.00e-159\n",
              "Kurtosis:                       4.576   Cond. No.                         1.82\n",
              "==============================================================================\n",
              "\n",
              "Warnings:\n",
              "[1] Standard Errors assume that the covariance matrix of the errors is correctly specified.\n",
              "\"\"\""
            ]
          },
          "metadata": {
            "tags": []
          },
          "execution_count": 77
        }
      ]
    },
    {
      "cell_type": "markdown",
      "metadata": {
        "id": "VyHhIVcYqfIl"
      },
      "source": [
        "Nhìn vào bảng trên, ta thấy:\n",
        "- Số mẫu quan sát là 6347\n",
        "- Số mô hình là 7\n",
        "- $r^2$ là 0.386\n",
        "- $r$ bình phương hiệu chỉnh là 0.386, nghĩa là các biến độc lập giải thích được **38.6%** biến thiên của biến phụ thuộc (rất thấp)\n",
        "- sai số chuẩn\n",
        "- coef là giá trị hệ số hồi quy chưa chuẩn hóa\n",
        "- P>|t| là p-value. Nếu giá trị này bé hơn 5% thì mối quan hệ giữa biến độc lập và biến phụ thuộc có ý nghĩa.\n",
        "- Skew: độ lệch laf 0.267\n",
        "- F-Statistic = 570.4 là giá trị kiểm định của 7 nhân tố là 6337 bậc tự do\n",
        "- Prob (F-statistic) = 0.00, điều này cho thấy tổng thể hồi quy là có ý nghĩa\n",
        "- Prob (Omnibus): Một trong những giả thuyết của OLS là các lỗi được phân phối chuẩn. Trong trường hợp này Prob (Omnibus) là 0.000, có nghĩa là giả thuyết OLS không được thỏa mãn, độ lỗi không có phân phối chuẩn"
      ]
    },
    {
      "cell_type": "markdown",
      "metadata": {
        "id": "cE4wdlkNqiDI"
      },
      "source": [
        "$\\rightarrow$ Dựa vào bảng trên, ngoài biến **Legal Doc**, mối quan hệ giữa biến phụ thuộc **Price** và các biến còn lại đều có ý nghĩa thống kê"
      ]
    },
    {
      "cell_type": "markdown",
      "metadata": {
        "id": "a5jfIs1JPNyn"
      },
      "source": [
        "## Dự đoán giá nhà ở, chung cư bằng các mô hình máy học"
      ]
    },
    {
      "cell_type": "markdown",
      "metadata": {
        "id": "szKkekJ5qjzZ"
      },
      "source": [
        "### Chia thành các tập huấn luyện và kiểm tra"
      ]
    },
    {
      "cell_type": "code",
      "metadata": {
        "id": "B3Ydyty8qxab"
      },
      "source": [
        "#  Loại bỏ các cột không có ý nghĩa thông kê\n",
        "X_df = scale_df.drop(['Legal Doc'], axis=1)"
      ],
      "execution_count": null,
      "outputs": []
    },
    {
      "cell_type": "code",
      "metadata": {
        "id": "ytkYI-bvn7k6"
      },
      "source": [
        "X_train, X_temp, y_train, y_temp = train_test_split(scale_df, y, test_size=0.4, random_state=2200)\n",
        "X_val, X_test, y_val, y_test = train_test_split(X_temp, y_temp, test_size=0.5, random_state=2200)"
      ],
      "execution_count": null,
      "outputs": []
    },
    {
      "cell_type": "code",
      "metadata": {
        "colab": {
          "base_uri": "https://localhost:8080/"
        },
        "id": "Cc-kS4xgrpPC",
        "outputId": "398ce59d-d554-44b3-9ba8-de1815e5c6a4"
      },
      "source": [
        "X_train.shape"
      ],
      "execution_count": null,
      "outputs": [
        {
          "output_type": "execute_result",
          "data": {
            "text/plain": [
              "(3808, 7)"
            ]
          },
          "metadata": {
            "tags": []
          },
          "execution_count": 104
        }
      ]
    },
    {
      "cell_type": "code",
      "metadata": {
        "colab": {
          "base_uri": "https://localhost:8080/"
        },
        "id": "xA213yPDKzxj",
        "outputId": "c498adc0-97d8-4320-9867-aeac19b76472"
      },
      "source": [
        "X_val.shape"
      ],
      "execution_count": null,
      "outputs": [
        {
          "output_type": "execute_result",
          "data": {
            "text/plain": [
              "(1269, 7)"
            ]
          },
          "metadata": {
            "tags": []
          },
          "execution_count": 105
        }
      ]
    },
    {
      "cell_type": "code",
      "metadata": {
        "colab": {
          "base_uri": "https://localhost:8080/"
        },
        "id": "w1-IOngprva8",
        "outputId": "655e3647-87c2-4915-d28f-736658ea9260"
      },
      "source": [
        "\n",
        "X_test.shape"
      ],
      "execution_count": null,
      "outputs": [
        {
          "output_type": "execute_result",
          "data": {
            "text/plain": [
              "(1270, 7)"
            ]
          },
          "metadata": {
            "tags": []
          },
          "execution_count": 106
        }
      ]
    },
    {
      "cell_type": "code",
      "metadata": {
        "colab": {
          "base_uri": "https://localhost:8080/"
        },
        "id": "OycR4Si9rx4q",
        "outputId": "b46dfacd-2bab-4c5c-d4e0-aa317af3cc4e"
      },
      "source": [
        "y_train.shape"
      ],
      "execution_count": null,
      "outputs": [
        {
          "output_type": "execute_result",
          "data": {
            "text/plain": [
              "(3808,)"
            ]
          },
          "metadata": {
            "tags": []
          },
          "execution_count": 107
        }
      ]
    },
    {
      "cell_type": "code",
      "metadata": {
        "colab": {
          "base_uri": "https://localhost:8080/"
        },
        "id": "CwfaVKDxK9x-",
        "outputId": "d4e6f664-e3d6-4080-ea75-6b874c2b8033"
      },
      "source": [
        "y_val.shape"
      ],
      "execution_count": null,
      "outputs": [
        {
          "output_type": "execute_result",
          "data": {
            "text/plain": [
              "(1269,)"
            ]
          },
          "metadata": {
            "tags": []
          },
          "execution_count": 108
        }
      ]
    },
    {
      "cell_type": "code",
      "metadata": {
        "colab": {
          "base_uri": "https://localhost:8080/"
        },
        "id": "jSa_V63nr0F_",
        "outputId": "7499b73f-f879-46f1-8d0e-49adba87b087"
      },
      "source": [
        "y_test.shape"
      ],
      "execution_count": null,
      "outputs": [
        {
          "output_type": "execute_result",
          "data": {
            "text/plain": [
              "(1270,)"
            ]
          },
          "metadata": {
            "tags": []
          },
          "execution_count": 109
        }
      ]
    },
    {
      "cell_type": "markdown",
      "metadata": {
        "id": "a3tjmg85qOV6"
      },
      "source": [
        "### Áp dụng các mô hình máy học"
      ]
    },
    {
      "cell_type": "markdown",
      "metadata": {
        "id": "zNuvZ9-6q2iD"
      },
      "source": [
        "### Linear Regression"
      ]
    },
    {
      "cell_type": "code",
      "metadata": {
        "colab": {
          "base_uri": "https://localhost:8080/",
          "height": 71
        },
        "id": "X6pXIAaxI3K2",
        "outputId": "51214ad7-e535-4819-eed3-7e8179ed7d71"
      },
      "source": [
        "lr = LinearRegression()\n",
        "lr.fit(X_train, y_train)\n"
      ],
      "execution_count": null,
      "outputs": [
        {
          "output_type": "execute_result",
          "data": {
            "text/html": [
              "<style>#sk-653792f7-e670-43f1-8470-0bda7e648c7a {color: black;background-color: white;}#sk-653792f7-e670-43f1-8470-0bda7e648c7a pre{padding: 0;}#sk-653792f7-e670-43f1-8470-0bda7e648c7a div.sk-toggleable {background-color: white;}#sk-653792f7-e670-43f1-8470-0bda7e648c7a label.sk-toggleable__label {cursor: pointer;display: block;width: 100%;margin-bottom: 0;padding: 0.2em 0.3em;box-sizing: border-box;text-align: center;}#sk-653792f7-e670-43f1-8470-0bda7e648c7a div.sk-toggleable__content {max-height: 0;max-width: 0;overflow: hidden;text-align: left;background-color: #f0f8ff;}#sk-653792f7-e670-43f1-8470-0bda7e648c7a div.sk-toggleable__content pre {margin: 0.2em;color: black;border-radius: 0.25em;background-color: #f0f8ff;}#sk-653792f7-e670-43f1-8470-0bda7e648c7a input.sk-toggleable__control:checked~div.sk-toggleable__content {max-height: 200px;max-width: 100%;overflow: auto;}#sk-653792f7-e670-43f1-8470-0bda7e648c7a div.sk-estimator input.sk-toggleable__control:checked~label.sk-toggleable__label {background-color: #d4ebff;}#sk-653792f7-e670-43f1-8470-0bda7e648c7a div.sk-label input.sk-toggleable__control:checked~label.sk-toggleable__label {background-color: #d4ebff;}#sk-653792f7-e670-43f1-8470-0bda7e648c7a input.sk-hidden--visually {border: 0;clip: rect(1px 1px 1px 1px);clip: rect(1px, 1px, 1px, 1px);height: 1px;margin: -1px;overflow: hidden;padding: 0;position: absolute;width: 1px;}#sk-653792f7-e670-43f1-8470-0bda7e648c7a div.sk-estimator {font-family: monospace;background-color: #f0f8ff;margin: 0.25em 0.25em;border: 1px dotted black;border-radius: 0.25em;box-sizing: border-box;}#sk-653792f7-e670-43f1-8470-0bda7e648c7a div.sk-estimator:hover {background-color: #d4ebff;}#sk-653792f7-e670-43f1-8470-0bda7e648c7a div.sk-parallel-item::after {content: \"\";width: 100%;border-bottom: 1px solid gray;flex-grow: 1;}#sk-653792f7-e670-43f1-8470-0bda7e648c7a div.sk-label:hover label.sk-toggleable__label {background-color: #d4ebff;}#sk-653792f7-e670-43f1-8470-0bda7e648c7a div.sk-serial::before {content: \"\";position: absolute;border-left: 1px solid gray;box-sizing: border-box;top: 2em;bottom: 0;left: 50%;}#sk-653792f7-e670-43f1-8470-0bda7e648c7a div.sk-serial {display: flex;flex-direction: column;align-items: center;background-color: white;}#sk-653792f7-e670-43f1-8470-0bda7e648c7a div.sk-item {z-index: 1;}#sk-653792f7-e670-43f1-8470-0bda7e648c7a div.sk-parallel {display: flex;align-items: stretch;justify-content: center;background-color: white;}#sk-653792f7-e670-43f1-8470-0bda7e648c7a div.sk-parallel-item {display: flex;flex-direction: column;position: relative;background-color: white;}#sk-653792f7-e670-43f1-8470-0bda7e648c7a div.sk-parallel-item:first-child::after {align-self: flex-end;width: 50%;}#sk-653792f7-e670-43f1-8470-0bda7e648c7a div.sk-parallel-item:last-child::after {align-self: flex-start;width: 50%;}#sk-653792f7-e670-43f1-8470-0bda7e648c7a div.sk-parallel-item:only-child::after {width: 0;}#sk-653792f7-e670-43f1-8470-0bda7e648c7a div.sk-dashed-wrapped {border: 1px dashed gray;margin: 0.2em;box-sizing: border-box;padding-bottom: 0.1em;background-color: white;position: relative;}#sk-653792f7-e670-43f1-8470-0bda7e648c7a div.sk-label label {font-family: monospace;font-weight: bold;background-color: white;display: inline-block;line-height: 1.2em;}#sk-653792f7-e670-43f1-8470-0bda7e648c7a div.sk-label-container {position: relative;z-index: 2;text-align: center;}#sk-653792f7-e670-43f1-8470-0bda7e648c7a div.sk-container {display: inline-block;position: relative;}</style><div id=\"sk-653792f7-e670-43f1-8470-0bda7e648c7a\" class\"sk-top-container\"><div class=\"sk-container\"><div class=\"sk-item\"><div class=\"sk-estimator sk-toggleable\"><input class=\"sk-toggleable__control sk-hidden--visually\" id=\"2f77c1d6-0fb6-47cf-bebd-9b3fbbb4bb6a\" type=\"checkbox\" checked><label class=\"sk-toggleable__label\" for=\"2f77c1d6-0fb6-47cf-bebd-9b3fbbb4bb6a\">LinearRegression</label><div class=\"sk-toggleable__content\"><pre>LinearRegression()</pre></div></div></div></div></div>"
            ],
            "text/plain": [
              "LinearRegression()"
            ]
          },
          "metadata": {
            "tags": []
          },
          "execution_count": 110
        }
      ]
    },
    {
      "cell_type": "code",
      "metadata": {
        "colab": {
          "base_uri": "https://localhost:8080/"
        },
        "id": "CcGYLr_pLCcq",
        "outputId": "e9a123b4-eb0c-4749-9e2c-1bf85d9cc3c3"
      },
      "source": [
        "lr.score(X_val, y_val)"
      ],
      "execution_count": null,
      "outputs": [
        {
          "output_type": "execute_result",
          "data": {
            "text/plain": [
              "0.37349418556305525"
            ]
          },
          "metadata": {
            "tags": []
          },
          "execution_count": 111
        }
      ]
    },
    {
      "cell_type": "markdown",
      "metadata": {
        "id": "lgYKniFRq-9y"
      },
      "source": [
        "### XGBoost"
      ]
    },
    {
      "cell_type": "code",
      "metadata": {
        "colab": {
          "base_uri": "https://localhost:8080/",
          "height": 142
        },
        "id": "ovK8iiLGI_HO",
        "outputId": "831a69ff-f647-495d-b2cd-58d8f4c8b808"
      },
      "source": [
        "xgb_reg = xgb.XGBRegressor(colsample_bytree=0.4,\n",
        "                 gamma=0,                 \n",
        "                 learning_rate=0.07,\n",
        "                 max_depth=3,\n",
        "                 min_child_weight=1.5,\n",
        "                 n_estimators=10000,                                                                    \n",
        "                 reg_alpha=0.75,\n",
        "                 reg_lambda=0.45,\n",
        "                 subsample=0.6,\n",
        "                 seed=42)\n",
        "xgb_reg.fit(X_train, y_train)"
      ],
      "execution_count": null,
      "outputs": [
        {
          "output_type": "stream",
          "text": [
            "[06:25:25] WARNING: /workspace/src/objective/regression_obj.cu:152: reg:linear is now deprecated in favor of reg:squarederror.\n"
          ],
          "name": "stdout"
        },
        {
          "output_type": "execute_result",
          "data": {
            "text/html": [
              "<style>#sk-71238e5d-c0d5-48c2-a38e-22e9947ef121 {color: black;background-color: white;}#sk-71238e5d-c0d5-48c2-a38e-22e9947ef121 pre{padding: 0;}#sk-71238e5d-c0d5-48c2-a38e-22e9947ef121 div.sk-toggleable {background-color: white;}#sk-71238e5d-c0d5-48c2-a38e-22e9947ef121 label.sk-toggleable__label {cursor: pointer;display: block;width: 100%;margin-bottom: 0;padding: 0.2em 0.3em;box-sizing: border-box;text-align: center;}#sk-71238e5d-c0d5-48c2-a38e-22e9947ef121 div.sk-toggleable__content {max-height: 0;max-width: 0;overflow: hidden;text-align: left;background-color: #f0f8ff;}#sk-71238e5d-c0d5-48c2-a38e-22e9947ef121 div.sk-toggleable__content pre {margin: 0.2em;color: black;border-radius: 0.25em;background-color: #f0f8ff;}#sk-71238e5d-c0d5-48c2-a38e-22e9947ef121 input.sk-toggleable__control:checked~div.sk-toggleable__content {max-height: 200px;max-width: 100%;overflow: auto;}#sk-71238e5d-c0d5-48c2-a38e-22e9947ef121 div.sk-estimator input.sk-toggleable__control:checked~label.sk-toggleable__label {background-color: #d4ebff;}#sk-71238e5d-c0d5-48c2-a38e-22e9947ef121 div.sk-label input.sk-toggleable__control:checked~label.sk-toggleable__label {background-color: #d4ebff;}#sk-71238e5d-c0d5-48c2-a38e-22e9947ef121 input.sk-hidden--visually {border: 0;clip: rect(1px 1px 1px 1px);clip: rect(1px, 1px, 1px, 1px);height: 1px;margin: -1px;overflow: hidden;padding: 0;position: absolute;width: 1px;}#sk-71238e5d-c0d5-48c2-a38e-22e9947ef121 div.sk-estimator {font-family: monospace;background-color: #f0f8ff;margin: 0.25em 0.25em;border: 1px dotted black;border-radius: 0.25em;box-sizing: border-box;}#sk-71238e5d-c0d5-48c2-a38e-22e9947ef121 div.sk-estimator:hover {background-color: #d4ebff;}#sk-71238e5d-c0d5-48c2-a38e-22e9947ef121 div.sk-parallel-item::after {content: \"\";width: 100%;border-bottom: 1px solid gray;flex-grow: 1;}#sk-71238e5d-c0d5-48c2-a38e-22e9947ef121 div.sk-label:hover label.sk-toggleable__label {background-color: #d4ebff;}#sk-71238e5d-c0d5-48c2-a38e-22e9947ef121 div.sk-serial::before {content: \"\";position: absolute;border-left: 1px solid gray;box-sizing: border-box;top: 2em;bottom: 0;left: 50%;}#sk-71238e5d-c0d5-48c2-a38e-22e9947ef121 div.sk-serial {display: flex;flex-direction: column;align-items: center;background-color: white;}#sk-71238e5d-c0d5-48c2-a38e-22e9947ef121 div.sk-item {z-index: 1;}#sk-71238e5d-c0d5-48c2-a38e-22e9947ef121 div.sk-parallel {display: flex;align-items: stretch;justify-content: center;background-color: white;}#sk-71238e5d-c0d5-48c2-a38e-22e9947ef121 div.sk-parallel-item {display: flex;flex-direction: column;position: relative;background-color: white;}#sk-71238e5d-c0d5-48c2-a38e-22e9947ef121 div.sk-parallel-item:first-child::after {align-self: flex-end;width: 50%;}#sk-71238e5d-c0d5-48c2-a38e-22e9947ef121 div.sk-parallel-item:last-child::after {align-self: flex-start;width: 50%;}#sk-71238e5d-c0d5-48c2-a38e-22e9947ef121 div.sk-parallel-item:only-child::after {width: 0;}#sk-71238e5d-c0d5-48c2-a38e-22e9947ef121 div.sk-dashed-wrapped {border: 1px dashed gray;margin: 0.2em;box-sizing: border-box;padding-bottom: 0.1em;background-color: white;position: relative;}#sk-71238e5d-c0d5-48c2-a38e-22e9947ef121 div.sk-label label {font-family: monospace;font-weight: bold;background-color: white;display: inline-block;line-height: 1.2em;}#sk-71238e5d-c0d5-48c2-a38e-22e9947ef121 div.sk-label-container {position: relative;z-index: 2;text-align: center;}#sk-71238e5d-c0d5-48c2-a38e-22e9947ef121 div.sk-container {display: inline-block;position: relative;}</style><div id=\"sk-71238e5d-c0d5-48c2-a38e-22e9947ef121\" class\"sk-top-container\"><div class=\"sk-container\"><div class=\"sk-item\"><div class=\"sk-estimator sk-toggleable\"><input class=\"sk-toggleable__control sk-hidden--visually\" id=\"642aeb4a-c84b-4e77-b7a5-2ced1d2e4f76\" type=\"checkbox\" checked><label class=\"sk-toggleable__label\" for=\"642aeb4a-c84b-4e77-b7a5-2ced1d2e4f76\">XGBRegressor</label><div class=\"sk-toggleable__content\"><pre>XGBRegressor(colsample_bytree=0.4, learning_rate=0.07, min_child_weight=1.5,\n",
              "             n_estimators=10000, reg_alpha=0.75, reg_lambda=0.45, seed=42,\n",
              "             subsample=0.6)</pre></div></div></div></div></div>"
            ],
            "text/plain": [
              "XGBRegressor(colsample_bytree=0.4, learning_rate=0.07, min_child_weight=1.5,\n",
              "             n_estimators=10000, reg_alpha=0.75, reg_lambda=0.45, seed=42,\n",
              "             subsample=0.6)"
            ]
          },
          "metadata": {
            "tags": []
          },
          "execution_count": 112
        }
      ]
    },
    {
      "cell_type": "code",
      "metadata": {
        "colab": {
          "base_uri": "https://localhost:8080/"
        },
        "id": "Zy-MWIS7LKmX",
        "outputId": "68815d68-6dde-4aa4-f5ae-722bfca9b769"
      },
      "source": [
        "xgb_reg.score(X_val, y_val)"
      ],
      "execution_count": null,
      "outputs": [
        {
          "output_type": "execute_result",
          "data": {
            "text/plain": [
              "0.70987378791289"
            ]
          },
          "metadata": {
            "tags": []
          },
          "execution_count": 113
        }
      ]
    },
    {
      "cell_type": "markdown",
      "metadata": {
        "id": "0Go3K1CSrBDF"
      },
      "source": [
        "### MLP Regressor"
      ]
    },
    {
      "cell_type": "code",
      "metadata": {
        "colab": {
          "base_uri": "https://localhost:8080/",
          "height": 71
        },
        "id": "qtjTlLukn7k7",
        "outputId": "dd45fb1c-d42d-4366-d88c-0806f33f50ed"
      },
      "source": [
        "regr = MLPRegressor(activation='relu', \n",
        "                    alpha=0.0001,\n",
        "                    batch_size='auto',\n",
        "                    hidden_layer_sizes= 100,\n",
        "                    learning_rate= 'constant',\n",
        "                    learning_rate_init= 0.001,\n",
        "                    max_iter= 500,\n",
        "                    solver= 'lbfgs')\n",
        "regr.fit(X_train, y_train)"
      ],
      "execution_count": null,
      "outputs": [
        {
          "output_type": "execute_result",
          "data": {
            "text/html": [
              "<style>#sk-d219c362-2225-4a63-a8e4-9282db5a16ca {color: black;background-color: white;}#sk-d219c362-2225-4a63-a8e4-9282db5a16ca pre{padding: 0;}#sk-d219c362-2225-4a63-a8e4-9282db5a16ca div.sk-toggleable {background-color: white;}#sk-d219c362-2225-4a63-a8e4-9282db5a16ca label.sk-toggleable__label {cursor: pointer;display: block;width: 100%;margin-bottom: 0;padding: 0.2em 0.3em;box-sizing: border-box;text-align: center;}#sk-d219c362-2225-4a63-a8e4-9282db5a16ca div.sk-toggleable__content {max-height: 0;max-width: 0;overflow: hidden;text-align: left;background-color: #f0f8ff;}#sk-d219c362-2225-4a63-a8e4-9282db5a16ca div.sk-toggleable__content pre {margin: 0.2em;color: black;border-radius: 0.25em;background-color: #f0f8ff;}#sk-d219c362-2225-4a63-a8e4-9282db5a16ca input.sk-toggleable__control:checked~div.sk-toggleable__content {max-height: 200px;max-width: 100%;overflow: auto;}#sk-d219c362-2225-4a63-a8e4-9282db5a16ca div.sk-estimator input.sk-toggleable__control:checked~label.sk-toggleable__label {background-color: #d4ebff;}#sk-d219c362-2225-4a63-a8e4-9282db5a16ca div.sk-label input.sk-toggleable__control:checked~label.sk-toggleable__label {background-color: #d4ebff;}#sk-d219c362-2225-4a63-a8e4-9282db5a16ca input.sk-hidden--visually {border: 0;clip: rect(1px 1px 1px 1px);clip: rect(1px, 1px, 1px, 1px);height: 1px;margin: -1px;overflow: hidden;padding: 0;position: absolute;width: 1px;}#sk-d219c362-2225-4a63-a8e4-9282db5a16ca div.sk-estimator {font-family: monospace;background-color: #f0f8ff;margin: 0.25em 0.25em;border: 1px dotted black;border-radius: 0.25em;box-sizing: border-box;}#sk-d219c362-2225-4a63-a8e4-9282db5a16ca div.sk-estimator:hover {background-color: #d4ebff;}#sk-d219c362-2225-4a63-a8e4-9282db5a16ca div.sk-parallel-item::after {content: \"\";width: 100%;border-bottom: 1px solid gray;flex-grow: 1;}#sk-d219c362-2225-4a63-a8e4-9282db5a16ca div.sk-label:hover label.sk-toggleable__label {background-color: #d4ebff;}#sk-d219c362-2225-4a63-a8e4-9282db5a16ca div.sk-serial::before {content: \"\";position: absolute;border-left: 1px solid gray;box-sizing: border-box;top: 2em;bottom: 0;left: 50%;}#sk-d219c362-2225-4a63-a8e4-9282db5a16ca div.sk-serial {display: flex;flex-direction: column;align-items: center;background-color: white;}#sk-d219c362-2225-4a63-a8e4-9282db5a16ca div.sk-item {z-index: 1;}#sk-d219c362-2225-4a63-a8e4-9282db5a16ca div.sk-parallel {display: flex;align-items: stretch;justify-content: center;background-color: white;}#sk-d219c362-2225-4a63-a8e4-9282db5a16ca div.sk-parallel-item {display: flex;flex-direction: column;position: relative;background-color: white;}#sk-d219c362-2225-4a63-a8e4-9282db5a16ca div.sk-parallel-item:first-child::after {align-self: flex-end;width: 50%;}#sk-d219c362-2225-4a63-a8e4-9282db5a16ca div.sk-parallel-item:last-child::after {align-self: flex-start;width: 50%;}#sk-d219c362-2225-4a63-a8e4-9282db5a16ca div.sk-parallel-item:only-child::after {width: 0;}#sk-d219c362-2225-4a63-a8e4-9282db5a16ca div.sk-dashed-wrapped {border: 1px dashed gray;margin: 0.2em;box-sizing: border-box;padding-bottom: 0.1em;background-color: white;position: relative;}#sk-d219c362-2225-4a63-a8e4-9282db5a16ca div.sk-label label {font-family: monospace;font-weight: bold;background-color: white;display: inline-block;line-height: 1.2em;}#sk-d219c362-2225-4a63-a8e4-9282db5a16ca div.sk-label-container {position: relative;z-index: 2;text-align: center;}#sk-d219c362-2225-4a63-a8e4-9282db5a16ca div.sk-container {display: inline-block;position: relative;}</style><div id=\"sk-d219c362-2225-4a63-a8e4-9282db5a16ca\" class\"sk-top-container\"><div class=\"sk-container\"><div class=\"sk-item\"><div class=\"sk-estimator sk-toggleable\"><input class=\"sk-toggleable__control sk-hidden--visually\" id=\"eb12c76c-abb4-4db9-be10-42e3bc935d3e\" type=\"checkbox\" checked><label class=\"sk-toggleable__label\" for=\"eb12c76c-abb4-4db9-be10-42e3bc935d3e\">MLPRegressor</label><div class=\"sk-toggleable__content\"><pre>MLPRegressor(hidden_layer_sizes=100, max_iter=500, solver='lbfgs')</pre></div></div></div></div></div>"
            ],
            "text/plain": [
              "MLPRegressor(hidden_layer_sizes=100, max_iter=500, solver='lbfgs')"
            ]
          },
          "metadata": {
            "tags": []
          },
          "execution_count": 114
        }
      ]
    },
    {
      "cell_type": "code",
      "metadata": {
        "colab": {
          "base_uri": "https://localhost:8080/"
        },
        "id": "BY0-oUOSLN39",
        "outputId": "5062b292-5996-4abd-f4f9-84e5b640ad16"
      },
      "source": [
        "regr.score(X_val, y_val)"
      ],
      "execution_count": null,
      "outputs": [
        {
          "output_type": "execute_result",
          "data": {
            "text/plain": [
              "0.5338463811273543"
            ]
          },
          "metadata": {
            "tags": []
          },
          "execution_count": 115
        }
      ]
    },
    {
      "cell_type": "markdown",
      "metadata": {
        "id": "1RXy59r6OomT"
      },
      "source": [
        "### Mô hình SVR"
      ]
    },
    {
      "cell_type": "code",
      "metadata": {
        "colab": {
          "base_uri": "https://localhost:8080/",
          "height": 71
        },
        "id": "xlwp_17tJSFN",
        "outputId": "80d2630c-b736-4e6f-92b7-10bedc082e5b"
      },
      "source": [
        "svr = SVR(C=1.0, epsilon=0.2, kernel='rbf')\n",
        "svr.fit(X_train, y_train)"
      ],
      "execution_count": null,
      "outputs": [
        {
          "output_type": "execute_result",
          "data": {
            "text/html": [
              "<style>#sk-bad0429b-df94-413e-bf9f-4fc3da82fc30 {color: black;background-color: white;}#sk-bad0429b-df94-413e-bf9f-4fc3da82fc30 pre{padding: 0;}#sk-bad0429b-df94-413e-bf9f-4fc3da82fc30 div.sk-toggleable {background-color: white;}#sk-bad0429b-df94-413e-bf9f-4fc3da82fc30 label.sk-toggleable__label {cursor: pointer;display: block;width: 100%;margin-bottom: 0;padding: 0.2em 0.3em;box-sizing: border-box;text-align: center;}#sk-bad0429b-df94-413e-bf9f-4fc3da82fc30 div.sk-toggleable__content {max-height: 0;max-width: 0;overflow: hidden;text-align: left;background-color: #f0f8ff;}#sk-bad0429b-df94-413e-bf9f-4fc3da82fc30 div.sk-toggleable__content pre {margin: 0.2em;color: black;border-radius: 0.25em;background-color: #f0f8ff;}#sk-bad0429b-df94-413e-bf9f-4fc3da82fc30 input.sk-toggleable__control:checked~div.sk-toggleable__content {max-height: 200px;max-width: 100%;overflow: auto;}#sk-bad0429b-df94-413e-bf9f-4fc3da82fc30 div.sk-estimator input.sk-toggleable__control:checked~label.sk-toggleable__label {background-color: #d4ebff;}#sk-bad0429b-df94-413e-bf9f-4fc3da82fc30 div.sk-label input.sk-toggleable__control:checked~label.sk-toggleable__label {background-color: #d4ebff;}#sk-bad0429b-df94-413e-bf9f-4fc3da82fc30 input.sk-hidden--visually {border: 0;clip: rect(1px 1px 1px 1px);clip: rect(1px, 1px, 1px, 1px);height: 1px;margin: -1px;overflow: hidden;padding: 0;position: absolute;width: 1px;}#sk-bad0429b-df94-413e-bf9f-4fc3da82fc30 div.sk-estimator {font-family: monospace;background-color: #f0f8ff;margin: 0.25em 0.25em;border: 1px dotted black;border-radius: 0.25em;box-sizing: border-box;}#sk-bad0429b-df94-413e-bf9f-4fc3da82fc30 div.sk-estimator:hover {background-color: #d4ebff;}#sk-bad0429b-df94-413e-bf9f-4fc3da82fc30 div.sk-parallel-item::after {content: \"\";width: 100%;border-bottom: 1px solid gray;flex-grow: 1;}#sk-bad0429b-df94-413e-bf9f-4fc3da82fc30 div.sk-label:hover label.sk-toggleable__label {background-color: #d4ebff;}#sk-bad0429b-df94-413e-bf9f-4fc3da82fc30 div.sk-serial::before {content: \"\";position: absolute;border-left: 1px solid gray;box-sizing: border-box;top: 2em;bottom: 0;left: 50%;}#sk-bad0429b-df94-413e-bf9f-4fc3da82fc30 div.sk-serial {display: flex;flex-direction: column;align-items: center;background-color: white;}#sk-bad0429b-df94-413e-bf9f-4fc3da82fc30 div.sk-item {z-index: 1;}#sk-bad0429b-df94-413e-bf9f-4fc3da82fc30 div.sk-parallel {display: flex;align-items: stretch;justify-content: center;background-color: white;}#sk-bad0429b-df94-413e-bf9f-4fc3da82fc30 div.sk-parallel-item {display: flex;flex-direction: column;position: relative;background-color: white;}#sk-bad0429b-df94-413e-bf9f-4fc3da82fc30 div.sk-parallel-item:first-child::after {align-self: flex-end;width: 50%;}#sk-bad0429b-df94-413e-bf9f-4fc3da82fc30 div.sk-parallel-item:last-child::after {align-self: flex-start;width: 50%;}#sk-bad0429b-df94-413e-bf9f-4fc3da82fc30 div.sk-parallel-item:only-child::after {width: 0;}#sk-bad0429b-df94-413e-bf9f-4fc3da82fc30 div.sk-dashed-wrapped {border: 1px dashed gray;margin: 0.2em;box-sizing: border-box;padding-bottom: 0.1em;background-color: white;position: relative;}#sk-bad0429b-df94-413e-bf9f-4fc3da82fc30 div.sk-label label {font-family: monospace;font-weight: bold;background-color: white;display: inline-block;line-height: 1.2em;}#sk-bad0429b-df94-413e-bf9f-4fc3da82fc30 div.sk-label-container {position: relative;z-index: 2;text-align: center;}#sk-bad0429b-df94-413e-bf9f-4fc3da82fc30 div.sk-container {display: inline-block;position: relative;}</style><div id=\"sk-bad0429b-df94-413e-bf9f-4fc3da82fc30\" class\"sk-top-container\"><div class=\"sk-container\"><div class=\"sk-item\"><div class=\"sk-estimator sk-toggleable\"><input class=\"sk-toggleable__control sk-hidden--visually\" id=\"af69ea24-1358-4d80-95c0-19bc5cfbb7b5\" type=\"checkbox\" checked><label class=\"sk-toggleable__label\" for=\"af69ea24-1358-4d80-95c0-19bc5cfbb7b5\">SVR</label><div class=\"sk-toggleable__content\"><pre>SVR(epsilon=0.2)</pre></div></div></div></div></div>"
            ],
            "text/plain": [
              "SVR(epsilon=0.2)"
            ]
          },
          "metadata": {
            "tags": []
          },
          "execution_count": 116
        }
      ]
    },
    {
      "cell_type": "code",
      "metadata": {
        "colab": {
          "base_uri": "https://localhost:8080/"
        },
        "id": "q2qmyCSGOuOe",
        "outputId": "beeca948-8bef-43d3-ea11-11bef58b26fd"
      },
      "source": [
        "svr.score(X_val, y_val)"
      ],
      "execution_count": null,
      "outputs": [
        {
          "output_type": "execute_result",
          "data": {
            "text/plain": [
              "0.5567724116176884"
            ]
          },
          "metadata": {
            "tags": []
          },
          "execution_count": 117
        }
      ]
    },
    {
      "cell_type": "markdown",
      "metadata": {
        "id": "WGXnOAZKHH4u"
      },
      "source": [
        "- Mô hình cho độ chính xác tốt nhất là XGBoost Regressor nên ta sẽ sử dụng model này cho việc dự đoán trên tập test"
      ]
    },
    {
      "cell_type": "markdown",
      "metadata": {
        "id": "Vg3x7e3PUwXx"
      },
      "source": [
        "## **Mô hình áp dụng: XGBoost**"
      ]
    },
    {
      "cell_type": "code",
      "metadata": {
        "colab": {
          "base_uri": "https://localhost:8080/"
        },
        "id": "CMTWczaHPuoz",
        "outputId": "81a069b1-34dd-4d24-dfe5-0b9b7d6447b9"
      },
      "source": [
        "xgb_reg.score(X_test, y_test)"
      ],
      "execution_count": null,
      "outputs": [
        {
          "output_type": "execute_result",
          "data": {
            "text/plain": [
              "0.6781525521985277"
            ]
          },
          "metadata": {
            "tags": []
          },
          "execution_count": 118
        }
      ]
    },
    {
      "cell_type": "code",
      "metadata": {
        "id": "3y15JoLXXC9E"
      },
      "source": [
        ""
      ],
      "execution_count": null,
      "outputs": []
    },
    {
      "cell_type": "code",
      "metadata": {
        "id": "M5h_PAziHH4u"
      },
      "source": [
        ""
      ],
      "execution_count": null,
      "outputs": []
    }
  ]
}