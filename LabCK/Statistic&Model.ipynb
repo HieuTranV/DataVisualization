{
 "cells": [
  {
   "cell_type": "markdown",
   "metadata": {
    "colab_type": "text",
    "id": "view-in-github"
   },
   "source": [
    "<a href=\"https://colab.research.google.com/github/HieuTranV/DataVisualization/blob/dev/LabCK/Statistic%26Model.ipynb\" target=\"_parent\"><img src=\"https://colab.research.google.com/assets/colab-badge.svg\" alt=\"Open In Colab\"/></a>"
   ]
  },
  {
   "cell_type": "markdown",
   "metadata": {
    "id": "DtF-1hOsPf61"
   },
   "source": [
    "# Tải thư viện và dữ liệu"
   ]
  },
  {
   "cell_type": "code",
   "execution_count": 1,
   "metadata": {
    "id": "0VrNXCEkYKyI"
   },
   "outputs": [],
   "source": [
    "!pip install -q --upgrade scikit-learn category_encoders"
   ]
  },
  {
   "cell_type": "code",
   "execution_count": 2,
   "metadata": {
    "id": "KmGZw1xsHUZR"
   },
   "outputs": [],
   "source": [
    "import pandas as pd\n",
    "import numpy as np\n",
    "import matplotlib.pyplot as plt\n",
    "import seaborn as sns\n",
    "import warnings\n",
    "import re\n",
    "import scipy.stats\n",
    "from typing import Tuple\n",
    "warnings.filterwarnings('ignore') "
   ]
  },
  {
   "cell_type": "code",
   "execution_count": 3,
   "metadata": {
    "id": "RYChCcR7hrzQ"
   },
   "outputs": [],
   "source": [
    "from sklearn.impute import SimpleImputer\n",
    "from sklearn.preprocessing import OneHotEncoder, LabelEncoder, StandardScaler\n",
    "from sklearn.compose import ColumnTransformer\n",
    "from sklearn.pipeline import Pipeline\n",
    "from sklearn.pipeline import FeatureUnion\n",
    "from sklearn.model_selection import train_test_split\n",
    "from sklearn.base import BaseEstimator, TransformerMixin\n",
    "\n",
    "from sklearn import set_config\n",
    "set_config(display='diagram') # Để trực quan hóa pipeline"
   ]
  },
  {
   "cell_type": "code",
   "execution_count": 4,
   "metadata": {
    "id": "39TVoL1crI8y"
   },
   "outputs": [],
   "source": [
    "import statsmodels.api as sm\n",
    "import statsmodels.formula.api as smf\n",
    "from sklearn.svm import SVR\n",
    "from sklearn.linear_model import LinearRegression\n",
    "from sklearn.neural_network import MLPRegressor\n",
    "import xgboost as xgb\n"
   ]
  },
  {
   "cell_type": "code",
   "execution_count": 5,
   "metadata": {
    "id": "UbkKypQnHUZW"
   },
   "outputs": [],
   "source": [
    "data = pd.read_csv('data_update.csv')"
   ]
  },
  {
   "cell_type": "code",
   "execution_count": 6,
   "metadata": {
    "colab": {
     "base_uri": "https://localhost:8080/",
     "height": 589
    },
    "id": "P2T1hY-hHUZX",
    "outputId": "b57ba57e-5682-4525-a581-ce71afb53338"
   },
   "outputs": [
    {
     "data": {
      "text/html": [
       "<div>\n",
       "<style scoped>\n",
       "    .dataframe tbody tr th:only-of-type {\n",
       "        vertical-align: middle;\n",
       "    }\n",
       "\n",
       "    .dataframe tbody tr th {\n",
       "        vertical-align: top;\n",
       "    }\n",
       "\n",
       "    .dataframe thead th {\n",
       "        text-align: right;\n",
       "    }\n",
       "</style>\n",
       "<table border=\"1\" class=\"dataframe\">\n",
       "  <thead>\n",
       "    <tr style=\"text-align: right;\">\n",
       "      <th></th>\n",
       "      <th>Price</th>\n",
       "      <th>Location</th>\n",
       "      <th>Area</th>\n",
       "      <th>Street</th>\n",
       "      <th>Facade</th>\n",
       "      <th>Direction</th>\n",
       "      <th>Saler</th>\n",
       "      <th>Type</th>\n",
       "      <th>Floor</th>\n",
       "      <th>Bathrooms</th>\n",
       "      <th>Bedrooms</th>\n",
       "      <th>Legal Doc</th>\n",
       "    </tr>\n",
       "  </thead>\n",
       "  <tbody>\n",
       "    <tr>\n",
       "      <th>0</th>\n",
       "      <td>4.75 Tỷ - 52.78 Triệu/m²</td>\n",
       "      <td>Quận Sơn Trà, Thành phố Đà Nẵng</td>\n",
       "      <td>90 m²</td>\n",
       "      <td>Mặt phố - Mặt đường</td>\n",
       "      <td>5m</td>\n",
       "      <td>Đông Bắc</td>\n",
       "      <td>Nhà môi giới</td>\n",
       "      <td>Nhà ở</td>\n",
       "      <td>---</td>\n",
       "      <td>---</td>\n",
       "      <td>2</td>\n",
       "      <td>---</td>\n",
       "    </tr>\n",
       "    <tr>\n",
       "      <th>1</th>\n",
       "      <td>Thương lượng</td>\n",
       "      <td>Thị xã Phổ Yên, Tỉnh Thái Nguyên</td>\n",
       "      <td>120 m²</td>\n",
       "      <td>Mặt phố - Mặt đường</td>\n",
       "      <td>8.5m</td>\n",
       "      <td>---</td>\n",
       "      <td>Sàn bất động sản</td>\n",
       "      <td>Đất - Đất nền - Nhà như đất</td>\n",
       "      <td>---</td>\n",
       "      <td>---</td>\n",
       "      <td>---</td>\n",
       "      <td>Giấy CN QSDĐ - Sổ đỏ - Sổ hồng</td>\n",
       "    </tr>\n",
       "    <tr>\n",
       "      <th>2</th>\n",
       "      <td>2.2 Tỷ - 56.41 Triệu/m²</td>\n",
       "      <td>Huyện Hoài Đức, Thành phố Hà Nội</td>\n",
       "      <td>39 m²</td>\n",
       "      <td>Ngõ 1 ô tô</td>\n",
       "      <td>3.5m</td>\n",
       "      <td>Tây</td>\n",
       "      <td>Chính chủ</td>\n",
       "      <td>Đất - Đất nền - Nhà như đất</td>\n",
       "      <td>---</td>\n",
       "      <td>---</td>\n",
       "      <td>---</td>\n",
       "      <td>Giấy CN QSDĐ - Sổ đỏ - Sổ hồng</td>\n",
       "    </tr>\n",
       "    <tr>\n",
       "      <th>3</th>\n",
       "      <td>770 Triệu - 14 Triệu/m²</td>\n",
       "      <td>Quận Thanh Xuân, Thành phố Hà Nội</td>\n",
       "      <td>55 m²</td>\n",
       "      <td>Ngõ 1 ô tô</td>\n",
       "      <td>---</td>\n",
       "      <td>---</td>\n",
       "      <td>Chính chủ</td>\n",
       "      <td>Chung cư, Chung cư mini</td>\n",
       "      <td>---</td>\n",
       "      <td>---</td>\n",
       "      <td>---</td>\n",
       "      <td>Giấy CN QSDĐ - Sổ đỏ - Sổ hồng, Hợp đồng mua bán</td>\n",
       "    </tr>\n",
       "    <tr>\n",
       "      <th>4</th>\n",
       "      <td>890 Triệu - 8.9 Triệu/m²</td>\n",
       "      <td>Huyện Bàu Bàng, Tỉnh Bình Dương</td>\n",
       "      <td>100 m²</td>\n",
       "      <td>Ngõ 4 ô tô trở lên</td>\n",
       "      <td>5m</td>\n",
       "      <td>Tây</td>\n",
       "      <td>Nhà môi giới</td>\n",
       "      <td>Đất - Đất nền - Nhà như đất</td>\n",
       "      <td>---</td>\n",
       "      <td>---</td>\n",
       "      <td>---</td>\n",
       "      <td>Giấy CN QSDĐ - Sổ đỏ - Sổ hồng</td>\n",
       "    </tr>\n",
       "    <tr>\n",
       "      <th>...</th>\n",
       "      <td>...</td>\n",
       "      <td>...</td>\n",
       "      <td>...</td>\n",
       "      <td>...</td>\n",
       "      <td>...</td>\n",
       "      <td>...</td>\n",
       "      <td>...</td>\n",
       "      <td>...</td>\n",
       "      <td>...</td>\n",
       "      <td>...</td>\n",
       "      <td>...</td>\n",
       "      <td>...</td>\n",
       "    </tr>\n",
       "    <tr>\n",
       "      <th>11934</th>\n",
       "      <td>2.25 Tỷ - 52.33 Triệu/m²</td>\n",
       "      <td>Quận Ninh Kiều, Thành phố Cần Thơ</td>\n",
       "      <td>43 m²</td>\n",
       "      <td>Ngõ 1 ô tô</td>\n",
       "      <td>6m</td>\n",
       "      <td>Tây Nam</td>\n",
       "      <td>Nhà môi giới</td>\n",
       "      <td>Nhà ở</td>\n",
       "      <td>---</td>\n",
       "      <td>2</td>\n",
       "      <td>2</td>\n",
       "      <td>Giấy CN QSDĐ - Sổ đỏ - Sổ hồng</td>\n",
       "    </tr>\n",
       "    <tr>\n",
       "      <th>11935</th>\n",
       "      <td>1.1 Tỷ - 33.33 Triệu/m²</td>\n",
       "      <td>Quận Hà Đông, Thành phố Hà Nội</td>\n",
       "      <td>33 m²</td>\n",
       "      <td>Ngõ 2 ô tô tránh</td>\n",
       "      <td>---</td>\n",
       "      <td>---</td>\n",
       "      <td>Chính chủ</td>\n",
       "      <td>Nhà ở</td>\n",
       "      <td>---</td>\n",
       "      <td>---</td>\n",
       "      <td>---</td>\n",
       "      <td>Giấy CN QSDĐ - Sổ đỏ - Sổ hồng</td>\n",
       "    </tr>\n",
       "    <tr>\n",
       "      <th>11936</th>\n",
       "      <td>1 Tỷ - 10 Triệu/m²</td>\n",
       "      <td>Huyện Lục Yên, Tỉnh Yên Bái</td>\n",
       "      <td>100 m²</td>\n",
       "      <td>Mặt phố - Mặt đường</td>\n",
       "      <td>---</td>\n",
       "      <td>---</td>\n",
       "      <td>Nhà môi giới</td>\n",
       "      <td>Đất - Đất nền - Nhà như đất</td>\n",
       "      <td>---</td>\n",
       "      <td>---</td>\n",
       "      <td>---</td>\n",
       "      <td>Giấy CN QSDĐ - Sổ đỏ - Sổ hồng</td>\n",
       "    </tr>\n",
       "    <tr>\n",
       "      <th>11937</th>\n",
       "      <td>25 Tỷ - 50 Triệu/m²</td>\n",
       "      <td>Thành phố Vũng Tàu, Tỉnh Bà Rịa - Vũng Tàu</td>\n",
       "      <td>500 m²</td>\n",
       "      <td>Mặt phố - Mặt đường</td>\n",
       "      <td>---</td>\n",
       "      <td>Đông Nam</td>\n",
       "      <td>Nhà môi giới</td>\n",
       "      <td>Đất - Đất nền - Nhà như đất</td>\n",
       "      <td>---</td>\n",
       "      <td>---</td>\n",
       "      <td>---</td>\n",
       "      <td>---</td>\n",
       "    </tr>\n",
       "    <tr>\n",
       "      <th>11938</th>\n",
       "      <td>8.5 Tỷ - 184.78 Triệu/m²</td>\n",
       "      <td>Quận Hà Đông, Thành phố Hà Nội</td>\n",
       "      <td>46 m²</td>\n",
       "      <td>Ngõ 2 ô tô tránh</td>\n",
       "      <td>4m</td>\n",
       "      <td>---</td>\n",
       "      <td>Nhà môi giới</td>\n",
       "      <td>Nhà ở</td>\n",
       "      <td>---</td>\n",
       "      <td>3</td>\n",
       "      <td>4</td>\n",
       "      <td>Giấy CN QSDĐ - Sổ đỏ - Sổ hồng</td>\n",
       "    </tr>\n",
       "  </tbody>\n",
       "</table>\n",
       "<p>11939 rows × 12 columns</p>\n",
       "</div>"
      ],
      "text/plain": [
       "                          Price                                    Location  \\\n",
       "0      4.75 Tỷ - 52.78 Triệu/m²             Quận Sơn Trà, Thành phố Đà Nẵng   \n",
       "1                  Thương lượng            Thị xã Phổ Yên, Tỉnh Thái Nguyên   \n",
       "2       2.2 Tỷ - 56.41 Triệu/m²            Huyện Hoài Đức, Thành phố Hà Nội   \n",
       "3       770 Triệu - 14 Triệu/m²           Quận Thanh Xuân, Thành phố Hà Nội   \n",
       "4      890 Triệu - 8.9 Triệu/m²             Huyện Bàu Bàng, Tỉnh Bình Dương   \n",
       "...                         ...                                         ...   \n",
       "11934  2.25 Tỷ - 52.33 Triệu/m²           Quận Ninh Kiều, Thành phố Cần Thơ   \n",
       "11935   1.1 Tỷ - 33.33 Triệu/m²              Quận Hà Đông, Thành phố Hà Nội   \n",
       "11936        1 Tỷ - 10 Triệu/m²                 Huyện Lục Yên, Tỉnh Yên Bái   \n",
       "11937       25 Tỷ - 50 Triệu/m²  Thành phố Vũng Tàu, Tỉnh Bà Rịa - Vũng Tàu   \n",
       "11938  8.5 Tỷ - 184.78 Triệu/m²              Quận Hà Đông, Thành phố Hà Nội   \n",
       "\n",
       "         Area               Street Facade Direction             Saler  \\\n",
       "0       90 m²  Mặt phố - Mặt đường     5m  Đông Bắc      Nhà môi giới   \n",
       "1      120 m²  Mặt phố - Mặt đường   8.5m       ---  Sàn bất động sản   \n",
       "2       39 m²           Ngõ 1 ô tô   3.5m       Tây         Chính chủ   \n",
       "3       55 m²           Ngõ 1 ô tô    ---       ---         Chính chủ   \n",
       "4      100 m²   Ngõ 4 ô tô trở lên     5m       Tây      Nhà môi giới   \n",
       "...       ...                  ...    ...       ...               ...   \n",
       "11934   43 m²           Ngõ 1 ô tô     6m   Tây Nam      Nhà môi giới   \n",
       "11935   33 m²     Ngõ 2 ô tô tránh    ---       ---         Chính chủ   \n",
       "11936  100 m²  Mặt phố - Mặt đường    ---       ---      Nhà môi giới   \n",
       "11937  500 m²  Mặt phố - Mặt đường    ---  Đông Nam      Nhà môi giới   \n",
       "11938   46 m²     Ngõ 2 ô tô tránh     4m       ---      Nhà môi giới   \n",
       "\n",
       "                              Type Floor Bathrooms Bedrooms  \\\n",
       "0                            Nhà ở   ---       ---        2   \n",
       "1      Đất - Đất nền - Nhà như đất   ---       ---      ---   \n",
       "2      Đất - Đất nền - Nhà như đất   ---       ---      ---   \n",
       "3          Chung cư, Chung cư mini   ---       ---      ---   \n",
       "4      Đất - Đất nền - Nhà như đất   ---       ---      ---   \n",
       "...                            ...   ...       ...      ...   \n",
       "11934                        Nhà ở   ---         2        2   \n",
       "11935                        Nhà ở   ---       ---      ---   \n",
       "11936  Đất - Đất nền - Nhà như đất   ---       ---      ---   \n",
       "11937  Đất - Đất nền - Nhà như đất   ---       ---      ---   \n",
       "11938                        Nhà ở   ---         3        4   \n",
       "\n",
       "                                              Legal Doc  \n",
       "0                                                   ---  \n",
       "1                        Giấy CN QSDĐ - Sổ đỏ - Sổ hồng  \n",
       "2                        Giấy CN QSDĐ - Sổ đỏ - Sổ hồng  \n",
       "3      Giấy CN QSDĐ - Sổ đỏ - Sổ hồng, Hợp đồng mua bán  \n",
       "4                        Giấy CN QSDĐ - Sổ đỏ - Sổ hồng  \n",
       "...                                                 ...  \n",
       "11934                    Giấy CN QSDĐ - Sổ đỏ - Sổ hồng  \n",
       "11935                    Giấy CN QSDĐ - Sổ đỏ - Sổ hồng  \n",
       "11936                    Giấy CN QSDĐ - Sổ đỏ - Sổ hồng  \n",
       "11937                                               ---  \n",
       "11938                    Giấy CN QSDĐ - Sổ đỏ - Sổ hồng  \n",
       "\n",
       "[11939 rows x 12 columns]"
      ]
     },
     "execution_count": 6,
     "metadata": {},
     "output_type": "execute_result"
    }
   ],
   "source": [
    "data"
   ]
  },
  {
   "cell_type": "markdown",
   "metadata": {
    "id": "YyevXwvbPmhT"
   },
   "source": [
    "# Khám phá và tiền xử lý cơ bản"
   ]
  },
  {
   "cell_type": "code",
   "execution_count": 7,
   "metadata": {
    "colab": {
     "base_uri": "https://localhost:8080/"
    },
    "id": "a9yNG5h9HUZZ",
    "outputId": "e378a134-01d5-406c-b49e-6852261fb261"
   },
   "outputs": [
    {
     "data": {
      "text/plain": [
       "Price                     5 Tỷ - 47.62 Triệu/m²\n",
       "Location     Thành phố Hạ Long, Tỉnh Quảng Ninh\n",
       "Area                                     105 m²\n",
       "Street                         Ngõ 2 ô tô tránh\n",
       "Facade                                       6m\n",
       "Direction                                   ---\n",
       "Saler                              Nhà môi giới\n",
       "Type              Biệt thự - Song lập - Đơn lập\n",
       "Floor                                       ---\n",
       "Bathrooms                                   ---\n",
       "Bedrooms                                     10\n",
       "Legal Doc        Giấy CN QSDĐ - Sổ đỏ - Sổ hồng\n",
       "Name: 5294, dtype: object"
      ]
     },
     "execution_count": 7,
     "metadata": {},
     "output_type": "execute_result"
    }
   ],
   "source": [
    "data.iloc[5294]"
   ]
  },
  {
   "cell_type": "code",
   "execution_count": 8,
   "metadata": {
    "id": "VkkN4fyIHUZa"
   },
   "outputs": [],
   "source": [
    "# data = data.drop([5294,7581])"
   ]
  },
  {
   "cell_type": "code",
   "execution_count": 9,
   "metadata": {
    "colab": {
     "base_uri": "https://localhost:8080/"
    },
    "id": "AUsDzi-AHUZb",
    "outputId": "3e00c88e-ad0c-4236-ab8e-4c073ad420c7"
   },
   "outputs": [
    {
     "data": {
      "text/plain": [
       "Price                                  4.04 Tỷ - 2.5 Triệu/m²\n",
       "Location                       Huyện Lương Sơn, Tỉnh Hoà Bình\n",
       "Area                                                 1,616 m²\n",
       "Street                                        Ngõ ô tô đỗ cửa\n",
       "Facade                                                    ---\n",
       "Direction                                                 ---\n",
       "Saler                                            Nhà môi giới\n",
       "Type                              Đất - Đất nền - Nhà như đất\n",
       "Floor                                                     ---\n",
       "Bathrooms                                                 ---\n",
       "Bedrooms                                                  ---\n",
       "Legal Doc    Giấy CN QSDĐ - Sổ đỏ - Sổ hồng, Hợp đồng mua bán\n",
       "Name: 6837, dtype: object"
      ]
     },
     "execution_count": 9,
     "metadata": {},
     "output_type": "execute_result"
    }
   ],
   "source": [
    "data.iloc[6837]"
   ]
  },
  {
   "cell_type": "code",
   "execution_count": 10,
   "metadata": {
    "id": "yFN77kVvHUZc"
   },
   "outputs": [],
   "source": [
    "for name in data.columns:\n",
    "    data[name].replace('---', np.NaN, inplace=True)"
   ]
  },
  {
   "cell_type": "code",
   "execution_count": 11,
   "metadata": {
    "colab": {
     "base_uri": "https://localhost:8080/"
    },
    "id": "sIuFbws0HUZd",
    "outputId": "11bf33fc-d927-4768-c0e1-33516a863b33"
   },
   "outputs": [
    {
     "data": {
      "text/plain": [
       "1185"
      ]
     },
     "execution_count": 11,
     "metadata": {},
     "output_type": "execute_result"
    }
   ],
   "source": [
    "num_row_dup = data.duplicated().sum()\n",
    "num_row_dup"
   ]
  },
  {
   "cell_type": "code",
   "execution_count": 12,
   "metadata": {
    "colab": {
     "base_uri": "https://localhost:8080/"
    },
    "id": "RmKNbVQ3HUZe",
    "outputId": "fd734e23-efad-4020-af0b-cc92dc19588d"
   },
   "outputs": [
    {
     "name": "stdout",
     "output_type": "stream",
     "text": [
      "<class 'pandas.core.frame.DataFrame'>\n",
      "Int64Index: 10754 entries, 0 to 11938\n",
      "Data columns (total 12 columns):\n",
      " #   Column     Non-Null Count  Dtype \n",
      "---  ------     --------------  ----- \n",
      " 0   Price      10754 non-null  object\n",
      " 1   Location   10754 non-null  object\n",
      " 2   Area       10647 non-null  object\n",
      " 3   Street     9624 non-null   object\n",
      " 4   Facade     5688 non-null   object\n",
      " 5   Direction  1948 non-null   object\n",
      " 6   Saler      10754 non-null  object\n",
      " 7   Type       10752 non-null  object\n",
      " 8   Floor      474 non-null    object\n",
      " 9   Bathrooms  2063 non-null   object\n",
      " 10  Bedrooms   4747 non-null   object\n",
      " 11  Legal Doc  9098 non-null   object\n",
      "dtypes: object(12)\n",
      "memory usage: 1.1+ MB\n"
     ]
    }
   ],
   "source": [
    "new_data = data.drop_duplicates()\n",
    "new_data.info()"
   ]
  },
  {
   "cell_type": "code",
   "execution_count": 13,
   "metadata": {
    "colab": {
     "base_uri": "https://localhost:8080/",
     "height": 589
    },
    "id": "YQnx9rpZHUZf",
    "outputId": "229d79a6-2e75-4d61-bc5a-28f9a4b0a63b"
   },
   "outputs": [
    {
     "data": {
      "text/html": [
       "<div>\n",
       "<style scoped>\n",
       "    .dataframe tbody tr th:only-of-type {\n",
       "        vertical-align: middle;\n",
       "    }\n",
       "\n",
       "    .dataframe tbody tr th {\n",
       "        vertical-align: top;\n",
       "    }\n",
       "\n",
       "    .dataframe thead th {\n",
       "        text-align: right;\n",
       "    }\n",
       "</style>\n",
       "<table border=\"1\" class=\"dataframe\">\n",
       "  <thead>\n",
       "    <tr style=\"text-align: right;\">\n",
       "      <th></th>\n",
       "      <th>Price</th>\n",
       "      <th>Location</th>\n",
       "      <th>Area</th>\n",
       "      <th>Street</th>\n",
       "      <th>Facade</th>\n",
       "      <th>Direction</th>\n",
       "      <th>Saler</th>\n",
       "      <th>Type</th>\n",
       "      <th>Floor</th>\n",
       "      <th>Bathrooms</th>\n",
       "      <th>Bedrooms</th>\n",
       "      <th>Legal Doc</th>\n",
       "    </tr>\n",
       "  </thead>\n",
       "  <tbody>\n",
       "    <tr>\n",
       "      <th>0</th>\n",
       "      <td>4.75 Tỷ - 52.78 Triệu/m²</td>\n",
       "      <td>Quận Sơn Trà, Thành phố Đà Nẵng</td>\n",
       "      <td>90 m²</td>\n",
       "      <td>Mặt phố - Mặt đường</td>\n",
       "      <td>5m</td>\n",
       "      <td>Đông Bắc</td>\n",
       "      <td>Nhà môi giới</td>\n",
       "      <td>Nhà ở</td>\n",
       "      <td>NaN</td>\n",
       "      <td>NaN</td>\n",
       "      <td>2</td>\n",
       "      <td>NaN</td>\n",
       "    </tr>\n",
       "    <tr>\n",
       "      <th>2</th>\n",
       "      <td>2.2 Tỷ - 56.41 Triệu/m²</td>\n",
       "      <td>Huyện Hoài Đức, Thành phố Hà Nội</td>\n",
       "      <td>39 m²</td>\n",
       "      <td>Ngõ 1 ô tô</td>\n",
       "      <td>3.5m</td>\n",
       "      <td>Tây</td>\n",
       "      <td>Chính chủ</td>\n",
       "      <td>Đất - Đất nền - Nhà như đất</td>\n",
       "      <td>NaN</td>\n",
       "      <td>NaN</td>\n",
       "      <td>NaN</td>\n",
       "      <td>Giấy CN QSDĐ - Sổ đỏ - Sổ hồng</td>\n",
       "    </tr>\n",
       "    <tr>\n",
       "      <th>3</th>\n",
       "      <td>770 Triệu - 14 Triệu/m²</td>\n",
       "      <td>Quận Thanh Xuân, Thành phố Hà Nội</td>\n",
       "      <td>55 m²</td>\n",
       "      <td>Ngõ 1 ô tô</td>\n",
       "      <td>NaN</td>\n",
       "      <td>NaN</td>\n",
       "      <td>Chính chủ</td>\n",
       "      <td>Chung cư, Chung cư mini</td>\n",
       "      <td>NaN</td>\n",
       "      <td>NaN</td>\n",
       "      <td>NaN</td>\n",
       "      <td>Giấy CN QSDĐ - Sổ đỏ - Sổ hồng, Hợp đồng mua bán</td>\n",
       "    </tr>\n",
       "    <tr>\n",
       "      <th>4</th>\n",
       "      <td>890 Triệu - 8.9 Triệu/m²</td>\n",
       "      <td>Huyện Bàu Bàng, Tỉnh Bình Dương</td>\n",
       "      <td>100 m²</td>\n",
       "      <td>Ngõ 4 ô tô trở lên</td>\n",
       "      <td>5m</td>\n",
       "      <td>Tây</td>\n",
       "      <td>Nhà môi giới</td>\n",
       "      <td>Đất - Đất nền - Nhà như đất</td>\n",
       "      <td>NaN</td>\n",
       "      <td>NaN</td>\n",
       "      <td>NaN</td>\n",
       "      <td>Giấy CN QSDĐ - Sổ đỏ - Sổ hồng</td>\n",
       "    </tr>\n",
       "    <tr>\n",
       "      <th>5</th>\n",
       "      <td>800 Triệu - 19.51 Triệu/m²</td>\n",
       "      <td>Huyện Gia Lâm, Thành phố Hà Nội</td>\n",
       "      <td>41 m²</td>\n",
       "      <td>Ngõ ngách</td>\n",
       "      <td>3.6m</td>\n",
       "      <td>NaN</td>\n",
       "      <td>Nhà môi giới</td>\n",
       "      <td>Đất - Đất nền - Nhà như đất</td>\n",
       "      <td>NaN</td>\n",
       "      <td>NaN</td>\n",
       "      <td>NaN</td>\n",
       "      <td>Giấy CN QSDĐ - Sổ đỏ - Sổ hồng</td>\n",
       "    </tr>\n",
       "    <tr>\n",
       "      <th>...</th>\n",
       "      <td>...</td>\n",
       "      <td>...</td>\n",
       "      <td>...</td>\n",
       "      <td>...</td>\n",
       "      <td>...</td>\n",
       "      <td>...</td>\n",
       "      <td>...</td>\n",
       "      <td>...</td>\n",
       "      <td>...</td>\n",
       "      <td>...</td>\n",
       "      <td>...</td>\n",
       "      <td>...</td>\n",
       "    </tr>\n",
       "    <tr>\n",
       "      <th>11934</th>\n",
       "      <td>2.25 Tỷ - 52.33 Triệu/m²</td>\n",
       "      <td>Quận Ninh Kiều, Thành phố Cần Thơ</td>\n",
       "      <td>43 m²</td>\n",
       "      <td>Ngõ 1 ô tô</td>\n",
       "      <td>6m</td>\n",
       "      <td>Tây Nam</td>\n",
       "      <td>Nhà môi giới</td>\n",
       "      <td>Nhà ở</td>\n",
       "      <td>NaN</td>\n",
       "      <td>2</td>\n",
       "      <td>2</td>\n",
       "      <td>Giấy CN QSDĐ - Sổ đỏ - Sổ hồng</td>\n",
       "    </tr>\n",
       "    <tr>\n",
       "      <th>11935</th>\n",
       "      <td>1.1 Tỷ - 33.33 Triệu/m²</td>\n",
       "      <td>Quận Hà Đông, Thành phố Hà Nội</td>\n",
       "      <td>33 m²</td>\n",
       "      <td>Ngõ 2 ô tô tránh</td>\n",
       "      <td>NaN</td>\n",
       "      <td>NaN</td>\n",
       "      <td>Chính chủ</td>\n",
       "      <td>Nhà ở</td>\n",
       "      <td>NaN</td>\n",
       "      <td>NaN</td>\n",
       "      <td>NaN</td>\n",
       "      <td>Giấy CN QSDĐ - Sổ đỏ - Sổ hồng</td>\n",
       "    </tr>\n",
       "    <tr>\n",
       "      <th>11936</th>\n",
       "      <td>1 Tỷ - 10 Triệu/m²</td>\n",
       "      <td>Huyện Lục Yên, Tỉnh Yên Bái</td>\n",
       "      <td>100 m²</td>\n",
       "      <td>Mặt phố - Mặt đường</td>\n",
       "      <td>NaN</td>\n",
       "      <td>NaN</td>\n",
       "      <td>Nhà môi giới</td>\n",
       "      <td>Đất - Đất nền - Nhà như đất</td>\n",
       "      <td>NaN</td>\n",
       "      <td>NaN</td>\n",
       "      <td>NaN</td>\n",
       "      <td>Giấy CN QSDĐ - Sổ đỏ - Sổ hồng</td>\n",
       "    </tr>\n",
       "    <tr>\n",
       "      <th>11937</th>\n",
       "      <td>25 Tỷ - 50 Triệu/m²</td>\n",
       "      <td>Thành phố Vũng Tàu, Tỉnh Bà Rịa - Vũng Tàu</td>\n",
       "      <td>500 m²</td>\n",
       "      <td>Mặt phố - Mặt đường</td>\n",
       "      <td>NaN</td>\n",
       "      <td>Đông Nam</td>\n",
       "      <td>Nhà môi giới</td>\n",
       "      <td>Đất - Đất nền - Nhà như đất</td>\n",
       "      <td>NaN</td>\n",
       "      <td>NaN</td>\n",
       "      <td>NaN</td>\n",
       "      <td>NaN</td>\n",
       "    </tr>\n",
       "    <tr>\n",
       "      <th>11938</th>\n",
       "      <td>8.5 Tỷ - 184.78 Triệu/m²</td>\n",
       "      <td>Quận Hà Đông, Thành phố Hà Nội</td>\n",
       "      <td>46 m²</td>\n",
       "      <td>Ngõ 2 ô tô tránh</td>\n",
       "      <td>4m</td>\n",
       "      <td>NaN</td>\n",
       "      <td>Nhà môi giới</td>\n",
       "      <td>Nhà ở</td>\n",
       "      <td>NaN</td>\n",
       "      <td>3</td>\n",
       "      <td>4</td>\n",
       "      <td>Giấy CN QSDĐ - Sổ đỏ - Sổ hồng</td>\n",
       "    </tr>\n",
       "  </tbody>\n",
       "</table>\n",
       "<p>10040 rows × 12 columns</p>\n",
       "</div>"
      ],
      "text/plain": [
       "                            Price                                    Location  \\\n",
       "0        4.75 Tỷ - 52.78 Triệu/m²             Quận Sơn Trà, Thành phố Đà Nẵng   \n",
       "2         2.2 Tỷ - 56.41 Triệu/m²            Huyện Hoài Đức, Thành phố Hà Nội   \n",
       "3         770 Triệu - 14 Triệu/m²           Quận Thanh Xuân, Thành phố Hà Nội   \n",
       "4        890 Triệu - 8.9 Triệu/m²             Huyện Bàu Bàng, Tỉnh Bình Dương   \n",
       "5      800 Triệu - 19.51 Triệu/m²             Huyện Gia Lâm, Thành phố Hà Nội   \n",
       "...                           ...                                         ...   \n",
       "11934    2.25 Tỷ - 52.33 Triệu/m²           Quận Ninh Kiều, Thành phố Cần Thơ   \n",
       "11935     1.1 Tỷ - 33.33 Triệu/m²              Quận Hà Đông, Thành phố Hà Nội   \n",
       "11936          1 Tỷ - 10 Triệu/m²                 Huyện Lục Yên, Tỉnh Yên Bái   \n",
       "11937         25 Tỷ - 50 Triệu/m²  Thành phố Vũng Tàu, Tỉnh Bà Rịa - Vũng Tàu   \n",
       "11938    8.5 Tỷ - 184.78 Triệu/m²              Quận Hà Đông, Thành phố Hà Nội   \n",
       "\n",
       "         Area               Street Facade Direction         Saler  \\\n",
       "0       90 m²  Mặt phố - Mặt đường     5m  Đông Bắc  Nhà môi giới   \n",
       "2       39 m²           Ngõ 1 ô tô   3.5m       Tây     Chính chủ   \n",
       "3       55 m²           Ngõ 1 ô tô    NaN       NaN     Chính chủ   \n",
       "4      100 m²   Ngõ 4 ô tô trở lên     5m       Tây  Nhà môi giới   \n",
       "5       41 m²            Ngõ ngách   3.6m       NaN  Nhà môi giới   \n",
       "...       ...                  ...    ...       ...           ...   \n",
       "11934   43 m²           Ngõ 1 ô tô     6m   Tây Nam  Nhà môi giới   \n",
       "11935   33 m²     Ngõ 2 ô tô tránh    NaN       NaN     Chính chủ   \n",
       "11936  100 m²  Mặt phố - Mặt đường    NaN       NaN  Nhà môi giới   \n",
       "11937  500 m²  Mặt phố - Mặt đường    NaN  Đông Nam  Nhà môi giới   \n",
       "11938   46 m²     Ngõ 2 ô tô tránh     4m       NaN  Nhà môi giới   \n",
       "\n",
       "                              Type Floor Bathrooms Bedrooms  \\\n",
       "0                            Nhà ở   NaN       NaN        2   \n",
       "2      Đất - Đất nền - Nhà như đất   NaN       NaN      NaN   \n",
       "3          Chung cư, Chung cư mini   NaN       NaN      NaN   \n",
       "4      Đất - Đất nền - Nhà như đất   NaN       NaN      NaN   \n",
       "5      Đất - Đất nền - Nhà như đất   NaN       NaN      NaN   \n",
       "...                            ...   ...       ...      ...   \n",
       "11934                        Nhà ở   NaN         2        2   \n",
       "11935                        Nhà ở   NaN       NaN      NaN   \n",
       "11936  Đất - Đất nền - Nhà như đất   NaN       NaN      NaN   \n",
       "11937  Đất - Đất nền - Nhà như đất   NaN       NaN      NaN   \n",
       "11938                        Nhà ở   NaN         3        4   \n",
       "\n",
       "                                              Legal Doc  \n",
       "0                                                   NaN  \n",
       "2                        Giấy CN QSDĐ - Sổ đỏ - Sổ hồng  \n",
       "3      Giấy CN QSDĐ - Sổ đỏ - Sổ hồng, Hợp đồng mua bán  \n",
       "4                        Giấy CN QSDĐ - Sổ đỏ - Sổ hồng  \n",
       "5                        Giấy CN QSDĐ - Sổ đỏ - Sổ hồng  \n",
       "...                                                 ...  \n",
       "11934                    Giấy CN QSDĐ - Sổ đỏ - Sổ hồng  \n",
       "11935                    Giấy CN QSDĐ - Sổ đỏ - Sổ hồng  \n",
       "11936                    Giấy CN QSDĐ - Sổ đỏ - Sổ hồng  \n",
       "11937                                               NaN  \n",
       "11938                    Giấy CN QSDĐ - Sổ đỏ - Sổ hồng  \n",
       "\n",
       "[10040 rows x 12 columns]"
      ]
     },
     "execution_count": 13,
     "metadata": {},
     "output_type": "execute_result"
    }
   ],
   "source": [
    "new_data = new_data[new_data.Price != 'Thương lượng']\n",
    "new_data"
   ]
  },
  {
   "cell_type": "code",
   "execution_count": 14,
   "metadata": {
    "colab": {
     "base_uri": "https://localhost:8080/",
     "height": 80
    },
    "id": "ohnH1wNOHUZg",
    "outputId": "30cea6e3-2e0a-4469-8003-0d040b60521c"
   },
   "outputs": [
    {
     "data": {
      "text/html": [
       "<div>\n",
       "<style scoped>\n",
       "    .dataframe tbody tr th:only-of-type {\n",
       "        vertical-align: middle;\n",
       "    }\n",
       "\n",
       "    .dataframe tbody tr th {\n",
       "        vertical-align: top;\n",
       "    }\n",
       "\n",
       "    .dataframe thead th {\n",
       "        text-align: right;\n",
       "    }\n",
       "</style>\n",
       "<table border=\"1\" class=\"dataframe\">\n",
       "  <thead>\n",
       "    <tr style=\"text-align: right;\">\n",
       "      <th></th>\n",
       "      <th>Price</th>\n",
       "      <th>Location</th>\n",
       "      <th>Area</th>\n",
       "      <th>Street</th>\n",
       "      <th>Facade</th>\n",
       "      <th>Direction</th>\n",
       "      <th>Saler</th>\n",
       "      <th>Type</th>\n",
       "      <th>Floor</th>\n",
       "      <th>Bathrooms</th>\n",
       "      <th>Bedrooms</th>\n",
       "      <th>Legal Doc</th>\n",
       "    </tr>\n",
       "  </thead>\n",
       "  <tbody>\n",
       "    <tr>\n",
       "      <th>7579</th>\n",
       "      <td>2,260,000 Tỷ - 29,736.84 Tỷ/m²</td>\n",
       "      <td>Thành phố Vũng Tàu, Tỉnh Bà Rịa - Vũng Tàu</td>\n",
       "      <td>76 m²</td>\n",
       "      <td>NaN</td>\n",
       "      <td>NaN</td>\n",
       "      <td>NaN</td>\n",
       "      <td>Nhà môi giới</td>\n",
       "      <td>Chung cư</td>\n",
       "      <td>NaN</td>\n",
       "      <td>NaN</td>\n",
       "      <td>NaN</td>\n",
       "      <td>NaN</td>\n",
       "    </tr>\n",
       "  </tbody>\n",
       "</table>\n",
       "</div>"
      ],
      "text/plain": [
       "                               Price  \\\n",
       "7579  2,260,000 Tỷ - 29,736.84 Tỷ/m²   \n",
       "\n",
       "                                        Location   Area Street Facade  \\\n",
       "7579  Thành phố Vũng Tàu, Tỉnh Bà Rịa - Vũng Tàu  76 m²    NaN    NaN   \n",
       "\n",
       "     Direction         Saler      Type Floor Bathrooms Bedrooms Legal Doc  \n",
       "7579       NaN  Nhà môi giới  Chung cư   NaN       NaN      NaN       NaN  "
      ]
     },
     "execution_count": 14,
     "metadata": {},
     "output_type": "execute_result"
    }
   ],
   "source": [
    "new_data[new_data['Price'] == '2,260,000 Tỷ - 29,736.84 Tỷ/m²']"
   ]
  },
  {
   "cell_type": "code",
   "execution_count": 15,
   "metadata": {
    "colab": {
     "base_uri": "https://localhost:8080/"
    },
    "id": "-04JneiNHUZg",
    "outputId": "53a96a0b-d5c9-4e75-afff-7a461420d63b"
   },
   "outputs": [
    {
     "data": {
      "text/plain": [
       "[('1,500,000', 'Tỷ', '10,714.29', 'Tỷ/m²')]"
      ]
     },
     "execution_count": 15,
     "metadata": {},
     "output_type": "execute_result"
    }
   ],
   "source": [
    "regexp = re.compile(r'(\\d+[.,]?\\d*[,.]?\\d*)\\s(\\w+)\\s?-?\\s?(\\d+[.,]?\\d*[,.]?\\d*)?\\s?(\\w+\\W\\w+)?')\n",
    "row = '1,500,000 Tỷ - 10,714.29 Tỷ/m²'\n",
    "matches = regexp.findall(row)\n",
    "matches"
   ]
  },
  {
   "cell_type": "code",
   "execution_count": 16,
   "metadata": {
    "id": "l8KJ6TpKHUZh"
   },
   "outputs": [],
   "source": [
    "def convert_Price_col(prices):\n",
    "    list_price = []\n",
    "    list_price_per_squarem = []\n",
    "    weird_index = []\n",
    "    \n",
    "    for index, price in enumerate(prices):\n",
    "        pr = float(regexp.sub(r'\\1', price).replace(\",\",\"\"))\n",
    "        if regexp.sub(r'\\2', price) == 'Triệu':\n",
    "            pr /= 1e3\n",
    "        pp = regexp.sub(r'\\3', price).replace(\",\",\"\")\n",
    "        p_unit = regexp.sub(r'\\4', price)\n",
    "        if pp == '':\n",
    "            pp = np.NaN\n",
    "        if p_unit != 'Triệu/m²':\n",
    "            weird_index.append(index)\n",
    "            if p_unit == 'Tỷ/m²':\n",
    "                pp = float(pp)*1e3\n",
    "            elif p_unit == 'Nghìn/m²':\n",
    "                pp = float(pp)/1e6\n",
    "        list_price.append(pr)\n",
    "        list_price_per_squarem.append(float(pp)) \n",
    "    return list_price, list_price_per_squarem, weird_index\n",
    "\n",
    "list_price, list_price_per_squarem, weird_index = convert_Price_col(list(new_data['Price']))"
   ]
  },
  {
   "cell_type": "code",
   "execution_count": 17,
   "metadata": {
    "colab": {
     "base_uri": "https://localhost:8080/"
    },
    "id": "aShOSlgbHUZi",
    "outputId": "7044a2fa-e21c-4166-8d0a-c9e8cda27e06"
   },
   "outputs": [
    {
     "data": {
      "text/plain": [
       "342"
      ]
     },
     "execution_count": 17,
     "metadata": {},
     "output_type": "execute_result"
    }
   ],
   "source": [
    "len(weird_index)"
   ]
  },
  {
   "cell_type": "code",
   "execution_count": 18,
   "metadata": {
    "id": "w4_1MHgLHUZj"
   },
   "outputs": [],
   "source": [
    "# for idx in weird_index:\n",
    "#     print(new_data.iloc[idx]['Price'])"
   ]
  },
  {
   "cell_type": "code",
   "execution_count": 19,
   "metadata": {
    "id": "xbqkaJGOHUZj"
   },
   "outputs": [],
   "source": [
    "new_data['Price(million/m_square)'] = list_price_per_squarem\n",
    "new_data['Price'] = list_price"
   ]
  },
  {
   "cell_type": "code",
   "execution_count": 20,
   "metadata": {
    "id": "cDSkorAsHUZj"
   },
   "outputs": [],
   "source": [
    "def convert_Area_col(row):\n",
    "    return float(row[:row.find('m²')].strip().replace(\",\",\"\"))\n",
    "\n",
    "new_data['Area'] = new_data['Area'].apply(lambda x : convert_Area_col(x) if x == x else x) \n",
    "new_data['Facade'] = new_data['Facade'].apply(lambda x : convert_Area_col(x) if x == x else x) "
   ]
  },
  {
   "cell_type": "markdown",
   "metadata": {
    "id": "iqhWvsPeHUZk"
   },
   "source": [
    "- Price: đơn vị tỷ"
   ]
  },
  {
   "cell_type": "code",
   "execution_count": 21,
   "metadata": {
    "colab": {
     "base_uri": "https://localhost:8080/",
     "height": 289
    },
    "id": "5UnGP_1oHUZk",
    "outputId": "f513cabe-e92f-4561-8f6e-ac8ecd303275"
   },
   "outputs": [
    {
     "data": {
      "text/html": [
       "<div>\n",
       "<style scoped>\n",
       "    .dataframe tbody tr th:only-of-type {\n",
       "        vertical-align: middle;\n",
       "    }\n",
       "\n",
       "    .dataframe tbody tr th {\n",
       "        vertical-align: top;\n",
       "    }\n",
       "\n",
       "    .dataframe thead th {\n",
       "        text-align: right;\n",
       "    }\n",
       "</style>\n",
       "<table border=\"1\" class=\"dataframe\">\n",
       "  <thead>\n",
       "    <tr style=\"text-align: right;\">\n",
       "      <th></th>\n",
       "      <th>Price</th>\n",
       "      <th>Location</th>\n",
       "      <th>Area</th>\n",
       "      <th>Street</th>\n",
       "      <th>Facade</th>\n",
       "      <th>Direction</th>\n",
       "      <th>Saler</th>\n",
       "      <th>Type</th>\n",
       "      <th>Floor</th>\n",
       "      <th>Bathrooms</th>\n",
       "      <th>Bedrooms</th>\n",
       "      <th>Legal Doc</th>\n",
       "      <th>Price(million/m_square)</th>\n",
       "    </tr>\n",
       "  </thead>\n",
       "  <tbody>\n",
       "    <tr>\n",
       "      <th>11934</th>\n",
       "      <td>2.25</td>\n",
       "      <td>Quận Ninh Kiều, Thành phố Cần Thơ</td>\n",
       "      <td>43.0</td>\n",
       "      <td>Ngõ 1 ô tô</td>\n",
       "      <td>6.0</td>\n",
       "      <td>Tây Nam</td>\n",
       "      <td>Nhà môi giới</td>\n",
       "      <td>Nhà ở</td>\n",
       "      <td>NaN</td>\n",
       "      <td>2</td>\n",
       "      <td>2</td>\n",
       "      <td>Giấy CN QSDĐ - Sổ đỏ - Sổ hồng</td>\n",
       "      <td>52.33</td>\n",
       "    </tr>\n",
       "    <tr>\n",
       "      <th>11935</th>\n",
       "      <td>1.10</td>\n",
       "      <td>Quận Hà Đông, Thành phố Hà Nội</td>\n",
       "      <td>33.0</td>\n",
       "      <td>Ngõ 2 ô tô tránh</td>\n",
       "      <td>NaN</td>\n",
       "      <td>NaN</td>\n",
       "      <td>Chính chủ</td>\n",
       "      <td>Nhà ở</td>\n",
       "      <td>NaN</td>\n",
       "      <td>NaN</td>\n",
       "      <td>NaN</td>\n",
       "      <td>Giấy CN QSDĐ - Sổ đỏ - Sổ hồng</td>\n",
       "      <td>33.33</td>\n",
       "    </tr>\n",
       "    <tr>\n",
       "      <th>11936</th>\n",
       "      <td>1.00</td>\n",
       "      <td>Huyện Lục Yên, Tỉnh Yên Bái</td>\n",
       "      <td>100.0</td>\n",
       "      <td>Mặt phố - Mặt đường</td>\n",
       "      <td>NaN</td>\n",
       "      <td>NaN</td>\n",
       "      <td>Nhà môi giới</td>\n",
       "      <td>Đất - Đất nền - Nhà như đất</td>\n",
       "      <td>NaN</td>\n",
       "      <td>NaN</td>\n",
       "      <td>NaN</td>\n",
       "      <td>Giấy CN QSDĐ - Sổ đỏ - Sổ hồng</td>\n",
       "      <td>10.00</td>\n",
       "    </tr>\n",
       "    <tr>\n",
       "      <th>11937</th>\n",
       "      <td>25.00</td>\n",
       "      <td>Thành phố Vũng Tàu, Tỉnh Bà Rịa - Vũng Tàu</td>\n",
       "      <td>500.0</td>\n",
       "      <td>Mặt phố - Mặt đường</td>\n",
       "      <td>NaN</td>\n",
       "      <td>Đông Nam</td>\n",
       "      <td>Nhà môi giới</td>\n",
       "      <td>Đất - Đất nền - Nhà như đất</td>\n",
       "      <td>NaN</td>\n",
       "      <td>NaN</td>\n",
       "      <td>NaN</td>\n",
       "      <td>NaN</td>\n",
       "      <td>50.00</td>\n",
       "    </tr>\n",
       "    <tr>\n",
       "      <th>11938</th>\n",
       "      <td>8.50</td>\n",
       "      <td>Quận Hà Đông, Thành phố Hà Nội</td>\n",
       "      <td>46.0</td>\n",
       "      <td>Ngõ 2 ô tô tránh</td>\n",
       "      <td>4.0</td>\n",
       "      <td>NaN</td>\n",
       "      <td>Nhà môi giới</td>\n",
       "      <td>Nhà ở</td>\n",
       "      <td>NaN</td>\n",
       "      <td>3</td>\n",
       "      <td>4</td>\n",
       "      <td>Giấy CN QSDĐ - Sổ đỏ - Sổ hồng</td>\n",
       "      <td>184.78</td>\n",
       "    </tr>\n",
       "  </tbody>\n",
       "</table>\n",
       "</div>"
      ],
      "text/plain": [
       "       Price                                    Location   Area  \\\n",
       "11934   2.25           Quận Ninh Kiều, Thành phố Cần Thơ   43.0   \n",
       "11935   1.10              Quận Hà Đông, Thành phố Hà Nội   33.0   \n",
       "11936   1.00                 Huyện Lục Yên, Tỉnh Yên Bái  100.0   \n",
       "11937  25.00  Thành phố Vũng Tàu, Tỉnh Bà Rịa - Vũng Tàu  500.0   \n",
       "11938   8.50              Quận Hà Đông, Thành phố Hà Nội   46.0   \n",
       "\n",
       "                    Street  Facade Direction         Saler  \\\n",
       "11934           Ngõ 1 ô tô     6.0   Tây Nam  Nhà môi giới   \n",
       "11935     Ngõ 2 ô tô tránh     NaN       NaN     Chính chủ   \n",
       "11936  Mặt phố - Mặt đường     NaN       NaN  Nhà môi giới   \n",
       "11937  Mặt phố - Mặt đường     NaN  Đông Nam  Nhà môi giới   \n",
       "11938     Ngõ 2 ô tô tránh     4.0       NaN  Nhà môi giới   \n",
       "\n",
       "                              Type Floor Bathrooms Bedrooms  \\\n",
       "11934                        Nhà ở   NaN         2        2   \n",
       "11935                        Nhà ở   NaN       NaN      NaN   \n",
       "11936  Đất - Đất nền - Nhà như đất   NaN       NaN      NaN   \n",
       "11937  Đất - Đất nền - Nhà như đất   NaN       NaN      NaN   \n",
       "11938                        Nhà ở   NaN         3        4   \n",
       "\n",
       "                            Legal Doc  Price(million/m_square)  \n",
       "11934  Giấy CN QSDĐ - Sổ đỏ - Sổ hồng                    52.33  \n",
       "11935  Giấy CN QSDĐ - Sổ đỏ - Sổ hồng                    33.33  \n",
       "11936  Giấy CN QSDĐ - Sổ đỏ - Sổ hồng                    10.00  \n",
       "11937                             NaN                    50.00  \n",
       "11938  Giấy CN QSDĐ - Sổ đỏ - Sổ hồng                   184.78  "
      ]
     },
     "execution_count": 21,
     "metadata": {},
     "output_type": "execute_result"
    }
   ],
   "source": [
    "new_data.tail(5)"
   ]
  },
  {
   "cell_type": "code",
   "execution_count": 22,
   "metadata": {
    "id": "NdC9SYnpHUZk"
   },
   "outputs": [],
   "source": [
    "new_data['Floor'] = new_data['Floor'].astype(float)\n",
    "new_data['Bedrooms'] = new_data['Bedrooms'].astype(float)\n",
    "new_data['Bathrooms'] = new_data['Bathrooms'].astype(float)"
   ]
  },
  {
   "cell_type": "code",
   "execution_count": 23,
   "metadata": {
    "colab": {
     "base_uri": "https://localhost:8080/"
    },
    "id": "NoxwdsliHUZl",
    "outputId": "3835850c-7095-47e8-ba09-1b6a279c8074"
   },
   "outputs": [
    {
     "name": "stdout",
     "output_type": "stream",
     "text": [
      "<class 'pandas.core.frame.DataFrame'>\n",
      "Int64Index: 10040 entries, 0 to 11938\n",
      "Data columns (total 13 columns):\n",
      " #   Column                   Non-Null Count  Dtype  \n",
      "---  ------                   --------------  -----  \n",
      " 0   Price                    10040 non-null  float64\n",
      " 1   Location                 10040 non-null  object \n",
      " 2   Area                     10007 non-null  float64\n",
      " 3   Street                   9026 non-null   object \n",
      " 4   Facade                   5417 non-null   float64\n",
      " 5   Direction                1845 non-null   object \n",
      " 6   Saler                    10040 non-null  object \n",
      " 7   Type                     10040 non-null  object \n",
      " 8   Floor                    465 non-null    float64\n",
      " 9   Bathrooms                1996 non-null   float64\n",
      " 10  Bedrooms                 4579 non-null   float64\n",
      " 11  Legal Doc                8541 non-null   object \n",
      " 12  Price(million/m_square)  10007 non-null  float64\n",
      "dtypes: float64(7), object(6)\n",
      "memory usage: 1.1+ MB\n"
     ]
    }
   ],
   "source": [
    "new_data.info()"
   ]
  },
  {
   "cell_type": "code",
   "execution_count": 24,
   "metadata": {
    "colab": {
     "base_uri": "https://localhost:8080/",
     "height": 312
    },
    "id": "Lvin_I_zHUZl",
    "outputId": "7709ff0e-c721-4342-f8ce-05f874b91347"
   },
   "outputs": [
    {
     "data": {
      "text/html": [
       "<div>\n",
       "<style scoped>\n",
       "    .dataframe tbody tr th:only-of-type {\n",
       "        vertical-align: middle;\n",
       "    }\n",
       "\n",
       "    .dataframe tbody tr th {\n",
       "        vertical-align: top;\n",
       "    }\n",
       "\n",
       "    .dataframe thead th {\n",
       "        text-align: right;\n",
       "    }\n",
       "</style>\n",
       "<table border=\"1\" class=\"dataframe\">\n",
       "  <thead>\n",
       "    <tr style=\"text-align: right;\">\n",
       "      <th></th>\n",
       "      <th>Location</th>\n",
       "      <th>Street</th>\n",
       "      <th>Direction</th>\n",
       "      <th>Saler</th>\n",
       "      <th>Type</th>\n",
       "      <th>Legal Doc</th>\n",
       "    </tr>\n",
       "  </thead>\n",
       "  <tbody>\n",
       "    <tr>\n",
       "      <th>missing_ratio</th>\n",
       "      <td>0</td>\n",
       "      <td>10.0996</td>\n",
       "      <td>81.6235</td>\n",
       "      <td>0</td>\n",
       "      <td>0</td>\n",
       "      <td>14.9303</td>\n",
       "    </tr>\n",
       "    <tr>\n",
       "      <th>nunique</th>\n",
       "      <td>300</td>\n",
       "      <td>8</td>\n",
       "      <td>37</td>\n",
       "      <td>8</td>\n",
       "      <td>194</td>\n",
       "      <td>15</td>\n",
       "    </tr>\n",
       "    <tr>\n",
       "      <th>top10_value_counts</th>\n",
       "      <td>{'Quận Hà Đông, Thành phố Hà Nội': 630, 'Quận Đống Đa, Thành phố Hà Nội': 562, 'Quận Thanh Xuân, Thành phố Hà Nội': 513, 'Quận Cầu Giấy, Thành phố Hà Nội': 434, 'Quận Hoàng Mai, Thành phố Hà Nội': 361, 'Quận Bắc Từ Liêm, Thành phố Hà Nội': 354, 'Quận Hai Bà Trưng, Thành phố Hà Nội': 304, 'Quận Long Biên, Thành phố Hà Nội': 292, 'Thành phố Vũng Tàu, Tỉnh Bà Rịa - Vũng Tàu': 272, 'Quận Tây Hồ, Thành phố Hà Nội': 267}</td>\n",
       "      <td>{'Mặt phố - Mặt đường': 3329, 'Ngõ ô tô đỗ cửa': 1497, 'Ngõ 2 ô tô tránh': 1454, 'Ngõ ngách': 1445, 'Ngõ 1 ô tô': 1062, 'Ngõ 3 ô tô tránh': 174, 'Ngõ 4 ô tô trở lên': 45, 'Ngõ 4 ô tô tránh': 20}</td>\n",
       "      <td>{'Đông Nam': 365, 'Đông Bắc': 234, 'Tây Nam': 224, 'Tây Bắc': 221, 'Nam': 179, 'Đông': 136, 'Bắc': 117, 'Đông Tứ Trạch': 108, 'Tây Tứ Trạch': 81, 'Tây': 75}</td>\n",
       "      <td>{'Nhà môi giới': 7752, 'Chính chủ': 1839, 'Khách vãng lai': 181, 'Sàn bất động sản': 105, 'Chủ đầu tư': 98, 'Quảng cáo': 37, 'Nhà đầu tư': 27, 'Ngân Hàng': 1}</td>\n",
       "      <td>{'Nhà ở': 4719, 'Đất - Đất nền - Nhà như đất': 2684, 'Chung cư': 814, 'Biệt thự - Song lập - Đơn lập': 276, 'Nhà liền kề - Song lập - Đơn lập': 181, 'Shophouse - Nhà phố': 125, 'Nhà cấp 4': 120, 'Chung cư mini': 102, 'Nhà ở, Nhà liền kề - Song lập - Đơn lập': 51, 'Nhà ở, Đất - Đất nền - Nhà như đất': 48}</td>\n",
       "      <td>{'Giấy CN QSDĐ - Sổ đỏ - Sổ hồng': 8050, 'Giấy CN QSDĐ - Sổ đỏ - Sổ hồng, Hợp đồng mua bán': 314, 'Hợp đồng mua bán': 145, 'Đang làm giấy CN QSDĐ': 6, 'Đã có giấy hẹn lấy số': 5, 'Giấy CN QSDĐ - Sổ đỏ - Sổ hồng, Hợp đồng mua bán, Giấy tờ chứng minh nguồn gốc': 5, 'Hợp đồng góp vốn': 4, 'Giấy CN QSDĐ - Sổ đỏ - Sổ hồng, Hợp đồng mua bán, Hợp đồng góp vốn': 3, 'Giấy CN QSDĐ - Sổ đỏ - Sổ hồng, Giấy tờ chứng minh nguồn gốc': 2, 'Đất giao - Đất phân': 2}</td>\n",
       "    </tr>\n",
       "  </tbody>\n",
       "</table>\n",
       "</div>"
      ],
      "text/plain": [
       "                                                                                                                                                                                                                                                                                                                                                                                                                                              Location  \\\n",
       "missing_ratio                                                                                                                                                                                                                                                                                                                                                                                                                                        0   \n",
       "nunique                                                                                                                                                                                                                                                                                                                                                                                                                                            300   \n",
       "top10_value_counts  {'Quận Hà Đông, Thành phố Hà Nội': 630, 'Quận Đống Đa, Thành phố Hà Nội': 562, 'Quận Thanh Xuân, Thành phố Hà Nội': 513, 'Quận Cầu Giấy, Thành phố Hà Nội': 434, 'Quận Hoàng Mai, Thành phố Hà Nội': 361, 'Quận Bắc Từ Liêm, Thành phố Hà Nội': 354, 'Quận Hai Bà Trưng, Thành phố Hà Nội': 304, 'Quận Long Biên, Thành phố Hà Nội': 292, 'Thành phố Vũng Tàu, Tỉnh Bà Rịa - Vũng Tàu': 272, 'Quận Tây Hồ, Thành phố Hà Nội': 267}   \n",
       "\n",
       "                                                                                                                                                                                                                Street  \\\n",
       "missing_ratio                                                                                                                                                                                                  10.0996   \n",
       "nunique                                                                                                                                                                                                              8   \n",
       "top10_value_counts  {'Mặt phố - Mặt đường': 3329, 'Ngõ ô tô đỗ cửa': 1497, 'Ngõ 2 ô tô tránh': 1454, 'Ngõ ngách': 1445, 'Ngõ 1 ô tô': 1062, 'Ngõ 3 ô tô tránh': 174, 'Ngõ 4 ô tô trở lên': 45, 'Ngõ 4 ô tô tránh': 20}   \n",
       "\n",
       "                                                                                                                                                                       Direction  \\\n",
       "missing_ratio                                                                                                                                                            81.6235   \n",
       "nunique                                                                                                                                                                       37   \n",
       "top10_value_counts  {'Đông Nam': 365, 'Đông Bắc': 234, 'Tây Nam': 224, 'Tây Bắc': 221, 'Nam': 179, 'Đông': 136, 'Bắc': 117, 'Đông Tứ Trạch': 108, 'Tây Tứ Trạch': 81, 'Tây': 75}   \n",
       "\n",
       "                                                                                                                                                                             Saler  \\\n",
       "missing_ratio                                                                                                                                                                    0   \n",
       "nunique                                                                                                                                                                          8   \n",
       "top10_value_counts  {'Nhà môi giới': 7752, 'Chính chủ': 1839, 'Khách vãng lai': 181, 'Sàn bất động sản': 105, 'Chủ đầu tư': 98, 'Quảng cáo': 37, 'Nhà đầu tư': 27, 'Ngân Hàng': 1}   \n",
       "\n",
       "                                                                                                                                                                                                                                                                                                                                 Type  \\\n",
       "missing_ratio                                                                                                                                                                                                                                                                                                                       0   \n",
       "nunique                                                                                                                                                                                                                                                                                                                           194   \n",
       "top10_value_counts  {'Nhà ở': 4719, 'Đất - Đất nền - Nhà như đất': 2684, 'Chung cư': 814, 'Biệt thự - Song lập - Đơn lập': 276, 'Nhà liền kề - Song lập - Đơn lập': 181, 'Shophouse - Nhà phố': 125, 'Nhà cấp 4': 120, 'Chung cư mini': 102, 'Nhà ở, Nhà liền kề - Song lập - Đơn lập': 51, 'Nhà ở, Đất - Đất nền - Nhà như đất': 48}   \n",
       "\n",
       "                                                                                                                                                                                                                                                                                                                                                                                                                                                                               Legal Doc  \n",
       "missing_ratio                                                                                                                                                                                                                                                                                                                                                                                                                                                                    14.9303  \n",
       "nunique                                                                                                                                                                                                                                                                                                                                                                                                                                                                               15  \n",
       "top10_value_counts  {'Giấy CN QSDĐ - Sổ đỏ - Sổ hồng': 8050, 'Giấy CN QSDĐ - Sổ đỏ - Sổ hồng, Hợp đồng mua bán': 314, 'Hợp đồng mua bán': 145, 'Đang làm giấy CN QSDĐ': 6, 'Đã có giấy hẹn lấy số': 5, 'Giấy CN QSDĐ - Sổ đỏ - Sổ hồng, Hợp đồng mua bán, Giấy tờ chứng minh nguồn gốc': 5, 'Hợp đồng góp vốn': 4, 'Giấy CN QSDĐ - Sổ đỏ - Sổ hồng, Hợp đồng mua bán, Hợp đồng góp vốn': 3, 'Giấy CN QSDĐ - Sổ đỏ - Sổ hồng, Giấy tờ chứng minh nguồn gốc': 2, 'Đất giao - Đất phân': 2}  "
      ]
     },
     "execution_count": 24,
     "metadata": {},
     "output_type": "execute_result"
    }
   ],
   "source": [
    "cat_col_df = new_data.select_dtypes(include='object')\n",
    "\n",
    "def missing_ratio(col):\n",
    "    return col.isna().mean()*100\n",
    "\n",
    "def top10_value_counts(col):\n",
    "    return dict(col.value_counts()[:10])\n",
    "\n",
    "category_stat = cat_col_df.agg([missing_ratio, pd.Series.nunique, top10_value_counts])\n",
    "pd.set_option('display.max_colwidth', 1000)\n",
    "category_stat"
   ]
  },
  {
   "cell_type": "code",
   "execution_count": 25,
   "metadata": {
    "colab": {
     "base_uri": "https://localhost:8080/",
     "height": 235
    },
    "id": "Mifp0XPpHUZl",
    "outputId": "bd2c8d9f-03b0-4804-f995-74b98a2a9b7c"
   },
   "outputs": [
    {
     "data": {
      "text/html": [
       "<div>\n",
       "<style scoped>\n",
       "    .dataframe tbody tr th:only-of-type {\n",
       "        vertical-align: middle;\n",
       "    }\n",
       "\n",
       "    .dataframe tbody tr th {\n",
       "        vertical-align: top;\n",
       "    }\n",
       "\n",
       "    .dataframe thead th {\n",
       "        text-align: right;\n",
       "    }\n",
       "</style>\n",
       "<table border=\"1\" class=\"dataframe\">\n",
       "  <thead>\n",
       "    <tr style=\"text-align: right;\">\n",
       "      <th></th>\n",
       "      <th>Price</th>\n",
       "      <th>Area</th>\n",
       "      <th>Facade</th>\n",
       "      <th>Floor</th>\n",
       "      <th>Bathrooms</th>\n",
       "      <th>Bedrooms</th>\n",
       "      <th>Price(million/m_square)</th>\n",
       "    </tr>\n",
       "  </thead>\n",
       "  <tbody>\n",
       "    <tr>\n",
       "      <th>missing_ratio</th>\n",
       "      <td>0.000000e+00</td>\n",
       "      <td>0.328685</td>\n",
       "      <td>46.045817</td>\n",
       "      <td>95.368526</td>\n",
       "      <td>80.119522</td>\n",
       "      <td>54.39243</td>\n",
       "      <td>3.286853e-01</td>\n",
       "    </tr>\n",
       "    <tr>\n",
       "      <th>min</th>\n",
       "      <td>1.000000e-03</td>\n",
       "      <td>1.200000</td>\n",
       "      <td>1.000000</td>\n",
       "      <td>1.000000</td>\n",
       "      <td>1.000000</td>\n",
       "      <td>1.00000</td>\n",
       "      <td>1.280000e-06</td>\n",
       "    </tr>\n",
       "    <tr>\n",
       "      <th>median</th>\n",
       "      <td>3.600000e+00</td>\n",
       "      <td>72.000000</td>\n",
       "      <td>5.000000</td>\n",
       "      <td>4.000000</td>\n",
       "      <td>3.000000</td>\n",
       "      <td>3.00000</td>\n",
       "      <td>6.650000e+01</td>\n",
       "    </tr>\n",
       "    <tr>\n",
       "      <th>lower_quantile</th>\n",
       "      <td>1.870000e+00</td>\n",
       "      <td>46.000000</td>\n",
       "      <td>4.000000</td>\n",
       "      <td>3.000000</td>\n",
       "      <td>2.000000</td>\n",
       "      <td>2.00000</td>\n",
       "      <td>1.900000e+01</td>\n",
       "    </tr>\n",
       "    <tr>\n",
       "      <th>upper_quantile</th>\n",
       "      <td>6.500000e+00</td>\n",
       "      <td>118.000000</td>\n",
       "      <td>6.000000</td>\n",
       "      <td>5.000000</td>\n",
       "      <td>4.000000</td>\n",
       "      <td>4.00000</td>\n",
       "      <td>1.095050e+02</td>\n",
       "    </tr>\n",
       "    <tr>\n",
       "      <th>max</th>\n",
       "      <td>1.130000e+09</td>\n",
       "      <td>500000.000000</td>\n",
       "      <td>613.000000</td>\n",
       "      <td>50.000000</td>\n",
       "      <td>50.000000</td>\n",
       "      <td>111.00000</td>\n",
       "      <td>1.113000e+08</td>\n",
       "    </tr>\n",
       "  </tbody>\n",
       "</table>\n",
       "</div>"
      ],
      "text/plain": [
       "                       Price           Area      Facade      Floor  Bathrooms  \\\n",
       "missing_ratio   0.000000e+00       0.328685   46.045817  95.368526  80.119522   \n",
       "min             1.000000e-03       1.200000    1.000000   1.000000   1.000000   \n",
       "median          3.600000e+00      72.000000    5.000000   4.000000   3.000000   \n",
       "lower_quantile  1.870000e+00      46.000000    4.000000   3.000000   2.000000   \n",
       "upper_quantile  6.500000e+00     118.000000    6.000000   5.000000   4.000000   \n",
       "max             1.130000e+09  500000.000000  613.000000  50.000000  50.000000   \n",
       "\n",
       "                 Bedrooms  Price(million/m_square)  \n",
       "missing_ratio    54.39243             3.286853e-01  \n",
       "min               1.00000             1.280000e-06  \n",
       "median            3.00000             6.650000e+01  \n",
       "lower_quantile    2.00000             1.900000e+01  \n",
       "upper_quantile    4.00000             1.095050e+02  \n",
       "max             111.00000             1.113000e+08  "
      ]
     },
     "execution_count": 25,
     "metadata": {},
     "output_type": "execute_result"
    }
   ],
   "source": [
    "numeric_cols_df = new_data.select_dtypes(exclude='object')\n",
    "\n",
    "def median(col):\n",
    "    return col.quantile(0.5)\n",
    "\n",
    "def lower_quantile(col):\n",
    "    return col.quantile(0.25)\n",
    "\n",
    "def upper_quantile(col):\n",
    "    return col.quantile(0.75)\n",
    "\n",
    "numeric_cols_df.agg([missing_ratio, min, median, lower_quantile, upper_quantile,max])"
   ]
  },
  {
   "cell_type": "code",
   "execution_count": 26,
   "metadata": {
    "id": "fQnEs_TdHUZm"
   },
   "outputs": [],
   "source": [
    "# new_data.drop(new_data.index[new_data['Price'] == 3.750000e+09], inplace = True)"
   ]
  },
  {
   "cell_type": "code",
   "execution_count": 27,
   "metadata": {
    "colab": {
     "base_uri": "https://localhost:8080/"
    },
    "id": "pxTrRb08HUZm",
    "outputId": "7b944803-9402-4f44-b218-646216b2a98a"
   },
   "outputs": [
    {
     "data": {
      "text/plain": [
       "(10040, 13)"
      ]
     },
     "execution_count": 27,
     "metadata": {},
     "output_type": "execute_result"
    }
   ],
   "source": [
    "new_data.shape"
   ]
  },
  {
   "cell_type": "code",
   "execution_count": 28,
   "metadata": {
    "colab": {
     "base_uri": "https://localhost:8080/"
    },
    "id": "H_GAAba5HUZm",
    "outputId": "41fcdfd3-7eee-4896-c39e-0837f33687b5"
   },
   "outputs": [
    {
     "name": "stdout",
     "output_type": "stream",
     "text": [
      "<class 'pandas.core.frame.DataFrame'>\n",
      "Int64Index: 10040 entries, 0 to 11938\n",
      "Data columns (total 13 columns):\n",
      " #   Column                   Non-Null Count  Dtype  \n",
      "---  ------                   --------------  -----  \n",
      " 0   Price                    10040 non-null  float64\n",
      " 1   Location                 10040 non-null  object \n",
      " 2   Area                     10007 non-null  float64\n",
      " 3   Street                   9026 non-null   object \n",
      " 4   Facade                   5417 non-null   float64\n",
      " 5   Direction                1845 non-null   object \n",
      " 6   Saler                    10040 non-null  object \n",
      " 7   Type                     10040 non-null  object \n",
      " 8   Floor                    465 non-null    float64\n",
      " 9   Bathrooms                1996 non-null   float64\n",
      " 10  Bedrooms                 4579 non-null   float64\n",
      " 11  Legal Doc                8541 non-null   object \n",
      " 12  Price(million/m_square)  10007 non-null  float64\n",
      "dtypes: float64(7), object(6)\n",
      "memory usage: 1.1+ MB\n"
     ]
    }
   ],
   "source": [
    "new_data.info()"
   ]
  },
  {
   "cell_type": "code",
   "execution_count": 29,
   "metadata": {
    "colab": {
     "base_uri": "https://localhost:8080/",
     "height": 480
    },
    "id": "3lyRjo0kHUZm",
    "outputId": "72f2a253-3a2b-4752-8b76-88bb9269857c"
   },
   "outputs": [
    {
     "data": {
      "image/png": "[encoded data removed]",
      "text/plain": [
       "<Figure size 1152x504 with 2 Axes>"
      ]
     },
     "metadata": {
      "needs_background": "light"
     },
     "output_type": "display_data"
    }
   ],
   "source": [
    "fig, ax = plt.subplots(1,2,figsize=(16,7))\n",
    "sns.barplot(x=new_data['Street'].dropna().unique(),y =new_data['Street'].value_counts(), ax=ax[0])\n",
    "ax[0].set_xticklabels(ax[0].get_xticklabels(),rotation=30)\n",
    "sns.barplot(x=new_data['Saler'].dropna().unique(),y =new_data['Saler'].value_counts(), ax=ax[1])\n",
    "ax[1].set_xticklabels(ax[1].get_xticklabels(),rotation=30)\n",
    "plt.show()"
   ]
  },
  {
   "cell_type": "code",
   "execution_count": 30,
   "metadata": {
    "colab": {
     "base_uri": "https://localhost:8080/"
    },
    "id": "zzLqyUAIHUZn",
    "outputId": "c21bc6e7-0a6f-488c-9024-d13e76c6003b"
   },
   "outputs": [
    {
     "data": {
      "text/plain": [
       "Mặt phố - Mặt đường    3329\n",
       "Ngõ ô tô đỗ cửa        1497\n",
       "Ngõ 2 ô tô tránh       1454\n",
       "Ngõ ngách              1445\n",
       "Ngõ 1 ô tô             1062\n",
       "Ngõ 3 ô tô tránh        174\n",
       "Ngõ 4 ô tô trở lên       45\n",
       "Ngõ 4 ô tô tránh         20\n",
       "Name: Street, dtype: int64"
      ]
     },
     "execution_count": 30,
     "metadata": {},
     "output_type": "execute_result"
    }
   ],
   "source": [
    "new_data['Street'].value_counts()"
   ]
  },
  {
   "cell_type": "code",
   "execution_count": 31,
   "metadata": {
    "id": "SgoHM7L2HUZn"
   },
   "outputs": [],
   "source": [
    "# dict(new_data['Type'].value_counts())"
   ]
  },
  {
   "cell_type": "code",
   "execution_count": 32,
   "metadata": {
    "id": "62eyZ2T1HUZn"
   },
   "outputs": [],
   "source": [
    "new_data.Type.replace(['Chung cư, Chung cư mini', 'Chung cư, Chung cư mini', 'Biệt thự - Song lập - Đơn lập','Biệt thự du lịch','Nhà cấp 4'],\\\n",
    "                        ['Chung cư mini','Chung cư mini', 'Biệt thự','Biệt thự','Nhà ở' ],inplace=True)"
   ]
  },
  {
   "cell_type": "code",
   "execution_count": 33,
   "metadata": {
    "id": "9Na_6dBKHUZn"
   },
   "outputs": [],
   "source": [
    "list_type = list(new_data['Type'])\n",
    "for i in range(len(list_type)):\n",
    "    list_type[i] = list_type[i].split(',')[0]"
   ]
  },
  {
   "cell_type": "code",
   "execution_count": 34,
   "metadata": {
    "id": "lPtdguEAHUZn"
   },
   "outputs": [],
   "source": [
    "new_data['Type'] = list_type"
   ]
  },
  {
   "cell_type": "code",
   "execution_count": 35,
   "metadata": {
    "colab": {
     "base_uri": "https://localhost:8080/"
    },
    "id": "TDW8j2CrHUZn",
    "outputId": "36ae5e0f-54b9-4a3d-c070-1f1c4a780955"
   },
   "outputs": [
    {
     "data": {
      "text/plain": [
       "25"
      ]
     },
     "execution_count": 35,
     "metadata": {},
     "output_type": "execute_result"
    }
   ],
   "source": [
    "len(new_data['Type'].value_counts())"
   ]
  },
  {
   "cell_type": "code",
   "execution_count": 36,
   "metadata": {
    "colab": {
     "base_uri": "https://localhost:8080/"
    },
    "id": "hdOWcMXSHUZo",
    "outputId": "4985fb0d-206a-41d9-afe8-7d1b0c771ff7"
   },
   "outputs": [
    {
     "data": {
      "text/plain": [
       "{'Nhà ở': 5263,\n",
       " 'Đất - Đất nền - Nhà như đất': 2786,\n",
       " 'Chung cư': 856,\n",
       " 'Biệt thự': 276,\n",
       " 'Nhà liền kề - Song lập - Đơn lập': 191,\n",
       " 'Chung cư mini': 155,\n",
       " 'Shophouse - Nhà phố': 137,\n",
       " 'Biệt thự - Song lập - Đơn lập': 83,\n",
       " 'Nhà cấp 4': 71,\n",
       " 'Khách sạn - Nhà nghỉ': 34,\n",
       " 'Bất động sản khác': 33,\n",
       " 'Phòng trọ/ Nhà trọ': 29,\n",
       " 'Dự án BĐS - Khu nghỉ dưỡng - Resort': 23,\n",
       " 'Mặt bằng thương mại': 21,\n",
       " 'Toà nhà văn phòng': 18,\n",
       " 'Căn hộ du lịch - Condotel': 14,\n",
       " 'Kho bãi - Nhà xưởng': 10,\n",
       " 'Tập thể': 9,\n",
       " 'Căn hộ cho thuê': 9,\n",
       " 'Nhà hàng - Cửa hàng - Ki ốt': 6,\n",
       " 'Trang trại': 5,\n",
       " 'Căn hộ dịch vụ - Homestay': 5,\n",
       " 'Biệt thự du lịch': 3,\n",
       " 'Sàn văn phòng': 2,\n",
       " 'Karaoke': 1}"
      ]
     },
     "execution_count": 36,
     "metadata": {},
     "output_type": "execute_result"
    }
   ],
   "source": [
    "dict(new_data['Type'].value_counts())"
   ]
  },
  {
   "cell_type": "code",
   "execution_count": 37,
   "metadata": {
    "colab": {
     "base_uri": "https://localhost:8080/",
     "height": 589
    },
    "id": "PwAEjdjPHUZo",
    "outputId": "aea819c8-667d-40c8-b2e1-1175b6570266"
   },
   "outputs": [
    {
     "data": {
      "text/html": [
       "<div>\n",
       "<style scoped>\n",
       "    .dataframe tbody tr th:only-of-type {\n",
       "        vertical-align: middle;\n",
       "    }\n",
       "\n",
       "    .dataframe tbody tr th {\n",
       "        vertical-align: top;\n",
       "    }\n",
       "\n",
       "    .dataframe thead th {\n",
       "        text-align: right;\n",
       "    }\n",
       "</style>\n",
       "<table border=\"1\" class=\"dataframe\">\n",
       "  <thead>\n",
       "    <tr style=\"text-align: right;\">\n",
       "      <th></th>\n",
       "      <th>Price</th>\n",
       "      <th>Location</th>\n",
       "      <th>Area</th>\n",
       "      <th>Street</th>\n",
       "      <th>Facade</th>\n",
       "      <th>Direction</th>\n",
       "      <th>Saler</th>\n",
       "      <th>Type</th>\n",
       "      <th>Floor</th>\n",
       "      <th>Bathrooms</th>\n",
       "      <th>Bedrooms</th>\n",
       "      <th>Legal Doc</th>\n",
       "      <th>Price(million/m_square)</th>\n",
       "    </tr>\n",
       "  </thead>\n",
       "  <tbody>\n",
       "    <tr>\n",
       "      <th>182</th>\n",
       "      <td>31.000</td>\n",
       "      <td>Quận Tây Hồ, Thành phố Hà Nội</td>\n",
       "      <td>140.0</td>\n",
       "      <td>Mặt phố - Mặt đường</td>\n",
       "      <td>NaN</td>\n",
       "      <td>NaN</td>\n",
       "      <td>Nhà môi giới</td>\n",
       "      <td>Biệt thự - Song lập - Đơn lập</td>\n",
       "      <td>NaN</td>\n",
       "      <td>NaN</td>\n",
       "      <td>NaN</td>\n",
       "      <td>Giấy CN QSDĐ - Sổ đỏ - Sổ hồng</td>\n",
       "      <td>221.43</td>\n",
       "    </tr>\n",
       "    <tr>\n",
       "      <th>297</th>\n",
       "      <td>11.600</td>\n",
       "      <td>Huyện Đông Anh, Thành phố Hà Nội</td>\n",
       "      <td>108.0</td>\n",
       "      <td>Mặt phố - Mặt đường</td>\n",
       "      <td>NaN</td>\n",
       "      <td>NaN</td>\n",
       "      <td>Nhà môi giới</td>\n",
       "      <td>Biệt thự - Song lập - Đơn lập</td>\n",
       "      <td>NaN</td>\n",
       "      <td>NaN</td>\n",
       "      <td>NaN</td>\n",
       "      <td>Giấy CN QSDĐ - Sổ đỏ - Sổ hồng</td>\n",
       "      <td>107.41</td>\n",
       "    </tr>\n",
       "    <tr>\n",
       "      <th>357</th>\n",
       "      <td>2.400</td>\n",
       "      <td>Thành phố Bến Tre, Tỉnh Bến Tre</td>\n",
       "      <td>90.0</td>\n",
       "      <td>Mặt phố - Mặt đường</td>\n",
       "      <td>4.5</td>\n",
       "      <td>NaN</td>\n",
       "      <td>Nhà môi giới</td>\n",
       "      <td>Biệt thự - Song lập - Đơn lập</td>\n",
       "      <td>NaN</td>\n",
       "      <td>NaN</td>\n",
       "      <td>NaN</td>\n",
       "      <td>Giấy CN QSDĐ - Sổ đỏ - Sổ hồng</td>\n",
       "      <td>26.67</td>\n",
       "    </tr>\n",
       "    <tr>\n",
       "      <th>363</th>\n",
       "      <td>0.724</td>\n",
       "      <td>Thành phố Bến Tre, Tỉnh Bến Tre</td>\n",
       "      <td>50.0</td>\n",
       "      <td>Mặt phố - Mặt đường</td>\n",
       "      <td>NaN</td>\n",
       "      <td>NaN</td>\n",
       "      <td>Nhà môi giới</td>\n",
       "      <td>Biệt thự - Song lập - Đơn lập</td>\n",
       "      <td>NaN</td>\n",
       "      <td>NaN</td>\n",
       "      <td>2.0</td>\n",
       "      <td>Giấy CN QSDĐ - Sổ đỏ - Sổ hồng</td>\n",
       "      <td>14.48</td>\n",
       "    </tr>\n",
       "    <tr>\n",
       "      <th>399</th>\n",
       "      <td>4.200</td>\n",
       "      <td>Huyện Hoài Đức, Thành phố Hà Nội</td>\n",
       "      <td>100.0</td>\n",
       "      <td>Ngõ 2 ô tô tránh</td>\n",
       "      <td>NaN</td>\n",
       "      <td>NaN</td>\n",
       "      <td>Nhà môi giới</td>\n",
       "      <td>Biệt thự - Song lập - Đơn lập</td>\n",
       "      <td>NaN</td>\n",
       "      <td>NaN</td>\n",
       "      <td>NaN</td>\n",
       "      <td>Giấy CN QSDĐ - Sổ đỏ - Sổ hồng</td>\n",
       "      <td>42.00</td>\n",
       "    </tr>\n",
       "    <tr>\n",
       "      <th>...</th>\n",
       "      <td>...</td>\n",
       "      <td>...</td>\n",
       "      <td>...</td>\n",
       "      <td>...</td>\n",
       "      <td>...</td>\n",
       "      <td>...</td>\n",
       "      <td>...</td>\n",
       "      <td>...</td>\n",
       "      <td>...</td>\n",
       "      <td>...</td>\n",
       "      <td>...</td>\n",
       "      <td>...</td>\n",
       "      <td>...</td>\n",
       "    </tr>\n",
       "    <tr>\n",
       "      <th>11088</th>\n",
       "      <td>6.800</td>\n",
       "      <td>Quận Đống Đa, Thành phố Hà Nội</td>\n",
       "      <td>80.0</td>\n",
       "      <td>Ngõ ngách</td>\n",
       "      <td>4.0</td>\n",
       "      <td>Đông Bắc</td>\n",
       "      <td>Nhà môi giới</td>\n",
       "      <td>Biệt thự - Song lập - Đơn lập</td>\n",
       "      <td>NaN</td>\n",
       "      <td>3.0</td>\n",
       "      <td>4.0</td>\n",
       "      <td>Giấy CN QSDĐ - Sổ đỏ - Sổ hồng</td>\n",
       "      <td>85.00</td>\n",
       "    </tr>\n",
       "    <tr>\n",
       "      <th>11228</th>\n",
       "      <td>3.500</td>\n",
       "      <td>Thành phố Sóc Trăng, Tỉnh Sóc Trăng</td>\n",
       "      <td>270.0</td>\n",
       "      <td>Mặt phố - Mặt đường</td>\n",
       "      <td>NaN</td>\n",
       "      <td>NaN</td>\n",
       "      <td>Nhà môi giới</td>\n",
       "      <td>Biệt thự - Song lập - Đơn lập</td>\n",
       "      <td>NaN</td>\n",
       "      <td>NaN</td>\n",
       "      <td>NaN</td>\n",
       "      <td>Giấy CN QSDĐ - Sổ đỏ - Sổ hồng</td>\n",
       "      <td>12.96</td>\n",
       "    </tr>\n",
       "    <tr>\n",
       "      <th>11251</th>\n",
       "      <td>28.000</td>\n",
       "      <td>Quận Thanh Xuân, Thành phố Hà Nội</td>\n",
       "      <td>157.0</td>\n",
       "      <td>Ngõ 3 ô tô tránh</td>\n",
       "      <td>NaN</td>\n",
       "      <td>NaN</td>\n",
       "      <td>Nhà môi giới</td>\n",
       "      <td>Biệt thự - Song lập - Đơn lập</td>\n",
       "      <td>NaN</td>\n",
       "      <td>8.0</td>\n",
       "      <td>6.0</td>\n",
       "      <td>Giấy CN QSDĐ - Sổ đỏ - Sổ hồng</td>\n",
       "      <td>178.34</td>\n",
       "    </tr>\n",
       "    <tr>\n",
       "      <th>11291</th>\n",
       "      <td>3.500</td>\n",
       "      <td>Thị xã Thái Hòa, Tỉnh Nghệ An</td>\n",
       "      <td>138.0</td>\n",
       "      <td>Ngõ 2 ô tô tránh</td>\n",
       "      <td>NaN</td>\n",
       "      <td>NaN</td>\n",
       "      <td>Chính chủ</td>\n",
       "      <td>Biệt thự - Song lập - Đơn lập</td>\n",
       "      <td>NaN</td>\n",
       "      <td>NaN</td>\n",
       "      <td>NaN</td>\n",
       "      <td>NaN</td>\n",
       "      <td>25.36</td>\n",
       "    </tr>\n",
       "    <tr>\n",
       "      <th>11399</th>\n",
       "      <td>8.000</td>\n",
       "      <td>Thành phố Vinh, Tỉnh Nghệ An</td>\n",
       "      <td>240.0</td>\n",
       "      <td>Mặt phố - Mặt đường</td>\n",
       "      <td>14.0</td>\n",
       "      <td>Đông Tứ Trạch, Tây Tứ Trạch</td>\n",
       "      <td>Chủ đầu tư</td>\n",
       "      <td>Biệt thự - Song lập - Đơn lập</td>\n",
       "      <td>NaN</td>\n",
       "      <td>NaN</td>\n",
       "      <td>4.0</td>\n",
       "      <td>Giấy CN QSDĐ - Sổ đỏ - Sổ hồng, Hợp đồng mua bán</td>\n",
       "      <td>33.33</td>\n",
       "    </tr>\n",
       "  </tbody>\n",
       "</table>\n",
       "<p>83 rows × 13 columns</p>\n",
       "</div>"
      ],
      "text/plain": [
       "        Price                             Location   Area  \\\n",
       "182    31.000        Quận Tây Hồ, Thành phố Hà Nội  140.0   \n",
       "297    11.600     Huyện Đông Anh, Thành phố Hà Nội  108.0   \n",
       "357     2.400      Thành phố Bến Tre, Tỉnh Bến Tre   90.0   \n",
       "363     0.724      Thành phố Bến Tre, Tỉnh Bến Tre   50.0   \n",
       "399     4.200     Huyện Hoài Đức, Thành phố Hà Nội  100.0   \n",
       "...       ...                                  ...    ...   \n",
       "11088   6.800       Quận Đống Đa, Thành phố Hà Nội   80.0   \n",
       "11228   3.500  Thành phố Sóc Trăng, Tỉnh Sóc Trăng  270.0   \n",
       "11251  28.000    Quận Thanh Xuân, Thành phố Hà Nội  157.0   \n",
       "11291   3.500        Thị xã Thái Hòa, Tỉnh Nghệ An  138.0   \n",
       "11399   8.000         Thành phố Vinh, Tỉnh Nghệ An  240.0   \n",
       "\n",
       "                    Street  Facade                    Direction         Saler  \\\n",
       "182    Mặt phố - Mặt đường     NaN                          NaN  Nhà môi giới   \n",
       "297    Mặt phố - Mặt đường     NaN                          NaN  Nhà môi giới   \n",
       "357    Mặt phố - Mặt đường     4.5                          NaN  Nhà môi giới   \n",
       "363    Mặt phố - Mặt đường     NaN                          NaN  Nhà môi giới   \n",
       "399       Ngõ 2 ô tô tránh     NaN                          NaN  Nhà môi giới   \n",
       "...                    ...     ...                          ...           ...   \n",
       "11088            Ngõ ngách     4.0                     Đông Bắc  Nhà môi giới   \n",
       "11228  Mặt phố - Mặt đường     NaN                          NaN  Nhà môi giới   \n",
       "11251     Ngõ 3 ô tô tránh     NaN                          NaN  Nhà môi giới   \n",
       "11291     Ngõ 2 ô tô tránh     NaN                          NaN     Chính chủ   \n",
       "11399  Mặt phố - Mặt đường    14.0  Đông Tứ Trạch, Tây Tứ Trạch    Chủ đầu tư   \n",
       "\n",
       "                                Type  Floor  Bathrooms  Bedrooms  \\\n",
       "182    Biệt thự - Song lập - Đơn lập    NaN        NaN       NaN   \n",
       "297    Biệt thự - Song lập - Đơn lập    NaN        NaN       NaN   \n",
       "357    Biệt thự - Song lập - Đơn lập    NaN        NaN       NaN   \n",
       "363    Biệt thự - Song lập - Đơn lập    NaN        NaN       2.0   \n",
       "399    Biệt thự - Song lập - Đơn lập    NaN        NaN       NaN   \n",
       "...                              ...    ...        ...       ...   \n",
       "11088  Biệt thự - Song lập - Đơn lập    NaN        3.0       4.0   \n",
       "11228  Biệt thự - Song lập - Đơn lập    NaN        NaN       NaN   \n",
       "11251  Biệt thự - Song lập - Đơn lập    NaN        8.0       6.0   \n",
       "11291  Biệt thự - Song lập - Đơn lập    NaN        NaN       NaN   \n",
       "11399  Biệt thự - Song lập - Đơn lập    NaN        NaN       4.0   \n",
       "\n",
       "                                              Legal Doc  \\\n",
       "182                      Giấy CN QSDĐ - Sổ đỏ - Sổ hồng   \n",
       "297                      Giấy CN QSDĐ - Sổ đỏ - Sổ hồng   \n",
       "357                      Giấy CN QSDĐ - Sổ đỏ - Sổ hồng   \n",
       "363                      Giấy CN QSDĐ - Sổ đỏ - Sổ hồng   \n",
       "399                      Giấy CN QSDĐ - Sổ đỏ - Sổ hồng   \n",
       "...                                                 ...   \n",
       "11088                    Giấy CN QSDĐ - Sổ đỏ - Sổ hồng   \n",
       "11228                    Giấy CN QSDĐ - Sổ đỏ - Sổ hồng   \n",
       "11251                    Giấy CN QSDĐ - Sổ đỏ - Sổ hồng   \n",
       "11291                                               NaN   \n",
       "11399  Giấy CN QSDĐ - Sổ đỏ - Sổ hồng, Hợp đồng mua bán   \n",
       "\n",
       "       Price(million/m_square)  \n",
       "182                     221.43  \n",
       "297                     107.41  \n",
       "357                      26.67  \n",
       "363                      14.48  \n",
       "399                      42.00  \n",
       "...                        ...  \n",
       "11088                    85.00  \n",
       "11228                    12.96  \n",
       "11251                   178.34  \n",
       "11291                    25.36  \n",
       "11399                    33.33  \n",
       "\n",
       "[83 rows x 13 columns]"
      ]
     },
     "execution_count": 37,
     "metadata": {},
     "output_type": "execute_result"
    }
   ],
   "source": [
    "new_data[new_data['Type']=='Biệt thự - Song lập - Đơn lập']"
   ]
  },
  {
   "cell_type": "markdown",
   "metadata": {
    "id": "3Tgko16gHUZo"
   },
   "source": [
    "1 - Chung cư thường phân bổ ở những tỉnh thành nào? giải thích? <br>\n",
    "2 - Các chung cư có nhiều phòng ngủ sẽ có giá cao hơn đúng không? <br>\n",
    "3 - Diện tích các căn chung cư 1 phòng ngủ thường dưới 50 mét vuông đúng không? <br>\n",
    "4 - Nhà ở TP Hồ Chí Minh được bán nhiều hơn bởi Nhà môi giới hay chính chủ hay thông qua sàn giao dịch?<br>\n",
    "5 - Giá chung cư chưa có giấy tờ sẽ thấp hơn chung cư dã có giấy tờ?<br>\n",
    "6 - Nhà được bán bởi chính chú thường có giá thấp hơn nhà bán bởi nhà môi giới?<br>\n",
    "7 - Tại sao số bất động sản ở TP Hồ Chí Minh/Hà Nội lại nhiều hơn các tỉnh khác?<br>\n",
    "8 - Đất nền hay chugn cư có giá cao hơn?<br>\n",
    "9 - Những hơi nhiều đất nền thì ít chung cư và ngược lại đúng không ? Giải thích?<br>\n",
    "10 - Diện tích nhà ở trung bình của TP HCM nhỏ hơn Hà Nội đúng không?<br>\n",
    "11 - Phần lớn BĐS rao bán ở các TP?<br>\n",
    "12 - Giá trung bình biệt thự là bao nhiêu?<br>\n",
    "13 - Biệt thự thường tập trung ở các khu vực nào? Tại sao?<br>\n",
    "14 - Nhà ở ở đường lớn có giá cao hơn nhà ở trong ngõ?<br>\n",
    "15 - Nhà ở mặt phố thường có diện tích lớn hơn nhà ở trong ngõ?<br>\n",
    "16 - Nhà có nhiều phòng ngủ sẽ có nhiều nhà vệ sinh?<br>\n",
    "17 - Tại sao các tỉnh thành xung quanh TPHCM/HN thường bán nhà hoặc đất nền ? Giải thích?<br>\n",
    "18 - Tỉ lệ thành phần các loại bất động sản ở HCM, HN, ĐN<br>\n",
    "19 - Mỗi loại bất động sản ở quận 10, tphcm có giá trị tầm bn??<br>\n",
    "20 - Giá trị trung bình chung cư 2 phòng ngủ giữa các quận ở HCM<br>\n",
    "21 - Nơi nào ở hcm có nhu cầu giao dịch bất động sản nhiều nhất? lí giải<br>\n",
    "22 - Mặt tiền ở thành phố bảo lộc (có thể dùng để mở cửa hàng) có giá trị bn?<br>\n",
    "23 - Bạn có khoảng 5 tỷ ở SG, và bạn quyết tâm về quê chăn gà, và bạn quyết tâm về tây nguyên start up, nên mua đất nền ở đâu<br>"
   ]
  },
  {
   "cell_type": "markdown",
   "metadata": {
    "id": "RLGmkeGZbdKD"
   },
   "source": [
    "# Trả  lời một số câu hỏi bằng trực quan hóa"
   ]
  },
  {
   "cell_type": "markdown",
   "metadata": {
    "id": "kFb0q43DbV99"
   },
   "source": [
    " ### Tỉ lệ thành phần các loại bất động sản ở HCM, HN, ĐN"
   ]
  },
  {
   "cell_type": "code",
   "execution_count": 38,
   "metadata": {
    "id": "k_-nz_WmHUZp"
   },
   "outputs": [],
   "source": [
    "hn_df = new_data.loc[(new_data['Location'].str.contains('Hà Nội'))]\n",
    "replace_type = hn_df['Type'].value_counts().keys()[6:]\n",
    "\n",
    "for val in replace_type:\n",
    "    hn_df.loc[hn_df['Type'] == val, :] = 'Bất động sản khác'"
   ]
  },
  {
   "cell_type": "code",
   "execution_count": 39,
   "metadata": {
    "id": "B2rUJ_pcIp_O"
   },
   "outputs": [],
   "source": [
    "dn_df = new_data.loc[(new_data['Location'].str.contains('Đà Nẵng'))]\n",
    "replace_type = dn_df['Type'].value_counts().keys()[6:]\n",
    "\n",
    "for val in replace_type:\n",
    "    dn_df.loc[dn_df['Type'] == val, :] = 'Bất động sản khác'"
   ]
  },
  {
   "cell_type": "code",
   "execution_count": 40,
   "metadata": {
    "id": "Q7QGlIwXKqA_"
   },
   "outputs": [],
   "source": [
    "hcm_df = new_data.loc[(new_data['Location'].str.contains('Hồ Chí Minh'))]\n",
    "replace_type = hcm_df['Type'].value_counts().keys()[6:]\n",
    "\n",
    "for val in replace_type:\n",
    "    hcm_df.loc[hcm_df['Type'] == val, :] = 'Bất động sản khác'"
   ]
  },
  {
   "cell_type": "code",
   "execution_count": 41,
   "metadata": {
    "id": "jy46xEbvO326"
   },
   "outputs": [
    {
     "data": {
      "image/png": "[encoded data removed]",
      "text/plain": [
       "<Figure size 2160x720 with 3 Axes>"
      ]
     },
     "metadata": {},
     "output_type": "display_data"
    }
   ],
   "source": [
    "fig, axs = plt.subplots(1,3, figsize=(30,10))\n",
    "explode = (0.1, 0.05, 0.05, 0.05, 0.05, 0.05, 0.05)\n",
    "labels = pd.Series(hn_df['Type'].unique() + hcm_df['Type'].unique()+ dn_df['Type'].unique()).unique()\n",
    "\n",
    "hn_df['Type'].value_counts().plot.pie(labels=None, autopct='%1.2f%%', ax=axs[0], explode=explode, title='Hà Nội')\n",
    "dn_df['Type'].value_counts().plot.pie(labels=None, autopct='%1.2f%%', ax=axs[1], explode=explode, title='Đà Nẵng')\n",
    "hcm_df['Type'].value_counts().plot.pie(labels=None, autopct='%1.2f%%', ax=axs[2], explode=explode, title='Hồ Chí Minh')\n",
    "fig.legend(labels)\n",
    "fig.suptitle(\"Tỉ lệ bất động sản ở một số thành phố lớn\")\n",
    "plt.show()"
   ]
  },
  {
   "cell_type": "markdown",
   "metadata": {
    "id": "i8I9MS1Jb3v7"
   },
   "source": [
    "## Nhà có nhiều phòng ngủ sẽ có nhiều nhà tắm?"
   ]
  },
  {
   "cell_type": "code",
   "execution_count": 42,
   "metadata": {
    "colab": {
     "base_uri": "https://localhost:8080/",
     "height": 419
    },
    "id": "57G6C4yUYnGz",
    "outputId": "1abffb3f-c359-4e9c-f43e-5f225c6dd79c"
   },
   "outputs": [
    {
     "data": {
      "text/html": [
       "<div>\n",
       "<style scoped>\n",
       "    .dataframe tbody tr th:only-of-type {\n",
       "        vertical-align: middle;\n",
       "    }\n",
       "\n",
       "    .dataframe tbody tr th {\n",
       "        vertical-align: top;\n",
       "    }\n",
       "\n",
       "    .dataframe thead th {\n",
       "        text-align: right;\n",
       "    }\n",
       "</style>\n",
       "<table border=\"1\" class=\"dataframe\">\n",
       "  <thead>\n",
       "    <tr style=\"text-align: right;\">\n",
       "      <th></th>\n",
       "      <th>Bathrooms</th>\n",
       "      <th>Bedrooms</th>\n",
       "      <th>Price(million/m_square)</th>\n",
       "    </tr>\n",
       "  </thead>\n",
       "  <tbody>\n",
       "    <tr>\n",
       "      <th>0</th>\n",
       "      <td>3.517982</td>\n",
       "      <td>2.000000</td>\n",
       "      <td>52.78</td>\n",
       "    </tr>\n",
       "    <tr>\n",
       "      <th>3</th>\n",
       "      <td>3.517982</td>\n",
       "      <td>3.990226</td>\n",
       "      <td>14.00</td>\n",
       "    </tr>\n",
       "    <tr>\n",
       "      <th>6</th>\n",
       "      <td>3.517982</td>\n",
       "      <td>3.990226</td>\n",
       "      <td>37.25</td>\n",
       "    </tr>\n",
       "    <tr>\n",
       "      <th>9</th>\n",
       "      <td>3.517982</td>\n",
       "      <td>3.990226</td>\n",
       "      <td>11.79</td>\n",
       "    </tr>\n",
       "    <tr>\n",
       "      <th>10</th>\n",
       "      <td>4.000000</td>\n",
       "      <td>3.000000</td>\n",
       "      <td>86.67</td>\n",
       "    </tr>\n",
       "    <tr>\n",
       "      <th>...</th>\n",
       "      <td>...</td>\n",
       "      <td>...</td>\n",
       "      <td>...</td>\n",
       "    </tr>\n",
       "    <tr>\n",
       "      <th>11932</th>\n",
       "      <td>3.000000</td>\n",
       "      <td>2.000000</td>\n",
       "      <td>99.09</td>\n",
       "    </tr>\n",
       "    <tr>\n",
       "      <th>11933</th>\n",
       "      <td>3.517982</td>\n",
       "      <td>3.000000</td>\n",
       "      <td>47.67</td>\n",
       "    </tr>\n",
       "    <tr>\n",
       "      <th>11934</th>\n",
       "      <td>2.000000</td>\n",
       "      <td>2.000000</td>\n",
       "      <td>52.33</td>\n",
       "    </tr>\n",
       "    <tr>\n",
       "      <th>11935</th>\n",
       "      <td>3.517982</td>\n",
       "      <td>3.990226</td>\n",
       "      <td>33.33</td>\n",
       "    </tr>\n",
       "    <tr>\n",
       "      <th>11938</th>\n",
       "      <td>3.000000</td>\n",
       "      <td>4.000000</td>\n",
       "      <td>184.78</td>\n",
       "    </tr>\n",
       "  </tbody>\n",
       "</table>\n",
       "<p>6274 rows × 3 columns</p>\n",
       "</div>"
      ],
      "text/plain": [
       "       Bathrooms  Bedrooms  Price(million/m_square)\n",
       "0       3.517982  2.000000                    52.78\n",
       "3       3.517982  3.990226                    14.00\n",
       "6       3.517982  3.990226                    37.25\n",
       "9       3.517982  3.990226                    11.79\n",
       "10      4.000000  3.000000                    86.67\n",
       "...          ...       ...                      ...\n",
       "11932   3.000000  2.000000                    99.09\n",
       "11933   3.517982  3.000000                    47.67\n",
       "11934   2.000000  2.000000                    52.33\n",
       "11935   3.517982  3.990226                    33.33\n",
       "11938   3.000000  4.000000                   184.78\n",
       "\n",
       "[6274 rows x 3 columns]"
      ]
     },
     "execution_count": 42,
     "metadata": {},
     "output_type": "execute_result"
    }
   ],
   "source": [
    "df = new_data.loc[(new_data['Type'].str.contains('Nhà ở')) | (new_data['Type'].str.contains('Chung cư')), ('Bathrooms', 'Bedrooms', 'Price(million/m_square)')]\n",
    "df.fillna(df.mean(), inplace=True)\n",
    "df"
   ]
  },
  {
   "cell_type": "code",
   "execution_count": 43,
   "metadata": {
    "id": "JSzisUCipDyT"
   },
   "outputs": [],
   "source": [
    "def corr(x,y):\n",
    "    slope, intercept, r,p, stderr = scipy.stats.linregress(x, y)\n",
    "    line = f'Regression line: y={intercept:.2f}+{slope:.2f}x,r={r:.2f}'\n",
    "    print(scipy.stats.kendalltau(x, y))\n",
    "    fig, ax=plt.subplots(figsize=(8, 6))\n",
    "    ax.plot(x,y,linewidth=0, marker='s', label='Data points')\n",
    "    ax.plot(x, intercept + slope * x,label=line)\n",
    "    ax.set_xlabel(x.name)\n",
    "    ax.set_ylabel(y.name)\n",
    "    ax.legend(facecolor='white')\n",
    "    plt.show()\n"
   ]
  },
  {
   "cell_type": "code",
   "execution_count": 44,
   "metadata": {
    "colab": {
     "base_uri": "https://localhost:8080/",
     "height": 405
    },
    "id": "aoiB-4RTsPbr",
    "outputId": "758d5c18-9a6d-4825-da28-e06790c4904f"
   },
   "outputs": [
    {
     "name": "stdout",
     "output_type": "stream",
     "text": [
      "KendalltauResult(correlation=0.3404736179589722, pvalue=5.2841829154121684e-226)\n"
     ]
    },
    {
     "data": {
      "image/png": "[encoded data removed]",
      "text/plain": [
       "<Figure size 576x432 with 1 Axes>"
      ]
     },
     "metadata": {
      "needs_background": "light"
     },
     "output_type": "display_data"
    }
   ],
   "source": [
    "corr(df['Bathrooms'], df['Bedrooms'])"
   ]
  },
  {
   "cell_type": "markdown",
   "metadata": {
    "id": "5fu6_G4GEOzF"
   },
   "source": [
    "$\\rightarrow$ Dựa vào kết quả trên, ta có thể kết luận hai biến trên có mối quan hệ tương quan ở mức trung bình, không đủ để kết luận quan điểm ở trên."
   ]
  },
  {
   "cell_type": "code",
   "execution_count": 45,
   "metadata": {
    "colab": {
     "base_uri": "https://localhost:8080/"
    },
    "id": "hHaYdc3VvYSq",
    "outputId": "e5cbca56-8927-4ed0-999b-b933ab774684"
   },
   "outputs": [
    {
     "data": {
      "text/plain": [
       "Price                         0\n",
       "Location                      0\n",
       "Area                         33\n",
       "Street                     1014\n",
       "Facade                     4623\n",
       "Direction                  8195\n",
       "Saler                         0\n",
       "Type                          0\n",
       "Floor                      9575\n",
       "Bathrooms                  8044\n",
       "Bedrooms                   5461\n",
       "Legal Doc                  1499\n",
       "Price(million/m_square)      33\n",
       "dtype: int64"
      ]
     },
     "execution_count": 45,
     "metadata": {},
     "output_type": "execute_result"
    }
   ],
   "source": [
    "new_data.isna().sum()"
   ]
  },
  {
   "cell_type": "markdown",
   "metadata": {
    "id": "-4XGdFbHn7k0"
   },
   "source": [
    "## So sánh giá bất động sản ở Hà Nội và TP Hồ Chí Minh. "
   ]
  },
  {
   "cell_type": "code",
   "execution_count": 46,
   "metadata": {
    "colab": {
     "base_uri": "https://localhost:8080/",
     "height": 446
    },
    "id": "rvx8LZj_n7k0",
    "outputId": "ef248222-a04d-4e3a-bca0-1e4dced3707a"
   },
   "outputs": [
    {
     "data": {
      "image/png": "[encoded data removed]",
      "text/plain": [
       "<Figure size 1152x504 with 2 Axes>"
      ]
     },
     "metadata": {
      "needs_background": "light"
     },
     "output_type": "display_data"
    }
   ],
   "source": [
    "data_hanoi = new_data[new_data['Location'].str.contains(\"Hà Nội\")]\n",
    "data_hcm = new_data[new_data['Location'].str.contains(\"Hồ Chí Minh\")]\n",
    "data_hanoi['City'] = 'Hà Nội'\n",
    "data_hcm['City'] = 'TP Hồ Chí Minh'\n",
    "frames = [data_hanoi, data_hcm]\n",
    "result_df = pd.concat(frames)\n",
    "\n",
    "fig, ax = plt.subplots(1,2,figsize=(16,7))\n",
    "sns.barplot(x=result_df['City'].dropna().unique(),y =result_df.groupby(['City']).mean()['Price'], ax=ax[0]).set_title('Giá trung bình mỗi bất động sản')\n",
    "sns.barplot(x=result_df['City'].dropna().unique(),y =result_df.groupby(['City']).mean()['Price(million/m_square)'], ax=ax[1]).set_title('Giá trung bình mét vuông')\n",
    "plt.show()"
   ]
  },
  {
   "cell_type": "markdown",
   "metadata": {
    "id": "sYRiCwHXn7k0"
   },
   "source": [
    "Giá nhà trung bình ở thành phố Hồ Chí Minh rẻ hơn so với Hà Nội. Mức giá trung bình mỗi bất động sản ở Hà Nội và Thành phố Hồ Chí Minh không có sự chênh lệch nhiều. Nhưng giá tiền trên mỗi mét vuông ở Hà Nội cao hơn TP Hồ Chí Minh khá nhiều"
   ]
  },
  {
   "cell_type": "markdown",
   "metadata": {
    "id": "PhEhmyc5n7k1"
   },
   "source": [
    "## So sánh nhà ở ở Hà Nội và TP Hồ Chí Minh."
   ]
  },
  {
   "cell_type": "code",
   "execution_count": 47,
   "metadata": {
    "colab": {
     "base_uri": "https://localhost:8080/",
     "height": 609
    },
    "id": "wOc2IiDQn7k1",
    "outputId": "efe2ceb2-ec44-4c33-b92b-3f0bd754d619"
   },
   "outputs": [
    {
     "data": {
      "image/png": "[encoded data removed]",
      "text/plain": [
       "<Figure size 720x720 with 4 Axes>"
      ]
     },
     "metadata": {
      "needs_background": "light"
     },
     "output_type": "display_data"
    }
   ],
   "source": [
    "data_hanoi = new_data[new_data['Location'].str.contains(\"Hà Nội\")]\n",
    "data_hanoi = data_hanoi[new_data['Type'] == 'Nhà ở']\n",
    "data_hcm = new_data[new_data['Location'].str.contains(\"Hồ Chí Minh\")]\n",
    "data_hcm = data_hcm[new_data['Type'] == 'Nhà ở']\n",
    "data_hanoi['City'] = 'Hà Nội'\n",
    "data_hcm['City'] = 'TP Hồ Chí Minh'\n",
    "frames = [data_hanoi, data_hcm]\n",
    "result_df = pd.concat(frames)\n",
    "\n",
    "fig, ax = plt.subplots(2,2,figsize=(10,10))\n",
    "sns.barplot(x=result_df['City'].unique(),y =result_df['City'].value_counts(), ax=ax[0][0]).set_title('Số lượng nhà ở')\n",
    "sns.barplot(x=result_df['City'].unique(),y =result_df.groupby(['City']).mean()['Price(million/m_square)'], ax=ax[0][1]).set_title('Giá trung bình mỗi met vuông')\n",
    "sns.barplot(x=result_df['City'].unique(),y =result_df.groupby(['City']).mean()['Price'], ax=ax[1][0]).set_title('Giá trung bình mỗi căn nhà')\n",
    "sns.barplot(x=result_df['City'].unique(),y =result_df.groupby(['City']).mean()['Area'], ax=ax[1][1]).set_title('Diện tích trung bình mỗi căn nhà')\n",
    "plt.show()"
   ]
  },
  {
   "cell_type": "markdown",
   "metadata": {
    "id": "tk5qWiRFn7k1"
   },
   "source": [
    "- Số bất động sản nhà ở ở Hà Nội cao hon rất nhiều so với TP Hồ Chí Minh. \n",
    "- Giá nhà trung bình ở TP Hồ Chí Minh cũng rẻ hơn khá nhiều so với Hà Nội.\n",
    "- Giá trung bình mỗi căn nhà ở Hà Nội cao hơn TP Hồ Chí Minh\n",
    "- Diện tích mỗi căn nhà ở Hà Nội nhỏ hơn TP Hồ Chí Minh\n",
    "==> Kết luận: Giá nhà ở ở Hà Nội khá cao và cao hơn TP Hồ Chí Minh. Điều này khiến các nhà ở có diện tích nhỏ hơn được cung cấp để tiếp cận đến đối tượng khách có nguồn tài chính hạn chế hơn.\n"
   ]
  },
  {
   "cell_type": "markdown",
   "metadata": {
    "id": "gavRSxIyn7k1"
   },
   "source": [
    "## So sánh căn hộ ở Hà Nội và TP Hồ Chí Minh."
   ]
  },
  {
   "cell_type": "code",
   "execution_count": 48,
   "metadata": {
    "colab": {
     "base_uri": "https://localhost:8080/",
     "height": 672
    },
    "id": "cx6kP9ckn7k1",
    "outputId": "ce125164-6370-40ed-e2bb-9d508829efbf",
    "scrolled": false
   },
   "outputs": [
    {
     "data": {
      "image/png": "[encoded data removed]",
      "text/plain": [
       "<Figure size 720x720 with 4 Axes>"
      ]
     },
     "metadata": {
      "needs_background": "light"
     },
     "output_type": "display_data"
    },
    {
     "data": {
      "text/html": [
       "<div>\n",
       "<style scoped>\n",
       "    .dataframe tbody tr th:only-of-type {\n",
       "        vertical-align: middle;\n",
       "    }\n",
       "\n",
       "    .dataframe tbody tr th {\n",
       "        vertical-align: top;\n",
       "    }\n",
       "\n",
       "    .dataframe thead th {\n",
       "        text-align: right;\n",
       "    }\n",
       "</style>\n",
       "<table border=\"1\" class=\"dataframe\">\n",
       "  <thead>\n",
       "    <tr style=\"text-align: right;\">\n",
       "      <th></th>\n",
       "      <th>Price</th>\n",
       "      <th>Location</th>\n",
       "      <th>Area</th>\n",
       "      <th>Street</th>\n",
       "      <th>Facade</th>\n",
       "      <th>Direction</th>\n",
       "      <th>Saler</th>\n",
       "      <th>Type</th>\n",
       "      <th>Floor</th>\n",
       "      <th>Bathrooms</th>\n",
       "      <th>Bedrooms</th>\n",
       "      <th>Legal Doc</th>\n",
       "      <th>Price(million/m_square)</th>\n",
       "      <th>City</th>\n",
       "    </tr>\n",
       "  </thead>\n",
       "  <tbody>\n",
       "  </tbody>\n",
       "</table>\n",
       "</div>"
      ],
      "text/plain": [
       "Empty DataFrame\n",
       "Columns: [Price, Location, Area, Street, Facade, Direction, Saler, Type, Floor, Bathrooms, Bedrooms, Legal Doc, Price(million/m_square), City]\n",
       "Index: []"
      ]
     },
     "execution_count": 48,
     "metadata": {},
     "output_type": "execute_result"
    }
   ],
   "source": [
    "data_hanoi = new_data[new_data['Location'].str.contains(\"Hà Nội\")]\n",
    "data_hanoi = data_hanoi[new_data['Type'] == 'Chung cư']\n",
    "data_hcm = new_data[new_data['Location'].str.contains(\"Hồ Chí Minh\")]\n",
    "data_hcm = data_hcm[new_data['Type'] == 'Chung cư']\n",
    "data_hanoi['City'] = 'Hà Nội'\n",
    "data_hcm['City'] = 'TP Hồ Chí Minh'\n",
    "frames = [data_hanoi, data_hcm]\n",
    "result_df = pd.concat(frames)\n",
    "\n",
    "fig, ax = plt.subplots(2,2,figsize=(10,10))\n",
    "sns.barplot(x=result_df['City'].unique(),y =result_df['City'].value_counts(), ax=ax[0][0]).set_title('Số lượng chung cư')\n",
    "sns.barplot(x=result_df['City'].unique(),y =result_df.groupby(['City']).mean()['Price(million/m_square)'], ax=ax[0][1]).set_title('Giá trung bình mỗi met vuông')\n",
    "sns.barplot(x=result_df['City'].unique(),y =result_df.groupby(['City']).mean()['Price'], ax=ax[1][0]).set_title('Giá trung bình mỗi căn hộ')\n",
    "sns.barplot(x=result_df['City'].unique(),y =result_df.groupby(['City']).mean()['Area'], ax=ax[1][1]).set_title('Diện tích trung bình mỗi căn hộ')\n",
    "plt.show()\n",
    "data_hcm[new_data['Area']> 300]"
   ]
  },
  {
   "cell_type": "markdown",
   "metadata": {
    "id": "3nRe6zjjn7k2"
   },
   "source": [
    "- Số căn hộ ở Hà Nội cao hon rất nhiều so với TP Hồ Chí Minh. \n",
    "- Giá nhà trung bình ở TP Hồ Chí Minh cao hơn khá nhiều so với Hà Nội.\n",
    "- Giá trung bình mỗi căn nhà ở Hà Nội và TP Hồ Chí Minh xấp xỉ nhau.\n",
    "- Diện tích mỗi căn nhà ở Hà Nội lớn hơn TP Hồ Chí Minh.\n",
    "\n",
    "\n",
    "+ Kết luận: Thị trường căn hộ ở Hà Nội chưa phát triển bằng TP Hồ Chí Minh dù sở hữu nguồn cung dồi dào hơn. Loại hình căn hộ ở Hà Nội không được yêu thích bằng ở TP Hồ Chí Minh. Điều này khiến giá căn hộ ở Hà Nội thấp hơn. \n",
    "    "
   ]
  },
  {
   "cell_type": "markdown",
   "metadata": {
    "id": "LMCfft1Kn7k2"
   },
   "source": [
    "## So sánh bất động sản ở trung tâm Hà Nội và trung tâm TP Hồ Chí Minh"
   ]
  },
  {
   "cell_type": "markdown",
   "metadata": {
    "id": "cb6F5bo2n7k2"
   },
   "source": [
    "Các quận trung tâm ở Hà Nội: quận Hoàn Kiếm, quận Ba Đình, quận Đống Đa, quận Hai Bà Trưng\n",
    "Các quận trung tam ở TP Hồ Chí Minh: Quận 1, quận 3, quận 4, quận 5, quận Bình Thạnh, quận Tân Bình"
   ]
  },
  {
   "cell_type": "code",
   "execution_count": 49,
   "metadata": {
    "colab": {
     "base_uri": "https://localhost:8080/",
     "height": 935
    },
    "id": "dCXX4gdQn7k2",
    "outputId": "5517bc79-83c0-43cb-d310-4c641d8ae16b",
    "scrolled": false
   },
   "outputs": [
    {
     "data": {
      "image/png": "[encoded data removed]",
      "text/plain": [
       "<Figure size 1728x1152 with 4 Axes>"
      ]
     },
     "metadata": {
      "needs_background": "light"
     },
     "output_type": "display_data"
    }
   ],
   "source": [
    "data_hoankiem = new_data[new_data['Location'].str.contains(\"Hoàn Kiếm\")]\n",
    "data_badinh = new_data[new_data['Location'].str.contains(\"Ba Đình\")]\n",
    "data_dongda = new_data[new_data['Location'].str.contains(\"Đống Đa\")]\n",
    "data_haibatrung = new_data[new_data['Location'].str.contains(\"Hai Bà Trưng\")]\n",
    "\n",
    "data_quan1 = new_data[new_data['Location'].str.contains(\"Quận 1,\")]\n",
    "data_quan3 = new_data[new_data['Location'].str.contains(\"Quận 3,\")]\n",
    "data_quan4 = new_data[new_data['Location'].str.contains(\"Quận 4,\")]\n",
    "data_quan5 = new_data[new_data['Location'].str.contains(\"Quận 5,\")]\n",
    "data_binhthanh = new_data[new_data['Location'].str.contains(\"Bình Thạnh\")]\n",
    "data_tanbinh = new_data[new_data['Location'].str.contains(\"Tân Bình\")]\n",
    "\n",
    "data_hoankiem['City'] ='Hà Nội'\n",
    "data_badinh['City'] ='Hà Nội'\n",
    "data_dongda['City'] ='Hà Nội'\n",
    "data_haibatrung['City'] ='Hà Nội'\n",
    "\n",
    "data_quan1['City'] = 'TP Hồ Chí Minh'\n",
    "data_quan3['City'] = 'TP Hồ Chí Minh'\n",
    "data_quan4['City'] = 'TP Hồ Chí Minh'\n",
    "data_quan5['City'] = 'TP Hồ Chí Minh'\n",
    "data_binhthanh['City'] = 'TP Hồ Chí Minh'\n",
    "data_tanbinh['City'] = 'TP Hồ Chí Minh'\n",
    "\n",
    "frames = [data_hoankiem, data_badinh, data_dongda, data_haibatrung, data_quan1, data_quan3, data_quan4, data_quan5, data_binhthanh, data_tanbinh]\n",
    "result_df = pd.concat(frames)\n",
    "\n",
    "frames_hanoi = [data_hoankiem, data_badinh, data_dongda, data_haibatrung];\n",
    "df_hanoi = pd.concat(frames_hanoi)\n",
    "frames_hcm = [data_quan1, data_quan3, data_quan4, data_quan5, data_binhthanh, data_tanbinh]\n",
    "df_hcm = pd.concat(frames_hcm)\n",
    "\n",
    "fig, ax = plt.subplots(2,2,figsize=(24,16))\n",
    "sns.barplot(x=result_df['City'].unique(),y =result_df['City'].value_counts(), ax=ax[0][0]).set_title('Số lượng bất dộng sản')\n",
    "sns.barplot(x=result_df['City'].unique(),y =result_df.groupby(['City']).mean()['Price(million/m_square)'], ax=ax[0][1]).set_title('Giá trung bình mỗi met vuông')\n",
    "sns.barplot(x=result_df['City'].unique(),y =result_df.groupby(['City']).mean()['Price'], ax=ax[1][0]).set_title('Giá trung bình mỗi bất động sản')\n",
    "sns.barplot(x=result_df['City'].unique(),y =result_df.groupby(['City']).mean()['Area'], ax=ax[1][1]).set_title('Diện tích trung bình mỗi bất động sản')\n",
    "plt.show()\n"
   ]
  },
  {
   "cell_type": "code",
   "execution_count": 50,
   "metadata": {
    "colab": {
     "base_uri": "https://localhost:8080/",
     "height": 729
    },
    "id": "UJRKlzm7n7k2",
    "outputId": "b59b086b-e26c-4a5d-a4db-81929e809178"
   },
   "outputs": [
    {
     "data": {
      "image/png": "[encoded data removed]",
      "text/plain": [
       "<Figure size 720x720 with 2 Axes>"
      ]
     },
     "metadata": {
      "needs_background": "light"
     },
     "output_type": "display_data"
    }
   ],
   "source": [
    "fig, ax = plt.subplots(2,1,figsize=(10,10))\n",
    "sns.barplot(x=df_hanoi['Type'].dropna().value_counts().index.tolist(),y =df_hanoi['Type'].value_counts(), ax=ax[0]).set_title('Các loại bất động sản ở Hà Nội')\n",
    "ax[0].set_xticklabels(ax[0].get_xticklabels(),rotation=60)\n",
    "sns.barplot(x=df_hcm['Type'].dropna().value_counts().index.tolist(),y =df_hcm['Type'].value_counts(), ax=ax[1]).set_title('Các loại bất động sản ở TP Hồ Chí Minh')\n",
    "ax[1].set_xticklabels(ax[1].get_xticklabels(),rotation=60)\n",
    "plt.tight_layout()\n",
    "plt.show()"
   ]
  },
  {
   "cell_type": "markdown",
   "metadata": {
    "id": "OXQck8Itn7k2"
   },
   "source": [
    "- Số bất động sản ở Hà Nội cao hơn rất nhiều so với TP Hồ Chí Minh. \n",
    "- Giá BĐS trung bình ở trung tâm Hà Nội cao hơn không đáng kể so với trung tâm TP Hồ Chí Minh.\n",
    "- Giá trung bình mỗi BĐS ở trung tâm Hà Nội cao hơn.\n",
    "- Diện tích mỗi căn nhà ở Hà Nội lớn hơn TP Hồ Chí Minh.\n",
    "\n",
    "\n",
    "+ Kết luận: Thị trường bất động sản ở trung tâm của 2 thành phố đều rất phát triển. Tuy nhiên, bất động sản ở trung tâm Hà Nội phát triển hơn còn trung tâm TP Hồ Chí Minh còn nhiều cơ hội phát triển hơn Hà Nội trong tương lai\n",
    "\n",
    "    "
   ]
  },
  {
   "cell_type": "markdown",
   "metadata": {
    "id": "IToTUr8sn7k3"
   },
   "source": [
    "## So sánh bất động sản ở vùng ven Hà Nội và vùng ven TP Hồ Chí Minh"
   ]
  },
  {
   "cell_type": "markdown",
   "metadata": {
    "id": "jI31uhqtn7k3"
   },
   "source": [
    "Các quận trung tâm ở Hà Nội: Nam Từ Liêm, Bắc Từ Liêm, Hà Đông, Hoàng Mai, Long Biên\n",
    "Các quận trung tam ở TP Hồ Chí Minh: Quận 2, quận 7, quận 9, quận 12, quận Bình Tân, quận Thủ Đức"
   ]
  },
  {
   "cell_type": "code",
   "execution_count": 51,
   "metadata": {
    "colab": {
     "base_uri": "https://localhost:8080/",
     "height": 935
    },
    "id": "f035tXqSn7k3",
    "outputId": "fd76c7a3-a874-4a42-e150-352c91c1c5e4",
    "scrolled": false
   },
   "outputs": [
    {
     "data": {
      "image/png": "[encoded data removed]",
      "text/plain": [
       "<Figure size 1728x1152 with 4 Axes>"
      ]
     },
     "metadata": {
      "needs_background": "light"
     },
     "output_type": "display_data"
    }
   ],
   "source": [
    "data_namtuliem = new_data[new_data['Location'].str.contains(\"Nam Từ Liêm\")]\n",
    "data_bactuliem = new_data[new_data['Location'].str.contains(\"Bắc Từ Liêm\")]\n",
    "data_hadong = new_data[new_data['Location'].str.contains(\"Hà Đông\")]\n",
    "data_hoangmai = new_data[new_data['Location'].str.contains(\"Hoàng Mai\")]\n",
    "data_longbien = new_data[new_data['Location'].str.contains(\"Long Biên\")]\n",
    "\n",
    "data_quan2 = new_data[new_data['Location'].str.contains(\"Quận 2,\")]\n",
    "data_quan7 = new_data[new_data['Location'].str.contains(\"Quận 7,\")]\n",
    "data_quan9 = new_data[new_data['Location'].str.contains(\"Quận 9,\")]\n",
    "data_quan12 = new_data[new_data['Location'].str.contains(\"Quận 12,\")]\n",
    "data_binhtan = new_data[new_data['Location'].str.contains(\"Bình Tân\")]\n",
    "data_thuduc = new_data[new_data['Location'].str.contains(\"Thủ Đức\")]\n",
    "\n",
    "data_namtuliem['City'] ='Hà Nội'\n",
    "data_bactuliem['City'] ='Hà Nội'\n",
    "data_hadong['City'] ='Hà Nội'\n",
    "data_hoangmai['City'] ='Hà Nội'\n",
    "data_longbien['City'] ='Hà Nội'\n",
    "\n",
    "data_quan2['City'] = 'TP Hồ Chí Minh'\n",
    "data_quan7['City'] = 'TP Hồ Chí Minh'\n",
    "data_quan9['City'] = 'TP Hồ Chí Minh'\n",
    "data_quan12['City'] = 'TP Hồ Chí Minh'\n",
    "data_binhtan['City'] = 'TP Hồ Chí Minh'\n",
    "data_thuduc['City'] = 'TP Hồ Chí Minh'\n",
    "\n",
    "frames = [data_namtuliem, data_bactuliem, data_hadong, data_hoangmai, data_longbien, data_quan2, data_quan7, data_quan9, data_quan12, data_binhtan, data_thuduc]\n",
    "result_df = pd.concat(frames)\n",
    "\n",
    "frames_hanoi = [data_namtuliem, data_bactuliem, data_hadong, data_hoangmai, data_longbien];\n",
    "df_hanoi = pd.concat(frames_hanoi)\n",
    "frames_hcm = [data_quan2, data_quan7, data_quan9, data_quan12, data_binhtan, data_thuduc];\n",
    "df_hcm = pd.concat(frames_hcm)\n",
    "\n",
    "fig, ax = plt.subplots(2,2,figsize=(24,16))\n",
    "sns.barplot(x=result_df['City'].dropna().unique(),y =result_df['City'].value_counts(), ax=ax[0][0]).set_title('Số lượng bất dộng sản')\n",
    "sns.barplot(x=result_df['City'].dropna().unique(),y =result_df.groupby(['City']).mean()['Price(million/m_square)'], ax=ax[0][1]).set_title('Giá trung bình mỗi met vuông')\n",
    "sns.barplot(x=result_df['City'].dropna().unique(),y =result_df.groupby(['City']).mean()['Price'], ax=ax[1][0]).set_title('Giá trung bình mỗi bất động sản')\n",
    "sns.barplot(x=result_df['City'].dropna().unique(),y =result_df.groupby(['City']).mean()['Area'], ax=ax[1][1]).set_title('Diện tích trung bình mỗi bất động sản')\n",
    "plt.show()"
   ]
  },
  {
   "cell_type": "code",
   "execution_count": 52,
   "metadata": {
    "colab": {
     "base_uri": "https://localhost:8080/",
     "height": 729
    },
    "id": "ePEXnyMAn7k3",
    "outputId": "3218ca87-8b57-4ad2-d229-5bb7bd601cc8"
   },
   "outputs": [
    {
     "data": {
      "image/png": "[encoded data removed]",
      "text/plain": [
       "<Figure size 720x720 with 2 Axes>"
      ]
     },
     "metadata": {
      "needs_background": "light"
     },
     "output_type": "display_data"
    }
   ],
   "source": [
    "fig, ax = plt.subplots(2,1,figsize=(10,10))\n",
    "sns.barplot(x=df_hanoi['Type'].dropna().value_counts().index.tolist(),y =df_hanoi['Type'].value_counts(), ax=ax[0]).set_title('Các loại bất động sản ở Hà Nội')\n",
    "ax[0].set_xticklabels(ax[0].get_xticklabels(),rotation=60)\n",
    "sns.barplot(x=df_hcm['Type'].dropna().value_counts().index.tolist(),y =df_hcm['Type'].value_counts(), ax=ax[1]).set_title('Các loại bất động sản ở TP Hồ Chí Minh')\n",
    "ax[1].set_xticklabels(ax[1].get_xticklabels(),rotation=60)\n",
    "plt.tight_layout()\n",
    "plt.show()"
   ]
  },
  {
   "cell_type": "markdown",
   "metadata": {
    "id": "TwAyaQh4n7k3"
   },
   "source": [
    "- Số bất động sản ở Hà Nội cao hơn nhiều so với TP Hồ Chí Minh. \n",
    "- Giá BĐS trung bình ở ngoại thành Hà Nội cao hơn đáng kể so với ngoại thành TP Hồ Chí Minh\n",
    "- Giá trung bình mỗi BĐS ở ngoại thành TP Hồ Chí Minh cao hơn.\n",
    "- Diện tích mỗi BĐS ở Hà Nội nhỏ hơn nhiều so với TP Hồ Chí Minh.\n",
    "\n",
    "\n",
    "+ Kết luận: Thị trường bất động sản ở ngoại thành Hà Nội phát triển hơn TP Hồ Chí Minh nhưng TP HCM có nhiều tiềm năng phát triẻn hơn\n"
   ]
  },
  {
   "cell_type": "markdown",
   "metadata": {
    "id": "-e8midIMn7k3"
   },
   "source": [
    "## Bonus - Phân tích triển vọng phát triển bất động sản ở TP HCM và Hà Nội"
   ]
  },
  {
   "cell_type": "markdown",
   "metadata": {
    "id": "eJXTqXVVn7k3"
   },
   "source": [
    "- Dựa vào các thông tin đã phân tích, ta có thể rút ra các kết luận:\n",
    "    + Hà Nội:\n",
    "    - Thị trường bất động sản đã phát triển tương đối hoàn chỉnh\n",
    "    - Giá khá cao\n",
    "    - Các loại hình bất động sản truyền thống (như nhà ở,...) được yêu thích\n",
    "    - Các bất động sản chưa được quy hoạch tốt để đem lại hiệu quả kinh tế cao nhất\n",
    "    + TP Hồ Chí Minh:\n",
    "    - Trị trường bất động sản đang phát triển nhanh và được quy hoạch tốt\n",
    "    - Chấp nhận các loại hình bất động sản mới phù hợp với tình trạng dân số ngày càng đông\n",
    "    - Các bất động sản có khả năng sinh lời cao vì thị trường còn có thể phát triển và được quy hoạch tốt\n",
    "    - Vùng ven còn nhiều quỹ đất và chưa được quy hoạch \n",
    "    - Nhu cầu mua BĐS để sử dụng cao hơn (loại hình căn hộ được ưa chuộng)\n",
    "- Ta có thể đưa ra các kết luận:\n",
    "    + Thị trường bất động sản ở TP Hồ Chí Minh sẽ phát triển mạnh hơn Hà Nội trong thời gian tới và có thể vượt qua Hà Nội vì quy hoạch hiệu quả cũng như nhu cầu thực tế cao hơn\n",
    "    + Thị trường bất động sản ở các khu trung tâm Hà Nội và TP Hồ Chí Minh tăng trưởng chậm nhưng bền vững. Hình thức bất động sản ở trung tâm trong thời gian tới sẽ là các bất động sản có quy mô lớn (như chung cư, trung tâm thương mại,...) vì hình thức bất động sản này sinh lời nhiều và đáp ứng tốt các nhu cầu sinh hoạt hiện đại.\n",
    "    + Thị trường bất động sản ở vùng ve TP Hồ Chí Minh sẽ phát triển rất mạnh trong thời gian tới vì khu vực trung tâm hết nguồn cung trong khi cầu vẫn còn và các công trình an sinh xã hội đang dần được hoàn thiện. Giá bất động sản ở khu vực vùng ven TP Hồ Chí Minh vì thế cũng sẽ có mức tăng mạnh trong nhiều năm tới.\n",
    "    + Giá nhà ở Hà Nội thời gian tới có thể sẽ không tăng mạnh bằng giá chung cư khi nhu cầu thực ở của người dân Hà Nội cao hơn vì chung cư đáp ứng nhu cầu thực ở tốt và hiện đang có mức giá khá tốt."
   ]
  },
  {
   "cell_type": "markdown",
   "metadata": {
    "id": "JVmMtc7zOMKZ"
   },
   "source": [
    "# Phân tích dữ liệu"
   ]
  },
  {
   "cell_type": "markdown",
   "metadata": {
    "id": "eyOyaJ87b-h8"
   },
   "source": [
    "*Từ phần này ta chỉ áp dụng với dữ liệu là nhà ở, chung cư, chung cư mini, nhà cấp 4*"
   ]
  },
  {
   "cell_type": "code",
   "execution_count": 53,
   "metadata": {
    "colab": {
     "base_uri": "https://localhost:8080/",
     "height": 111
    },
    "id": "vxUOCebbX6a8",
    "outputId": "294bdeea-e154-4b65-97fd-9078cab5fb4c"
   },
   "outputs": [
    {
     "data": {
      "text/html": [
       "<div>\n",
       "<style scoped>\n",
       "    .dataframe tbody tr th:only-of-type {\n",
       "        vertical-align: middle;\n",
       "    }\n",
       "\n",
       "    .dataframe tbody tr th {\n",
       "        vertical-align: top;\n",
       "    }\n",
       "\n",
       "    .dataframe thead th {\n",
       "        text-align: right;\n",
       "    }\n",
       "</style>\n",
       "<table border=\"1\" class=\"dataframe\">\n",
       "  <thead>\n",
       "    <tr style=\"text-align: right;\">\n",
       "      <th></th>\n",
       "      <th>Price</th>\n",
       "      <th>Location</th>\n",
       "      <th>Area</th>\n",
       "      <th>Street</th>\n",
       "      <th>Facade</th>\n",
       "      <th>Direction</th>\n",
       "      <th>Type</th>\n",
       "      <th>Floor</th>\n",
       "      <th>Bathrooms</th>\n",
       "      <th>Bedrooms</th>\n",
       "      <th>Legal Doc</th>\n",
       "    </tr>\n",
       "  </thead>\n",
       "  <tbody>\n",
       "    <tr>\n",
       "      <th>0</th>\n",
       "      <td>4.75</td>\n",
       "      <td>Quận Sơn Trà, Thành phố Đà Nẵng</td>\n",
       "      <td>90.0</td>\n",
       "      <td>Mặt phố - Mặt đường</td>\n",
       "      <td>5.0</td>\n",
       "      <td>Đông Bắc</td>\n",
       "      <td>Nhà ở</td>\n",
       "      <td>NaN</td>\n",
       "      <td>NaN</td>\n",
       "      <td>2.0</td>\n",
       "      <td>NaN</td>\n",
       "    </tr>\n",
       "    <tr>\n",
       "      <th>3</th>\n",
       "      <td>0.77</td>\n",
       "      <td>Quận Thanh Xuân, Thành phố Hà Nội</td>\n",
       "      <td>55.0</td>\n",
       "      <td>Ngõ 1 ô tô</td>\n",
       "      <td>NaN</td>\n",
       "      <td>NaN</td>\n",
       "      <td>Chung cư mini</td>\n",
       "      <td>NaN</td>\n",
       "      <td>NaN</td>\n",
       "      <td>NaN</td>\n",
       "      <td>Giấy CN QSDĐ - Sổ đỏ - Sổ hồng, Hợp đồng mua bán</td>\n",
       "    </tr>\n",
       "  </tbody>\n",
       "</table>\n",
       "</div>"
      ],
      "text/plain": [
       "   Price                           Location  Area               Street  \\\n",
       "0   4.75    Quận Sơn Trà, Thành phố Đà Nẵng  90.0  Mặt phố - Mặt đường   \n",
       "3   0.77  Quận Thanh Xuân, Thành phố Hà Nội  55.0           Ngõ 1 ô tô   \n",
       "\n",
       "   Facade Direction           Type  Floor  Bathrooms  Bedrooms  \\\n",
       "0     5.0  Đông Bắc          Nhà ở    NaN        NaN       2.0   \n",
       "3     NaN       NaN  Chung cư mini    NaN        NaN       NaN   \n",
       "\n",
       "                                          Legal Doc  \n",
       "0                                               NaN  \n",
       "3  Giấy CN QSDĐ - Sổ đỏ - Sổ hồng, Hợp đồng mua bán  "
      ]
     },
     "execution_count": 53,
     "metadata": {},
     "output_type": "execute_result"
    }
   ],
   "source": [
    "types = ['Nhà ở', 'Chung cư', 'Chung cư mini', 'Nhà cấp 4']\n",
    "house = new_data.loc[(new_data['Type']).isin(types)]\n",
    "house.drop(['Price(million/m_square)', 'Saler'], axis=1, inplace=True)\n",
    "house.head(2)"
   ]
  },
  {
   "cell_type": "markdown",
   "metadata": {},
   "source": [
    "## Thống kê mô tả"
   ]
  },
  {
   "cell_type": "markdown",
   "metadata": {
    "id": "fe-iC7oXLUjt"
   },
   "source": [
    "### Bảng mô tả tính chất thuộc tính numeric"
   ]
  },
  {
   "cell_type": "code",
   "execution_count": 54,
   "metadata": {
    "colab": {
     "base_uri": "https://localhost:8080/",
     "height": 235
    },
    "id": "Cn0V5U16n7k4",
    "outputId": "0e95106f-099d-44f8-84da-f5c315dbd0b5"
   },
   "outputs": [
    {
     "data": {
      "text/html": [
       "<div>\n",
       "<style scoped>\n",
       "    .dataframe tbody tr th:only-of-type {\n",
       "        vertical-align: middle;\n",
       "    }\n",
       "\n",
       "    .dataframe tbody tr th {\n",
       "        vertical-align: top;\n",
       "    }\n",
       "\n",
       "    .dataframe thead th {\n",
       "        text-align: right;\n",
       "    }\n",
       "</style>\n",
       "<table border=\"1\" class=\"dataframe\">\n",
       "  <thead>\n",
       "    <tr style=\"text-align: right;\">\n",
       "      <th></th>\n",
       "      <th>Price</th>\n",
       "      <th>Area</th>\n",
       "      <th>Facade</th>\n",
       "      <th>Floor</th>\n",
       "      <th>Bathrooms</th>\n",
       "      <th>Bedrooms</th>\n",
       "    </tr>\n",
       "  </thead>\n",
       "  <tbody>\n",
       "    <tr>\n",
       "      <th>missing_ratio</th>\n",
       "      <td>0.000000e+00</td>\n",
       "      <td>0.425532</td>\n",
       "      <td>45.831363</td>\n",
       "      <td>93.680063</td>\n",
       "      <td>70.606777</td>\n",
       "      <td>33.617021</td>\n",
       "    </tr>\n",
       "    <tr>\n",
       "      <th>min</th>\n",
       "      <td>1.100000e-03</td>\n",
       "      <td>7.000000</td>\n",
       "      <td>1.000000</td>\n",
       "      <td>1.000000</td>\n",
       "      <td>1.000000</td>\n",
       "      <td>1.000000</td>\n",
       "    </tr>\n",
       "    <tr>\n",
       "      <th>median</th>\n",
       "      <td>4.150000e+00</td>\n",
       "      <td>54.000000</td>\n",
       "      <td>4.500000</td>\n",
       "      <td>4.000000</td>\n",
       "      <td>3.000000</td>\n",
       "      <td>3.000000</td>\n",
       "    </tr>\n",
       "    <tr>\n",
       "      <th>lower_quantile</th>\n",
       "      <td>2.700000e+00</td>\n",
       "      <td>40.000000</td>\n",
       "      <td>4.000000</td>\n",
       "      <td>3.000000</td>\n",
       "      <td>2.000000</td>\n",
       "      <td>2.000000</td>\n",
       "    </tr>\n",
       "    <tr>\n",
       "      <th>upper_quantile</th>\n",
       "      <td>6.600000e+00</td>\n",
       "      <td>76.500000</td>\n",
       "      <td>5.300000</td>\n",
       "      <td>5.000000</td>\n",
       "      <td>4.000000</td>\n",
       "      <td>4.000000</td>\n",
       "    </tr>\n",
       "    <tr>\n",
       "      <th>max</th>\n",
       "      <td>2.260000e+06</td>\n",
       "      <td>20998.000000</td>\n",
       "      <td>313.600000</td>\n",
       "      <td>50.000000</td>\n",
       "      <td>50.000000</td>\n",
       "      <td>111.000000</td>\n",
       "    </tr>\n",
       "  </tbody>\n",
       "</table>\n",
       "</div>"
      ],
      "text/plain": [
       "                       Price          Area      Facade      Floor  Bathrooms  \\\n",
       "missing_ratio   0.000000e+00      0.425532   45.831363  93.680063  70.606777   \n",
       "min             1.100000e-03      7.000000    1.000000   1.000000   1.000000   \n",
       "median          4.150000e+00     54.000000    4.500000   4.000000   3.000000   \n",
       "lower_quantile  2.700000e+00     40.000000    4.000000   3.000000   2.000000   \n",
       "upper_quantile  6.600000e+00     76.500000    5.300000   5.000000   4.000000   \n",
       "max             2.260000e+06  20998.000000  313.600000  50.000000  50.000000   \n",
       "\n",
       "                  Bedrooms  \n",
       "missing_ratio    33.617021  \n",
       "min               1.000000  \n",
       "median            3.000000  \n",
       "lower_quantile    2.000000  \n",
       "upper_quantile    4.000000  \n",
       "max             111.000000  "
      ]
     },
     "execution_count": 54,
     "metadata": {},
     "output_type": "execute_result"
    }
   ],
   "source": [
    "numeric_cols_df = house.select_dtypes(exclude='object')\n",
    "\n",
    "def median(col):\n",
    "    return col.quantile(0.5)\n",
    "\n",
    "def lower_quantile(col):\n",
    "    return col.quantile(0.25)\n",
    "\n",
    "def upper_quantile(col):\n",
    "    return col.quantile(0.75)\n",
    "\n",
    "numeric_cols_df.agg([missing_ratio, min, median, lower_quantile, upper_quantile,max])"
   ]
  },
  {
   "cell_type": "markdown",
   "metadata": {},
   "source": [
    "### Mô tả tính chất của thuộc tính kiểu category"
   ]
  },
  {
   "cell_type": "code",
   "execution_count": 55,
   "metadata": {},
   "outputs": [
    {
     "data": {
      "text/html": [
       "<div>\n",
       "<style scoped>\n",
       "    .dataframe tbody tr th:only-of-type {\n",
       "        vertical-align: middle;\n",
       "    }\n",
       "\n",
       "    .dataframe tbody tr th {\n",
       "        vertical-align: top;\n",
       "    }\n",
       "\n",
       "    .dataframe thead th {\n",
       "        text-align: right;\n",
       "    }\n",
       "</style>\n",
       "<table border=\"1\" class=\"dataframe\">\n",
       "  <thead>\n",
       "    <tr style=\"text-align: right;\">\n",
       "      <th></th>\n",
       "      <th>Location</th>\n",
       "      <th>Street</th>\n",
       "      <th>Direction</th>\n",
       "      <th>Type</th>\n",
       "      <th>Legal Doc</th>\n",
       "    </tr>\n",
       "  </thead>\n",
       "  <tbody>\n",
       "    <tr>\n",
       "      <th>missing_ratio</th>\n",
       "      <td>0</td>\n",
       "      <td>10.0236</td>\n",
       "      <td>83.4358</td>\n",
       "      <td>0</td>\n",
       "      <td>12.6872</td>\n",
       "    </tr>\n",
       "    <tr>\n",
       "      <th>nunique</th>\n",
       "      <td>163</td>\n",
       "      <td>8</td>\n",
       "      <td>30</td>\n",
       "      <td>4</td>\n",
       "      <td>12</td>\n",
       "    </tr>\n",
       "    <tr>\n",
       "      <th>top10_value_counts</th>\n",
       "      <td>{'Quận Hà Đông, Thành phố Hà Nội': 543, 'Quận Đống Đa, Thành phố Hà Nội': 526, 'Quận Thanh Xuân, Thành phố Hà Nội': 482, 'Quận Cầu Giấy, Thành phố Hà Nội': 399, 'Quận Hoàng Mai, Thành phố Hà Nội': 336, 'Quận Bắc Từ Liêm, Thành phố Hà Nội': 286, 'Quận Hai Bà Trưng, Thành phố Hà Nội': 282, 'Quận Gò Vấp, Thành phố Hồ Chí Minh': 245, 'Quận Nam Từ Liêm, Thành phố Hà Nội': 227, 'Quận Long Biên, Thành phố Hà Nội': 227}</td>\n",
       "      <td>{'Ngõ ngách': 1321, 'Mặt phố - Mặt đường': 1306, 'Ngõ ô tô đỗ cửa': 1234, 'Ngõ 2 ô tô tránh': 899, 'Ngõ 1 ô tô': 816, 'Ngõ 3 ô tô tránh': 113, 'Ngõ 4 ô tô trở lên': 14, 'Ngõ 4 ô tô tránh': 6}</td>\n",
       "      <td>{'Đông Nam': 229, 'Tây Bắc': 148, 'Đông Bắc': 139, 'Tây Nam': 124, 'Nam': 92, 'Đông Tứ Trạch': 67, 'Bắc': 62, 'Đông': 59, 'Tây Tứ Trạch': 52, 'Tây': 37}</td>\n",
       "      <td>{'Nhà ở': 5263, 'Chung cư': 856, 'Chung cư mini': 155, 'Nhà cấp 4': 71}</td>\n",
       "      <td>{'Giấy CN QSDĐ - Sổ đỏ - Sổ hồng': 5171, 'Giấy CN QSDĐ - Sổ đỏ - Sổ hồng, Hợp đồng mua bán': 230, 'Hợp đồng mua bán': 121, 'Giấy CN QSDĐ - Sổ đỏ - Sổ hồng, Hợp đồng mua bán, Giấy tờ chứng minh nguồn gốc': 4, 'Giấy CN QSDĐ - Sổ đỏ - Sổ hồng, Hợp đồng mua bán, Hợp đồng góp vốn': 3, 'Đã có giấy hẹn lấy số': 3, 'Giấy CN QSDĐ - Sổ đỏ - Sổ hồng, Giấy tờ chứng minh nguồn gốc': 2, 'Đang làm giấy CN QSDĐ': 2, 'Giấy CN QSDĐ - Sổ đỏ - Sổ hồng, Chưa làm giấy CN QSDĐ': 1, 'Đất giao - Đất phân, Giấy tờ chứng minh nguồn gốc': 1}</td>\n",
       "    </tr>\n",
       "  </tbody>\n",
       "</table>\n",
       "</div>"
      ],
      "text/plain": [
       "                                                                                                                                                                                                                                                                                                                                                                                                                                           Location  \\\n",
       "missing_ratio                                                                                                                                                                                                                                                                                                                                                                                                                                     0   \n",
       "nunique                                                                                                                                                                                                                                                                                                                                                                                                                                         163   \n",
       "top10_value_counts  {'Quận Hà Đông, Thành phố Hà Nội': 543, 'Quận Đống Đa, Thành phố Hà Nội': 526, 'Quận Thanh Xuân, Thành phố Hà Nội': 482, 'Quận Cầu Giấy, Thành phố Hà Nội': 399, 'Quận Hoàng Mai, Thành phố Hà Nội': 336, 'Quận Bắc Từ Liêm, Thành phố Hà Nội': 286, 'Quận Hai Bà Trưng, Thành phố Hà Nội': 282, 'Quận Gò Vấp, Thành phố Hồ Chí Minh': 245, 'Quận Nam Từ Liêm, Thành phố Hà Nội': 227, 'Quận Long Biên, Thành phố Hà Nội': 227}   \n",
       "\n",
       "                                                                                                                                                                                                             Street  \\\n",
       "missing_ratio                                                                                                                                                                                               10.0236   \n",
       "nunique                                                                                                                                                                                                           8   \n",
       "top10_value_counts  {'Ngõ ngách': 1321, 'Mặt phố - Mặt đường': 1306, 'Ngõ ô tô đỗ cửa': 1234, 'Ngõ 2 ô tô tránh': 899, 'Ngõ 1 ô tô': 816, 'Ngõ 3 ô tô tránh': 113, 'Ngõ 4 ô tô trở lên': 14, 'Ngõ 4 ô tô tránh': 6}   \n",
       "\n",
       "                                                                                                                                                                   Direction  \\\n",
       "missing_ratio                                                                                                                                                        83.4358   \n",
       "nunique                                                                                                                                                                   30   \n",
       "top10_value_counts  {'Đông Nam': 229, 'Tây Bắc': 148, 'Đông Bắc': 139, 'Tây Nam': 124, 'Nam': 92, 'Đông Tứ Trạch': 67, 'Bắc': 62, 'Đông': 59, 'Tây Tứ Trạch': 52, 'Tây': 37}   \n",
       "\n",
       "                                                                                       Type  \\\n",
       "missing_ratio                                                                             0   \n",
       "nunique                                                                                   4   \n",
       "top10_value_counts  {'Nhà ở': 5263, 'Chung cư': 856, 'Chung cư mini': 155, 'Nhà cấp 4': 71}   \n",
       "\n",
       "                                                                                                                                                                                                                                                                                                                                                                                                                                                                                                                                                  Legal Doc  \n",
       "missing_ratio                                                                                                                                                                                                                                                                                                                                                                                                                                                                                                                                       12.6872  \n",
       "nunique                                                                                                                                                                                                                                                                                                                                                                                                                                                                                                                                                  12  \n",
       "top10_value_counts  {'Giấy CN QSDĐ - Sổ đỏ - Sổ hồng': 5171, 'Giấy CN QSDĐ - Sổ đỏ - Sổ hồng, Hợp đồng mua bán': 230, 'Hợp đồng mua bán': 121, 'Giấy CN QSDĐ - Sổ đỏ - Sổ hồng, Hợp đồng mua bán, Giấy tờ chứng minh nguồn gốc': 4, 'Giấy CN QSDĐ - Sổ đỏ - Sổ hồng, Hợp đồng mua bán, Hợp đồng góp vốn': 3, 'Đã có giấy hẹn lấy số': 3, 'Giấy CN QSDĐ - Sổ đỏ - Sổ hồng, Giấy tờ chứng minh nguồn gốc': 2, 'Đang làm giấy CN QSDĐ': 2, 'Giấy CN QSDĐ - Sổ đỏ - Sổ hồng, Chưa làm giấy CN QSDĐ': 1, 'Đất giao - Đất phân, Giấy tờ chứng minh nguồn gốc': 1}  "
      ]
     },
     "execution_count": 55,
     "metadata": {},
     "output_type": "execute_result"
    }
   ],
   "source": [
    "cat_col_df = house.select_dtypes(include='object')\n",
    "\n",
    "def missing_ratio(col):\n",
    "    return col.isna().mean()*100\n",
    "\n",
    "def top10_value_counts(col):\n",
    "    return dict(col.value_counts()[:10])\n",
    "\n",
    "category_stat = cat_col_df.agg([missing_ratio, pd.Series.nunique, top10_value_counts])\n",
    "pd.set_option('display.max_colwidth', 1000)\n",
    "category_stat"
   ]
  },
  {
   "cell_type": "markdown",
   "metadata": {
    "id": "wU9CHNyYLZjf"
   },
   "source": [
    "- Ta thấy rằng tỉ lệ giá trị thiếu ở các thuộc tính Floor, Bathrooms và Direction là khá lớn nên ta sẽ bỏ các thuộc tính này"
   ]
  },
  {
   "cell_type": "code",
   "execution_count": 56,
   "metadata": {
    "id": "xeD77k4Xn7k4"
   },
   "outputs": [],
   "source": [
    "house.drop(['Floor', 'Bathrooms', 'Direction'], axis=1, inplace=True)"
   ]
  },
  {
   "cell_type": "markdown",
   "metadata": {
    "id": "_QWZYRGPLtTI"
   },
   "source": [
    "## Trực quan để kiểm tra phân phối của thuộc tính"
   ]
  },
  {
   "cell_type": "code",
   "execution_count": 59,
   "metadata": {
    "colab": {
     "base_uri": "https://localhost:8080/",
     "height": 714
    },
    "id": "_ITgOMy7z-rA",
    "outputId": "0df58e42-fe5d-4d57-f19e-f5139723f0d9"
   },
   "outputs": [
    {
     "data": {
      "image/png": "[encoded data removed]",
      "text/plain": [
       "<Figure size 864x864 with 4 Axes>"
      ]
     },
     "metadata": {
      "needs_background": "light"
     },
     "output_type": "display_data"
    }
   ],
   "source": [
    "fig, ax = plt.subplots(2,2,figsize=(12,12))\n",
    "sns.boxplot(x='Price', data=house, ax=ax[0][0])\n",
    "sns.boxplot(x='Area', data=house, ax=ax[0][1])\n",
    "sns.boxplot(x='Facade', data=house, ax=ax[1][0])\n",
    "sns.boxplot(x='Bedrooms', data=house, ax=ax[1][1])\n",
    "plt.show()"
   ]
  },
  {
   "cell_type": "markdown",
   "metadata": {},
   "source": [
    "- Các giá trị ngoại lai làm tập dữ liệu bị lệch phải và điều này sẽ làm ảnh hưởng đến độ chính xác của mô hình"
   ]
  },
  {
   "cell_type": "code",
   "execution_count": 60,
   "metadata": {
    "colab": {
     "base_uri": "https://localhost:8080/",
     "height": 472
    },
    "id": "BCamQpmQ0ArP",
    "outputId": "d705d233-21be-4dd4-b86e-3e2d68179043"
   },
   "outputs": [
    {
     "data": {
      "image/png": "[encoded data removed]",
      "text/plain": [
       "<Figure size 1080x576 with 2 Axes>"
      ]
     },
     "metadata": {
      "needs_background": "light"
     },
     "output_type": "display_data"
    }
   ],
   "source": [
    "fig, ax = plt.subplots(1,2,figsize=(15,8))\n",
    "house['Street'].hist(bins=50, ax=ax[0]).set_xticklabels([])\n",
    "house['Location'].hist(bins=50, ax=ax[1])\n",
    "ax = plt.gca()\n",
    "ax.axes.xaxis.set_ticklabels([])\n",
    "plt.show()"
   ]
  },
  {
   "cell_type": "code",
   "execution_count": 61,
   "metadata": {
    "colab": {
     "base_uri": "https://localhost:8080/",
     "height": 271
    },
    "id": "iZuETPYm0CYZ",
    "outputId": "d7903350-4fe6-4c1c-da1d-877bddf2f73e"
   },
   "outputs": [
    {
     "data": {
      "text/plain": [
       "[]"
      ]
     },
     "execution_count": 61,
     "metadata": {},
     "output_type": "execute_result"
    },
    {
     "data": {
      "image/png": "[encoded data removed]",
      "text/plain": [
       "<Figure size 432x288 with 1 Axes>"
      ]
     },
     "metadata": {
      "needs_background": "light"
     },
     "output_type": "display_data"
    }
   ],
   "source": [
    "house['Legal Doc'].hist(bins=50).set_xticklabels([])"
   ]
  },
  {
   "cell_type": "markdown",
   "metadata": {},
   "source": [
    "- Trong các thuộc tính Street và Legal Doc, một số giá trị có tần suất xuất hiện khá thấp"
   ]
  },
  {
   "cell_type": "markdown",
   "metadata": {
    "id": "mjlOnQdhL9Ei"
   },
   "source": [
    "#### Giải thích hàm clipper"
   ]
  },
  {
   "cell_type": "markdown",
   "metadata": {},
   "source": [
    "- Các giá trị ngoại lai ảnh hướng rất lớn đến chất lượng mô hình Machine Learning\n",
    "- Dùng phương pháp chặn trên chặn dưới để xử lý các giá trị ngoại lai\n",
    "- Ta sẽ lấy chặn trên là giá trị maximum của boxplot, chặn dưới là giá trị minimum của boxplot\n",
    "- Sau đó ta sẽ tiến hành clip các giá trị vào [minimum, maximum] (giá trị nhỏ hơn minimum sẽ gán bằng minimum, giá trị lớn hơn maximum sẽ gán bằng maximum)"
   ]
  },
  {
   "cell_type": "code",
   "execution_count": 62,
   "metadata": {
    "id": "TqG7V3TP0FME"
   },
   "outputs": [],
   "source": [
    "def find_boxplot_boundaries(\n",
    "    col: pd.Series, whisker_coeff: float = 1.5\n",
    ") -> Tuple[float, float]:\n",
    "    \"\"\"Findx minimum and maximum in boxplot.\n",
    "\n",
    "    Args:\n",
    "        col: a pandas serires of input.\n",
    "        whisker_coeff: whisker coefficient in box plot\n",
    "    \"\"\"\n",
    "    Q1 = col.quantile(0.25)\n",
    "    Q3 = col.quantile(0.75)\n",
    "    IQR = Q3 - Q1\n",
    "    lower = Q1 - whisker_coeff * IQR\n",
    "    upper = Q3 + whisker_coeff * IQR\n",
    "    return lower, upper\n",
    "\n",
    "\n",
    "class BoxplotOutlierClipper(BaseEstimator, TransformerMixin):\n",
    "    def __init__(self, whisker_coeff: float = 1.5):\n",
    "        self.whisker = whisker_coeff\n",
    "        self.lower = None\n",
    "        self.upper = None\n",
    "\n",
    "    def fit(self, X: pd.Series):\n",
    "        self.lower, self.upper = find_boxplot_boundaries(X, self.whisker)\n",
    "        return self\n",
    "\n",
    "    def transform(self, X):\n",
    "        return X.clip(self.lower, self.upper)"
   ]
  },
  {
   "cell_type": "code",
   "execution_count": 63,
   "metadata": {
    "colab": {
     "base_uri": "https://localhost:8080/",
     "height": 320
    },
    "id": "Rt-zIWjF0GIt",
    "outputId": "baf5773e-cba8-4505-ffaa-8adf5ef909c7"
   },
   "outputs": [
    {
     "data": {
      "image/png": "[encoded data removed]",
      "text/plain": [
       "<Figure size 1080x360 with 2 Axes>"
      ]
     },
     "metadata": {
      "needs_background": "light"
     },
     "output_type": "display_data"
    }
   ],
   "source": [
    "clipped_price = BoxplotOutlierClipper().fit_transform(house[\"Price\"])\n",
    "\n",
    "fig, axes = plt.subplots(1,2, figsize=(15, 5))\n",
    "clipped_price.hist(bins=50, ax=axes[0])\n",
    "clipped_price.to_frame().boxplot(ax=axes[1], vert=False);"
   ]
  },
  {
   "cell_type": "code",
   "execution_count": 64,
   "metadata": {
    "colab": {
     "base_uri": "https://localhost:8080/",
     "height": 320
    },
    "id": "xu7HrOlZ0I7g",
    "outputId": "87aadcf5-4540-4652-e727-34f3a455bc3d"
   },
   "outputs": [
    {
     "data": {
      "image/png": "[encoded data removed]",
      "text/plain": [
       "<Figure size 1080x360 with 2 Axes>"
      ]
     },
     "metadata": {
      "needs_background": "light"
     },
     "output_type": "display_data"
    }
   ],
   "source": [
    "clipped_bedrooms = BoxplotOutlierClipper().fit_transform(house[\"Bedrooms\"])\n",
    "\n",
    "fig, axes = plt.subplots(1,2, figsize=(15, 5))\n",
    "clipped_bedrooms.hist(bins=50, ax=axes[0])\n",
    "clipped_bedrooms.to_frame().boxplot(ax=axes[1], vert=False);"
   ]
  },
  {
   "cell_type": "code",
   "execution_count": 65,
   "metadata": {
    "colab": {
     "base_uri": "https://localhost:8080/",
     "height": 320
    },
    "id": "_N-i_LgN0KTC",
    "outputId": "d219ea95-afbd-484a-c787-373f93b73ebf"
   },
   "outputs": [
    {
     "data": {
      "image/png": "[encoded data removed]",
      "text/plain": [
       "<Figure size 1080x360 with 2 Axes>"
      ]
     },
     "metadata": {
      "needs_background": "light"
     },
     "output_type": "display_data"
    }
   ],
   "source": [
    "clipped_facade = BoxplotOutlierClipper().fit_transform(house[\"Facade\"])\n",
    "\n",
    "fig, axes = plt.subplots(1, 2, figsize=(15, 5))\n",
    "clipped_facade.hist(bins=50, ax=axes[0])\n",
    "clipped_facade.to_frame().boxplot(ax=axes[1], vert=False);"
   ]
  },
  {
   "cell_type": "code",
   "execution_count": 66,
   "metadata": {
    "colab": {
     "base_uri": "https://localhost:8080/",
     "height": 320
    },
    "id": "RcDSdThP0MUB",
    "outputId": "07dd6a1f-e6da-4d47-e793-e1ad75b7507a"
   },
   "outputs": [
    {
     "data": {
      "image/png": "[encoded data removed]",
      "text/plain": [
       "<Figure size 1080x360 with 2 Axes>"
      ]
     },
     "metadata": {
      "needs_background": "light"
     },
     "output_type": "display_data"
    }
   ],
   "source": [
    "clipped_area = BoxplotOutlierClipper().fit_transform(house[\"Area\"])\n",
    "\n",
    "fig, axes = plt.subplots(1,2, figsize=(15, 5))\n",
    "clipped_area.hist(bins=50, ax=axes[0])\n",
    "clipped_area.to_frame().boxplot(ax=axes[1], vert=False);"
   ]
  },
  {
   "cell_type": "markdown",
   "metadata": {},
   "source": [
    "- Sau khi clip dữ liệu theo cực tiểu và cực đại của box plot, ta thấy rằng dữ liệu đỡ bị lệch đi. Box plot cũng cho thấy không còn điểm dữ liệu ngoại lệ nào"
   ]
  },
  {
   "cell_type": "markdown",
   "metadata": {
    "id": "t0j248QFMfry"
   },
   "source": [
    "#### Gán lại giá trị đã clip"
   ]
  },
  {
   "cell_type": "code",
   "execution_count": 67,
   "metadata": {
    "id": "KiNEQFHI0Na1"
   },
   "outputs": [],
   "source": [
    "house['Price'] = clipped_price\n",
    "house['Area'] = clipped_area\n",
    "house['Facade'] = clipped_facade\n",
    "house['Bedrooms'] = clipped_bedrooms"
   ]
  },
  {
   "cell_type": "code",
   "execution_count": 68,
   "metadata": {
    "colab": {
     "base_uri": "https://localhost:8080/",
     "height": 297
    },
    "id": "5ERCokag0PPA",
    "outputId": "0ce54f97-7f6c-4e33-999e-81fce8426474"
   },
   "outputs": [
    {
     "data": {
      "text/html": [
       "<div>\n",
       "<style scoped>\n",
       "    .dataframe tbody tr th:only-of-type {\n",
       "        vertical-align: middle;\n",
       "    }\n",
       "\n",
       "    .dataframe tbody tr th {\n",
       "        vertical-align: top;\n",
       "    }\n",
       "\n",
       "    .dataframe thead th {\n",
       "        text-align: right;\n",
       "    }\n",
       "</style>\n",
       "<table border=\"1\" class=\"dataframe\">\n",
       "  <thead>\n",
       "    <tr style=\"text-align: right;\">\n",
       "      <th></th>\n",
       "      <th>Price</th>\n",
       "      <th>Area</th>\n",
       "      <th>Facade</th>\n",
       "      <th>Bedrooms</th>\n",
       "    </tr>\n",
       "  </thead>\n",
       "  <tbody>\n",
       "    <tr>\n",
       "      <th>count</th>\n",
       "      <td>6345.000000</td>\n",
       "      <td>6318.000000</td>\n",
       "      <td>3437.000000</td>\n",
       "      <td>4212.000000</td>\n",
       "    </tr>\n",
       "    <tr>\n",
       "      <th>mean</th>\n",
       "      <td>5.135749</td>\n",
       "      <td>62.316390</td>\n",
       "      <td>4.808598</td>\n",
       "      <td>3.516619</td>\n",
       "    </tr>\n",
       "    <tr>\n",
       "      <th>std</th>\n",
       "      <td>3.400777</td>\n",
       "      <td>29.986409</td>\n",
       "      <td>1.214321</td>\n",
       "      <td>1.549457</td>\n",
       "    </tr>\n",
       "    <tr>\n",
       "      <th>min</th>\n",
       "      <td>0.001100</td>\n",
       "      <td>7.000000</td>\n",
       "      <td>2.050000</td>\n",
       "      <td>1.000000</td>\n",
       "    </tr>\n",
       "    <tr>\n",
       "      <th>25%</th>\n",
       "      <td>2.700000</td>\n",
       "      <td>40.000000</td>\n",
       "      <td>4.000000</td>\n",
       "      <td>2.000000</td>\n",
       "    </tr>\n",
       "    <tr>\n",
       "      <th>50%</th>\n",
       "      <td>4.150000</td>\n",
       "      <td>54.000000</td>\n",
       "      <td>4.500000</td>\n",
       "      <td>3.000000</td>\n",
       "    </tr>\n",
       "    <tr>\n",
       "      <th>75%</th>\n",
       "      <td>6.600000</td>\n",
       "      <td>76.500000</td>\n",
       "      <td>5.300000</td>\n",
       "      <td>4.000000</td>\n",
       "    </tr>\n",
       "    <tr>\n",
       "      <th>max</th>\n",
       "      <td>12.450000</td>\n",
       "      <td>131.250000</td>\n",
       "      <td>7.250000</td>\n",
       "      <td>7.000000</td>\n",
       "    </tr>\n",
       "  </tbody>\n",
       "</table>\n",
       "</div>"
      ],
      "text/plain": [
       "             Price         Area       Facade     Bedrooms\n",
       "count  6345.000000  6318.000000  3437.000000  4212.000000\n",
       "mean      5.135749    62.316390     4.808598     3.516619\n",
       "std       3.400777    29.986409     1.214321     1.549457\n",
       "min       0.001100     7.000000     2.050000     1.000000\n",
       "25%       2.700000    40.000000     4.000000     2.000000\n",
       "50%       4.150000    54.000000     4.500000     3.000000\n",
       "75%       6.600000    76.500000     5.300000     4.000000\n",
       "max      12.450000   131.250000     7.250000     7.000000"
      ]
     },
     "execution_count": 68,
     "metadata": {},
     "output_type": "execute_result"
    }
   ],
   "source": [
    "house.describe()"
   ]
  },
  {
   "cell_type": "markdown",
   "metadata": {
    "id": "XhY885gGNLo7"
   },
   "source": [
    "## Xây dựng pipeline xử lý dữ liệu"
   ]
  },
  {
   "cell_type": "code",
   "execution_count": 69,
   "metadata": {
    "id": "DD7XFm6MFOxb"
   },
   "outputs": [],
   "source": [
    "class MyLEncoder():\n",
    "    def __init__(self, key=[]):\n",
    "        self.key = []\n",
    "        self.size= (0,0)\n",
    "    def transform(self, X, y=None, **fit_params):\n",
    "        new_X = X.copy().reshape(-1)\n",
    "        enc = LabelEncoder()\n",
    "        self.fit(X, y, **fit_params)\n",
    "        enc = enc.fit(new_X)\n",
    "        self.classes=enc.classes_\n",
    "        \n",
    "        return enc.transform(new_X).reshape(self.size)\n",
    "\n",
    "    def fit_transform(self, X, y=None, **fit_params):\n",
    "        self.fit(X, y, **fit_params)\n",
    "        return self.transform(X)\n",
    "\n",
    "    def fit(self, X, y=None, **fit_params):\n",
    "        # self.key = list(X.columns)\n",
    "        self.size=X.shape        \n",
    "        return self\n"
   ]
  },
  {
   "cell_type": "code",
   "execution_count": 70,
   "metadata": {
    "id": "1SYAPVWe1XYv"
   },
   "outputs": [],
   "source": [
    "# get top values with give count\n",
    "\n",
    "class GetTop():\n",
    "    def __init__(self, num_top = 10):\n",
    "        self.num = num_top\n",
    "    def fit(self, X, y=None, **fit_params):\n",
    "        # self.values = X.apply(lambda x:x.value_counts().key())\n",
    "        self.keys = list(X.select_dtypes(include='object').columns)\n",
    "        # self.keys = list(X.columns)\n",
    "        self.keys.remove('Location')\n",
    "        self.top_dict = dict.fromkeys(list(self.keys), None)\n",
    "\n",
    "        for each in self.keys:\n",
    "            count = min(self.num, X[each].nunique())\n",
    "            self.top_dict[each] = list(X[each].value_counts().keys())[:count]\n",
    "\n",
    "        return self\n",
    "\n",
    "    def transform(self, X, y=None, **fit_params):\n",
    "        # self.fit(X, y, **fit_params)\n",
    "        new_X = X.copy()\n",
    "        \n",
    "        for col in self.keys:\n",
    "            new_X.loc[(~new_X[col].isin(self.top_dict[col])) & (new_X[col]!=np.nan), col] ='other'\n",
    "\n",
    "        return pd.DataFrame(new_X)\n",
    "\n",
    "    def fit_transform(self, X, y=None,**fit_params):\n",
    "        self.fit(X, y, **fit_params)\n",
    "        return self.transform(X, y, **fit_params)"
   ]
  },
  {
   "cell_type": "code",
   "execution_count": 71,
   "metadata": {
    "id": "QQ2Ic2qWn7k5"
   },
   "outputs": [],
   "source": [
    "num_col = ['Area', 'Facade', 'Bedrooms']\n",
    "cate_col = ['Location', 'Street', 'Type', 'Legal Doc']"
   ]
  },
  {
   "cell_type": "code",
   "execution_count": 72,
   "metadata": {
    "id": "1v1VSnvkHYx0"
   },
   "outputs": [],
   "source": [
    "cate_imputer=Pipeline(steps=[('imputer', SimpleImputer(missing_values=np.nan, strategy='most_frequent')), ('encoder', MyLEncoder())])\n",
    "rem_num_col = list(set(num_col) - set(['Floor', 'Bathrooms', 'Bedrooms']))"
   ]
  },
  {
   "cell_type": "code",
   "execution_count": 73,
   "metadata": {
    "id": "QZF5_RXgn7k5"
   },
   "outputs": [],
   "source": [
    "transfer = ColumnTransformer([('num', SimpleImputer(missing_values=np.nan, strategy='mean'), num_col),\n",
    "                              ('cate', cate_imputer, cate_col)], remainder='drop')"
   ]
  },
  {
   "cell_type": "code",
   "execution_count": 74,
   "metadata": {
    "colab": {
     "base_uri": "https://localhost:8080/",
     "height": 227
    },
    "id": "IxcWWJ76LSmr",
    "outputId": "fa648859-66cb-4159-ebe5-2f235ac148c8"
   },
   "outputs": [
    {
     "data": {
      "text/html": [
       "<style>#sk-818ad516-dc17-44e8-8cda-a4377f02cc5e {color: black;background-color: white;}#sk-818ad516-dc17-44e8-8cda-a4377f02cc5e pre{padding: 0;}#sk-818ad516-dc17-44e8-8cda-a4377f02cc5e div.sk-toggleable {background-color: white;}#sk-818ad516-dc17-44e8-8cda-a4377f02cc5e label.sk-toggleable__label {cursor: pointer;display: block;width: 100%;margin-bottom: 0;padding: 0.2em 0.3em;box-sizing: border-box;text-align: center;}#sk-818ad516-dc17-44e8-8cda-a4377f02cc5e div.sk-toggleable__content {max-height: 0;max-width: 0;overflow: hidden;text-align: left;background-color: #f0f8ff;}#sk-818ad516-dc17-44e8-8cda-a4377f02cc5e div.sk-toggleable__content pre {margin: 0.2em;color: black;border-radius: 0.25em;background-color: #f0f8ff;}#sk-818ad516-dc17-44e8-8cda-a4377f02cc5e input.sk-toggleable__control:checked~div.sk-toggleable__content {max-height: 200px;max-width: 100%;overflow: auto;}#sk-818ad516-dc17-44e8-8cda-a4377f02cc5e div.sk-estimator input.sk-toggleable__control:checked~label.sk-toggleable__label {background-color: #d4ebff;}#sk-818ad516-dc17-44e8-8cda-a4377f02cc5e div.sk-label input.sk-toggleable__control:checked~label.sk-toggleable__label {background-color: #d4ebff;}#sk-818ad516-dc17-44e8-8cda-a4377f02cc5e input.sk-hidden--visually {border: 0;clip: rect(1px 1px 1px 1px);clip: rect(1px, 1px, 1px, 1px);height: 1px;margin: -1px;overflow: hidden;padding: 0;position: absolute;width: 1px;}#sk-818ad516-dc17-44e8-8cda-a4377f02cc5e div.sk-estimator {font-family: monospace;background-color: #f0f8ff;margin: 0.25em 0.25em;border: 1px dotted black;border-radius: 0.25em;box-sizing: border-box;}#sk-818ad516-dc17-44e8-8cda-a4377f02cc5e div.sk-estimator:hover {background-color: #d4ebff;}#sk-818ad516-dc17-44e8-8cda-a4377f02cc5e div.sk-parallel-item::after {content: \"\";width: 100%;border-bottom: 1px solid gray;flex-grow: 1;}#sk-818ad516-dc17-44e8-8cda-a4377f02cc5e div.sk-label:hover label.sk-toggleable__label {background-color: #d4ebff;}#sk-818ad516-dc17-44e8-8cda-a4377f02cc5e div.sk-serial::before {content: \"\";position: absolute;border-left: 1px solid gray;box-sizing: border-box;top: 2em;bottom: 0;left: 50%;}#sk-818ad516-dc17-44e8-8cda-a4377f02cc5e div.sk-serial {display: flex;flex-direction: column;align-items: center;background-color: white;}#sk-818ad516-dc17-44e8-8cda-a4377f02cc5e div.sk-item {z-index: 1;}#sk-818ad516-dc17-44e8-8cda-a4377f02cc5e div.sk-parallel {display: flex;align-items: stretch;justify-content: center;background-color: white;}#sk-818ad516-dc17-44e8-8cda-a4377f02cc5e div.sk-parallel-item {display: flex;flex-direction: column;position: relative;background-color: white;}#sk-818ad516-dc17-44e8-8cda-a4377f02cc5e div.sk-parallel-item:first-child::after {align-self: flex-end;width: 50%;}#sk-818ad516-dc17-44e8-8cda-a4377f02cc5e div.sk-parallel-item:last-child::after {align-self: flex-start;width: 50%;}#sk-818ad516-dc17-44e8-8cda-a4377f02cc5e div.sk-parallel-item:only-child::after {width: 0;}#sk-818ad516-dc17-44e8-8cda-a4377f02cc5e div.sk-dashed-wrapped {border: 1px dashed gray;margin: 0.2em;box-sizing: border-box;padding-bottom: 0.1em;background-color: white;position: relative;}#sk-818ad516-dc17-44e8-8cda-a4377f02cc5e div.sk-label label {font-family: monospace;font-weight: bold;background-color: white;display: inline-block;line-height: 1.2em;}#sk-818ad516-dc17-44e8-8cda-a4377f02cc5e div.sk-label-container {position: relative;z-index: 2;text-align: center;}#sk-818ad516-dc17-44e8-8cda-a4377f02cc5e div.sk-container {display: inline-block;position: relative;}</style><div id=\"sk-818ad516-dc17-44e8-8cda-a4377f02cc5e\" class\"sk-top-container\"><div class=\"sk-container\"><div class=\"sk-item sk-dashed-wrapped\"><div class=\"sk-label-container\"><div class=\"sk-label sk-toggleable\"><input class=\"sk-toggleable__control sk-hidden--visually\" id=\"825ddd37-3989-4116-9e09-c14ae4c3d60e\" type=\"checkbox\" ><label class=\"sk-toggleable__label\" for=\"825ddd37-3989-4116-9e09-c14ae4c3d60e\">Pipeline</label><div class=\"sk-toggleable__content\"><pre>Pipeline(steps=[('get_top', <__main__.GetTop object at 0x0000029602109370>),\n",
       "                ('transfer',\n",
       "                 ColumnTransformer(transformers=[('num', SimpleImputer(),\n",
       "                                                  ['Area', 'Facade',\n",
       "                                                   'Bedrooms']),\n",
       "                                                 ('cate',\n",
       "                                                  Pipeline(steps=[('imputer',\n",
       "                                                                   SimpleImputer(strategy='most_frequent')),\n",
       "                                                                  ('encoder',\n",
       "                                                                   <__main__.MyLEncoder object at 0x0000029602D480A0>)]),\n",
       "                                                  ['Location', 'Street', 'Type',\n",
       "                                                   'Legal Doc'])])),\n",
       "                ('scaler', StandardScaler())])</pre></div></div></div><div class=\"sk-serial\"><div class=\"sk-item\"><div class=\"sk-estimator sk-toggleable\"><input class=\"sk-toggleable__control sk-hidden--visually\" id=\"c7ce9a59-d0d1-446f-b9fb-9f48a200ec2a\" type=\"checkbox\" ><label class=\"sk-toggleable__label\" for=\"c7ce9a59-d0d1-446f-b9fb-9f48a200ec2a\">GetTop</label><div class=\"sk-toggleable__content\"><pre><__main__.GetTop object at 0x0000029602109370></pre></div></div></div><div class=\"sk-item sk-dashed-wrapped\"><div class=\"sk-label-container\"><div class=\"sk-label sk-toggleable\"><input class=\"sk-toggleable__control sk-hidden--visually\" id=\"593c2d2e-aabe-47e4-8afb-7a20e011ded5\" type=\"checkbox\" ><label class=\"sk-toggleable__label\" for=\"593c2d2e-aabe-47e4-8afb-7a20e011ded5\">transfer: ColumnTransformer</label><div class=\"sk-toggleable__content\"><pre>ColumnTransformer(transformers=[('num', SimpleImputer(),\n",
       "                                 ['Area', 'Facade', 'Bedrooms']),\n",
       "                                ('cate',\n",
       "                                 Pipeline(steps=[('imputer',\n",
       "                                                  SimpleImputer(strategy='most_frequent')),\n",
       "                                                 ('encoder',\n",
       "                                                  <__main__.MyLEncoder object at 0x0000029602D480A0>)]),\n",
       "                                 ['Location', 'Street', 'Type', 'Legal Doc'])])</pre></div></div></div><div class=\"sk-parallel\"><div class=\"sk-parallel-item\"><div class=\"sk-item\"><div class=\"sk-label-container\"><div class=\"sk-label sk-toggleable\"><input class=\"sk-toggleable__control sk-hidden--visually\" id=\"73510734-a615-427f-8f3d-94d5bbdd9d8d\" type=\"checkbox\" ><label class=\"sk-toggleable__label\" for=\"73510734-a615-427f-8f3d-94d5bbdd9d8d\">num</label><div class=\"sk-toggleable__content\"><pre>['Area', 'Facade', 'Bedrooms']</pre></div></div></div><div class=\"sk-serial\"><div class=\"sk-item\"><div class=\"sk-estimator sk-toggleable\"><input class=\"sk-toggleable__control sk-hidden--visually\" id=\"203bd0d3-db4a-450d-b887-e859eda6298f\" type=\"checkbox\" ><label class=\"sk-toggleable__label\" for=\"203bd0d3-db4a-450d-b887-e859eda6298f\">SimpleImputer</label><div class=\"sk-toggleable__content\"><pre>SimpleImputer()</pre></div></div></div></div></div></div><div class=\"sk-parallel-item\"><div class=\"sk-item\"><div class=\"sk-label-container\"><div class=\"sk-label sk-toggleable\"><input class=\"sk-toggleable__control sk-hidden--visually\" id=\"771333b3-6653-498f-82ad-ed86baec1a5b\" type=\"checkbox\" ><label class=\"sk-toggleable__label\" for=\"771333b3-6653-498f-82ad-ed86baec1a5b\">cate</label><div class=\"sk-toggleable__content\"><pre>['Location', 'Street', 'Type', 'Legal Doc']</pre></div></div></div><div class=\"sk-serial\"><div class=\"sk-item\"><div class=\"sk-serial\"><div class=\"sk-item\"><div class=\"sk-estimator sk-toggleable\"><input class=\"sk-toggleable__control sk-hidden--visually\" id=\"d41b8a51-f70a-47c1-a2d7-5b153090af18\" type=\"checkbox\" ><label class=\"sk-toggleable__label\" for=\"d41b8a51-f70a-47c1-a2d7-5b153090af18\">SimpleImputer</label><div class=\"sk-toggleable__content\"><pre>SimpleImputer(strategy='most_frequent')</pre></div></div></div><div class=\"sk-item\"><div class=\"sk-estimator sk-toggleable\"><input class=\"sk-toggleable__control sk-hidden--visually\" id=\"98671d0a-8cc9-442e-9e34-76c51cdd284b\" type=\"checkbox\" ><label class=\"sk-toggleable__label\" for=\"98671d0a-8cc9-442e-9e34-76c51cdd284b\">MyLEncoder</label><div class=\"sk-toggleable__content\"><pre><__main__.MyLEncoder object at 0x0000029602D480A0></pre></div></div></div></div></div></div></div></div></div></div><div class=\"sk-item\"><div class=\"sk-estimator sk-toggleable\"><input class=\"sk-toggleable__control sk-hidden--visually\" id=\"21b54555-873f-4dfe-afa0-29549a07d07e\" type=\"checkbox\" ><label class=\"sk-toggleable__label\" for=\"21b54555-873f-4dfe-afa0-29549a07d07e\">StandardScaler</label><div class=\"sk-toggleable__content\"><pre>StandardScaler()</pre></div></div></div></div></div></div></div>"
      ],
      "text/plain": [
       "Pipeline(steps=[('get_top', <__main__.GetTop object at 0x0000029602109370>),\n",
       "                ('transfer',\n",
       "                 ColumnTransformer(transformers=[('num', SimpleImputer(),\n",
       "                                                  ['Area', 'Facade',\n",
       "                                                   'Bedrooms']),\n",
       "                                                 ('cate',\n",
       "                                                  Pipeline(steps=[('imputer',\n",
       "                                                                   SimpleImputer(strategy='most_frequent')),\n",
       "                                                                  ('encoder',\n",
       "                                                                   <__main__.MyLEncoder object at 0x0000029602D480A0>)]),\n",
       "                                                  ['Location', 'Street', 'Type',\n",
       "                                                   'Legal Doc'])])),\n",
       "                ('scaler', StandardScaler())])"
      ]
     },
     "execution_count": 74,
     "metadata": {},
     "output_type": "execute_result"
    }
   ],
   "source": [
    "p = Pipeline(steps=[('get_top', GetTop()), ('transfer', transfer), ('scaler', StandardScaler())])\n",
    "p"
   ]
  },
  {
   "cell_type": "code",
   "execution_count": 75,
   "metadata": {
    "colab": {
     "base_uri": "https://localhost:8080/",
     "height": 419
    },
    "id": "rTJAf68YhlUr",
    "outputId": "4eaeaa1d-f915-4628-b36a-b3a223bb240c"
   },
   "outputs": [
    {
     "data": {
      "text/html": [
       "<div>\n",
       "<style scoped>\n",
       "    .dataframe tbody tr th:only-of-type {\n",
       "        vertical-align: middle;\n",
       "    }\n",
       "\n",
       "    .dataframe tbody tr th {\n",
       "        vertical-align: top;\n",
       "    }\n",
       "\n",
       "    .dataframe thead th {\n",
       "        text-align: right;\n",
       "    }\n",
       "</style>\n",
       "<table border=\"1\" class=\"dataframe\">\n",
       "  <thead>\n",
       "    <tr style=\"text-align: right;\">\n",
       "      <th></th>\n",
       "      <th>Area</th>\n",
       "      <th>Facade</th>\n",
       "      <th>Bedrooms</th>\n",
       "      <th>Location</th>\n",
       "      <th>Street</th>\n",
       "      <th>Type</th>\n",
       "      <th>Legal Doc</th>\n",
       "    </tr>\n",
       "  </thead>\n",
       "  <tbody>\n",
       "    <tr>\n",
       "      <th>0</th>\n",
       "      <td>0.9252</td>\n",
       "      <td>0.2142</td>\n",
       "      <td>-1.2015</td>\n",
       "      <td>0.3305</td>\n",
       "      <td>-0.4425</td>\n",
       "      <td>0.4358</td>\n",
       "      <td>2.5735</td>\n",
       "    </tr>\n",
       "    <tr>\n",
       "      <th>1</th>\n",
       "      <td>-0.2445</td>\n",
       "      <td>-0.0000</td>\n",
       "      <td>0.0000</td>\n",
       "      <td>0.4051</td>\n",
       "      <td>-0.4105</td>\n",
       "      <td>-2.2693</td>\n",
       "      <td>-0.3568</td>\n",
       "    </tr>\n",
       "    <tr>\n",
       "      <th>2</th>\n",
       "      <td>-0.3782</td>\n",
       "      <td>-0.0000</td>\n",
       "      <td>0.0000</td>\n",
       "      <td>2.3817</td>\n",
       "      <td>-0.4425</td>\n",
       "      <td>-2.3019</td>\n",
       "      <td>-0.4065</td>\n",
       "    </tr>\n",
       "    <tr>\n",
       "      <th>3</th>\n",
       "      <td>-0.2111</td>\n",
       "      <td>-0.0000</td>\n",
       "      <td>0.0000</td>\n",
       "      <td>0.5915</td>\n",
       "      <td>-0.4105</td>\n",
       "      <td>-2.2693</td>\n",
       "      <td>-0.3568</td>\n",
       "    </tr>\n",
       "    <tr>\n",
       "      <th>4</th>\n",
       "      <td>-1.0801</td>\n",
       "      <td>-0.0000</td>\n",
       "      <td>-0.4093</td>\n",
       "      <td>0.1440</td>\n",
       "      <td>-0.2504</td>\n",
       "      <td>0.4358</td>\n",
       "      <td>-0.4065</td>\n",
       "    </tr>\n",
       "    <tr>\n",
       "      <th>...</th>\n",
       "      <td>...</td>\n",
       "      <td>...</td>\n",
       "      <td>...</td>\n",
       "      <td>...</td>\n",
       "      <td>...</td>\n",
       "      <td>...</td>\n",
       "      <td>...</td>\n",
       "    </tr>\n",
       "    <tr>\n",
       "      <th>6340</th>\n",
       "      <td>-0.2445</td>\n",
       "      <td>-1.4644</td>\n",
       "      <td>-1.2015</td>\n",
       "      <td>-0.3036</td>\n",
       "      <td>-0.4105</td>\n",
       "      <td>0.4358</td>\n",
       "      <td>-0.4065</td>\n",
       "    </tr>\n",
       "    <tr>\n",
       "      <th>6341</th>\n",
       "      <td>0.9252</td>\n",
       "      <td>-0.3453</td>\n",
       "      <td>-0.4093</td>\n",
       "      <td>0.2559</td>\n",
       "      <td>-0.4425</td>\n",
       "      <td>0.4358</td>\n",
       "      <td>-0.4065</td>\n",
       "    </tr>\n",
       "    <tr>\n",
       "      <th>6342</th>\n",
       "      <td>-0.6456</td>\n",
       "      <td>1.3333</td>\n",
       "      <td>-1.2015</td>\n",
       "      <td>0.2559</td>\n",
       "      <td>-0.4105</td>\n",
       "      <td>0.4358</td>\n",
       "      <td>-0.4065</td>\n",
       "    </tr>\n",
       "    <tr>\n",
       "      <th>6343</th>\n",
       "      <td>-0.9798</td>\n",
       "      <td>-0.0000</td>\n",
       "      <td>0.0000</td>\n",
       "      <td>-0.1544</td>\n",
       "      <td>-0.3785</td>\n",
       "      <td>0.4358</td>\n",
       "      <td>-0.4065</td>\n",
       "    </tr>\n",
       "    <tr>\n",
       "      <th>6344</th>\n",
       "      <td>-0.5453</td>\n",
       "      <td>-0.9049</td>\n",
       "      <td>0.3829</td>\n",
       "      <td>-0.1544</td>\n",
       "      <td>-0.3785</td>\n",
       "      <td>0.4358</td>\n",
       "      <td>-0.4065</td>\n",
       "    </tr>\n",
       "  </tbody>\n",
       "</table>\n",
       "<p>6345 rows × 7 columns</p>\n",
       "</div>"
      ],
      "text/plain": [
       "        Area  Facade  Bedrooms  Location  Street    Type  Legal Doc\n",
       "0     0.9252  0.2142   -1.2015    0.3305 -0.4425  0.4358     2.5735\n",
       "1    -0.2445 -0.0000    0.0000    0.4051 -0.4105 -2.2693    -0.3568\n",
       "2    -0.3782 -0.0000    0.0000    2.3817 -0.4425 -2.3019    -0.4065\n",
       "3    -0.2111 -0.0000    0.0000    0.5915 -0.4105 -2.2693    -0.3568\n",
       "4    -1.0801 -0.0000   -0.4093    0.1440 -0.2504  0.4358    -0.4065\n",
       "...      ...     ...       ...       ...     ...     ...        ...\n",
       "6340 -0.2445 -1.4644   -1.2015   -0.3036 -0.4105  0.4358    -0.4065\n",
       "6341  0.9252 -0.3453   -0.4093    0.2559 -0.4425  0.4358    -0.4065\n",
       "6342 -0.6456  1.3333   -1.2015    0.2559 -0.4105  0.4358    -0.4065\n",
       "6343 -0.9798 -0.0000    0.0000   -0.1544 -0.3785  0.4358    -0.4065\n",
       "6344 -0.5453 -0.9049    0.3829   -0.1544 -0.3785  0.4358    -0.4065\n",
       "\n",
       "[6345 rows x 7 columns]"
      ]
     },
     "execution_count": 75,
     "metadata": {},
     "output_type": "execute_result"
    }
   ],
   "source": [
    "a = p.fit_transform(house).round(4)\n",
    "scale_df = pd.DataFrame(a, columns = num_col+ cate_col)\n",
    "scale_df"
   ]
  },
  {
   "cell_type": "markdown",
   "metadata": {
    "id": "7PnbQBT3NcQH"
   },
   "source": [
    "## Phân tích hồi quy bằng mô hình OLS"
   ]
  },
  {
   "cell_type": "code",
   "execution_count": 76,
   "metadata": {
    "colab": {
     "base_uri": "https://localhost:8080/"
    },
    "id": "fWYARzaPlOgV",
    "outputId": "eccc89ba-6f48-42f3-cecd-03ecca5fc473"
   },
   "outputs": [
    {
     "data": {
      "text/plain": [
       "0       4.75\n",
       "1       0.77\n",
       "2       1.90\n",
       "3       0.66\n",
       "4       2.60\n",
       "        ... \n",
       "6340    5.45\n",
       "6341    4.29\n",
       "6342    2.25\n",
       "6343    1.10\n",
       "6344    8.50\n",
       "Name: Price, Length: 6345, dtype: float64"
      ]
     },
     "execution_count": 76,
     "metadata": {},
     "output_type": "execute_result"
    }
   ],
   "source": [
    "y = house['Price'].reset_index(drop=True)\n",
    "y"
   ]
  },
  {
   "cell_type": "code",
   "execution_count": 77,
   "metadata": {
    "colab": {
     "base_uri": "https://localhost:8080/"
    },
    "id": "LbwgwbXAjCGI",
    "outputId": "7058f972-a84f-4bc9-8847-6a2e6e592526"
   },
   "outputs": [
    {
     "data": {
      "text/plain": [
       "(6345, 8)"
      ]
     },
     "execution_count": 77,
     "metadata": {},
     "output_type": "execute_result"
    }
   ],
   "source": [
    "X = sm.add_constant(scale_df)\n",
    "X.shape"
   ]
  },
  {
   "cell_type": "code",
   "execution_count": 78,
   "metadata": {
    "id": "HxgNsSS3k_qp"
   },
   "outputs": [],
   "source": [
    "result = sm.OLS(y, X).fit()"
   ]
  },
  {
   "cell_type": "code",
   "execution_count": 79,
   "metadata": {
    "colab": {
     "base_uri": "https://localhost:8080/",
     "height": 570
    },
    "id": "EFRCJCFOlE3y",
    "outputId": "a25daee8-a176-4d52-ec23-6e4bf9bc502b"
   },
   "outputs": [
    {
     "data": {
      "text/html": [
       "<table class=\"simpletable\">\n",
       "<caption>OLS Regression Results</caption>\n",
       "<tr>\n",
       "  <th>Dep. Variable:</th>          <td>Price</td>      <th>  R-squared:         </th> <td>   0.375</td> \n",
       "</tr>\n",
       "<tr>\n",
       "  <th>Model:</th>                   <td>OLS</td>       <th>  Adj. R-squared:    </th> <td>   0.374</td> \n",
       "</tr>\n",
       "<tr>\n",
       "  <th>Method:</th>             <td>Least Squares</td>  <th>  F-statistic:       </th> <td>   543.0</td> \n",
       "</tr>\n",
       "<tr>\n",
       "  <th>Date:</th>             <td>Tue, 13 Jul 2021</td> <th>  Prob (F-statistic):</th>  <td>  0.00</td>  \n",
       "</tr>\n",
       "<tr>\n",
       "  <th>Time:</th>                 <td>11:20:43</td>     <th>  Log-Likelihood:    </th> <td> -15278.</td> \n",
       "</tr>\n",
       "<tr>\n",
       "  <th>No. Observations:</th>      <td>  6345</td>      <th>  AIC:               </th> <td>3.057e+04</td>\n",
       "</tr>\n",
       "<tr>\n",
       "  <th>Df Residuals:</th>          <td>  6337</td>      <th>  BIC:               </th> <td>3.063e+04</td>\n",
       "</tr>\n",
       "<tr>\n",
       "  <th>Df Model:</th>              <td>     7</td>      <th>                     </th>     <td> </td>    \n",
       "</tr>\n",
       "<tr>\n",
       "  <th>Covariance Type:</th>      <td>nonrobust</td>    <th>                     </th>     <td> </td>    \n",
       "</tr>\n",
       "</table>\n",
       "<table class=\"simpletable\">\n",
       "<tr>\n",
       "      <td></td>         <th>coef</th>     <th>std err</th>      <th>t</th>      <th>P>|t|</th>  <th>[0.025</th>    <th>0.975]</th>  \n",
       "</tr>\n",
       "<tr>\n",
       "  <th>const</th>     <td>    5.1358</td> <td>    0.034</td> <td>  152.067</td> <td> 0.000</td> <td>    5.070</td> <td>    5.202</td>\n",
       "</tr>\n",
       "<tr>\n",
       "  <th>Area</th>      <td>    1.2678</td> <td>    0.038</td> <td>   32.968</td> <td> 0.000</td> <td>    1.192</td> <td>    1.343</td>\n",
       "</tr>\n",
       "<tr>\n",
       "  <th>Facade</th>    <td>    0.2495</td> <td>    0.038</td> <td>    6.617</td> <td> 0.000</td> <td>    0.176</td> <td>    0.323</td>\n",
       "</tr>\n",
       "<tr>\n",
       "  <th>Bedrooms</th>  <td>    0.8478</td> <td>    0.036</td> <td>   23.674</td> <td> 0.000</td> <td>    0.778</td> <td>    0.918</td>\n",
       "</tr>\n",
       "<tr>\n",
       "  <th>Location</th>  <td>    0.1207</td> <td>    0.034</td> <td>    3.566</td> <td> 0.000</td> <td>    0.054</td> <td>    0.187</td>\n",
       "</tr>\n",
       "<tr>\n",
       "  <th>Street</th>    <td>    0.0029</td> <td>    0.037</td> <td>    0.078</td> <td> 0.938</td> <td>   -0.069</td> <td>    0.075</td>\n",
       "</tr>\n",
       "<tr>\n",
       "  <th>Type</th>      <td>    1.0626</td> <td>    0.036</td> <td>   29.364</td> <td> 0.000</td> <td>    0.992</td> <td>    1.133</td>\n",
       "</tr>\n",
       "<tr>\n",
       "  <th>Legal Doc</th> <td>   -0.0891</td> <td>    0.036</td> <td>   -2.450</td> <td> 0.014</td> <td>   -0.160</td> <td>   -0.018</td>\n",
       "</tr>\n",
       "</table>\n",
       "<table class=\"simpletable\">\n",
       "<tr>\n",
       "  <th>Omnibus:</th>       <td>338.024</td> <th>  Durbin-Watson:     </th> <td>   1.917</td> \n",
       "</tr>\n",
       "<tr>\n",
       "  <th>Prob(Omnibus):</th> <td> 0.000</td>  <th>  Jarque-Bera (JB):  </th> <td> 742.401</td> \n",
       "</tr>\n",
       "<tr>\n",
       "  <th>Skew:</th>          <td> 0.350</td>  <th>  Prob(JB):          </th> <td>6.16e-162</td>\n",
       "</tr>\n",
       "<tr>\n",
       "  <th>Kurtosis:</th>      <td> 4.522</td>  <th>  Cond. No.          </th> <td>    1.73</td> \n",
       "</tr>\n",
       "</table><br/><br/>Warnings:<br/>[1] Standard Errors assume that the covariance matrix of the errors is correctly specified."
      ],
      "text/plain": [
       "<class 'statsmodels.iolib.summary.Summary'>\n",
       "\"\"\"\n",
       "                            OLS Regression Results                            \n",
       "==============================================================================\n",
       "Dep. Variable:                  Price   R-squared:                       0.375\n",
       "Model:                            OLS   Adj. R-squared:                  0.374\n",
       "Method:                 Least Squares   F-statistic:                     543.0\n",
       "Date:                Tue, 13 Jul 2021   Prob (F-statistic):               0.00\n",
       "Time:                        11:20:43   Log-Likelihood:                -15278.\n",
       "No. Observations:                6345   AIC:                         3.057e+04\n",
       "Df Residuals:                    6337   BIC:                         3.063e+04\n",
       "Df Model:                           7                                         \n",
       "Covariance Type:            nonrobust                                         \n",
       "==============================================================================\n",
       "                 coef    std err          t      P>|t|      [0.025      0.975]\n",
       "------------------------------------------------------------------------------\n",
       "const          5.1358      0.034    152.067      0.000       5.070       5.202\n",
       "Area           1.2678      0.038     32.968      0.000       1.192       1.343\n",
       "Facade         0.2495      0.038      6.617      0.000       0.176       0.323\n",
       "Bedrooms       0.8478      0.036     23.674      0.000       0.778       0.918\n",
       "Location       0.1207      0.034      3.566      0.000       0.054       0.187\n",
       "Street         0.0029      0.037      0.078      0.938      -0.069       0.075\n",
       "Type           1.0626      0.036     29.364      0.000       0.992       1.133\n",
       "Legal Doc     -0.0891      0.036     -2.450      0.014      -0.160      -0.018\n",
       "==============================================================================\n",
       "Omnibus:                      338.024   Durbin-Watson:                   1.917\n",
       "Prob(Omnibus):                  0.000   Jarque-Bera (JB):              742.401\n",
       "Skew:                           0.350   Prob(JB):                    6.16e-162\n",
       "Kurtosis:                       4.522   Cond. No.                         1.73\n",
       "==============================================================================\n",
       "\n",
       "Warnings:\n",
       "[1] Standard Errors assume that the covariance matrix of the errors is correctly specified.\n",
       "\"\"\""
      ]
     },
     "execution_count": 79,
     "metadata": {},
     "output_type": "execute_result"
    }
   ],
   "source": [
    "result.summary()"
   ]
  },
  {
   "cell_type": "markdown",
   "metadata": {
    "id": "VyHhIVcYqfIl"
   },
   "source": [
    "Nhìn vào bảng trên, ta thấy:\n",
    "- Số mẫu quan sát là 6345\n",
    "- Số mô hình là 7\n",
    "- $r^2$ là 0.375\n",
    "- $r$ bình phương hiệu chỉnh là 0.374, nghĩa là các biến độc lập giải thích được **37.4%** biến thiên của biến phụ thuộc (rất thấp)\n",
    "- sai số chuẩn\n",
    "- coef là giá trị hệ số hồi quy chưa chuẩn hóa\n",
    "- P>|t| là p-value. Nếu giá trị này bé hơn 5% thì mối quan hệ giữa biến độc lập và biến phụ thuộc có ý nghĩa.\n",
    "- Skew: độ lệch\n",
    "- F-Statistic = 543.0 là giá trị kiểm định của 7 nhân tố là 6337 bậc tự do\n",
    "- Prob (F-statistic) = 0.00, điều này cho thấy tổng thể hồi quy là có ý nghĩa\n",
    "- Prob (Omnibus): Một trong những giả thuyết của OLS là các lỗi được phân phối chuẩn. Trong trường hợp này Prob (Omnibus) là 0.000, có nghĩa là giả thuyết OLS không được thỏa mãn, độ lỗi không có phân phối chuẩn"
   ]
  },
  {
   "cell_type": "markdown",
   "metadata": {
    "id": "cE4wdlkNqiDI"
   },
   "source": [
    "$\\rightarrow$ Dựa vào bảng trên, ngoài biến **Street**, mối quan hệ giữa biến phụ thuộc **Price** và các biến còn lại đều có ý nghĩa thống kê"
   ]
  },
  {
   "cell_type": "markdown",
   "metadata": {
    "id": "a5jfIs1JPNyn"
   },
   "source": [
    "## Dự đoán giá nhà ở, chung cư bằng các mô hình máy học"
   ]
  },
  {
   "cell_type": "markdown",
   "metadata": {
    "id": "szKkekJ5qjzZ"
   },
   "source": [
    "### Chia thành các tập huấn luyện và kiểm tra"
   ]
  },
  {
   "cell_type": "code",
   "execution_count": 80,
   "metadata": {
    "id": "B3Ydyty8qxab"
   },
   "outputs": [],
   "source": [
    "#  Loại bỏ các cột không có ý nghĩa thông kê\n",
    "X_df = scale_df.drop(['Street'], axis=1)"
   ]
  },
  {
   "cell_type": "code",
   "execution_count": 81,
   "metadata": {
    "id": "ytkYI-bvn7k6"
   },
   "outputs": [],
   "source": [
    "X_train, X_temp, y_train, y_temp = train_test_split(scale_df, y, test_size=0.4, random_state=2200)\n",
    "X_val, X_test, y_val, y_test = train_test_split(X_temp, y_temp, test_size=0.5, random_state=2200)"
   ]
  },
  {
   "cell_type": "code",
   "execution_count": 82,
   "metadata": {
    "colab": {
     "base_uri": "https://localhost:8080/"
    },
    "id": "Cc-kS4xgrpPC",
    "outputId": "6efd6770-5a5b-4331-fba7-67b810b1c37c"
   },
   "outputs": [
    {
     "data": {
      "text/plain": [
       "(3807, 7)"
      ]
     },
     "execution_count": 82,
     "metadata": {},
     "output_type": "execute_result"
    }
   ],
   "source": [
    "X_train.shape"
   ]
  },
  {
   "cell_type": "code",
   "execution_count": 83,
   "metadata": {
    "colab": {
     "base_uri": "https://localhost:8080/"
    },
    "id": "xA213yPDKzxj",
    "outputId": "c7e7e296-c321-463a-b184-e64fcaeb0682"
   },
   "outputs": [
    {
     "data": {
      "text/plain": [
       "(1269, 7)"
      ]
     },
     "execution_count": 83,
     "metadata": {},
     "output_type": "execute_result"
    }
   ],
   "source": [
    "X_val.shape"
   ]
  },
  {
   "cell_type": "code",
   "execution_count": 84,
   "metadata": {
    "colab": {
     "base_uri": "https://localhost:8080/"
    },
    "id": "w1-IOngprva8",
    "outputId": "ccc1e56b-b511-4f3f-ef6b-0c8117144cd1"
   },
   "outputs": [
    {
     "data": {
      "text/plain": [
       "(1269, 7)"
      ]
     },
     "execution_count": 84,
     "metadata": {},
     "output_type": "execute_result"
    }
   ],
   "source": [
    "X_test.shape"
   ]
  },
  {
   "cell_type": "code",
   "execution_count": 85,
   "metadata": {
    "colab": {
     "base_uri": "https://localhost:8080/"
    },
    "id": "OycR4Si9rx4q",
    "outputId": "a9d43e67-073e-47f8-da44-7ca4eb92312f"
   },
   "outputs": [
    {
     "data": {
      "text/plain": [
       "(3807,)"
      ]
     },
     "execution_count": 85,
     "metadata": {},
     "output_type": "execute_result"
    }
   ],
   "source": [
    "y_train.shape"
   ]
  },
  {
   "cell_type": "code",
   "execution_count": 86,
   "metadata": {
    "colab": {
     "base_uri": "https://localhost:8080/"
    },
    "id": "CwfaVKDxK9x-",
    "outputId": "3f63afaa-0b48-4fe9-f6b5-6b3d8fdbf56b"
   },
   "outputs": [
    {
     "data": {
      "text/plain": [
       "(1269,)"
      ]
     },
     "execution_count": 86,
     "metadata": {},
     "output_type": "execute_result"
    }
   ],
   "source": [
    "y_val.shape"
   ]
  },
  {
   "cell_type": "code",
   "execution_count": 87,
   "metadata": {
    "colab": {
     "base_uri": "https://localhost:8080/"
    },
    "id": "jSa_V63nr0F_",
    "outputId": "93f83e01-bac9-48c2-e507-52a8754db975"
   },
   "outputs": [
    {
     "data": {
      "text/plain": [
       "(1269,)"
      ]
     },
     "execution_count": 87,
     "metadata": {},
     "output_type": "execute_result"
    }
   ],
   "source": [
    "y_test.shape"
   ]
  },
  {
   "cell_type": "markdown",
   "metadata": {
    "id": "a3tjmg85qOV6"
   },
   "source": [
    "### Áp dụng các mô hình máy học"
   ]
  },
  {
   "cell_type": "markdown",
   "metadata": {
    "id": "zNuvZ9-6q2iD"
   },
   "source": [
    "### Linear Regression"
   ]
  },
  {
   "cell_type": "code",
   "execution_count": 88,
   "metadata": {
    "colab": {
     "base_uri": "https://localhost:8080/",
     "height": 71
    },
    "id": "X6pXIAaxI3K2",
    "outputId": "338de6c5-b9b1-4c87-fb08-517664a06e4e"
   },
   "outputs": [
    {
     "data": {
      "text/html": [
       "<style>#sk-dc0262f6-0542-413a-8274-006c2f71ae3c {color: black;background-color: white;}#sk-dc0262f6-0542-413a-8274-006c2f71ae3c pre{padding: 0;}#sk-dc0262f6-0542-413a-8274-006c2f71ae3c div.sk-toggleable {background-color: white;}#sk-dc0262f6-0542-413a-8274-006c2f71ae3c label.sk-toggleable__label {cursor: pointer;display: block;width: 100%;margin-bottom: 0;padding: 0.2em 0.3em;box-sizing: border-box;text-align: center;}#sk-dc0262f6-0542-413a-8274-006c2f71ae3c div.sk-toggleable__content {max-height: 0;max-width: 0;overflow: hidden;text-align: left;background-color: #f0f8ff;}#sk-dc0262f6-0542-413a-8274-006c2f71ae3c div.sk-toggleable__content pre {margin: 0.2em;color: black;border-radius: 0.25em;background-color: #f0f8ff;}#sk-dc0262f6-0542-413a-8274-006c2f71ae3c input.sk-toggleable__control:checked~div.sk-toggleable__content {max-height: 200px;max-width: 100%;overflow: auto;}#sk-dc0262f6-0542-413a-8274-006c2f71ae3c div.sk-estimator input.sk-toggleable__control:checked~label.sk-toggleable__label {background-color: #d4ebff;}#sk-dc0262f6-0542-413a-8274-006c2f71ae3c div.sk-label input.sk-toggleable__control:checked~label.sk-toggleable__label {background-color: #d4ebff;}#sk-dc0262f6-0542-413a-8274-006c2f71ae3c input.sk-hidden--visually {border: 0;clip: rect(1px 1px 1px 1px);clip: rect(1px, 1px, 1px, 1px);height: 1px;margin: -1px;overflow: hidden;padding: 0;position: absolute;width: 1px;}#sk-dc0262f6-0542-413a-8274-006c2f71ae3c div.sk-estimator {font-family: monospace;background-color: #f0f8ff;margin: 0.25em 0.25em;border: 1px dotted black;border-radius: 0.25em;box-sizing: border-box;}#sk-dc0262f6-0542-413a-8274-006c2f71ae3c div.sk-estimator:hover {background-color: #d4ebff;}#sk-dc0262f6-0542-413a-8274-006c2f71ae3c div.sk-parallel-item::after {content: \"\";width: 100%;border-bottom: 1px solid gray;flex-grow: 1;}#sk-dc0262f6-0542-413a-8274-006c2f71ae3c div.sk-label:hover label.sk-toggleable__label {background-color: #d4ebff;}#sk-dc0262f6-0542-413a-8274-006c2f71ae3c div.sk-serial::before {content: \"\";position: absolute;border-left: 1px solid gray;box-sizing: border-box;top: 2em;bottom: 0;left: 50%;}#sk-dc0262f6-0542-413a-8274-006c2f71ae3c div.sk-serial {display: flex;flex-direction: column;align-items: center;background-color: white;}#sk-dc0262f6-0542-413a-8274-006c2f71ae3c div.sk-item {z-index: 1;}#sk-dc0262f6-0542-413a-8274-006c2f71ae3c div.sk-parallel {display: flex;align-items: stretch;justify-content: center;background-color: white;}#sk-dc0262f6-0542-413a-8274-006c2f71ae3c div.sk-parallel-item {display: flex;flex-direction: column;position: relative;background-color: white;}#sk-dc0262f6-0542-413a-8274-006c2f71ae3c div.sk-parallel-item:first-child::after {align-self: flex-end;width: 50%;}#sk-dc0262f6-0542-413a-8274-006c2f71ae3c div.sk-parallel-item:last-child::after {align-self: flex-start;width: 50%;}#sk-dc0262f6-0542-413a-8274-006c2f71ae3c div.sk-parallel-item:only-child::after {width: 0;}#sk-dc0262f6-0542-413a-8274-006c2f71ae3c div.sk-dashed-wrapped {border: 1px dashed gray;margin: 0.2em;box-sizing: border-box;padding-bottom: 0.1em;background-color: white;position: relative;}#sk-dc0262f6-0542-413a-8274-006c2f71ae3c div.sk-label label {font-family: monospace;font-weight: bold;background-color: white;display: inline-block;line-height: 1.2em;}#sk-dc0262f6-0542-413a-8274-006c2f71ae3c div.sk-label-container {position: relative;z-index: 2;text-align: center;}#sk-dc0262f6-0542-413a-8274-006c2f71ae3c div.sk-container {display: inline-block;position: relative;}</style><div id=\"sk-dc0262f6-0542-413a-8274-006c2f71ae3c\" class\"sk-top-container\"><div class=\"sk-container\"><div class=\"sk-item\"><div class=\"sk-estimator sk-toggleable\"><input class=\"sk-toggleable__control sk-hidden--visually\" id=\"511b006a-6a45-4278-9a48-5b86fa609a9e\" type=\"checkbox\" checked><label class=\"sk-toggleable__label\" for=\"511b006a-6a45-4278-9a48-5b86fa609a9e\">LinearRegression</label><div class=\"sk-toggleable__content\"><pre>LinearRegression()</pre></div></div></div></div></div>"
      ],
      "text/plain": [
       "LinearRegression()"
      ]
     },
     "execution_count": 88,
     "metadata": {},
     "output_type": "execute_result"
    }
   ],
   "source": [
    "lr = LinearRegression()\n",
    "lr.fit(X_train, y_train)\n"
   ]
  },
  {
   "cell_type": "code",
   "execution_count": 89,
   "metadata": {
    "colab": {
     "base_uri": "https://localhost:8080/"
    },
    "id": "CcGYLr_pLCcq",
    "outputId": "e5388ad0-10d7-4365-fa3d-9edb7f9a1aa0"
   },
   "outputs": [
    {
     "data": {
      "text/plain": [
       "0.3558062258732081"
      ]
     },
     "execution_count": 89,
     "metadata": {},
     "output_type": "execute_result"
    }
   ],
   "source": [
    "lr.score(X_val, y_val)"
   ]
  },
  {
   "cell_type": "markdown",
   "metadata": {
    "id": "lgYKniFRq-9y"
   },
   "source": [
    "### XGBoost"
   ]
  },
  {
   "cell_type": "code",
   "execution_count": 90,
   "metadata": {
    "colab": {
     "base_uri": "https://localhost:8080/",
     "height": 122
    },
    "id": "ovK8iiLGI_HO",
    "outputId": "24424556-2804-4283-ea16-e32f8d2a065b"
   },
   "outputs": [
    {
     "data": {
      "text/html": [
       "<style>#sk-eb592948-0c09-4f7d-a163-9c996ef32506 {color: black;background-color: white;}#sk-eb592948-0c09-4f7d-a163-9c996ef32506 pre{padding: 0;}#sk-eb592948-0c09-4f7d-a163-9c996ef32506 div.sk-toggleable {background-color: white;}#sk-eb592948-0c09-4f7d-a163-9c996ef32506 label.sk-toggleable__label {cursor: pointer;display: block;width: 100%;margin-bottom: 0;padding: 0.2em 0.3em;box-sizing: border-box;text-align: center;}#sk-eb592948-0c09-4f7d-a163-9c996ef32506 div.sk-toggleable__content {max-height: 0;max-width: 0;overflow: hidden;text-align: left;background-color: #f0f8ff;}#sk-eb592948-0c09-4f7d-a163-9c996ef32506 div.sk-toggleable__content pre {margin: 0.2em;color: black;border-radius: 0.25em;background-color: #f0f8ff;}#sk-eb592948-0c09-4f7d-a163-9c996ef32506 input.sk-toggleable__control:checked~div.sk-toggleable__content {max-height: 200px;max-width: 100%;overflow: auto;}#sk-eb592948-0c09-4f7d-a163-9c996ef32506 div.sk-estimator input.sk-toggleable__control:checked~label.sk-toggleable__label {background-color: #d4ebff;}#sk-eb592948-0c09-4f7d-a163-9c996ef32506 div.sk-label input.sk-toggleable__control:checked~label.sk-toggleable__label {background-color: #d4ebff;}#sk-eb592948-0c09-4f7d-a163-9c996ef32506 input.sk-hidden--visually {border: 0;clip: rect(1px 1px 1px 1px);clip: rect(1px, 1px, 1px, 1px);height: 1px;margin: -1px;overflow: hidden;padding: 0;position: absolute;width: 1px;}#sk-eb592948-0c09-4f7d-a163-9c996ef32506 div.sk-estimator {font-family: monospace;background-color: #f0f8ff;margin: 0.25em 0.25em;border: 1px dotted black;border-radius: 0.25em;box-sizing: border-box;}#sk-eb592948-0c09-4f7d-a163-9c996ef32506 div.sk-estimator:hover {background-color: #d4ebff;}#sk-eb592948-0c09-4f7d-a163-9c996ef32506 div.sk-parallel-item::after {content: \"\";width: 100%;border-bottom: 1px solid gray;flex-grow: 1;}#sk-eb592948-0c09-4f7d-a163-9c996ef32506 div.sk-label:hover label.sk-toggleable__label {background-color: #d4ebff;}#sk-eb592948-0c09-4f7d-a163-9c996ef32506 div.sk-serial::before {content: \"\";position: absolute;border-left: 1px solid gray;box-sizing: border-box;top: 2em;bottom: 0;left: 50%;}#sk-eb592948-0c09-4f7d-a163-9c996ef32506 div.sk-serial {display: flex;flex-direction: column;align-items: center;background-color: white;}#sk-eb592948-0c09-4f7d-a163-9c996ef32506 div.sk-item {z-index: 1;}#sk-eb592948-0c09-4f7d-a163-9c996ef32506 div.sk-parallel {display: flex;align-items: stretch;justify-content: center;background-color: white;}#sk-eb592948-0c09-4f7d-a163-9c996ef32506 div.sk-parallel-item {display: flex;flex-direction: column;position: relative;background-color: white;}#sk-eb592948-0c09-4f7d-a163-9c996ef32506 div.sk-parallel-item:first-child::after {align-self: flex-end;width: 50%;}#sk-eb592948-0c09-4f7d-a163-9c996ef32506 div.sk-parallel-item:last-child::after {align-self: flex-start;width: 50%;}#sk-eb592948-0c09-4f7d-a163-9c996ef32506 div.sk-parallel-item:only-child::after {width: 0;}#sk-eb592948-0c09-4f7d-a163-9c996ef32506 div.sk-dashed-wrapped {border: 1px dashed gray;margin: 0.2em;box-sizing: border-box;padding-bottom: 0.1em;background-color: white;position: relative;}#sk-eb592948-0c09-4f7d-a163-9c996ef32506 div.sk-label label {font-family: monospace;font-weight: bold;background-color: white;display: inline-block;line-height: 1.2em;}#sk-eb592948-0c09-4f7d-a163-9c996ef32506 div.sk-label-container {position: relative;z-index: 2;text-align: center;}#sk-eb592948-0c09-4f7d-a163-9c996ef32506 div.sk-container {display: inline-block;position: relative;}</style><div id=\"sk-eb592948-0c09-4f7d-a163-9c996ef32506\" class\"sk-top-container\"><div class=\"sk-container\"><div class=\"sk-item\"><div class=\"sk-estimator sk-toggleable\"><input class=\"sk-toggleable__control sk-hidden--visually\" id=\"8114a9ee-22d1-420f-ae27-a826829ec563\" type=\"checkbox\" checked><label class=\"sk-toggleable__label\" for=\"8114a9ee-22d1-420f-ae27-a826829ec563\">XGBRegressor</label><div class=\"sk-toggleable__content\"><pre>XGBRegressor(base_score=0.5, booster='gbtree', colsample_bylevel=1,\n",
       "             colsample_bynode=1, colsample_bytree=0.4, gamma=0, gpu_id=-1,\n",
       "             importance_type='gain', interaction_constraints='',\n",
       "             learning_rate=0.07, max_delta_step=0, max_depth=3,\n",
       "             min_child_weight=1.5, missing=nan, monotone_constraints='()',\n",
       "             n_estimators=10000, n_jobs=4, num_parallel_tree=1, random_state=42,\n",
       "             reg_alpha=0.75, reg_lambda=0.45, scale_pos_weight=1, seed=42,\n",
       "             subsample=0.6, tree_method='exact', validate_parameters=1,\n",
       "             verbosity=None)</pre></div></div></div></div></div>"
      ],
      "text/plain": [
       "XGBRegressor(base_score=0.5, booster='gbtree', colsample_bylevel=1,\n",
       "             colsample_bynode=1, colsample_bytree=0.4, gamma=0, gpu_id=-1,\n",
       "             importance_type='gain', interaction_constraints='',\n",
       "             learning_rate=0.07, max_delta_step=0, max_depth=3,\n",
       "             min_child_weight=1.5, missing=nan, monotone_constraints='()',\n",
       "             n_estimators=10000, n_jobs=4, num_parallel_tree=1, random_state=42,\n",
       "             reg_alpha=0.75, reg_lambda=0.45, scale_pos_weight=1, seed=42,\n",
       "             subsample=0.6, tree_method='exact', validate_parameters=1,\n",
       "             verbosity=None)"
      ]
     },
     "execution_count": 90,
     "metadata": {},
     "output_type": "execute_result"
    }
   ],
   "source": [
    "xgb_reg = xgb.XGBRegressor(colsample_bytree=0.4,\n",
    "                 gamma=0,                 \n",
    "                 learning_rate=0.07,\n",
    "                 max_depth=3,\n",
    "                 min_child_weight=1.5,\n",
    "                 n_estimators=10000,                                                                    \n",
    "                 reg_alpha=0.75,\n",
    "                 reg_lambda=0.45,\n",
    "                 subsample=0.6,\n",
    "                 seed=42)\n",
    "xgb_reg.fit(X_train, y_train)"
   ]
  },
  {
   "cell_type": "code",
   "execution_count": 91,
   "metadata": {
    "colab": {
     "base_uri": "https://localhost:8080/"
    },
    "id": "Zy-MWIS7LKmX",
    "outputId": "cf05d9f3-3569-45a8-ec04-25d57f9641d6"
   },
   "outputs": [
    {
     "data": {
      "text/plain": [
       "0.685550196940323"
      ]
     },
     "execution_count": 91,
     "metadata": {},
     "output_type": "execute_result"
    }
   ],
   "source": [
    "xgb_reg.score(X_val, y_val)"
   ]
  },
  {
   "cell_type": "markdown",
   "metadata": {
    "id": "0Go3K1CSrBDF"
   },
   "source": [
    "### MLP Regressor"
   ]
  },
  {
   "cell_type": "code",
   "execution_count": 92,
   "metadata": {
    "colab": {
     "base_uri": "https://localhost:8080/",
     "height": 71
    },
    "id": "qtjTlLukn7k7",
    "outputId": "17dce9d1-2283-410e-97cf-9d33bb5156da"
   },
   "outputs": [
    {
     "data": {
      "text/html": [
       "<style>#sk-a0691b60-61cf-4f61-9eab-3b051a1a0891 {color: black;background-color: white;}#sk-a0691b60-61cf-4f61-9eab-3b051a1a0891 pre{padding: 0;}#sk-a0691b60-61cf-4f61-9eab-3b051a1a0891 div.sk-toggleable {background-color: white;}#sk-a0691b60-61cf-4f61-9eab-3b051a1a0891 label.sk-toggleable__label {cursor: pointer;display: block;width: 100%;margin-bottom: 0;padding: 0.2em 0.3em;box-sizing: border-box;text-align: center;}#sk-a0691b60-61cf-4f61-9eab-3b051a1a0891 div.sk-toggleable__content {max-height: 0;max-width: 0;overflow: hidden;text-align: left;background-color: #f0f8ff;}#sk-a0691b60-61cf-4f61-9eab-3b051a1a0891 div.sk-toggleable__content pre {margin: 0.2em;color: black;border-radius: 0.25em;background-color: #f0f8ff;}#sk-a0691b60-61cf-4f61-9eab-3b051a1a0891 input.sk-toggleable__control:checked~div.sk-toggleable__content {max-height: 200px;max-width: 100%;overflow: auto;}#sk-a0691b60-61cf-4f61-9eab-3b051a1a0891 div.sk-estimator input.sk-toggleable__control:checked~label.sk-toggleable__label {background-color: #d4ebff;}#sk-a0691b60-61cf-4f61-9eab-3b051a1a0891 div.sk-label input.sk-toggleable__control:checked~label.sk-toggleable__label {background-color: #d4ebff;}#sk-a0691b60-61cf-4f61-9eab-3b051a1a0891 input.sk-hidden--visually {border: 0;clip: rect(1px 1px 1px 1px);clip: rect(1px, 1px, 1px, 1px);height: 1px;margin: -1px;overflow: hidden;padding: 0;position: absolute;width: 1px;}#sk-a0691b60-61cf-4f61-9eab-3b051a1a0891 div.sk-estimator {font-family: monospace;background-color: #f0f8ff;margin: 0.25em 0.25em;border: 1px dotted black;border-radius: 0.25em;box-sizing: border-box;}#sk-a0691b60-61cf-4f61-9eab-3b051a1a0891 div.sk-estimator:hover {background-color: #d4ebff;}#sk-a0691b60-61cf-4f61-9eab-3b051a1a0891 div.sk-parallel-item::after {content: \"\";width: 100%;border-bottom: 1px solid gray;flex-grow: 1;}#sk-a0691b60-61cf-4f61-9eab-3b051a1a0891 div.sk-label:hover label.sk-toggleable__label {background-color: #d4ebff;}#sk-a0691b60-61cf-4f61-9eab-3b051a1a0891 div.sk-serial::before {content: \"\";position: absolute;border-left: 1px solid gray;box-sizing: border-box;top: 2em;bottom: 0;left: 50%;}#sk-a0691b60-61cf-4f61-9eab-3b051a1a0891 div.sk-serial {display: flex;flex-direction: column;align-items: center;background-color: white;}#sk-a0691b60-61cf-4f61-9eab-3b051a1a0891 div.sk-item {z-index: 1;}#sk-a0691b60-61cf-4f61-9eab-3b051a1a0891 div.sk-parallel {display: flex;align-items: stretch;justify-content: center;background-color: white;}#sk-a0691b60-61cf-4f61-9eab-3b051a1a0891 div.sk-parallel-item {display: flex;flex-direction: column;position: relative;background-color: white;}#sk-a0691b60-61cf-4f61-9eab-3b051a1a0891 div.sk-parallel-item:first-child::after {align-self: flex-end;width: 50%;}#sk-a0691b60-61cf-4f61-9eab-3b051a1a0891 div.sk-parallel-item:last-child::after {align-self: flex-start;width: 50%;}#sk-a0691b60-61cf-4f61-9eab-3b051a1a0891 div.sk-parallel-item:only-child::after {width: 0;}#sk-a0691b60-61cf-4f61-9eab-3b051a1a0891 div.sk-dashed-wrapped {border: 1px dashed gray;margin: 0.2em;box-sizing: border-box;padding-bottom: 0.1em;background-color: white;position: relative;}#sk-a0691b60-61cf-4f61-9eab-3b051a1a0891 div.sk-label label {font-family: monospace;font-weight: bold;background-color: white;display: inline-block;line-height: 1.2em;}#sk-a0691b60-61cf-4f61-9eab-3b051a1a0891 div.sk-label-container {position: relative;z-index: 2;text-align: center;}#sk-a0691b60-61cf-4f61-9eab-3b051a1a0891 div.sk-container {display: inline-block;position: relative;}</style><div id=\"sk-a0691b60-61cf-4f61-9eab-3b051a1a0891\" class\"sk-top-container\"><div class=\"sk-container\"><div class=\"sk-item\"><div class=\"sk-estimator sk-toggleable\"><input class=\"sk-toggleable__control sk-hidden--visually\" id=\"354a7983-4052-4505-ba91-e6dfe4ef2329\" type=\"checkbox\" checked><label class=\"sk-toggleable__label\" for=\"354a7983-4052-4505-ba91-e6dfe4ef2329\">MLPRegressor</label><div class=\"sk-toggleable__content\"><pre>MLPRegressor(hidden_layer_sizes=100, max_iter=500, solver='lbfgs')</pre></div></div></div></div></div>"
      ],
      "text/plain": [
       "MLPRegressor(hidden_layer_sizes=100, max_iter=500, solver='lbfgs')"
      ]
     },
     "execution_count": 92,
     "metadata": {},
     "output_type": "execute_result"
    }
   ],
   "source": [
    "regr = MLPRegressor(activation='relu', \n",
    "                    alpha=0.0001,\n",
    "                    batch_size='auto',\n",
    "                    hidden_layer_sizes= 100,\n",
    "                    learning_rate= 'constant',\n",
    "                    learning_rate_init= 0.001,\n",
    "                    max_iter= 500,\n",
    "                    solver= 'lbfgs')\n",
    "regr.fit(X_train, y_train)"
   ]
  },
  {
   "cell_type": "code",
   "execution_count": 93,
   "metadata": {
    "colab": {
     "base_uri": "https://localhost:8080/"
    },
    "id": "BY0-oUOSLN39",
    "outputId": "b67a2239-12da-4409-b34b-c7afeefdb001"
   },
   "outputs": [
    {
     "data": {
      "text/plain": [
       "0.5300021382739158"
      ]
     },
     "execution_count": 93,
     "metadata": {},
     "output_type": "execute_result"
    }
   ],
   "source": [
    "regr.score(X_val, y_val)"
   ]
  },
  {
   "cell_type": "markdown",
   "metadata": {
    "id": "1RXy59r6OomT"
   },
   "source": [
    "### Mô hình SVR"
   ]
  },
  {
   "cell_type": "code",
   "execution_count": 94,
   "metadata": {
    "colab": {
     "base_uri": "https://localhost:8080/",
     "height": 71
    },
    "id": "xlwp_17tJSFN",
    "outputId": "cdfd4b5d-e9fb-4d2a-8d9b-9633775d1fff"
   },
   "outputs": [
    {
     "data": {
      "text/html": [
       "<style>#sk-dcabb97f-06c6-499e-a1f9-d36289b157a6 {color: black;background-color: white;}#sk-dcabb97f-06c6-499e-a1f9-d36289b157a6 pre{padding: 0;}#sk-dcabb97f-06c6-499e-a1f9-d36289b157a6 div.sk-toggleable {background-color: white;}#sk-dcabb97f-06c6-499e-a1f9-d36289b157a6 label.sk-toggleable__label {cursor: pointer;display: block;width: 100%;margin-bottom: 0;padding: 0.2em 0.3em;box-sizing: border-box;text-align: center;}#sk-dcabb97f-06c6-499e-a1f9-d36289b157a6 div.sk-toggleable__content {max-height: 0;max-width: 0;overflow: hidden;text-align: left;background-color: #f0f8ff;}#sk-dcabb97f-06c6-499e-a1f9-d36289b157a6 div.sk-toggleable__content pre {margin: 0.2em;color: black;border-radius: 0.25em;background-color: #f0f8ff;}#sk-dcabb97f-06c6-499e-a1f9-d36289b157a6 input.sk-toggleable__control:checked~div.sk-toggleable__content {max-height: 200px;max-width: 100%;overflow: auto;}#sk-dcabb97f-06c6-499e-a1f9-d36289b157a6 div.sk-estimator input.sk-toggleable__control:checked~label.sk-toggleable__label {background-color: #d4ebff;}#sk-dcabb97f-06c6-499e-a1f9-d36289b157a6 div.sk-label input.sk-toggleable__control:checked~label.sk-toggleable__label {background-color: #d4ebff;}#sk-dcabb97f-06c6-499e-a1f9-d36289b157a6 input.sk-hidden--visually {border: 0;clip: rect(1px 1px 1px 1px);clip: rect(1px, 1px, 1px, 1px);height: 1px;margin: -1px;overflow: hidden;padding: 0;position: absolute;width: 1px;}#sk-dcabb97f-06c6-499e-a1f9-d36289b157a6 div.sk-estimator {font-family: monospace;background-color: #f0f8ff;margin: 0.25em 0.25em;border: 1px dotted black;border-radius: 0.25em;box-sizing: border-box;}#sk-dcabb97f-06c6-499e-a1f9-d36289b157a6 div.sk-estimator:hover {background-color: #d4ebff;}#sk-dcabb97f-06c6-499e-a1f9-d36289b157a6 div.sk-parallel-item::after {content: \"\";width: 100%;border-bottom: 1px solid gray;flex-grow: 1;}#sk-dcabb97f-06c6-499e-a1f9-d36289b157a6 div.sk-label:hover label.sk-toggleable__label {background-color: #d4ebff;}#sk-dcabb97f-06c6-499e-a1f9-d36289b157a6 div.sk-serial::before {content: \"\";position: absolute;border-left: 1px solid gray;box-sizing: border-box;top: 2em;bottom: 0;left: 50%;}#sk-dcabb97f-06c6-499e-a1f9-d36289b157a6 div.sk-serial {display: flex;flex-direction: column;align-items: center;background-color: white;}#sk-dcabb97f-06c6-499e-a1f9-d36289b157a6 div.sk-item {z-index: 1;}#sk-dcabb97f-06c6-499e-a1f9-d36289b157a6 div.sk-parallel {display: flex;align-items: stretch;justify-content: center;background-color: white;}#sk-dcabb97f-06c6-499e-a1f9-d36289b157a6 div.sk-parallel-item {display: flex;flex-direction: column;position: relative;background-color: white;}#sk-dcabb97f-06c6-499e-a1f9-d36289b157a6 div.sk-parallel-item:first-child::after {align-self: flex-end;width: 50%;}#sk-dcabb97f-06c6-499e-a1f9-d36289b157a6 div.sk-parallel-item:last-child::after {align-self: flex-start;width: 50%;}#sk-dcabb97f-06c6-499e-a1f9-d36289b157a6 div.sk-parallel-item:only-child::after {width: 0;}#sk-dcabb97f-06c6-499e-a1f9-d36289b157a6 div.sk-dashed-wrapped {border: 1px dashed gray;margin: 0.2em;box-sizing: border-box;padding-bottom: 0.1em;background-color: white;position: relative;}#sk-dcabb97f-06c6-499e-a1f9-d36289b157a6 div.sk-label label {font-family: monospace;font-weight: bold;background-color: white;display: inline-block;line-height: 1.2em;}#sk-dcabb97f-06c6-499e-a1f9-d36289b157a6 div.sk-label-container {position: relative;z-index: 2;text-align: center;}#sk-dcabb97f-06c6-499e-a1f9-d36289b157a6 div.sk-container {display: inline-block;position: relative;}</style><div id=\"sk-dcabb97f-06c6-499e-a1f9-d36289b157a6\" class\"sk-top-container\"><div class=\"sk-container\"><div class=\"sk-item\"><div class=\"sk-estimator sk-toggleable\"><input class=\"sk-toggleable__control sk-hidden--visually\" id=\"e701402c-825c-4e46-9a63-7836cd3a1811\" type=\"checkbox\" checked><label class=\"sk-toggleable__label\" for=\"e701402c-825c-4e46-9a63-7836cd3a1811\">SVR</label><div class=\"sk-toggleable__content\"><pre>SVR(epsilon=0.2)</pre></div></div></div></div></div>"
      ],
      "text/plain": [
       "SVR(epsilon=0.2)"
      ]
     },
     "execution_count": 94,
     "metadata": {},
     "output_type": "execute_result"
    }
   ],
   "source": [
    "svr = SVR(C=1.0, epsilon=0.2, kernel='rbf')\n",
    "svr.fit(X_train, y_train)"
   ]
  },
  {
   "cell_type": "code",
   "execution_count": 95,
   "metadata": {
    "colab": {
     "base_uri": "https://localhost:8080/"
    },
    "id": "q2qmyCSGOuOe",
    "outputId": "7274bceb-adbe-449e-9dfe-cc9e7a6f1770"
   },
   "outputs": [
    {
     "data": {
      "text/plain": [
       "0.5187401754862649"
      ]
     },
     "execution_count": 95,
     "metadata": {},
     "output_type": "execute_result"
    }
   ],
   "source": [
    "svr.score(X_val, y_val)"
   ]
  },
  {
   "cell_type": "markdown",
   "metadata": {},
   "source": [
    "- Mô hình cho độ chính xác tốt nhất là XGBoost Regressor nên ta sẽ sử dụng model này cho việc dự đoán trên tập test"
   ]
  },
  {
   "cell_type": "markdown",
   "metadata": {
    "id": "Vg3x7e3PUwXx"
   },
   "source": [
    "## **Mô hình áp dụng: XGBoost**"
   ]
  },
  {
   "cell_type": "code",
   "execution_count": 96,
   "metadata": {
    "colab": {
     "base_uri": "https://localhost:8080/"
    },
    "id": "CMTWczaHPuoz",
    "outputId": "dfc0b62a-2136-460c-848f-ee779d7233d8"
   },
   "outputs": [
    {
     "data": {
      "text/plain": [
       "0.6587456961698666"
      ]
     },
     "execution_count": 96,
     "metadata": {},
     "output_type": "execute_result"
    }
   ],
   "source": [
    "xgb_reg.score(X_test, y_test)"
   ]
  },
  {
   "cell_type": "code",
   "execution_count": null,
   "metadata": {
    "id": "3y15JoLXXC9E"
   },
   "outputs": [],
   "source": []
  },
  {
   "cell_type": "code",
   "execution_count": null,
   "metadata": {},
   "outputs": [],
   "source": []
  }
 ],
 "metadata": {
  "colab": {
   "collapsed_sections": [],
   "include_colab_link": true,
   "name": "Statistic&Model.ipynb",
   "provenance": [],
   "toc_visible": true
  },
  "kernelspec": {
   "display_name": "Python 3",
   "language": "python",
   "name": "python3"
  },
  "language_info": {
   "codemirror_mode": {
    "name": "ipython",
    "version": 3
   },
   "file_extension": ".py",
   "mimetype": "text/x-python",
   "name": "python",
   "nbconvert_exporter": "python",
   "pygments_lexer": "ipython3",
   "version": "3.8.3"
  }
 },
 "nbformat": 4,
 "nbformat_minor": 1
}
