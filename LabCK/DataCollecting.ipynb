{
 "cells": [
  {
   "cell_type": "code",
   "execution_count": 9,
   "id": "6ddeb334-e66e-48aa-8c6f-a76126e620e2",
   "metadata": {},
   "outputs": [],
   "source": [
    "import requests\n",
    "from bs4 import BeautifulSoup\n",
    "import json\n",
    "import csv\n",
    "import pandas as pd"
   ]
  },
  {
   "cell_type": "code",
   "execution_count": 17,
   "id": "a691c8c0-6e98-42a8-9559-2fcae7f15a2f",
   "metadata": {},
   "outputs": [],
   "source": [
    "url = f'https://meeyland.com/mua-ban-nha-dat/page-{page}'"
   ]
  },
  {
   "cell_type": "code",
   "execution_count": 26,
   "id": "03d8ae53-35f4-492c-a2fb-ae3ea42d0039",
   "metadata": {},
   "outputs": [
    {
     "data": {
      "text/plain": [
       "1"
      ]
     },
     "execution_count": 26,
     "metadata": {},
     "output_type": "execute_result"
    }
   ],
   "source": [
    "file_name = 'data.csv'\n",
    "headers = ['Price', 'Location', 'Area', 'Street', 'Facade', 'Direction', 'Object', 'Type']\n",
    "f = open(file_name, \"w\")   \n",
    "f.write('\\t'.join(headers))\n",
    "f.write('\\n')"
   ]
  },
  {
   "cell_type": "code",
   "execution_count": 7,
   "id": "0ff71cfc-ca4f-4520-a293-efdd9b520faf",
   "metadata": {},
   "outputs": [
    {
     "name": "stdout",
     "output_type": "stream",
     "text": [
      "https://meeyland.com/mua-ban-nha-dat/page-1\n",
      "390 Triệu - 1.96 Triệu/m²\tHuyện Củ Chi, Thành phố Hồ Chí Minh\t198.7 m²\tNgõ 1 ô tô\t12.9m\tTây\tNhà môi giới\tĐất - Đất nền - Nhà như đất\n"
     ]
    }
   ],
   "source": [
    "def get_info(html_text):\n",
    "    info = []\n",
    "    price = html_text.find('div', {'class':'article-price'}).string.strip('\\n         ')\n",
    "    location = html_text.find('div', {'class':'article-info-location'}).string.strip('\\n         ')\n",
    "    details = results[0].find_all('div', {'class':'col-6'})\n",
    "    details = [detail.text.strip('\\n\\n               ').replace('---', '') for detail in details]\n",
    "    info.append(price)\n",
    "    info.append(location)\n",
    "    info.extend(details)\n",
    "    return info\n",
    "page = 1\n",
    "\n",
    "while True:\n",
    "    try:\n",
    "        print(url)\n",
    "        html_text = requests.get(url).text\n",
    "        tree = BeautifulSoup(html_text, 'html.parser')\n",
    "#         print(html_text)\n",
    "    except Exception as e:\n",
    "        print(f'Error: {e}')\n",
    "        break\n",
    "    results = tree.find_all('div', {'class':'col-sm-6 col-md-4'})\n",
    "    info = get_info(results[0])\n",
    "    info = '\\t'.join(info)\n",
    "    f.write(info+'\\n')\n",
    "    if page > 92001:\n",
    "        break\n",
    "    page += 1\n"
   ]
  },
  {
   "cell_type": "code",
   "execution_count": 27,
   "id": "35df31ca-e169-44b5-95ea-353be59f2f17",
   "metadata": {},
   "outputs": [],
   "source": [
    "f.close()"
   ]
  }
 ],
 "metadata": {
  "kernelspec": {
   "display_name": "Python 3",
   "language": "python",
   "name": "python3"
  },
  "language_info": {
   "codemirror_mode": {
    "name": "ipython",
    "version": 3
   },
   "file_extension": ".py",
   "mimetype": "text/x-python",
   "name": "python",
   "nbconvert_exporter": "python",
   "pygments_lexer": "ipython3",
   "version": "3.8.5"
  }
 },
 "nbformat": 4,
 "nbformat_minor": 5
}
