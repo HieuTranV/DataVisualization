{
  "nbformat": 4,
  "nbformat_minor": 5,
  "metadata": {
    "kernelspec": {
      "display_name": "Python 3",
      "language": "python",
      "name": "python3"
    },
    "language_info": {
      "codemirror_mode": {
        "name": "ipython",
        "version": 3
      },
      "file_extension": ".py",
      "mimetype": "text/x-python",
      "name": "python",
      "nbconvert_exporter": "python",
      "pygments_lexer": "ipython3",
      "version": "3.8.5"
    },
    "colab": {
      "name": "Bản sao của DataCollecting.ipynb",
      "provenance": [],
      "collapsed_sections": []
    }
  },
  "cells": [
    {
      "cell_type": "code",
      "metadata": {
        "id": "6ddeb334-e66e-48aa-8c6f-a76126e620e2"
      },
      "source": [
        "import requests\n",
        "from bs4 import BeautifulSoup\n",
        "import time\n",
        "import pandas as pd\n",
        "import re"
      ],
      "id": "6ddeb334-e66e-48aa-8c6f-a76126e620e2",
      "execution_count": 34,
      "outputs": []
    },
    {
      "cell_type": "code",
      "metadata": {
        "id": "78KJA8_Hw55q"
      },
      "source": [
        "pd.set_option('display.max_rows', 500)\n",
        "pd.set_option('display.max_columns', 500)\n",
        "pd.set_option('display.width', 1000)"
      ],
      "id": "78KJA8_Hw55q",
      "execution_count": 35,
      "outputs": []
    },
    {
      "cell_type": "code",
      "metadata": {
        "id": "03d8ae53-35f4-492c-a2fb-ae3ea42d0039",
        "colab": {
          "base_uri": "https://localhost:8080/"
        },
        "outputId": "8ea8e8b6-b9ed-4379-abda-c2608001508d"
      },
      "source": [
        "file_name = 'data.csv'\n",
        "headers = ['Price', 'Location', 'Area', 'Street', 'Facade', 'Direction', 'Saler', 'Type', 'Floor', 'Bathrooms', 'Bedrooms', 'Legal Doc']\n",
        "f = open(file_name, \"w\")   \n",
        "f.write('\\t'.join(headers))\n",
        "f.write('\\n')"
      ],
      "id": "03d8ae53-35f4-492c-a2fb-ae3ea42d0039",
      "execution_count": 69,
      "outputs": [
        {
          "output_type": "execute_result",
          "data": {
            "text/plain": [
              "1"
            ]
          },
          "metadata": {
            "tags": []
          },
          "execution_count": 69
        }
      ]
    },
    {
      "cell_type": "code",
      "metadata": {
        "id": "jBRBDyMFsgS_"
      },
      "source": [
        "source= f'https://meeyland.com'"
      ],
      "id": "jBRBDyMFsgS_",
      "execution_count": 70,
      "outputs": []
    },
    {
      "cell_type": "code",
      "metadata": {
        "id": "0ff71cfc-ca4f-4520-a293-efdd9b520faf"
      },
      "source": [
        "def get_info(html_text):\n",
        "    info = []\n",
        "    \n",
        "    price = html_text.find('div', {'class':'article-price'}).string.strip('\\n         ')\n",
        "    location = html_text.find('div', {'class':'article-info-location'}).string.strip('\\n         ')\n",
        "    details = html_text.find_all('div', {'class':'col-6'})\n",
        "    details = [detail.text.strip('\\n\\n               ') for detail in details]\n",
        "    info.append(price)\n",
        "    info.append(location)\n",
        "    info.extend(details)\n",
        "\n",
        "    link = source + html_text.find('a', {'class':\"call-traking\"}).attrs['href']\n",
        "    time.sleep(1)\n",
        "    new_html_text = requests.get(link).text\n",
        "    new_tree = BeautifulSoup(new_html_text, 'html.parser')\n",
        "    items = new_tree.find_all('li', {'class':'item'})\n",
        "    more_info = ['---']*4\n",
        "\n",
        "    for i in items:\n",
        "        l = i.text\n",
        "        if 'Số phòng ngủ' in l and '---' not in l:\n",
        "            more_info[2] = re.findall(r'\\d+', l)[0]\n",
        "        if 'Số phòng tắm' in l and '---' not in l:\n",
        "            more_info[1] = re.findall(r'\\d+', l)[0]\n",
        "        if 'Tầng thứ' in l and '---' not in l:\n",
        "            # print(l)\n",
        "            more_info[0] = re.findall(r'\\d+', l)[0]\n",
        "        if 'Giấy tờ pháp lý' in l:\n",
        "            more_info[3] = l.split('\\n')[2]\n",
        "\n",
        "    info.extend(more_info)\n",
        "\n",
        "    return info\n",
        "\n",
        "page = 1\n",
        "while True:\n",
        "    # print(page)\n",
        "    if page > 200:\n",
        "        break\n",
        "\n",
        "    try:\n",
        "        url = f'https://meeyland.com/mua-ban-nha-dat/page-{page}'\n",
        "        print(url)\n",
        "        html_text = requests.get(url).text\n",
        "        tree = BeautifulSoup(html_text, 'html.parser')\n",
        "        results = tree.find_all('div', {'class':'col-sm-6 col-md-4'})\n",
        "\n",
        "        for each in results:\n",
        "            info = get_info(each)\n",
        "            info = '\\t'.join(info)\n",
        "            f.write(info+'\\n')\n",
        "            \n",
        "    except Exception as e:\n",
        "        # print(f'Error: {e}')\n",
        "        pass\n",
        "\n",
        "    page += 1\n",
        "    break\n"
      ],
      "id": "0ff71cfc-ca4f-4520-a293-efdd9b520faf",
      "execution_count": null,
      "outputs": []
    },
    {
      "cell_type": "code",
      "metadata": {
        "id": "35df31ca-e169-44b5-95ea-353be59f2f17"
      },
      "source": [
        "f.close()"
      ],
      "id": "35df31ca-e169-44b5-95ea-353be59f2f17",
      "execution_count": 72,
      "outputs": []
    },
    {
      "cell_type": "code",
      "metadata": {
        "colab": {
          "base_uri": "https://localhost:8080/",
          "height": 289
        },
        "id": "1z6oaFnYuuZM",
        "outputId": "b5d7c587-0a01-4eef-8342-f98b82f9f945"
      },
      "source": [
        "df = pd.read_csv('data.csv', sep='\\t')\n",
        "df.head()"
      ],
      "id": "1z6oaFnYuuZM",
      "execution_count": 73,
      "outputs": [
        {
          "output_type": "execute_result",
          "data": {
            "text/html": [
              "<div>\n",
              "<style scoped>\n",
              "    .dataframe tbody tr th:only-of-type {\n",
              "        vertical-align: middle;\n",
              "    }\n",
              "\n",
              "    .dataframe tbody tr th {\n",
              "        vertical-align: top;\n",
              "    }\n",
              "\n",
              "    .dataframe thead th {\n",
              "        text-align: right;\n",
              "    }\n",
              "</style>\n",
              "<table border=\"1\" class=\"dataframe\">\n",
              "  <thead>\n",
              "    <tr style=\"text-align: right;\">\n",
              "      <th></th>\n",
              "      <th>Price</th>\n",
              "      <th>Location</th>\n",
              "      <th>Area</th>\n",
              "      <th>Street</th>\n",
              "      <th>Facade</th>\n",
              "      <th>Direction</th>\n",
              "      <th>Saler</th>\n",
              "      <th>Type</th>\n",
              "      <th>Floor</th>\n",
              "      <th>Bathrooms</th>\n",
              "      <th>Bedrooms</th>\n",
              "      <th>Legal Doc</th>\n",
              "    </tr>\n",
              "  </thead>\n",
              "  <tbody>\n",
              "    <tr>\n",
              "      <th>0</th>\n",
              "      <td>4 Tỷ - 32.26 Triệu/m²</td>\n",
              "      <td>Huyện Yên Phong, Tỉnh Bắc Ninh</td>\n",
              "      <td>124 m²</td>\n",
              "      <td>Ngõ 3 ô tô tránh</td>\n",
              "      <td>5.3m</td>\n",
              "      <td>Nam, Bắc</td>\n",
              "      <td>Nhà môi giới</td>\n",
              "      <td>Nhà ở</td>\n",
              "      <td>---</td>\n",
              "      <td>---</td>\n",
              "      <td>12</td>\n",
              "      <td>Giấy CN QSDĐ - Sổ đỏ - Sổ hồng</td>\n",
              "    </tr>\n",
              "    <tr>\n",
              "      <th>1</th>\n",
              "      <td>4.5 Tỷ - 50 Triệu/m²</td>\n",
              "      <td>Quận Tây Hồ, Thành phố Hà Nội</td>\n",
              "      <td>90 m²</td>\n",
              "      <td>Mặt phố - Mặt đường</td>\n",
              "      <td>---</td>\n",
              "      <td>---</td>\n",
              "      <td>Chính chủ</td>\n",
              "      <td>Chung cư</td>\n",
              "      <td>---</td>\n",
              "      <td>2</td>\n",
              "      <td>1</td>\n",
              "      <td>Giấy CN QSDĐ - Sổ đỏ - Sổ hồng</td>\n",
              "    </tr>\n",
              "    <tr>\n",
              "      <th>2</th>\n",
              "      <td>1.4 Tỷ - 14 Triệu/m²</td>\n",
              "      <td>Thành phố Bảo Lộc, Tỉnh Lâm Đồng</td>\n",
              "      <td>100 m²</td>\n",
              "      <td>Ngõ 3 ô tô tránh</td>\n",
              "      <td>5m</td>\n",
              "      <td>Đông Bắc</td>\n",
              "      <td>Nhà môi giới</td>\n",
              "      <td>Đất - Đất nền - Nhà như đất</td>\n",
              "      <td>---</td>\n",
              "      <td>---</td>\n",
              "      <td>---</td>\n",
              "      <td>Giấy CN QSDĐ - Sổ đỏ - Sổ hồng</td>\n",
              "    </tr>\n",
              "    <tr>\n",
              "      <th>3</th>\n",
              "      <td>390 Triệu - 1.96 Triệu/m²</td>\n",
              "      <td>Huyện Củ Chi, Thành phố Hồ Chí Minh</td>\n",
              "      <td>198.7 m²</td>\n",
              "      <td>Ngõ 1 ô tô</td>\n",
              "      <td>12.9m</td>\n",
              "      <td>Tây</td>\n",
              "      <td>Nhà môi giới</td>\n",
              "      <td>Đất - Đất nền - Nhà như đất</td>\n",
              "      <td>---</td>\n",
              "      <td>---</td>\n",
              "      <td>---</td>\n",
              "      <td>Giấy CN QSDĐ - Sổ đỏ - Sổ hồng</td>\n",
              "    </tr>\n",
              "    <tr>\n",
              "      <th>4</th>\n",
              "      <td>21.5 Tỷ - 3.5 Triệu/m²</td>\n",
              "      <td>Huyện Cần Giờ, Thành phố Hồ Chí Minh</td>\n",
              "      <td>6,142 m²</td>\n",
              "      <td>Ngõ 4 ô tô trở lên</td>\n",
              "      <td>46m</td>\n",
              "      <td>Đông Nam</td>\n",
              "      <td>Nhà môi giới</td>\n",
              "      <td>Bất động sản khác</td>\n",
              "      <td>---</td>\n",
              "      <td>---</td>\n",
              "      <td>---</td>\n",
              "      <td>Giấy CN QSDĐ - Sổ đỏ - Sổ hồng</td>\n",
              "    </tr>\n",
              "  </tbody>\n",
              "</table>\n",
              "</div>"
            ],
            "text/plain": [
              "                       Price                              Location      Area               Street Facade Direction         Saler                         Type Floor Bathrooms Bedrooms                       Legal Doc\n",
              "0      4 Tỷ - 32.26 Triệu/m²        Huyện Yên Phong, Tỉnh Bắc Ninh    124 m²     Ngõ 3 ô tô tránh   5.3m  Nam, Bắc  Nhà môi giới                        Nhà ở   ---       ---       12  Giấy CN QSDĐ - Sổ đỏ - Sổ hồng\n",
              "1       4.5 Tỷ - 50 Triệu/m²         Quận Tây Hồ, Thành phố Hà Nội     90 m²  Mặt phố - Mặt đường    ---       ---     Chính chủ                     Chung cư   ---         2        1  Giấy CN QSDĐ - Sổ đỏ - Sổ hồng\n",
              "2       1.4 Tỷ - 14 Triệu/m²      Thành phố Bảo Lộc, Tỉnh Lâm Đồng    100 m²     Ngõ 3 ô tô tránh     5m  Đông Bắc  Nhà môi giới  Đất - Đất nền - Nhà như đất   ---       ---      ---  Giấy CN QSDĐ - Sổ đỏ - Sổ hồng\n",
              "3  390 Triệu - 1.96 Triệu/m²   Huyện Củ Chi, Thành phố Hồ Chí Minh  198.7 m²           Ngõ 1 ô tô  12.9m       Tây  Nhà môi giới  Đất - Đất nền - Nhà như đất   ---       ---      ---  Giấy CN QSDĐ - Sổ đỏ - Sổ hồng\n",
              "4     21.5 Tỷ - 3.5 Triệu/m²  Huyện Cần Giờ, Thành phố Hồ Chí Minh  6,142 m²   Ngõ 4 ô tô trở lên    46m  Đông Nam  Nhà môi giới            Bất động sản khác   ---       ---      ---  Giấy CN QSDĐ - Sổ đỏ - Sổ hồng"
            ]
          },
          "metadata": {
            "tags": []
          },
          "execution_count": 73
        }
      ]
    },
    {
      "cell_type": "code",
      "metadata": {
        "id": "KZBEt0D6I2sh"
      },
      "source": [
        "# url = f'https://meeyland.com/mua-ban-nha-dat/chinh-chu-cat-lo-sau-penstudio-90m2-tai-699-lac-long-quan-tay-ho-ha-noi-1624002772850'\n",
        "# print(url)\n",
        "# html_text = requests.get(url).text\n",
        "# tree = BeautifulSoup(html_text, 'html.parser')\n",
        "# items = tree.find_all('li', {'class':'item'})\n",
        "# # more_info = [items[i].find('span',{'class':'attribute-info'}) for i in range(6,11, 2)]\n",
        "# more_info = ['---']*4\n",
        "\n",
        "# a = 'd'\n",
        "# for i in items:\n",
        "#     l = i.text\n",
        "#     if 'Số phòng ngủ' in l and '---' not in l:\n",
        "#         more_info[2] = re.findall(r'\\d+', l)[0]\n",
        "#     if 'Số phòng tắm' in l and '---' not in l:\n",
        "#         more_info[1] = re.findall(r'\\d+', l)[0]\n",
        "#     if 'Tầng thứ' in l and '---' not in l:\n",
        "#         # print(l)\n",
        "#         more_info[0] = re.findall(r'\\d+', l)[0]\n",
        "#     if 'Giấy tờ pháp lý' in l:\n",
        "#         print(l)\n",
        "#         more_info[3] = l.split('\\n')[2]\n",
        "        \n",
        "# print(more_info)"
      ],
      "id": "KZBEt0D6I2sh",
      "execution_count": 2,
      "outputs": []
    },
    {
      "cell_type": "code",
      "metadata": {
        "colab": {
          "base_uri": "https://localhost:8080/",
          "height": 35
        },
        "id": "XnfZlxLJLItT",
        "outputId": "9af95dd7-8182-4cda-a72b-445481af7fdb"
      },
      "source": [
        "a.split('\\n')[2]"
      ],
      "id": "XnfZlxLJLItT",
      "execution_count": 58,
      "outputs": [
        {
          "output_type": "execute_result",
          "data": {
            "application/vnd.google.colaboratory.intrinsic+json": {
              "type": "string"
            },
            "text/plain": [
              "'Giấy CN QSDĐ - Sổ đỏ - Sổ hồng'"
            ]
          },
          "metadata": {
            "tags": []
          },
          "execution_count": 58
        }
      ]
    },
    {
      "cell_type": "code",
      "metadata": {
        "id": "yYeNlvjtUmwU"
      },
      "source": [
        ""
      ],
      "id": "yYeNlvjtUmwU",
      "execution_count": null,
      "outputs": []
    }
  ]
}