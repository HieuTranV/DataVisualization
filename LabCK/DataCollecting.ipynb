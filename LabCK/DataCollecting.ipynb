{
  "nbformat": 4,
  "nbformat_minor": 5,
  "metadata": {
    "kernelspec": {
      "display_name": "Python 3",
      "language": "python",
      "name": "python3"
    },
    "language_info": {
      "codemirror_mode": {
        "name": "ipython",
        "version": 3
      },
      "file_extension": ".py",
      "mimetype": "text/x-python",
      "name": "python",
      "nbconvert_exporter": "python",
      "pygments_lexer": "ipython3",
      "version": "3.8.5"
    },
    "colab": {
      "name": "DataCollecting.ipynb",
      "provenance": []
    }
  },
  "cells": [
    {
      "cell_type": "code",
      "metadata": {
        "id": "6ddeb334-e66e-48aa-8c6f-a76126e620e2"
      },
      "source": [
        "import requests\n",
        "from bs4 import BeautifulSoup\n",
        "import json\n",
        "import csv\n",
        "import pandas as pd"
      ],
      "id": "6ddeb334-e66e-48aa-8c6f-a76126e620e2",
      "execution_count": 1,
      "outputs": []
    },
    {
      "cell_type": "code",
      "metadata": {
        "id": "03d8ae53-35f4-492c-a2fb-ae3ea42d0039",
        "colab": {
          "base_uri": "https://localhost:8080/"
        },
        "outputId": "8cf719d5-5a6d-429b-919c-5bc577f8d847"
      },
      "source": [
        "file_name = 'data.csv'\n",
        "headers = ['Price', 'Location', 'Area', 'Street', 'Facade', 'Direction', 'Object', 'Type']\n",
        "f = open(file_name, \"w\")   \n",
        "f.write('\\t'.join(headers))\n",
        "f.write('\\n')"
      ],
      "id": "03d8ae53-35f4-492c-a2fb-ae3ea42d0039",
      "execution_count": 2,
      "outputs": [
        {
          "output_type": "execute_result",
          "data": {
            "text/plain": [
              "1"
            ]
          },
          "metadata": {
            "tags": []
          },
          "execution_count": 2
        }
      ]
    },
    {
      "cell_type": "code",
      "metadata": {
        "id": "0ff71cfc-ca4f-4520-a293-efdd9b520faf"
      },
      "source": [
        "def get_info(html_text):\n",
        "    info = []\n",
        "    price = html_text.find('div', {'class':'article-price'}).string.strip('\\n         ')\n",
        "    location = html_text.find('div', {'class':'article-info-location'}).string.strip('\\n         ')\n",
        "    details = results[0].find_all('div', {'class':'col-6'})\n",
        "    details = [detail.text.strip('\\n\\n               ').replace('---', '') for detail in details]\n",
        "    info.append(price)\n",
        "    info.append(location)\n",
        "    info.extend(details)\n",
        "    return info\n",
        "\n",
        "page = 1\n",
        "while True:\n",
        "    print(page)\n",
        "    try:\n",
        "        url = f'https://meeyland.com/mua-ban-nha-dat/page-{page}'\n",
        "        print(url)\n",
        "        html_text = requests.get(url).text\n",
        "        tree = BeautifulSoup(html_text, 'html.parser')\n",
        "        results = tree.find_all('div', {'class':'col-sm-6 col-md-4'})\n",
        "        info = get_info(results[0])\n",
        "        info = '\\t'.join(info)\n",
        "        f.write(info+'\\n')\n",
        "        if page > 92001:\n",
        "            break\n",
        "        page += 1\n",
        "    except Exception as e:\n",
        "        print(f'Error: {e}')\n",
        "        break\n",
        "\n",
        "    \n"
      ],
      "id": "0ff71cfc-ca4f-4520-a293-efdd9b520faf",
      "execution_count": null,
      "outputs": []
    },
    {
      "cell_type": "code",
      "metadata": {
        "id": "35df31ca-e169-44b5-95ea-353be59f2f17"
      },
      "source": [
        "f.close()"
      ],
      "id": "35df31ca-e169-44b5-95ea-353be59f2f17",
      "execution_count": null,
      "outputs": []
    }
  ]
}