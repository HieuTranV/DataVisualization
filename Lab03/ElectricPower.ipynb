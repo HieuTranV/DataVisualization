{
 "cells": [
  {
   "cell_type": "code",
   "execution_count": 1,
   "metadata": {},
   "outputs": [],
   "source": [
    "import pandas as pd\n",
    "import numpy as np\n",
    "import matplotlib.pyplot as plt\n",
    "import re\n",
    "import warnings\n",
    "import math\n",
    "warnings.filterwarnings(\"ignore\")\n",
    "%matplotlib inline\n"
   ]
  },
  {
   "cell_type": "markdown",
   "metadata": {},
   "source": [
    "### Read all dataset"
   ]
  },
  {
   "cell_type": "code",
   "execution_count": 2,
   "metadata": {},
   "outputs": [],
   "source": [
    "!unzip ./data/household_power_consumption.zip"
   ]
  },
  {
   "cell_type": "code",
   "execution_count": 3,
   "metadata": {},
   "outputs": [
    {
     "data": {
      "text/html": [
       "<div>\n",
       "<style scoped>\n",
       "    .dataframe tbody tr th:only-of-type {\n",
       "        vertical-align: middle;\n",
       "    }\n",
       "\n",
       "    .dataframe tbody tr th {\n",
       "        vertical-align: top;\n",
       "    }\n",
       "\n",
       "    .dataframe thead th {\n",
       "        text-align: right;\n",
       "    }\n",
       "</style>\n",
       "<table border=\"1\" class=\"dataframe\">\n",
       "  <thead>\n",
       "    <tr style=\"text-align: right;\">\n",
       "      <th></th>\n",
       "      <th>Date</th>\n",
       "      <th>Time</th>\n",
       "      <th>Global_active_power</th>\n",
       "      <th>Global_reactive_power</th>\n",
       "      <th>Voltage</th>\n",
       "      <th>Global_intensity</th>\n",
       "      <th>Sub_metering_1</th>\n",
       "      <th>Sub_metering_2</th>\n",
       "      <th>Sub_metering_3</th>\n",
       "    </tr>\n",
       "  </thead>\n",
       "  <tbody>\n",
       "    <tr>\n",
       "      <th>1366847</th>\n",
       "      <td>22/7/2009</td>\n",
       "      <td>22:11:00</td>\n",
       "      <td>0.962</td>\n",
       "      <td>0.216</td>\n",
       "      <td>240.570</td>\n",
       "      <td>4.000</td>\n",
       "      <td>0.000</td>\n",
       "      <td>0.000</td>\n",
       "      <td>1.0</td>\n",
       "    </tr>\n",
       "    <tr>\n",
       "      <th>1548069</th>\n",
       "      <td>25/11/2009</td>\n",
       "      <td>18:33:00</td>\n",
       "      <td>2.450</td>\n",
       "      <td>0.000</td>\n",
       "      <td>238.170</td>\n",
       "      <td>10.200</td>\n",
       "      <td>0.000</td>\n",
       "      <td>0.000</td>\n",
       "      <td>0.0</td>\n",
       "    </tr>\n",
       "    <tr>\n",
       "      <th>36316</th>\n",
       "      <td>10/1/2007</td>\n",
       "      <td>22:40:00</td>\n",
       "      <td>0.708</td>\n",
       "      <td>0.156</td>\n",
       "      <td>243.170</td>\n",
       "      <td>3.000</td>\n",
       "      <td>0.000</td>\n",
       "      <td>0.000</td>\n",
       "      <td>0.0</td>\n",
       "    </tr>\n",
       "    <tr>\n",
       "      <th>1616555</th>\n",
       "      <td>12/1/2010</td>\n",
       "      <td>07:59:00</td>\n",
       "      <td>1.734</td>\n",
       "      <td>0.072</td>\n",
       "      <td>241.100</td>\n",
       "      <td>7.200</td>\n",
       "      <td>0.000</td>\n",
       "      <td>0.000</td>\n",
       "      <td>18.0</td>\n",
       "    </tr>\n",
       "  </tbody>\n",
       "</table>\n",
       "</div>"
      ],
      "text/plain": [
       "               Date      Time Global_active_power Global_reactive_power  \\\n",
       "1366847   22/7/2009  22:11:00               0.962                 0.216   \n",
       "1548069  25/11/2009  18:33:00               2.450                 0.000   \n",
       "36316     10/1/2007  22:40:00               0.708                 0.156   \n",
       "1616555   12/1/2010  07:59:00               1.734                 0.072   \n",
       "\n",
       "         Voltage Global_intensity Sub_metering_1 Sub_metering_2  \\\n",
       "1366847  240.570            4.000          0.000          0.000   \n",
       "1548069  238.170           10.200          0.000          0.000   \n",
       "36316    243.170            3.000          0.000          0.000   \n",
       "1616555  241.100            7.200          0.000          0.000   \n",
       "\n",
       "         Sub_metering_3  \n",
       "1366847             1.0  \n",
       "1548069             0.0  \n",
       "36316               0.0  \n",
       "1616555            18.0  "
      ]
     },
     "execution_count": 3,
     "metadata": {},
     "output_type": "execute_result"
    }
   ],
   "source": [
    "file_path = \"./data/household_power_consumption.txt\"\n",
    "all_data = pd.read_csv(file_path, delimiter=\";\", low_memory=False)\n",
    "all_data.sample(4)"
   ]
  },
  {
   "cell_type": "markdown",
   "metadata": {},
   "source": [
    "### Filter data on Feb 1, 2007 and Feb 2, 2007"
   ]
  },
  {
   "cell_type": "code",
   "execution_count": 4,
   "metadata": {},
   "outputs": [
    {
     "data": {
      "text/html": [
       "<div>\n",
       "<style scoped>\n",
       "    .dataframe tbody tr th:only-of-type {\n",
       "        vertical-align: middle;\n",
       "    }\n",
       "\n",
       "    .dataframe tbody tr th {\n",
       "        vertical-align: top;\n",
       "    }\n",
       "\n",
       "    .dataframe thead th {\n",
       "        text-align: right;\n",
       "    }\n",
       "</style>\n",
       "<table border=\"1\" class=\"dataframe\">\n",
       "  <thead>\n",
       "    <tr style=\"text-align: right;\">\n",
       "      <th></th>\n",
       "      <th>Date</th>\n",
       "      <th>Time</th>\n",
       "      <th>Global_active_power</th>\n",
       "      <th>Global_reactive_power</th>\n",
       "      <th>Voltage</th>\n",
       "      <th>Global_intensity</th>\n",
       "      <th>Sub_metering_1</th>\n",
       "      <th>Sub_metering_2</th>\n",
       "      <th>Sub_metering_3</th>\n",
       "    </tr>\n",
       "  </thead>\n",
       "  <tbody>\n",
       "    <tr>\n",
       "      <th>66636</th>\n",
       "      <td>1/2/2007</td>\n",
       "      <td>00:00:00</td>\n",
       "      <td>0.326</td>\n",
       "      <td>0.128</td>\n",
       "      <td>243.150</td>\n",
       "      <td>1.400</td>\n",
       "      <td>0.000</td>\n",
       "      <td>0.000</td>\n",
       "      <td>0.0</td>\n",
       "    </tr>\n",
       "    <tr>\n",
       "      <th>66637</th>\n",
       "      <td>1/2/2007</td>\n",
       "      <td>00:01:00</td>\n",
       "      <td>0.326</td>\n",
       "      <td>0.130</td>\n",
       "      <td>243.320</td>\n",
       "      <td>1.400</td>\n",
       "      <td>0.000</td>\n",
       "      <td>0.000</td>\n",
       "      <td>0.0</td>\n",
       "    </tr>\n",
       "    <tr>\n",
       "      <th>66638</th>\n",
       "      <td>1/2/2007</td>\n",
       "      <td>00:02:00</td>\n",
       "      <td>0.324</td>\n",
       "      <td>0.132</td>\n",
       "      <td>243.510</td>\n",
       "      <td>1.400</td>\n",
       "      <td>0.000</td>\n",
       "      <td>0.000</td>\n",
       "      <td>0.0</td>\n",
       "    </tr>\n",
       "    <tr>\n",
       "      <th>66639</th>\n",
       "      <td>1/2/2007</td>\n",
       "      <td>00:03:00</td>\n",
       "      <td>0.324</td>\n",
       "      <td>0.134</td>\n",
       "      <td>243.900</td>\n",
       "      <td>1.400</td>\n",
       "      <td>0.000</td>\n",
       "      <td>0.000</td>\n",
       "      <td>0.0</td>\n",
       "    </tr>\n",
       "    <tr>\n",
       "      <th>66640</th>\n",
       "      <td>1/2/2007</td>\n",
       "      <td>00:04:00</td>\n",
       "      <td>0.322</td>\n",
       "      <td>0.130</td>\n",
       "      <td>243.160</td>\n",
       "      <td>1.400</td>\n",
       "      <td>0.000</td>\n",
       "      <td>0.000</td>\n",
       "      <td>0.0</td>\n",
       "    </tr>\n",
       "    <tr>\n",
       "      <th>...</th>\n",
       "      <td>...</td>\n",
       "      <td>...</td>\n",
       "      <td>...</td>\n",
       "      <td>...</td>\n",
       "      <td>...</td>\n",
       "      <td>...</td>\n",
       "      <td>...</td>\n",
       "      <td>...</td>\n",
       "      <td>...</td>\n",
       "    </tr>\n",
       "    <tr>\n",
       "      <th>69511</th>\n",
       "      <td>2/2/2007</td>\n",
       "      <td>23:55:00</td>\n",
       "      <td>3.696</td>\n",
       "      <td>0.226</td>\n",
       "      <td>240.900</td>\n",
       "      <td>15.200</td>\n",
       "      <td>0.000</td>\n",
       "      <td>1.000</td>\n",
       "      <td>18.0</td>\n",
       "    </tr>\n",
       "    <tr>\n",
       "      <th>69512</th>\n",
       "      <td>2/2/2007</td>\n",
       "      <td>23:56:00</td>\n",
       "      <td>3.698</td>\n",
       "      <td>0.226</td>\n",
       "      <td>241.020</td>\n",
       "      <td>15.200</td>\n",
       "      <td>0.000</td>\n",
       "      <td>2.000</td>\n",
       "      <td>18.0</td>\n",
       "    </tr>\n",
       "    <tr>\n",
       "      <th>69513</th>\n",
       "      <td>2/2/2007</td>\n",
       "      <td>23:57:00</td>\n",
       "      <td>3.684</td>\n",
       "      <td>0.224</td>\n",
       "      <td>240.480</td>\n",
       "      <td>15.200</td>\n",
       "      <td>0.000</td>\n",
       "      <td>1.000</td>\n",
       "      <td>18.0</td>\n",
       "    </tr>\n",
       "    <tr>\n",
       "      <th>69514</th>\n",
       "      <td>2/2/2007</td>\n",
       "      <td>23:58:00</td>\n",
       "      <td>3.658</td>\n",
       "      <td>0.220</td>\n",
       "      <td>239.610</td>\n",
       "      <td>15.200</td>\n",
       "      <td>0.000</td>\n",
       "      <td>1.000</td>\n",
       "      <td>17.0</td>\n",
       "    </tr>\n",
       "    <tr>\n",
       "      <th>69515</th>\n",
       "      <td>2/2/2007</td>\n",
       "      <td>23:59:00</td>\n",
       "      <td>3.680</td>\n",
       "      <td>0.224</td>\n",
       "      <td>240.370</td>\n",
       "      <td>15.200</td>\n",
       "      <td>0.000</td>\n",
       "      <td>2.000</td>\n",
       "      <td>18.0</td>\n",
       "    </tr>\n",
       "  </tbody>\n",
       "</table>\n",
       "<p>2880 rows × 9 columns</p>\n",
       "</div>"
      ],
      "text/plain": [
       "           Date      Time Global_active_power Global_reactive_power  Voltage  \\\n",
       "66636  1/2/2007  00:00:00               0.326                 0.128  243.150   \n",
       "66637  1/2/2007  00:01:00               0.326                 0.130  243.320   \n",
       "66638  1/2/2007  00:02:00               0.324                 0.132  243.510   \n",
       "66639  1/2/2007  00:03:00               0.324                 0.134  243.900   \n",
       "66640  1/2/2007  00:04:00               0.322                 0.130  243.160   \n",
       "...         ...       ...                 ...                   ...      ...   \n",
       "69511  2/2/2007  23:55:00               3.696                 0.226  240.900   \n",
       "69512  2/2/2007  23:56:00               3.698                 0.226  241.020   \n",
       "69513  2/2/2007  23:57:00               3.684                 0.224  240.480   \n",
       "69514  2/2/2007  23:58:00               3.658                 0.220  239.610   \n",
       "69515  2/2/2007  23:59:00               3.680                 0.224  240.370   \n",
       "\n",
       "      Global_intensity Sub_metering_1 Sub_metering_2  Sub_metering_3  \n",
       "66636            1.400          0.000          0.000             0.0  \n",
       "66637            1.400          0.000          0.000             0.0  \n",
       "66638            1.400          0.000          0.000             0.0  \n",
       "66639            1.400          0.000          0.000             0.0  \n",
       "66640            1.400          0.000          0.000             0.0  \n",
       "...                ...            ...            ...             ...  \n",
       "69511           15.200          0.000          1.000            18.0  \n",
       "69512           15.200          0.000          2.000            18.0  \n",
       "69513           15.200          0.000          1.000            18.0  \n",
       "69514           15.200          0.000          1.000            17.0  \n",
       "69515           15.200          0.000          2.000            18.0  \n",
       "\n",
       "[2880 rows x 9 columns]"
      ]
     },
     "execution_count": 4,
     "metadata": {},
     "output_type": "execute_result"
    }
   ],
   "source": [
    "data = all_data.loc[(all_data.Date == '2/2/2007') | (all_data.Date == '1/2/2007')]\n",
    "data"
   ]
  },
  {
   "cell_type": "markdown",
   "metadata": {},
   "source": [
    "## Preprocessing data"
   ]
  },
  {
   "cell_type": "code",
   "execution_count": 5,
   "metadata": {
    "jupyter": {
     "source_hidden": true
    }
   },
   "outputs": [],
   "source": [
    "# print(f\"Dataset has\" , data.shape[0], \"samples and \", data.shape[1], \"attributes\")"
   ]
  },
  {
   "cell_type": "code",
   "execution_count": 6,
   "metadata": {},
   "outputs": [
    {
     "name": "stdout",
     "output_type": "stream",
     "text": [
      "<class 'pandas.core.frame.DataFrame'>\n",
      "Int64Index: 2880 entries, 66636 to 69515\n",
      "Data columns (total 9 columns):\n",
      " #   Column                 Non-Null Count  Dtype  \n",
      "---  ------                 --------------  -----  \n",
      " 0   Date                   2880 non-null   object \n",
      " 1   Time                   2880 non-null   object \n",
      " 2   Global_active_power    2880 non-null   object \n",
      " 3   Global_reactive_power  2880 non-null   object \n",
      " 4   Voltage                2880 non-null   object \n",
      " 5   Global_intensity       2880 non-null   object \n",
      " 6   Sub_metering_1         2880 non-null   object \n",
      " 7   Sub_metering_2         2880 non-null   object \n",
      " 8   Sub_metering_3         2880 non-null   float64\n",
      "dtypes: float64(1), object(8)\n",
      "memory usage: 225.0+ KB\n"
     ]
    }
   ],
   "source": [
    "data.info()"
   ]
  },
  {
   "cell_type": "code",
   "execution_count": 7,
   "metadata": {},
   "outputs": [
    {
     "data": {
      "text/plain": [
       "(2880, 9)"
      ]
     },
     "execution_count": 7,
     "metadata": {},
     "output_type": "execute_result"
    }
   ],
   "source": [
    "data.shape"
   ]
  },
  {
   "cell_type": "markdown",
   "metadata": {},
   "source": [
    "$\\rightarrow$ Dataset has 2880 samples and  9 attributes"
   ]
  },
  {
   "cell_type": "code",
   "execution_count": 8,
   "metadata": {},
   "outputs": [
    {
     "data": {
      "text/plain": [
       "0"
      ]
     },
     "execution_count": 8,
     "metadata": {},
     "output_type": "execute_result"
    }
   ],
   "source": [
    "data.duplicated().sum()"
   ]
  },
  {
   "cell_type": "markdown",
   "metadata": {},
   "source": [
    "$\\rightarrow$ There is no duplicated samples"
   ]
  },
  {
   "cell_type": "code",
   "execution_count": 9,
   "metadata": {},
   "outputs": [
    {
     "data": {
      "text/plain": [
       "Date                      object\n",
       "Time                      object\n",
       "Global_active_power       object\n",
       "Global_reactive_power     object\n",
       "Voltage                   object\n",
       "Global_intensity          object\n",
       "Sub_metering_1            object\n",
       "Sub_metering_2            object\n",
       "Sub_metering_3           float64\n",
       "dtype: object"
      ]
     },
     "execution_count": 9,
     "metadata": {},
     "output_type": "execute_result"
    }
   ],
   "source": [
    "data.dtypes"
   ]
  },
  {
   "cell_type": "markdown",
   "metadata": {},
   "source": [
    "Create a new attribute \"Datetime\" from \"Date\" and \"Time\", convert them to datatime64 type and drop \"Date\" and \"Time\""
   ]
  },
  {
   "cell_type": "code",
   "execution_count": 10,
   "metadata": {},
   "outputs": [],
   "source": [
    "data[\"Datetime\"] = pd.to_datetime(data[\"Date\"]+ \" \"+ data[\"Time\"])"
   ]
  },
  {
   "cell_type": "code",
   "execution_count": 11,
   "metadata": {},
   "outputs": [],
   "source": [
    "data.drop([\"Date\", \"Time\"], axis = 1, inplace=True)"
   ]
  },
  {
   "cell_type": "markdown",
   "metadata": {},
   "source": [
    "Convert Global_active_power, Global_reactive_power, Voltage, Global_intensity, Sub_metering_1, Sub_metering_3, Sub_metering_2 to float"
   ]
  },
  {
   "cell_type": "code",
   "execution_count": 12,
   "metadata": {},
   "outputs": [
    {
     "data": {
      "text/plain": [
       "['Global_intensity',\n",
       " 'Global_active_power',\n",
       " 'Voltage',\n",
       " 'Sub_metering_1',\n",
       " 'Sub_metering_2',\n",
       " 'Sub_metering_3',\n",
       " 'Global_reactive_power']"
      ]
     },
     "execution_count": 12,
     "metadata": {},
     "output_type": "execute_result"
    }
   ],
   "source": [
    "numeric_features = list(set(data.columns) - set([\"Datetime\"]))\n",
    "numeric_features"
   ]
  },
  {
   "cell_type": "code",
   "execution_count": 13,
   "metadata": {},
   "outputs": [],
   "source": [
    "data[numeric_features]=data[numeric_features].apply(lambda x:pd.to_numeric(x, downcast='float', errors='ignore'))"
   ]
  },
  {
   "cell_type": "markdown",
   "metadata": {},
   "source": [
    "    Check again"
   ]
  },
  {
   "cell_type": "code",
   "execution_count": 14,
   "metadata": {},
   "outputs": [
    {
     "data": {
      "text/plain": [
       "Global_active_power             float32\n",
       "Global_reactive_power           float32\n",
       "Voltage                         float32\n",
       "Global_intensity                float32\n",
       "Sub_metering_1                  float32\n",
       "Sub_metering_2                  float32\n",
       "Sub_metering_3                  float32\n",
       "Datetime                 datetime64[ns]\n",
       "dtype: object"
      ]
     },
     "execution_count": 14,
     "metadata": {},
     "output_type": "execute_result"
    }
   ],
   "source": [
    "data.dtypes"
   ]
  },
  {
   "cell_type": "code",
   "execution_count": 15,
   "metadata": {},
   "outputs": [
    {
     "data": {
      "text/html": [
       "<div>\n",
       "<style scoped>\n",
       "    .dataframe tbody tr th:only-of-type {\n",
       "        vertical-align: middle;\n",
       "    }\n",
       "\n",
       "    .dataframe tbody tr th {\n",
       "        vertical-align: top;\n",
       "    }\n",
       "\n",
       "    .dataframe thead th {\n",
       "        text-align: right;\n",
       "    }\n",
       "</style>\n",
       "<table border=\"1\" class=\"dataframe\">\n",
       "  <thead>\n",
       "    <tr style=\"text-align: right;\">\n",
       "      <th></th>\n",
       "      <th>Global_active_power</th>\n",
       "      <th>Global_reactive_power</th>\n",
       "      <th>Voltage</th>\n",
       "      <th>Global_intensity</th>\n",
       "      <th>Sub_metering_1</th>\n",
       "      <th>Sub_metering_2</th>\n",
       "      <th>Sub_metering_3</th>\n",
       "      <th>Datetime</th>\n",
       "    </tr>\n",
       "  </thead>\n",
       "  <tbody>\n",
       "    <tr>\n",
       "      <th>66636</th>\n",
       "      <td>0.326</td>\n",
       "      <td>0.128</td>\n",
       "      <td>243.149994</td>\n",
       "      <td>1.4</td>\n",
       "      <td>0.0</td>\n",
       "      <td>0.0</td>\n",
       "      <td>0.0</td>\n",
       "      <td>2007-01-02 00:00:00</td>\n",
       "    </tr>\n",
       "    <tr>\n",
       "      <th>66637</th>\n",
       "      <td>0.326</td>\n",
       "      <td>0.130</td>\n",
       "      <td>243.320007</td>\n",
       "      <td>1.4</td>\n",
       "      <td>0.0</td>\n",
       "      <td>0.0</td>\n",
       "      <td>0.0</td>\n",
       "      <td>2007-01-02 00:01:00</td>\n",
       "    </tr>\n",
       "    <tr>\n",
       "      <th>66638</th>\n",
       "      <td>0.324</td>\n",
       "      <td>0.132</td>\n",
       "      <td>243.509995</td>\n",
       "      <td>1.4</td>\n",
       "      <td>0.0</td>\n",
       "      <td>0.0</td>\n",
       "      <td>0.0</td>\n",
       "      <td>2007-01-02 00:02:00</td>\n",
       "    </tr>\n",
       "    <tr>\n",
       "      <th>66639</th>\n",
       "      <td>0.324</td>\n",
       "      <td>0.134</td>\n",
       "      <td>243.899994</td>\n",
       "      <td>1.4</td>\n",
       "      <td>0.0</td>\n",
       "      <td>0.0</td>\n",
       "      <td>0.0</td>\n",
       "      <td>2007-01-02 00:03:00</td>\n",
       "    </tr>\n",
       "    <tr>\n",
       "      <th>66640</th>\n",
       "      <td>0.322</td>\n",
       "      <td>0.130</td>\n",
       "      <td>243.160004</td>\n",
       "      <td>1.4</td>\n",
       "      <td>0.0</td>\n",
       "      <td>0.0</td>\n",
       "      <td>0.0</td>\n",
       "      <td>2007-01-02 00:04:00</td>\n",
       "    </tr>\n",
       "    <tr>\n",
       "      <th>...</th>\n",
       "      <td>...</td>\n",
       "      <td>...</td>\n",
       "      <td>...</td>\n",
       "      <td>...</td>\n",
       "      <td>...</td>\n",
       "      <td>...</td>\n",
       "      <td>...</td>\n",
       "      <td>...</td>\n",
       "    </tr>\n",
       "    <tr>\n",
       "      <th>69511</th>\n",
       "      <td>3.696</td>\n",
       "      <td>0.226</td>\n",
       "      <td>240.899994</td>\n",
       "      <td>15.2</td>\n",
       "      <td>0.0</td>\n",
       "      <td>1.0</td>\n",
       "      <td>18.0</td>\n",
       "      <td>2007-02-02 23:55:00</td>\n",
       "    </tr>\n",
       "    <tr>\n",
       "      <th>69512</th>\n",
       "      <td>3.698</td>\n",
       "      <td>0.226</td>\n",
       "      <td>241.020004</td>\n",
       "      <td>15.2</td>\n",
       "      <td>0.0</td>\n",
       "      <td>2.0</td>\n",
       "      <td>18.0</td>\n",
       "      <td>2007-02-02 23:56:00</td>\n",
       "    </tr>\n",
       "    <tr>\n",
       "      <th>69513</th>\n",
       "      <td>3.684</td>\n",
       "      <td>0.224</td>\n",
       "      <td>240.479996</td>\n",
       "      <td>15.2</td>\n",
       "      <td>0.0</td>\n",
       "      <td>1.0</td>\n",
       "      <td>18.0</td>\n",
       "      <td>2007-02-02 23:57:00</td>\n",
       "    </tr>\n",
       "    <tr>\n",
       "      <th>69514</th>\n",
       "      <td>3.658</td>\n",
       "      <td>0.220</td>\n",
       "      <td>239.610001</td>\n",
       "      <td>15.2</td>\n",
       "      <td>0.0</td>\n",
       "      <td>1.0</td>\n",
       "      <td>17.0</td>\n",
       "      <td>2007-02-02 23:58:00</td>\n",
       "    </tr>\n",
       "    <tr>\n",
       "      <th>69515</th>\n",
       "      <td>3.680</td>\n",
       "      <td>0.224</td>\n",
       "      <td>240.369995</td>\n",
       "      <td>15.2</td>\n",
       "      <td>0.0</td>\n",
       "      <td>2.0</td>\n",
       "      <td>18.0</td>\n",
       "      <td>2007-02-02 23:59:00</td>\n",
       "    </tr>\n",
       "  </tbody>\n",
       "</table>\n",
       "<p>2880 rows × 8 columns</p>\n",
       "</div>"
      ],
      "text/plain": [
       "       Global_active_power  Global_reactive_power     Voltage  \\\n",
       "66636                0.326                  0.128  243.149994   \n",
       "66637                0.326                  0.130  243.320007   \n",
       "66638                0.324                  0.132  243.509995   \n",
       "66639                0.324                  0.134  243.899994   \n",
       "66640                0.322                  0.130  243.160004   \n",
       "...                    ...                    ...         ...   \n",
       "69511                3.696                  0.226  240.899994   \n",
       "69512                3.698                  0.226  241.020004   \n",
       "69513                3.684                  0.224  240.479996   \n",
       "69514                3.658                  0.220  239.610001   \n",
       "69515                3.680                  0.224  240.369995   \n",
       "\n",
       "       Global_intensity  Sub_metering_1  Sub_metering_2  Sub_metering_3  \\\n",
       "66636               1.4             0.0             0.0             0.0   \n",
       "66637               1.4             0.0             0.0             0.0   \n",
       "66638               1.4             0.0             0.0             0.0   \n",
       "66639               1.4             0.0             0.0             0.0   \n",
       "66640               1.4             0.0             0.0             0.0   \n",
       "...                 ...             ...             ...             ...   \n",
       "69511              15.2             0.0             1.0            18.0   \n",
       "69512              15.2             0.0             2.0            18.0   \n",
       "69513              15.2             0.0             1.0            18.0   \n",
       "69514              15.2             0.0             1.0            17.0   \n",
       "69515              15.2             0.0             2.0            18.0   \n",
       "\n",
       "                 Datetime  \n",
       "66636 2007-01-02 00:00:00  \n",
       "66637 2007-01-02 00:01:00  \n",
       "66638 2007-01-02 00:02:00  \n",
       "66639 2007-01-02 00:03:00  \n",
       "66640 2007-01-02 00:04:00  \n",
       "...                   ...  \n",
       "69511 2007-02-02 23:55:00  \n",
       "69512 2007-02-02 23:56:00  \n",
       "69513 2007-02-02 23:57:00  \n",
       "69514 2007-02-02 23:58:00  \n",
       "69515 2007-02-02 23:59:00  \n",
       "\n",
       "[2880 rows x 8 columns]"
      ]
     },
     "execution_count": 15,
     "metadata": {},
     "output_type": "execute_result"
    }
   ],
   "source": [
    "data"
   ]
  },
  {
   "cell_type": "code",
   "execution_count": 16,
   "metadata": {},
   "outputs": [
    {
     "data": {
      "text/plain": [
       "Global_active_power      0\n",
       "Global_reactive_power    0\n",
       "Voltage                  0\n",
       "Global_intensity         0\n",
       "Sub_metering_1           0\n",
       "Sub_metering_2           0\n",
       "Sub_metering_3           0\n",
       "Datetime                 0\n",
       "dtype: int64"
      ]
     },
     "execution_count": 16,
     "metadata": {},
     "output_type": "execute_result"
    }
   ],
   "source": [
    "def count_specical_value(Sr, key=\"?\"):\n",
    "    dict_values = Sr.value_counts()\n",
    "    if key in dict_values.keys():\n",
    "        return dict_values[key]\n",
    "    return 0\n",
    "\n",
    "data.agg(count_specical_value)"
   ]
  },
  {
   "cell_type": "markdown",
   "metadata": {},
   "source": [
    "$\\rightarrow$ There is no missing values in dataset"
   ]
  },
  {
   "cell_type": "markdown",
   "metadata": {},
   "source": [
    "### Some properties of dataset"
   ]
  },
  {
   "cell_type": "code",
   "execution_count": 17,
   "metadata": {},
   "outputs": [
    {
     "data": {
      "text/html": [
       "<div>\n",
       "<style scoped>\n",
       "    .dataframe tbody tr th:only-of-type {\n",
       "        vertical-align: middle;\n",
       "    }\n",
       "\n",
       "    .dataframe tbody tr th {\n",
       "        vertical-align: top;\n",
       "    }\n",
       "\n",
       "    .dataframe thead th {\n",
       "        text-align: right;\n",
       "    }\n",
       "</style>\n",
       "<table border=\"1\" class=\"dataframe\">\n",
       "  <thead>\n",
       "    <tr style=\"text-align: right;\">\n",
       "      <th></th>\n",
       "      <th>Global_active_power</th>\n",
       "      <th>Global_reactive_power</th>\n",
       "      <th>Voltage</th>\n",
       "      <th>Global_intensity</th>\n",
       "      <th>Sub_metering_1</th>\n",
       "      <th>Sub_metering_2</th>\n",
       "      <th>Sub_metering_3</th>\n",
       "    </tr>\n",
       "  </thead>\n",
       "  <tbody>\n",
       "    <tr>\n",
       "      <th>count</th>\n",
       "      <td>2880.000000</td>\n",
       "      <td>2880.000000</td>\n",
       "      <td>2880.000000</td>\n",
       "      <td>2880.000000</td>\n",
       "      <td>2880.000000</td>\n",
       "      <td>2880.000000</td>\n",
       "      <td>2880.000000</td>\n",
       "    </tr>\n",
       "    <tr>\n",
       "      <th>mean</th>\n",
       "      <td>1.212672</td>\n",
       "      <td>0.100627</td>\n",
       "      <td>240.363235</td>\n",
       "      <td>5.101670</td>\n",
       "      <td>0.406250</td>\n",
       "      <td>0.257639</td>\n",
       "      <td>8.501041</td>\n",
       "    </tr>\n",
       "    <tr>\n",
       "      <th>std</th>\n",
       "      <td>1.051519</td>\n",
       "      <td>0.093197</td>\n",
       "      <td>2.494776</td>\n",
       "      <td>4.395392</td>\n",
       "      <td>3.654418</td>\n",
       "      <td>0.554390</td>\n",
       "      <td>8.730844</td>\n",
       "    </tr>\n",
       "    <tr>\n",
       "      <th>min</th>\n",
       "      <td>0.220000</td>\n",
       "      <td>0.000000</td>\n",
       "      <td>233.050003</td>\n",
       "      <td>1.000000</td>\n",
       "      <td>0.000000</td>\n",
       "      <td>0.000000</td>\n",
       "      <td>0.000000</td>\n",
       "    </tr>\n",
       "    <tr>\n",
       "      <th>25%</th>\n",
       "      <td>0.320000</td>\n",
       "      <td>0.000000</td>\n",
       "      <td>238.437500</td>\n",
       "      <td>1.400000</td>\n",
       "      <td>0.000000</td>\n",
       "      <td>0.000000</td>\n",
       "      <td>0.000000</td>\n",
       "    </tr>\n",
       "    <tr>\n",
       "      <th>50%</th>\n",
       "      <td>1.060000</td>\n",
       "      <td>0.104000</td>\n",
       "      <td>240.555000</td>\n",
       "      <td>4.600000</td>\n",
       "      <td>0.000000</td>\n",
       "      <td>0.000000</td>\n",
       "      <td>0.000000</td>\n",
       "    </tr>\n",
       "    <tr>\n",
       "      <th>75%</th>\n",
       "      <td>1.688500</td>\n",
       "      <td>0.144000</td>\n",
       "      <td>242.440002</td>\n",
       "      <td>7.000000</td>\n",
       "      <td>0.000000</td>\n",
       "      <td>0.000000</td>\n",
       "      <td>17.000000</td>\n",
       "    </tr>\n",
       "    <tr>\n",
       "      <th>max</th>\n",
       "      <td>7.482000</td>\n",
       "      <td>0.500000</td>\n",
       "      <td>246.570007</td>\n",
       "      <td>32.000000</td>\n",
       "      <td>38.000000</td>\n",
       "      <td>2.000000</td>\n",
       "      <td>19.000000</td>\n",
       "    </tr>\n",
       "  </tbody>\n",
       "</table>\n",
       "</div>"
      ],
      "text/plain": [
       "       Global_active_power  Global_reactive_power      Voltage  \\\n",
       "count          2880.000000            2880.000000  2880.000000   \n",
       "mean              1.212672               0.100627   240.363235   \n",
       "std               1.051519               0.093197     2.494776   \n",
       "min               0.220000               0.000000   233.050003   \n",
       "25%               0.320000               0.000000   238.437500   \n",
       "50%               1.060000               0.104000   240.555000   \n",
       "75%               1.688500               0.144000   242.440002   \n",
       "max               7.482000               0.500000   246.570007   \n",
       "\n",
       "       Global_intensity  Sub_metering_1  Sub_metering_2  Sub_metering_3  \n",
       "count       2880.000000     2880.000000     2880.000000     2880.000000  \n",
       "mean           5.101670        0.406250        0.257639        8.501041  \n",
       "std            4.395392        3.654418        0.554390        8.730844  \n",
       "min            1.000000        0.000000        0.000000        0.000000  \n",
       "25%            1.400000        0.000000        0.000000        0.000000  \n",
       "50%            4.600000        0.000000        0.000000        0.000000  \n",
       "75%            7.000000        0.000000        0.000000       17.000000  \n",
       "max           32.000000       38.000000        2.000000       19.000000  "
      ]
     },
     "execution_count": 17,
     "metadata": {},
     "output_type": "execute_result"
    }
   ],
   "source": [
    "data.describe()"
   ]
  },
  {
   "cell_type": "code",
   "execution_count": 18,
   "metadata": {},
   "outputs": [],
   "source": [
    "# data.hist(figsize=(20, 15));"
   ]
  },
  {
   "cell_type": "code",
   "execution_count": 19,
   "metadata": {},
   "outputs": [
    {
     "data": {
      "text/html": [
       "<div>\n",
       "<style scoped>\n",
       "    .dataframe tbody tr th:only-of-type {\n",
       "        vertical-align: middle;\n",
       "    }\n",
       "\n",
       "    .dataframe tbody tr th {\n",
       "        vertical-align: top;\n",
       "    }\n",
       "\n",
       "    .dataframe thead th {\n",
       "        text-align: right;\n",
       "    }\n",
       "</style>\n",
       "<table border=\"1\" class=\"dataframe\">\n",
       "  <thead>\n",
       "    <tr style=\"text-align: right;\">\n",
       "      <th></th>\n",
       "      <th>Global_active_power</th>\n",
       "      <th>Global_reactive_power</th>\n",
       "      <th>Voltage</th>\n",
       "      <th>Global_intensity</th>\n",
       "      <th>Sub_metering_1</th>\n",
       "      <th>Sub_metering_2</th>\n",
       "      <th>Sub_metering_3</th>\n",
       "    </tr>\n",
       "    <tr>\n",
       "      <th>Datetime</th>\n",
       "      <th></th>\n",
       "      <th></th>\n",
       "      <th></th>\n",
       "      <th></th>\n",
       "      <th></th>\n",
       "      <th></th>\n",
       "      <th></th>\n",
       "    </tr>\n",
       "  </thead>\n",
       "  <tbody>\n",
       "    <tr>\n",
       "      <th>Tue Jan  2 00:00:00 2007</th>\n",
       "      <td>0.326</td>\n",
       "      <td>0.128</td>\n",
       "      <td>243.149994</td>\n",
       "      <td>1.4</td>\n",
       "      <td>0.0</td>\n",
       "      <td>0.0</td>\n",
       "      <td>0.0</td>\n",
       "    </tr>\n",
       "    <tr>\n",
       "      <th>Tue Jan  2 00:01:00 2007</th>\n",
       "      <td>0.326</td>\n",
       "      <td>0.130</td>\n",
       "      <td>243.320007</td>\n",
       "      <td>1.4</td>\n",
       "      <td>0.0</td>\n",
       "      <td>0.0</td>\n",
       "      <td>0.0</td>\n",
       "    </tr>\n",
       "    <tr>\n",
       "      <th>Tue Jan  2 00:02:00 2007</th>\n",
       "      <td>0.324</td>\n",
       "      <td>0.132</td>\n",
       "      <td>243.509995</td>\n",
       "      <td>1.4</td>\n",
       "      <td>0.0</td>\n",
       "      <td>0.0</td>\n",
       "      <td>0.0</td>\n",
       "    </tr>\n",
       "    <tr>\n",
       "      <th>Tue Jan  2 00:03:00 2007</th>\n",
       "      <td>0.324</td>\n",
       "      <td>0.134</td>\n",
       "      <td>243.899994</td>\n",
       "      <td>1.4</td>\n",
       "      <td>0.0</td>\n",
       "      <td>0.0</td>\n",
       "      <td>0.0</td>\n",
       "    </tr>\n",
       "    <tr>\n",
       "      <th>Tue Jan  2 00:04:00 2007</th>\n",
       "      <td>0.322</td>\n",
       "      <td>0.130</td>\n",
       "      <td>243.160004</td>\n",
       "      <td>1.4</td>\n",
       "      <td>0.0</td>\n",
       "      <td>0.0</td>\n",
       "      <td>0.0</td>\n",
       "    </tr>\n",
       "    <tr>\n",
       "      <th>...</th>\n",
       "      <td>...</td>\n",
       "      <td>...</td>\n",
       "      <td>...</td>\n",
       "      <td>...</td>\n",
       "      <td>...</td>\n",
       "      <td>...</td>\n",
       "      <td>...</td>\n",
       "    </tr>\n",
       "    <tr>\n",
       "      <th>Fri Feb  2 23:55:00 2007</th>\n",
       "      <td>3.696</td>\n",
       "      <td>0.226</td>\n",
       "      <td>240.899994</td>\n",
       "      <td>15.2</td>\n",
       "      <td>0.0</td>\n",
       "      <td>1.0</td>\n",
       "      <td>18.0</td>\n",
       "    </tr>\n",
       "    <tr>\n",
       "      <th>Fri Feb  2 23:56:00 2007</th>\n",
       "      <td>3.698</td>\n",
       "      <td>0.226</td>\n",
       "      <td>241.020004</td>\n",
       "      <td>15.2</td>\n",
       "      <td>0.0</td>\n",
       "      <td>2.0</td>\n",
       "      <td>18.0</td>\n",
       "    </tr>\n",
       "    <tr>\n",
       "      <th>Fri Feb  2 23:57:00 2007</th>\n",
       "      <td>3.684</td>\n",
       "      <td>0.224</td>\n",
       "      <td>240.479996</td>\n",
       "      <td>15.2</td>\n",
       "      <td>0.0</td>\n",
       "      <td>1.0</td>\n",
       "      <td>18.0</td>\n",
       "    </tr>\n",
       "    <tr>\n",
       "      <th>Fri Feb  2 23:58:00 2007</th>\n",
       "      <td>3.658</td>\n",
       "      <td>0.220</td>\n",
       "      <td>239.610001</td>\n",
       "      <td>15.2</td>\n",
       "      <td>0.0</td>\n",
       "      <td>1.0</td>\n",
       "      <td>17.0</td>\n",
       "    </tr>\n",
       "    <tr>\n",
       "      <th>Fri Feb  2 23:59:00 2007</th>\n",
       "      <td>3.680</td>\n",
       "      <td>0.224</td>\n",
       "      <td>240.369995</td>\n",
       "      <td>15.2</td>\n",
       "      <td>0.0</td>\n",
       "      <td>2.0</td>\n",
       "      <td>18.0</td>\n",
       "    </tr>\n",
       "  </tbody>\n",
       "</table>\n",
       "<p>2880 rows × 7 columns</p>\n",
       "</div>"
      ],
      "text/plain": [
       "                          Global_active_power  Global_reactive_power  \\\n",
       "Datetime                                                               \n",
       "Tue Jan  2 00:00:00 2007                0.326                  0.128   \n",
       "Tue Jan  2 00:01:00 2007                0.326                  0.130   \n",
       "Tue Jan  2 00:02:00 2007                0.324                  0.132   \n",
       "Tue Jan  2 00:03:00 2007                0.324                  0.134   \n",
       "Tue Jan  2 00:04:00 2007                0.322                  0.130   \n",
       "...                                       ...                    ...   \n",
       "Fri Feb  2 23:55:00 2007                3.696                  0.226   \n",
       "Fri Feb  2 23:56:00 2007                3.698                  0.226   \n",
       "Fri Feb  2 23:57:00 2007                3.684                  0.224   \n",
       "Fri Feb  2 23:58:00 2007                3.658                  0.220   \n",
       "Fri Feb  2 23:59:00 2007                3.680                  0.224   \n",
       "\n",
       "                             Voltage  Global_intensity  Sub_metering_1  \\\n",
       "Datetime                                                                 \n",
       "Tue Jan  2 00:00:00 2007  243.149994               1.4             0.0   \n",
       "Tue Jan  2 00:01:00 2007  243.320007               1.4             0.0   \n",
       "Tue Jan  2 00:02:00 2007  243.509995               1.4             0.0   \n",
       "Tue Jan  2 00:03:00 2007  243.899994               1.4             0.0   \n",
       "Tue Jan  2 00:04:00 2007  243.160004               1.4             0.0   \n",
       "...                              ...               ...             ...   \n",
       "Fri Feb  2 23:55:00 2007  240.899994              15.2             0.0   \n",
       "Fri Feb  2 23:56:00 2007  241.020004              15.2             0.0   \n",
       "Fri Feb  2 23:57:00 2007  240.479996              15.2             0.0   \n",
       "Fri Feb  2 23:58:00 2007  239.610001              15.2             0.0   \n",
       "Fri Feb  2 23:59:00 2007  240.369995              15.2             0.0   \n",
       "\n",
       "                          Sub_metering_2  Sub_metering_3  \n",
       "Datetime                                                  \n",
       "Tue Jan  2 00:00:00 2007             0.0             0.0  \n",
       "Tue Jan  2 00:01:00 2007             0.0             0.0  \n",
       "Tue Jan  2 00:02:00 2007             0.0             0.0  \n",
       "Tue Jan  2 00:03:00 2007             0.0             0.0  \n",
       "Tue Jan  2 00:04:00 2007             0.0             0.0  \n",
       "...                                  ...             ...  \n",
       "Fri Feb  2 23:55:00 2007             1.0            18.0  \n",
       "Fri Feb  2 23:56:00 2007             2.0            18.0  \n",
       "Fri Feb  2 23:57:00 2007             1.0            18.0  \n",
       "Fri Feb  2 23:58:00 2007             1.0            17.0  \n",
       "Fri Feb  2 23:59:00 2007             2.0            18.0  \n",
       "\n",
       "[2880 rows x 7 columns]"
      ]
     },
     "execution_count": 19,
     "metadata": {},
     "output_type": "execute_result"
    }
   ],
   "source": [
    "data.Datetime = data.Datetime.map(lambda x:x.ctime())\n",
    "data.set_index(\"Datetime\", inplace=True)\n",
    "data"
   ]
  },
  {
   "cell_type": "code",
   "execution_count": 28,
   "metadata": {},
   "outputs": [
    {
     "data": {
      "image/png": "[encoded data removed]",
      "text/plain": [
       "<Figure size 576x576 with 1 Axes>"
      ]
     },
     "metadata": {
      "needs_background": "light"
     },
     "output_type": "display_data"
    }
   ],
   "source": [
    "def plot1():\n",
    "    fig, ax= plt.subplots(figsize=(8, 8))\n",
    "    ax.spines[\"right\"].set_visible(False)\n",
    "    ax.spines[\"top\"].set_visible(False)\n",
    "    bins =np.arange(0, max(data[\"Global_active_power\"]), 0.5)\n",
    "    ax.hist(data[\"Global_active_power\"], color='red', edgecolor='black', bins=bins)\n",
    "    plt.xticks(list(range(0, int(max(data[\"Global_active_power\"])), 2)))\n",
    "    plt.ylabel(\"Frequency\")\n",
    "    plt.xlabel(\"Global Active Power (kilowatts)\")\n",
    "    plt.title(\"Global Active Power\")\n",
    "    fig.savefig('./images/plot1.png', bbox_inches='tight')\n",
    "    plt.show()\n",
    "\n",
    "plot1();"
   ]
  },
  {
   "cell_type": "code",
   "execution_count": 29,
   "metadata": {},
   "outputs": [
    {
     "data": {
      "image/png": "[encoded data removed]",
      "text/plain": [
       "<Figure size 648x504 with 1 Axes>"
      ]
     },
     "metadata": {
      "needs_background": "light"
     },
     "output_type": "display_data"
    }
   ],
   "source": [
    "def plot2():\n",
    "    fig, ax= plt.subplots(figsize=(9, 7))\n",
    "    ax.plot(data[\"Global_active_power\"], color='black')\n",
    "    ticks = [\"Thu\", \"Fri\", \"Sat\"]\n",
    "    yticks = list(range(0, int(max(data[\"Global_active_power\"])), 2))    \n",
    "    plt.xticks([0, data.shape[0]/2, data.shape[0]], ticks)\n",
    "    plt.yticks(yticks)\n",
    "    plt.ylabel(\"Global Active Power (kilowatts)\")\n",
    "    fig.savefig('./images/plot2.png', bbox_inches='tight')\n",
    "    plt.show()\n",
    "\n",
    "plot2();"
   ]
  },
  {
   "cell_type": "code",
   "execution_count": 24,
   "metadata": {},
   "outputs": [
    {
     "data": {
      "image/png": "[encoded data removed]",
      "text/plain": [
       "<Figure size 576x504 with 1 Axes>"
      ]
     },
     "metadata": {
      "needs_background": "light"
     },
     "output_type": "display_data"
    }
   ],
   "source": [
    "def plot3():\n",
    "    fig, ax =plt.subplots(figsize=(8,7))\n",
    "    ax.plot(data[\"Sub_metering_1\"], color='black')\n",
    "    ax.plot(data[\"Sub_metering_2\"], color='red')\n",
    "    ax.plot(data[\"Sub_metering_3\"], color='blue')\n",
    "    ax.legend([\"Sub_metering_1\", \"Sub_metering_2\", \"Sub_metering_3\"])\n",
    "    ticks = [\"Thu\", \"Fri\", \"Sat\"]\n",
    "    yticks = list(range(0, int((max(data[\"Sub_metering_1\"]) )), 10))\n",
    "    plt.yticks(yticks)\n",
    "    plt.xticks([0, data.shape[0]/2, data.shape[0]], ticks)\n",
    "    plt.ylabel(\"Energy sub metering\")\n",
    "    fig.savefig('./images/plot3.png', bbox_inches='tight')\n",
    "    plt.show()\n",
    "    \n",
    "plot3()"
   ]
  },
  {
   "cell_type": "code",
   "execution_count": 30,
   "metadata": {},
   "outputs": [
    {
     "data": {
      "image/png": "[encoded data removed]",
      "text/plain": [
       "<Figure size 1080x720 with 4 Axes>"
      ]
     },
     "metadata": {
      "needs_background": "light"
     },
     "output_type": "display_data"
    }
   ],
   "source": [
    "def plot4():\n",
    "    fig = plt.figure(figsize=(15,10))\n",
    "\n",
    "    ax1 = fig.add_subplot(221)\n",
    "    ax1.plot(data[\"Global_active_power\"], color='black')\n",
    "    ticks = [\"Thu\", \"Fri\", \"Sat\"]\n",
    "    plt.xticks([0, data.shape[0]/2, data.shape[0]], ticks)\n",
    "    plt.yticks(list(range(0, int(max(data[\"Global_active_power\"])), 2)))\n",
    "    plt.ylabel(\"Global Active Power\")\n",
    "\n",
    "    ax2=fig.add_subplot(222)\n",
    "    ax2.plot(data[\"Voltage\"], color='black')\n",
    "    yticks=list(range(int(data[\"Voltage\"].min()+1), int(data[\"Voltage\"].max()+1), 4))\n",
    "    ticks = [\"Thu\", \"Fri\", \"Sat\"]\n",
    "    plt.xticks([0, data.shape[0]/2, data.shape[0]], ticks)\n",
    "    plt.yticks(yticks)\n",
    "    plt.xlabel(\"datetime\")\n",
    "    plt.ylabel(\"Voltage\")\n",
    "\n",
    "    ax3=fig.add_subplot(223)\n",
    "    ax3.plot(data[\"Sub_metering_1\"], color='black')\n",
    "    ax3.plot(data[\"Sub_metering_2\"], color='red')\n",
    "    ax3.plot(data[\"Sub_metering_3\"], color='blue')\n",
    "    ax3.legend([\"Sub_metering_1\", \"Sub_metering_2\", \"Sub_metering_3\"])\n",
    "    yticks = list(range(0, int((max(data[\"Sub_metering_1\"]) )), 10))\n",
    "    ticks = [\"Thu\", \"Fri\", \"Sat\"]\n",
    "    plt.yticks(yticks)\n",
    "    plt.xticks([0, data.shape[0]/2, data.shape[0]], ticks)\n",
    "    plt.ylabel(\"Energy sub metering\")\n",
    "\n",
    "    ax4=fig.add_subplot(224)\n",
    "    ax4.plot(data[\"Global_reactive_power\"], color='black')\n",
    "    ticks = [\"Thu\", \"Fri\", \"Sat\"]\n",
    "    plt.xticks([0, data.shape[0]/2, data.shape[0]], ticks)\n",
    "    plt.ylabel(\"Global Rective Power\")\n",
    "    plt.xlabel(\"datetime\")\n",
    "    fig.savefig('./images/plot4.png', bbox_inches='tight')\n",
    "    fig.show();\n",
    "    \n",
    "plot4()"
   ]
  },
  {
   "cell_type": "code",
   "execution_count": null,
   "metadata": {},
   "outputs": [],
   "source": []
  }
 ],
 "metadata": {
  "kernelspec": {
   "display_name": "Python 3",
   "language": "python",
   "name": "python3"
  },
  "language_info": {
   "codemirror_mode": {
    "name": "ipython",
    "version": 3
   },
   "file_extension": ".py",
   "mimetype": "text/x-python",
   "name": "python",
   "nbconvert_exporter": "python",
   "pygments_lexer": "ipython3",
   "version": "3.8.5"
  }
 },
 "nbformat": 4,
 "nbformat_minor": 4
}
