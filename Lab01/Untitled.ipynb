{
 "cells": [
  {
   "cell_type": "code",
   "execution_count": 1,
   "metadata": {},
   "outputs": [],
   "source": [
    "from bs4 import BeautifulSoup\n",
    "import requests\n",
    "import json\n",
    "import time\n",
    "import datetime as dt\n",
    "import re\n",
    "import pandas as pd\n",
    "import numpy as np\n",
    "from selenium import webdriver\n",
    "from selenium.webdriver.common.keys import Keys\n"
   ]
  },
  {
   "cell_type": "code",
   "execution_count": 2,
   "metadata": {},
   "outputs": [],
   "source": [
    "url = f\"https://www.worldometers.info/coronavirus/#countries\"\n"
   ]
  },
  {
   "cell_type": "code",
   "execution_count": 3,
   "metadata": {},
   "outputs": [
    {
     "data": {
      "text/plain": [
       "datetime.date(2021, 5, 11)"
      ]
     },
     "execution_count": 3,
     "metadata": {},
     "output_type": "execute_result"
    }
   ],
   "source": [
    "date = dt.date(2021, 5,11)\n",
    "date"
   ]
  },
  {
   "cell_type": "code",
   "execution_count": 4,
   "metadata": {},
   "outputs": [],
   "source": [
    "driver = webdriver.Chrome()\n",
    "driver.get(url)\n",
    "driver.find_element_by_id(\"nav-yesterday-tab\").click()"
   ]
  },
  {
   "cell_type": "code",
   "execution_count": 5,
   "metadata": {},
   "outputs": [],
   "source": [
    "html_text = requests.get(url).text\n",
    "tree = BeautifulSoup(html_text, 'html.parser')\n",
    "theads= tree.find('tr').text.replace(\"/\\n\", \"/\").replace(\"\\xa0\", \" \").replace(\"\\n\\n\", \"\\n\").split(\"\\n\")\n",
    "labels = theads[2:-3] + [\"Date\"]"
   ]
  },
  {
   "cell_type": "code",
   "execution_count": 6,
   "metadata": {},
   "outputs": [
    {
     "data": {
      "text/html": [
       "<div>\n",
       "<style scoped>\n",
       "    .dataframe tbody tr th:only-of-type {\n",
       "        vertical-align: middle;\n",
       "    }\n",
       "\n",
       "    .dataframe tbody tr th {\n",
       "        vertical-align: top;\n",
       "    }\n",
       "\n",
       "    .dataframe thead th {\n",
       "        text-align: right;\n",
       "    }\n",
       "</style>\n",
       "<table border=\"1\" class=\"dataframe\">\n",
       "  <thead>\n",
       "    <tr style=\"text-align: right;\">\n",
       "      <th></th>\n",
       "      <th>Country,Other</th>\n",
       "      <th>TotalCases</th>\n",
       "      <th>NewCases</th>\n",
       "      <th>TotalDeaths</th>\n",
       "      <th>NewDeaths</th>\n",
       "      <th>TotalRecovered</th>\n",
       "      <th>NewRecovered</th>\n",
       "      <th>ActiveCases</th>\n",
       "      <th>Serious,Critical</th>\n",
       "      <th>Tot Cases/1M pop</th>\n",
       "      <th>Deaths/1M pop</th>\n",
       "      <th>TotalTests</th>\n",
       "      <th>Tests/1M pop</th>\n",
       "      <th>Population</th>\n",
       "      <th>Date</th>\n",
       "      <th>1 Caseevery X ppl1 Deathevery X ppl1 Testevery X ppl</th>\n",
       "      <th>Continent</th>\n",
       "      <th>New Cases/1M pop</th>\n",
       "    </tr>\n",
       "  </thead>\n",
       "  <tbody>\n",
       "    <tr>\n",
       "      <th>7530</th>\n",
       "      <td>Micronesia</td>\n",
       "      <td>1</td>\n",
       "      <td>NaN</td>\n",
       "      <td></td>\n",
       "      <td>NaN</td>\n",
       "      <td>1</td>\n",
       "      <td>NaN</td>\n",
       "      <td>0</td>\n",
       "      <td>NaN</td>\n",
       "      <td>9</td>\n",
       "      <td>NaN</td>\n",
       "      <td>NaN</td>\n",
       "      <td>NaN</td>\n",
       "      <td>116,073</td>\n",
       "      <td>2021-05-17</td>\n",
       "      <td>116,073</td>\n",
       "      <td>Australia/Oceania</td>\n",
       "      <td>NaN</td>\n",
       "    </tr>\n",
       "    <tr>\n",
       "      <th>7531</th>\n",
       "      <td>China</td>\n",
       "      <td>90,872</td>\n",
       "      <td>+25</td>\n",
       "      <td>4,636</td>\n",
       "      <td>NaN</td>\n",
       "      <td>85,945</td>\n",
       "      <td>+25</td>\n",
       "      <td>291</td>\n",
       "      <td>1</td>\n",
       "      <td>63</td>\n",
       "      <td>3</td>\n",
       "      <td>160,000,000</td>\n",
       "      <td>111,163</td>\n",
       "      <td>1,439,323,776</td>\n",
       "      <td>2021-05-17</td>\n",
       "      <td>15,839310,4679</td>\n",
       "      <td>Asia</td>\n",
       "      <td>0.02</td>\n",
       "    </tr>\n",
       "  </tbody>\n",
       "</table>\n",
       "</div>"
      ],
      "text/plain": [
       "     Country,Other TotalCases NewCases TotalDeaths NewDeaths TotalRecovered  \\\n",
       "7530    Micronesia          1      NaN                   NaN              1   \n",
       "7531         China     90,872      +25      4,636        NaN         85,945   \n",
       "\n",
       "     NewRecovered ActiveCases Serious,Critical Tot Cases/1M pop Deaths/1M pop  \\\n",
       "7530          NaN           0              NaN                9           NaN   \n",
       "7531          +25         291                1               63             3   \n",
       "\n",
       "       TotalTests Tests/1M pop      Population        Date  \\\n",
       "7530          NaN          NaN        116,073   2021-05-17   \n",
       "7531  160,000,000      111,163  1,439,323,776   2021-05-17   \n",
       "\n",
       "     1 Caseevery X ppl1 Deathevery X ppl1 Testevery X ppl          Continent  \\\n",
       "7530                                            116,073    Australia/Oceania   \n",
       "7531                                     15,839310,4679                 Asia   \n",
       "\n",
       "     New Cases/1M pop  \n",
       "7530              NaN  \n",
       "7531             0.02  "
      ]
     },
     "execution_count": 6,
     "metadata": {},
     "output_type": "execute_result"
    }
   ],
   "source": [
    "data = pd.read_csv(\"../data/coronavirus/coronavirus0517.csv\")\n",
    "data.tail(2)"
   ]
  },
  {
   "cell_type": "code",
   "execution_count": 7,
   "metadata": {},
   "outputs": [],
   "source": [
    "tr_all = tree.find('tbody').find_all('tr')[8:]\n",
    "for tr in tr_all:\n",
    "    temp = tr.text.split(\"\\n\")[2:-3]\n",
    "    new_row = np.array(temp+[date])\n",
    "#     print(new_row)\n",
    "    data = data.append(pd.Series(new_row, index = labels), ignore_index=\"True\")\n"
   ]
  },
  {
   "cell_type": "code",
   "execution_count": 8,
   "metadata": {},
   "outputs": [],
   "source": [
    "data.to_csv(\"../data/coronavirus/coronavirus0520.csv\", index=False)"
   ]
  },
  {
   "cell_type": "code",
   "execution_count": 9,
   "metadata": {},
   "outputs": [],
   "source": [
    "driver.close()"
   ]
  },
  {
   "cell_type": "code",
   "execution_count": null,
   "metadata": {},
   "outputs": [],
   "source": []
  }
 ],
 "metadata": {
  "kernelspec": {
   "display_name": "Python 3",
   "language": "python",
   "name": "python3"
  },
  "language_info": {
   "codemirror_mode": {
    "name": "ipython",
    "version": 3
   },
   "file_extension": ".py",
   "mimetype": "text/x-python",
   "name": "python",
   "nbconvert_exporter": "python",
   "pygments_lexer": "ipython3",
   "version": "3.8.5"
  }
 },
 "nbformat": 4,
 "nbformat_minor": 4
}
